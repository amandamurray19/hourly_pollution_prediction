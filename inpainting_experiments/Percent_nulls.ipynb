{
 "cells": [
  {
   "cell_type": "code",
   "execution_count": 3,
   "id": "ada92303-052e-43e8-b104-c5cbc779042b",
   "metadata": {
    "tags": []
   },
   "outputs": [],
   "source": [
    "import os\n",
    "import pandas as pd\n",
    "from bbox import * \n",
    "import numpy as np\n",
    "import matplotlib.pyplot as plt\n",
    "import xarray as xr\n",
    "#for image inpainting\n",
    "from skimage import data\n",
    "from skimage.morphology import disk, binary_dilation\n",
    "from skimage.restoration import inpaint\n",
    "#convert the NO2 units to 10^15 molec/cm^2"
   ]
  },
  {
   "cell_type": "code",
   "execution_count": 16,
   "id": "b7d03afc-4547-465d-9dcc-7dc2ed591b63",
   "metadata": {
    "tags": []
   },
   "outputs": [],
   "source": [
    "##################################\n",
    "# Create DataFrames\n",
    "##################################\n",
    "\n",
    "files = os.listdir('../../data/tempo_data/')\n",
    "files = [file for file in files if file[:23]=='satellite_null_data_raw']\n",
    "\n",
    "df = pd.DataFrame()\n",
    "for file in files:\n",
    "    temp = pd.read_csv('../../data/tempo_data/'+file)\n",
    "    df = pd.concat([df, temp])\n",
    "    \n",
    "full_size = 240*530\n",
    "df['percent_null'] =round((df['null_count']/full_size)*100, 2)    \n",
    "df = df[df['percent_null']<100]\n",
    "df['hour'] = pd.to_datetime(df['time']).dt.floor('h')\n",
    "df=df.drop_duplicates()\n",
    "\n",
    "df_nonull = df[df['null_count']==0]\n",
    "df_less1 = df[(df['null_count']!=0)&(df['percent_null']<=1)]\n",
    "df_less5 = df[(df['percent_null']>1)&(df['percent_null']<=5)]\n",
    "df_less10 = df[(df['percent_null']>5)&(df['percent_null']<=10)]\n",
    "df_less25 = df[(df['percent_null']>10)&(df['percent_null']<=25)]\n",
    "df_less50 = df[(df['percent_null']>25)&(df['percent_null']<=50)]\n",
    "df_larger50 = df[(df['percent_null']>50)]"
   ]
  },
  {
   "cell_type": "code",
   "execution_count": 20,
   "id": "cf601b32-ef58-467c-a506-3310454c86f0",
   "metadata": {
    "tags": []
   },
   "outputs": [
    {
     "data": {
      "text/plain": [
       "0.3580701754385965"
      ]
     },
     "execution_count": 20,
     "metadata": {},
     "output_type": "execute_result"
    }
   ],
   "source": [
    "check = df[df['null_count']==0]\n",
    "len(check['hour'].unique())/len(df['hour'].unique())"
   ]
  },
  {
   "cell_type": "code",
   "execution_count": 29,
   "id": "37b225e9-ebcb-44c5-9746-7dcdc2d39a0b",
   "metadata": {
    "tags": []
   },
   "outputs": [
    {
     "data": {
      "text/plain": [
       "0.9398245614035088"
      ]
     },
     "execution_count": 29,
     "metadata": {},
     "output_type": "execute_result"
    }
   ],
   "source": [
    "check = df[df['percent_null']<=50]\n",
    "len(check['hour'].unique())/len(df['hour'].unique())"
   ]
  },
  {
   "cell_type": "code",
   "execution_count": 9,
   "id": "e8f58dbc-c990-40e2-a796-8dabbfd5a7e3",
   "metadata": {
    "tags": []
   },
   "outputs": [
    {
     "data": {
      "text/plain": [
       "2041"
      ]
     },
     "execution_count": 9,
     "metadata": {},
     "output_type": "execute_result"
    }
   ],
   "source": [
    "len(df_nonull['hour'].unique())"
   ]
  },
  {
   "cell_type": "code",
   "execution_count": 10,
   "id": "baec8c6e-35c0-42d5-afae-7fe00a0501df",
   "metadata": {
    "tags": []
   },
   "outputs": [
    {
     "data": {
      "text/plain": [
       "2161"
      ]
     },
     "execution_count": 10,
     "metadata": {},
     "output_type": "execute_result"
    }
   ],
   "source": [
    "len(df_less1['hour'].unique())"
   ]
  },
  {
   "cell_type": "code",
   "execution_count": 11,
   "id": "db787c7c-95c5-4b87-b8c6-ff7839600648",
   "metadata": {
    "tags": []
   },
   "outputs": [
    {
     "data": {
      "text/plain": [
       "618"
      ]
     },
     "execution_count": 11,
     "metadata": {},
     "output_type": "execute_result"
    }
   ],
   "source": [
    "len(df_less5['hour'].unique())"
   ]
  },
  {
   "cell_type": "code",
   "execution_count": 12,
   "id": "fda78cda-80c0-45bf-840b-c62183ef2609",
   "metadata": {
    "tags": []
   },
   "outputs": [
    {
     "data": {
      "text/plain": [
       "199"
      ]
     },
     "execution_count": 12,
     "metadata": {},
     "output_type": "execute_result"
    }
   ],
   "source": [
    "len(df_less10['hour'].unique())"
   ]
  },
  {
   "cell_type": "code",
   "execution_count": 13,
   "id": "0a0cc18b-a25f-42f0-b7ba-ae1338db057e",
   "metadata": {
    "tags": []
   },
   "outputs": [
    {
     "data": {
      "text/plain": [
       "277"
      ]
     },
     "execution_count": 13,
     "metadata": {},
     "output_type": "execute_result"
    }
   ],
   "source": [
    "len(df_less25['hour'].unique())"
   ]
  },
  {
   "cell_type": "code",
   "execution_count": 14,
   "id": "61ac1ff1-dbbe-46a2-ab07-6a29986adf5c",
   "metadata": {
    "tags": []
   },
   "outputs": [
    {
     "data": {
      "text/plain": [
       "337"
      ]
     },
     "execution_count": 14,
     "metadata": {},
     "output_type": "execute_result"
    }
   ],
   "source": [
    "len(df_less50['hour'].unique())"
   ]
  },
  {
   "cell_type": "code",
   "execution_count": 18,
   "id": "74ac99da-6412-41f5-bbfa-5e786eb5fbff",
   "metadata": {
    "tags": []
   },
   "outputs": [
    {
     "data": {
      "text/plain": [
       "534"
      ]
     },
     "execution_count": 18,
     "metadata": {},
     "output_type": "execute_result"
    }
   ],
   "source": [
    "len(df_larger50['hour'].unique())"
   ]
  }
 ],
 "metadata": {
  "environment": {
   "kernel": "ds_env",
   "name": "workbench-notebooks.m125",
   "type": "gcloud",
   "uri": "us-docker.pkg.dev/deeplearning-platform-release/gcr.io/workbench-notebooks:m125"
  },
  "kernelspec": {
   "display_name": "Python (ds_env) (Local)",
   "language": "python",
   "name": "ds_env"
  },
  "language_info": {
   "codemirror_mode": {
    "name": "ipython",
    "version": 3
   },
   "file_extension": ".py",
   "mimetype": "text/x-python",
   "name": "python",
   "nbconvert_exporter": "python",
   "pygments_lexer": "ipython3",
   "version": "3.11.10"
  }
 },
 "nbformat": 4,
 "nbformat_minor": 5
}
