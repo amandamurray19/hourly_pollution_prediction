{
 "cells": [
  {
   "cell_type": "code",
   "execution_count": 4,
   "id": "9bd64143-a72c-4f95-abd5-9d5dd9c3f254",
   "metadata": {
    "tags": []
   },
   "outputs": [],
   "source": [
    "import xarray as xr\n",
    "import pandas as pd\n",
    "import numpy as np\n",
    "from bbox import * \n",
    "\n",
    "lat_min = 28.6\n",
    "lat_max = 33.4\n",
    "lon_min = -98.9\n",
    "lon_max = -88.3\n"
   ]
  },
  {
   "cell_type": "code",
   "execution_count": 5,
   "id": "5613830b-3b91-4c82-b10a-f24286a8e0d8",
   "metadata": {
    "tags": []
   },
   "outputs": [],
   "source": [
    "new_lat_max = 33.39\n",
    "new_lon_max = -88.31"
   ]
  },
  {
   "cell_type": "code",
   "execution_count": 8,
   "id": "eebf4cdc-37b1-4143-a2ed-b33cb1c5cc7d",
   "metadata": {
    "tags": []
   },
   "outputs": [],
   "source": [
    "o3_hours = pd.read_csv(\"../../data/tempo_data/valid_o3_hours.csv\")\n",
    "o3_hours=list(o3_hours['time'])\n",
    "time_list = pd.to_datetime(o3_hours)\n",
    "unique_months = time_list.to_period('M').unique()"
   ]
  },
  {
   "cell_type": "code",
   "execution_count": 12,
   "id": "3e802899-e09a-4fd8-9a3c-a8a2e264b888",
   "metadata": {
    "tags": []
   },
   "outputs": [
    {
     "data": {
      "text/plain": [
       "PeriodIndex(['2023-08', '2023-09', '2023-10', '2023-11', '2023-12', '2024-01',\n",
       "             '2024-02', '2024-03', '2024-04', '2024-05', '2024-06', '2024-07',\n",
       "             '2024-08', '2024-09', '2024-10', '2024-11', '2024-12', '2025-01',\n",
       "             '2025-02', '2025-03', '2025-04', '2025-05'],\n",
       "            dtype='period[M]')"
      ]
     },
     "execution_count": 12,
     "metadata": {},
     "output_type": "execute_result"
    }
   ],
   "source": [
    "unique_months"
   ]
  },
  {
   "cell_type": "code",
   "execution_count": 11,
   "id": "9fca9383-a60a-4f62-bd8b-82cec952e41a",
   "metadata": {
    "tags": []
   },
   "outputs": [
    {
     "data": {
      "text/plain": [
       "PeriodIndex(['2025-05'], dtype='period[M]')"
      ]
     },
     "execution_count": 11,
     "metadata": {},
     "output_type": "execute_result"
    }
   ],
   "source": [
    "unique_months[-1:]"
   ]
  },
  {
   "cell_type": "code",
   "execution_count": 7,
   "id": "fd9ec9ec-8b76-4952-bb78-b2dd7a9abbf4",
   "metadata": {
    "tags": []
   },
   "outputs": [],
   "source": [
    "## CREATE y_sensor_o3 before running!"
   ]
  },
  {
   "cell_type": "code",
   "execution_count": 13,
   "id": "8d52c2f4-44e5-472c-ace7-c65883a3decb",
   "metadata": {
    "tags": []
   },
   "outputs": [
    {
     "name": "stdout",
     "output_type": "stream",
     "text": [
      "2025-05\n",
      "weather done\n",
      "halfway\n",
      "merge_done\n"
     ]
    }
   ],
   "source": [
    "for month in unique_months[-1:]:\n",
    "    month_str = str(month)\n",
    "    print(month_str)\n",
    "    tempo = xr.open_dataset(f'../../data/tempo_data/o3_monthly_files/tempo_o3_{month_str}.nc')\n",
    "    weather = xr.open_dataset(f'../../data/weather_data_samehr/weather_data_{month_str}.nc')\n",
    "    # tempo = tempo.rename({'latitude': 'lat', 'longitude': 'lon'})\n",
    "    # ✅ Rename latitude/longitude to lat/lon only if needed\n",
    "    rename_map = {}\n",
    "    if \"latitude\" in tempo.coords:\n",
    "        tempo = tempo.rename({'latitude':'lat'})\n",
    "    if \"longitude\" in tempo.coords:\n",
    "        tempo = tempo.rename({'longitude':'lon'})\n",
    "\n",
    "    tempo = tempo.sel(lat=slice(lat_min, new_lat_max), lon=slice(lon_min, new_lon_max))\n",
    "    new_names = {var: f\"{var}_tempo\" for var in tempo.data_vars}\n",
    "    tempo = tempo.rename(new_names)\n",
    "    month_ts = np.array(tempo['time'])\n",
    "    month_ts = np.array(list(set(list(month_ts))&set(list(np.array(weather['time'])))))\n",
    "    tempo = tempo.sel(time=month_ts)\n",
    "    tempo['lat'] = np.round(tempo['lat'].values, 3)\n",
    "    tempo['lon'] = np.round(tempo['lon'].values, 3)\n",
    "\n",
    "    # weather = xr.open_dataset(f'../../data/weather_data_samehr/weather_data_{month_str}.nc')\n",
    "    weather = weather.drop_vars(['UGRD', 'VGRD'])\n",
    "    weather = weather.sel(lat=slice(lat_min, new_lat_max), lon=slice(lon_min, new_lon_max))\n",
    "    new_names = {var: f\"{var}_weather\" for var in weather.data_vars}\n",
    "    weather = weather.rename(new_names)\n",
    "    month_ts = np.array(list(set(list(month_ts))&set(list(np.array(weather['time'])))))\n",
    "    weather = weather.sel(time=month_ts)\n",
    "    weather['lat'] = np.round(weather['lat'].values, 3)\n",
    "    weather['lon'] = np.round(weather['lon'].values, 3)\n",
    "    for var in weather.data_vars:\n",
    "        tempo[var] = weather[var]\n",
    "    del weather\n",
    "    print('weather done')\n",
    "\n",
    "    radiation = xr.open_dataset(f'../../data/weather_data_samehr/radiation_data_{month_str}.nc')\n",
    "    radiation = radiation.sel(lat=slice(lat_min, new_lat_max), lon=slice(lon_min, new_lon_max))\n",
    "    new_names = {var: f\"{var}_weather\" for var in radiation.data_vars}\n",
    "    radiation = radiation.rename(new_names)\n",
    "    radiation = radiation.sel(time=month_ts)\n",
    "    radiation['lat'] = np.round(radiation['lat'].values, 3)\n",
    "    radiation['lon'] = np.round(radiation['lon'].values, 3)\n",
    "    for var in radiation.data_vars:\n",
    "        tempo[var] = radiation[var]\n",
    "    del radiation\n",
    "\n",
    "    geos_cf = xr.open_dataset(f'../../data/geos_cf_data/geos_cf_{month_str}.nc')\n",
    "    geos_cf = geos_cf.drop_vars('TROPCOL_NO2')\n",
    "    geos_cf = geos_cf.sel(lat=slice(lat_min, new_lat_max), lon=slice(lon_min, new_lon_max))\n",
    "    new_names = {var: f\"{var}_geoscf\" for var in geos_cf.data_vars}\n",
    "    geos_cf = geos_cf.rename(new_names)\n",
    "    geos_cf = geos_cf.sel(time=month_ts)\n",
    "    geos_cf['lat'] = np.round(geos_cf['lat'].values, 3)\n",
    "    geos_cf['lon'] = np.round(geos_cf['lon'].values, 3)\n",
    "    for var in geos_cf.data_vars:\n",
    "        tempo[var] = geos_cf[var]\n",
    "    del geos_cf\n",
    "\n",
    "    NDVI = xr.open_dataset(f'../../data/NDVI_data/NDVI_{month_str}.nc')\n",
    "    NDVI=NDVI[['NDVI']]\n",
    "    NDVI['NDVI']=NDVI['NDVI'].fillna(-1)\n",
    "    NDVI = NDVI.sel(lat=slice(lat_min, new_lat_max), lon=slice(lon_min, new_lon_max))\n",
    "    NDVI_times = np.array(NDVI['time'])\n",
    "    NDVI_list = []\n",
    "    for i in range(len(NDVI_times)):\n",
    "        NDVI_temp=NDVI['NDVI'].isel(time=i)\n",
    "        min_time = NDVI_times[i]\n",
    "        if i+1<len(NDVI_times):\n",
    "            max_time = NDVI_times[i+1]\n",
    "            filtered_month_ts = month_ts[(month_ts >= min_time) & (month_ts <= max_time)]\n",
    "        else:\n",
    "            filtered_month_ts = month_ts[(month_ts >= min_time)]\n",
    "        NDVI_temp = NDVI_temp.expand_dims({'time': filtered_month_ts})\n",
    "        NDVI_temp = NDVI_temp.to_dataset(name='NDVI')\n",
    "        NDVI_list.append(NDVI_temp)\n",
    "    NDVI = xr.concat(NDVI_list, dim='time')\n",
    "    NDVI['lat'] = np.round(NDVI['lat'].values, 3)\n",
    "    NDVI['lon'] = np.round(NDVI['lon'].values, 3)\n",
    "    for var in NDVI.data_vars:\n",
    "        tempo[var] = NDVI[var]\n",
    "    del NDVI\n",
    "\n",
    "    emissions = xr.open_dataset(f'../../data/emissions/emissions_{month_str}.nc')\n",
    "    emissions = emissions.sel(lat=slice(lat_min, new_lat_max), lon=slice(lon_min, new_lon_max))\n",
    "    new_names = {var: f\"{var}_emissions\" for var in emissions.data_vars}\n",
    "    emissions = emissions.rename(new_names)\n",
    "    emissions = emissions.sel(time=month_ts)\n",
    "    emissions['lat'] = np.round(emissions['lat'].values, 3)\n",
    "    emissions['lon'] = np.round(emissions['lon'].values, 3)\n",
    "    for var in emissions.data_vars:\n",
    "        tempo[var] = emissions[var]\n",
    "    del emissions\n",
    "\n",
    "\n",
    "    elevation = xr.open_dataset(f'../../data/other/elevation.nc')\n",
    "    elevation = elevation.drop_dims('time')\n",
    "    elevation = elevation.expand_dims({'time': tempo['time']})\n",
    "    elevation = elevation.sel(lat=slice(lat_min, new_lat_max), lon=slice(lon_min, new_lon_max))\n",
    "    elevation['lat'] = np.round(elevation['lat'].values, 3)\n",
    "    elevation['lon'] = np.round(elevation['lon'].values, 3)\n",
    "    for var in elevation.data_vars:\n",
    "        tempo[var] = elevation[var]\n",
    "    del elevation\n",
    "    \n",
    "    impervious_area = xr.open_dataset(f'../../data/other/impervious_area.nc')\n",
    "    impervious_area = impervious_area.expand_dims({'time': tempo['time']})\n",
    "    impervious_area = impervious_area.sel(lat=slice(lat_min, new_lat_max), lon=slice(lon_min, new_lon_max))\n",
    "    impervious_area['lat'] = np.round(impervious_area['lat'].values, 3)\n",
    "    impervious_area['lon'] = np.round(impervious_area['lon'].values, 3)\n",
    "    for var in impervious_area.data_vars:\n",
    "        tempo[var] = impervious_area[var]\n",
    "    del impervious_area\n",
    "    \n",
    "    population_density = xr.open_dataset(f'../../data/other/population_density.nc')\n",
    "    population_density = population_density.expand_dims({'time': tempo['time']})\n",
    "    population_density = population_density.sel(lat=slice(lat_min, new_lat_max), lon=slice(lon_min, new_lon_max))\n",
    "    population_density['lat'] = np.round(population_density['lat'].values, 3)\n",
    "    population_density['lon'] = np.round(population_density['lon'].values, 3)\n",
    "    for var in population_density.data_vars:\n",
    "        tempo[var] = population_density[var]\n",
    "    del population_density\n",
    "    print('halfway')\n",
    "    road_density = xr.open_dataset(f'../../data/other/road_density.nc')\n",
    "    road_density = road_density.expand_dims({'time': tempo['time']})\n",
    "    road_density = road_density.sel(lat=slice(lat_min, new_lat_max), lon=slice(lon_min, new_lon_max))\n",
    "    road_density['lat'] = np.round(road_density['lat'].values, 3)\n",
    "    road_density['lon'] = np.round(road_density['lon'].values, 3)\n",
    "    for var in road_density.data_vars:\n",
    "        tempo[var] = road_density[var]\n",
    "    del road_density\n",
    "    \n",
    "    water_map = xr.open_dataset(f'../../data/other/water_map.nc')\n",
    "    water_map = water_map.sel(lat=slice(lat_min, new_lat_max), lon=slice(lon_min, new_lon_max))\n",
    "    water_map=water_map['LW'].isel(time=0)\n",
    "    water_map = water_map.expand_dims({'time': tempo['time']})\n",
    "    water_map = water_map.to_dataset(name='LW')\n",
    "    new_names = {var: f\"water_map_{var}\" for var in water_map.data_vars}\n",
    "    water_map = water_map.rename(new_names)\n",
    "    water_map['lat'] = np.round(water_map['lat'].values, 3)\n",
    "    water_map['lon'] = np.round(water_map['lon'].values, 3)\n",
    "    for var in water_map.data_vars:\n",
    "        tempo[var] = water_map[var]\n",
    "    del water_map\n",
    "\n",
    "    y_sensor = xr.open_dataset(f'../../data/y_sensor_only_o3/sensor_{month_str}.nc')\n",
    "    y_sensor = y_sensor.sel(lat=slice(lat_min, new_lat_max), lon=slice(lon_min, new_lon_max))\n",
    "    new_names = {var: f\"y_sensor_{var}\" for var in y_sensor.data_vars}\n",
    "    y_sensor = y_sensor.rename(new_names)\n",
    "    y_sensor = y_sensor.sel(time=month_ts)\n",
    "    y_sensor['lat'] = np.round(y_sensor['lat'].values, 3)\n",
    "    y_sensor['lon'] = np.round(y_sensor['lon'].values, 3)\n",
    "    for var in y_sensor.data_vars:\n",
    "        tempo[var] = y_sensor[var]\n",
    "    del y_sensor\n",
    "\n",
    "    y_sensor_mobile = xr.open_dataset(f'../../data/y_sensor_mobile_o3/sensor_mobile_{month_str}.nc')\n",
    "    y_sensor_mobile = y_sensor_mobile.sel(lat=slice(lat_min, new_lat_max), lon=slice(lon_min, new_lon_max))\n",
    "    new_names = {var: f\"y_sensormobile_{var}\" for var in y_sensor_mobile.data_vars}\n",
    "    y_sensor_mobile = y_sensor_mobile.rename(new_names)\n",
    "    y_sensor_mobile = y_sensor_mobile.sel(time=month_ts)\n",
    "    y_sensor_mobile['lat'] = np.round(y_sensor_mobile['lat'].values, 3)\n",
    "    y_sensor_mobile['lon'] = np.round(y_sensor_mobile['lon'].values, 3)\n",
    "    for var in y_sensor_mobile.data_vars:\n",
    "        tempo[var] = y_sensor_mobile[var]\n",
    "    del y_sensor_mobile\n",
    "\n",
    "    # print(tempo.isnull().any())\n",
    "    for var in tempo.data_vars:\n",
    "        try:\n",
    "            # Access the variable by its name and modify its attributes\n",
    "            tempo[var].attrs[\"bounds\"] = tuple(tempo[var].attrs[\"bounds\"])\n",
    "            # print('done')\n",
    "        except KeyError:\n",
    "            # If 'bounds' attribute doesn't exist, do nothing\n",
    "            pass\n",
    "    print('merge_done')\n",
    "    # tempo = tempo.load()  # load into memory, remove Dask backing\n",
    "    tempo.to_netcdf(f'../../data/full_month_data_o3/model_{month_str}.nc', engine='netcdf4')\n",
    "    del tempo"
   ]
  }
 ],
 "metadata": {
  "environment": {
   "kernel": "satenv",
   "name": "workbench-notebooks.m125",
   "type": "gcloud",
   "uri": "us-docker.pkg.dev/deeplearning-platform-release/gcr.io/workbench-notebooks:m125"
  },
  "kernelspec": {
   "display_name": "Python (satenv) (Local)",
   "language": "python",
   "name": "satenv"
  },
  "language_info": {
   "codemirror_mode": {
    "name": "ipython",
    "version": 3
   },
   "file_extension": ".py",
   "mimetype": "text/x-python",
   "name": "python",
   "nbconvert_exporter": "python",
   "pygments_lexer": "ipython3",
   "version": "3.10.15"
  }
 },
 "nbformat": 4,
 "nbformat_minor": 5
}
