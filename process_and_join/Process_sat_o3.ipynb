{
 "cells": [
  {
   "cell_type": "code",
   "execution_count": 1,
   "id": "9c5a4b30-0351-4439-823e-43b09677b091",
   "metadata": {
    "tags": []
   },
   "outputs": [],
   "source": [
    "import os\n",
    "import pandas as pd\n",
    "from bbox import * \n",
    "import numpy as np\n",
    "import matplotlib.pyplot as plt\n",
    "import xarray as xr\n",
    "#for image inpainting\n",
    "from skimage import data\n",
    "from skimage.morphology import disk, binary_dilation\n",
    "from skimage.restoration import inpaint\n",
    "import cv2 as cv\n",
    "import xesmf as xe"
   ]
  },
  {
   "cell_type": "code",
   "execution_count": 69,
   "id": "b47ff6e2-92c7-4db5-8b07-9f06b2996472",
   "metadata": {
    "tags": []
   },
   "outputs": [],
   "source": [
    "##################################\n",
    "# Create DataFrames\n",
    "##################################\n",
    "\n",
    "files = os.listdir('../../data/tempo_data/')\n",
    "files = [file for file in files if file[:26]=='satellite_null_data_raw_o3']\n",
    "\n",
    "df = pd.read_csv('../../data/tempo_data/o3_null_data.csv')\n",
    "df = df[df['time']<'2024-12-01 00:00:00']\n",
    "for file in files:\n",
    "    temp = pd.read_csv('../../data/tempo_data/'+file)\n",
    "    df = pd.concat([df, temp])\n",
    "    \n",
    "full_size = 240*530\n",
    "df['percent_null'] =round((df['null_count']/full_size)*100, 2)    \n",
    "df = df[df['percent_null']<100]\n",
    "df['hour'] = pd.to_datetime(df['time']).dt.floor('h')\n",
    "df=df.drop_duplicates()\n",
    "\n",
    "df = df[df['percent_null']<=5]\n",
    "df=df.sort_values(by=['hour','null_count', 'time'])\n",
    "valid_hours = df.groupby('hour').first().reset_index()\n",
    "valid_hours = valid_hours[valid_hours['hour']<'2025-06-01 00:00:00']\n",
    "valid_hours.to_csv('../../data/tempo_data/valid_o3_hours.csv')"
   ]
  },
  {
   "cell_type": "code",
   "execution_count": 71,
   "id": "004d9d75-7f3d-46fe-bb94-af4527e3415f",
   "metadata": {
    "tags": []
   },
   "outputs": [],
   "source": [
    "def inpainting(data):\n",
    "    \"\"\"\n",
    "    Fills in missing values in the input data using inpainting techniques.\n",
    "    \n",
    "    Parameters:\n",
    "    data (numpy.ndarray): Input array with potential NaN values.\n",
    "\n",
    "    Returns:\n",
    "    numpy.ndarray: Array with NaN values filled using inpainting, \n",
    "                   or the original array if no NaNs are present.\n",
    "    \"\"\"\n",
    "    # Mask for NaN values\n",
    "    data_copy = np.copy(data)\n",
    "    na_data_mask = np.isnan(data_copy)\n",
    "\n",
    "    # If no NaN values, return data as is\n",
    "    if not na_data_mask.any():\n",
    "        return data\n",
    "\n",
    "    # Replace NaNs with the initial median value\n",
    "    initial_value = np.nanmedian(data_copy)\n",
    "    data_copy = data_copy.astype('float32')\n",
    "    data_copy[na_data_mask] = initial_value\n",
    "\n",
    "    # Inpainting to fill missing data\n",
    "    filled_data = cv.inpaint(data_copy, na_data_mask.astype('uint8'), 10, cv.INPAINT_NS)\n",
    "    return filled_data"
   ]
  },
  {
   "cell_type": "code",
   "execution_count": 72,
   "id": "4ece90ed-3031-45f7-a9e0-1364259de19b",
   "metadata": {
    "tags": []
   },
   "outputs": [
    {
     "data": {
      "text/plain": [
       "<PeriodArray>\n",
       "['2024-12', '2025-01', '2025-02', '2025-03', '2025-04', '2025-05']\n",
       "Length: 6, dtype: period[M]"
      ]
     },
     "execution_count": 72,
     "metadata": {},
     "output_type": "execute_result"
    }
   ],
   "source": [
    "timestamps_dt = pd.to_datetime(valid_hours['time'])\n",
    "unique_months = timestamps_dt.dt.to_period('M').unique()\n",
    "unique_months = unique_months[16:]\n",
    "unique_months"
   ]
  },
  {
   "cell_type": "code",
   "execution_count": 73,
   "id": "1769d6c4-8bdc-4026-99de-68099069b07a",
   "metadata": {},
   "outputs": [
    {
     "name": "stderr",
     "output_type": "stream",
     "text": [
      "/var/tmp/ipykernel_17140/1458978332.py:21: RuntimeWarning: All-NaN slice encountered\n",
      "  initial_value = np.nanmedian(data_copy)\n",
      "/var/tmp/ipykernel_17140/1458978332.py:21: RuntimeWarning: All-NaN slice encountered\n",
      "  initial_value = np.nanmedian(data_copy)\n"
     ]
    }
   ],
   "source": [
    "for month in unique_months:\n",
    "    month_str = str(month)\n",
    "    monthly_xr_list = []\n",
    "\n",
    "    month_timestamps = timestamps_dt[timestamps_dt.dt.to_period('M') == month]\n",
    "    days =month_timestamps.dt.to_period('d').unique()\n",
    "\n",
    "    for day in days:\n",
    "        day_str = str(day)\n",
    "        day_timestamps = month_timestamps[month_timestamps.dt.to_period('d') == day]\n",
    "        \n",
    "        ds = xr.open_dataset(f'../../data/tempo_data/o3_daily_files/tempo_o3_{day_str}.nc', engine='netcdf4')\n",
    "        ds = ds[['column_amount_o3', 'fc']]\n",
    "        ds['time'] = np.array(ds['time'], dtype='datetime64[ns]')\n",
    "        day_timestamps = np.array(day_timestamps, dtype='datetime64[ns]')\n",
    "        ds = ds.sel(time=~ds.indexes['time'].duplicated())\n",
    "        #ADDED LINE BELOW WITHOUT CHECKING\n",
    "        day_timestamps=np.array(list(set(day_timestamps).intersection(set(np.array(ds['time'])))))\n",
    "        ds = ds.sel(time=day_timestamps)\n",
    "\n",
    "        lat_new = np.arange(lat_min+0.005, lat_max, 0.01)\n",
    "        lon_new = np.arange(lon_min+0.005, lon_max, 0.01)\n",
    "\n",
    "        # Divide by 1000000000000000\n",
    "        # ds['vertical_column_troposphere'] = ds['vertical_column_troposphere']/1000000000000000\n",
    "\n",
    "        #fill nas\n",
    "        for var in list(ds.data_vars.keys()):\n",
    "\n",
    "            inpainted_results = np.empty_like(ds[f\"{var}\"])\n",
    "\n",
    "            for i in range(len(ds.time)):\n",
    "                data = ds.isel(time=i)[f\"{var}\"]\n",
    "                data_arr = np.array(data)\n",
    "                filled = inpainting(data_arr)\n",
    "\n",
    "                inpainted_results[i, :, :] = filled\n",
    "\n",
    "            ds[f\"{var}\"] = (('time', 'latitude', 'longitude'), inpainted_results)\n",
    "\n",
    "        ds_out = xr.Dataset(\n",
    "            {\n",
    "                \"latitude\": ([\"latitude\"], lat_new),\n",
    "                \"longitude\": ([\"longitude\"], lon_new),\n",
    "            }\n",
    "        )\n",
    "\n",
    "        # Create the regridder object.\n",
    "        regridder = xe.Regridder(ds, ds_out, \"bilinear\")\n",
    "\n",
    "        # Apply the regridding operation.\n",
    "        ds = regridder(ds)\n",
    "        # print(ds)\n",
    "        # Change time to bottom of the hour\n",
    "        ds['time'] = pd.to_datetime(ds['time'].values).floor('h')\n",
    "        \n",
    "        monthly_xr_list.append(ds)\n",
    "    \n",
    "    \n",
    "    combined_data = xr.concat(monthly_xr_list, dim='time')\n",
    "    \n",
    "    combined_data.to_netcdf(f'../../data/tempo_data/o3_monthly_files/tempo_o3_{month_str}.nc')"
   ]
  },
  {
   "cell_type": "code",
   "execution_count": null,
   "id": "8708f1c8-8a3d-486e-affe-1ddbd4641759",
   "metadata": {
    "tags": []
   },
   "outputs": [],
   "source": [
    "# import os\n",
    "# import numpy as np\n",
    "# import xarray as xr\n",
    "# import pandas as pd\n",
    "# import xesmf as xe\n",
    "# from multiprocessing import Pool\n",
    "# from functools import partial\n",
    "\n",
    "# def process_month(month, timestamps_dt):\n",
    "#     month_str = str(month)\n",
    "#     monthly_xr_list = []\n",
    "\n",
    "#     month_timestamps = timestamps_dt[timestamps_dt.dt.to_period('M') == month]\n",
    "#     days = month_timestamps.dt.to_period('d').unique()\n",
    "\n",
    "#     for day in days:\n",
    "#         day_str = str(day)\n",
    "#         print(day_str)\n",
    "#         day_timestamps = month_timestamps[month_timestamps.dt.to_period('d') == day]\n",
    "\n",
    "#         try:\n",
    "#             ds = xr.open_dataset(\n",
    "#                 f'../../data/tempo_data/o3_daily_files/tempo_o3_{day_str}.nc',\n",
    "#                 engine='netcdf4'\n",
    "#             )\n",
    "#         except FileNotFoundError:\n",
    "#             print(f\"Missing file for day: {day_str}\")\n",
    "#             continue\n",
    "\n",
    "#         ds = ds[['column_amount_o3', 'fc']]\n",
    "#         ds['time'] = np.array(ds['time'], dtype='datetime64[ns]')\n",
    "#         day_timestamps = np.array(day_timestamps, dtype='datetime64[ns]')\n",
    "#         ds = ds.sel(time=~ds.indexes['time'].duplicated())\n",
    "#         day_timestamps = np.array(list(set(day_timestamps).intersection(set(np.array(ds['time'])))))\n",
    "#         ds = ds.sel(time=day_timestamps)\n",
    "\n",
    "#         lat_new = np.arange(lat_min + 0.005, lat_max, 0.01)\n",
    "#         lon_new = np.arange(lon_min + 0.005, lon_max, 0.01)\n",
    "\n",
    "#         for var in list(ds.data_vars.keys()):\n",
    "#             inpainted_results = np.empty_like(ds[f\"{var}\"])\n",
    "#             for i in range(len(ds.time)):\n",
    "#                 data = ds.isel(time=i)[f\"{var}\"]\n",
    "#                 data_arr = np.array(data)\n",
    "#                 filled = inpainting(data_arr)  # Your custom function\n",
    "#                 inpainted_results[i, :, :] = filled\n",
    "#             ds[f\"{var}\"] = (('time', 'latitude', 'longitude'), inpainted_results)\n",
    "\n",
    "#         ds_out = xr.Dataset(\n",
    "#             {\n",
    "#                 \"lat\": ([\"latitude\"], lat_new),\n",
    "#                 \"lon\": ([\"longitude\"], lon_new),\n",
    "#             }\n",
    "#         )\n",
    "\n",
    "#         regrid_filename = f\"regrid_weights_{month_str}.nc\"\n",
    "#         regridder = xe.Regridder(ds, ds_out, \"bilinear\", filename=regrid_filename, reuse_weights=False)\n",
    "\n",
    "#         # regridder = xe.Regridder(ds, ds_out, \"bilinear\", reuse_weights=True)\n",
    "#         ds = regridder(ds)\n",
    "#         ds['time'] = pd.to_datetime(ds['time'].values).floor('h')\n",
    "\n",
    "#         monthly_xr_list.append(ds)\n",
    "#         print('Done with', day_str)\n",
    "\n",
    "#     if monthly_xr_list:\n",
    "#         combined_data = xr.concat(monthly_xr_list, dim='time')\n",
    "#         output_path = f'../../data/tempo_data/o3_monthly_files/tempo_o3_{month_str}.nc'\n",
    "#         combined_data.to_netcdf(output_path)\n",
    "#         print(f\"Saved {output_path}\")\n",
    "#     else:\n",
    "#         print(f\"No data for month {month_str}\")\n",
    "\n",
    "# def parallel_process(unique_months, timestamps_dt, num_processes=4):\n",
    "#     with Pool(processes=num_processes) as pool:\n",
    "#         pool.map(partial(process_month, timestamps_dt=timestamps_dt), unique_months)\n",
    "\n"
   ]
  },
  {
   "cell_type": "code",
   "execution_count": null,
   "id": "2c86f76b-111b-4da3-b4fe-0513e6838a91",
   "metadata": {
    "tags": []
   },
   "outputs": [],
   "source": [
    "# parallel_process(unique_months, timestamps_dt, num_processes=4)\n"
   ]
  },
  {
   "cell_type": "code",
   "execution_count": null,
   "id": "4815b3cd-5e4a-40f2-807e-1d52dd9e11e7",
   "metadata": {
    "tags": []
   },
   "outputs": [],
   "source": [
    "import matplotlib.pyplot as plt\n",
    "# # Define your latitude and longitude bounds\n",
    "# lat_min, lat_max = 28.6, 33.4  # Example latitude range\n",
    "# lon_min, lon_max = -98.9, -88.3  # Example longitude range\n",
    "\n",
    "# Select one hour of temperature data (e.g., the first timestamp)\n",
    "hour_index = 0 #Change this to select a different hour if desired\n",
    "temperature_data = ds_regrid[f\"eff_cloud_fraction\"].isel(time=hour_index)\n",
    "# temperature_data = ds['Percent_Tree_Cover']\n",
    "\n",
    "# Plot the data with switched axes\n",
    "plt.figure(figsize=(10, 6))\n",
    "\n",
    "# Plot with latitude on x-axis and longitude on y-axis\n",
    "temperature_data.T.plot(\n",
    "    cmap=\"coolwarm\",  # Colormap for temperature visualization\n",
    "    cbar_kwargs={'label': 'Temperature (K)'}  # Add color bar label\n",
    ")\n",
    "\n",
    "# Update axis labels\n",
    "plt.xlabel(\"Latitude\")\n",
    "plt.ylabel(\"Longitude\")\n",
    "\n",
    "plt.show()"
   ]
  }
 ],
 "metadata": {
  "environment": {
   "kernel": "ds_env",
   "name": "workbench-notebooks.m125",
   "type": "gcloud",
   "uri": "us-docker.pkg.dev/deeplearning-platform-release/gcr.io/workbench-notebooks:m125"
  },
  "kernelspec": {
   "display_name": "Python (ds_env) (Local)",
   "language": "python",
   "name": "ds_env"
  },
  "language_info": {
   "codemirror_mode": {
    "name": "ipython",
    "version": 3
   },
   "file_extension": ".py",
   "mimetype": "text/x-python",
   "name": "python",
   "nbconvert_exporter": "python",
   "pygments_lexer": "ipython3",
   "version": "3.11.10"
  }
 },
 "nbformat": 4,
 "nbformat_minor": 5
}
