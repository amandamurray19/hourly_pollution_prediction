{
 "cells": [
  {
   "cell_type": "code",
   "execution_count": 2,
   "id": "9c5a4b30-0351-4439-823e-43b09677b091",
   "metadata": {
    "tags": []
   },
   "outputs": [],
   "source": [
    "import os\n",
    "import pandas as pd\n",
    "from bbox import * \n",
    "import numpy as np\n",
    "import matplotlib.pyplot as plt\n",
    "import xarray as xr\n",
    "#for image inpainting\n",
    "from skimage import data\n",
    "from skimage.morphology import disk, binary_dilation\n",
    "from skimage.restoration import inpaint\n",
    "import cv2 as cv\n",
    "import xesmf as xe"
   ]
  },
  {
   "cell_type": "code",
   "execution_count": 3,
   "id": "b47ff6e2-92c7-4db5-8b07-9f06b2996472",
   "metadata": {
    "tags": []
   },
   "outputs": [],
   "source": [
    "##################################\n",
    "# Create DataFrames\n",
    "##################################\n",
    "\n",
    "files = os.listdir('../../data/tempo_data/')\n",
    "files = [file for file in files if file[:23]=='satellite_null_data_raw']\n",
    "\n",
    "df = pd.DataFrame()\n",
    "for file in files:\n",
    "    temp = pd.read_csv('../../data/tempo_data/'+file)\n",
    "    df = pd.concat([df, temp])\n",
    "    \n",
    "full_size = 240*530\n",
    "df['percent_null'] =round((df['null_count']/full_size)*100, 2)    \n",
    "df = df[df['percent_null']<100]\n",
    "df['hour'] = pd.to_datetime(df['time']).dt.floor('h')\n",
    "df=df.drop_duplicates()\n",
    "\n",
    "df = df[df['percent_null']<=5]\n",
    "df=df.sort_values(by=['hour','null_count', 'time'])\n",
    "valid_hours = df.groupby('hour').first().reset_index()\n",
    "valid_hours.to_csv('../../data/tempo_data/valid_no2_hours.csv')"
   ]
  },
  {
   "cell_type": "code",
   "execution_count": 4,
   "id": "004d9d75-7f3d-46fe-bb94-af4527e3415f",
   "metadata": {
    "tags": []
   },
   "outputs": [],
   "source": [
    "def inpainting(data):\n",
    "    \"\"\"\n",
    "    Fills in missing values in the input data using inpainting techniques.\n",
    "    \n",
    "    Parameters:\n",
    "    data (numpy.ndarray): Input array with potential NaN values.\n",
    "\n",
    "    Returns:\n",
    "    numpy.ndarray: Array with NaN values filled using inpainting, \n",
    "                   or the original array if no NaNs are present.\n",
    "    \"\"\"\n",
    "    # Mask for NaN values\n",
    "    data_copy = np.copy(data)\n",
    "    na_data_mask = np.isnan(data_copy)\n",
    "\n",
    "    # If no NaN values, return data as is\n",
    "    if not na_data_mask.any():\n",
    "        return data\n",
    "\n",
    "    # Replace NaNs with the initial median value\n",
    "    initial_value = np.nanmedian(data_copy)\n",
    "    data_copy = data_copy.astype('float32')\n",
    "    data_copy[na_data_mask] = initial_value\n",
    "\n",
    "    # Inpainting to fill missing data\n",
    "    filled_data = cv.inpaint(data_copy, na_data_mask.astype('uint8'), 10, cv.INPAINT_NS)\n",
    "    return filled_data"
   ]
  },
  {
   "cell_type": "code",
   "execution_count": 5,
   "id": "4ece90ed-3031-45f7-a9e0-1364259de19b",
   "metadata": {
    "tags": []
   },
   "outputs": [],
   "source": [
    "timestamps_dt = pd.to_datetime(valid_hours['time'])\n",
    "unique_months = timestamps_dt.dt.to_period('M').unique()"
   ]
  },
  {
   "cell_type": "code",
   "execution_count": 6,
   "id": "94656b58-55a2-4c93-8cf1-39bedf908510",
   "metadata": {
    "tags": []
   },
   "outputs": [
    {
     "name": "stderr",
     "output_type": "stream",
     "text": [
      "/var/tmp/ipykernel_13439/1458978332.py:21: RuntimeWarning: All-NaN slice encountered\n",
      "  initial_value = np.nanmedian(data_copy)\n"
     ]
    }
   ],
   "source": [
    "for month in unique_months[21:]:\n",
    "    month_str = str(month)\n",
    "    monthly_xr_list = []\n",
    "\n",
    "    month_timestamps = timestamps_dt[timestamps_dt.dt.to_period('M') == month]\n",
    "    days =month_timestamps.dt.to_period('d').unique()\n",
    "\n",
    "    for day in days:\n",
    "        day_str = str(day)\n",
    "        day_timestamps = month_timestamps[month_timestamps.dt.to_period('d') == day]\n",
    "        \n",
    "        ds = xr.open_dataset(f'../../data/tempo_data/no2_daily_files/tempo_{day_str}.nc', engine='netcdf4')\n",
    "\n",
    "        ds['time'] = np.array(ds['time'], dtype='datetime64[ns]')\n",
    "        day_timestamps = np.array(day_timestamps, dtype='datetime64[ns]')\n",
    "        ds = ds.sel(time=~ds.indexes['time'].duplicated())\n",
    "        #ADDED LINE BELOW WITHOUT CHECKING\n",
    "        day_timestamps=np.array(list(set(day_timestamps).intersection(set(np.array(ds['time'])))))\n",
    "        ds = ds.sel(time=day_timestamps)\n",
    "\n",
    "        lat_new = np.arange(lat_min+0.005, lat_max, 0.01)\n",
    "        lon_new = np.arange(lon_min+0.005, lon_max, 0.01)\n",
    "\n",
    "        # Divide by 1000000000000000\n",
    "        ds['vertical_column_troposphere'] = ds['vertical_column_troposphere']/1000000000000000\n",
    "\n",
    "        #fill nas\n",
    "        for var in list(ds.data_vars.keys()):\n",
    "\n",
    "            if var == 'main_data_quality_flag':\n",
    "                ds['main_data_quality_flag']=ds['main_data_quality_flag'].fillna(2)\n",
    "            else:\n",
    "                inpainted_results = np.empty_like(ds[f\"{var}\"])\n",
    "\n",
    "                for i in range(len(ds.time)):\n",
    "                    data = ds.isel(time=i)[f\"{var}\"]\n",
    "                    data_arr = np.array(data)\n",
    "                    filled = inpainting(data_arr)\n",
    "\n",
    "                    inpainted_results[i, :, :] = filled\n",
    "\n",
    "                ds[f\"{var}\"] = (('time', 'latitude', 'longitude'), inpainted_results)\n",
    "\n",
    "        ds_out = xr.Dataset(\n",
    "            {\n",
    "                \"latitude\": ([\"latitude\"], lat_new),\n",
    "                \"longitude\": ([\"longitude\"], lon_new),\n",
    "            }\n",
    "        )\n",
    "\n",
    "        # Create the regridder object.\n",
    "        regridder = xe.Regridder(ds, ds_out, \"bilinear\")\n",
    "\n",
    "        # Apply the regridding operation.\n",
    "        ds = regridder(ds)\n",
    "\n",
    "        # Change time to bottom of the hour\n",
    "        ds['time'] = pd.to_datetime(ds['time'].values).floor('h')\n",
    "        \n",
    "        monthly_xr_list.append(ds)\n",
    "    \n",
    "    \n",
    "    combined_data = xr.concat(monthly_xr_list, dim='time')\n",
    "    \n",
    "    combined_data.to_netcdf(f'../../data/tempo_data/no2_monthly_files/tempo_no2_{month_str}.nc')\n",
    "    \n",
    "    \n",
    "    "
   ]
  },
  {
   "cell_type": "code",
   "execution_count": null,
   "id": "84e2aa17-75a7-43ed-80df-7ce2ba558b15",
   "metadata": {
    "tags": []
   },
   "outputs": [],
   "source": [
    "day_timestamps"
   ]
  },
  {
   "cell_type": "code",
   "execution_count": null,
   "id": "8f151ead-33fa-4fd6-a1ca-65caf828ff72",
   "metadata": {
    "tags": []
   },
   "outputs": [],
   "source": [
    "ds = xr.open_dataset(f'../../data/tempo_data/no2_monthly_files/tempo_no2_{month_str}.nc')\n",
    "ds"
   ]
  },
  {
   "cell_type": "code",
   "execution_count": null,
   "id": "64e13bee-b006-4c99-8376-35e9fd9c304d",
   "metadata": {
    "tags": []
   },
   "outputs": [],
   "source": [
    "ds"
   ]
  },
  {
   "cell_type": "code",
   "execution_count": null,
   "id": "36e41576-b00d-4fa5-8eac-1123aa2a99b1",
   "metadata": {
    "tags": []
   },
   "outputs": [],
   "source": [
    "# ds = xr.open_dataset(f'../../data/tempo_data/no2_daily_files/tempo_{day_str}.nc', engine='netcdf4')\n",
    "\n",
    "# ds['time'] = np.array(ds['time'], dtype='datetime64[ns]')\n",
    "# day_timestamps = np.array(day_timestamps, dtype='datetime64[ns]')\n",
    "# ds = ds.sel(time=day_timestamps)\n",
    "\n",
    "# lat_new = np.arange(lat_min+0.005, lat_max, 0.01)\n",
    "# lon_new = np.arange(lon_min+0.005, lon_max, 0.01)\n",
    "\n",
    "# # Divide by 1000000000000000\n",
    "# ds['vertical_column_troposphere'] = ds['vertical_column_troposphere']/1000000000000000\n",
    "\n",
    "# #fill nas\n",
    "# for var in list(ds.data_vars.keys()):\n",
    "    \n",
    "#     if var == 'main_data_quality_flag':\n",
    "#         ds['main_data_quality_flag']=ds['main_data_quality_flag'].fillna(2)\n",
    "#     else:\n",
    "#         inpainted_results = np.empty_like(ds[f\"{var}\"])\n",
    "\n",
    "#         for i in range(len(ds.time)):\n",
    "#             data = ds.isel(time=i)[f\"{var}\"]\n",
    "#             data_arr = np.array(data)\n",
    "#             filled = inpainting(data_arr)\n",
    "\n",
    "#             inpainted_results[i, :, :] = filled\n",
    "\n",
    "#         ds[f\"{var}\"] = (('time', 'latitude', 'longitude'), inpainted_results)\n",
    "    \n",
    "# ds_out = xr.Dataset(\n",
    "#     {\n",
    "#         \"latitude\": ([\"latitude\"], lat_new),\n",
    "#         \"longitude\": ([\"longitude\"], lon_new),\n",
    "#     }\n",
    "# )\n",
    "\n",
    "# # Create the regridder object.\n",
    "# regridder = xe.Regridder(ds, ds_out, \"bilinear\")\n",
    "\n",
    "# # Apply the regridding operation.\n",
    "# ds = regridder(ds)\n",
    "\n",
    "# # Change time to bottom of the hour\n",
    "# ds['time'] = pd.to_datetime(ds['time'].values).floor('h')\n",
    "\n",
    "# monthly_xr_list.append(ds)"
   ]
  },
  {
   "cell_type": "code",
   "execution_count": null,
   "id": "4815b3cd-5e4a-40f2-807e-1d52dd9e11e7",
   "metadata": {
    "tags": []
   },
   "outputs": [],
   "source": [
    "import matplotlib.pyplot as plt\n",
    "# # Define your latitude and longitude bounds\n",
    "# lat_min, lat_max = 28.6, 33.4  # Example latitude range\n",
    "# lon_min, lon_max = -98.9, -88.3  # Example longitude range\n",
    "\n",
    "# Select one hour of temperature data (e.g., the first timestamp)\n",
    "hour_index = 0 #Change this to select a different hour if desired\n",
    "temperature_data = ds_regrid[f\"eff_cloud_fraction\"].isel(time=hour_index)\n",
    "# temperature_data = ds['Percent_Tree_Cover']\n",
    "\n",
    "# Plot the data with switched axes\n",
    "plt.figure(figsize=(10, 6))\n",
    "\n",
    "# Plot with latitude on x-axis and longitude on y-axis\n",
    "temperature_data.T.plot(\n",
    "    cmap=\"coolwarm\",  # Colormap for temperature visualization\n",
    "    cbar_kwargs={'label': 'Temperature (K)'}  # Add color bar label\n",
    ")\n",
    "\n",
    "# Update axis labels\n",
    "plt.xlabel(\"Latitude\")\n",
    "plt.ylabel(\"Longitude\")\n",
    "\n",
    "plt.show()"
   ]
  },
  {
   "cell_type": "code",
   "execution_count": null,
   "id": "e417b3dd-0e42-4b5e-ab6d-c22f14bd58ce",
   "metadata": {
    "tags": []
   },
   "outputs": [],
   "source": [
    "unique_months.astype(str)"
   ]
  },
  {
   "cell_type": "code",
   "execution_count": null,
   "id": "b207cfeb-6bf8-4c0d-89fa-244116701c51",
   "metadata": {
    "tags": []
   },
   "outputs": [],
   "source": [
    "timestamps_dt"
   ]
  }
 ],
 "metadata": {
  "environment": {
   "kernel": "ds_env",
   "name": "workbench-notebooks.m125",
   "type": "gcloud",
   "uri": "us-docker.pkg.dev/deeplearning-platform-release/gcr.io/workbench-notebooks:m125"
  },
  "kernelspec": {
   "display_name": "Python (ds_env) (Local)",
   "language": "python",
   "name": "ds_env"
  },
  "language_info": {
   "codemirror_mode": {
    "name": "ipython",
    "version": 3
   },
   "file_extension": ".py",
   "mimetype": "text/x-python",
   "name": "python",
   "nbconvert_exporter": "python",
   "pygments_lexer": "ipython3",
   "version": "3.11.10"
  }
 },
 "nbformat": 4,
 "nbformat_minor": 5
}
