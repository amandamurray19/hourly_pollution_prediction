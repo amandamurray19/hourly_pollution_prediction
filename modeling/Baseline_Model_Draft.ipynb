{
 "cells": [
  {
   "cell_type": "code",
   "execution_count": 1,
   "id": "fc312edb-ff82-4420-bc6e-692b2df8f172",
   "metadata": {
    "tags": []
   },
   "outputs": [
    {
     "name": "stderr",
     "output_type": "stream",
     "text": [
      "2025-09-14 00:53:50.377257: I tensorflow/core/platform/cpu_feature_guard.cc:193] This TensorFlow binary is optimized with oneAPI Deep Neural Network Library (oneDNN) to use the following CPU instructions in performance-critical operations:  AVX2 FMA\n",
      "To enable them in other operations, rebuild TensorFlow with the appropriate compiler flags.\n",
      "2025-09-14 00:53:51.298409: W tensorflow/compiler/xla/stream_executor/platform/default/dso_loader.cc:64] Could not load dynamic library 'libnvinfer.so.7'; dlerror: libnvinfer.so.7: cannot open shared object file: No such file or directory; LD_LIBRARY_PATH: /usr/local/cuda/lib64:/usr/local/nccl2/lib:/usr/local/cuda/extras/CUPTI/lib64:/usr/lib/x86_64-linux-gnu/:/opt/conda/lib\n",
      "2025-09-14 00:53:51.298498: W tensorflow/compiler/xla/stream_executor/platform/default/dso_loader.cc:64] Could not load dynamic library 'libnvinfer_plugin.so.7'; dlerror: libnvinfer_plugin.so.7: cannot open shared object file: No such file or directory; LD_LIBRARY_PATH: /usr/local/cuda/lib64:/usr/local/nccl2/lib:/usr/local/cuda/extras/CUPTI/lib64:/usr/lib/x86_64-linux-gnu/:/opt/conda/lib\n",
      "2025-09-14 00:53:51.298506: W tensorflow/compiler/tf2tensorrt/utils/py_utils.cc:38] TF-TRT Warning: Cannot dlopen some TensorRT libraries. If you would like to use Nvidia GPU with TensorRT, please make sure the missing libraries mentioned above are installed properly.\n"
     ]
    },
    {
     "name": "stdout",
     "output_type": "stream",
     "text": [
      "Num GPUs Available: 0\n",
      "Built with CUDA: True\n",
      "WARNING:tensorflow:From /var/tmp/ipykernel_4096/4092507224.py:17: is_gpu_available (from tensorflow.python.framework.test_util) is deprecated and will be removed in a future version.\n",
      "Instructions for updating:\n",
      "Use `tf.config.list_physical_devices('GPU')` instead.\n",
      "GPU available to TF: False\n"
     ]
    }
   ],
   "source": [
    "# CV Strategy\n",
    "# Batch normalization\n",
    "import os\n",
    "import xarray as xr\n",
    "import pandas as pd\n",
    "import numpy as np\n",
    "import tensorflow as tf\n",
    "from tensorflow import keras\n",
    "import random\n",
    "from tensorflow.keras import layers, models, Input\n",
    "import tensorflow as tf\n",
    "import time\n",
    "os.environ['TF_CPP_MIN_LOG_LEVEL'] = '3'  # 0=all, 1=info, 2=warning, 3=error\n",
    "\n",
    "print(\"Num GPUs Available:\", len(tf.config.list_physical_devices('GPU')))\n",
    "print(\"Built with CUDA:\", tf.test.is_built_with_cuda())\n",
    "print(\"GPU available to TF:\", tf.test.is_gpu_available())\n",
    "start = time.time()\n",
    "folder = \"../../data/model_data/mini_data_set\"\n",
    "full_paths = [os.path.join(folder, f) for f in os.listdir(folder) if f.endswith(\".nc\")]\n",
    "random.shuffle(full_paths)\n",
    "\n",
    "# sensor_df = pd.read_csv(\"../../data/sensor_data/final_sensor_withgrid.csv\")\n",
    "# sensor_df = sensor_df[['lat','lon', 'state']]\n",
    "# sensor_df_la = sensor_df[sensor_df['state']=='Louisiana'].reset_index(drop=True)\n",
    "# sensor_df_la = sensor_df_la[['lat','lon']]\n",
    "# sensor_df_la = sensor_df_la.drop_duplicates().reset_index(drop=True)\n",
    "# sensor_df_la['cv_group'] = 'test'\n",
    "# sensor_df_tx = sensor_df[sensor_df['state']=='Texas'].reset_index(drop=True)\n",
    "# sensor_df_tx = sensor_df_tx[['lat','lon']]\n",
    "# sensor_df_tx = sensor_df_tx.drop_duplicates().reset_index(drop=True)\n",
    "\n",
    "# # # Shuffle the indices\n",
    "# sensor_df_tx = sensor_df_tx.sample(frac=1, random_state=42).reset_index(drop=True)\n",
    "\n",
    "# # UPDATE: 10% Test set, 5 folds \n",
    "# # Assign groups evenly\n",
    "# sensor_df_tx['cv_group'] = sensor_df_tx.index % 5 + 1  # Groups: 0 to 4\n",
    "# sensor_df = pd.concat([sensor_df_la, sensor_df_tx], axis=0)\n",
    "# sensor_df.to_csv(\"../../data/sensor_data/final_sensor_cvgroups.csv\")\n",
    "\n",
    "sensor_df = pd.read_csv(\"../../data/sensor_data/final_sensor_cvgroups.csv\", index_col=0)\n"
   ]
  },
  {
   "cell_type": "code",
   "execution_count": 2,
   "id": "d2351d87-f58e-41b3-8c46-32ee317f6f06",
   "metadata": {
    "tags": []
   },
   "outputs": [],
   "source": [
    "class ncDataLoader(keras.utils.Sequence):\n",
    "    \"\"\"Helper to iterate over the data (as Numpy arrays).\"\"\"\n",
    "\n",
    "    def __init__(self, batch_size, img_size, img_paths, drop_sensor_locs_df):\n",
    "        self.batch_size = batch_size\n",
    "        self.img_size = img_size\n",
    "        self.img_paths = img_paths\n",
    "        self.drop_sensor_locs_df = drop_sensor_locs_df\n",
    "\n",
    "    def __len__(self):\n",
    "        return len(self.img_paths) // self.batch_size\n",
    "\n",
    "    def __getitem__(self, idx):\n",
    "        \"\"\"Returns tuple (input, target) correspond to batch #idx.\"\"\"\n",
    "        i = idx * self.batch_size\n",
    "        batch_input_img_paths = self.img_paths[i : i + self.batch_size]\n",
    "\n",
    "        x = np.zeros((self.batch_size,) + self.img_size + (22,), dtype=\"float32\")\n",
    "        y = np.zeros((self.batch_size,) + self.img_size + (1,), dtype=\"float32\")\n",
    "\n",
    "        for j, path in enumerate(batch_input_img_paths):\n",
    "            # print(path)\n",
    "            ds = xr.open_dataset(path, engine='netcdf4')\n",
    "            input_ds = ds.copy()\n",
    "            input_ds = input_ds.drop_vars(\"y_sensor_no2\")\n",
    "            input_array = input_ds.to_array().values\n",
    "            x[j] = np.transpose(input_array, (1, 2, 0))\n",
    "            \n",
    "            target_ds = ds['y_sensor_no2']\n",
    "            \n",
    "            # Loop over rows to mask each (lat, lon) pair\n",
    "            for _, row in self.drop_sensor_locs_df.iterrows():\n",
    "                target_ds.loc[dict(lat=row['lat'], lon=row['lon'])] = np.nan\n",
    "            \n",
    "            target_ds = target_ds.values\n",
    "            # target_ds = np.where(np.isnan(target_ds), -999, target_ds)\n",
    "            y[j, :, :, 0] = target_ds\n",
    " \n",
    "        return x, y\n",
    "\n",
    "\n",
    "\n",
    "\n",
    "\n",
    "\n",
    "def build_baseline_model(\n",
    "    input_shape=(479, 1059, 22)\n",
    "):\n",
    "    \"\"\"\n",
    "    Build a convolution-free, per-pixel linear regression model.\n",
    "    Each pixel's 22 input features are combined linearly to produce 1 output value.\n",
    "    \n",
    "    Args:\n",
    "        input_shape (tuple): Input shape (H, W, C)\n",
    "\n",
    "    Returns:\n",
    "        Keras Model\n",
    "    \"\"\"\n",
    "    inputs = Input(shape=input_shape)\n",
    "    x = inputs\n",
    "\n",
    "    # Per-pixel linear regression (no hidden layer)\n",
    "    outputs = layers.Dense(1, activation='linear', use_bias=True)(x)\n",
    "\n",
    "    model = models.Model(inputs=inputs, outputs=outputs)\n",
    "    return model\n",
    "\n",
    "\n",
    "def masked_mse(y_true, y_pred):\n",
    "    # Create mask: True where y_true is not NaN\n",
    "    mask = tf.math.logical_not(tf.math.is_nan(y_true))\n",
    "    # tf.print(\"Valid pixels:\", tf.reduce_sum(tf.cast(mask, tf.int32)))\n",
    "\n",
    "    # Apply mask to both y_true and y_pred\n",
    "    y_true_masked = tf.boolean_mask(y_true, mask)\n",
    "    y_pred_masked = tf.boolean_mask(y_pred, mask)\n",
    "    \n",
    "    # Compute MSE only on valid values\n",
    "    diff_squared = tf.square(y_true_masked - y_pred_masked)\n",
    "    \n",
    "    # Avoid division by zero\n",
    "    denom = tf.cast(tf.size(diff_squared), tf.float32)\n",
    "    denom = tf.maximum(denom, 1e-6)\n",
    "\n",
    "    return tf.reduce_sum(diff_squared) / denom\n"
   ]
  },
  {
   "cell_type": "code",
   "execution_count": 3,
   "id": "17be5d9d-1f5a-40eb-9cdb-5e2faf501349",
   "metadata": {
    "tags": []
   },
   "outputs": [
    {
     "name": "stdout",
     "output_type": "stream",
     "text": [
      "Running CV group 1/5\n"
     ]
    },
    {
     "name": "stderr",
     "output_type": "stream",
     "text": [
      "getfattr: /home/jupyter/data/model_data/mini_data_set/time_20230804_180000.nc: Operation not supported\n",
      "getfattr: /home/jupyter/data/model_data/mini_data_set/time_20230812_130000.nc: Operation not supported\n",
      "getfattr: /home/jupyter/data/model_data/mini_data_set/time_20230804_090000.nc: Operation not supported\n",
      "getfattr: /home/jupyter/data/model_data/mini_data_set/time_20230816_080000.nc: Operation not supported\n"
     ]
    },
    {
     "name": "stdout",
     "output_type": "stream",
     "text": [
      "Epoch 1/4\n"
     ]
    },
    {
     "name": "stderr",
     "output_type": "stream",
     "text": [
      "getfattr: /home/jupyter/data/model_data/mini_data_set/time_20230815_170000.nc: Operation not supported\n",
      "getfattr: /home/jupyter/data/model_data/mini_data_set/time_20230811_090000.nc: Operation not supported\n",
      "getfattr: /home/jupyter/data/model_data/mini_data_set/time_20230811_080000.nc: Operation not supported\n",
      "getfattr: /home/jupyter/data/model_data/mini_data_set/time_20230807_100000.nc: Operation not supported\n",
      "getfattr: /home/jupyter/data/model_data/mini_data_set/time_20230807_080000.nc: Operation not supported\n"
     ]
    },
    {
     "name": "stdout",
     "output_type": "stream",
     "text": [
      " 1/25 [>.............................] - ETA: 6:08 - loss: 11.9419"
     ]
    },
    {
     "name": "stderr",
     "output_type": "stream",
     "text": [
      "getfattr: /home/jupyter/data/model_data/mini_data_set/time_20230805_070000.nc: Operation not supported\n",
      "getfattr: /home/jupyter/data/model_data/mini_data_set/time_20230802_140000.nc: Operation not supported\n",
      "getfattr: /home/jupyter/data/model_data/mini_data_set/time_20230812_170000.nc: Operation not supported\n"
     ]
    },
    {
     "name": "stdout",
     "output_type": "stream",
     "text": [
      " 2/25 [=>............................] - ETA: 4:46 - loss: 13.5787"
     ]
    },
    {
     "name": "stderr",
     "output_type": "stream",
     "text": [
      "getfattr: /home/jupyter/data/model_data/mini_data_set/time_20230806_140000.nc: Operation not supported\n",
      "getfattr: /home/jupyter/data/model_data/mini_data_set/time_20230805_180000.nc: Operation not supported\n",
      "getfattr: /home/jupyter/data/model_data/mini_data_set/time_20230815_150000.nc: Operation not supported\n",
      "getfattr: /home/jupyter/data/model_data/mini_data_set/time_20230802_150000.nc: Operation not supported\n"
     ]
    },
    {
     "name": "stdout",
     "output_type": "stream",
     "text": [
      " 3/25 [==>...........................] - ETA: 4:39 - loss: 14.2067"
     ]
    },
    {
     "name": "stderr",
     "output_type": "stream",
     "text": [
      "getfattr: /home/jupyter/data/model_data/mini_data_set/time_20230806_180000.nc: Operation not supported\n",
      "getfattr: /home/jupyter/data/model_data/mini_data_set/time_20230809_140000.nc: Operation not supported\n",
      "getfattr: /home/jupyter/data/model_data/mini_data_set/time_20230816_110000.nc: Operation not supported\n",
      "getfattr: /home/jupyter/data/model_data/mini_data_set/time_20230812_080000.nc: Operation not supported\n"
     ]
    },
    {
     "name": "stdout",
     "output_type": "stream",
     "text": [
      " 4/25 [===>..........................] - ETA: 4:29 - loss: 13.1528"
     ]
    },
    {
     "name": "stderr",
     "output_type": "stream",
     "text": [
      "getfattr: /home/jupyter/data/model_data/mini_data_set/time_20230809_100000.nc: Operation not supported\n",
      "getfattr: /home/jupyter/data/model_data/mini_data_set/time_20230811_070000.nc: Operation not supported\n",
      "getfattr: /home/jupyter/data/model_data/mini_data_set/time_20230809_150000.nc: Operation not supported\n",
      "getfattr: /home/jupyter/data/model_data/mini_data_set/time_20230805_090000.nc: Operation not supported\n"
     ]
    },
    {
     "name": "stdout",
     "output_type": "stream",
     "text": [
      " 5/25 [=====>........................] - ETA: 4:17 - loss: 12.3266"
     ]
    },
    {
     "name": "stderr",
     "output_type": "stream",
     "text": [
      "getfattr: /home/jupyter/data/model_data/mini_data_set/time_20230806_150000.nc: Operation not supported\n",
      "getfattr: /home/jupyter/data/model_data/mini_data_set/time_20230809_130000.nc: Operation not supported\n",
      "getfattr: /home/jupyter/data/model_data/mini_data_set/time_20230809_110000.nc: Operation not supported\n",
      "getfattr: /home/jupyter/data/model_data/mini_data_set/time_20230816_070000.nc: Operation not supported\n"
     ]
    },
    {
     "name": "stdout",
     "output_type": "stream",
     "text": [
      " 6/25 [======>.......................] - ETA: 4:03 - loss: 16.6898"
     ]
    },
    {
     "name": "stderr",
     "output_type": "stream",
     "text": [
      "getfattr: /home/jupyter/data/model_data/mini_data_set/time_20230804_120000.nc: Operation not supported\n",
      "getfattr: /home/jupyter/data/model_data/mini_data_set/time_20230807_130000.nc: Operation not supported\n",
      "getfattr: /home/jupyter/data/model_data/mini_data_set/time_20230807_160000.nc: Operation not supported\n",
      "getfattr: /home/jupyter/data/model_data/mini_data_set/time_20230804_130000.nc: Operation not supported\n"
     ]
    },
    {
     "name": "stdout",
     "output_type": "stream",
     "text": [
      " 7/25 [=======>......................] - ETA: 3:51 - loss: 16.0957"
     ]
    },
    {
     "name": "stderr",
     "output_type": "stream",
     "text": [
      "getfattr: /home/jupyter/data/model_data/mini_data_set/time_20230807_090000.nc: Operation not supported\n",
      "getfattr: /home/jupyter/data/model_data/mini_data_set/time_20230804_100000.nc: Operation not supported\n",
      "getfattr: /home/jupyter/data/model_data/mini_data_set/time_20230808_180000.nc: Operation not supported\n",
      "getfattr: /home/jupyter/data/model_data/mini_data_set/time_20230807_070000.nc: Operation not supported\n"
     ]
    },
    {
     "name": "stdout",
     "output_type": "stream",
     "text": [
      " 8/25 [========>.....................] - ETA: 3:37 - loss: 15.3774"
     ]
    },
    {
     "name": "stderr",
     "output_type": "stream",
     "text": [
      "getfattr: /home/jupyter/data/model_data/mini_data_set/time_20230804_180000.nc: Operation not supported\n",
      "getfattr: /home/jupyter/data/model_data/mini_data_set/time_20230812_130000.nc: Operation not supported\n",
      "getfattr: /home/jupyter/data/model_data/mini_data_set/time_20230804_090000.nc: Operation not supported\n",
      "getfattr: /home/jupyter/data/model_data/mini_data_set/time_20230816_080000.nc: Operation not supported\n",
      "getfattr: /home/jupyter/data/model_data/mini_data_set/time_20230806_070000.nc: Operation not supported\n"
     ]
    },
    {
     "ename": "KeyboardInterrupt",
     "evalue": "",
     "output_type": "error",
     "traceback": [
      "\u001b[0;31m---------------------------------------------------------------------------\u001b[0m",
      "\u001b[0;31mKeyboardInterrupt\u001b[0m                         Traceback (most recent call last)",
      "Cell \u001b[0;32mIn[3], line 40\u001b[0m\n\u001b[1;32m     37\u001b[0m model \u001b[38;5;241m=\u001b[39m build_baseline_model(input_shape\u001b[38;5;241m=\u001b[39m(\u001b[38;5;241m479\u001b[39m, \u001b[38;5;241m1059\u001b[39m, \u001b[38;5;241m22\u001b[39m))\n\u001b[1;32m     38\u001b[0m model\u001b[38;5;241m.\u001b[39mcompile(optimizer\u001b[38;5;241m=\u001b[39m\u001b[38;5;124m'\u001b[39m\u001b[38;5;124madam\u001b[39m\u001b[38;5;124m'\u001b[39m, loss\u001b[38;5;241m=\u001b[39mmasked_mse)\n\u001b[0;32m---> 40\u001b[0m \u001b[43mmodel\u001b[49m\u001b[38;5;241;43m.\u001b[39;49m\u001b[43mfit\u001b[49m\u001b[43m(\u001b[49m\n\u001b[1;32m     41\u001b[0m \u001b[43m    \u001b[49m\u001b[43mtrain_loader\u001b[49m\u001b[43m,\u001b[49m\n\u001b[1;32m     42\u001b[0m \u001b[43m    \u001b[49m\u001b[43mvalidation_data\u001b[49m\u001b[38;5;241;43m=\u001b[39;49m\u001b[43mval_loader\u001b[49m\u001b[43m,\u001b[49m\n\u001b[1;32m     43\u001b[0m \u001b[43m    \u001b[49m\u001b[43mepochs\u001b[49m\u001b[38;5;241;43m=\u001b[39;49m\u001b[43mepochs_param\u001b[49m\u001b[43m,\u001b[49m\n\u001b[1;32m     44\u001b[0m \u001b[43m    \u001b[49m\u001b[43mverbose\u001b[49m\u001b[38;5;241;43m=\u001b[39;49m\u001b[38;5;241;43m1\u001b[39;49m\n\u001b[1;32m     45\u001b[0m \u001b[43m\u001b[49m\u001b[43m)\u001b[49m\n\u001b[1;32m     47\u001b[0m \u001b[38;5;66;03m# Predict and collect results\u001b[39;00m\n\u001b[1;32m     48\u001b[0m \u001b[38;5;28;01mfor\u001b[39;00m i, (batch_x, batch_y_true) \u001b[38;5;129;01min\u001b[39;00m \u001b[38;5;28menumerate\u001b[39m(val_loader):\n",
      "File \u001b[0;32m/opt/conda/envs/tensorflow/lib/python3.10/site-packages/keras/utils/traceback_utils.py:65\u001b[0m, in \u001b[0;36mfilter_traceback.<locals>.error_handler\u001b[0;34m(*args, **kwargs)\u001b[0m\n\u001b[1;32m     63\u001b[0m filtered_tb \u001b[38;5;241m=\u001b[39m \u001b[38;5;28;01mNone\u001b[39;00m\n\u001b[1;32m     64\u001b[0m \u001b[38;5;28;01mtry\u001b[39;00m:\n\u001b[0;32m---> 65\u001b[0m     \u001b[38;5;28;01mreturn\u001b[39;00m \u001b[43mfn\u001b[49m\u001b[43m(\u001b[49m\u001b[38;5;241;43m*\u001b[39;49m\u001b[43margs\u001b[49m\u001b[43m,\u001b[49m\u001b[43m \u001b[49m\u001b[38;5;241;43m*\u001b[39;49m\u001b[38;5;241;43m*\u001b[39;49m\u001b[43mkwargs\u001b[49m\u001b[43m)\u001b[49m\n\u001b[1;32m     66\u001b[0m \u001b[38;5;28;01mexcept\u001b[39;00m \u001b[38;5;167;01mException\u001b[39;00m \u001b[38;5;28;01mas\u001b[39;00m e:\n\u001b[1;32m     67\u001b[0m     filtered_tb \u001b[38;5;241m=\u001b[39m _process_traceback_frames(e\u001b[38;5;241m.\u001b[39m__traceback__)\n",
      "File \u001b[0;32m/opt/conda/envs/tensorflow/lib/python3.10/site-packages/keras/engine/training.py:1650\u001b[0m, in \u001b[0;36mModel.fit\u001b[0;34m(self, x, y, batch_size, epochs, verbose, callbacks, validation_split, validation_data, shuffle, class_weight, sample_weight, initial_epoch, steps_per_epoch, validation_steps, validation_batch_size, validation_freq, max_queue_size, workers, use_multiprocessing)\u001b[0m\n\u001b[1;32m   1642\u001b[0m \u001b[38;5;28;01mwith\u001b[39;00m tf\u001b[38;5;241m.\u001b[39mprofiler\u001b[38;5;241m.\u001b[39mexperimental\u001b[38;5;241m.\u001b[39mTrace(\n\u001b[1;32m   1643\u001b[0m     \u001b[38;5;124m\"\u001b[39m\u001b[38;5;124mtrain\u001b[39m\u001b[38;5;124m\"\u001b[39m,\n\u001b[1;32m   1644\u001b[0m     epoch_num\u001b[38;5;241m=\u001b[39mepoch,\n\u001b[0;32m   (...)\u001b[0m\n\u001b[1;32m   1647\u001b[0m     _r\u001b[38;5;241m=\u001b[39m\u001b[38;5;241m1\u001b[39m,\n\u001b[1;32m   1648\u001b[0m ):\n\u001b[1;32m   1649\u001b[0m     callbacks\u001b[38;5;241m.\u001b[39mon_train_batch_begin(step)\n\u001b[0;32m-> 1650\u001b[0m     tmp_logs \u001b[38;5;241m=\u001b[39m \u001b[38;5;28;43mself\u001b[39;49m\u001b[38;5;241;43m.\u001b[39;49m\u001b[43mtrain_function\u001b[49m\u001b[43m(\u001b[49m\u001b[43miterator\u001b[49m\u001b[43m)\u001b[49m\n\u001b[1;32m   1651\u001b[0m     \u001b[38;5;28;01mif\u001b[39;00m data_handler\u001b[38;5;241m.\u001b[39mshould_sync:\n\u001b[1;32m   1652\u001b[0m         context\u001b[38;5;241m.\u001b[39masync_wait()\n",
      "File \u001b[0;32m/opt/conda/envs/tensorflow/lib/python3.10/site-packages/tensorflow/python/util/traceback_utils.py:150\u001b[0m, in \u001b[0;36mfilter_traceback.<locals>.error_handler\u001b[0;34m(*args, **kwargs)\u001b[0m\n\u001b[1;32m    148\u001b[0m filtered_tb \u001b[38;5;241m=\u001b[39m \u001b[38;5;28;01mNone\u001b[39;00m\n\u001b[1;32m    149\u001b[0m \u001b[38;5;28;01mtry\u001b[39;00m:\n\u001b[0;32m--> 150\u001b[0m   \u001b[38;5;28;01mreturn\u001b[39;00m \u001b[43mfn\u001b[49m\u001b[43m(\u001b[49m\u001b[38;5;241;43m*\u001b[39;49m\u001b[43margs\u001b[49m\u001b[43m,\u001b[49m\u001b[43m \u001b[49m\u001b[38;5;241;43m*\u001b[39;49m\u001b[38;5;241;43m*\u001b[39;49m\u001b[43mkwargs\u001b[49m\u001b[43m)\u001b[49m\n\u001b[1;32m    151\u001b[0m \u001b[38;5;28;01mexcept\u001b[39;00m \u001b[38;5;167;01mException\u001b[39;00m \u001b[38;5;28;01mas\u001b[39;00m e:\n\u001b[1;32m    152\u001b[0m   filtered_tb \u001b[38;5;241m=\u001b[39m _process_traceback_frames(e\u001b[38;5;241m.\u001b[39m__traceback__)\n",
      "File \u001b[0;32m/opt/conda/envs/tensorflow/lib/python3.10/site-packages/tensorflow/python/eager/polymorphic_function/polymorphic_function.py:880\u001b[0m, in \u001b[0;36mFunction.__call__\u001b[0;34m(self, *args, **kwds)\u001b[0m\n\u001b[1;32m    877\u001b[0m compiler \u001b[38;5;241m=\u001b[39m \u001b[38;5;124m\"\u001b[39m\u001b[38;5;124mxla\u001b[39m\u001b[38;5;124m\"\u001b[39m \u001b[38;5;28;01mif\u001b[39;00m \u001b[38;5;28mself\u001b[39m\u001b[38;5;241m.\u001b[39m_jit_compile \u001b[38;5;28;01melse\u001b[39;00m \u001b[38;5;124m\"\u001b[39m\u001b[38;5;124mnonXla\u001b[39m\u001b[38;5;124m\"\u001b[39m\n\u001b[1;32m    879\u001b[0m \u001b[38;5;28;01mwith\u001b[39;00m OptionalXlaContext(\u001b[38;5;28mself\u001b[39m\u001b[38;5;241m.\u001b[39m_jit_compile):\n\u001b[0;32m--> 880\u001b[0m   result \u001b[38;5;241m=\u001b[39m \u001b[38;5;28;43mself\u001b[39;49m\u001b[38;5;241;43m.\u001b[39;49m\u001b[43m_call\u001b[49m\u001b[43m(\u001b[49m\u001b[38;5;241;43m*\u001b[39;49m\u001b[43margs\u001b[49m\u001b[43m,\u001b[49m\u001b[43m \u001b[49m\u001b[38;5;241;43m*\u001b[39;49m\u001b[38;5;241;43m*\u001b[39;49m\u001b[43mkwds\u001b[49m\u001b[43m)\u001b[49m\n\u001b[1;32m    882\u001b[0m new_tracing_count \u001b[38;5;241m=\u001b[39m \u001b[38;5;28mself\u001b[39m\u001b[38;5;241m.\u001b[39mexperimental_get_tracing_count()\n\u001b[1;32m    883\u001b[0m without_tracing \u001b[38;5;241m=\u001b[39m (tracing_count \u001b[38;5;241m==\u001b[39m new_tracing_count)\n",
      "File \u001b[0;32m/opt/conda/envs/tensorflow/lib/python3.10/site-packages/tensorflow/python/eager/polymorphic_function/polymorphic_function.py:912\u001b[0m, in \u001b[0;36mFunction._call\u001b[0;34m(self, *args, **kwds)\u001b[0m\n\u001b[1;32m    909\u001b[0m   \u001b[38;5;28mself\u001b[39m\u001b[38;5;241m.\u001b[39m_lock\u001b[38;5;241m.\u001b[39mrelease()\n\u001b[1;32m    910\u001b[0m   \u001b[38;5;66;03m# In this case we have created variables on the first call, so we run the\u001b[39;00m\n\u001b[1;32m    911\u001b[0m   \u001b[38;5;66;03m# defunned version which is guaranteed to never create variables.\u001b[39;00m\n\u001b[0;32m--> 912\u001b[0m   \u001b[38;5;28;01mreturn\u001b[39;00m \u001b[38;5;28;43mself\u001b[39;49m\u001b[38;5;241;43m.\u001b[39;49m\u001b[43m_no_variable_creation_fn\u001b[49m\u001b[43m(\u001b[49m\u001b[38;5;241;43m*\u001b[39;49m\u001b[43margs\u001b[49m\u001b[43m,\u001b[49m\u001b[43m \u001b[49m\u001b[38;5;241;43m*\u001b[39;49m\u001b[38;5;241;43m*\u001b[39;49m\u001b[43mkwds\u001b[49m\u001b[43m)\u001b[49m  \u001b[38;5;66;03m# pylint: disable=not-callable\u001b[39;00m\n\u001b[1;32m    913\u001b[0m \u001b[38;5;28;01melif\u001b[39;00m \u001b[38;5;28mself\u001b[39m\u001b[38;5;241m.\u001b[39m_variable_creation_fn \u001b[38;5;129;01mis\u001b[39;00m \u001b[38;5;129;01mnot\u001b[39;00m \u001b[38;5;28;01mNone\u001b[39;00m:\n\u001b[1;32m    914\u001b[0m   \u001b[38;5;66;03m# Release the lock early so that multiple threads can perform the call\u001b[39;00m\n\u001b[1;32m    915\u001b[0m   \u001b[38;5;66;03m# in parallel.\u001b[39;00m\n\u001b[1;32m    916\u001b[0m   \u001b[38;5;28mself\u001b[39m\u001b[38;5;241m.\u001b[39m_lock\u001b[38;5;241m.\u001b[39mrelease()\n",
      "File \u001b[0;32m/opt/conda/envs/tensorflow/lib/python3.10/site-packages/tensorflow/python/eager/polymorphic_function/tracing_compiler.py:134\u001b[0m, in \u001b[0;36mTracingCompiler.__call__\u001b[0;34m(self, *args, **kwargs)\u001b[0m\n\u001b[1;32m    131\u001b[0m \u001b[38;5;28;01mwith\u001b[39;00m \u001b[38;5;28mself\u001b[39m\u001b[38;5;241m.\u001b[39m_lock:\n\u001b[1;32m    132\u001b[0m   (concrete_function,\n\u001b[1;32m    133\u001b[0m    filtered_flat_args) \u001b[38;5;241m=\u001b[39m \u001b[38;5;28mself\u001b[39m\u001b[38;5;241m.\u001b[39m_maybe_define_function(args, kwargs)\n\u001b[0;32m--> 134\u001b[0m \u001b[38;5;28;01mreturn\u001b[39;00m \u001b[43mconcrete_function\u001b[49m\u001b[38;5;241;43m.\u001b[39;49m\u001b[43m_call_flat\u001b[49m\u001b[43m(\u001b[49m\n\u001b[1;32m    135\u001b[0m \u001b[43m    \u001b[49m\u001b[43mfiltered_flat_args\u001b[49m\u001b[43m,\u001b[49m\u001b[43m \u001b[49m\u001b[43mcaptured_inputs\u001b[49m\u001b[38;5;241;43m=\u001b[39;49m\u001b[43mconcrete_function\u001b[49m\u001b[38;5;241;43m.\u001b[39;49m\u001b[43mcaptured_inputs\u001b[49m\u001b[43m)\u001b[49m\n",
      "File \u001b[0;32m/opt/conda/envs/tensorflow/lib/python3.10/site-packages/tensorflow/python/eager/polymorphic_function/monomorphic_function.py:1745\u001b[0m, in \u001b[0;36mConcreteFunction._call_flat\u001b[0;34m(self, args, captured_inputs, cancellation_manager)\u001b[0m\n\u001b[1;32m   1741\u001b[0m possible_gradient_type \u001b[38;5;241m=\u001b[39m gradients_util\u001b[38;5;241m.\u001b[39mPossibleTapeGradientTypes(args)\n\u001b[1;32m   1742\u001b[0m \u001b[38;5;28;01mif\u001b[39;00m (possible_gradient_type \u001b[38;5;241m==\u001b[39m gradients_util\u001b[38;5;241m.\u001b[39mPOSSIBLE_GRADIENT_TYPES_NONE\n\u001b[1;32m   1743\u001b[0m     \u001b[38;5;129;01mand\u001b[39;00m executing_eagerly):\n\u001b[1;32m   1744\u001b[0m   \u001b[38;5;66;03m# No tape is watching; skip to running the function.\u001b[39;00m\n\u001b[0;32m-> 1745\u001b[0m   \u001b[38;5;28;01mreturn\u001b[39;00m \u001b[38;5;28mself\u001b[39m\u001b[38;5;241m.\u001b[39m_build_call_outputs(\u001b[38;5;28;43mself\u001b[39;49m\u001b[38;5;241;43m.\u001b[39;49m\u001b[43m_inference_function\u001b[49m\u001b[38;5;241;43m.\u001b[39;49m\u001b[43mcall\u001b[49m\u001b[43m(\u001b[49m\n\u001b[1;32m   1746\u001b[0m \u001b[43m      \u001b[49m\u001b[43mctx\u001b[49m\u001b[43m,\u001b[49m\u001b[43m \u001b[49m\u001b[43margs\u001b[49m\u001b[43m,\u001b[49m\u001b[43m \u001b[49m\u001b[43mcancellation_manager\u001b[49m\u001b[38;5;241;43m=\u001b[39;49m\u001b[43mcancellation_manager\u001b[49m\u001b[43m)\u001b[49m)\n\u001b[1;32m   1747\u001b[0m forward_backward \u001b[38;5;241m=\u001b[39m \u001b[38;5;28mself\u001b[39m\u001b[38;5;241m.\u001b[39m_select_forward_and_backward_functions(\n\u001b[1;32m   1748\u001b[0m     args,\n\u001b[1;32m   1749\u001b[0m     possible_gradient_type,\n\u001b[1;32m   1750\u001b[0m     executing_eagerly)\n\u001b[1;32m   1751\u001b[0m forward_function, args_with_tangents \u001b[38;5;241m=\u001b[39m forward_backward\u001b[38;5;241m.\u001b[39mforward()\n",
      "File \u001b[0;32m/opt/conda/envs/tensorflow/lib/python3.10/site-packages/tensorflow/python/eager/polymorphic_function/monomorphic_function.py:378\u001b[0m, in \u001b[0;36m_EagerDefinedFunction.call\u001b[0;34m(self, ctx, args, cancellation_manager)\u001b[0m\n\u001b[1;32m    376\u001b[0m \u001b[38;5;28;01mwith\u001b[39;00m _InterpolateFunctionError(\u001b[38;5;28mself\u001b[39m):\n\u001b[1;32m    377\u001b[0m   \u001b[38;5;28;01mif\u001b[39;00m cancellation_manager \u001b[38;5;129;01mis\u001b[39;00m \u001b[38;5;28;01mNone\u001b[39;00m:\n\u001b[0;32m--> 378\u001b[0m     outputs \u001b[38;5;241m=\u001b[39m \u001b[43mexecute\u001b[49m\u001b[38;5;241;43m.\u001b[39;49m\u001b[43mexecute\u001b[49m\u001b[43m(\u001b[49m\n\u001b[1;32m    379\u001b[0m \u001b[43m        \u001b[49m\u001b[38;5;28;43mstr\u001b[39;49m\u001b[43m(\u001b[49m\u001b[38;5;28;43mself\u001b[39;49m\u001b[38;5;241;43m.\u001b[39;49m\u001b[43msignature\u001b[49m\u001b[38;5;241;43m.\u001b[39;49m\u001b[43mname\u001b[49m\u001b[43m)\u001b[49m\u001b[43m,\u001b[49m\n\u001b[1;32m    380\u001b[0m \u001b[43m        \u001b[49m\u001b[43mnum_outputs\u001b[49m\u001b[38;5;241;43m=\u001b[39;49m\u001b[38;5;28;43mself\u001b[39;49m\u001b[38;5;241;43m.\u001b[39;49m\u001b[43m_num_outputs\u001b[49m\u001b[43m,\u001b[49m\n\u001b[1;32m    381\u001b[0m \u001b[43m        \u001b[49m\u001b[43minputs\u001b[49m\u001b[38;5;241;43m=\u001b[39;49m\u001b[43margs\u001b[49m\u001b[43m,\u001b[49m\n\u001b[1;32m    382\u001b[0m \u001b[43m        \u001b[49m\u001b[43mattrs\u001b[49m\u001b[38;5;241;43m=\u001b[39;49m\u001b[43mattrs\u001b[49m\u001b[43m,\u001b[49m\n\u001b[1;32m    383\u001b[0m \u001b[43m        \u001b[49m\u001b[43mctx\u001b[49m\u001b[38;5;241;43m=\u001b[39;49m\u001b[43mctx\u001b[49m\u001b[43m)\u001b[49m\n\u001b[1;32m    384\u001b[0m   \u001b[38;5;28;01melse\u001b[39;00m:\n\u001b[1;32m    385\u001b[0m     outputs \u001b[38;5;241m=\u001b[39m execute\u001b[38;5;241m.\u001b[39mexecute_with_cancellation(\n\u001b[1;32m    386\u001b[0m         \u001b[38;5;28mstr\u001b[39m(\u001b[38;5;28mself\u001b[39m\u001b[38;5;241m.\u001b[39msignature\u001b[38;5;241m.\u001b[39mname),\n\u001b[1;32m    387\u001b[0m         num_outputs\u001b[38;5;241m=\u001b[39m\u001b[38;5;28mself\u001b[39m\u001b[38;5;241m.\u001b[39m_num_outputs,\n\u001b[0;32m   (...)\u001b[0m\n\u001b[1;32m    390\u001b[0m         ctx\u001b[38;5;241m=\u001b[39mctx,\n\u001b[1;32m    391\u001b[0m         cancellation_manager\u001b[38;5;241m=\u001b[39mcancellation_manager)\n",
      "File \u001b[0;32m/opt/conda/envs/tensorflow/lib/python3.10/site-packages/tensorflow/python/eager/execute.py:52\u001b[0m, in \u001b[0;36mquick_execute\u001b[0;34m(op_name, num_outputs, inputs, attrs, ctx, name)\u001b[0m\n\u001b[1;32m     50\u001b[0m \u001b[38;5;28;01mtry\u001b[39;00m:\n\u001b[1;32m     51\u001b[0m   ctx\u001b[38;5;241m.\u001b[39mensure_initialized()\n\u001b[0;32m---> 52\u001b[0m   tensors \u001b[38;5;241m=\u001b[39m \u001b[43mpywrap_tfe\u001b[49m\u001b[38;5;241;43m.\u001b[39;49m\u001b[43mTFE_Py_Execute\u001b[49m\u001b[43m(\u001b[49m\u001b[43mctx\u001b[49m\u001b[38;5;241;43m.\u001b[39;49m\u001b[43m_handle\u001b[49m\u001b[43m,\u001b[49m\u001b[43m \u001b[49m\u001b[43mdevice_name\u001b[49m\u001b[43m,\u001b[49m\u001b[43m \u001b[49m\u001b[43mop_name\u001b[49m\u001b[43m,\u001b[49m\n\u001b[1;32m     53\u001b[0m \u001b[43m                                      \u001b[49m\u001b[43minputs\u001b[49m\u001b[43m,\u001b[49m\u001b[43m \u001b[49m\u001b[43mattrs\u001b[49m\u001b[43m,\u001b[49m\u001b[43m \u001b[49m\u001b[43mnum_outputs\u001b[49m\u001b[43m)\u001b[49m\n\u001b[1;32m     54\u001b[0m \u001b[38;5;28;01mexcept\u001b[39;00m core\u001b[38;5;241m.\u001b[39m_NotOkStatusException \u001b[38;5;28;01mas\u001b[39;00m e:\n\u001b[1;32m     55\u001b[0m   \u001b[38;5;28;01mif\u001b[39;00m name \u001b[38;5;129;01mis\u001b[39;00m \u001b[38;5;129;01mnot\u001b[39;00m \u001b[38;5;28;01mNone\u001b[39;00m:\n",
      "\u001b[0;31mKeyboardInterrupt\u001b[0m: "
     ]
    }
   ],
   "source": [
    "################################################\n",
    "##      Cross Validation and Save Results     ##\n",
    "################################################\n",
    "\n",
    "# Parameters\n",
    "batch_size = 4\n",
    "img_size = (479, 1059)\n",
    "img_paths = full_paths\n",
    "kernel_sizes_param = [3, 5, 3]\n",
    "CNN_filters_param = 64\n",
    "activation_param = 'relu'\n",
    "epochs_param = 4\n",
    "\n",
    "cv_results = []\n",
    "\n",
    "for cv_group in range(1, 6):  # cv_group 1 to 5\n",
    "    print(f\"Running CV group {cv_group}/5\")\n",
    "    \n",
    "    drop_locs_train_set = sensor_df[sensor_df['cv_group'] == cv_group][['lat', 'lon']]\n",
    "    drop_locs_val_set = sensor_df[sensor_df['cv_group'] != cv_group][['lat', 'lon']]\n",
    "\n",
    "    train_loader = ncDataLoader(\n",
    "        batch_size=batch_size,\n",
    "        img_size=img_size,\n",
    "        img_paths=full_paths,\n",
    "        drop_sensor_locs_df=drop_locs_train_set\n",
    "    )\n",
    "\n",
    "    val_loader = ncDataLoader(\n",
    "        batch_size=batch_size,\n",
    "        img_size=img_size,\n",
    "        img_paths=full_paths,\n",
    "        drop_sensor_locs_df=drop_locs_val_set\n",
    "    )\n",
    "\n",
    "    # Reset model for each fold\n",
    "    model = build_baseline_model(input_shape=(479, 1059, 22))\n",
    "    model.compile(optimizer='adam', loss=masked_mse)\n",
    "\n",
    "    model.fit(\n",
    "        train_loader,\n",
    "        validation_data=val_loader,\n",
    "        epochs=epochs_param,\n",
    "        verbose=1\n",
    "    )\n",
    "\n",
    "    # Predict and collect results\n",
    "    for i, (batch_x, batch_y_true) in enumerate(val_loader):\n",
    "        batch_y_pred = model.predict(batch_x)\n",
    "\n",
    "        for j in range(len(batch_y_true)):\n",
    "            y_true = batch_y_true[j]\n",
    "            y_pred = batch_y_pred[j]\n",
    "\n",
    "            mask = ~np.isnan(y_true)\n",
    "            rows, cols, _ = np.where(mask)\n",
    "\n",
    "            true_vals = y_true[rows, cols]\n",
    "            pred_vals = y_pred[rows, cols]\n",
    "\n",
    "            # Optional: use corresponding file name for traceability\n",
    "            file_idx = i * batch_size + j\n",
    "            file_name = os.path.basename(full_paths[file_idx]) if file_idx < len(full_paths) else None\n",
    "\n",
    "            for r, c, t, p in zip(rows, cols, true_vals, pred_vals):\n",
    "                cv_results.append({\n",
    "                    'cv_group': cv_group,\n",
    "                    'file': file_name,\n",
    "                    'row': r,\n",
    "                    'col': c,\n",
    "                    'true': t[0],\n",
    "                    'predicted': p[0],\n",
    "                    'lat': r * 0.01 + 28.605,\n",
    "                    'lon': c * 0.01 -98.895\n",
    "                })\n",
    "\n",
    "df_cv = pd.DataFrame(cv_results)"
   ]
  },
  {
   "cell_type": "code",
   "execution_count": null,
   "id": "9b5279be-aefc-4de4-91a1-1267a06e89cd",
   "metadata": {
    "tags": []
   },
   "outputs": [],
   "source": [
    "df_cv.to_csv('test_model_results_baseline.csv')"
   ]
  },
  {
   "cell_type": "code",
   "execution_count": null,
   "id": "172ceb32-2fa2-478e-b96b-d93bc4cae421",
   "metadata": {
    "tags": []
   },
   "outputs": [],
   "source": [
    "end = time.time()\n",
    "print(f\"Elapsed time: {end - start:.2f} seconds\")"
   ]
  }
 ],
 "metadata": {
  "environment": {
   "kernel": "conda-env-tensorflow-tensorflow",
   "name": "workbench-notebooks.m125",
   "type": "gcloud",
   "uri": "us-docker.pkg.dev/deeplearning-platform-release/gcr.io/workbench-notebooks:m125"
  },
  "kernelspec": {
   "display_name": "TensorFlow 2-11 (Local)",
   "language": "python",
   "name": "conda-env-tensorflow-tensorflow"
  },
  "language_info": {
   "codemirror_mode": {
    "name": "ipython",
    "version": 3
   },
   "file_extension": ".py",
   "mimetype": "text/x-python",
   "name": "python",
   "nbconvert_exporter": "python",
   "pygments_lexer": "ipython3",
   "version": "3.10.15"
  }
 },
 "nbformat": 4,
 "nbformat_minor": 5
}
