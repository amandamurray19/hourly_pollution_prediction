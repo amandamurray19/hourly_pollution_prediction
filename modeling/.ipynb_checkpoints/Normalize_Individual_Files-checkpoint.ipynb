{
 "cells": [
  {
   "cell_type": "code",
   "execution_count": 4,
   "id": "b42eb03d-4e81-4020-a8d1-38c7e5c0269e",
   "metadata": {
    "tags": []
   },
   "outputs": [],
   "source": [
    "import xarray as xr\n",
    "import pandas as pd\n",
    "import numpy as np\n",
    "import sys\n",
    "import os\n",
    "from joblib import Parallel, delayed\n"
   ]
  },
  {
   "cell_type": "code",
   "execution_count": 2,
   "id": "464585fe-53c2-4da4-8f34-ca1eaa16915c",
   "metadata": {
    "tags": []
   },
   "outputs": [],
   "source": [
    "# NO2\n",
    "path = '../../data/model_data/EPA_sensor_only_no2'\n",
    "nc_files = [os.path.join(path, f) for f in os.listdir(path) if f.endswith('.nc')]\n",
    "# Create output directory if it doesn't exist\n",
    "output_dir = '../../data/model_data/EPA_sensor_only_no2_norm'\n",
    "\n",
    "df = pd.read_csv('normalization_stats_no2.csv')\n",
    "\n",
    "# Make lookup dictionaries once (outside the loop)\n",
    "mean_dict = df.set_index(\"variable\")[\"mean\"].to_dict()\n",
    "std_dict = df.set_index(\"variable\")[\"std\"].to_dict()\n",
    "\n",
    "def normalize_file(file, mean_dict, std_dict, out_dir=output_dir):\n",
    "    # Open dataset\n",
    "    xa = xr.open_dataset(file)\n",
    "\n",
    "    # Apply normalization\n",
    "    for var in xa.data_vars:\n",
    "        if var in mean_dict and var in std_dict:\n",
    "            mean = mean_dict[var]\n",
    "            std = std_dict[var]\n",
    "            if std == 0 or pd.isna(std):\n",
    "                xa[var] = xa[var] - mean\n",
    "            else:\n",
    "                xa[var] = (xa[var] - mean) / std\n",
    "\n",
    "    # Optionally save normalized dataset\n",
    "    out_path = f\"{out_dir}/{file.split('/')[-1]}\"\n",
    "    xa.to_netcdf(out_path)\n",
    "    return out_path\n",
    "\n",
    "\n",
    "# Parallel execution\n",
    "normalized_files = Parallel(n_jobs=-1)(  # n_jobs=-1 = use all cores\n",
    "    delayed(normalize_file)(file, mean_dict, std_dict, out_dir=output_dir)\n",
    "    for file in nc_files\n",
    ")"
   ]
  },
  {
   "cell_type": "code",
   "execution_count": 6,
   "id": "f071692d-8f38-44dc-98a8-aa3cbfadcf67",
   "metadata": {
    "tags": []
   },
   "outputs": [],
   "source": [
    "os.mkdir('../../data/model_data/EPA_sensor_only_o3_norm')"
   ]
  },
  {
   "cell_type": "code",
   "execution_count": null,
   "id": "95ddb341-40e0-4f9a-933c-8293077391af",
   "metadata": {
    "tags": []
   },
   "outputs": [],
   "source": [
    "# NO2\n",
    "path = '../../data/model_data/EPA_sensor_only_o3'\n",
    "nc_files = [os.path.join(path, f) for f in os.listdir(path) if f.endswith('.nc')]\n",
    "# Create output directory if it doesn't exist\n",
    "output_dir = '../../data/model_data/EPA_sensor_only_o3_norm'\n",
    "\n",
    "df = pd.read_csv('normalization_stats_o3.csv')\n",
    "\n",
    "# Make lookup dictionaries once (outside the loop)\n",
    "mean_dict = df.set_index(\"variable\")[\"mean\"].to_dict()\n",
    "std_dict = df.set_index(\"variable\")[\"std\"].to_dict()\n",
    "\n",
    "def normalize_file(file, mean_dict, std_dict, out_dir=output_dir):\n",
    "    # Open dataset\n",
    "    xa = xr.open_dataset(file)\n",
    "\n",
    "    # Apply normalization\n",
    "    for var in xa.data_vars:\n",
    "        if var in mean_dict and var in std_dict:\n",
    "            mean = mean_dict[var]\n",
    "            std = std_dict[var]\n",
    "            if std == 0 or pd.isna(std):\n",
    "                xa[var] = xa[var] - mean\n",
    "            else:\n",
    "                xa[var] = (xa[var] - mean) / std\n",
    "\n",
    "    # Optionally save normalized dataset\n",
    "    out_path = f\"{out_dir}/{file.split('/')[-1]}\"\n",
    "    xa.to_netcdf(out_path)\n",
    "    return out_path\n",
    "\n",
    "\n",
    "# Parallel execution\n",
    "normalized_files = Parallel(n_jobs=-1)(  # n_jobs=-1 = use all cores\n",
    "    delayed(normalize_file)(file, mean_dict, std_dict, out_dir=output_dir)\n",
    "    for file in nc_files\n",
    ")"
   ]
  },
  {
   "cell_type": "code",
   "execution_count": null,
   "id": "5fee49fc-994c-4886-a0f1-7011aa996ac8",
   "metadata": {
    "tags": []
   },
   "outputs": [],
   "source": [
    "print('hi')"
   ]
  }
 ],
 "metadata": {
  "environment": {
   "kernel": "ds_env",
   "name": "workbench-notebooks.m125",
   "type": "gcloud",
   "uri": "us-docker.pkg.dev/deeplearning-platform-release/gcr.io/workbench-notebooks:m125"
  },
  "kernelspec": {
   "display_name": "Python (ds_env) (Local)",
   "language": "python",
   "name": "ds_env"
  },
  "language_info": {
   "codemirror_mode": {
    "name": "ipython",
    "version": 3
   },
   "file_extension": ".py",
   "mimetype": "text/x-python",
   "name": "python",
   "nbconvert_exporter": "python",
   "pygments_lexer": "ipython3",
   "version": "3.11.10"
  }
 },
 "nbformat": 4,
 "nbformat_minor": 5
}
