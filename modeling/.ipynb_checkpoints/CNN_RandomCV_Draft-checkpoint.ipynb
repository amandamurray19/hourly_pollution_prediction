{
 "cells": [
  {
   "cell_type": "code",
   "execution_count": 2,
   "id": "fc312edb-ff82-4420-bc6e-692b2df8f172",
   "metadata": {
    "tags": []
   },
   "outputs": [],
   "source": [
    "# CV Strategy\n",
    "# Batch normalization\n",
    "import os\n",
    "import xarray as xr\n",
    "import pandas as pd\n",
    "import numpy as np\n",
    "import tensorflow as tf\n",
    "from tensorflow import keras\n",
    "import random\n",
    "from tensorflow.keras import layers, models, Input\n",
    "import tensorflow as tf\n",
    "import time\n",
    "os.environ['TF_CPP_MIN_LOG_LEVEL'] = '3'  # 0=all, 1=info, 2=warning, 3=error\n",
    "\n",
    "print(\"Num GPUs Available:\", len(tf.config.list_physical_devices('GPU')))\n",
    "print(\"Built with CUDA:\", tf.test.is_built_with_cuda())\n",
    "print(\"GPU available to TF:\", tf.test.is_gpu_available())\n",
    "start = time.time()\n",
    "folder = \"../../data/model_data/mini_data_set\"\n",
    "full_paths = [os.path.join(folder, f) for f in os.listdir(folder) if f.endswith(\".nc\")]\n",
    "random.shuffle(full_paths)\n",
    "\n",
    "# sensor_df = pd.read_csv(\"../../data/sensor_data/final_sensor_withgrid.csv\")\n",
    "# sensor_df = sensor_df[['lat','lon', 'state']]\n",
    "# sensor_df_la = sensor_df[sensor_df['state']=='Louisiana'].reset_index(drop=True)\n",
    "# sensor_df_la = sensor_df_la[['lat','lon']]\n",
    "# sensor_df_la = sensor_df_la.drop_duplicates().reset_index(drop=True)\n",
    "# sensor_df_la['cv_group'] = 'test'\n",
    "# sensor_df_tx = sensor_df[sensor_df['state']!='Louisiana'].reset_index(drop=True)\n",
    "# sensor_df_tx = sensor_df_tx[['lat','lon']]\n",
    "# sensor_df_tx = sensor_df_tx.drop_duplicates().reset_index(drop=True)\n",
    "\n",
    "# # # Shuffle the indices\n",
    "# sensor_df_tx = sensor_df_tx.sample(frac=1, random_state=42).reset_index(drop=True)\n",
    "\n",
    "# # UPDATE: 10% Test set, 5 folds \n",
    "# # Assign groups evenly\n",
    "# sensor_df_tx['cv_group'] = sensor_df_tx.index % 5 + 1  # Groups: 0 to 4\n",
    "# sensor_df = pd.concat([sensor_df_la, sensor_df_tx], axis=0)\n",
    "# sensor_df.to_csv(\"../../data/sensor_data/final_sensor_cvgroups.csv\")\n",
    "\n",
    "sensor_df = pd.read_csv(\"../../data/sensor_data/final_sensor_cvgroups.csv\", index_col=0)\n"
   ]
  },
  {
   "cell_type": "code",
   "execution_count": 3,
   "id": "71074ddc-f452-40ee-bd8f-66bc6d433b91",
   "metadata": {
    "tags": []
   },
   "outputs": [
    {
     "data": {
      "text/html": [
       "<div>\n",
       "<style scoped>\n",
       "    .dataframe tbody tr th:only-of-type {\n",
       "        vertical-align: middle;\n",
       "    }\n",
       "\n",
       "    .dataframe tbody tr th {\n",
       "        vertical-align: top;\n",
       "    }\n",
       "\n",
       "    .dataframe thead th {\n",
       "        text-align: right;\n",
       "    }\n",
       "</style>\n",
       "<table border=\"1\" class=\"dataframe\">\n",
       "  <thead>\n",
       "    <tr style=\"text-align: right;\">\n",
       "      <th></th>\n",
       "      <th>lat</th>\n",
       "      <th>lon</th>\n",
       "      <th>cv_group</th>\n",
       "    </tr>\n",
       "  </thead>\n",
       "  <tbody>\n",
       "    <tr>\n",
       "      <th>0</th>\n",
       "      <td>30.225</td>\n",
       "      <td>-90.965</td>\n",
       "      <td>test</td>\n",
       "    </tr>\n",
       "    <tr>\n",
       "      <th>1</th>\n",
       "      <td>30.265</td>\n",
       "      <td>-93.285</td>\n",
       "      <td>test</td>\n",
       "    </tr>\n",
       "    <tr>\n",
       "      <th>2</th>\n",
       "      <td>30.505</td>\n",
       "      <td>-91.215</td>\n",
       "      <td>test</td>\n",
       "    </tr>\n",
       "    <tr>\n",
       "      <th>3</th>\n",
       "      <td>30.465</td>\n",
       "      <td>-91.175</td>\n",
       "      <td>test</td>\n",
       "    </tr>\n",
       "    <tr>\n",
       "      <th>4</th>\n",
       "      <td>30.705</td>\n",
       "      <td>-91.055</td>\n",
       "      <td>test</td>\n",
       "    </tr>\n",
       "    <tr>\n",
       "      <th>5</th>\n",
       "      <td>30.045</td>\n",
       "      <td>-90.275</td>\n",
       "      <td>test</td>\n",
       "    </tr>\n",
       "    <tr>\n",
       "      <th>6</th>\n",
       "      <td>30.225</td>\n",
       "      <td>-91.315</td>\n",
       "      <td>test</td>\n",
       "    </tr>\n",
       "    <tr>\n",
       "      <th>7</th>\n",
       "      <td>29.995</td>\n",
       "      <td>-90.115</td>\n",
       "      <td>test</td>\n",
       "    </tr>\n",
       "    <tr>\n",
       "      <th>8</th>\n",
       "      <td>30.315</td>\n",
       "      <td>-90.815</td>\n",
       "      <td>test</td>\n",
       "    </tr>\n",
       "    <tr>\n",
       "      <th>0</th>\n",
       "      <td>28.885</td>\n",
       "      <td>-97.885</td>\n",
       "      <td>1</td>\n",
       "    </tr>\n",
       "    <tr>\n",
       "      <th>1</th>\n",
       "      <td>32.665</td>\n",
       "      <td>-97.335</td>\n",
       "      <td>2</td>\n",
       "    </tr>\n",
       "    <tr>\n",
       "      <th>2</th>\n",
       "      <td>29.525</td>\n",
       "      <td>-95.395</td>\n",
       "      <td>3</td>\n",
       "    </tr>\n",
       "    <tr>\n",
       "      <th>3</th>\n",
       "      <td>29.585</td>\n",
       "      <td>-95.015</td>\n",
       "      <td>4</td>\n",
       "    </tr>\n",
       "    <tr>\n",
       "      <th>4</th>\n",
       "      <td>32.985</td>\n",
       "      <td>-97.065</td>\n",
       "      <td>5</td>\n",
       "    </tr>\n",
       "    <tr>\n",
       "      <th>5</th>\n",
       "      <td>33.155</td>\n",
       "      <td>-96.115</td>\n",
       "      <td>1</td>\n",
       "    </tr>\n",
       "    <tr>\n",
       "      <th>6</th>\n",
       "      <td>32.565</td>\n",
       "      <td>-96.315</td>\n",
       "      <td>2</td>\n",
       "    </tr>\n",
       "    <tr>\n",
       "      <th>7</th>\n",
       "      <td>29.255</td>\n",
       "      <td>-94.865</td>\n",
       "      <td>3</td>\n",
       "    </tr>\n",
       "    <tr>\n",
       "      <th>8</th>\n",
       "      <td>32.375</td>\n",
       "      <td>-94.715</td>\n",
       "      <td>4</td>\n",
       "    </tr>\n",
       "    <tr>\n",
       "      <th>9</th>\n",
       "      <td>29.755</td>\n",
       "      <td>-95.075</td>\n",
       "      <td>5</td>\n",
       "    </tr>\n",
       "    <tr>\n",
       "      <th>10</th>\n",
       "      <td>32.665</td>\n",
       "      <td>-94.165</td>\n",
       "      <td>1</td>\n",
       "    </tr>\n",
       "    <tr>\n",
       "      <th>11</th>\n",
       "      <td>29.695</td>\n",
       "      <td>-95.495</td>\n",
       "      <td>2</td>\n",
       "    </tr>\n",
       "    <tr>\n",
       "      <th>12</th>\n",
       "      <td>29.675</td>\n",
       "      <td>-95.125</td>\n",
       "      <td>3</td>\n",
       "    </tr>\n",
       "    <tr>\n",
       "      <th>13</th>\n",
       "      <td>30.035</td>\n",
       "      <td>-95.675</td>\n",
       "      <td>4</td>\n",
       "    </tr>\n",
       "    <tr>\n",
       "      <th>14</th>\n",
       "      <td>30.355</td>\n",
       "      <td>-97.765</td>\n",
       "      <td>5</td>\n",
       "    </tr>\n",
       "    <tr>\n",
       "      <th>15</th>\n",
       "      <td>29.905</td>\n",
       "      <td>-95.325</td>\n",
       "      <td>1</td>\n",
       "    </tr>\n",
       "    <tr>\n",
       "      <th>16</th>\n",
       "      <td>32.175</td>\n",
       "      <td>-96.875</td>\n",
       "      <td>2</td>\n",
       "    </tr>\n",
       "    <tr>\n",
       "      <th>17</th>\n",
       "      <td>29.045</td>\n",
       "      <td>-95.475</td>\n",
       "      <td>3</td>\n",
       "    </tr>\n",
       "    <tr>\n",
       "      <th>18</th>\n",
       "      <td>30.085</td>\n",
       "      <td>-93.765</td>\n",
       "      <td>4</td>\n",
       "    </tr>\n",
       "    <tr>\n",
       "      <th>19</th>\n",
       "      <td>32.825</td>\n",
       "      <td>-96.865</td>\n",
       "      <td>5</td>\n",
       "    </tr>\n",
       "    <tr>\n",
       "      <th>20</th>\n",
       "      <td>29.635</td>\n",
       "      <td>-98.565</td>\n",
       "      <td>1</td>\n",
       "    </tr>\n",
       "    <tr>\n",
       "      <th>21</th>\n",
       "      <td>29.515</td>\n",
       "      <td>-98.625</td>\n",
       "      <td>2</td>\n",
       "    </tr>\n",
       "    <tr>\n",
       "      <th>22</th>\n",
       "      <td>29.275</td>\n",
       "      <td>-98.315</td>\n",
       "      <td>3</td>\n",
       "    </tr>\n",
       "    <tr>\n",
       "      <th>23</th>\n",
       "      <td>30.035</td>\n",
       "      <td>-94.075</td>\n",
       "      <td>4</td>\n",
       "    </tr>\n",
       "    <tr>\n",
       "      <th>24</th>\n",
       "      <td>29.135</td>\n",
       "      <td>-98.145</td>\n",
       "      <td>5</td>\n",
       "    </tr>\n",
       "    <tr>\n",
       "      <th>25</th>\n",
       "      <td>33.215</td>\n",
       "      <td>-97.195</td>\n",
       "      <td>1</td>\n",
       "    </tr>\n",
       "    <tr>\n",
       "      <th>26</th>\n",
       "      <td>29.735</td>\n",
       "      <td>-95.255</td>\n",
       "      <td>2</td>\n",
       "    </tr>\n",
       "    <tr>\n",
       "      <th>27</th>\n",
       "      <td>30.375</td>\n",
       "      <td>-88.535</td>\n",
       "      <td>3</td>\n",
       "    </tr>\n",
       "    <tr>\n",
       "      <th>28</th>\n",
       "      <td>29.775</td>\n",
       "      <td>-95.395</td>\n",
       "      <td>4</td>\n",
       "    </tr>\n",
       "    <tr>\n",
       "      <th>29</th>\n",
       "      <td>32.345</td>\n",
       "      <td>-95.415</td>\n",
       "      <td>5</td>\n",
       "    </tr>\n",
       "    <tr>\n",
       "      <th>30</th>\n",
       "      <td>31.085</td>\n",
       "      <td>-97.675</td>\n",
       "      <td>1</td>\n",
       "    </tr>\n",
       "    <tr>\n",
       "      <th>31</th>\n",
       "      <td>29.805</td>\n",
       "      <td>-95.125</td>\n",
       "      <td>2</td>\n",
       "    </tr>\n",
       "    <tr>\n",
       "      <th>32</th>\n",
       "      <td>29.975</td>\n",
       "      <td>-94.005</td>\n",
       "      <td>3</td>\n",
       "    </tr>\n",
       "    <tr>\n",
       "      <th>33</th>\n",
       "      <td>29.525</td>\n",
       "      <td>-98.395</td>\n",
       "      <td>4</td>\n",
       "    </tr>\n",
       "    <tr>\n",
       "      <th>34</th>\n",
       "      <td>32.915</td>\n",
       "      <td>-96.805</td>\n",
       "      <td>5</td>\n",
       "    </tr>\n",
       "    <tr>\n",
       "      <th>35</th>\n",
       "      <td>32.985</td>\n",
       "      <td>-97.475</td>\n",
       "      <td>1</td>\n",
       "    </tr>\n",
       "    <tr>\n",
       "      <th>36</th>\n",
       "      <td>32.675</td>\n",
       "      <td>-96.875</td>\n",
       "      <td>2</td>\n",
       "    </tr>\n",
       "    <tr>\n",
       "      <th>37</th>\n",
       "      <td>29.815</td>\n",
       "      <td>-95.385</td>\n",
       "      <td>3</td>\n",
       "    </tr>\n",
       "    <tr>\n",
       "      <th>38</th>\n",
       "      <td>32.035</td>\n",
       "      <td>-96.395</td>\n",
       "      <td>4</td>\n",
       "    </tr>\n",
       "    <tr>\n",
       "      <th>39</th>\n",
       "      <td>32.925</td>\n",
       "      <td>-97.285</td>\n",
       "      <td>5</td>\n",
       "    </tr>\n",
       "    <tr>\n",
       "      <th>40</th>\n",
       "      <td>30.355</td>\n",
       "      <td>-97.695</td>\n",
       "      <td>1</td>\n",
       "    </tr>\n",
       "    <tr>\n",
       "      <th>41</th>\n",
       "      <td>29.765</td>\n",
       "      <td>-95.225</td>\n",
       "      <td>2</td>\n",
       "    </tr>\n",
       "    <tr>\n",
       "      <th>42</th>\n",
       "      <td>32.805</td>\n",
       "      <td>-97.355</td>\n",
       "      <td>3</td>\n",
       "    </tr>\n",
       "    <tr>\n",
       "      <th>43</th>\n",
       "      <td>30.355</td>\n",
       "      <td>-95.425</td>\n",
       "      <td>4</td>\n",
       "    </tr>\n",
       "    <tr>\n",
       "      <th>44</th>\n",
       "      <td>29.485</td>\n",
       "      <td>-98.535</td>\n",
       "      <td>5</td>\n",
       "    </tr>\n",
       "    <tr>\n",
       "      <th>45</th>\n",
       "      <td>32.655</td>\n",
       "      <td>-97.085</td>\n",
       "      <td>1</td>\n",
       "    </tr>\n",
       "    <tr>\n",
       "      <th>46</th>\n",
       "      <td>29.835</td>\n",
       "      <td>-95.485</td>\n",
       "      <td>2</td>\n",
       "    </tr>\n",
       "    <tr>\n",
       "      <th>47</th>\n",
       "      <td>29.725</td>\n",
       "      <td>-95.495</td>\n",
       "      <td>3</td>\n",
       "    </tr>\n",
       "    <tr>\n",
       "      <th>48</th>\n",
       "      <td>29.865</td>\n",
       "      <td>-94.315</td>\n",
       "      <td>4</td>\n",
       "    </tr>\n",
       "    <tr>\n",
       "      <th>49</th>\n",
       "      <td>29.685</td>\n",
       "      <td>-95.295</td>\n",
       "      <td>5</td>\n",
       "    </tr>\n",
       "    <tr>\n",
       "      <th>50</th>\n",
       "      <td>32.925</td>\n",
       "      <td>-96.755</td>\n",
       "      <td>1</td>\n",
       "    </tr>\n",
       "  </tbody>\n",
       "</table>\n",
       "</div>"
      ],
      "text/plain": [
       "       lat     lon cv_group\n",
       "0   30.225 -90.965     test\n",
       "1   30.265 -93.285     test\n",
       "2   30.505 -91.215     test\n",
       "3   30.465 -91.175     test\n",
       "4   30.705 -91.055     test\n",
       "5   30.045 -90.275     test\n",
       "6   30.225 -91.315     test\n",
       "7   29.995 -90.115     test\n",
       "8   30.315 -90.815     test\n",
       "0   28.885 -97.885        1\n",
       "1   32.665 -97.335        2\n",
       "2   29.525 -95.395        3\n",
       "3   29.585 -95.015        4\n",
       "4   32.985 -97.065        5\n",
       "5   33.155 -96.115        1\n",
       "6   32.565 -96.315        2\n",
       "7   29.255 -94.865        3\n",
       "8   32.375 -94.715        4\n",
       "9   29.755 -95.075        5\n",
       "10  32.665 -94.165        1\n",
       "11  29.695 -95.495        2\n",
       "12  29.675 -95.125        3\n",
       "13  30.035 -95.675        4\n",
       "14  30.355 -97.765        5\n",
       "15  29.905 -95.325        1\n",
       "16  32.175 -96.875        2\n",
       "17  29.045 -95.475        3\n",
       "18  30.085 -93.765        4\n",
       "19  32.825 -96.865        5\n",
       "20  29.635 -98.565        1\n",
       "21  29.515 -98.625        2\n",
       "22  29.275 -98.315        3\n",
       "23  30.035 -94.075        4\n",
       "24  29.135 -98.145        5\n",
       "25  33.215 -97.195        1\n",
       "26  29.735 -95.255        2\n",
       "27  30.375 -88.535        3\n",
       "28  29.775 -95.395        4\n",
       "29  32.345 -95.415        5\n",
       "30  31.085 -97.675        1\n",
       "31  29.805 -95.125        2\n",
       "32  29.975 -94.005        3\n",
       "33  29.525 -98.395        4\n",
       "34  32.915 -96.805        5\n",
       "35  32.985 -97.475        1\n",
       "36  32.675 -96.875        2\n",
       "37  29.815 -95.385        3\n",
       "38  32.035 -96.395        4\n",
       "39  32.925 -97.285        5\n",
       "40  30.355 -97.695        1\n",
       "41  29.765 -95.225        2\n",
       "42  32.805 -97.355        3\n",
       "43  30.355 -95.425        4\n",
       "44  29.485 -98.535        5\n",
       "45  32.655 -97.085        1\n",
       "46  29.835 -95.485        2\n",
       "47  29.725 -95.495        3\n",
       "48  29.865 -94.315        4\n",
       "49  29.685 -95.295        5\n",
       "50  32.925 -96.755        1"
      ]
     },
     "execution_count": 3,
     "metadata": {},
     "output_type": "execute_result"
    }
   ],
   "source": [
    "sensor_df"
   ]
  },
  {
   "cell_type": "code",
   "execution_count": 2,
   "id": "d2351d87-f58e-41b3-8c46-32ee317f6f06",
   "metadata": {
    "tags": []
   },
   "outputs": [],
   "source": [
    "class ncDataLoader(keras.utils.Sequence):\n",
    "    \"\"\"Helper to iterate over the data (as Numpy arrays).\"\"\"\n",
    "\n",
    "    def __init__(self, batch_size, img_size, img_paths, drop_sensor_locs_df):\n",
    "        self.batch_size = batch_size\n",
    "        self.img_size = img_size\n",
    "        self.img_paths = img_paths\n",
    "        self.drop_sensor_locs_df = drop_sensor_locs_df\n",
    "\n",
    "    def __len__(self):\n",
    "        return len(self.img_paths) // self.batch_size\n",
    "\n",
    "    def __getitem__(self, idx):\n",
    "        \"\"\"Returns tuple (input, target) correspond to batch #idx.\"\"\"\n",
    "        i = idx * self.batch_size\n",
    "        batch_input_img_paths = self.img_paths[i : i + self.batch_size]\n",
    "\n",
    "        x = np.zeros((self.batch_size,) + self.img_size + (22,), dtype=\"float32\")\n",
    "        y = np.zeros((self.batch_size,) + self.img_size + (1,), dtype=\"float32\")\n",
    "\n",
    "        for j, path in enumerate(batch_input_img_paths):\n",
    "            # print(path)\n",
    "            ds = xr.open_dataset(path, engine='netcdf4')\n",
    "            input_ds = ds.copy()\n",
    "            input_ds = input_ds.drop_vars(\"y_sensor_no2\")\n",
    "            input_array = input_ds.to_array().values\n",
    "            x[j] = np.transpose(input_array, (1, 2, 0))\n",
    "            \n",
    "            target_ds = ds['y_sensor_no2']\n",
    "            \n",
    "            # Loop over rows to mask each (lat, lon) pair\n",
    "            for _, row in self.drop_sensor_locs_df.iterrows():\n",
    "                target_ds.loc[dict(lat=row['lat'], lon=row['lon'])] = np.nan\n",
    "            \n",
    "            target_ds = target_ds.values\n",
    "            # target_ds = np.where(np.isnan(target_ds), -999, target_ds)\n",
    "            y[j, :, :, 0] = target_ds\n",
    " \n",
    "        return x, y\n",
    "\n",
    "\n",
    "\n",
    "def build_model(\n",
    "    input_shape=(479, 1059, 22),\n",
    "    kernel_sizes=[3, 3],\n",
    "    filters=32,\n",
    "    activation='relu',\n",
    "    use_maxpool=False,\n",
    "    pool_size=(2, 2),\n",
    "    upsample_method=\"nearest\"  # can be \"nearest\" or \"bilinear\"\n",
    "    ):\n",
    "    \"\"\"\n",
    "    Build a model with variable kernel sizes and activation,\n",
    "    optionally adding MaxPooling + Upsampling pairs to preserve resolution.\n",
    "\n",
    "    Args:\n",
    "        input_shape (tuple): Input shape (H, W, C).\n",
    "        kernel_sizes (list of int): List of kernel sizes per conv layer.\n",
    "        filters (int): Number of filters per conv layer.\n",
    "        activation (str): Activation function to use in conv layers.\n",
    "        use_maxpool (bool): Whether to add MaxPooling2D + UpSampling2D.\n",
    "        pool_size (tuple): Pool size for MaxPooling2D.\n",
    "        upsample_method (str): Method for UpSampling2D (\"nearest\", \"bilinear\").\n",
    "\n",
    "    Returns:\n",
    "        Keras Model\n",
    "    \"\"\"\n",
    "    inputs = Input(shape=input_shape)\n",
    "    x = inputs  # no BatchNormalization\n",
    "\n",
    "    for k in kernel_sizes:\n",
    "        x = layers.Conv2D(filters, (k, k), padding='same')(x)\n",
    "        x = layers.Activation(activation)(x)\n",
    "\n",
    "        if use_maxpool:\n",
    "            # Downsample\n",
    "            x = layers.MaxPooling2D(pool_size=pool_size)(x)\n",
    "            # Immediately upsample back\n",
    "            x = layers.UpSampling2D(size=pool_size, interpolation=upsample_method)(x)\n",
    "\n",
    "    outputs = layers.Conv2D(\n",
    "        1,\n",
    "        (kernel_sizes[-1], kernel_sizes[-1]),\n",
    "        activation='linear',\n",
    "        padding='same'\n",
    "    )(x)\n",
    "\n",
    "    model = models.Model(inputs=inputs, outputs=outputs)\n",
    "    return model\n",
    "\n",
    "def masked_mse(y_true, y_pred):\n",
    "    # Create mask: True where y_true is not NaN\n",
    "    mask = tf.math.logical_not(tf.math.is_nan(y_true))\n",
    "    # tf.print(\"Valid pixels:\", tf.reduce_sum(tf.cast(mask, tf.int32)))\n",
    "\n",
    "    # Apply mask to both y_true and y_pred\n",
    "    y_true_masked = tf.boolean_mask(y_true, mask)\n",
    "    y_pred_masked = tf.boolean_mask(y_pred, mask)\n",
    "    \n",
    "    # Compute MSE only on valid values\n",
    "    diff_squared = tf.square(y_true_masked - y_pred_masked)\n",
    "    \n",
    "    # Avoid division by zero\n",
    "    denom = tf.cast(tf.size(diff_squared), tf.float32)\n",
    "    denom = tf.maximum(denom, 1e-6)\n",
    "\n",
    "    return tf.reduce_sum(diff_squared) / denom\n"
   ]
  },
  {
   "cell_type": "code",
   "execution_count": 3,
   "id": "17be5d9d-1f5a-40eb-9cdb-5e2faf501349",
   "metadata": {
    "tags": []
   },
   "outputs": [
    {
     "name": "stdout",
     "output_type": "stream",
     "text": [
      "Running CV group 1/5\n"
     ]
    },
    {
     "name": "stderr",
     "output_type": "stream",
     "text": [
      "getfattr: /home/jupyter/data/model_data/mini_data_set/time_20230807_160000.nc: Operation not supported\n",
      "getfattr: /home/jupyter/data/model_data/mini_data_set/time_20230804_130000.nc: Operation not supported\n",
      "getfattr: /home/jupyter/data/model_data/mini_data_set/time_20230809_070000.nc: Operation not supported\n",
      "getfattr: /home/jupyter/data/model_data/mini_data_set/time_20230805_160000.nc: Operation not supported\n"
     ]
    },
    {
     "name": "stdout",
     "output_type": "stream",
     "text": [
      "Epoch 1/4\n"
     ]
    },
    {
     "name": "stderr",
     "output_type": "stream",
     "text": [
      "getfattr: /home/jupyter/data/model_data/mini_data_set/time_20230807_160000.nc: Operation not supported\n",
      "getfattr: /home/jupyter/data/model_data/mini_data_set/time_20230804_130000.nc: Operation not supported\n",
      "getfattr: /home/jupyter/data/model_data/mini_data_set/time_20230809_070000.nc: Operation not supported\n",
      "getfattr: /home/jupyter/data/model_data/mini_data_set/time_20230805_160000.nc: Operation not supported\n",
      "getfattr: /home/jupyter/data/model_data/mini_data_set/time_20230815_150000.nc: Operation not supported\n",
      "getfattr: /home/jupyter/data/model_data/mini_data_set/time_20230805_110000.nc: Operation not supported\n",
      "getfattr: /home/jupyter/data/model_data/mini_data_set/time_20230807_080000.nc: Operation not supported\n",
      "getfattr: /home/jupyter/data/model_data/mini_data_set/time_20230812_170000.nc: Operation not supported\n"
     ]
    },
    {
     "name": "stdout",
     "output_type": "stream",
     "text": [
      " 1/25 [>.............................] - ETA: 6:49 - loss: 25.3937"
     ]
    },
    {
     "name": "stderr",
     "output_type": "stream",
     "text": [
      "getfattr: /home/jupyter/data/model_data/mini_data_set/time_20230812_150000.nc: Operation not supported\n"
     ]
    },
    {
     "name": "stdout",
     "output_type": "stream",
     "text": [
      " 2/25 [=>............................] - ETA: 21s - loss: 18.9013 "
     ]
    },
    {
     "name": "stderr",
     "output_type": "stream",
     "text": [
      "getfattr: /home/jupyter/data/model_data/mini_data_set/time_20230802_150000.nc: Operation not supported\n",
      "getfattr: /home/jupyter/data/model_data/mini_data_set/time_20230812_140000.nc: Operation not supported\n",
      "getfattr: /home/jupyter/data/model_data/mini_data_set/time_20230809_160000.nc: Operation not supported\n",
      "getfattr: /home/jupyter/data/model_data/mini_data_set/time_20230816_150000.nc: Operation not supported\n"
     ]
    },
    {
     "name": "stdout",
     "output_type": "stream",
     "text": [
      " 3/25 [==>...........................] - ETA: 2:54 - loss: 17.7557"
     ]
    },
    {
     "name": "stderr",
     "output_type": "stream",
     "text": [
      "getfattr: /home/jupyter/data/model_data/mini_data_set/time_20230807_130000.nc: Operation not supported\n",
      "getfattr: /home/jupyter/data/model_data/mini_data_set/time_20230815_170000.nc: Operation not supported\n",
      "getfattr: /home/jupyter/data/model_data/mini_data_set/time_20230811_110000.nc: Operation not supported\n",
      "getfattr: /home/jupyter/data/model_data/mini_data_set/time_20230805_170000.nc: Operation not supported\n"
     ]
    },
    {
     "name": "stdout",
     "output_type": "stream",
     "text": [
      " 4/25 [===>..........................] - ETA: 3:28 - loss: 16.5346"
     ]
    },
    {
     "name": "stderr",
     "output_type": "stream",
     "text": [
      "getfattr: /home/jupyter/data/model_data/mini_data_set/time_20230804_150000.nc: Operation not supported\n",
      "getfattr: /home/jupyter/data/model_data/mini_data_set/time_20230804_120000.nc: Operation not supported\n",
      "getfattr: /home/jupyter/data/model_data/mini_data_set/time_20230816_110000.nc: Operation not supported\n",
      "getfattr: /home/jupyter/data/model_data/mini_data_set/time_20230811_130000.nc: Operation not supported\n"
     ]
    },
    {
     "name": "stdout",
     "output_type": "stream",
     "text": [
      " 5/25 [=====>........................] - ETA: 3:41 - loss: 15.6982"
     ]
    },
    {
     "name": "stderr",
     "output_type": "stream",
     "text": [
      "getfattr: /home/jupyter/data/model_data/mini_data_set/time_20230805_120000.nc: Operation not supported\n",
      "getfattr: /home/jupyter/data/model_data/mini_data_set/time_20230809_110000.nc: Operation not supported\n",
      "getfattr: /home/jupyter/data/model_data/mini_data_set/time_20230805_180000.nc: Operation not supported\n",
      "getfattr: /home/jupyter/data/model_data/mini_data_set/time_20230804_140000.nc: Operation not supported\n"
     ]
    },
    {
     "name": "stdout",
     "output_type": "stream",
     "text": [
      " 6/25 [======>.......................] - ETA: 3:42 - loss: 14.5646"
     ]
    },
    {
     "name": "stderr",
     "output_type": "stream",
     "text": [
      "getfattr: /home/jupyter/data/model_data/mini_data_set/time_20230809_170000.nc: Operation not supported\n",
      "getfattr: /home/jupyter/data/model_data/mini_data_set/time_20230816_080000.nc: Operation not supported\n",
      "getfattr: /home/jupyter/data/model_data/mini_data_set/time_20230816_040000.nc: Operation not supported\n",
      "getfattr: /home/jupyter/data/model_data/mini_data_set/time_20230809_130000.nc: Operation not supported\n"
     ]
    },
    {
     "name": "stdout",
     "output_type": "stream",
     "text": [
      " 7/25 [=======>......................] - ETA: 3:41 - loss: 15.7982"
     ]
    },
    {
     "name": "stderr",
     "output_type": "stream",
     "text": [
      "getfattr: /home/jupyter/data/model_data/mini_data_set/time_20230806_100000.nc: Operation not supported\n",
      "getfattr: /home/jupyter/data/model_data/mini_data_set/time_20230815_120000.nc: Operation not supported\n",
      "getfattr: /home/jupyter/data/model_data/mini_data_set/time_20230804_070000.nc: Operation not supported\n",
      "getfattr: /home/jupyter/data/model_data/mini_data_set/time_20230809_140000.nc: Operation not supported\n"
     ]
    },
    {
     "name": "stdout",
     "output_type": "stream",
     "text": [
      " 8/25 [========>.....................] - ETA: 3:32 - loss: 14.7327"
     ]
    },
    {
     "name": "stderr",
     "output_type": "stream",
     "text": [
      "getfattr: /home/jupyter/data/model_data/mini_data_set/time_20230809_080000.nc: Operation not supported\n",
      "getfattr: /home/jupyter/data/model_data/mini_data_set/time_20230811_180000.nc: Operation not supported\n",
      "getfattr: /home/jupyter/data/model_data/mini_data_set/time_20230812_070000.nc: Operation not supported\n",
      "getfattr: /home/jupyter/data/model_data/mini_data_set/time_20230804_170000.nc: Operation not supported\n"
     ]
    },
    {
     "name": "stdout",
     "output_type": "stream",
     "text": [
      " 9/25 [=========>....................] - ETA: 3:22 - loss: 14.0600"
     ]
    },
    {
     "name": "stderr",
     "output_type": "stream",
     "text": [
      "getfattr: /home/jupyter/data/model_data/mini_data_set/time_20230811_070000.nc: Operation not supported\n",
      "getfattr: /home/jupyter/data/model_data/mini_data_set/time_20230805_080000.nc: Operation not supported\n",
      "getfattr: /home/jupyter/data/model_data/mini_data_set/time_20230807_110000.nc: Operation not supported\n",
      "getfattr: /home/jupyter/data/model_data/mini_data_set/time_20230809_150000.nc: Operation not supported\n"
     ]
    },
    {
     "name": "stdout",
     "output_type": "stream",
     "text": [
      "10/25 [===========>..................] - ETA: 3:12 - loss: 13.3519"
     ]
    },
    {
     "name": "stderr",
     "output_type": "stream",
     "text": [
      "getfattr: /home/jupyter/data/model_data/mini_data_set/time_20230816_140000.nc: Operation not supported\n",
      "getfattr: /home/jupyter/data/model_data/mini_data_set/time_20230802_120000.nc: Operation not supported\n",
      "getfattr: /home/jupyter/data/model_data/mini_data_set/time_20230806_160000.nc: Operation not supported\n",
      "getfattr: /home/jupyter/data/model_data/mini_data_set/time_20230805_070000.nc: Operation not supported\n"
     ]
    },
    {
     "name": "stdout",
     "output_type": "stream",
     "text": [
      "11/25 [============>.................] - ETA: 3:01 - loss: 13.8928"
     ]
    },
    {
     "name": "stderr",
     "output_type": "stream",
     "text": [
      "getfattr: /home/jupyter/data/model_data/mini_data_set/time_20230804_180000.nc: Operation not supported\n",
      "getfattr: /home/jupyter/data/model_data/mini_data_set/time_20230805_090000.nc: Operation not supported\n",
      "getfattr: /home/jupyter/data/model_data/mini_data_set/time_20230811_100000.nc: Operation not supported\n",
      "getfattr: /home/jupyter/data/model_data/mini_data_set/time_20230806_120000.nc: Operation not supported\n"
     ]
    },
    {
     "name": "stdout",
     "output_type": "stream",
     "text": [
      "12/25 [=============>................] - ETA: 2:49 - loss: 13.1866"
     ]
    },
    {
     "name": "stderr",
     "output_type": "stream",
     "text": [
      "getfattr: /home/jupyter/data/model_data/mini_data_set/time_20230804_080000.nc: Operation not supported\n",
      "getfattr: /home/jupyter/data/model_data/mini_data_set/time_20230807_140000.nc: Operation not supported\n",
      "getfattr: /home/jupyter/data/model_data/mini_data_set/time_20230804_160000.nc: Operation not supported\n",
      "getfattr: /home/jupyter/data/model_data/mini_data_set/time_20230816_070000.nc: Operation not supported\n"
     ]
    },
    {
     "name": "stdout",
     "output_type": "stream",
     "text": [
      "13/25 [==============>...............] - ETA: 2:36 - loss: 12.9323"
     ]
    },
    {
     "name": "stderr",
     "output_type": "stream",
     "text": [
      "getfattr: /home/jupyter/data/model_data/mini_data_set/time_20230815_160000.nc: Operation not supported\n",
      "getfattr: /home/jupyter/data/model_data/mini_data_set/time_20230806_090000.nc: Operation not supported\n",
      "getfattr: /home/jupyter/data/model_data/mini_data_set/time_20230805_150000.nc: Operation not supported\n",
      "getfattr: /home/jupyter/data/model_data/mini_data_set/time_20230815_180000.nc: Operation not supported\n"
     ]
    },
    {
     "name": "stdout",
     "output_type": "stream",
     "text": [
      "14/25 [===============>..............] - ETA: 2:24 - loss: 13.0225"
     ]
    },
    {
     "name": "stderr",
     "output_type": "stream",
     "text": [
      "getfattr: /home/jupyter/data/model_data/mini_data_set/time_20230807_150000.nc: Operation not supported\n",
      "getfattr: /home/jupyter/data/model_data/mini_data_set/time_20230804_100000.nc: Operation not supported\n",
      "getfattr: /home/jupyter/data/model_data/mini_data_set/time_20230807_170000.nc: Operation not supported\n",
      "getfattr: /home/jupyter/data/model_data/mini_data_set/time_20230802_130000.nc: Operation not supported\n"
     ]
    },
    {
     "name": "stdout",
     "output_type": "stream",
     "text": [
      "15/25 [=================>............] - ETA: 2:11 - loss: 13.3252"
     ]
    },
    {
     "name": "stderr",
     "output_type": "stream",
     "text": [
      "getfattr: /home/jupyter/data/model_data/mini_data_set/time_20230808_140000.nc: Operation not supported\n",
      "getfattr: /home/jupyter/data/model_data/mini_data_set/time_20230809_090000.nc: Operation not supported\n",
      "getfattr: /home/jupyter/data/model_data/mini_data_set/time_20230806_110000.nc: Operation not supported\n",
      "getfattr: /home/jupyter/data/model_data/mini_data_set/time_20230811_090000.nc: Operation not supported\n"
     ]
    },
    {
     "name": "stdout",
     "output_type": "stream",
     "text": [
      "16/25 [==================>...........] - ETA: 1:58 - loss: 13.6727"
     ]
    },
    {
     "name": "stderr",
     "output_type": "stream",
     "text": [
      "getfattr: /home/jupyter/data/model_data/mini_data_set/time_20230806_150000.nc: Operation not supported\n",
      "getfattr: /home/jupyter/data/model_data/mini_data_set/time_20230802_100000.nc: Operation not supported\n",
      "getfattr: /home/jupyter/data/model_data/mini_data_set/time_20230812_120000.nc: Operation not supported\n",
      "getfattr: /home/jupyter/data/model_data/mini_data_set/time_20230808_180000.nc: Operation not supported\n"
     ]
    },
    {
     "name": "stdout",
     "output_type": "stream",
     "text": [
      "17/25 [===================>..........] - ETA: 1:45 - loss: 13.3855"
     ]
    },
    {
     "name": "stderr",
     "output_type": "stream",
     "text": [
      "getfattr: /home/jupyter/data/model_data/mini_data_set/time_20230816_160000.nc: Operation not supported\n",
      "getfattr: /home/jupyter/data/model_data/mini_data_set/time_20230812_160000.nc: Operation not supported\n",
      "getfattr: /home/jupyter/data/model_data/mini_data_set/time_20230806_070000.nc: Operation not supported\n",
      "getfattr: /home/jupyter/data/model_data/mini_data_set/time_20230806_140000.nc: Operation not supported\n"
     ]
    },
    {
     "name": "stdout",
     "output_type": "stream",
     "text": [
      "18/25 [====================>.........] - ETA: 1:32 - loss: 13.2172"
     ]
    },
    {
     "name": "stderr",
     "output_type": "stream",
     "text": [
      "getfattr: /home/jupyter/data/model_data/mini_data_set/time_20230811_080000.nc: Operation not supported\n",
      "getfattr: /home/jupyter/data/model_data/mini_data_set/time_20230816_090000.nc: Operation not supported\n",
      "getfattr: /home/jupyter/data/model_data/mini_data_set/time_20230808_160000.nc: Operation not supported\n",
      "getfattr: /home/jupyter/data/model_data/mini_data_set/time_20230802_140000.nc: Operation not supported\n"
     ]
    },
    {
     "name": "stdout",
     "output_type": "stream",
     "text": [
      "19/25 [=====================>........] - ETA: 1:19 - loss: 12.8849"
     ]
    },
    {
     "name": "stderr",
     "output_type": "stream",
     "text": [
      "getfattr: /home/jupyter/data/model_data/mini_data_set/time_20230808_150000.nc: Operation not supported\n",
      "getfattr: /home/jupyter/data/model_data/mini_data_set/time_20230811_150000.nc: Operation not supported\n",
      "getfattr: /home/jupyter/data/model_data/mini_data_set/time_20230809_180000.nc: Operation not supported\n",
      "getfattr: /home/jupyter/data/model_data/mini_data_set/time_20230806_180000.nc: Operation not supported\n"
     ]
    },
    {
     "name": "stdout",
     "output_type": "stream",
     "text": [
      "20/25 [=======================>......] - ETA: 1:06 - loss: 12.7613"
     ]
    },
    {
     "name": "stderr",
     "output_type": "stream",
     "text": [
      "getfattr: /home/jupyter/data/model_data/mini_data_set/time_20230805_140000.nc: Operation not supported\n",
      "getfattr: /home/jupyter/data/model_data/mini_data_set/time_20230811_160000.nc: Operation not supported\n",
      "getfattr: /home/jupyter/data/model_data/mini_data_set/time_20230807_100000.nc: Operation not supported\n",
      "getfattr: /home/jupyter/data/model_data/mini_data_set/time_20230808_170000.nc: Operation not supported\n"
     ]
    },
    {
     "name": "stdout",
     "output_type": "stream",
     "text": [
      "21/25 [========================>.....] - ETA: 53s - loss: 12.3521 "
     ]
    },
    {
     "name": "stderr",
     "output_type": "stream",
     "text": [
      "getfattr: /home/jupyter/data/model_data/mini_data_set/time_20230811_170000.nc: Operation not supported\n",
      "getfattr: /home/jupyter/data/model_data/mini_data_set/time_20230806_080000.nc: Operation not supported\n",
      "getfattr: /home/jupyter/data/model_data/mini_data_set/time_20230806_170000.nc: Operation not supported\n",
      "getfattr: /home/jupyter/data/model_data/mini_data_set/time_20230812_180000.nc: Operation not supported\n"
     ]
    },
    {
     "name": "stdout",
     "output_type": "stream",
     "text": [
      "22/25 [=========================>....] - ETA: 40s - loss: 11.9545"
     ]
    },
    {
     "name": "stderr",
     "output_type": "stream",
     "text": [
      "getfattr: /home/jupyter/data/model_data/mini_data_set/time_20230812_130000.nc: Operation not supported\n",
      "getfattr: /home/jupyter/data/model_data/mini_data_set/time_20230802_110000.nc: Operation not supported\n",
      "getfattr: /home/jupyter/data/model_data/mini_data_set/time_20230809_100000.nc: Operation not supported\n",
      "getfattr: /home/jupyter/data/model_data/mini_data_set/time_20230807_070000.nc: Operation not supported\n"
     ]
    },
    {
     "name": "stdout",
     "output_type": "stream",
     "text": [
      "23/25 [==========================>...] - ETA: 26s - loss: 11.9723"
     ]
    },
    {
     "name": "stderr",
     "output_type": "stream",
     "text": [
      "getfattr: /home/jupyter/data/model_data/mini_data_set/time_20230804_090000.nc: Operation not supported\n",
      "getfattr: /home/jupyter/data/model_data/mini_data_set/time_20230811_140000.nc: Operation not supported\n",
      "getfattr: /home/jupyter/data/model_data/mini_data_set/time_20230807_180000.nc: Operation not supported\n",
      "getfattr: /home/jupyter/data/model_data/mini_data_set/time_20230807_090000.nc: Operation not supported\n"
     ]
    },
    {
     "name": "stdout",
     "output_type": "stream",
     "text": [
      "24/25 [===========================>..] - ETA: 13s - loss: 11.7214"
     ]
    },
    {
     "name": "stderr",
     "output_type": "stream",
     "text": [
      "getfattr: /home/jupyter/data/model_data/mini_data_set/time_20230805_100000.nc: Operation not supported\n",
      "getfattr: /home/jupyter/data/model_data/mini_data_set/time_20230816_100000.nc: Operation not supported\n",
      "getfattr: /home/jupyter/data/model_data/mini_data_set/time_20230812_080000.nc: Operation not supported\n"
     ]
    },
    {
     "name": "stdout",
     "output_type": "stream",
     "text": [
      "25/25 [==============================] - ETA: 0s - loss: 11.4775 "
     ]
    },
    {
     "name": "stderr",
     "output_type": "stream",
     "text": [
      "getfattr: /home/jupyter/data/model_data/mini_data_set/time_20230807_160000.nc: Operation not supported\n",
      "getfattr: /home/jupyter/data/model_data/mini_data_set/time_20230804_130000.nc: Operation not supported\n",
      "getfattr: /home/jupyter/data/model_data/mini_data_set/time_20230809_070000.nc: Operation not supported\n",
      "getfattr: /home/jupyter/data/model_data/mini_data_set/time_20230805_160000.nc: Operation not supported\n",
      "getfattr: /home/jupyter/data/model_data/mini_data_set/time_20230807_160000.nc: Operation not supported\n",
      "getfattr: /home/jupyter/data/model_data/mini_data_set/time_20230804_130000.nc: Operation not supported\n",
      "getfattr: /home/jupyter/data/model_data/mini_data_set/time_20230809_070000.nc: Operation not supported\n",
      "getfattr: /home/jupyter/data/model_data/mini_data_set/time_20230805_160000.nc: Operation not supported\n",
      "getfattr: /home/jupyter/data/model_data/mini_data_set/time_20230811_090000.nc: Operation not supported\n",
      "getfattr: /home/jupyter/data/model_data/mini_data_set/time_20230806_150000.nc: Operation not supported\n",
      "getfattr: /home/jupyter/data/model_data/mini_data_set/time_20230802_100000.nc: Operation not supported\n",
      "getfattr: /home/jupyter/data/model_data/mini_data_set/time_20230812_120000.nc: Operation not supported\n",
      "getfattr: /home/jupyter/data/model_data/mini_data_set/time_20230808_170000.nc: Operation not supported\n",
      "getfattr: /home/jupyter/data/model_data/mini_data_set/time_20230811_170000.nc: Operation not supported\n",
      "getfattr: /home/jupyter/data/model_data/mini_data_set/time_20230806_080000.nc: Operation not supported\n",
      "getfattr: /home/jupyter/data/model_data/mini_data_set/time_20230806_170000.nc: Operation not supported\n",
      "getfattr: /home/jupyter/data/model_data/mini_data_set/time_20230809_130000.nc: Operation not supported\n",
      "getfattr: /home/jupyter/data/model_data/mini_data_set/time_20230806_100000.nc: Operation not supported\n",
      "getfattr: /home/jupyter/data/model_data/mini_data_set/time_20230815_120000.nc: Operation not supported\n",
      "getfattr: /home/jupyter/data/model_data/mini_data_set/time_20230804_070000.nc: Operation not supported\n",
      "getfattr: /home/jupyter/data/model_data/mini_data_set/time_20230808_180000.nc: Operation not supported\n",
      "getfattr: /home/jupyter/data/model_data/mini_data_set/time_20230816_160000.nc: Operation not supported\n",
      "getfattr: /home/jupyter/data/model_data/mini_data_set/time_20230812_160000.nc: Operation not supported\n",
      "getfattr: /home/jupyter/data/model_data/mini_data_set/time_20230806_070000.nc: Operation not supported\n",
      "getfattr: /home/jupyter/data/model_data/mini_data_set/time_20230804_170000.nc: Operation not supported\n",
      "getfattr: /home/jupyter/data/model_data/mini_data_set/time_20230811_070000.nc: Operation not supported\n",
      "getfattr: /home/jupyter/data/model_data/mini_data_set/time_20230805_080000.nc: Operation not supported\n",
      "getfattr: /home/jupyter/data/model_data/mini_data_set/time_20230807_110000.nc: Operation not supported\n",
      "getfattr: /home/jupyter/data/model_data/mini_data_set/time_20230806_140000.nc: Operation not supported\n",
      "getfattr: /home/jupyter/data/model_data/mini_data_set/time_20230811_080000.nc: Operation not supported\n",
      "getfattr: /home/jupyter/data/model_data/mini_data_set/time_20230816_090000.nc: Operation not supported\n",
      "getfattr: /home/jupyter/data/model_data/mini_data_set/time_20230808_160000.nc: Operation not supported\n",
      "getfattr: /home/jupyter/data/model_data/mini_data_set/time_20230816_150000.nc: Operation not supported\n",
      "getfattr: /home/jupyter/data/model_data/mini_data_set/time_20230807_130000.nc: Operation not supported\n",
      "getfattr: /home/jupyter/data/model_data/mini_data_set/time_20230815_170000.nc: Operation not supported\n",
      "getfattr: /home/jupyter/data/model_data/mini_data_set/time_20230811_110000.nc: Operation not supported\n",
      "getfattr: /home/jupyter/data/model_data/mini_data_set/time_20230809_140000.nc: Operation not supported\n",
      "getfattr: /home/jupyter/data/model_data/mini_data_set/time_20230809_080000.nc: Operation not supported\n",
      "getfattr: /home/jupyter/data/model_data/mini_data_set/time_20230811_180000.nc: Operation not supported\n",
      "getfattr: /home/jupyter/data/model_data/mini_data_set/time_20230812_070000.nc: Operation not supported\n",
      "getfattr: /home/jupyter/data/model_data/mini_data_set/time_20230815_180000.nc: Operation not supported\n",
      "getfattr: /home/jupyter/data/model_data/mini_data_set/time_20230807_150000.nc: Operation not supported\n",
      "getfattr: /home/jupyter/data/model_data/mini_data_set/time_20230804_100000.nc: Operation not supported\n",
      "getfattr: /home/jupyter/data/model_data/mini_data_set/time_20230807_170000.nc: Operation not supported\n",
      "getfattr: /home/jupyter/data/model_data/mini_data_set/time_20230812_150000.nc: Operation not supported\n",
      "getfattr: /home/jupyter/data/model_data/mini_data_set/time_20230802_150000.nc: Operation not supported\n",
      "getfattr: /home/jupyter/data/model_data/mini_data_set/time_20230812_140000.nc: Operation not supported\n",
      "getfattr: /home/jupyter/data/model_data/mini_data_set/time_20230809_160000.nc: Operation not supported\n",
      "getfattr: /home/jupyter/data/model_data/mini_data_set/time_20230802_130000.nc: Operation not supported\n",
      "getfattr: /home/jupyter/data/model_data/mini_data_set/time_20230808_140000.nc: Operation not supported\n",
      "getfattr: /home/jupyter/data/model_data/mini_data_set/time_20230809_090000.nc: Operation not supported\n",
      "getfattr: /home/jupyter/data/model_data/mini_data_set/time_20230806_110000.nc: Operation not supported\n",
      "getfattr: /home/jupyter/data/model_data/mini_data_set/time_20230807_090000.nc: Operation not supported\n",
      "getfattr: /home/jupyter/data/model_data/mini_data_set/time_20230805_100000.nc: Operation not supported\n",
      "getfattr: /home/jupyter/data/model_data/mini_data_set/time_20230816_100000.nc: Operation not supported\n",
      "getfattr: /home/jupyter/data/model_data/mini_data_set/time_20230812_080000.nc: Operation not supported\n",
      "getfattr: /home/jupyter/data/model_data/mini_data_set/time_20230812_180000.nc: Operation not supported\n",
      "getfattr: /home/jupyter/data/model_data/mini_data_set/time_20230812_130000.nc: Operation not supported\n",
      "getfattr: /home/jupyter/data/model_data/mini_data_set/time_20230802_110000.nc: Operation not supported\n",
      "getfattr: /home/jupyter/data/model_data/mini_data_set/time_20230809_100000.nc: Operation not supported\n",
      "getfattr: /home/jupyter/data/model_data/mini_data_set/time_20230802_140000.nc: Operation not supported\n",
      "getfattr: /home/jupyter/data/model_data/mini_data_set/time_20230808_150000.nc: Operation not supported\n",
      "getfattr: /home/jupyter/data/model_data/mini_data_set/time_20230811_150000.nc: Operation not supported\n",
      "getfattr: /home/jupyter/data/model_data/mini_data_set/time_20230809_180000.nc: Operation not supported\n",
      "getfattr: /home/jupyter/data/model_data/mini_data_set/time_20230806_120000.nc: Operation not supported\n",
      "getfattr: /home/jupyter/data/model_data/mini_data_set/time_20230804_080000.nc: Operation not supported\n",
      "getfattr: /home/jupyter/data/model_data/mini_data_set/time_20230807_140000.nc: Operation not supported\n",
      "getfattr: /home/jupyter/data/model_data/mini_data_set/time_20230804_160000.nc: Operation not supported\n",
      "getfattr: /home/jupyter/data/model_data/mini_data_set/time_20230807_070000.nc: Operation not supported\n",
      "getfattr: /home/jupyter/data/model_data/mini_data_set/time_20230804_090000.nc: Operation not supported\n",
      "getfattr: /home/jupyter/data/model_data/mini_data_set/time_20230811_140000.nc: Operation not supported\n",
      "getfattr: /home/jupyter/data/model_data/mini_data_set/time_20230807_180000.nc: Operation not supported\n",
      "getfattr: /home/jupyter/data/model_data/mini_data_set/time_20230805_070000.nc: Operation not supported\n",
      "getfattr: /home/jupyter/data/model_data/mini_data_set/time_20230804_180000.nc: Operation not supported\n",
      "getfattr: /home/jupyter/data/model_data/mini_data_set/time_20230805_090000.nc: Operation not supported\n",
      "getfattr: /home/jupyter/data/model_data/mini_data_set/time_20230811_100000.nc: Operation not supported\n",
      "getfattr: /home/jupyter/data/model_data/mini_data_set/time_20230811_130000.nc: Operation not supported\n",
      "getfattr: /home/jupyter/data/model_data/mini_data_set/time_20230805_120000.nc: Operation not supported\n",
      "getfattr: /home/jupyter/data/model_data/mini_data_set/time_20230809_110000.nc: Operation not supported\n",
      "getfattr: /home/jupyter/data/model_data/mini_data_set/time_20230805_180000.nc: Operation not supported\n",
      "getfattr: /home/jupyter/data/model_data/mini_data_set/time_20230809_150000.nc: Operation not supported\n",
      "getfattr: /home/jupyter/data/model_data/mini_data_set/time_20230816_140000.nc: Operation not supported\n",
      "getfattr: /home/jupyter/data/model_data/mini_data_set/time_20230802_120000.nc: Operation not supported\n",
      "getfattr: /home/jupyter/data/model_data/mini_data_set/time_20230806_160000.nc: Operation not supported\n",
      "getfattr: /home/jupyter/data/model_data/mini_data_set/time_20230805_170000.nc: Operation not supported\n",
      "getfattr: /home/jupyter/data/model_data/mini_data_set/time_20230804_150000.nc: Operation not supported\n",
      "getfattr: /home/jupyter/data/model_data/mini_data_set/time_20230804_120000.nc: Operation not supported\n",
      "getfattr: /home/jupyter/data/model_data/mini_data_set/time_20230816_110000.nc: Operation not supported\n",
      "getfattr: /home/jupyter/data/model_data/mini_data_set/time_20230806_180000.nc: Operation not supported\n",
      "getfattr: /home/jupyter/data/model_data/mini_data_set/time_20230805_140000.nc: Operation not supported\n",
      "getfattr: /home/jupyter/data/model_data/mini_data_set/time_20230811_160000.nc: Operation not supported\n",
      "getfattr: /home/jupyter/data/model_data/mini_data_set/time_20230807_100000.nc: Operation not supported\n",
      "getfattr: /home/jupyter/data/model_data/mini_data_set/time_20230804_140000.nc: Operation not supported\n",
      "getfattr: /home/jupyter/data/model_data/mini_data_set/time_20230809_170000.nc: Operation not supported\n",
      "getfattr: /home/jupyter/data/model_data/mini_data_set/time_20230816_080000.nc: Operation not supported\n",
      "getfattr: /home/jupyter/data/model_data/mini_data_set/time_20230816_040000.nc: Operation not supported\n",
      "getfattr: /home/jupyter/data/model_data/mini_data_set/time_20230815_150000.nc: Operation not supported\n",
      "getfattr: /home/jupyter/data/model_data/mini_data_set/time_20230805_110000.nc: Operation not supported\n",
      "getfattr: /home/jupyter/data/model_data/mini_data_set/time_20230807_080000.nc: Operation not supported\n",
      "getfattr: /home/jupyter/data/model_data/mini_data_set/time_20230812_170000.nc: Operation not supported\n",
      "getfattr: /home/jupyter/data/model_data/mini_data_set/time_20230816_070000.nc: Operation not supported\n",
      "getfattr: /home/jupyter/data/model_data/mini_data_set/time_20230815_160000.nc: Operation not supported\n",
      "getfattr: /home/jupyter/data/model_data/mini_data_set/time_20230806_090000.nc: Operation not supported\n",
      "getfattr: /home/jupyter/data/model_data/mini_data_set/time_20230805_150000.nc: Operation not supported\n"
     ]
    },
    {
     "name": "stdout",
     "output_type": "stream",
     "text": [
      "25/25 [==============================] - 363s 14s/step - loss: 11.4775 - val_loss: 9.3405\n",
      "Epoch 2/4\n"
     ]
    },
    {
     "name": "stderr",
     "output_type": "stream",
     "text": [
      "getfattr: /home/jupyter/data/model_data/mini_data_set/time_20230807_160000.nc: Operation not supported\n",
      "getfattr: /home/jupyter/data/model_data/mini_data_set/time_20230804_130000.nc: Operation not supported\n",
      "getfattr: /home/jupyter/data/model_data/mini_data_set/time_20230809_070000.nc: Operation not supported\n",
      "getfattr: /home/jupyter/data/model_data/mini_data_set/time_20230805_160000.nc: Operation not supported\n",
      "getfattr: /home/jupyter/data/model_data/mini_data_set/time_20230806_180000.nc: Operation not supported\n",
      "getfattr: /home/jupyter/data/model_data/mini_data_set/time_20230805_140000.nc: Operation not supported\n",
      "getfattr: /home/jupyter/data/model_data/mini_data_set/time_20230811_160000.nc: Operation not supported\n",
      "getfattr: /home/jupyter/data/model_data/mini_data_set/time_20230807_100000.nc: Operation not supported\n"
     ]
    },
    {
     "name": "stdout",
     "output_type": "stream",
     "text": [
      " 1/25 [>.............................] - ETA: 33s - loss: 6.2348"
     ]
    },
    {
     "name": "stderr",
     "output_type": "stream",
     "text": [
      "getfattr: /home/jupyter/data/model_data/mini_data_set/time_20230804_170000.nc: Operation not supported\n",
      "getfattr: /home/jupyter/data/model_data/mini_data_set/time_20230811_070000.nc: Operation not supported\n",
      "getfattr: /home/jupyter/data/model_data/mini_data_set/time_20230805_080000.nc: Operation not supported\n",
      "getfattr: /home/jupyter/data/model_data/mini_data_set/time_20230807_110000.nc: Operation not supported\n"
     ]
    },
    {
     "name": "stdout",
     "output_type": "stream",
     "text": [
      " 2/25 [=>............................] - ETA: 17s - loss: 4.8734"
     ]
    },
    {
     "name": "stderr",
     "output_type": "stream",
     "text": [
      "getfattr: /home/jupyter/data/model_data/mini_data_set/time_20230809_150000.nc: Operation not supported\n",
      "getfattr: /home/jupyter/data/model_data/mini_data_set/time_20230816_140000.nc: Operation not supported\n",
      "getfattr: /home/jupyter/data/model_data/mini_data_set/time_20230802_120000.nc: Operation not supported\n",
      "getfattr: /home/jupyter/data/model_data/mini_data_set/time_20230806_160000.nc: Operation not supported\n"
     ]
    },
    {
     "name": "stdout",
     "output_type": "stream",
     "text": [
      " 3/25 [==>...........................] - ETA: 16s - loss: 4.6623"
     ]
    },
    {
     "name": "stderr",
     "output_type": "stream",
     "text": [
      "getfattr: /home/jupyter/data/model_data/mini_data_set/time_20230805_170000.nc: Operation not supported\n",
      "getfattr: /home/jupyter/data/model_data/mini_data_set/time_20230804_150000.nc: Operation not supported\n",
      "getfattr: /home/jupyter/data/model_data/mini_data_set/time_20230804_120000.nc: Operation not supported\n",
      "getfattr: /home/jupyter/data/model_data/mini_data_set/time_20230816_110000.nc: Operation not supported\n"
     ]
    },
    {
     "name": "stdout",
     "output_type": "stream",
     "text": [
      " 4/25 [===>..........................] - ETA: 15s - loss: 7.3575"
     ]
    },
    {
     "name": "stderr",
     "output_type": "stream",
     "text": [
      "getfattr: /home/jupyter/data/model_data/mini_data_set/time_20230808_180000.nc: Operation not supported\n",
      "getfattr: /home/jupyter/data/model_data/mini_data_set/time_20230816_160000.nc: Operation not supported\n",
      "getfattr: /home/jupyter/data/model_data/mini_data_set/time_20230812_160000.nc: Operation not supported\n",
      "getfattr: /home/jupyter/data/model_data/mini_data_set/time_20230806_070000.nc: Operation not supported\n"
     ]
    },
    {
     "name": "stdout",
     "output_type": "stream",
     "text": [
      " 5/25 [=====>........................] - ETA: 15s - loss: 7.7700"
     ]
    },
    {
     "name": "stderr",
     "output_type": "stream",
     "text": [
      "getfattr: /home/jupyter/data/model_data/mini_data_set/time_20230804_140000.nc: Operation not supported\n",
      "getfattr: /home/jupyter/data/model_data/mini_data_set/time_20230809_170000.nc: Operation not supported\n",
      "getfattr: /home/jupyter/data/model_data/mini_data_set/time_20230816_080000.nc: Operation not supported\n",
      "getfattr: /home/jupyter/data/model_data/mini_data_set/time_20230816_040000.nc: Operation not supported\n"
     ]
    },
    {
     "name": "stdout",
     "output_type": "stream",
     "text": [
      " 6/25 [======>.......................] - ETA: 14s - loss: 7.3807"
     ]
    },
    {
     "name": "stderr",
     "output_type": "stream",
     "text": [
      "getfattr: /home/jupyter/data/model_data/mini_data_set/time_20230815_180000.nc: Operation not supported\n",
      "getfattr: /home/jupyter/data/model_data/mini_data_set/time_20230807_150000.nc: Operation not supported\n",
      "getfattr: /home/jupyter/data/model_data/mini_data_set/time_20230804_100000.nc: Operation not supported\n",
      "getfattr: /home/jupyter/data/model_data/mini_data_set/time_20230807_170000.nc: Operation not supported\n"
     ]
    },
    {
     "name": "stdout",
     "output_type": "stream",
     "text": [
      " 7/25 [=======>......................] - ETA: 13s - loss: 8.3788"
     ]
    },
    {
     "name": "stderr",
     "output_type": "stream",
     "text": [
      "getfattr: /home/jupyter/data/model_data/mini_data_set/time_20230812_180000.nc: Operation not supported\n",
      "getfattr: /home/jupyter/data/model_data/mini_data_set/time_20230812_130000.nc: Operation not supported\n",
      "getfattr: /home/jupyter/data/model_data/mini_data_set/time_20230802_110000.nc: Operation not supported\n",
      "getfattr: /home/jupyter/data/model_data/mini_data_set/time_20230809_100000.nc: Operation not supported\n"
     ]
    },
    {
     "name": "stdout",
     "output_type": "stream",
     "text": [
      " 8/25 [========>.....................] - ETA: 13s - loss: 9.5041"
     ]
    },
    {
     "name": "stderr",
     "output_type": "stream",
     "text": [
      "getfattr: /home/jupyter/data/model_data/mini_data_set/time_20230809_130000.nc: Operation not supported\n",
      "getfattr: /home/jupyter/data/model_data/mini_data_set/time_20230806_100000.nc: Operation not supported\n",
      "getfattr: /home/jupyter/data/model_data/mini_data_set/time_20230815_120000.nc: Operation not supported\n",
      "getfattr: /home/jupyter/data/model_data/mini_data_set/time_20230804_070000.nc: Operation not supported\n"
     ]
    },
    {
     "name": "stdout",
     "output_type": "stream",
     "text": [
      " 9/25 [=========>....................] - ETA: 12s - loss: 9.5196"
     ]
    },
    {
     "name": "stderr",
     "output_type": "stream",
     "text": [
      "getfattr: /home/jupyter/data/model_data/mini_data_set/time_20230807_070000.nc: Operation not supported\n",
      "getfattr: /home/jupyter/data/model_data/mini_data_set/time_20230804_090000.nc: Operation not supported\n",
      "getfattr: /home/jupyter/data/model_data/mini_data_set/time_20230811_140000.nc: Operation not supported\n",
      "getfattr: /home/jupyter/data/model_data/mini_data_set/time_20230807_180000.nc: Operation not supported\n"
     ]
    },
    {
     "name": "stdout",
     "output_type": "stream",
     "text": [
      "10/25 [===========>..................] - ETA: 11s - loss: 9.3457"
     ]
    },
    {
     "name": "stderr",
     "output_type": "stream",
     "text": [
      "getfattr: /home/jupyter/data/model_data/mini_data_set/time_20230802_130000.nc: Operation not supported\n",
      "getfattr: /home/jupyter/data/model_data/mini_data_set/time_20230808_140000.nc: Operation not supported\n",
      "getfattr: /home/jupyter/data/model_data/mini_data_set/time_20230809_090000.nc: Operation not supported\n",
      "getfattr: /home/jupyter/data/model_data/mini_data_set/time_20230806_110000.nc: Operation not supported\n"
     ]
    },
    {
     "name": "stdout",
     "output_type": "stream",
     "text": [
      "11/25 [============>.................] - ETA: 10s - loss: 8.8534"
     ]
    },
    {
     "name": "stderr",
     "output_type": "stream",
     "text": [
      "getfattr: /home/jupyter/data/model_data/mini_data_set/time_20230816_070000.nc: Operation not supported\n",
      "getfattr: /home/jupyter/data/model_data/mini_data_set/time_20230815_160000.nc: Operation not supported\n",
      "getfattr: /home/jupyter/data/model_data/mini_data_set/time_20230806_090000.nc: Operation not supported\n",
      "getfattr: /home/jupyter/data/model_data/mini_data_set/time_20230805_150000.nc: Operation not supported\n"
     ]
    },
    {
     "name": "stdout",
     "output_type": "stream",
     "text": [
      "12/25 [=============>................] - ETA: 10s - loss: 9.3130"
     ]
    },
    {
     "name": "stderr",
     "output_type": "stream",
     "text": [
      "getfattr: /home/jupyter/data/model_data/mini_data_set/time_20230802_140000.nc: Operation not supported\n",
      "getfattr: /home/jupyter/data/model_data/mini_data_set/time_20230808_150000.nc: Operation not supported\n",
      "getfattr: /home/jupyter/data/model_data/mini_data_set/time_20230811_150000.nc: Operation not supported\n",
      "getfattr: /home/jupyter/data/model_data/mini_data_set/time_20230809_180000.nc: Operation not supported\n"
     ]
    },
    {
     "name": "stdout",
     "output_type": "stream",
     "text": [
      "13/25 [==============>...............] - ETA: 9s - loss: 9.4585 "
     ]
    },
    {
     "name": "stderr",
     "output_type": "stream",
     "text": [
      "getfattr: /home/jupyter/data/model_data/mini_data_set/time_20230805_070000.nc: Operation not supported\n",
      "getfattr: /home/jupyter/data/model_data/mini_data_set/time_20230804_180000.nc: Operation not supported\n",
      "getfattr: /home/jupyter/data/model_data/mini_data_set/time_20230805_090000.nc: Operation not supported\n",
      "getfattr: /home/jupyter/data/model_data/mini_data_set/time_20230811_100000.nc: Operation not supported\n"
     ]
    },
    {
     "name": "stdout",
     "output_type": "stream",
     "text": [
      "14/25 [===============>..............] - ETA: 8s - loss: 9.2762"
     ]
    },
    {
     "name": "stderr",
     "output_type": "stream",
     "text": [
      "getfattr: /home/jupyter/data/model_data/mini_data_set/time_20230807_090000.nc: Operation not supported\n",
      "getfattr: /home/jupyter/data/model_data/mini_data_set/time_20230805_100000.nc: Operation not supported\n",
      "getfattr: /home/jupyter/data/model_data/mini_data_set/time_20230816_100000.nc: Operation not supported\n",
      "getfattr: /home/jupyter/data/model_data/mini_data_set/time_20230812_080000.nc: Operation not supported\n"
     ]
    },
    {
     "name": "stdout",
     "output_type": "stream",
     "text": [
      "15/25 [=================>............] - ETA: 7s - loss: 9.0058"
     ]
    },
    {
     "name": "stderr",
     "output_type": "stream",
     "text": [
      "getfattr: /home/jupyter/data/model_data/mini_data_set/time_20230809_140000.nc: Operation not supported\n",
      "getfattr: /home/jupyter/data/model_data/mini_data_set/time_20230809_080000.nc: Operation not supported\n",
      "getfattr: /home/jupyter/data/model_data/mini_data_set/time_20230811_180000.nc: Operation not supported\n",
      "getfattr: /home/jupyter/data/model_data/mini_data_set/time_20230812_070000.nc: Operation not supported\n"
     ]
    },
    {
     "name": "stdout",
     "output_type": "stream",
     "text": [
      "16/25 [==================>...........] - ETA: 6s - loss: 8.7859"
     ]
    },
    {
     "name": "stderr",
     "output_type": "stream",
     "text": [
      "getfattr: /home/jupyter/data/model_data/mini_data_set/time_20230816_150000.nc: Operation not supported\n",
      "getfattr: /home/jupyter/data/model_data/mini_data_set/time_20230807_130000.nc: Operation not supported\n",
      "getfattr: /home/jupyter/data/model_data/mini_data_set/time_20230815_170000.nc: Operation not supported\n",
      "getfattr: /home/jupyter/data/model_data/mini_data_set/time_20230811_110000.nc: Operation not supported\n"
     ]
    },
    {
     "name": "stdout",
     "output_type": "stream",
     "text": [
      "17/25 [===================>..........] - ETA: 6s - loss: 8.4754"
     ]
    },
    {
     "name": "stderr",
     "output_type": "stream",
     "text": [
      "getfattr: /home/jupyter/data/model_data/mini_data_set/time_20230812_150000.nc: Operation not supported\n",
      "getfattr: /home/jupyter/data/model_data/mini_data_set/time_20230802_150000.nc: Operation not supported\n",
      "getfattr: /home/jupyter/data/model_data/mini_data_set/time_20230812_140000.nc: Operation not supported\n",
      "getfattr: /home/jupyter/data/model_data/mini_data_set/time_20230809_160000.nc: Operation not supported\n"
     ]
    },
    {
     "name": "stdout",
     "output_type": "stream",
     "text": [
      "18/25 [====================>.........] - ETA: 5s - loss: 8.5738"
     ]
    },
    {
     "name": "stderr",
     "output_type": "stream",
     "text": [
      "getfattr: /home/jupyter/data/model_data/mini_data_set/time_20230808_170000.nc: Operation not supported\n",
      "getfattr: /home/jupyter/data/model_data/mini_data_set/time_20230811_170000.nc: Operation not supported\n",
      "getfattr: /home/jupyter/data/model_data/mini_data_set/time_20230806_080000.nc: Operation not supported\n",
      "getfattr: /home/jupyter/data/model_data/mini_data_set/time_20230806_170000.nc: Operation not supported\n"
     ]
    },
    {
     "name": "stdout",
     "output_type": "stream",
     "text": [
      "19/25 [=====================>........] - ETA: 4s - loss: 8.4374"
     ]
    },
    {
     "name": "stderr",
     "output_type": "stream",
     "text": [
      "getfattr: /home/jupyter/data/model_data/mini_data_set/time_20230806_120000.nc: Operation not supported\n",
      "getfattr: /home/jupyter/data/model_data/mini_data_set/time_20230804_080000.nc: Operation not supported\n",
      "getfattr: /home/jupyter/data/model_data/mini_data_set/time_20230807_140000.nc: Operation not supported\n",
      "getfattr: /home/jupyter/data/model_data/mini_data_set/time_20230804_160000.nc: Operation not supported\n"
     ]
    },
    {
     "name": "stdout",
     "output_type": "stream",
     "text": [
      "20/25 [=======================>......] - ETA: 3s - loss: 8.1351"
     ]
    },
    {
     "name": "stderr",
     "output_type": "stream",
     "text": [
      "getfattr: /home/jupyter/data/model_data/mini_data_set/time_20230806_140000.nc: Operation not supported\n",
      "getfattr: /home/jupyter/data/model_data/mini_data_set/time_20230811_080000.nc: Operation not supported\n",
      "getfattr: /home/jupyter/data/model_data/mini_data_set/time_20230816_090000.nc: Operation not supported\n",
      "getfattr: /home/jupyter/data/model_data/mini_data_set/time_20230808_160000.nc: Operation not supported\n"
     ]
    },
    {
     "name": "stdout",
     "output_type": "stream",
     "text": [
      "21/25 [========================>.....] - ETA: 3s - loss: 7.9882"
     ]
    },
    {
     "name": "stderr",
     "output_type": "stream",
     "text": [
      "getfattr: /home/jupyter/data/model_data/mini_data_set/time_20230815_150000.nc: Operation not supported\n",
      "getfattr: /home/jupyter/data/model_data/mini_data_set/time_20230805_110000.nc: Operation not supported\n",
      "getfattr: /home/jupyter/data/model_data/mini_data_set/time_20230807_080000.nc: Operation not supported\n",
      "getfattr: /home/jupyter/data/model_data/mini_data_set/time_20230812_170000.nc: Operation not supported\n"
     ]
    },
    {
     "name": "stdout",
     "output_type": "stream",
     "text": [
      "22/25 [=========================>....] - ETA: 2s - loss: 7.9101"
     ]
    },
    {
     "name": "stderr",
     "output_type": "stream",
     "text": [
      "getfattr: /home/jupyter/data/model_data/mini_data_set/time_20230811_090000.nc: Operation not supported\n",
      "getfattr: /home/jupyter/data/model_data/mini_data_set/time_20230806_150000.nc: Operation not supported\n",
      "getfattr: /home/jupyter/data/model_data/mini_data_set/time_20230802_100000.nc: Operation not supported\n",
      "getfattr: /home/jupyter/data/model_data/mini_data_set/time_20230812_120000.nc: Operation not supported\n"
     ]
    },
    {
     "name": "stdout",
     "output_type": "stream",
     "text": [
      "23/25 [==========================>...] - ETA: 1s - loss: 7.9336"
     ]
    },
    {
     "name": "stderr",
     "output_type": "stream",
     "text": [
      "getfattr: /home/jupyter/data/model_data/mini_data_set/time_20230811_130000.nc: Operation not supported\n",
      "getfattr: /home/jupyter/data/model_data/mini_data_set/time_20230805_120000.nc: Operation not supported\n",
      "getfattr: /home/jupyter/data/model_data/mini_data_set/time_20230809_110000.nc: Operation not supported\n",
      "getfattr: /home/jupyter/data/model_data/mini_data_set/time_20230805_180000.nc: Operation not supported\n"
     ]
    },
    {
     "name": "stdout",
     "output_type": "stream",
     "text": [
      "25/25 [==============================] - ETA: 0s - loss: 7.5612"
     ]
    },
    {
     "name": "stderr",
     "output_type": "stream",
     "text": [
      "getfattr: /home/jupyter/data/model_data/mini_data_set/time_20230807_160000.nc: Operation not supported\n",
      "getfattr: /home/jupyter/data/model_data/mini_data_set/time_20230804_130000.nc: Operation not supported\n",
      "getfattr: /home/jupyter/data/model_data/mini_data_set/time_20230809_070000.nc: Operation not supported\n",
      "getfattr: /home/jupyter/data/model_data/mini_data_set/time_20230805_160000.nc: Operation not supported\n",
      "getfattr: /home/jupyter/data/model_data/mini_data_set/time_20230811_090000.nc: Operation not supported\n",
      "getfattr: /home/jupyter/data/model_data/mini_data_set/time_20230806_150000.nc: Operation not supported\n",
      "getfattr: /home/jupyter/data/model_data/mini_data_set/time_20230802_100000.nc: Operation not supported\n",
      "getfattr: /home/jupyter/data/model_data/mini_data_set/time_20230812_120000.nc: Operation not supported\n",
      "getfattr: /home/jupyter/data/model_data/mini_data_set/time_20230808_170000.nc: Operation not supported\n",
      "getfattr: /home/jupyter/data/model_data/mini_data_set/time_20230811_170000.nc: Operation not supported\n",
      "getfattr: /home/jupyter/data/model_data/mini_data_set/time_20230806_080000.nc: Operation not supported\n",
      "getfattr: /home/jupyter/data/model_data/mini_data_set/time_20230806_170000.nc: Operation not supported\n",
      "getfattr: /home/jupyter/data/model_data/mini_data_set/time_20230809_130000.nc: Operation not supported\n",
      "getfattr: /home/jupyter/data/model_data/mini_data_set/time_20230806_100000.nc: Operation not supported\n",
      "getfattr: /home/jupyter/data/model_data/mini_data_set/time_20230815_120000.nc: Operation not supported\n",
      "getfattr: /home/jupyter/data/model_data/mini_data_set/time_20230804_070000.nc: Operation not supported\n",
      "getfattr: /home/jupyter/data/model_data/mini_data_set/time_20230808_180000.nc: Operation not supported\n",
      "getfattr: /home/jupyter/data/model_data/mini_data_set/time_20230816_160000.nc: Operation not supported\n",
      "getfattr: /home/jupyter/data/model_data/mini_data_set/time_20230812_160000.nc: Operation not supported\n",
      "getfattr: /home/jupyter/data/model_data/mini_data_set/time_20230806_070000.nc: Operation not supported\n",
      "getfattr: /home/jupyter/data/model_data/mini_data_set/time_20230804_170000.nc: Operation not supported\n",
      "getfattr: /home/jupyter/data/model_data/mini_data_set/time_20230811_070000.nc: Operation not supported\n",
      "getfattr: /home/jupyter/data/model_data/mini_data_set/time_20230805_080000.nc: Operation not supported\n",
      "getfattr: /home/jupyter/data/model_data/mini_data_set/time_20230807_110000.nc: Operation not supported\n",
      "getfattr: /home/jupyter/data/model_data/mini_data_set/time_20230806_140000.nc: Operation not supported\n",
      "getfattr: /home/jupyter/data/model_data/mini_data_set/time_20230811_080000.nc: Operation not supported\n",
      "getfattr: /home/jupyter/data/model_data/mini_data_set/time_20230816_090000.nc: Operation not supported\n",
      "getfattr: /home/jupyter/data/model_data/mini_data_set/time_20230808_160000.nc: Operation not supported\n",
      "getfattr: /home/jupyter/data/model_data/mini_data_set/time_20230816_150000.nc: Operation not supported\n",
      "getfattr: /home/jupyter/data/model_data/mini_data_set/time_20230807_130000.nc: Operation not supported\n",
      "getfattr: /home/jupyter/data/model_data/mini_data_set/time_20230815_170000.nc: Operation not supported\n",
      "getfattr: /home/jupyter/data/model_data/mini_data_set/time_20230811_110000.nc: Operation not supported\n",
      "getfattr: /home/jupyter/data/model_data/mini_data_set/time_20230809_140000.nc: Operation not supported\n",
      "getfattr: /home/jupyter/data/model_data/mini_data_set/time_20230809_080000.nc: Operation not supported\n",
      "getfattr: /home/jupyter/data/model_data/mini_data_set/time_20230811_180000.nc: Operation not supported\n",
      "getfattr: /home/jupyter/data/model_data/mini_data_set/time_20230812_070000.nc: Operation not supported\n",
      "getfattr: /home/jupyter/data/model_data/mini_data_set/time_20230815_180000.nc: Operation not supported\n",
      "getfattr: /home/jupyter/data/model_data/mini_data_set/time_20230807_150000.nc: Operation not supported\n",
      "getfattr: /home/jupyter/data/model_data/mini_data_set/time_20230804_100000.nc: Operation not supported\n",
      "getfattr: /home/jupyter/data/model_data/mini_data_set/time_20230807_170000.nc: Operation not supported\n",
      "getfattr: /home/jupyter/data/model_data/mini_data_set/time_20230812_150000.nc: Operation not supported\n",
      "getfattr: /home/jupyter/data/model_data/mini_data_set/time_20230802_150000.nc: Operation not supported\n",
      "getfattr: /home/jupyter/data/model_data/mini_data_set/time_20230812_140000.nc: Operation not supported\n",
      "getfattr: /home/jupyter/data/model_data/mini_data_set/time_20230809_160000.nc: Operation not supported\n",
      "getfattr: /home/jupyter/data/model_data/mini_data_set/time_20230802_130000.nc: Operation not supported\n",
      "getfattr: /home/jupyter/data/model_data/mini_data_set/time_20230808_140000.nc: Operation not supported\n",
      "getfattr: /home/jupyter/data/model_data/mini_data_set/time_20230809_090000.nc: Operation not supported\n",
      "getfattr: /home/jupyter/data/model_data/mini_data_set/time_20230806_110000.nc: Operation not supported\n",
      "getfattr: /home/jupyter/data/model_data/mini_data_set/time_20230807_090000.nc: Operation not supported\n",
      "getfattr: /home/jupyter/data/model_data/mini_data_set/time_20230805_100000.nc: Operation not supported\n",
      "getfattr: /home/jupyter/data/model_data/mini_data_set/time_20230816_100000.nc: Operation not supported\n",
      "getfattr: /home/jupyter/data/model_data/mini_data_set/time_20230812_080000.nc: Operation not supported\n",
      "getfattr: /home/jupyter/data/model_data/mini_data_set/time_20230812_180000.nc: Operation not supported\n",
      "getfattr: /home/jupyter/data/model_data/mini_data_set/time_20230812_130000.nc: Operation not supported\n",
      "getfattr: /home/jupyter/data/model_data/mini_data_set/time_20230802_110000.nc: Operation not supported\n",
      "getfattr: /home/jupyter/data/model_data/mini_data_set/time_20230809_100000.nc: Operation not supported\n",
      "getfattr: /home/jupyter/data/model_data/mini_data_set/time_20230802_140000.nc: Operation not supported\n",
      "getfattr: /home/jupyter/data/model_data/mini_data_set/time_20230808_150000.nc: Operation not supported\n",
      "getfattr: /home/jupyter/data/model_data/mini_data_set/time_20230811_150000.nc: Operation not supported\n",
      "getfattr: /home/jupyter/data/model_data/mini_data_set/time_20230809_180000.nc: Operation not supported\n",
      "getfattr: /home/jupyter/data/model_data/mini_data_set/time_20230806_120000.nc: Operation not supported\n",
      "getfattr: /home/jupyter/data/model_data/mini_data_set/time_20230804_080000.nc: Operation not supported\n",
      "getfattr: /home/jupyter/data/model_data/mini_data_set/time_20230807_140000.nc: Operation not supported\n",
      "getfattr: /home/jupyter/data/model_data/mini_data_set/time_20230804_160000.nc: Operation not supported\n",
      "getfattr: /home/jupyter/data/model_data/mini_data_set/time_20230807_070000.nc: Operation not supported\n",
      "getfattr: /home/jupyter/data/model_data/mini_data_set/time_20230804_090000.nc: Operation not supported\n",
      "getfattr: /home/jupyter/data/model_data/mini_data_set/time_20230811_140000.nc: Operation not supported\n",
      "getfattr: /home/jupyter/data/model_data/mini_data_set/time_20230807_180000.nc: Operation not supported\n",
      "getfattr: /home/jupyter/data/model_data/mini_data_set/time_20230805_070000.nc: Operation not supported\n",
      "getfattr: /home/jupyter/data/model_data/mini_data_set/time_20230804_180000.nc: Operation not supported\n",
      "getfattr: /home/jupyter/data/model_data/mini_data_set/time_20230805_090000.nc: Operation not supported\n",
      "getfattr: /home/jupyter/data/model_data/mini_data_set/time_20230811_100000.nc: Operation not supported\n",
      "getfattr: /home/jupyter/data/model_data/mini_data_set/time_20230811_130000.nc: Operation not supported\n",
      "getfattr: /home/jupyter/data/model_data/mini_data_set/time_20230805_120000.nc: Operation not supported\n",
      "getfattr: /home/jupyter/data/model_data/mini_data_set/time_20230809_110000.nc: Operation not supported\n",
      "getfattr: /home/jupyter/data/model_data/mini_data_set/time_20230805_180000.nc: Operation not supported\n",
      "getfattr: /home/jupyter/data/model_data/mini_data_set/time_20230809_150000.nc: Operation not supported\n",
      "getfattr: /home/jupyter/data/model_data/mini_data_set/time_20230816_140000.nc: Operation not supported\n",
      "getfattr: /home/jupyter/data/model_data/mini_data_set/time_20230802_120000.nc: Operation not supported\n",
      "getfattr: /home/jupyter/data/model_data/mini_data_set/time_20230806_160000.nc: Operation not supported\n",
      "getfattr: /home/jupyter/data/model_data/mini_data_set/time_20230805_170000.nc: Operation not supported\n",
      "getfattr: /home/jupyter/data/model_data/mini_data_set/time_20230804_150000.nc: Operation not supported\n",
      "getfattr: /home/jupyter/data/model_data/mini_data_set/time_20230804_120000.nc: Operation not supported\n",
      "getfattr: /home/jupyter/data/model_data/mini_data_set/time_20230816_110000.nc: Operation not supported\n",
      "getfattr: /home/jupyter/data/model_data/mini_data_set/time_20230806_180000.nc: Operation not supported\n",
      "getfattr: /home/jupyter/data/model_data/mini_data_set/time_20230805_140000.nc: Operation not supported\n",
      "getfattr: /home/jupyter/data/model_data/mini_data_set/time_20230811_160000.nc: Operation not supported\n",
      "getfattr: /home/jupyter/data/model_data/mini_data_set/time_20230807_100000.nc: Operation not supported\n",
      "getfattr: /home/jupyter/data/model_data/mini_data_set/time_20230804_140000.nc: Operation not supported\n",
      "getfattr: /home/jupyter/data/model_data/mini_data_set/time_20230809_170000.nc: Operation not supported\n",
      "getfattr: /home/jupyter/data/model_data/mini_data_set/time_20230816_080000.nc: Operation not supported\n",
      "getfattr: /home/jupyter/data/model_data/mini_data_set/time_20230816_040000.nc: Operation not supported\n",
      "getfattr: /home/jupyter/data/model_data/mini_data_set/time_20230815_150000.nc: Operation not supported\n",
      "getfattr: /home/jupyter/data/model_data/mini_data_set/time_20230805_110000.nc: Operation not supported\n",
      "getfattr: /home/jupyter/data/model_data/mini_data_set/time_20230807_080000.nc: Operation not supported\n",
      "getfattr: /home/jupyter/data/model_data/mini_data_set/time_20230812_170000.nc: Operation not supported\n",
      "getfattr: /home/jupyter/data/model_data/mini_data_set/time_20230816_070000.nc: Operation not supported\n",
      "getfattr: /home/jupyter/data/model_data/mini_data_set/time_20230815_160000.nc: Operation not supported\n",
      "getfattr: /home/jupyter/data/model_data/mini_data_set/time_20230806_090000.nc: Operation not supported\n",
      "getfattr: /home/jupyter/data/model_data/mini_data_set/time_20230805_150000.nc: Operation not supported\n"
     ]
    },
    {
     "name": "stdout",
     "output_type": "stream",
     "text": [
      "25/25 [==============================] - 41s 2s/step - loss: 7.5612 - val_loss: 16.3946\n",
      "Epoch 3/4\n"
     ]
    },
    {
     "name": "stderr",
     "output_type": "stream",
     "text": [
      "getfattr: /home/jupyter/data/model_data/mini_data_set/time_20230816_150000.nc: Operation not supported\n",
      "getfattr: /home/jupyter/data/model_data/mini_data_set/time_20230807_130000.nc: Operation not supported\n",
      "getfattr: /home/jupyter/data/model_data/mini_data_set/time_20230815_170000.nc: Operation not supported\n",
      "getfattr: /home/jupyter/data/model_data/mini_data_set/time_20230811_110000.nc: Operation not supported\n",
      "getfattr: /home/jupyter/data/model_data/mini_data_set/time_20230802_140000.nc: Operation not supported\n",
      "getfattr: /home/jupyter/data/model_data/mini_data_set/time_20230808_150000.nc: Operation not supported\n",
      "getfattr: /home/jupyter/data/model_data/mini_data_set/time_20230811_150000.nc: Operation not supported\n",
      "getfattr: /home/jupyter/data/model_data/mini_data_set/time_20230809_180000.nc: Operation not supported\n"
     ]
    },
    {
     "name": "stdout",
     "output_type": "stream",
     "text": [
      " 1/25 [>.............................] - ETA: 32s - loss: 9.2894"
     ]
    },
    {
     "name": "stderr",
     "output_type": "stream",
     "text": [
      "getfattr: /home/jupyter/data/model_data/mini_data_set/time_20230802_130000.nc: Operation not supported\n",
      "getfattr: /home/jupyter/data/model_data/mini_data_set/time_20230808_140000.nc: Operation not supported\n",
      "getfattr: /home/jupyter/data/model_data/mini_data_set/time_20230809_090000.nc: Operation not supported\n",
      "getfattr: /home/jupyter/data/model_data/mini_data_set/time_20230806_110000.nc: Operation not supported\n"
     ]
    },
    {
     "name": "stdout",
     "output_type": "stream",
     "text": [
      " 2/25 [=>............................] - ETA: 17s - loss: 7.1060"
     ]
    },
    {
     "name": "stderr",
     "output_type": "stream",
     "text": [
      "getfattr: /home/jupyter/data/model_data/mini_data_set/time_20230809_140000.nc: Operation not supported\n",
      "getfattr: /home/jupyter/data/model_data/mini_data_set/time_20230809_080000.nc: Operation not supported\n",
      "getfattr: /home/jupyter/data/model_data/mini_data_set/time_20230811_180000.nc: Operation not supported\n"
     ]
    },
    {
     "name": "stdout",
     "output_type": "stream",
     "text": [
      " 3/25 [==>...........................] - ETA: 17s - loss: 8.6349"
     ]
    },
    {
     "name": "stderr",
     "output_type": "stream",
     "text": [
      "getfattr: /home/jupyter/data/model_data/mini_data_set/time_20230812_070000.nc: Operation not supported\n",
      "getfattr: /home/jupyter/data/model_data/mini_data_set/time_20230812_180000.nc: Operation not supported\n",
      "getfattr: /home/jupyter/data/model_data/mini_data_set/time_20230812_130000.nc: Operation not supported\n",
      "getfattr: /home/jupyter/data/model_data/mini_data_set/time_20230802_110000.nc: Operation not supported\n",
      "getfattr: /home/jupyter/data/model_data/mini_data_set/time_20230809_100000.nc: Operation not supported\n"
     ]
    },
    {
     "name": "stdout",
     "output_type": "stream",
     "text": [
      " 4/25 [===>..........................] - ETA: 16s - loss: 7.0802"
     ]
    },
    {
     "name": "stderr",
     "output_type": "stream",
     "text": [
      "getfattr: /home/jupyter/data/model_data/mini_data_set/time_20230805_170000.nc: Operation not supported\n",
      "getfattr: /home/jupyter/data/model_data/mini_data_set/time_20230804_150000.nc: Operation not supported\n",
      "getfattr: /home/jupyter/data/model_data/mini_data_set/time_20230804_120000.nc: Operation not supported\n",
      "getfattr: /home/jupyter/data/model_data/mini_data_set/time_20230816_110000.nc: Operation not supported\n"
     ]
    },
    {
     "name": "stdout",
     "output_type": "stream",
     "text": [
      " 5/25 [=====>........................] - ETA: 15s - loss: 6.8234"
     ]
    },
    {
     "name": "stderr",
     "output_type": "stream",
     "text": [
      "getfattr: /home/jupyter/data/model_data/mini_data_set/time_20230815_180000.nc: Operation not supported\n",
      "getfattr: /home/jupyter/data/model_data/mini_data_set/time_20230807_150000.nc: Operation not supported\n",
      "getfattr: /home/jupyter/data/model_data/mini_data_set/time_20230804_100000.nc: Operation not supported\n",
      "getfattr: /home/jupyter/data/model_data/mini_data_set/time_20230807_170000.nc: Operation not supported\n"
     ]
    },
    {
     "name": "stdout",
     "output_type": "stream",
     "text": [
      " 6/25 [======>.......................] - ETA: 14s - loss: 6.7914"
     ]
    },
    {
     "name": "stderr",
     "output_type": "stream",
     "text": [
      "getfattr: /home/jupyter/data/model_data/mini_data_set/time_20230809_130000.nc: Operation not supported\n",
      "getfattr: /home/jupyter/data/model_data/mini_data_set/time_20230806_100000.nc: Operation not supported\n",
      "getfattr: /home/jupyter/data/model_data/mini_data_set/time_20230815_120000.nc: Operation not supported\n",
      "getfattr: /home/jupyter/data/model_data/mini_data_set/time_20230804_070000.nc: Operation not supported\n"
     ]
    },
    {
     "name": "stdout",
     "output_type": "stream",
     "text": [
      " 7/25 [=======>......................] - ETA: 13s - loss: 7.9759"
     ]
    },
    {
     "name": "stderr",
     "output_type": "stream",
     "text": [
      "getfattr: /home/jupyter/data/model_data/mini_data_set/time_20230809_150000.nc: Operation not supported\n",
      "getfattr: /home/jupyter/data/model_data/mini_data_set/time_20230816_140000.nc: Operation not supported\n",
      "getfattr: /home/jupyter/data/model_data/mini_data_set/time_20230802_120000.nc: Operation not supported\n",
      "getfattr: /home/jupyter/data/model_data/mini_data_set/time_20230806_160000.nc: Operation not supported\n"
     ]
    },
    {
     "name": "stdout",
     "output_type": "stream",
     "text": [
      " 8/25 [========>.....................] - ETA: 13s - loss: 7.8844"
     ]
    },
    {
     "name": "stderr",
     "output_type": "stream",
     "text": [
      "getfattr: /home/jupyter/data/model_data/mini_data_set/time_20230811_090000.nc: Operation not supported\n",
      "getfattr: /home/jupyter/data/model_data/mini_data_set/time_20230806_150000.nc: Operation not supported\n",
      "getfattr: /home/jupyter/data/model_data/mini_data_set/time_20230802_100000.nc: Operation not supported\n",
      "getfattr: /home/jupyter/data/model_data/mini_data_set/time_20230812_120000.nc: Operation not supported\n"
     ]
    },
    {
     "name": "stdout",
     "output_type": "stream",
     "text": [
      " 9/25 [=========>....................] - ETA: 12s - loss: 8.1674"
     ]
    },
    {
     "name": "stderr",
     "output_type": "stream",
     "text": [
      "getfattr: /home/jupyter/data/model_data/mini_data_set/time_20230812_150000.nc: Operation not supported\n",
      "getfattr: /home/jupyter/data/model_data/mini_data_set/time_20230802_150000.nc: Operation not supported\n",
      "getfattr: /home/jupyter/data/model_data/mini_data_set/time_20230812_140000.nc: Operation not supported\n",
      "getfattr: /home/jupyter/data/model_data/mini_data_set/time_20230809_160000.nc: Operation not supported\n"
     ]
    },
    {
     "name": "stdout",
     "output_type": "stream",
     "text": [
      "10/25 [===========>..................] - ETA: 11s - loss: 7.6449"
     ]
    },
    {
     "name": "stderr",
     "output_type": "stream",
     "text": [
      "getfattr: /home/jupyter/data/model_data/mini_data_set/time_20230815_150000.nc: Operation not supported\n",
      "getfattr: /home/jupyter/data/model_data/mini_data_set/time_20230805_110000.nc: Operation not supported\n",
      "getfattr: /home/jupyter/data/model_data/mini_data_set/time_20230807_080000.nc: Operation not supported\n",
      "getfattr: /home/jupyter/data/model_data/mini_data_set/time_20230812_170000.nc: Operation not supported\n"
     ]
    },
    {
     "name": "stdout",
     "output_type": "stream",
     "text": [
      "11/25 [============>.................] - ETA: 11s - loss: 7.3393"
     ]
    },
    {
     "name": "stderr",
     "output_type": "stream",
     "text": [
      "getfattr: /home/jupyter/data/model_data/mini_data_set/time_20230807_070000.nc: Operation not supported\n",
      "getfattr: /home/jupyter/data/model_data/mini_data_set/time_20230804_090000.nc: Operation not supported\n",
      "getfattr: /home/jupyter/data/model_data/mini_data_set/time_20230811_140000.nc: Operation not supported\n",
      "getfattr: /home/jupyter/data/model_data/mini_data_set/time_20230807_180000.nc: Operation not supported\n"
     ]
    },
    {
     "name": "stdout",
     "output_type": "stream",
     "text": [
      "12/25 [=============>................] - ETA: 10s - loss: 7.3822"
     ]
    },
    {
     "name": "stderr",
     "output_type": "stream",
     "text": [
      "getfattr: /home/jupyter/data/model_data/mini_data_set/time_20230806_120000.nc: Operation not supported\n",
      "getfattr: /home/jupyter/data/model_data/mini_data_set/time_20230804_080000.nc: Operation not supported\n",
      "getfattr: /home/jupyter/data/model_data/mini_data_set/time_20230807_140000.nc: Operation not supported\n",
      "getfattr: /home/jupyter/data/model_data/mini_data_set/time_20230804_160000.nc: Operation not supported\n"
     ]
    },
    {
     "name": "stdout",
     "output_type": "stream",
     "text": [
      "13/25 [==============>...............] - ETA: 9s - loss: 7.0465 "
     ]
    },
    {
     "name": "stderr",
     "output_type": "stream",
     "text": [
      "getfattr: /home/jupyter/data/model_data/mini_data_set/time_20230806_140000.nc: Operation not supported\n",
      "getfattr: /home/jupyter/data/model_data/mini_data_set/time_20230811_080000.nc: Operation not supported\n",
      "getfattr: /home/jupyter/data/model_data/mini_data_set/time_20230816_090000.nc: Operation not supported\n",
      "getfattr: /home/jupyter/data/model_data/mini_data_set/time_20230808_160000.nc: Operation not supported\n"
     ]
    },
    {
     "name": "stdout",
     "output_type": "stream",
     "text": [
      "14/25 [===============>..............] - ETA: 8s - loss: 6.7803"
     ]
    },
    {
     "name": "stderr",
     "output_type": "stream",
     "text": [
      "getfattr: /home/jupyter/data/model_data/mini_data_set/time_20230816_070000.nc: Operation not supported\n",
      "getfattr: /home/jupyter/data/model_data/mini_data_set/time_20230815_160000.nc: Operation not supported\n",
      "getfattr: /home/jupyter/data/model_data/mini_data_set/time_20230806_090000.nc: Operation not supported\n"
     ]
    },
    {
     "name": "stdout",
     "output_type": "stream",
     "text": [
      "15/25 [=================>............] - ETA: 7s - loss: 6.5955"
     ]
    },
    {
     "name": "stderr",
     "output_type": "stream",
     "text": [
      "getfattr: /home/jupyter/data/model_data/mini_data_set/time_20230805_150000.nc: Operation not supported\n",
      "getfattr: /home/jupyter/data/model_data/mini_data_set/time_20230808_170000.nc: Operation not supported\n",
      "getfattr: /home/jupyter/data/model_data/mini_data_set/time_20230811_170000.nc: Operation not supported\n",
      "getfattr: /home/jupyter/data/model_data/mini_data_set/time_20230806_080000.nc: Operation not supported\n",
      "getfattr: /home/jupyter/data/model_data/mini_data_set/time_20230806_170000.nc: Operation not supported\n"
     ]
    },
    {
     "name": "stdout",
     "output_type": "stream",
     "text": [
      "16/25 [==================>...........] - ETA: 7s - loss: 6.7978"
     ]
    },
    {
     "name": "stderr",
     "output_type": "stream",
     "text": [
      "getfattr: /home/jupyter/data/model_data/mini_data_set/time_20230804_140000.nc: Operation not supported\n",
      "getfattr: /home/jupyter/data/model_data/mini_data_set/time_20230809_170000.nc: Operation not supported\n",
      "getfattr: /home/jupyter/data/model_data/mini_data_set/time_20230816_080000.nc: Operation not supported\n",
      "getfattr: /home/jupyter/data/model_data/mini_data_set/time_20230816_040000.nc: Operation not supported\n"
     ]
    },
    {
     "name": "stdout",
     "output_type": "stream",
     "text": [
      "17/25 [===================>..........] - ETA: 6s - loss: 6.5860"
     ]
    },
    {
     "name": "stderr",
     "output_type": "stream",
     "text": [
      "getfattr: /home/jupyter/data/model_data/mini_data_set/time_20230808_180000.nc: Operation not supported\n",
      "getfattr: /home/jupyter/data/model_data/mini_data_set/time_20230816_160000.nc: Operation not supported\n",
      "getfattr: /home/jupyter/data/model_data/mini_data_set/time_20230812_160000.nc: Operation not supported\n",
      "getfattr: /home/jupyter/data/model_data/mini_data_set/time_20230806_070000.nc: Operation not supported\n"
     ]
    },
    {
     "name": "stdout",
     "output_type": "stream",
     "text": [
      "18/25 [====================>.........] - ETA: 5s - loss: 6.8523"
     ]
    },
    {
     "name": "stderr",
     "output_type": "stream",
     "text": [
      "getfattr: /home/jupyter/data/model_data/mini_data_set/time_20230811_130000.nc: Operation not supported\n",
      "getfattr: /home/jupyter/data/model_data/mini_data_set/time_20230805_120000.nc: Operation not supported\n",
      "getfattr: /home/jupyter/data/model_data/mini_data_set/time_20230809_110000.nc: Operation not supported\n",
      "getfattr: /home/jupyter/data/model_data/mini_data_set/time_20230805_180000.nc: Operation not supported\n"
     ]
    },
    {
     "name": "stdout",
     "output_type": "stream",
     "text": [
      "19/25 [=====================>........] - ETA: 4s - loss: 6.6709"
     ]
    },
    {
     "name": "stderr",
     "output_type": "stream",
     "text": [
      "getfattr: /home/jupyter/data/model_data/mini_data_set/time_20230804_170000.nc: Operation not supported\n",
      "getfattr: /home/jupyter/data/model_data/mini_data_set/time_20230811_070000.nc: Operation not supported\n",
      "getfattr: /home/jupyter/data/model_data/mini_data_set/time_20230805_080000.nc: Operation not supported\n",
      "getfattr: /home/jupyter/data/model_data/mini_data_set/time_20230807_110000.nc: Operation not supported\n"
     ]
    },
    {
     "name": "stdout",
     "output_type": "stream",
     "text": [
      "20/25 [=======================>......] - ETA: 3s - loss: 6.4664"
     ]
    },
    {
     "name": "stderr",
     "output_type": "stream",
     "text": [
      "getfattr: /home/jupyter/data/model_data/mini_data_set/time_20230807_090000.nc: Operation not supported\n",
      "getfattr: /home/jupyter/data/model_data/mini_data_set/time_20230805_100000.nc: Operation not supported\n",
      "getfattr: /home/jupyter/data/model_data/mini_data_set/time_20230816_100000.nc: Operation not supported\n",
      "getfattr: /home/jupyter/data/model_data/mini_data_set/time_20230812_080000.nc: Operation not supported\n"
     ]
    },
    {
     "name": "stdout",
     "output_type": "stream",
     "text": [
      "21/25 [========================>.....] - ETA: 3s - loss: 6.2875"
     ]
    },
    {
     "name": "stderr",
     "output_type": "stream",
     "text": [
      "getfattr: /home/jupyter/data/model_data/mini_data_set/time_20230806_180000.nc: Operation not supported\n",
      "getfattr: /home/jupyter/data/model_data/mini_data_set/time_20230805_140000.nc: Operation not supported\n",
      "getfattr: /home/jupyter/data/model_data/mini_data_set/time_20230811_160000.nc: Operation not supported\n",
      "getfattr: /home/jupyter/data/model_data/mini_data_set/time_20230807_100000.nc: Operation not supported\n"
     ]
    },
    {
     "name": "stdout",
     "output_type": "stream",
     "text": [
      "22/25 [=========================>....] - ETA: 2s - loss: 6.1513"
     ]
    },
    {
     "name": "stderr",
     "output_type": "stream",
     "text": [
      "getfattr: /home/jupyter/data/model_data/mini_data_set/time_20230807_160000.nc: Operation not supported\n",
      "getfattr: /home/jupyter/data/model_data/mini_data_set/time_20230804_130000.nc: Operation not supported\n",
      "getfattr: /home/jupyter/data/model_data/mini_data_set/time_20230809_070000.nc: Operation not supported\n",
      "getfattr: /home/jupyter/data/model_data/mini_data_set/time_20230805_160000.nc: Operation not supported\n"
     ]
    },
    {
     "name": "stdout",
     "output_type": "stream",
     "text": [
      "23/25 [==========================>...] - ETA: 1s - loss: 5.9628"
     ]
    },
    {
     "name": "stderr",
     "output_type": "stream",
     "text": [
      "getfattr: /home/jupyter/data/model_data/mini_data_set/time_20230805_070000.nc: Operation not supported\n",
      "getfattr: /home/jupyter/data/model_data/mini_data_set/time_20230804_180000.nc: Operation not supported\n",
      "getfattr: /home/jupyter/data/model_data/mini_data_set/time_20230805_090000.nc: Operation not supported\n",
      "getfattr: /home/jupyter/data/model_data/mini_data_set/time_20230811_100000.nc: Operation not supported\n"
     ]
    },
    {
     "name": "stdout",
     "output_type": "stream",
     "text": [
      "25/25 [==============================] - ETA: 0s - loss: 5.6832"
     ]
    },
    {
     "name": "stderr",
     "output_type": "stream",
     "text": [
      "getfattr: /home/jupyter/data/model_data/mini_data_set/time_20230807_160000.nc: Operation not supported\n",
      "getfattr: /home/jupyter/data/model_data/mini_data_set/time_20230804_130000.nc: Operation not supported\n",
      "getfattr: /home/jupyter/data/model_data/mini_data_set/time_20230809_070000.nc: Operation not supported\n",
      "getfattr: /home/jupyter/data/model_data/mini_data_set/time_20230805_160000.nc: Operation not supported\n",
      "getfattr: /home/jupyter/data/model_data/mini_data_set/time_20230811_090000.nc: Operation not supported\n",
      "getfattr: /home/jupyter/data/model_data/mini_data_set/time_20230806_150000.nc: Operation not supported\n",
      "getfattr: /home/jupyter/data/model_data/mini_data_set/time_20230802_100000.nc: Operation not supported\n",
      "getfattr: /home/jupyter/data/model_data/mini_data_set/time_20230812_120000.nc: Operation not supported\n",
      "getfattr: /home/jupyter/data/model_data/mini_data_set/time_20230808_170000.nc: Operation not supported\n",
      "getfattr: /home/jupyter/data/model_data/mini_data_set/time_20230811_170000.nc: Operation not supported\n",
      "getfattr: /home/jupyter/data/model_data/mini_data_set/time_20230806_080000.nc: Operation not supported\n",
      "getfattr: /home/jupyter/data/model_data/mini_data_set/time_20230806_170000.nc: Operation not supported\n",
      "getfattr: /home/jupyter/data/model_data/mini_data_set/time_20230809_130000.nc: Operation not supported\n",
      "getfattr: /home/jupyter/data/model_data/mini_data_set/time_20230806_100000.nc: Operation not supported\n",
      "getfattr: /home/jupyter/data/model_data/mini_data_set/time_20230815_120000.nc: Operation not supported\n",
      "getfattr: /home/jupyter/data/model_data/mini_data_set/time_20230804_070000.nc: Operation not supported\n",
      "getfattr: /home/jupyter/data/model_data/mini_data_set/time_20230808_180000.nc: Operation not supported\n",
      "getfattr: /home/jupyter/data/model_data/mini_data_set/time_20230816_160000.nc: Operation not supported\n",
      "getfattr: /home/jupyter/data/model_data/mini_data_set/time_20230812_160000.nc: Operation not supported\n",
      "getfattr: /home/jupyter/data/model_data/mini_data_set/time_20230806_070000.nc: Operation not supported\n",
      "getfattr: /home/jupyter/data/model_data/mini_data_set/time_20230804_170000.nc: Operation not supported\n",
      "getfattr: /home/jupyter/data/model_data/mini_data_set/time_20230811_070000.nc: Operation not supported\n",
      "getfattr: /home/jupyter/data/model_data/mini_data_set/time_20230805_080000.nc: Operation not supported\n",
      "getfattr: /home/jupyter/data/model_data/mini_data_set/time_20230807_110000.nc: Operation not supported\n",
      "getfattr: /home/jupyter/data/model_data/mini_data_set/time_20230806_140000.nc: Operation not supported\n",
      "getfattr: /home/jupyter/data/model_data/mini_data_set/time_20230811_080000.nc: Operation not supported\n",
      "getfattr: /home/jupyter/data/model_data/mini_data_set/time_20230816_090000.nc: Operation not supported\n",
      "getfattr: /home/jupyter/data/model_data/mini_data_set/time_20230808_160000.nc: Operation not supported\n",
      "getfattr: /home/jupyter/data/model_data/mini_data_set/time_20230816_150000.nc: Operation not supported\n",
      "getfattr: /home/jupyter/data/model_data/mini_data_set/time_20230807_130000.nc: Operation not supported\n",
      "getfattr: /home/jupyter/data/model_data/mini_data_set/time_20230815_170000.nc: Operation not supported\n",
      "getfattr: /home/jupyter/data/model_data/mini_data_set/time_20230811_110000.nc: Operation not supported\n",
      "getfattr: /home/jupyter/data/model_data/mini_data_set/time_20230809_140000.nc: Operation not supported\n",
      "getfattr: /home/jupyter/data/model_data/mini_data_set/time_20230809_080000.nc: Operation not supported\n",
      "getfattr: /home/jupyter/data/model_data/mini_data_set/time_20230811_180000.nc: Operation not supported\n",
      "getfattr: /home/jupyter/data/model_data/mini_data_set/time_20230812_070000.nc: Operation not supported\n",
      "getfattr: /home/jupyter/data/model_data/mini_data_set/time_20230815_180000.nc: Operation not supported\n",
      "getfattr: /home/jupyter/data/model_data/mini_data_set/time_20230807_150000.nc: Operation not supported\n",
      "getfattr: /home/jupyter/data/model_data/mini_data_set/time_20230804_100000.nc: Operation not supported\n",
      "getfattr: /home/jupyter/data/model_data/mini_data_set/time_20230807_170000.nc: Operation not supported\n",
      "getfattr: /home/jupyter/data/model_data/mini_data_set/time_20230812_150000.nc: Operation not supported\n",
      "getfattr: /home/jupyter/data/model_data/mini_data_set/time_20230802_150000.nc: Operation not supported\n",
      "getfattr: /home/jupyter/data/model_data/mini_data_set/time_20230812_140000.nc: Operation not supported\n",
      "getfattr: /home/jupyter/data/model_data/mini_data_set/time_20230809_160000.nc: Operation not supported\n",
      "getfattr: /home/jupyter/data/model_data/mini_data_set/time_20230802_130000.nc: Operation not supported\n",
      "getfattr: /home/jupyter/data/model_data/mini_data_set/time_20230808_140000.nc: Operation not supported\n",
      "getfattr: /home/jupyter/data/model_data/mini_data_set/time_20230809_090000.nc: Operation not supported\n",
      "getfattr: /home/jupyter/data/model_data/mini_data_set/time_20230806_110000.nc: Operation not supported\n",
      "getfattr: /home/jupyter/data/model_data/mini_data_set/time_20230807_090000.nc: Operation not supported\n",
      "getfattr: /home/jupyter/data/model_data/mini_data_set/time_20230805_100000.nc: Operation not supported\n",
      "getfattr: /home/jupyter/data/model_data/mini_data_set/time_20230816_100000.nc: Operation not supported\n",
      "getfattr: /home/jupyter/data/model_data/mini_data_set/time_20230812_080000.nc: Operation not supported\n",
      "getfattr: /home/jupyter/data/model_data/mini_data_set/time_20230812_180000.nc: Operation not supported\n",
      "getfattr: /home/jupyter/data/model_data/mini_data_set/time_20230812_130000.nc: Operation not supported\n",
      "getfattr: /home/jupyter/data/model_data/mini_data_set/time_20230802_110000.nc: Operation not supported\n",
      "getfattr: /home/jupyter/data/model_data/mini_data_set/time_20230809_100000.nc: Operation not supported\n",
      "getfattr: /home/jupyter/data/model_data/mini_data_set/time_20230802_140000.nc: Operation not supported\n",
      "getfattr: /home/jupyter/data/model_data/mini_data_set/time_20230808_150000.nc: Operation not supported\n",
      "getfattr: /home/jupyter/data/model_data/mini_data_set/time_20230811_150000.nc: Operation not supported\n",
      "getfattr: /home/jupyter/data/model_data/mini_data_set/time_20230809_180000.nc: Operation not supported\n",
      "getfattr: /home/jupyter/data/model_data/mini_data_set/time_20230806_120000.nc: Operation not supported\n",
      "getfattr: /home/jupyter/data/model_data/mini_data_set/time_20230804_080000.nc: Operation not supported\n",
      "getfattr: /home/jupyter/data/model_data/mini_data_set/time_20230807_140000.nc: Operation not supported\n",
      "getfattr: /home/jupyter/data/model_data/mini_data_set/time_20230804_160000.nc: Operation not supported\n",
      "getfattr: /home/jupyter/data/model_data/mini_data_set/time_20230807_070000.nc: Operation not supported\n",
      "getfattr: /home/jupyter/data/model_data/mini_data_set/time_20230804_090000.nc: Operation not supported\n",
      "getfattr: /home/jupyter/data/model_data/mini_data_set/time_20230811_140000.nc: Operation not supported\n",
      "getfattr: /home/jupyter/data/model_data/mini_data_set/time_20230807_180000.nc: Operation not supported\n",
      "getfattr: /home/jupyter/data/model_data/mini_data_set/time_20230805_070000.nc: Operation not supported\n",
      "getfattr: /home/jupyter/data/model_data/mini_data_set/time_20230804_180000.nc: Operation not supported\n",
      "getfattr: /home/jupyter/data/model_data/mini_data_set/time_20230805_090000.nc: Operation not supported\n",
      "getfattr: /home/jupyter/data/model_data/mini_data_set/time_20230811_100000.nc: Operation not supported\n",
      "getfattr: /home/jupyter/data/model_data/mini_data_set/time_20230811_130000.nc: Operation not supported\n",
      "getfattr: /home/jupyter/data/model_data/mini_data_set/time_20230805_120000.nc: Operation not supported\n",
      "getfattr: /home/jupyter/data/model_data/mini_data_set/time_20230809_110000.nc: Operation not supported\n",
      "getfattr: /home/jupyter/data/model_data/mini_data_set/time_20230805_180000.nc: Operation not supported\n",
      "getfattr: /home/jupyter/data/model_data/mini_data_set/time_20230809_150000.nc: Operation not supported\n",
      "getfattr: /home/jupyter/data/model_data/mini_data_set/time_20230816_140000.nc: Operation not supported\n",
      "getfattr: /home/jupyter/data/model_data/mini_data_set/time_20230802_120000.nc: Operation not supported\n",
      "getfattr: /home/jupyter/data/model_data/mini_data_set/time_20230806_160000.nc: Operation not supported\n",
      "getfattr: /home/jupyter/data/model_data/mini_data_set/time_20230805_170000.nc: Operation not supported\n",
      "getfattr: /home/jupyter/data/model_data/mini_data_set/time_20230804_150000.nc: Operation not supported\n",
      "getfattr: /home/jupyter/data/model_data/mini_data_set/time_20230804_120000.nc: Operation not supported\n",
      "getfattr: /home/jupyter/data/model_data/mini_data_set/time_20230816_110000.nc: Operation not supported\n",
      "getfattr: /home/jupyter/data/model_data/mini_data_set/time_20230806_180000.nc: Operation not supported\n",
      "getfattr: /home/jupyter/data/model_data/mini_data_set/time_20230805_140000.nc: Operation not supported\n",
      "getfattr: /home/jupyter/data/model_data/mini_data_set/time_20230811_160000.nc: Operation not supported\n",
      "getfattr: /home/jupyter/data/model_data/mini_data_set/time_20230807_100000.nc: Operation not supported\n",
      "getfattr: /home/jupyter/data/model_data/mini_data_set/time_20230804_140000.nc: Operation not supported\n",
      "getfattr: /home/jupyter/data/model_data/mini_data_set/time_20230809_170000.nc: Operation not supported\n",
      "getfattr: /home/jupyter/data/model_data/mini_data_set/time_20230816_080000.nc: Operation not supported\n",
      "getfattr: /home/jupyter/data/model_data/mini_data_set/time_20230816_040000.nc: Operation not supported\n",
      "getfattr: /home/jupyter/data/model_data/mini_data_set/time_20230815_150000.nc: Operation not supported\n",
      "getfattr: /home/jupyter/data/model_data/mini_data_set/time_20230805_110000.nc: Operation not supported\n",
      "getfattr: /home/jupyter/data/model_data/mini_data_set/time_20230807_080000.nc: Operation not supported\n",
      "getfattr: /home/jupyter/data/model_data/mini_data_set/time_20230812_170000.nc: Operation not supported\n",
      "getfattr: /home/jupyter/data/model_data/mini_data_set/time_20230816_070000.nc: Operation not supported\n",
      "getfattr: /home/jupyter/data/model_data/mini_data_set/time_20230815_160000.nc: Operation not supported\n",
      "getfattr: /home/jupyter/data/model_data/mini_data_set/time_20230806_090000.nc: Operation not supported\n",
      "getfattr: /home/jupyter/data/model_data/mini_data_set/time_20230805_150000.nc: Operation not supported\n"
     ]
    },
    {
     "name": "stdout",
     "output_type": "stream",
     "text": [
      "25/25 [==============================] - 41s 2s/step - loss: 5.6832 - val_loss: 15.2514\n",
      "Epoch 4/4\n"
     ]
    },
    {
     "name": "stderr",
     "output_type": "stream",
     "text": [
      "getfattr: /home/jupyter/data/model_data/mini_data_set/time_20230811_090000.nc: Operation not supported\n",
      "getfattr: /home/jupyter/data/model_data/mini_data_set/time_20230806_150000.nc: Operation not supported\n",
      "getfattr: /home/jupyter/data/model_data/mini_data_set/time_20230802_100000.nc: Operation not supported\n",
      "getfattr: /home/jupyter/data/model_data/mini_data_set/time_20230812_120000.nc: Operation not supported\n",
      "getfattr: /home/jupyter/data/model_data/mini_data_set/time_20230802_140000.nc: Operation not supported\n",
      "getfattr: /home/jupyter/data/model_data/mini_data_set/time_20230808_150000.nc: Operation not supported\n",
      "getfattr: /home/jupyter/data/model_data/mini_data_set/time_20230811_150000.nc: Operation not supported\n",
      "getfattr: /home/jupyter/data/model_data/mini_data_set/time_20230809_180000.nc: Operation not supported\n"
     ]
    },
    {
     "name": "stdout",
     "output_type": "stream",
     "text": [
      " 1/25 [>.............................] - ETA: 33s - loss: 3.0581"
     ]
    },
    {
     "name": "stderr",
     "output_type": "stream",
     "text": [
      "getfattr: /home/jupyter/data/model_data/mini_data_set/time_20230808_170000.nc: Operation not supported\n",
      "getfattr: /home/jupyter/data/model_data/mini_data_set/time_20230811_170000.nc: Operation not supported\n",
      "getfattr: /home/jupyter/data/model_data/mini_data_set/time_20230806_080000.nc: Operation not supported\n",
      "getfattr: /home/jupyter/data/model_data/mini_data_set/time_20230806_170000.nc: Operation not supported\n"
     ]
    },
    {
     "name": "stdout",
     "output_type": "stream",
     "text": [
      " 2/25 [=>............................] - ETA: 17s - loss: 3.2268"
     ]
    },
    {
     "name": "stderr",
     "output_type": "stream",
     "text": [
      "getfattr: /home/jupyter/data/model_data/mini_data_set/time_20230806_140000.nc: Operation not supported\n",
      "getfattr: /home/jupyter/data/model_data/mini_data_set/time_20230811_080000.nc: Operation not supported\n",
      "getfattr: /home/jupyter/data/model_data/mini_data_set/time_20230816_090000.nc: Operation not supported\n",
      "getfattr: /home/jupyter/data/model_data/mini_data_set/time_20230808_160000.nc: Operation not supported\n"
     ]
    },
    {
     "name": "stdout",
     "output_type": "stream",
     "text": [
      " 3/25 [==>...........................] - ETA: 17s - loss: 3.2413"
     ]
    },
    {
     "name": "stderr",
     "output_type": "stream",
     "text": [
      "getfattr: /home/jupyter/data/model_data/mini_data_set/time_20230806_180000.nc: Operation not supported\n",
      "getfattr: /home/jupyter/data/model_data/mini_data_set/time_20230805_140000.nc: Operation not supported\n",
      "getfattr: /home/jupyter/data/model_data/mini_data_set/time_20230811_160000.nc: Operation not supported\n",
      "getfattr: /home/jupyter/data/model_data/mini_data_set/time_20230807_100000.nc: Operation not supported\n"
     ]
    },
    {
     "name": "stdout",
     "output_type": "stream",
     "text": [
      " 4/25 [===>..........................] - ETA: 16s - loss: 3.1944"
     ]
    },
    {
     "name": "stderr",
     "output_type": "stream",
     "text": [
      "getfattr: /home/jupyter/data/model_data/mini_data_set/time_20230809_130000.nc: Operation not supported\n",
      "getfattr: /home/jupyter/data/model_data/mini_data_set/time_20230806_100000.nc: Operation not supported\n",
      "getfattr: /home/jupyter/data/model_data/mini_data_set/time_20230815_120000.nc: Operation not supported\n",
      "getfattr: /home/jupyter/data/model_data/mini_data_set/time_20230804_070000.nc: Operation not supported\n"
     ]
    },
    {
     "name": "stdout",
     "output_type": "stream",
     "text": [
      " 5/25 [=====>........................] - ETA: 15s - loss: 2.9390"
     ]
    },
    {
     "name": "stderr",
     "output_type": "stream",
     "text": [
      "getfattr: /home/jupyter/data/model_data/mini_data_set/time_20230809_150000.nc: Operation not supported\n",
      "getfattr: /home/jupyter/data/model_data/mini_data_set/time_20230816_140000.nc: Operation not supported\n",
      "getfattr: /home/jupyter/data/model_data/mini_data_set/time_20230802_120000.nc: Operation not supported\n",
      "getfattr: /home/jupyter/data/model_data/mini_data_set/time_20230806_160000.nc: Operation not supported\n"
     ]
    },
    {
     "name": "stdout",
     "output_type": "stream",
     "text": [
      " 6/25 [======>.......................] - ETA: 14s - loss: 3.8359"
     ]
    },
    {
     "name": "stderr",
     "output_type": "stream",
     "text": [
      "getfattr: /home/jupyter/data/model_data/mini_data_set/time_20230808_180000.nc: Operation not supported\n",
      "getfattr: /home/jupyter/data/model_data/mini_data_set/time_20230816_160000.nc: Operation not supported\n",
      "getfattr: /home/jupyter/data/model_data/mini_data_set/time_20230812_160000.nc: Operation not supported\n",
      "getfattr: /home/jupyter/data/model_data/mini_data_set/time_20230806_070000.nc: Operation not supported\n"
     ]
    },
    {
     "name": "stdout",
     "output_type": "stream",
     "text": [
      " 7/25 [=======>......................] - ETA: 13s - loss: 4.7547"
     ]
    },
    {
     "name": "stderr",
     "output_type": "stream",
     "text": [
      "getfattr: /home/jupyter/data/model_data/mini_data_set/time_20230805_170000.nc: Operation not supported\n",
      "getfattr: /home/jupyter/data/model_data/mini_data_set/time_20230804_150000.nc: Operation not supported\n",
      "getfattr: /home/jupyter/data/model_data/mini_data_set/time_20230804_120000.nc: Operation not supported\n",
      "getfattr: /home/jupyter/data/model_data/mini_data_set/time_20230816_110000.nc: Operation not supported\n"
     ]
    },
    {
     "name": "stdout",
     "output_type": "stream",
     "text": [
      " 8/25 [========>.....................] - ETA: 13s - loss: 4.5494"
     ]
    },
    {
     "name": "stderr",
     "output_type": "stream",
     "text": [
      "getfattr: /home/jupyter/data/model_data/mini_data_set/time_20230816_070000.nc: Operation not supported\n",
      "getfattr: /home/jupyter/data/model_data/mini_data_set/time_20230815_160000.nc: Operation not supported\n",
      "getfattr: /home/jupyter/data/model_data/mini_data_set/time_20230806_090000.nc: Operation not supported\n",
      "getfattr: /home/jupyter/data/model_data/mini_data_set/time_20230805_150000.nc: Operation not supported\n"
     ]
    },
    {
     "name": "stdout",
     "output_type": "stream",
     "text": [
      " 9/25 [=========>....................] - ETA: 12s - loss: 4.7163"
     ]
    },
    {
     "name": "stderr",
     "output_type": "stream",
     "text": [
      "getfattr: /home/jupyter/data/model_data/mini_data_set/time_20230812_180000.nc: Operation not supported\n",
      "getfattr: /home/jupyter/data/model_data/mini_data_set/time_20230812_130000.nc: Operation not supported\n",
      "getfattr: /home/jupyter/data/model_data/mini_data_set/time_20230802_110000.nc: Operation not supported\n",
      "getfattr: /home/jupyter/data/model_data/mini_data_set/time_20230809_100000.nc: Operation not supported\n"
     ]
    },
    {
     "name": "stdout",
     "output_type": "stream",
     "text": [
      "10/25 [===========>..................] - ETA: 11s - loss: 5.0690"
     ]
    },
    {
     "name": "stderr",
     "output_type": "stream",
     "text": [
      "getfattr: /home/jupyter/data/model_data/mini_data_set/time_20230804_170000.nc: Operation not supported\n",
      "getfattr: /home/jupyter/data/model_data/mini_data_set/time_20230811_070000.nc: Operation not supported\n",
      "getfattr: /home/jupyter/data/model_data/mini_data_set/time_20230805_080000.nc: Operation not supported\n",
      "getfattr: /home/jupyter/data/model_data/mini_data_set/time_20230807_110000.nc: Operation not supported\n"
     ]
    },
    {
     "name": "stdout",
     "output_type": "stream",
     "text": [
      "11/25 [============>.................] - ETA: 10s - loss: 5.0638"
     ]
    },
    {
     "name": "stderr",
     "output_type": "stream",
     "text": [
      "getfattr: /home/jupyter/data/model_data/mini_data_set/time_20230807_160000.nc: Operation not supported\n",
      "getfattr: /home/jupyter/data/model_data/mini_data_set/time_20230804_130000.nc: Operation not supported\n",
      "getfattr: /home/jupyter/data/model_data/mini_data_set/time_20230809_070000.nc: Operation not supported\n",
      "getfattr: /home/jupyter/data/model_data/mini_data_set/time_20230805_160000.nc: Operation not supported\n"
     ]
    },
    {
     "name": "stdout",
     "output_type": "stream",
     "text": [
      "12/25 [=============>................] - ETA: 9s - loss: 4.8777 "
     ]
    },
    {
     "name": "stderr",
     "output_type": "stream",
     "text": [
      "getfattr: /home/jupyter/data/model_data/mini_data_set/time_20230807_090000.nc: Operation not supported\n",
      "getfattr: /home/jupyter/data/model_data/mini_data_set/time_20230805_100000.nc: Operation not supported\n",
      "getfattr: /home/jupyter/data/model_data/mini_data_set/time_20230816_100000.nc: Operation not supported\n",
      "getfattr: /home/jupyter/data/model_data/mini_data_set/time_20230812_080000.nc: Operation not supported\n"
     ]
    },
    {
     "name": "stdout",
     "output_type": "stream",
     "text": [
      "13/25 [==============>...............] - ETA: 9s - loss: 4.7508"
     ]
    },
    {
     "name": "stderr",
     "output_type": "stream",
     "text": [
      "getfattr: /home/jupyter/data/model_data/mini_data_set/time_20230802_130000.nc: Operation not supported\n",
      "getfattr: /home/jupyter/data/model_data/mini_data_set/time_20230808_140000.nc: Operation not supported\n",
      "getfattr: /home/jupyter/data/model_data/mini_data_set/time_20230809_090000.nc: Operation not supported\n",
      "getfattr: /home/jupyter/data/model_data/mini_data_set/time_20230806_110000.nc: Operation not supported\n"
     ]
    },
    {
     "name": "stdout",
     "output_type": "stream",
     "text": [
      "14/25 [===============>..............] - ETA: 8s - loss: 4.6440"
     ]
    },
    {
     "name": "stderr",
     "output_type": "stream",
     "text": [
      "getfattr: /home/jupyter/data/model_data/mini_data_set/time_20230806_120000.nc: Operation not supported\n",
      "getfattr: /home/jupyter/data/model_data/mini_data_set/time_20230804_080000.nc: Operation not supported\n",
      "getfattr: /home/jupyter/data/model_data/mini_data_set/time_20230807_140000.nc: Operation not supported\n",
      "getfattr: /home/jupyter/data/model_data/mini_data_set/time_20230804_160000.nc: Operation not supported\n"
     ]
    },
    {
     "name": "stdout",
     "output_type": "stream",
     "text": [
      "15/25 [=================>............] - ETA: 7s - loss: 4.9781"
     ]
    },
    {
     "name": "stderr",
     "output_type": "stream",
     "text": [
      "getfattr: /home/jupyter/data/model_data/mini_data_set/time_20230809_140000.nc: Operation not supported\n",
      "getfattr: /home/jupyter/data/model_data/mini_data_set/time_20230809_080000.nc: Operation not supported\n",
      "getfattr: /home/jupyter/data/model_data/mini_data_set/time_20230811_180000.nc: Operation not supported\n",
      "getfattr: /home/jupyter/data/model_data/mini_data_set/time_20230812_070000.nc: Operation not supported\n"
     ]
    },
    {
     "name": "stdout",
     "output_type": "stream",
     "text": [
      "16/25 [==================>...........] - ETA: 6s - loss: 4.8738"
     ]
    },
    {
     "name": "stderr",
     "output_type": "stream",
     "text": [
      "getfattr: /home/jupyter/data/model_data/mini_data_set/time_20230807_070000.nc: Operation not supported\n",
      "getfattr: /home/jupyter/data/model_data/mini_data_set/time_20230804_090000.nc: Operation not supported\n",
      "getfattr: /home/jupyter/data/model_data/mini_data_set/time_20230811_140000.nc: Operation not supported\n",
      "getfattr: /home/jupyter/data/model_data/mini_data_set/time_20230807_180000.nc: Operation not supported\n"
     ]
    },
    {
     "name": "stdout",
     "output_type": "stream",
     "text": [
      "17/25 [===================>..........] - ETA: 6s - loss: 4.7037"
     ]
    },
    {
     "name": "stderr",
     "output_type": "stream",
     "text": [
      "getfattr: /home/jupyter/data/model_data/mini_data_set/time_20230812_150000.nc: Operation not supported\n",
      "getfattr: /home/jupyter/data/model_data/mini_data_set/time_20230802_150000.nc: Operation not supported\n",
      "getfattr: /home/jupyter/data/model_data/mini_data_set/time_20230812_140000.nc: Operation not supported\n",
      "getfattr: /home/jupyter/data/model_data/mini_data_set/time_20230809_160000.nc: Operation not supported\n"
     ]
    },
    {
     "name": "stdout",
     "output_type": "stream",
     "text": [
      "18/25 [====================>.........] - ETA: 5s - loss: 4.5853"
     ]
    },
    {
     "name": "stderr",
     "output_type": "stream",
     "text": [
      "getfattr: /home/jupyter/data/model_data/mini_data_set/time_20230804_140000.nc: Operation not supported\n",
      "getfattr: /home/jupyter/data/model_data/mini_data_set/time_20230809_170000.nc: Operation not supported\n",
      "getfattr: /home/jupyter/data/model_data/mini_data_set/time_20230816_080000.nc: Operation not supported\n",
      "getfattr: /home/jupyter/data/model_data/mini_data_set/time_20230816_040000.nc: Operation not supported\n"
     ]
    },
    {
     "name": "stdout",
     "output_type": "stream",
     "text": [
      "19/25 [=====================>........] - ETA: 4s - loss: 4.5245"
     ]
    },
    {
     "name": "stderr",
     "output_type": "stream",
     "text": [
      "getfattr: /home/jupyter/data/model_data/mini_data_set/time_20230815_150000.nc: Operation not supported\n",
      "getfattr: /home/jupyter/data/model_data/mini_data_set/time_20230805_110000.nc: Operation not supported\n",
      "getfattr: /home/jupyter/data/model_data/mini_data_set/time_20230807_080000.nc: Operation not supported\n",
      "getfattr: /home/jupyter/data/model_data/mini_data_set/time_20230812_170000.nc: Operation not supported\n"
     ]
    },
    {
     "name": "stdout",
     "output_type": "stream",
     "text": [
      "20/25 [=======================>......] - ETA: 3s - loss: 4.8688"
     ]
    },
    {
     "name": "stderr",
     "output_type": "stream",
     "text": [
      "getfattr: /home/jupyter/data/model_data/mini_data_set/time_20230805_070000.nc: Operation not supported\n",
      "getfattr: /home/jupyter/data/model_data/mini_data_set/time_20230804_180000.nc: Operation not supported\n",
      "getfattr: /home/jupyter/data/model_data/mini_data_set/time_20230805_090000.nc: Operation not supported\n",
      "getfattr: /home/jupyter/data/model_data/mini_data_set/time_20230811_100000.nc: Operation not supported\n"
     ]
    },
    {
     "name": "stdout",
     "output_type": "stream",
     "text": [
      "21/25 [========================>.....] - ETA: 3s - loss: 5.0732"
     ]
    },
    {
     "name": "stderr",
     "output_type": "stream",
     "text": [
      "getfattr: /home/jupyter/data/model_data/mini_data_set/time_20230816_150000.nc: Operation not supported\n",
      "getfattr: /home/jupyter/data/model_data/mini_data_set/time_20230807_130000.nc: Operation not supported\n",
      "getfattr: /home/jupyter/data/model_data/mini_data_set/time_20230815_170000.nc: Operation not supported\n",
      "getfattr: /home/jupyter/data/model_data/mini_data_set/time_20230811_110000.nc: Operation not supported\n"
     ]
    },
    {
     "name": "stdout",
     "output_type": "stream",
     "text": [
      "22/25 [=========================>....] - ETA: 2s - loss: 4.9197"
     ]
    },
    {
     "name": "stderr",
     "output_type": "stream",
     "text": [
      "getfattr: /home/jupyter/data/model_data/mini_data_set/time_20230815_180000.nc: Operation not supported\n",
      "getfattr: /home/jupyter/data/model_data/mini_data_set/time_20230807_150000.nc: Operation not supported\n",
      "getfattr: /home/jupyter/data/model_data/mini_data_set/time_20230804_100000.nc: Operation not supported\n",
      "getfattr: /home/jupyter/data/model_data/mini_data_set/time_20230807_170000.nc: Operation not supported\n"
     ]
    },
    {
     "name": "stdout",
     "output_type": "stream",
     "text": [
      "23/25 [==========================>...] - ETA: 1s - loss: 5.1546"
     ]
    },
    {
     "name": "stderr",
     "output_type": "stream",
     "text": [
      "getfattr: /home/jupyter/data/model_data/mini_data_set/time_20230811_130000.nc: Operation not supported\n",
      "getfattr: /home/jupyter/data/model_data/mini_data_set/time_20230805_120000.nc: Operation not supported\n",
      "getfattr: /home/jupyter/data/model_data/mini_data_set/time_20230809_110000.nc: Operation not supported\n",
      "getfattr: /home/jupyter/data/model_data/mini_data_set/time_20230805_180000.nc: Operation not supported\n"
     ]
    },
    {
     "name": "stdout",
     "output_type": "stream",
     "text": [
      "25/25 [==============================] - ETA: 0s - loss: 5.4017"
     ]
    },
    {
     "name": "stderr",
     "output_type": "stream",
     "text": [
      "getfattr: /home/jupyter/data/model_data/mini_data_set/time_20230807_160000.nc: Operation not supported\n",
      "getfattr: /home/jupyter/data/model_data/mini_data_set/time_20230804_130000.nc: Operation not supported\n",
      "getfattr: /home/jupyter/data/model_data/mini_data_set/time_20230809_070000.nc: Operation not supported\n",
      "getfattr: /home/jupyter/data/model_data/mini_data_set/time_20230805_160000.nc: Operation not supported\n",
      "getfattr: /home/jupyter/data/model_data/mini_data_set/time_20230811_090000.nc: Operation not supported\n",
      "getfattr: /home/jupyter/data/model_data/mini_data_set/time_20230806_150000.nc: Operation not supported\n",
      "getfattr: /home/jupyter/data/model_data/mini_data_set/time_20230802_100000.nc: Operation not supported\n",
      "getfattr: /home/jupyter/data/model_data/mini_data_set/time_20230812_120000.nc: Operation not supported\n",
      "getfattr: /home/jupyter/data/model_data/mini_data_set/time_20230808_170000.nc: Operation not supported\n",
      "getfattr: /home/jupyter/data/model_data/mini_data_set/time_20230811_170000.nc: Operation not supported\n",
      "getfattr: /home/jupyter/data/model_data/mini_data_set/time_20230806_080000.nc: Operation not supported\n",
      "getfattr: /home/jupyter/data/model_data/mini_data_set/time_20230806_170000.nc: Operation not supported\n",
      "getfattr: /home/jupyter/data/model_data/mini_data_set/time_20230809_130000.nc: Operation not supported\n",
      "getfattr: /home/jupyter/data/model_data/mini_data_set/time_20230806_100000.nc: Operation not supported\n",
      "getfattr: /home/jupyter/data/model_data/mini_data_set/time_20230815_120000.nc: Operation not supported\n",
      "getfattr: /home/jupyter/data/model_data/mini_data_set/time_20230804_070000.nc: Operation not supported\n",
      "getfattr: /home/jupyter/data/model_data/mini_data_set/time_20230808_180000.nc: Operation not supported\n",
      "getfattr: /home/jupyter/data/model_data/mini_data_set/time_20230816_160000.nc: Operation not supported\n",
      "getfattr: /home/jupyter/data/model_data/mini_data_set/time_20230812_160000.nc: Operation not supported\n",
      "getfattr: /home/jupyter/data/model_data/mini_data_set/time_20230806_070000.nc: Operation not supported\n",
      "getfattr: /home/jupyter/data/model_data/mini_data_set/time_20230804_170000.nc: Operation not supported\n",
      "getfattr: /home/jupyter/data/model_data/mini_data_set/time_20230811_070000.nc: Operation not supported\n",
      "getfattr: /home/jupyter/data/model_data/mini_data_set/time_20230805_080000.nc: Operation not supported\n",
      "getfattr: /home/jupyter/data/model_data/mini_data_set/time_20230807_110000.nc: Operation not supported\n",
      "getfattr: /home/jupyter/data/model_data/mini_data_set/time_20230806_140000.nc: Operation not supported\n",
      "getfattr: /home/jupyter/data/model_data/mini_data_set/time_20230811_080000.nc: Operation not supported\n",
      "getfattr: /home/jupyter/data/model_data/mini_data_set/time_20230816_090000.nc: Operation not supported\n",
      "getfattr: /home/jupyter/data/model_data/mini_data_set/time_20230808_160000.nc: Operation not supported\n",
      "getfattr: /home/jupyter/data/model_data/mini_data_set/time_20230816_150000.nc: Operation not supported\n",
      "getfattr: /home/jupyter/data/model_data/mini_data_set/time_20230807_130000.nc: Operation not supported\n",
      "getfattr: /home/jupyter/data/model_data/mini_data_set/time_20230815_170000.nc: Operation not supported\n",
      "getfattr: /home/jupyter/data/model_data/mini_data_set/time_20230811_110000.nc: Operation not supported\n",
      "getfattr: /home/jupyter/data/model_data/mini_data_set/time_20230809_140000.nc: Operation not supported\n",
      "getfattr: /home/jupyter/data/model_data/mini_data_set/time_20230809_080000.nc: Operation not supported\n",
      "getfattr: /home/jupyter/data/model_data/mini_data_set/time_20230811_180000.nc: Operation not supported\n",
      "getfattr: /home/jupyter/data/model_data/mini_data_set/time_20230812_070000.nc: Operation not supported\n",
      "getfattr: /home/jupyter/data/model_data/mini_data_set/time_20230815_180000.nc: Operation not supported\n",
      "getfattr: /home/jupyter/data/model_data/mini_data_set/time_20230807_150000.nc: Operation not supported\n",
      "getfattr: /home/jupyter/data/model_data/mini_data_set/time_20230804_100000.nc: Operation not supported\n",
      "getfattr: /home/jupyter/data/model_data/mini_data_set/time_20230807_170000.nc: Operation not supported\n",
      "getfattr: /home/jupyter/data/model_data/mini_data_set/time_20230812_150000.nc: Operation not supported\n",
      "getfattr: /home/jupyter/data/model_data/mini_data_set/time_20230802_150000.nc: Operation not supported\n",
      "getfattr: /home/jupyter/data/model_data/mini_data_set/time_20230812_140000.nc: Operation not supported\n",
      "getfattr: /home/jupyter/data/model_data/mini_data_set/time_20230809_160000.nc: Operation not supported\n",
      "getfattr: /home/jupyter/data/model_data/mini_data_set/time_20230802_130000.nc: Operation not supported\n",
      "getfattr: /home/jupyter/data/model_data/mini_data_set/time_20230808_140000.nc: Operation not supported\n",
      "getfattr: /home/jupyter/data/model_data/mini_data_set/time_20230809_090000.nc: Operation not supported\n",
      "getfattr: /home/jupyter/data/model_data/mini_data_set/time_20230806_110000.nc: Operation not supported\n",
      "getfattr: /home/jupyter/data/model_data/mini_data_set/time_20230807_090000.nc: Operation not supported\n",
      "getfattr: /home/jupyter/data/model_data/mini_data_set/time_20230805_100000.nc: Operation not supported\n",
      "getfattr: /home/jupyter/data/model_data/mini_data_set/time_20230816_100000.nc: Operation not supported\n",
      "getfattr: /home/jupyter/data/model_data/mini_data_set/time_20230812_080000.nc: Operation not supported\n",
      "getfattr: /home/jupyter/data/model_data/mini_data_set/time_20230812_180000.nc: Operation not supported\n",
      "getfattr: /home/jupyter/data/model_data/mini_data_set/time_20230812_130000.nc: Operation not supported\n",
      "getfattr: /home/jupyter/data/model_data/mini_data_set/time_20230802_110000.nc: Operation not supported\n",
      "getfattr: /home/jupyter/data/model_data/mini_data_set/time_20230809_100000.nc: Operation not supported\n",
      "getfattr: /home/jupyter/data/model_data/mini_data_set/time_20230802_140000.nc: Operation not supported\n",
      "getfattr: /home/jupyter/data/model_data/mini_data_set/time_20230808_150000.nc: Operation not supported\n",
      "getfattr: /home/jupyter/data/model_data/mini_data_set/time_20230811_150000.nc: Operation not supported\n",
      "getfattr: /home/jupyter/data/model_data/mini_data_set/time_20230809_180000.nc: Operation not supported\n",
      "getfattr: /home/jupyter/data/model_data/mini_data_set/time_20230806_120000.nc: Operation not supported\n",
      "getfattr: /home/jupyter/data/model_data/mini_data_set/time_20230804_080000.nc: Operation not supported\n",
      "getfattr: /home/jupyter/data/model_data/mini_data_set/time_20230807_140000.nc: Operation not supported\n",
      "getfattr: /home/jupyter/data/model_data/mini_data_set/time_20230804_160000.nc: Operation not supported\n",
      "getfattr: /home/jupyter/data/model_data/mini_data_set/time_20230807_070000.nc: Operation not supported\n",
      "getfattr: /home/jupyter/data/model_data/mini_data_set/time_20230804_090000.nc: Operation not supported\n",
      "getfattr: /home/jupyter/data/model_data/mini_data_set/time_20230811_140000.nc: Operation not supported\n",
      "getfattr: /home/jupyter/data/model_data/mini_data_set/time_20230807_180000.nc: Operation not supported\n",
      "getfattr: /home/jupyter/data/model_data/mini_data_set/time_20230805_070000.nc: Operation not supported\n",
      "getfattr: /home/jupyter/data/model_data/mini_data_set/time_20230804_180000.nc: Operation not supported\n",
      "getfattr: /home/jupyter/data/model_data/mini_data_set/time_20230805_090000.nc: Operation not supported\n",
      "getfattr: /home/jupyter/data/model_data/mini_data_set/time_20230811_100000.nc: Operation not supported\n",
      "getfattr: /home/jupyter/data/model_data/mini_data_set/time_20230811_130000.nc: Operation not supported\n",
      "getfattr: /home/jupyter/data/model_data/mini_data_set/time_20230805_120000.nc: Operation not supported\n",
      "getfattr: /home/jupyter/data/model_data/mini_data_set/time_20230809_110000.nc: Operation not supported\n",
      "getfattr: /home/jupyter/data/model_data/mini_data_set/time_20230805_180000.nc: Operation not supported\n",
      "getfattr: /home/jupyter/data/model_data/mini_data_set/time_20230809_150000.nc: Operation not supported\n",
      "getfattr: /home/jupyter/data/model_data/mini_data_set/time_20230816_140000.nc: Operation not supported\n",
      "getfattr: /home/jupyter/data/model_data/mini_data_set/time_20230802_120000.nc: Operation not supported\n",
      "getfattr: /home/jupyter/data/model_data/mini_data_set/time_20230806_160000.nc: Operation not supported\n",
      "getfattr: /home/jupyter/data/model_data/mini_data_set/time_20230805_170000.nc: Operation not supported\n",
      "getfattr: /home/jupyter/data/model_data/mini_data_set/time_20230804_150000.nc: Operation not supported\n",
      "getfattr: /home/jupyter/data/model_data/mini_data_set/time_20230804_120000.nc: Operation not supported\n",
      "getfattr: /home/jupyter/data/model_data/mini_data_set/time_20230816_110000.nc: Operation not supported\n",
      "getfattr: /home/jupyter/data/model_data/mini_data_set/time_20230806_180000.nc: Operation not supported\n",
      "getfattr: /home/jupyter/data/model_data/mini_data_set/time_20230805_140000.nc: Operation not supported\n",
      "getfattr: /home/jupyter/data/model_data/mini_data_set/time_20230811_160000.nc: Operation not supported\n",
      "getfattr: /home/jupyter/data/model_data/mini_data_set/time_20230807_100000.nc: Operation not supported\n",
      "getfattr: /home/jupyter/data/model_data/mini_data_set/time_20230804_140000.nc: Operation not supported\n",
      "getfattr: /home/jupyter/data/model_data/mini_data_set/time_20230809_170000.nc: Operation not supported\n",
      "getfattr: /home/jupyter/data/model_data/mini_data_set/time_20230816_080000.nc: Operation not supported\n",
      "getfattr: /home/jupyter/data/model_data/mini_data_set/time_20230816_040000.nc: Operation not supported\n",
      "getfattr: /home/jupyter/data/model_data/mini_data_set/time_20230815_150000.nc: Operation not supported\n",
      "getfattr: /home/jupyter/data/model_data/mini_data_set/time_20230805_110000.nc: Operation not supported\n",
      "getfattr: /home/jupyter/data/model_data/mini_data_set/time_20230807_080000.nc: Operation not supported\n",
      "getfattr: /home/jupyter/data/model_data/mini_data_set/time_20230812_170000.nc: Operation not supported\n",
      "getfattr: /home/jupyter/data/model_data/mini_data_set/time_20230816_070000.nc: Operation not supported\n",
      "getfattr: /home/jupyter/data/model_data/mini_data_set/time_20230815_160000.nc: Operation not supported\n",
      "getfattr: /home/jupyter/data/model_data/mini_data_set/time_20230806_090000.nc: Operation not supported\n",
      "getfattr: /home/jupyter/data/model_data/mini_data_set/time_20230805_150000.nc: Operation not supported\n"
     ]
    },
    {
     "name": "stdout",
     "output_type": "stream",
     "text": [
      "25/25 [==============================] - 41s 2s/step - loss: 5.4017 - val_loss: 14.8336\n"
     ]
    },
    {
     "name": "stderr",
     "output_type": "stream",
     "text": [
      "getfattr: /home/jupyter/data/model_data/mini_data_set/time_20230807_160000.nc: Operation not supported\n",
      "getfattr: /home/jupyter/data/model_data/mini_data_set/time_20230804_130000.nc: Operation not supported\n",
      "getfattr: /home/jupyter/data/model_data/mini_data_set/time_20230809_070000.nc: Operation not supported\n",
      "getfattr: /home/jupyter/data/model_data/mini_data_set/time_20230805_160000.nc: Operation not supported\n"
     ]
    },
    {
     "name": "stdout",
     "output_type": "stream",
     "text": [
      "1/1 [==============================] - 0s 389ms/step\n"
     ]
    },
    {
     "name": "stderr",
     "output_type": "stream",
     "text": [
      "getfattr: /home/jupyter/data/model_data/mini_data_set/time_20230811_090000.nc: Operation not supported\n",
      "getfattr: /home/jupyter/data/model_data/mini_data_set/time_20230806_150000.nc: Operation not supported\n",
      "getfattr: /home/jupyter/data/model_data/mini_data_set/time_20230802_100000.nc: Operation not supported\n",
      "getfattr: /home/jupyter/data/model_data/mini_data_set/time_20230812_120000.nc: Operation not supported\n"
     ]
    },
    {
     "name": "stdout",
     "output_type": "stream",
     "text": [
      "1/1 [==============================] - 0s 150ms/step\n"
     ]
    },
    {
     "name": "stderr",
     "output_type": "stream",
     "text": [
      "getfattr: /home/jupyter/data/model_data/mini_data_set/time_20230808_170000.nc: Operation not supported\n",
      "getfattr: /home/jupyter/data/model_data/mini_data_set/time_20230811_170000.nc: Operation not supported\n",
      "getfattr: /home/jupyter/data/model_data/mini_data_set/time_20230806_080000.nc: Operation not supported\n",
      "getfattr: /home/jupyter/data/model_data/mini_data_set/time_20230806_170000.nc: Operation not supported\n"
     ]
    },
    {
     "name": "stdout",
     "output_type": "stream",
     "text": [
      "1/1 [==============================] - 0s 153ms/step\n"
     ]
    },
    {
     "name": "stderr",
     "output_type": "stream",
     "text": [
      "getfattr: /home/jupyter/data/model_data/mini_data_set/time_20230809_130000.nc: Operation not supported\n",
      "getfattr: /home/jupyter/data/model_data/mini_data_set/time_20230806_100000.nc: Operation not supported\n",
      "getfattr: /home/jupyter/data/model_data/mini_data_set/time_20230815_120000.nc: Operation not supported\n",
      "getfattr: /home/jupyter/data/model_data/mini_data_set/time_20230804_070000.nc: Operation not supported\n"
     ]
    },
    {
     "name": "stdout",
     "output_type": "stream",
     "text": [
      "1/1 [==============================] - 0s 151ms/step\n"
     ]
    },
    {
     "name": "stderr",
     "output_type": "stream",
     "text": [
      "getfattr: /home/jupyter/data/model_data/mini_data_set/time_20230808_180000.nc: Operation not supported\n",
      "getfattr: /home/jupyter/data/model_data/mini_data_set/time_20230816_160000.nc: Operation not supported\n",
      "getfattr: /home/jupyter/data/model_data/mini_data_set/time_20230812_160000.nc: Operation not supported\n",
      "getfattr: /home/jupyter/data/model_data/mini_data_set/time_20230806_070000.nc: Operation not supported\n"
     ]
    },
    {
     "name": "stdout",
     "output_type": "stream",
     "text": [
      "1/1 [==============================] - 0s 150ms/step\n"
     ]
    },
    {
     "name": "stderr",
     "output_type": "stream",
     "text": [
      "getfattr: /home/jupyter/data/model_data/mini_data_set/time_20230804_170000.nc: Operation not supported\n",
      "getfattr: /home/jupyter/data/model_data/mini_data_set/time_20230811_070000.nc: Operation not supported\n",
      "getfattr: /home/jupyter/data/model_data/mini_data_set/time_20230805_080000.nc: Operation not supported\n",
      "getfattr: /home/jupyter/data/model_data/mini_data_set/time_20230807_110000.nc: Operation not supported\n"
     ]
    },
    {
     "name": "stdout",
     "output_type": "stream",
     "text": [
      "1/1 [==============================] - 0s 150ms/step\n"
     ]
    },
    {
     "name": "stderr",
     "output_type": "stream",
     "text": [
      "getfattr: /home/jupyter/data/model_data/mini_data_set/time_20230806_140000.nc: Operation not supported\n",
      "getfattr: /home/jupyter/data/model_data/mini_data_set/time_20230811_080000.nc: Operation not supported\n",
      "getfattr: /home/jupyter/data/model_data/mini_data_set/time_20230816_090000.nc: Operation not supported\n",
      "getfattr: /home/jupyter/data/model_data/mini_data_set/time_20230808_160000.nc: Operation not supported\n"
     ]
    },
    {
     "name": "stdout",
     "output_type": "stream",
     "text": [
      "1/1 [==============================] - 0s 151ms/step\n"
     ]
    },
    {
     "name": "stderr",
     "output_type": "stream",
     "text": [
      "getfattr: /home/jupyter/data/model_data/mini_data_set/time_20230816_150000.nc: Operation not supported\n",
      "getfattr: /home/jupyter/data/model_data/mini_data_set/time_20230807_130000.nc: Operation not supported\n",
      "getfattr: /home/jupyter/data/model_data/mini_data_set/time_20230815_170000.nc: Operation not supported\n",
      "getfattr: /home/jupyter/data/model_data/mini_data_set/time_20230811_110000.nc: Operation not supported\n"
     ]
    },
    {
     "name": "stdout",
     "output_type": "stream",
     "text": [
      "1/1 [==============================] - 0s 151ms/step\n"
     ]
    },
    {
     "name": "stderr",
     "output_type": "stream",
     "text": [
      "getfattr: /home/jupyter/data/model_data/mini_data_set/time_20230809_140000.nc: Operation not supported\n",
      "getfattr: /home/jupyter/data/model_data/mini_data_set/time_20230809_080000.nc: Operation not supported\n",
      "getfattr: /home/jupyter/data/model_data/mini_data_set/time_20230811_180000.nc: Operation not supported\n",
      "getfattr: /home/jupyter/data/model_data/mini_data_set/time_20230812_070000.nc: Operation not supported\n"
     ]
    },
    {
     "name": "stdout",
     "output_type": "stream",
     "text": [
      "1/1 [==============================] - 0s 151ms/step\n"
     ]
    },
    {
     "name": "stderr",
     "output_type": "stream",
     "text": [
      "getfattr: /home/jupyter/data/model_data/mini_data_set/time_20230815_180000.nc: Operation not supported\n",
      "getfattr: /home/jupyter/data/model_data/mini_data_set/time_20230807_150000.nc: Operation not supported\n",
      "getfattr: /home/jupyter/data/model_data/mini_data_set/time_20230804_100000.nc: Operation not supported\n",
      "getfattr: /home/jupyter/data/model_data/mini_data_set/time_20230807_170000.nc: Operation not supported\n"
     ]
    },
    {
     "name": "stdout",
     "output_type": "stream",
     "text": [
      "1/1 [==============================] - 0s 150ms/step\n"
     ]
    },
    {
     "name": "stderr",
     "output_type": "stream",
     "text": [
      "getfattr: /home/jupyter/data/model_data/mini_data_set/time_20230812_150000.nc: Operation not supported\n",
      "getfattr: /home/jupyter/data/model_data/mini_data_set/time_20230802_150000.nc: Operation not supported\n",
      "getfattr: /home/jupyter/data/model_data/mini_data_set/time_20230812_140000.nc: Operation not supported\n",
      "getfattr: /home/jupyter/data/model_data/mini_data_set/time_20230809_160000.nc: Operation not supported\n"
     ]
    },
    {
     "name": "stdout",
     "output_type": "stream",
     "text": [
      "1/1 [==============================] - 0s 151ms/step\n"
     ]
    },
    {
     "name": "stderr",
     "output_type": "stream",
     "text": [
      "getfattr: /home/jupyter/data/model_data/mini_data_set/time_20230802_130000.nc: Operation not supported\n",
      "getfattr: /home/jupyter/data/model_data/mini_data_set/time_20230808_140000.nc: Operation not supported\n",
      "getfattr: /home/jupyter/data/model_data/mini_data_set/time_20230809_090000.nc: Operation not supported\n",
      "getfattr: /home/jupyter/data/model_data/mini_data_set/time_20230806_110000.nc: Operation not supported\n"
     ]
    },
    {
     "name": "stdout",
     "output_type": "stream",
     "text": [
      "1/1 [==============================] - 0s 150ms/step\n"
     ]
    },
    {
     "name": "stderr",
     "output_type": "stream",
     "text": [
      "getfattr: /home/jupyter/data/model_data/mini_data_set/time_20230807_090000.nc: Operation not supported\n",
      "getfattr: /home/jupyter/data/model_data/mini_data_set/time_20230805_100000.nc: Operation not supported\n",
      "getfattr: /home/jupyter/data/model_data/mini_data_set/time_20230816_100000.nc: Operation not supported\n",
      "getfattr: /home/jupyter/data/model_data/mini_data_set/time_20230812_080000.nc: Operation not supported\n"
     ]
    },
    {
     "name": "stdout",
     "output_type": "stream",
     "text": [
      "1/1 [==============================] - 0s 152ms/step\n"
     ]
    },
    {
     "name": "stderr",
     "output_type": "stream",
     "text": [
      "getfattr: /home/jupyter/data/model_data/mini_data_set/time_20230812_180000.nc: Operation not supported\n",
      "getfattr: /home/jupyter/data/model_data/mini_data_set/time_20230812_130000.nc: Operation not supported\n",
      "getfattr: /home/jupyter/data/model_data/mini_data_set/time_20230802_110000.nc: Operation not supported\n",
      "getfattr: /home/jupyter/data/model_data/mini_data_set/time_20230809_100000.nc: Operation not supported\n"
     ]
    },
    {
     "name": "stdout",
     "output_type": "stream",
     "text": [
      "1/1 [==============================] - 0s 149ms/step\n"
     ]
    },
    {
     "name": "stderr",
     "output_type": "stream",
     "text": [
      "getfattr: /home/jupyter/data/model_data/mini_data_set/time_20230802_140000.nc: Operation not supported\n",
      "getfattr: /home/jupyter/data/model_data/mini_data_set/time_20230808_150000.nc: Operation not supported\n",
      "getfattr: /home/jupyter/data/model_data/mini_data_set/time_20230811_150000.nc: Operation not supported\n",
      "getfattr: /home/jupyter/data/model_data/mini_data_set/time_20230809_180000.nc: Operation not supported\n"
     ]
    },
    {
     "name": "stdout",
     "output_type": "stream",
     "text": [
      "1/1 [==============================] - 0s 153ms/step\n"
     ]
    },
    {
     "name": "stderr",
     "output_type": "stream",
     "text": [
      "getfattr: /home/jupyter/data/model_data/mini_data_set/time_20230806_120000.nc: Operation not supported\n",
      "getfattr: /home/jupyter/data/model_data/mini_data_set/time_20230804_080000.nc: Operation not supported\n",
      "getfattr: /home/jupyter/data/model_data/mini_data_set/time_20230807_140000.nc: Operation not supported\n",
      "getfattr: /home/jupyter/data/model_data/mini_data_set/time_20230804_160000.nc: Operation not supported\n"
     ]
    },
    {
     "name": "stdout",
     "output_type": "stream",
     "text": [
      "1/1 [==============================] - 0s 150ms/step\n"
     ]
    },
    {
     "name": "stderr",
     "output_type": "stream",
     "text": [
      "getfattr: /home/jupyter/data/model_data/mini_data_set/time_20230807_070000.nc: Operation not supported\n",
      "getfattr: /home/jupyter/data/model_data/mini_data_set/time_20230804_090000.nc: Operation not supported\n",
      "getfattr: /home/jupyter/data/model_data/mini_data_set/time_20230811_140000.nc: Operation not supported\n",
      "getfattr: /home/jupyter/data/model_data/mini_data_set/time_20230807_180000.nc: Operation not supported\n"
     ]
    },
    {
     "name": "stdout",
     "output_type": "stream",
     "text": [
      "1/1 [==============================] - 0s 150ms/step\n"
     ]
    },
    {
     "name": "stderr",
     "output_type": "stream",
     "text": [
      "getfattr: /home/jupyter/data/model_data/mini_data_set/time_20230805_070000.nc: Operation not supported\n",
      "getfattr: /home/jupyter/data/model_data/mini_data_set/time_20230804_180000.nc: Operation not supported\n",
      "getfattr: /home/jupyter/data/model_data/mini_data_set/time_20230805_090000.nc: Operation not supported\n",
      "getfattr: /home/jupyter/data/model_data/mini_data_set/time_20230811_100000.nc: Operation not supported\n"
     ]
    },
    {
     "name": "stdout",
     "output_type": "stream",
     "text": [
      "1/1 [==============================] - 0s 150ms/step\n"
     ]
    },
    {
     "name": "stderr",
     "output_type": "stream",
     "text": [
      "getfattr: /home/jupyter/data/model_data/mini_data_set/time_20230811_130000.nc: Operation not supported\n",
      "getfattr: /home/jupyter/data/model_data/mini_data_set/time_20230805_120000.nc: Operation not supported\n",
      "getfattr: /home/jupyter/data/model_data/mini_data_set/time_20230809_110000.nc: Operation not supported\n",
      "getfattr: /home/jupyter/data/model_data/mini_data_set/time_20230805_180000.nc: Operation not supported\n"
     ]
    },
    {
     "name": "stdout",
     "output_type": "stream",
     "text": [
      "1/1 [==============================] - 0s 149ms/step\n"
     ]
    },
    {
     "name": "stderr",
     "output_type": "stream",
     "text": [
      "getfattr: /home/jupyter/data/model_data/mini_data_set/time_20230809_150000.nc: Operation not supported\n",
      "getfattr: /home/jupyter/data/model_data/mini_data_set/time_20230816_140000.nc: Operation not supported\n",
      "getfattr: /home/jupyter/data/model_data/mini_data_set/time_20230802_120000.nc: Operation not supported\n",
      "getfattr: /home/jupyter/data/model_data/mini_data_set/time_20230806_160000.nc: Operation not supported\n"
     ]
    },
    {
     "name": "stdout",
     "output_type": "stream",
     "text": [
      "1/1 [==============================] - 0s 152ms/step\n"
     ]
    },
    {
     "name": "stderr",
     "output_type": "stream",
     "text": [
      "getfattr: /home/jupyter/data/model_data/mini_data_set/time_20230805_170000.nc: Operation not supported\n",
      "getfattr: /home/jupyter/data/model_data/mini_data_set/time_20230804_150000.nc: Operation not supported\n",
      "getfattr: /home/jupyter/data/model_data/mini_data_set/time_20230804_120000.nc: Operation not supported\n",
      "getfattr: /home/jupyter/data/model_data/mini_data_set/time_20230816_110000.nc: Operation not supported\n"
     ]
    },
    {
     "name": "stdout",
     "output_type": "stream",
     "text": [
      "1/1 [==============================] - 0s 151ms/step\n"
     ]
    },
    {
     "name": "stderr",
     "output_type": "stream",
     "text": [
      "getfattr: /home/jupyter/data/model_data/mini_data_set/time_20230806_180000.nc: Operation not supported\n",
      "getfattr: /home/jupyter/data/model_data/mini_data_set/time_20230805_140000.nc: Operation not supported\n",
      "getfattr: /home/jupyter/data/model_data/mini_data_set/time_20230811_160000.nc: Operation not supported\n",
      "getfattr: /home/jupyter/data/model_data/mini_data_set/time_20230807_100000.nc: Operation not supported\n"
     ]
    },
    {
     "name": "stdout",
     "output_type": "stream",
     "text": [
      "1/1 [==============================] - 0s 149ms/step\n"
     ]
    },
    {
     "name": "stderr",
     "output_type": "stream",
     "text": [
      "getfattr: /home/jupyter/data/model_data/mini_data_set/time_20230804_140000.nc: Operation not supported\n",
      "getfattr: /home/jupyter/data/model_data/mini_data_set/time_20230809_170000.nc: Operation not supported\n",
      "getfattr: /home/jupyter/data/model_data/mini_data_set/time_20230816_080000.nc: Operation not supported\n",
      "getfattr: /home/jupyter/data/model_data/mini_data_set/time_20230816_040000.nc: Operation not supported\n"
     ]
    },
    {
     "name": "stdout",
     "output_type": "stream",
     "text": [
      "1/1 [==============================] - 0s 150ms/step\n"
     ]
    },
    {
     "name": "stderr",
     "output_type": "stream",
     "text": [
      "getfattr: /home/jupyter/data/model_data/mini_data_set/time_20230815_150000.nc: Operation not supported\n",
      "getfattr: /home/jupyter/data/model_data/mini_data_set/time_20230805_110000.nc: Operation not supported\n",
      "getfattr: /home/jupyter/data/model_data/mini_data_set/time_20230807_080000.nc: Operation not supported\n",
      "getfattr: /home/jupyter/data/model_data/mini_data_set/time_20230812_170000.nc: Operation not supported\n"
     ]
    },
    {
     "name": "stdout",
     "output_type": "stream",
     "text": [
      "1/1 [==============================] - 0s 154ms/step\n"
     ]
    },
    {
     "name": "stderr",
     "output_type": "stream",
     "text": [
      "getfattr: /home/jupyter/data/model_data/mini_data_set/time_20230816_070000.nc: Operation not supported\n",
      "getfattr: /home/jupyter/data/model_data/mini_data_set/time_20230815_160000.nc: Operation not supported\n",
      "getfattr: /home/jupyter/data/model_data/mini_data_set/time_20230806_090000.nc: Operation not supported\n",
      "getfattr: /home/jupyter/data/model_data/mini_data_set/time_20230805_150000.nc: Operation not supported\n"
     ]
    },
    {
     "name": "stdout",
     "output_type": "stream",
     "text": [
      "1/1 [==============================] - 0s 152ms/step\n",
      "Running CV group 2/5\n"
     ]
    },
    {
     "name": "stderr",
     "output_type": "stream",
     "text": [
      "getfattr: /home/jupyter/data/model_data/mini_data_set/time_20230807_160000.nc: Operation not supported\n",
      "getfattr: /home/jupyter/data/model_data/mini_data_set/time_20230804_130000.nc: Operation not supported\n",
      "getfattr: /home/jupyter/data/model_data/mini_data_set/time_20230809_070000.nc: Operation not supported\n",
      "getfattr: /home/jupyter/data/model_data/mini_data_set/time_20230805_160000.nc: Operation not supported\n"
     ]
    },
    {
     "name": "stdout",
     "output_type": "stream",
     "text": [
      "Epoch 1/4\n"
     ]
    },
    {
     "name": "stderr",
     "output_type": "stream",
     "text": [
      "getfattr: /home/jupyter/data/model_data/mini_data_set/time_20230815_150000.nc: Operation not supported\n",
      "getfattr: /home/jupyter/data/model_data/mini_data_set/time_20230805_110000.nc: Operation not supported\n",
      "getfattr: /home/jupyter/data/model_data/mini_data_set/time_20230807_080000.nc: Operation not supported\n",
      "getfattr: /home/jupyter/data/model_data/mini_data_set/time_20230812_170000.nc: Operation not supported\n",
      "getfattr: /home/jupyter/data/model_data/mini_data_set/time_20230809_150000.nc: Operation not supported\n",
      "getfattr: /home/jupyter/data/model_data/mini_data_set/time_20230816_140000.nc: Operation not supported\n",
      "getfattr: /home/jupyter/data/model_data/mini_data_set/time_20230802_120000.nc: Operation not supported\n",
      "getfattr: /home/jupyter/data/model_data/mini_data_set/time_20230806_160000.nc: Operation not supported\n"
     ]
    },
    {
     "name": "stdout",
     "output_type": "stream",
     "text": [
      " 1/25 [>.............................] - ETA: 1:02 - loss: 17.2786"
     ]
    },
    {
     "name": "stderr",
     "output_type": "stream",
     "text": [
      "getfattr: /home/jupyter/data/model_data/mini_data_set/time_20230808_180000.nc: Operation not supported\n",
      "getfattr: /home/jupyter/data/model_data/mini_data_set/time_20230816_160000.nc: Operation not supported\n",
      "getfattr: /home/jupyter/data/model_data/mini_data_set/time_20230812_160000.nc: Operation not supported\n",
      "getfattr: /home/jupyter/data/model_data/mini_data_set/time_20230806_070000.nc: Operation not supported\n"
     ]
    },
    {
     "name": "stdout",
     "output_type": "stream",
     "text": [
      " 2/25 [=>............................] - ETA: 14s - loss: 21.6131 "
     ]
    },
    {
     "name": "stderr",
     "output_type": "stream",
     "text": [
      "getfattr: /home/jupyter/data/model_data/mini_data_set/time_20230811_130000.nc: Operation not supported\n",
      "getfattr: /home/jupyter/data/model_data/mini_data_set/time_20230805_120000.nc: Operation not supported\n",
      "getfattr: /home/jupyter/data/model_data/mini_data_set/time_20230809_110000.nc: Operation not supported\n",
      "getfattr: /home/jupyter/data/model_data/mini_data_set/time_20230805_180000.nc: Operation not supported\n"
     ]
    },
    {
     "name": "stdout",
     "output_type": "stream",
     "text": [
      " 3/25 [==>...........................] - ETA: 15s - loss: 17.1693"
     ]
    },
    {
     "name": "stderr",
     "output_type": "stream",
     "text": [
      "getfattr: /home/jupyter/data/model_data/mini_data_set/time_20230805_070000.nc: Operation not supported\n",
      "getfattr: /home/jupyter/data/model_data/mini_data_set/time_20230804_180000.nc: Operation not supported\n",
      "getfattr: /home/jupyter/data/model_data/mini_data_set/time_20230805_090000.nc: Operation not supported\n",
      "getfattr: /home/jupyter/data/model_data/mini_data_set/time_20230811_100000.nc: Operation not supported\n"
     ]
    },
    {
     "name": "stdout",
     "output_type": "stream",
     "text": [
      " 4/25 [===>..........................] - ETA: 15s - loss: 14.8857"
     ]
    },
    {
     "name": "stderr",
     "output_type": "stream",
     "text": [
      "getfattr: /home/jupyter/data/model_data/mini_data_set/time_20230809_140000.nc: Operation not supported\n",
      "getfattr: /home/jupyter/data/model_data/mini_data_set/time_20230809_080000.nc: Operation not supported\n",
      "getfattr: /home/jupyter/data/model_data/mini_data_set/time_20230811_180000.nc: Operation not supported\n",
      "getfattr: /home/jupyter/data/model_data/mini_data_set/time_20230812_070000.nc: Operation not supported\n"
     ]
    },
    {
     "name": "stdout",
     "output_type": "stream",
     "text": [
      " 5/25 [=====>........................] - ETA: 14s - loss: 13.2600"
     ]
    },
    {
     "name": "stderr",
     "output_type": "stream",
     "text": [
      "getfattr: /home/jupyter/data/model_data/mini_data_set/time_20230807_070000.nc: Operation not supported\n",
      "getfattr: /home/jupyter/data/model_data/mini_data_set/time_20230804_090000.nc: Operation not supported\n",
      "getfattr: /home/jupyter/data/model_data/mini_data_set/time_20230811_140000.nc: Operation not supported\n",
      "getfattr: /home/jupyter/data/model_data/mini_data_set/time_20230807_180000.nc: Operation not supported\n"
     ]
    },
    {
     "name": "stdout",
     "output_type": "stream",
     "text": [
      " 6/25 [======>.......................] - ETA: 13s - loss: 12.1549"
     ]
    },
    {
     "name": "stderr",
     "output_type": "stream",
     "text": [
      "getfattr: /home/jupyter/data/model_data/mini_data_set/time_20230806_180000.nc: Operation not supported\n",
      "getfattr: /home/jupyter/data/model_data/mini_data_set/time_20230805_140000.nc: Operation not supported\n",
      "getfattr: /home/jupyter/data/model_data/mini_data_set/time_20230811_160000.nc: Operation not supported\n",
      "getfattr: /home/jupyter/data/model_data/mini_data_set/time_20230807_100000.nc: Operation not supported\n"
     ]
    },
    {
     "name": "stdout",
     "output_type": "stream",
     "text": [
      " 7/25 [=======>......................] - ETA: 13s - loss: 11.5557"
     ]
    },
    {
     "name": "stderr",
     "output_type": "stream",
     "text": [
      "getfattr: /home/jupyter/data/model_data/mini_data_set/time_20230806_140000.nc: Operation not supported\n",
      "getfattr: /home/jupyter/data/model_data/mini_data_set/time_20230811_080000.nc: Operation not supported\n",
      "getfattr: /home/jupyter/data/model_data/mini_data_set/time_20230816_090000.nc: Operation not supported\n"
     ]
    },
    {
     "name": "stdout",
     "output_type": "stream",
     "text": [
      " 8/25 [========>.....................] - ETA: 12s - loss: 10.8128"
     ]
    },
    {
     "name": "stderr",
     "output_type": "stream",
     "text": [
      "getfattr: /home/jupyter/data/model_data/mini_data_set/time_20230808_160000.nc: Operation not supported\n",
      "getfattr: /home/jupyter/data/model_data/mini_data_set/time_20230812_150000.nc: Operation not supported\n",
      "getfattr: /home/jupyter/data/model_data/mini_data_set/time_20230802_150000.nc: Operation not supported\n",
      "getfattr: /home/jupyter/data/model_data/mini_data_set/time_20230812_140000.nc: Operation not supported\n",
      "getfattr: /home/jupyter/data/model_data/mini_data_set/time_20230809_160000.nc: Operation not supported\n"
     ]
    },
    {
     "name": "stdout",
     "output_type": "stream",
     "text": [
      " 9/25 [=========>....................] - ETA: 12s - loss: 10.8352"
     ]
    },
    {
     "name": "stderr",
     "output_type": "stream",
     "text": [
      "getfattr: /home/jupyter/data/model_data/mini_data_set/time_20230808_170000.nc: Operation not supported\n",
      "getfattr: /home/jupyter/data/model_data/mini_data_set/time_20230811_170000.nc: Operation not supported\n",
      "getfattr: /home/jupyter/data/model_data/mini_data_set/time_20230806_080000.nc: Operation not supported\n",
      "getfattr: /home/jupyter/data/model_data/mini_data_set/time_20230806_170000.nc: Operation not supported\n"
     ]
    },
    {
     "name": "stdout",
     "output_type": "stream",
     "text": [
      "10/25 [===========>..................] - ETA: 11s - loss: 10.7904"
     ]
    },
    {
     "name": "stderr",
     "output_type": "stream",
     "text": [
      "getfattr: /home/jupyter/data/model_data/mini_data_set/time_20230812_180000.nc: Operation not supported\n",
      "getfattr: /home/jupyter/data/model_data/mini_data_set/time_20230812_130000.nc: Operation not supported\n",
      "getfattr: /home/jupyter/data/model_data/mini_data_set/time_20230802_110000.nc: Operation not supported\n",
      "getfattr: /home/jupyter/data/model_data/mini_data_set/time_20230809_100000.nc: Operation not supported\n"
     ]
    },
    {
     "name": "stdout",
     "output_type": "stream",
     "text": [
      "11/25 [============>.................] - ETA: 10s - loss: 10.4001"
     ]
    },
    {
     "name": "stderr",
     "output_type": "stream",
     "text": [
      "getfattr: /home/jupyter/data/model_data/mini_data_set/time_20230802_130000.nc: Operation not supported\n",
      "getfattr: /home/jupyter/data/model_data/mini_data_set/time_20230808_140000.nc: Operation not supported\n",
      "getfattr: /home/jupyter/data/model_data/mini_data_set/time_20230809_090000.nc: Operation not supported\n",
      "getfattr: /home/jupyter/data/model_data/mini_data_set/time_20230806_110000.nc: Operation not supported\n"
     ]
    },
    {
     "name": "stdout",
     "output_type": "stream",
     "text": [
      "12/25 [=============>................] - ETA: 9s - loss: 10.6501 "
     ]
    },
    {
     "name": "stderr",
     "output_type": "stream",
     "text": [
      "getfattr: /home/jupyter/data/model_data/mini_data_set/time_20230807_090000.nc: Operation not supported\n",
      "getfattr: /home/jupyter/data/model_data/mini_data_set/time_20230805_100000.nc: Operation not supported\n",
      "getfattr: /home/jupyter/data/model_data/mini_data_set/time_20230816_100000.nc: Operation not supported\n",
      "getfattr: /home/jupyter/data/model_data/mini_data_set/time_20230812_080000.nc: Operation not supported\n"
     ]
    },
    {
     "name": "stdout",
     "output_type": "stream",
     "text": [
      "13/25 [==============>...............] - ETA: 9s - loss: 11.3099"
     ]
    },
    {
     "name": "stderr",
     "output_type": "stream",
     "text": [
      "getfattr: /home/jupyter/data/model_data/mini_data_set/time_20230816_150000.nc: Operation not supported\n",
      "getfattr: /home/jupyter/data/model_data/mini_data_set/time_20230807_130000.nc: Operation not supported\n",
      "getfattr: /home/jupyter/data/model_data/mini_data_set/time_20230815_170000.nc: Operation not supported\n",
      "getfattr: /home/jupyter/data/model_data/mini_data_set/time_20230811_110000.nc: Operation not supported\n"
     ]
    },
    {
     "name": "stdout",
     "output_type": "stream",
     "text": [
      "14/25 [===============>..............] - ETA: 8s - loss: 10.9217"
     ]
    },
    {
     "name": "stderr",
     "output_type": "stream",
     "text": [
      "getfattr: /home/jupyter/data/model_data/mini_data_set/time_20230815_180000.nc: Operation not supported\n",
      "getfattr: /home/jupyter/data/model_data/mini_data_set/time_20230807_150000.nc: Operation not supported\n",
      "getfattr: /home/jupyter/data/model_data/mini_data_set/time_20230804_100000.nc: Operation not supported\n",
      "getfattr: /home/jupyter/data/model_data/mini_data_set/time_20230807_170000.nc: Operation not supported\n"
     ]
    },
    {
     "name": "stdout",
     "output_type": "stream",
     "text": [
      "15/25 [=================>............] - ETA: 7s - loss: 10.7816"
     ]
    },
    {
     "name": "stderr",
     "output_type": "stream",
     "text": [
      "getfattr: /home/jupyter/data/model_data/mini_data_set/time_20230804_170000.nc: Operation not supported\n",
      "getfattr: /home/jupyter/data/model_data/mini_data_set/time_20230811_070000.nc: Operation not supported\n",
      "getfattr: /home/jupyter/data/model_data/mini_data_set/time_20230805_080000.nc: Operation not supported\n",
      "getfattr: /home/jupyter/data/model_data/mini_data_set/time_20230807_110000.nc: Operation not supported\n"
     ]
    },
    {
     "name": "stdout",
     "output_type": "stream",
     "text": [
      "16/25 [==================>...........] - ETA: 6s - loss: 10.7717"
     ]
    },
    {
     "name": "stderr",
     "output_type": "stream",
     "text": [
      "getfattr: /home/jupyter/data/model_data/mini_data_set/time_20230805_170000.nc: Operation not supported\n",
      "getfattr: /home/jupyter/data/model_data/mini_data_set/time_20230804_150000.nc: Operation not supported\n",
      "getfattr: /home/jupyter/data/model_data/mini_data_set/time_20230804_120000.nc: Operation not supported\n",
      "getfattr: /home/jupyter/data/model_data/mini_data_set/time_20230816_110000.nc: Operation not supported\n"
     ]
    },
    {
     "name": "stdout",
     "output_type": "stream",
     "text": [
      "17/25 [===================>..........] - ETA: 6s - loss: 10.3990"
     ]
    },
    {
     "name": "stderr",
     "output_type": "stream",
     "text": [
      "getfattr: /home/jupyter/data/model_data/mini_data_set/time_20230804_140000.nc: Operation not supported\n",
      "getfattr: /home/jupyter/data/model_data/mini_data_set/time_20230809_170000.nc: Operation not supported\n",
      "getfattr: /home/jupyter/data/model_data/mini_data_set/time_20230816_080000.nc: Operation not supported\n",
      "getfattr: /home/jupyter/data/model_data/mini_data_set/time_20230816_040000.nc: Operation not supported\n"
     ]
    },
    {
     "name": "stdout",
     "output_type": "stream",
     "text": [
      "18/25 [====================>.........] - ETA: 5s - loss: 10.1957"
     ]
    },
    {
     "name": "stderr",
     "output_type": "stream",
     "text": [
      "getfattr: /home/jupyter/data/model_data/mini_data_set/time_20230802_140000.nc: Operation not supported\n",
      "getfattr: /home/jupyter/data/model_data/mini_data_set/time_20230808_150000.nc: Operation not supported\n",
      "getfattr: /home/jupyter/data/model_data/mini_data_set/time_20230811_150000.nc: Operation not supported\n",
      "getfattr: /home/jupyter/data/model_data/mini_data_set/time_20230809_180000.nc: Operation not supported\n"
     ]
    },
    {
     "name": "stdout",
     "output_type": "stream",
     "text": [
      "19/25 [=====================>........] - ETA: 4s - loss: 10.5301"
     ]
    },
    {
     "name": "stderr",
     "output_type": "stream",
     "text": [
      "getfattr: /home/jupyter/data/model_data/mini_data_set/time_20230806_120000.nc: Operation not supported\n",
      "getfattr: /home/jupyter/data/model_data/mini_data_set/time_20230804_080000.nc: Operation not supported\n",
      "getfattr: /home/jupyter/data/model_data/mini_data_set/time_20230807_140000.nc: Operation not supported\n",
      "getfattr: /home/jupyter/data/model_data/mini_data_set/time_20230804_160000.nc: Operation not supported\n"
     ]
    },
    {
     "name": "stdout",
     "output_type": "stream",
     "text": [
      "20/25 [=======================>......] - ETA: 3s - loss: 10.3926"
     ]
    },
    {
     "name": "stderr",
     "output_type": "stream",
     "text": [
      "getfattr: /home/jupyter/data/model_data/mini_data_set/time_20230811_090000.nc: Operation not supported\n",
      "getfattr: /home/jupyter/data/model_data/mini_data_set/time_20230806_150000.nc: Operation not supported\n",
      "getfattr: /home/jupyter/data/model_data/mini_data_set/time_20230802_100000.nc: Operation not supported\n",
      "getfattr: /home/jupyter/data/model_data/mini_data_set/time_20230812_120000.nc: Operation not supported\n"
     ]
    },
    {
     "name": "stdout",
     "output_type": "stream",
     "text": [
      "21/25 [========================>.....] - ETA: 3s - loss: 10.3099"
     ]
    },
    {
     "name": "stderr",
     "output_type": "stream",
     "text": [
      "getfattr: /home/jupyter/data/model_data/mini_data_set/time_20230809_130000.nc: Operation not supported\n",
      "getfattr: /home/jupyter/data/model_data/mini_data_set/time_20230806_100000.nc: Operation not supported\n",
      "getfattr: /home/jupyter/data/model_data/mini_data_set/time_20230815_120000.nc: Operation not supported\n",
      "getfattr: /home/jupyter/data/model_data/mini_data_set/time_20230804_070000.nc: Operation not supported\n"
     ]
    },
    {
     "name": "stdout",
     "output_type": "stream",
     "text": [
      "22/25 [=========================>....] - ETA: 2s - loss: 10.1520"
     ]
    },
    {
     "name": "stderr",
     "output_type": "stream",
     "text": [
      "getfattr: /home/jupyter/data/model_data/mini_data_set/time_20230807_160000.nc: Operation not supported\n",
      "getfattr: /home/jupyter/data/model_data/mini_data_set/time_20230804_130000.nc: Operation not supported\n",
      "getfattr: /home/jupyter/data/model_data/mini_data_set/time_20230809_070000.nc: Operation not supported\n",
      "getfattr: /home/jupyter/data/model_data/mini_data_set/time_20230805_160000.nc: Operation not supported\n"
     ]
    },
    {
     "name": "stdout",
     "output_type": "stream",
     "text": [
      "23/25 [==========================>...] - ETA: 1s - loss: 9.9395 "
     ]
    },
    {
     "name": "stderr",
     "output_type": "stream",
     "text": [
      "getfattr: /home/jupyter/data/model_data/mini_data_set/time_20230816_070000.nc: Operation not supported\n",
      "getfattr: /home/jupyter/data/model_data/mini_data_set/time_20230815_160000.nc: Operation not supported\n",
      "getfattr: /home/jupyter/data/model_data/mini_data_set/time_20230806_090000.nc: Operation not supported\n",
      "getfattr: /home/jupyter/data/model_data/mini_data_set/time_20230805_150000.nc: Operation not supported\n"
     ]
    },
    {
     "name": "stdout",
     "output_type": "stream",
     "text": [
      "25/25 [==============================] - ETA: 0s - loss: 9.9784"
     ]
    },
    {
     "name": "stderr",
     "output_type": "stream",
     "text": [
      "getfattr: /home/jupyter/data/model_data/mini_data_set/time_20230807_160000.nc: Operation not supported\n",
      "getfattr: /home/jupyter/data/model_data/mini_data_set/time_20230804_130000.nc: Operation not supported\n",
      "getfattr: /home/jupyter/data/model_data/mini_data_set/time_20230809_070000.nc: Operation not supported\n",
      "getfattr: /home/jupyter/data/model_data/mini_data_set/time_20230805_160000.nc: Operation not supported\n",
      "getfattr: /home/jupyter/data/model_data/mini_data_set/time_20230807_160000.nc: Operation not supported\n",
      "getfattr: /home/jupyter/data/model_data/mini_data_set/time_20230804_130000.nc: Operation not supported\n",
      "getfattr: /home/jupyter/data/model_data/mini_data_set/time_20230809_070000.nc: Operation not supported\n",
      "getfattr: /home/jupyter/data/model_data/mini_data_set/time_20230805_160000.nc: Operation not supported\n",
      "getfattr: /home/jupyter/data/model_data/mini_data_set/time_20230811_090000.nc: Operation not supported\n",
      "getfattr: /home/jupyter/data/model_data/mini_data_set/time_20230806_150000.nc: Operation not supported\n",
      "getfattr: /home/jupyter/data/model_data/mini_data_set/time_20230802_100000.nc: Operation not supported\n",
      "getfattr: /home/jupyter/data/model_data/mini_data_set/time_20230812_120000.nc: Operation not supported\n",
      "getfattr: /home/jupyter/data/model_data/mini_data_set/time_20230808_170000.nc: Operation not supported\n",
      "getfattr: /home/jupyter/data/model_data/mini_data_set/time_20230811_170000.nc: Operation not supported\n",
      "getfattr: /home/jupyter/data/model_data/mini_data_set/time_20230806_080000.nc: Operation not supported\n",
      "getfattr: /home/jupyter/data/model_data/mini_data_set/time_20230806_170000.nc: Operation not supported\n",
      "getfattr: /home/jupyter/data/model_data/mini_data_set/time_20230809_130000.nc: Operation not supported\n",
      "getfattr: /home/jupyter/data/model_data/mini_data_set/time_20230806_100000.nc: Operation not supported\n",
      "getfattr: /home/jupyter/data/model_data/mini_data_set/time_20230815_120000.nc: Operation not supported\n",
      "getfattr: /home/jupyter/data/model_data/mini_data_set/time_20230804_070000.nc: Operation not supported\n",
      "getfattr: /home/jupyter/data/model_data/mini_data_set/time_20230808_180000.nc: Operation not supported\n",
      "getfattr: /home/jupyter/data/model_data/mini_data_set/time_20230816_160000.nc: Operation not supported\n",
      "getfattr: /home/jupyter/data/model_data/mini_data_set/time_20230812_160000.nc: Operation not supported\n",
      "getfattr: /home/jupyter/data/model_data/mini_data_set/time_20230806_070000.nc: Operation not supported\n",
      "getfattr: /home/jupyter/data/model_data/mini_data_set/time_20230804_170000.nc: Operation not supported\n",
      "getfattr: /home/jupyter/data/model_data/mini_data_set/time_20230811_070000.nc: Operation not supported\n",
      "getfattr: /home/jupyter/data/model_data/mini_data_set/time_20230805_080000.nc: Operation not supported\n",
      "getfattr: /home/jupyter/data/model_data/mini_data_set/time_20230807_110000.nc: Operation not supported\n",
      "getfattr: /home/jupyter/data/model_data/mini_data_set/time_20230806_140000.nc: Operation not supported\n",
      "getfattr: /home/jupyter/data/model_data/mini_data_set/time_20230811_080000.nc: Operation not supported\n",
      "getfattr: /home/jupyter/data/model_data/mini_data_set/time_20230816_090000.nc: Operation not supported\n",
      "getfattr: /home/jupyter/data/model_data/mini_data_set/time_20230808_160000.nc: Operation not supported\n",
      "getfattr: /home/jupyter/data/model_data/mini_data_set/time_20230816_150000.nc: Operation not supported\n",
      "getfattr: /home/jupyter/data/model_data/mini_data_set/time_20230807_130000.nc: Operation not supported\n",
      "getfattr: /home/jupyter/data/model_data/mini_data_set/time_20230815_170000.nc: Operation not supported\n",
      "getfattr: /home/jupyter/data/model_data/mini_data_set/time_20230811_110000.nc: Operation not supported\n",
      "getfattr: /home/jupyter/data/model_data/mini_data_set/time_20230809_140000.nc: Operation not supported\n",
      "getfattr: /home/jupyter/data/model_data/mini_data_set/time_20230809_080000.nc: Operation not supported\n",
      "getfattr: /home/jupyter/data/model_data/mini_data_set/time_20230811_180000.nc: Operation not supported\n",
      "getfattr: /home/jupyter/data/model_data/mini_data_set/time_20230812_070000.nc: Operation not supported\n",
      "getfattr: /home/jupyter/data/model_data/mini_data_set/time_20230815_180000.nc: Operation not supported\n",
      "getfattr: /home/jupyter/data/model_data/mini_data_set/time_20230807_150000.nc: Operation not supported\n",
      "getfattr: /home/jupyter/data/model_data/mini_data_set/time_20230804_100000.nc: Operation not supported\n",
      "getfattr: /home/jupyter/data/model_data/mini_data_set/time_20230807_170000.nc: Operation not supported\n",
      "getfattr: /home/jupyter/data/model_data/mini_data_set/time_20230812_150000.nc: Operation not supported\n",
      "getfattr: /home/jupyter/data/model_data/mini_data_set/time_20230802_150000.nc: Operation not supported\n",
      "getfattr: /home/jupyter/data/model_data/mini_data_set/time_20230812_140000.nc: Operation not supported\n",
      "getfattr: /home/jupyter/data/model_data/mini_data_set/time_20230809_160000.nc: Operation not supported\n",
      "getfattr: /home/jupyter/data/model_data/mini_data_set/time_20230802_130000.nc: Operation not supported\n",
      "getfattr: /home/jupyter/data/model_data/mini_data_set/time_20230808_140000.nc: Operation not supported\n",
      "getfattr: /home/jupyter/data/model_data/mini_data_set/time_20230809_090000.nc: Operation not supported\n",
      "getfattr: /home/jupyter/data/model_data/mini_data_set/time_20230806_110000.nc: Operation not supported\n",
      "getfattr: /home/jupyter/data/model_data/mini_data_set/time_20230807_090000.nc: Operation not supported\n",
      "getfattr: /home/jupyter/data/model_data/mini_data_set/time_20230805_100000.nc: Operation not supported\n",
      "getfattr: /home/jupyter/data/model_data/mini_data_set/time_20230816_100000.nc: Operation not supported\n",
      "getfattr: /home/jupyter/data/model_data/mini_data_set/time_20230812_080000.nc: Operation not supported\n",
      "getfattr: /home/jupyter/data/model_data/mini_data_set/time_20230812_180000.nc: Operation not supported\n",
      "getfattr: /home/jupyter/data/model_data/mini_data_set/time_20230812_130000.nc: Operation not supported\n",
      "getfattr: /home/jupyter/data/model_data/mini_data_set/time_20230802_110000.nc: Operation not supported\n",
      "getfattr: /home/jupyter/data/model_data/mini_data_set/time_20230809_100000.nc: Operation not supported\n",
      "getfattr: /home/jupyter/data/model_data/mini_data_set/time_20230802_140000.nc: Operation not supported\n",
      "getfattr: /home/jupyter/data/model_data/mini_data_set/time_20230808_150000.nc: Operation not supported\n",
      "getfattr: /home/jupyter/data/model_data/mini_data_set/time_20230811_150000.nc: Operation not supported\n",
      "getfattr: /home/jupyter/data/model_data/mini_data_set/time_20230809_180000.nc: Operation not supported\n",
      "getfattr: /home/jupyter/data/model_data/mini_data_set/time_20230806_120000.nc: Operation not supported\n",
      "getfattr: /home/jupyter/data/model_data/mini_data_set/time_20230804_080000.nc: Operation not supported\n",
      "getfattr: /home/jupyter/data/model_data/mini_data_set/time_20230807_140000.nc: Operation not supported\n",
      "getfattr: /home/jupyter/data/model_data/mini_data_set/time_20230804_160000.nc: Operation not supported\n",
      "getfattr: /home/jupyter/data/model_data/mini_data_set/time_20230807_070000.nc: Operation not supported\n",
      "getfattr: /home/jupyter/data/model_data/mini_data_set/time_20230804_090000.nc: Operation not supported\n",
      "getfattr: /home/jupyter/data/model_data/mini_data_set/time_20230811_140000.nc: Operation not supported\n",
      "getfattr: /home/jupyter/data/model_data/mini_data_set/time_20230807_180000.nc: Operation not supported\n",
      "getfattr: /home/jupyter/data/model_data/mini_data_set/time_20230805_070000.nc: Operation not supported\n",
      "getfattr: /home/jupyter/data/model_data/mini_data_set/time_20230804_180000.nc: Operation not supported\n",
      "getfattr: /home/jupyter/data/model_data/mini_data_set/time_20230805_090000.nc: Operation not supported\n",
      "getfattr: /home/jupyter/data/model_data/mini_data_set/time_20230811_100000.nc: Operation not supported\n",
      "getfattr: /home/jupyter/data/model_data/mini_data_set/time_20230811_130000.nc: Operation not supported\n",
      "getfattr: /home/jupyter/data/model_data/mini_data_set/time_20230805_120000.nc: Operation not supported\n",
      "getfattr: /home/jupyter/data/model_data/mini_data_set/time_20230809_110000.nc: Operation not supported\n",
      "getfattr: /home/jupyter/data/model_data/mini_data_set/time_20230805_180000.nc: Operation not supported\n",
      "getfattr: /home/jupyter/data/model_data/mini_data_set/time_20230809_150000.nc: Operation not supported\n",
      "getfattr: /home/jupyter/data/model_data/mini_data_set/time_20230816_140000.nc: Operation not supported\n",
      "getfattr: /home/jupyter/data/model_data/mini_data_set/time_20230802_120000.nc: Operation not supported\n",
      "getfattr: /home/jupyter/data/model_data/mini_data_set/time_20230806_160000.nc: Operation not supported\n",
      "getfattr: /home/jupyter/data/model_data/mini_data_set/time_20230805_170000.nc: Operation not supported\n",
      "getfattr: /home/jupyter/data/model_data/mini_data_set/time_20230804_150000.nc: Operation not supported\n",
      "getfattr: /home/jupyter/data/model_data/mini_data_set/time_20230804_120000.nc: Operation not supported\n",
      "getfattr: /home/jupyter/data/model_data/mini_data_set/time_20230816_110000.nc: Operation not supported\n",
      "getfattr: /home/jupyter/data/model_data/mini_data_set/time_20230806_180000.nc: Operation not supported\n",
      "getfattr: /home/jupyter/data/model_data/mini_data_set/time_20230805_140000.nc: Operation not supported\n",
      "getfattr: /home/jupyter/data/model_data/mini_data_set/time_20230811_160000.nc: Operation not supported\n",
      "getfattr: /home/jupyter/data/model_data/mini_data_set/time_20230807_100000.nc: Operation not supported\n",
      "getfattr: /home/jupyter/data/model_data/mini_data_set/time_20230804_140000.nc: Operation not supported\n",
      "getfattr: /home/jupyter/data/model_data/mini_data_set/time_20230809_170000.nc: Operation not supported\n",
      "getfattr: /home/jupyter/data/model_data/mini_data_set/time_20230816_080000.nc: Operation not supported\n",
      "getfattr: /home/jupyter/data/model_data/mini_data_set/time_20230816_040000.nc: Operation not supported\n",
      "getfattr: /home/jupyter/data/model_data/mini_data_set/time_20230815_150000.nc: Operation not supported\n",
      "getfattr: /home/jupyter/data/model_data/mini_data_set/time_20230805_110000.nc: Operation not supported\n",
      "getfattr: /home/jupyter/data/model_data/mini_data_set/time_20230807_080000.nc: Operation not supported\n",
      "getfattr: /home/jupyter/data/model_data/mini_data_set/time_20230812_170000.nc: Operation not supported\n",
      "getfattr: /home/jupyter/data/model_data/mini_data_set/time_20230816_070000.nc: Operation not supported\n",
      "getfattr: /home/jupyter/data/model_data/mini_data_set/time_20230815_160000.nc: Operation not supported\n",
      "getfattr: /home/jupyter/data/model_data/mini_data_set/time_20230806_090000.nc: Operation not supported\n",
      "getfattr: /home/jupyter/data/model_data/mini_data_set/time_20230805_150000.nc: Operation not supported\n"
     ]
    },
    {
     "name": "stdout",
     "output_type": "stream",
     "text": [
      "25/25 [==============================] - 44s 2s/step - loss: 9.9784 - val_loss: 11.5971\n",
      "Epoch 2/4\n"
     ]
    },
    {
     "name": "stderr",
     "output_type": "stream",
     "text": [
      "getfattr: /home/jupyter/data/model_data/mini_data_set/time_20230806_140000.nc: Operation not supported\n",
      "getfattr: /home/jupyter/data/model_data/mini_data_set/time_20230811_080000.nc: Operation not supported\n",
      "getfattr: /home/jupyter/data/model_data/mini_data_set/time_20230816_090000.nc: Operation not supported\n",
      "getfattr: /home/jupyter/data/model_data/mini_data_set/time_20230808_160000.nc: Operation not supported\n",
      "getfattr: /home/jupyter/data/model_data/mini_data_set/time_20230812_180000.nc: Operation not supported\n",
      "getfattr: /home/jupyter/data/model_data/mini_data_set/time_20230812_130000.nc: Operation not supported\n",
      "getfattr: /home/jupyter/data/model_data/mini_data_set/time_20230802_110000.nc: Operation not supported\n",
      "getfattr: /home/jupyter/data/model_data/mini_data_set/time_20230809_100000.nc: Operation not supported\n"
     ]
    },
    {
     "name": "stdout",
     "output_type": "stream",
     "text": [
      " 1/25 [>.............................] - ETA: 35s - loss: 7.8400"
     ]
    },
    {
     "name": "stderr",
     "output_type": "stream",
     "text": [
      "getfattr: /home/jupyter/data/model_data/mini_data_set/time_20230816_070000.nc: Operation not supported\n",
      "getfattr: /home/jupyter/data/model_data/mini_data_set/time_20230815_160000.nc: Operation not supported\n",
      "getfattr: /home/jupyter/data/model_data/mini_data_set/time_20230806_090000.nc: Operation not supported\n",
      "getfattr: /home/jupyter/data/model_data/mini_data_set/time_20230805_150000.nc: Operation not supported\n"
     ]
    },
    {
     "name": "stdout",
     "output_type": "stream",
     "text": [
      " 2/25 [=>............................] - ETA: 19s - loss: 8.6069"
     ]
    },
    {
     "name": "stderr",
     "output_type": "stream",
     "text": [
      "getfattr: /home/jupyter/data/model_data/mini_data_set/time_20230808_170000.nc: Operation not supported\n",
      "getfattr: /home/jupyter/data/model_data/mini_data_set/time_20230811_170000.nc: Operation not supported\n",
      "getfattr: /home/jupyter/data/model_data/mini_data_set/time_20230806_080000.nc: Operation not supported\n",
      "getfattr: /home/jupyter/data/model_data/mini_data_set/time_20230806_170000.nc: Operation not supported\n"
     ]
    },
    {
     "name": "stdout",
     "output_type": "stream",
     "text": [
      " 3/25 [==>...........................] - ETA: 17s - loss: 8.4831"
     ]
    },
    {
     "name": "stderr",
     "output_type": "stream",
     "text": [
      "getfattr: /home/jupyter/data/model_data/mini_data_set/time_20230812_150000.nc: Operation not supported\n",
      "getfattr: /home/jupyter/data/model_data/mini_data_set/time_20230802_150000.nc: Operation not supported\n",
      "getfattr: /home/jupyter/data/model_data/mini_data_set/time_20230812_140000.nc: Operation not supported\n",
      "getfattr: /home/jupyter/data/model_data/mini_data_set/time_20230809_160000.nc: Operation not supported\n"
     ]
    },
    {
     "name": "stdout",
     "output_type": "stream",
     "text": [
      " 4/25 [===>..........................] - ETA: 16s - loss: 7.8570"
     ]
    },
    {
     "name": "stderr",
     "output_type": "stream",
     "text": [
      "getfattr: /home/jupyter/data/model_data/mini_data_set/time_20230806_180000.nc: Operation not supported\n",
      "getfattr: /home/jupyter/data/model_data/mini_data_set/time_20230805_140000.nc: Operation not supported\n",
      "getfattr: /home/jupyter/data/model_data/mini_data_set/time_20230811_160000.nc: Operation not supported\n",
      "getfattr: /home/jupyter/data/model_data/mini_data_set/time_20230807_100000.nc: Operation not supported\n"
     ]
    },
    {
     "name": "stdout",
     "output_type": "stream",
     "text": [
      " 5/25 [=====>........................] - ETA: 15s - loss: 7.2735"
     ]
    },
    {
     "name": "stderr",
     "output_type": "stream",
     "text": [
      "getfattr: /home/jupyter/data/model_data/mini_data_set/time_20230809_130000.nc: Operation not supported\n",
      "getfattr: /home/jupyter/data/model_data/mini_data_set/time_20230806_100000.nc: Operation not supported\n",
      "getfattr: /home/jupyter/data/model_data/mini_data_set/time_20230815_120000.nc: Operation not supported\n",
      "getfattr: /home/jupyter/data/model_data/mini_data_set/time_20230804_070000.nc: Operation not supported\n"
     ]
    },
    {
     "name": "stdout",
     "output_type": "stream",
     "text": [
      " 6/25 [======>.......................] - ETA: 14s - loss: 6.5134"
     ]
    },
    {
     "name": "stderr",
     "output_type": "stream",
     "text": [
      "getfattr: /home/jupyter/data/model_data/mini_data_set/time_20230805_070000.nc: Operation not supported\n",
      "getfattr: /home/jupyter/data/model_data/mini_data_set/time_20230804_180000.nc: Operation not supported\n",
      "getfattr: /home/jupyter/data/model_data/mini_data_set/time_20230805_090000.nc: Operation not supported\n",
      "getfattr: /home/jupyter/data/model_data/mini_data_set/time_20230811_100000.nc: Operation not supported\n"
     ]
    },
    {
     "name": "stdout",
     "output_type": "stream",
     "text": [
      " 7/25 [=======>......................] - ETA: 14s - loss: 6.7258"
     ]
    },
    {
     "name": "stderr",
     "output_type": "stream",
     "text": [
      "getfattr: /home/jupyter/data/model_data/mini_data_set/time_20230807_090000.nc: Operation not supported\n",
      "getfattr: /home/jupyter/data/model_data/mini_data_set/time_20230805_100000.nc: Operation not supported\n",
      "getfattr: /home/jupyter/data/model_data/mini_data_set/time_20230816_100000.nc: Operation not supported\n",
      "getfattr: /home/jupyter/data/model_data/mini_data_set/time_20230812_080000.nc: Operation not supported\n"
     ]
    },
    {
     "name": "stdout",
     "output_type": "stream",
     "text": [
      " 8/25 [========>.....................] - ETA: 13s - loss: 6.2664"
     ]
    },
    {
     "name": "stderr",
     "output_type": "stream",
     "text": [
      "getfattr: /home/jupyter/data/model_data/mini_data_set/time_20230802_130000.nc: Operation not supported\n",
      "getfattr: /home/jupyter/data/model_data/mini_data_set/time_20230808_140000.nc: Operation not supported\n",
      "getfattr: /home/jupyter/data/model_data/mini_data_set/time_20230809_090000.nc: Operation not supported\n",
      "getfattr: /home/jupyter/data/model_data/mini_data_set/time_20230806_110000.nc: Operation not supported\n"
     ]
    },
    {
     "name": "stdout",
     "output_type": "stream",
     "text": [
      " 9/25 [=========>....................] - ETA: 12s - loss: 6.0388"
     ]
    },
    {
     "name": "stderr",
     "output_type": "stream",
     "text": [
      "getfattr: /home/jupyter/data/model_data/mini_data_set/time_20230807_070000.nc: Operation not supported\n",
      "getfattr: /home/jupyter/data/model_data/mini_data_set/time_20230804_090000.nc: Operation not supported\n",
      "getfattr: /home/jupyter/data/model_data/mini_data_set/time_20230811_140000.nc: Operation not supported\n",
      "getfattr: /home/jupyter/data/model_data/mini_data_set/time_20230807_180000.nc: Operation not supported\n"
     ]
    },
    {
     "name": "stdout",
     "output_type": "stream",
     "text": [
      "10/25 [===========>..................] - ETA: 11s - loss: 7.0192"
     ]
    },
    {
     "name": "stderr",
     "output_type": "stream",
     "text": [
      "getfattr: /home/jupyter/data/model_data/mini_data_set/time_20230805_170000.nc: Operation not supported\n",
      "getfattr: /home/jupyter/data/model_data/mini_data_set/time_20230804_150000.nc: Operation not supported\n",
      "getfattr: /home/jupyter/data/model_data/mini_data_set/time_20230804_120000.nc: Operation not supported\n",
      "getfattr: /home/jupyter/data/model_data/mini_data_set/time_20230816_110000.nc: Operation not supported\n"
     ]
    },
    {
     "name": "stdout",
     "output_type": "stream",
     "text": [
      "11/25 [============>.................] - ETA: 11s - loss: 6.8694"
     ]
    },
    {
     "name": "stderr",
     "output_type": "stream",
     "text": [
      "getfattr: /home/jupyter/data/model_data/mini_data_set/time_20230815_180000.nc: Operation not supported\n",
      "getfattr: /home/jupyter/data/model_data/mini_data_set/time_20230807_150000.nc: Operation not supported\n",
      "getfattr: /home/jupyter/data/model_data/mini_data_set/time_20230804_100000.nc: Operation not supported\n",
      "getfattr: /home/jupyter/data/model_data/mini_data_set/time_20230807_170000.nc: Operation not supported\n"
     ]
    },
    {
     "name": "stdout",
     "output_type": "stream",
     "text": [
      "12/25 [=============>................] - ETA: 10s - loss: 6.7028"
     ]
    },
    {
     "name": "stderr",
     "output_type": "stream",
     "text": [
      "getfattr: /home/jupyter/data/model_data/mini_data_set/time_20230804_140000.nc: Operation not supported\n",
      "getfattr: /home/jupyter/data/model_data/mini_data_set/time_20230809_170000.nc: Operation not supported\n",
      "getfattr: /home/jupyter/data/model_data/mini_data_set/time_20230816_080000.nc: Operation not supported\n",
      "getfattr: /home/jupyter/data/model_data/mini_data_set/time_20230816_040000.nc: Operation not supported\n"
     ]
    },
    {
     "name": "stdout",
     "output_type": "stream",
     "text": [
      "13/25 [==============>...............] - ETA: 9s - loss: 6.8474 "
     ]
    },
    {
     "name": "stderr",
     "output_type": "stream",
     "text": [
      "getfattr: /home/jupyter/data/model_data/mini_data_set/time_20230815_150000.nc: Operation not supported\n",
      "getfattr: /home/jupyter/data/model_data/mini_data_set/time_20230805_110000.nc: Operation not supported\n",
      "getfattr: /home/jupyter/data/model_data/mini_data_set/time_20230807_080000.nc: Operation not supported\n",
      "getfattr: /home/jupyter/data/model_data/mini_data_set/time_20230812_170000.nc: Operation not supported\n"
     ]
    },
    {
     "name": "stdout",
     "output_type": "stream",
     "text": [
      "14/25 [===============>..............] - ETA: 8s - loss: 7.2086"
     ]
    },
    {
     "name": "stderr",
     "output_type": "stream",
     "text": [
      "getfattr: /home/jupyter/data/model_data/mini_data_set/time_20230802_140000.nc: Operation not supported\n",
      "getfattr: /home/jupyter/data/model_data/mini_data_set/time_20230808_150000.nc: Operation not supported\n",
      "getfattr: /home/jupyter/data/model_data/mini_data_set/time_20230811_150000.nc: Operation not supported\n",
      "getfattr: /home/jupyter/data/model_data/mini_data_set/time_20230809_180000.nc: Operation not supported\n"
     ]
    },
    {
     "name": "stdout",
     "output_type": "stream",
     "text": [
      "15/25 [=================>............] - ETA: 7s - loss: 7.0219"
     ]
    },
    {
     "name": "stderr",
     "output_type": "stream",
     "text": [
      "getfattr: /home/jupyter/data/model_data/mini_data_set/time_20230809_140000.nc: Operation not supported\n",
      "getfattr: /home/jupyter/data/model_data/mini_data_set/time_20230809_080000.nc: Operation not supported\n",
      "getfattr: /home/jupyter/data/model_data/mini_data_set/time_20230811_180000.nc: Operation not supported\n",
      "getfattr: /home/jupyter/data/model_data/mini_data_set/time_20230812_070000.nc: Operation not supported\n"
     ]
    },
    {
     "name": "stdout",
     "output_type": "stream",
     "text": [
      "16/25 [==================>...........] - ETA: 7s - loss: 6.8692"
     ]
    },
    {
     "name": "stderr",
     "output_type": "stream",
     "text": [
      "getfattr: /home/jupyter/data/model_data/mini_data_set/time_20230816_150000.nc: Operation not supported\n",
      "getfattr: /home/jupyter/data/model_data/mini_data_set/time_20230807_130000.nc: Operation not supported\n",
      "getfattr: /home/jupyter/data/model_data/mini_data_set/time_20230815_170000.nc: Operation not supported\n",
      "getfattr: /home/jupyter/data/model_data/mini_data_set/time_20230811_110000.nc: Operation not supported\n"
     ]
    },
    {
     "name": "stdout",
     "output_type": "stream",
     "text": [
      "17/25 [===================>..........] - ETA: 6s - loss: 6.7044"
     ]
    },
    {
     "name": "stderr",
     "output_type": "stream",
     "text": [
      "getfattr: /home/jupyter/data/model_data/mini_data_set/time_20230811_090000.nc: Operation not supported\n",
      "getfattr: /home/jupyter/data/model_data/mini_data_set/time_20230806_150000.nc: Operation not supported\n",
      "getfattr: /home/jupyter/data/model_data/mini_data_set/time_20230802_100000.nc: Operation not supported\n",
      "getfattr: /home/jupyter/data/model_data/mini_data_set/time_20230812_120000.nc: Operation not supported\n"
     ]
    },
    {
     "name": "stdout",
     "output_type": "stream",
     "text": [
      "18/25 [====================>.........] - ETA: 5s - loss: 6.6732"
     ]
    },
    {
     "name": "stderr",
     "output_type": "stream",
     "text": [
      "getfattr: /home/jupyter/data/model_data/mini_data_set/time_20230806_120000.nc: Operation not supported\n",
      "getfattr: /home/jupyter/data/model_data/mini_data_set/time_20230804_080000.nc: Operation not supported\n",
      "getfattr: /home/jupyter/data/model_data/mini_data_set/time_20230807_140000.nc: Operation not supported\n",
      "getfattr: /home/jupyter/data/model_data/mini_data_set/time_20230804_160000.nc: Operation not supported\n"
     ]
    },
    {
     "name": "stdout",
     "output_type": "stream",
     "text": [
      "19/25 [=====================>........] - ETA: 4s - loss: 6.5736"
     ]
    },
    {
     "name": "stderr",
     "output_type": "stream",
     "text": [
      "getfattr: /home/jupyter/data/model_data/mini_data_set/time_20230808_180000.nc: Operation not supported\n",
      "getfattr: /home/jupyter/data/model_data/mini_data_set/time_20230816_160000.nc: Operation not supported\n",
      "getfattr: /home/jupyter/data/model_data/mini_data_set/time_20230812_160000.nc: Operation not supported\n",
      "getfattr: /home/jupyter/data/model_data/mini_data_set/time_20230806_070000.nc: Operation not supported\n"
     ]
    },
    {
     "name": "stdout",
     "output_type": "stream",
     "text": [
      "20/25 [=======================>......] - ETA: 3s - loss: 6.4118"
     ]
    },
    {
     "name": "stderr",
     "output_type": "stream",
     "text": [
      "getfattr: /home/jupyter/data/model_data/mini_data_set/time_20230804_170000.nc: Operation not supported\n",
      "getfattr: /home/jupyter/data/model_data/mini_data_set/time_20230811_070000.nc: Operation not supported\n",
      "getfattr: /home/jupyter/data/model_data/mini_data_set/time_20230805_080000.nc: Operation not supported\n",
      "getfattr: /home/jupyter/data/model_data/mini_data_set/time_20230807_110000.nc: Operation not supported\n"
     ]
    },
    {
     "name": "stdout",
     "output_type": "stream",
     "text": [
      "21/25 [========================>.....] - ETA: 3s - loss: 6.2617"
     ]
    },
    {
     "name": "stderr",
     "output_type": "stream",
     "text": [
      "getfattr: /home/jupyter/data/model_data/mini_data_set/time_20230807_160000.nc: Operation not supported\n",
      "getfattr: /home/jupyter/data/model_data/mini_data_set/time_20230804_130000.nc: Operation not supported\n",
      "getfattr: /home/jupyter/data/model_data/mini_data_set/time_20230809_070000.nc: Operation not supported\n",
      "getfattr: /home/jupyter/data/model_data/mini_data_set/time_20230805_160000.nc: Operation not supported\n"
     ]
    },
    {
     "name": "stdout",
     "output_type": "stream",
     "text": [
      "22/25 [=========================>....] - ETA: 2s - loss: 6.1084"
     ]
    },
    {
     "name": "stderr",
     "output_type": "stream",
     "text": [
      "getfattr: /home/jupyter/data/model_data/mini_data_set/time_20230811_130000.nc: Operation not supported\n",
      "getfattr: /home/jupyter/data/model_data/mini_data_set/time_20230805_120000.nc: Operation not supported\n",
      "getfattr: /home/jupyter/data/model_data/mini_data_set/time_20230809_110000.nc: Operation not supported\n",
      "getfattr: /home/jupyter/data/model_data/mini_data_set/time_20230805_180000.nc: Operation not supported\n"
     ]
    },
    {
     "name": "stdout",
     "output_type": "stream",
     "text": [
      "23/25 [==========================>...] - ETA: 1s - loss: 6.0056"
     ]
    },
    {
     "name": "stderr",
     "output_type": "stream",
     "text": [
      "getfattr: /home/jupyter/data/model_data/mini_data_set/time_20230809_150000.nc: Operation not supported\n",
      "getfattr: /home/jupyter/data/model_data/mini_data_set/time_20230816_140000.nc: Operation not supported\n",
      "getfattr: /home/jupyter/data/model_data/mini_data_set/time_20230802_120000.nc: Operation not supported\n",
      "getfattr: /home/jupyter/data/model_data/mini_data_set/time_20230806_160000.nc: Operation not supported\n"
     ]
    },
    {
     "name": "stdout",
     "output_type": "stream",
     "text": [
      "25/25 [==============================] - ETA: 0s - loss: 6.0711"
     ]
    },
    {
     "name": "stderr",
     "output_type": "stream",
     "text": [
      "getfattr: /home/jupyter/data/model_data/mini_data_set/time_20230807_160000.nc: Operation not supported\n",
      "getfattr: /home/jupyter/data/model_data/mini_data_set/time_20230804_130000.nc: Operation not supported\n",
      "getfattr: /home/jupyter/data/model_data/mini_data_set/time_20230809_070000.nc: Operation not supported\n",
      "getfattr: /home/jupyter/data/model_data/mini_data_set/time_20230805_160000.nc: Operation not supported\n",
      "getfattr: /home/jupyter/data/model_data/mini_data_set/time_20230811_090000.nc: Operation not supported\n",
      "getfattr: /home/jupyter/data/model_data/mini_data_set/time_20230806_150000.nc: Operation not supported\n",
      "getfattr: /home/jupyter/data/model_data/mini_data_set/time_20230802_100000.nc: Operation not supported\n",
      "getfattr: /home/jupyter/data/model_data/mini_data_set/time_20230812_120000.nc: Operation not supported\n",
      "getfattr: /home/jupyter/data/model_data/mini_data_set/time_20230808_170000.nc: Operation not supported\n",
      "getfattr: /home/jupyter/data/model_data/mini_data_set/time_20230811_170000.nc: Operation not supported\n",
      "getfattr: /home/jupyter/data/model_data/mini_data_set/time_20230806_080000.nc: Operation not supported\n",
      "getfattr: /home/jupyter/data/model_data/mini_data_set/time_20230806_170000.nc: Operation not supported\n",
      "getfattr: /home/jupyter/data/model_data/mini_data_set/time_20230809_130000.nc: Operation not supported\n",
      "getfattr: /home/jupyter/data/model_data/mini_data_set/time_20230806_100000.nc: Operation not supported\n",
      "getfattr: /home/jupyter/data/model_data/mini_data_set/time_20230815_120000.nc: Operation not supported\n",
      "getfattr: /home/jupyter/data/model_data/mini_data_set/time_20230804_070000.nc: Operation not supported\n",
      "getfattr: /home/jupyter/data/model_data/mini_data_set/time_20230808_180000.nc: Operation not supported\n",
      "getfattr: /home/jupyter/data/model_data/mini_data_set/time_20230816_160000.nc: Operation not supported\n",
      "getfattr: /home/jupyter/data/model_data/mini_data_set/time_20230812_160000.nc: Operation not supported\n",
      "getfattr: /home/jupyter/data/model_data/mini_data_set/time_20230806_070000.nc: Operation not supported\n",
      "getfattr: /home/jupyter/data/model_data/mini_data_set/time_20230804_170000.nc: Operation not supported\n",
      "getfattr: /home/jupyter/data/model_data/mini_data_set/time_20230811_070000.nc: Operation not supported\n",
      "getfattr: /home/jupyter/data/model_data/mini_data_set/time_20230805_080000.nc: Operation not supported\n",
      "getfattr: /home/jupyter/data/model_data/mini_data_set/time_20230807_110000.nc: Operation not supported\n",
      "getfattr: /home/jupyter/data/model_data/mini_data_set/time_20230806_140000.nc: Operation not supported\n",
      "getfattr: /home/jupyter/data/model_data/mini_data_set/time_20230811_080000.nc: Operation not supported\n",
      "getfattr: /home/jupyter/data/model_data/mini_data_set/time_20230816_090000.nc: Operation not supported\n",
      "getfattr: /home/jupyter/data/model_data/mini_data_set/time_20230808_160000.nc: Operation not supported\n",
      "getfattr: /home/jupyter/data/model_data/mini_data_set/time_20230816_150000.nc: Operation not supported\n",
      "getfattr: /home/jupyter/data/model_data/mini_data_set/time_20230807_130000.nc: Operation not supported\n",
      "getfattr: /home/jupyter/data/model_data/mini_data_set/time_20230815_170000.nc: Operation not supported\n",
      "getfattr: /home/jupyter/data/model_data/mini_data_set/time_20230811_110000.nc: Operation not supported\n",
      "getfattr: /home/jupyter/data/model_data/mini_data_set/time_20230809_140000.nc: Operation not supported\n",
      "getfattr: /home/jupyter/data/model_data/mini_data_set/time_20230809_080000.nc: Operation not supported\n",
      "getfattr: /home/jupyter/data/model_data/mini_data_set/time_20230811_180000.nc: Operation not supported\n",
      "getfattr: /home/jupyter/data/model_data/mini_data_set/time_20230812_070000.nc: Operation not supported\n",
      "getfattr: /home/jupyter/data/model_data/mini_data_set/time_20230815_180000.nc: Operation not supported\n",
      "getfattr: /home/jupyter/data/model_data/mini_data_set/time_20230807_150000.nc: Operation not supported\n",
      "getfattr: /home/jupyter/data/model_data/mini_data_set/time_20230804_100000.nc: Operation not supported\n",
      "getfattr: /home/jupyter/data/model_data/mini_data_set/time_20230807_170000.nc: Operation not supported\n",
      "getfattr: /home/jupyter/data/model_data/mini_data_set/time_20230812_150000.nc: Operation not supported\n",
      "getfattr: /home/jupyter/data/model_data/mini_data_set/time_20230802_150000.nc: Operation not supported\n",
      "getfattr: /home/jupyter/data/model_data/mini_data_set/time_20230812_140000.nc: Operation not supported\n",
      "getfattr: /home/jupyter/data/model_data/mini_data_set/time_20230809_160000.nc: Operation not supported\n",
      "getfattr: /home/jupyter/data/model_data/mini_data_set/time_20230802_130000.nc: Operation not supported\n",
      "getfattr: /home/jupyter/data/model_data/mini_data_set/time_20230808_140000.nc: Operation not supported\n",
      "getfattr: /home/jupyter/data/model_data/mini_data_set/time_20230809_090000.nc: Operation not supported\n",
      "getfattr: /home/jupyter/data/model_data/mini_data_set/time_20230806_110000.nc: Operation not supported\n",
      "getfattr: /home/jupyter/data/model_data/mini_data_set/time_20230807_090000.nc: Operation not supported\n",
      "getfattr: /home/jupyter/data/model_data/mini_data_set/time_20230805_100000.nc: Operation not supported\n",
      "getfattr: /home/jupyter/data/model_data/mini_data_set/time_20230816_100000.nc: Operation not supported\n",
      "getfattr: /home/jupyter/data/model_data/mini_data_set/time_20230812_080000.nc: Operation not supported\n",
      "getfattr: /home/jupyter/data/model_data/mini_data_set/time_20230812_180000.nc: Operation not supported\n",
      "getfattr: /home/jupyter/data/model_data/mini_data_set/time_20230812_130000.nc: Operation not supported\n",
      "getfattr: /home/jupyter/data/model_data/mini_data_set/time_20230802_110000.nc: Operation not supported\n",
      "getfattr: /home/jupyter/data/model_data/mini_data_set/time_20230809_100000.nc: Operation not supported\n",
      "getfattr: /home/jupyter/data/model_data/mini_data_set/time_20230802_140000.nc: Operation not supported\n",
      "getfattr: /home/jupyter/data/model_data/mini_data_set/time_20230808_150000.nc: Operation not supported\n",
      "getfattr: /home/jupyter/data/model_data/mini_data_set/time_20230811_150000.nc: Operation not supported\n",
      "getfattr: /home/jupyter/data/model_data/mini_data_set/time_20230809_180000.nc: Operation not supported\n",
      "getfattr: /home/jupyter/data/model_data/mini_data_set/time_20230806_120000.nc: Operation not supported\n",
      "getfattr: /home/jupyter/data/model_data/mini_data_set/time_20230804_080000.nc: Operation not supported\n",
      "getfattr: /home/jupyter/data/model_data/mini_data_set/time_20230807_140000.nc: Operation not supported\n",
      "getfattr: /home/jupyter/data/model_data/mini_data_set/time_20230804_160000.nc: Operation not supported\n",
      "getfattr: /home/jupyter/data/model_data/mini_data_set/time_20230807_070000.nc: Operation not supported\n",
      "getfattr: /home/jupyter/data/model_data/mini_data_set/time_20230804_090000.nc: Operation not supported\n",
      "getfattr: /home/jupyter/data/model_data/mini_data_set/time_20230811_140000.nc: Operation not supported\n",
      "getfattr: /home/jupyter/data/model_data/mini_data_set/time_20230807_180000.nc: Operation not supported\n",
      "getfattr: /home/jupyter/data/model_data/mini_data_set/time_20230805_070000.nc: Operation not supported\n",
      "getfattr: /home/jupyter/data/model_data/mini_data_set/time_20230804_180000.nc: Operation not supported\n",
      "getfattr: /home/jupyter/data/model_data/mini_data_set/time_20230805_090000.nc: Operation not supported\n",
      "getfattr: /home/jupyter/data/model_data/mini_data_set/time_20230811_100000.nc: Operation not supported\n",
      "getfattr: /home/jupyter/data/model_data/mini_data_set/time_20230811_130000.nc: Operation not supported\n",
      "getfattr: /home/jupyter/data/model_data/mini_data_set/time_20230805_120000.nc: Operation not supported\n",
      "getfattr: /home/jupyter/data/model_data/mini_data_set/time_20230809_110000.nc: Operation not supported\n",
      "getfattr: /home/jupyter/data/model_data/mini_data_set/time_20230805_180000.nc: Operation not supported\n",
      "getfattr: /home/jupyter/data/model_data/mini_data_set/time_20230809_150000.nc: Operation not supported\n",
      "getfattr: /home/jupyter/data/model_data/mini_data_set/time_20230816_140000.nc: Operation not supported\n",
      "getfattr: /home/jupyter/data/model_data/mini_data_set/time_20230802_120000.nc: Operation not supported\n",
      "getfattr: /home/jupyter/data/model_data/mini_data_set/time_20230806_160000.nc: Operation not supported\n",
      "getfattr: /home/jupyter/data/model_data/mini_data_set/time_20230805_170000.nc: Operation not supported\n",
      "getfattr: /home/jupyter/data/model_data/mini_data_set/time_20230804_150000.nc: Operation not supported\n",
      "getfattr: /home/jupyter/data/model_data/mini_data_set/time_20230804_120000.nc: Operation not supported\n",
      "getfattr: /home/jupyter/data/model_data/mini_data_set/time_20230816_110000.nc: Operation not supported\n",
      "getfattr: /home/jupyter/data/model_data/mini_data_set/time_20230806_180000.nc: Operation not supported\n",
      "getfattr: /home/jupyter/data/model_data/mini_data_set/time_20230805_140000.nc: Operation not supported\n",
      "getfattr: /home/jupyter/data/model_data/mini_data_set/time_20230811_160000.nc: Operation not supported\n",
      "getfattr: /home/jupyter/data/model_data/mini_data_set/time_20230807_100000.nc: Operation not supported\n",
      "getfattr: /home/jupyter/data/model_data/mini_data_set/time_20230804_140000.nc: Operation not supported\n",
      "getfattr: /home/jupyter/data/model_data/mini_data_set/time_20230809_170000.nc: Operation not supported\n",
      "getfattr: /home/jupyter/data/model_data/mini_data_set/time_20230816_080000.nc: Operation not supported\n",
      "getfattr: /home/jupyter/data/model_data/mini_data_set/time_20230816_040000.nc: Operation not supported\n",
      "getfattr: /home/jupyter/data/model_data/mini_data_set/time_20230815_150000.nc: Operation not supported\n",
      "getfattr: /home/jupyter/data/model_data/mini_data_set/time_20230805_110000.nc: Operation not supported\n",
      "getfattr: /home/jupyter/data/model_data/mini_data_set/time_20230807_080000.nc: Operation not supported\n",
      "getfattr: /home/jupyter/data/model_data/mini_data_set/time_20230812_170000.nc: Operation not supported\n",
      "getfattr: /home/jupyter/data/model_data/mini_data_set/time_20230816_070000.nc: Operation not supported\n",
      "getfattr: /home/jupyter/data/model_data/mini_data_set/time_20230815_160000.nc: Operation not supported\n",
      "getfattr: /home/jupyter/data/model_data/mini_data_set/time_20230806_090000.nc: Operation not supported\n",
      "getfattr: /home/jupyter/data/model_data/mini_data_set/time_20230805_150000.nc: Operation not supported\n"
     ]
    },
    {
     "name": "stdout",
     "output_type": "stream",
     "text": [
      "25/25 [==============================] - 42s 2s/step - loss: 6.0711 - val_loss: 13.0781\n",
      "Epoch 3/4\n"
     ]
    },
    {
     "name": "stderr",
     "output_type": "stream",
     "text": [
      "getfattr: /home/jupyter/data/model_data/mini_data_set/time_20230805_070000.nc: Operation not supported\n",
      "getfattr: /home/jupyter/data/model_data/mini_data_set/time_20230804_180000.nc: Operation not supported\n",
      "getfattr: /home/jupyter/data/model_data/mini_data_set/time_20230805_090000.nc: Operation not supported\n",
      "getfattr: /home/jupyter/data/model_data/mini_data_set/time_20230811_100000.nc: Operation not supported\n",
      "getfattr: /home/jupyter/data/model_data/mini_data_set/time_20230815_180000.nc: Operation not supported\n",
      "getfattr: /home/jupyter/data/model_data/mini_data_set/time_20230807_150000.nc: Operation not supported\n",
      "getfattr: /home/jupyter/data/model_data/mini_data_set/time_20230804_100000.nc: Operation not supported\n",
      "getfattr: /home/jupyter/data/model_data/mini_data_set/time_20230807_170000.nc: Operation not supported\n"
     ]
    },
    {
     "name": "stdout",
     "output_type": "stream",
     "text": [
      " 1/25 [>.............................] - ETA: 33s - loss: 1.9910"
     ]
    },
    {
     "name": "stderr",
     "output_type": "stream",
     "text": [
      "getfattr: /home/jupyter/data/model_data/mini_data_set/time_20230804_170000.nc: Operation not supported\n",
      "getfattr: /home/jupyter/data/model_data/mini_data_set/time_20230811_070000.nc: Operation not supported\n",
      "getfattr: /home/jupyter/data/model_data/mini_data_set/time_20230805_080000.nc: Operation not supported\n",
      "getfattr: /home/jupyter/data/model_data/mini_data_set/time_20230807_110000.nc: Operation not supported\n"
     ]
    },
    {
     "name": "stdout",
     "output_type": "stream",
     "text": [
      " 2/25 [=>............................] - ETA: 17s - loss: 4.1710"
     ]
    },
    {
     "name": "stderr",
     "output_type": "stream",
     "text": [
      "getfattr: /home/jupyter/data/model_data/mini_data_set/time_20230808_170000.nc: Operation not supported\n",
      "getfattr: /home/jupyter/data/model_data/mini_data_set/time_20230811_170000.nc: Operation not supported\n",
      "getfattr: /home/jupyter/data/model_data/mini_data_set/time_20230806_080000.nc: Operation not supported\n",
      "getfattr: /home/jupyter/data/model_data/mini_data_set/time_20230806_170000.nc: Operation not supported\n"
     ]
    },
    {
     "name": "stdout",
     "output_type": "stream",
     "text": [
      " 3/25 [==>...........................] - ETA: 17s - loss: 3.6329"
     ]
    },
    {
     "name": "stderr",
     "output_type": "stream",
     "text": [
      "getfattr: /home/jupyter/data/model_data/mini_data_set/time_20230807_090000.nc: Operation not supported\n",
      "getfattr: /home/jupyter/data/model_data/mini_data_set/time_20230805_100000.nc: Operation not supported\n",
      "getfattr: /home/jupyter/data/model_data/mini_data_set/time_20230816_100000.nc: Operation not supported\n",
      "getfattr: /home/jupyter/data/model_data/mini_data_set/time_20230812_080000.nc: Operation not supported\n"
     ]
    },
    {
     "name": "stdout",
     "output_type": "stream",
     "text": [
      " 4/25 [===>..........................] - ETA: 16s - loss: 3.8553"
     ]
    },
    {
     "name": "stderr",
     "output_type": "stream",
     "text": [
      "getfattr: /home/jupyter/data/model_data/mini_data_set/time_20230808_180000.nc: Operation not supported\n",
      "getfattr: /home/jupyter/data/model_data/mini_data_set/time_20230816_160000.nc: Operation not supported\n",
      "getfattr: /home/jupyter/data/model_data/mini_data_set/time_20230812_160000.nc: Operation not supported\n",
      "getfattr: /home/jupyter/data/model_data/mini_data_set/time_20230806_070000.nc: Operation not supported\n"
     ]
    },
    {
     "name": "stdout",
     "output_type": "stream",
     "text": [
      " 5/25 [=====>........................] - ETA: 15s - loss: 3.7877"
     ]
    },
    {
     "name": "stderr",
     "output_type": "stream",
     "text": [
      "getfattr: /home/jupyter/data/model_data/mini_data_set/time_20230809_130000.nc: Operation not supported\n",
      "getfattr: /home/jupyter/data/model_data/mini_data_set/time_20230806_100000.nc: Operation not supported\n",
      "getfattr: /home/jupyter/data/model_data/mini_data_set/time_20230815_120000.nc: Operation not supported\n",
      "getfattr: /home/jupyter/data/model_data/mini_data_set/time_20230804_070000.nc: Operation not supported\n"
     ]
    },
    {
     "name": "stdout",
     "output_type": "stream",
     "text": [
      " 6/25 [======>.......................] - ETA: 15s - loss: 3.7749"
     ]
    },
    {
     "name": "stderr",
     "output_type": "stream",
     "text": [
      "getfattr: /home/jupyter/data/model_data/mini_data_set/time_20230815_150000.nc: Operation not supported\n",
      "getfattr: /home/jupyter/data/model_data/mini_data_set/time_20230805_110000.nc: Operation not supported\n",
      "getfattr: /home/jupyter/data/model_data/mini_data_set/time_20230807_080000.nc: Operation not supported\n",
      "getfattr: /home/jupyter/data/model_data/mini_data_set/time_20230812_170000.nc: Operation not supported\n"
     ]
    },
    {
     "name": "stdout",
     "output_type": "stream",
     "text": [
      " 7/25 [=======>......................] - ETA: 14s - loss: 3.8269"
     ]
    },
    {
     "name": "stderr",
     "output_type": "stream",
     "text": [
      "getfattr: /home/jupyter/data/model_data/mini_data_set/time_20230809_150000.nc: Operation not supported\n",
      "getfattr: /home/jupyter/data/model_data/mini_data_set/time_20230816_140000.nc: Operation not supported\n",
      "getfattr: /home/jupyter/data/model_data/mini_data_set/time_20230802_120000.nc: Operation not supported\n",
      "getfattr: /home/jupyter/data/model_data/mini_data_set/time_20230806_160000.nc: Operation not supported\n"
     ]
    },
    {
     "name": "stdout",
     "output_type": "stream",
     "text": [
      " 8/25 [========>.....................] - ETA: 13s - loss: 3.8739"
     ]
    },
    {
     "name": "stderr",
     "output_type": "stream",
     "text": [
      "getfattr: /home/jupyter/data/model_data/mini_data_set/time_20230802_130000.nc: Operation not supported\n",
      "getfattr: /home/jupyter/data/model_data/mini_data_set/time_20230808_140000.nc: Operation not supported\n",
      "getfattr: /home/jupyter/data/model_data/mini_data_set/time_20230809_090000.nc: Operation not supported\n",
      "getfattr: /home/jupyter/data/model_data/mini_data_set/time_20230806_110000.nc: Operation not supported\n"
     ]
    },
    {
     "name": "stdout",
     "output_type": "stream",
     "text": [
      " 9/25 [=========>....................] - ETA: 12s - loss: 4.6534"
     ]
    },
    {
     "name": "stderr",
     "output_type": "stream",
     "text": [
      "getfattr: /home/jupyter/data/model_data/mini_data_set/time_20230807_160000.nc: Operation not supported\n",
      "getfattr: /home/jupyter/data/model_data/mini_data_set/time_20230804_130000.nc: Operation not supported\n",
      "getfattr: /home/jupyter/data/model_data/mini_data_set/time_20230809_070000.nc: Operation not supported\n",
      "getfattr: /home/jupyter/data/model_data/mini_data_set/time_20230805_160000.nc: Operation not supported\n"
     ]
    },
    {
     "name": "stdout",
     "output_type": "stream",
     "text": [
      "10/25 [===========>..................] - ETA: 11s - loss: 5.3761"
     ]
    },
    {
     "name": "stderr",
     "output_type": "stream",
     "text": [
      "getfattr: /home/jupyter/data/model_data/mini_data_set/time_20230802_140000.nc: Operation not supported\n",
      "getfattr: /home/jupyter/data/model_data/mini_data_set/time_20230808_150000.nc: Operation not supported\n",
      "getfattr: /home/jupyter/data/model_data/mini_data_set/time_20230811_150000.nc: Operation not supported\n",
      "getfattr: /home/jupyter/data/model_data/mini_data_set/time_20230809_180000.nc: Operation not supported\n"
     ]
    },
    {
     "name": "stdout",
     "output_type": "stream",
     "text": [
      "11/25 [============>.................] - ETA: 10s - loss: 5.1828"
     ]
    },
    {
     "name": "stderr",
     "output_type": "stream",
     "text": [
      "getfattr: /home/jupyter/data/model_data/mini_data_set/time_20230806_140000.nc: Operation not supported\n",
      "getfattr: /home/jupyter/data/model_data/mini_data_set/time_20230811_080000.nc: Operation not supported\n",
      "getfattr: /home/jupyter/data/model_data/mini_data_set/time_20230816_090000.nc: Operation not supported\n",
      "getfattr: /home/jupyter/data/model_data/mini_data_set/time_20230808_160000.nc: Operation not supported\n"
     ]
    },
    {
     "name": "stdout",
     "output_type": "stream",
     "text": [
      "12/25 [=============>................] - ETA: 10s - loss: 5.1489"
     ]
    },
    {
     "name": "stderr",
     "output_type": "stream",
     "text": [
      "getfattr: /home/jupyter/data/model_data/mini_data_set/time_20230806_180000.nc: Operation not supported\n",
      "getfattr: /home/jupyter/data/model_data/mini_data_set/time_20230805_140000.nc: Operation not supported\n",
      "getfattr: /home/jupyter/data/model_data/mini_data_set/time_20230811_160000.nc: Operation not supported\n",
      "getfattr: /home/jupyter/data/model_data/mini_data_set/time_20230807_100000.nc: Operation not supported\n"
     ]
    },
    {
     "name": "stdout",
     "output_type": "stream",
     "text": [
      "13/25 [==============>...............] - ETA: 9s - loss: 5.1079 "
     ]
    },
    {
     "name": "stderr",
     "output_type": "stream",
     "text": [
      "getfattr: /home/jupyter/data/model_data/mini_data_set/time_20230804_140000.nc: Operation not supported\n",
      "getfattr: /home/jupyter/data/model_data/mini_data_set/time_20230809_170000.nc: Operation not supported\n",
      "getfattr: /home/jupyter/data/model_data/mini_data_set/time_20230816_080000.nc: Operation not supported\n",
      "getfattr: /home/jupyter/data/model_data/mini_data_set/time_20230816_040000.nc: Operation not supported\n"
     ]
    },
    {
     "name": "stdout",
     "output_type": "stream",
     "text": [
      "14/25 [===============>..............] - ETA: 8s - loss: 4.9144"
     ]
    },
    {
     "name": "stderr",
     "output_type": "stream",
     "text": [
      "getfattr: /home/jupyter/data/model_data/mini_data_set/time_20230812_180000.nc: Operation not supported\n",
      "getfattr: /home/jupyter/data/model_data/mini_data_set/time_20230812_130000.nc: Operation not supported\n",
      "getfattr: /home/jupyter/data/model_data/mini_data_set/time_20230802_110000.nc: Operation not supported\n",
      "getfattr: /home/jupyter/data/model_data/mini_data_set/time_20230809_100000.nc: Operation not supported\n"
     ]
    },
    {
     "name": "stdout",
     "output_type": "stream",
     "text": [
      "15/25 [=================>............] - ETA: 7s - loss: 5.3416"
     ]
    },
    {
     "name": "stderr",
     "output_type": "stream",
     "text": [
      "getfattr: /home/jupyter/data/model_data/mini_data_set/time_20230806_120000.nc: Operation not supported\n",
      "getfattr: /home/jupyter/data/model_data/mini_data_set/time_20230804_080000.nc: Operation not supported\n",
      "getfattr: /home/jupyter/data/model_data/mini_data_set/time_20230807_140000.nc: Operation not supported\n",
      "getfattr: /home/jupyter/data/model_data/mini_data_set/time_20230804_160000.nc: Operation not supported\n"
     ]
    },
    {
     "name": "stdout",
     "output_type": "stream",
     "text": [
      "16/25 [==================>...........] - ETA: 7s - loss: 5.4209"
     ]
    },
    {
     "name": "stderr",
     "output_type": "stream",
     "text": [
      "getfattr: /home/jupyter/data/model_data/mini_data_set/time_20230811_090000.nc: Operation not supported\n",
      "getfattr: /home/jupyter/data/model_data/mini_data_set/time_20230806_150000.nc: Operation not supported\n",
      "getfattr: /home/jupyter/data/model_data/mini_data_set/time_20230802_100000.nc: Operation not supported\n",
      "getfattr: /home/jupyter/data/model_data/mini_data_set/time_20230812_120000.nc: Operation not supported\n"
     ]
    },
    {
     "name": "stdout",
     "output_type": "stream",
     "text": [
      "17/25 [===================>..........] - ETA: 6s - loss: 5.5110"
     ]
    },
    {
     "name": "stderr",
     "output_type": "stream",
     "text": [
      "getfattr: /home/jupyter/data/model_data/mini_data_set/time_20230816_070000.nc: Operation not supported\n",
      "getfattr: /home/jupyter/data/model_data/mini_data_set/time_20230815_160000.nc: Operation not supported\n",
      "getfattr: /home/jupyter/data/model_data/mini_data_set/time_20230806_090000.nc: Operation not supported\n",
      "getfattr: /home/jupyter/data/model_data/mini_data_set/time_20230805_150000.nc: Operation not supported\n"
     ]
    },
    {
     "name": "stdout",
     "output_type": "stream",
     "text": [
      "18/25 [====================>.........] - ETA: 5s - loss: 5.4948"
     ]
    },
    {
     "name": "stderr",
     "output_type": "stream",
     "text": [
      "getfattr: /home/jupyter/data/model_data/mini_data_set/time_20230816_150000.nc: Operation not supported\n",
      "getfattr: /home/jupyter/data/model_data/mini_data_set/time_20230807_130000.nc: Operation not supported\n",
      "getfattr: /home/jupyter/data/model_data/mini_data_set/time_20230815_170000.nc: Operation not supported\n",
      "getfattr: /home/jupyter/data/model_data/mini_data_set/time_20230811_110000.nc: Operation not supported\n"
     ]
    },
    {
     "name": "stdout",
     "output_type": "stream",
     "text": [
      "19/25 [=====================>........] - ETA: 4s - loss: 5.6734"
     ]
    },
    {
     "name": "stderr",
     "output_type": "stream",
     "text": [
      "getfattr: /home/jupyter/data/model_data/mini_data_set/time_20230807_070000.nc: Operation not supported\n",
      "getfattr: /home/jupyter/data/model_data/mini_data_set/time_20230804_090000.nc: Operation not supported\n",
      "getfattr: /home/jupyter/data/model_data/mini_data_set/time_20230811_140000.nc: Operation not supported\n",
      "getfattr: /home/jupyter/data/model_data/mini_data_set/time_20230807_180000.nc: Operation not supported\n"
     ]
    },
    {
     "name": "stdout",
     "output_type": "stream",
     "text": [
      "20/25 [=======================>......] - ETA: 3s - loss: 5.6526"
     ]
    },
    {
     "name": "stderr",
     "output_type": "stream",
     "text": [
      "getfattr: /home/jupyter/data/model_data/mini_data_set/time_20230812_150000.nc: Operation not supported\n",
      "getfattr: /home/jupyter/data/model_data/mini_data_set/time_20230802_150000.nc: Operation not supported\n",
      "getfattr: /home/jupyter/data/model_data/mini_data_set/time_20230812_140000.nc: Operation not supported\n",
      "getfattr: /home/jupyter/data/model_data/mini_data_set/time_20230809_160000.nc: Operation not supported\n"
     ]
    },
    {
     "name": "stdout",
     "output_type": "stream",
     "text": [
      "21/25 [========================>.....] - ETA: 3s - loss: 5.5128"
     ]
    },
    {
     "name": "stderr",
     "output_type": "stream",
     "text": [
      "getfattr: /home/jupyter/data/model_data/mini_data_set/time_20230809_140000.nc: Operation not supported\n",
      "getfattr: /home/jupyter/data/model_data/mini_data_set/time_20230809_080000.nc: Operation not supported\n",
      "getfattr: /home/jupyter/data/model_data/mini_data_set/time_20230811_180000.nc: Operation not supported\n",
      "getfattr: /home/jupyter/data/model_data/mini_data_set/time_20230812_070000.nc: Operation not supported\n"
     ]
    },
    {
     "name": "stdout",
     "output_type": "stream",
     "text": [
      "22/25 [=========================>....] - ETA: 2s - loss: 5.4734"
     ]
    },
    {
     "name": "stderr",
     "output_type": "stream",
     "text": [
      "getfattr: /home/jupyter/data/model_data/mini_data_set/time_20230805_170000.nc: Operation not supported\n",
      "getfattr: /home/jupyter/data/model_data/mini_data_set/time_20230804_150000.nc: Operation not supported\n",
      "getfattr: /home/jupyter/data/model_data/mini_data_set/time_20230804_120000.nc: Operation not supported\n",
      "getfattr: /home/jupyter/data/model_data/mini_data_set/time_20230816_110000.nc: Operation not supported\n"
     ]
    },
    {
     "name": "stdout",
     "output_type": "stream",
     "text": [
      "23/25 [==========================>...] - ETA: 1s - loss: 5.3513"
     ]
    },
    {
     "name": "stderr",
     "output_type": "stream",
     "text": [
      "getfattr: /home/jupyter/data/model_data/mini_data_set/time_20230811_130000.nc: Operation not supported\n",
      "getfattr: /home/jupyter/data/model_data/mini_data_set/time_20230805_120000.nc: Operation not supported\n",
      "getfattr: /home/jupyter/data/model_data/mini_data_set/time_20230809_110000.nc: Operation not supported\n",
      "getfattr: /home/jupyter/data/model_data/mini_data_set/time_20230805_180000.nc: Operation not supported\n"
     ]
    },
    {
     "name": "stdout",
     "output_type": "stream",
     "text": [
      "25/25 [==============================] - ETA: 0s - loss: 5.1972"
     ]
    },
    {
     "name": "stderr",
     "output_type": "stream",
     "text": [
      "getfattr: /home/jupyter/data/model_data/mini_data_set/time_20230807_160000.nc: Operation not supported\n",
      "getfattr: /home/jupyter/data/model_data/mini_data_set/time_20230804_130000.nc: Operation not supported\n",
      "getfattr: /home/jupyter/data/model_data/mini_data_set/time_20230809_070000.nc: Operation not supported\n",
      "getfattr: /home/jupyter/data/model_data/mini_data_set/time_20230805_160000.nc: Operation not supported\n",
      "getfattr: /home/jupyter/data/model_data/mini_data_set/time_20230811_090000.nc: Operation not supported\n",
      "getfattr: /home/jupyter/data/model_data/mini_data_set/time_20230806_150000.nc: Operation not supported\n",
      "getfattr: /home/jupyter/data/model_data/mini_data_set/time_20230802_100000.nc: Operation not supported\n",
      "getfattr: /home/jupyter/data/model_data/mini_data_set/time_20230812_120000.nc: Operation not supported\n",
      "getfattr: /home/jupyter/data/model_data/mini_data_set/time_20230808_170000.nc: Operation not supported\n",
      "getfattr: /home/jupyter/data/model_data/mini_data_set/time_20230811_170000.nc: Operation not supported\n",
      "getfattr: /home/jupyter/data/model_data/mini_data_set/time_20230806_080000.nc: Operation not supported\n",
      "getfattr: /home/jupyter/data/model_data/mini_data_set/time_20230806_170000.nc: Operation not supported\n",
      "getfattr: /home/jupyter/data/model_data/mini_data_set/time_20230809_130000.nc: Operation not supported\n",
      "getfattr: /home/jupyter/data/model_data/mini_data_set/time_20230806_100000.nc: Operation not supported\n",
      "getfattr: /home/jupyter/data/model_data/mini_data_set/time_20230815_120000.nc: Operation not supported\n",
      "getfattr: /home/jupyter/data/model_data/mini_data_set/time_20230804_070000.nc: Operation not supported\n",
      "getfattr: /home/jupyter/data/model_data/mini_data_set/time_20230808_180000.nc: Operation not supported\n",
      "getfattr: /home/jupyter/data/model_data/mini_data_set/time_20230816_160000.nc: Operation not supported\n",
      "getfattr: /home/jupyter/data/model_data/mini_data_set/time_20230812_160000.nc: Operation not supported\n",
      "getfattr: /home/jupyter/data/model_data/mini_data_set/time_20230806_070000.nc: Operation not supported\n",
      "getfattr: /home/jupyter/data/model_data/mini_data_set/time_20230804_170000.nc: Operation not supported\n",
      "getfattr: /home/jupyter/data/model_data/mini_data_set/time_20230811_070000.nc: Operation not supported\n",
      "getfattr: /home/jupyter/data/model_data/mini_data_set/time_20230805_080000.nc: Operation not supported\n",
      "getfattr: /home/jupyter/data/model_data/mini_data_set/time_20230807_110000.nc: Operation not supported\n",
      "getfattr: /home/jupyter/data/model_data/mini_data_set/time_20230806_140000.nc: Operation not supported\n",
      "getfattr: /home/jupyter/data/model_data/mini_data_set/time_20230811_080000.nc: Operation not supported\n",
      "getfattr: /home/jupyter/data/model_data/mini_data_set/time_20230816_090000.nc: Operation not supported\n",
      "getfattr: /home/jupyter/data/model_data/mini_data_set/time_20230808_160000.nc: Operation not supported\n",
      "getfattr: /home/jupyter/data/model_data/mini_data_set/time_20230816_150000.nc: Operation not supported\n",
      "getfattr: /home/jupyter/data/model_data/mini_data_set/time_20230807_130000.nc: Operation not supported\n",
      "getfattr: /home/jupyter/data/model_data/mini_data_set/time_20230815_170000.nc: Operation not supported\n",
      "getfattr: /home/jupyter/data/model_data/mini_data_set/time_20230811_110000.nc: Operation not supported\n",
      "getfattr: /home/jupyter/data/model_data/mini_data_set/time_20230809_140000.nc: Operation not supported\n",
      "getfattr: /home/jupyter/data/model_data/mini_data_set/time_20230809_080000.nc: Operation not supported\n",
      "getfattr: /home/jupyter/data/model_data/mini_data_set/time_20230811_180000.nc: Operation not supported\n",
      "getfattr: /home/jupyter/data/model_data/mini_data_set/time_20230812_070000.nc: Operation not supported\n",
      "getfattr: /home/jupyter/data/model_data/mini_data_set/time_20230815_180000.nc: Operation not supported\n",
      "getfattr: /home/jupyter/data/model_data/mini_data_set/time_20230807_150000.nc: Operation not supported\n",
      "getfattr: /home/jupyter/data/model_data/mini_data_set/time_20230804_100000.nc: Operation not supported\n",
      "getfattr: /home/jupyter/data/model_data/mini_data_set/time_20230807_170000.nc: Operation not supported\n",
      "getfattr: /home/jupyter/data/model_data/mini_data_set/time_20230812_150000.nc: Operation not supported\n",
      "getfattr: /home/jupyter/data/model_data/mini_data_set/time_20230802_150000.nc: Operation not supported\n",
      "getfattr: /home/jupyter/data/model_data/mini_data_set/time_20230812_140000.nc: Operation not supported\n",
      "getfattr: /home/jupyter/data/model_data/mini_data_set/time_20230809_160000.nc: Operation not supported\n",
      "getfattr: /home/jupyter/data/model_data/mini_data_set/time_20230802_130000.nc: Operation not supported\n",
      "getfattr: /home/jupyter/data/model_data/mini_data_set/time_20230808_140000.nc: Operation not supported\n",
      "getfattr: /home/jupyter/data/model_data/mini_data_set/time_20230809_090000.nc: Operation not supported\n",
      "getfattr: /home/jupyter/data/model_data/mini_data_set/time_20230806_110000.nc: Operation not supported\n",
      "getfattr: /home/jupyter/data/model_data/mini_data_set/time_20230807_090000.nc: Operation not supported\n",
      "getfattr: /home/jupyter/data/model_data/mini_data_set/time_20230805_100000.nc: Operation not supported\n",
      "getfattr: /home/jupyter/data/model_data/mini_data_set/time_20230816_100000.nc: Operation not supported\n",
      "getfattr: /home/jupyter/data/model_data/mini_data_set/time_20230812_080000.nc: Operation not supported\n",
      "getfattr: /home/jupyter/data/model_data/mini_data_set/time_20230812_180000.nc: Operation not supported\n",
      "getfattr: /home/jupyter/data/model_data/mini_data_set/time_20230812_130000.nc: Operation not supported\n",
      "getfattr: /home/jupyter/data/model_data/mini_data_set/time_20230802_110000.nc: Operation not supported\n",
      "getfattr: /home/jupyter/data/model_data/mini_data_set/time_20230809_100000.nc: Operation not supported\n",
      "getfattr: /home/jupyter/data/model_data/mini_data_set/time_20230802_140000.nc: Operation not supported\n",
      "getfattr: /home/jupyter/data/model_data/mini_data_set/time_20230808_150000.nc: Operation not supported\n",
      "getfattr: /home/jupyter/data/model_data/mini_data_set/time_20230811_150000.nc: Operation not supported\n",
      "getfattr: /home/jupyter/data/model_data/mini_data_set/time_20230809_180000.nc: Operation not supported\n",
      "getfattr: /home/jupyter/data/model_data/mini_data_set/time_20230806_120000.nc: Operation not supported\n",
      "getfattr: /home/jupyter/data/model_data/mini_data_set/time_20230804_080000.nc: Operation not supported\n",
      "getfattr: /home/jupyter/data/model_data/mini_data_set/time_20230807_140000.nc: Operation not supported\n",
      "getfattr: /home/jupyter/data/model_data/mini_data_set/time_20230804_160000.nc: Operation not supported\n",
      "getfattr: /home/jupyter/data/model_data/mini_data_set/time_20230807_070000.nc: Operation not supported\n",
      "getfattr: /home/jupyter/data/model_data/mini_data_set/time_20230804_090000.nc: Operation not supported\n",
      "getfattr: /home/jupyter/data/model_data/mini_data_set/time_20230811_140000.nc: Operation not supported\n",
      "getfattr: /home/jupyter/data/model_data/mini_data_set/time_20230807_180000.nc: Operation not supported\n",
      "getfattr: /home/jupyter/data/model_data/mini_data_set/time_20230805_070000.nc: Operation not supported\n",
      "getfattr: /home/jupyter/data/model_data/mini_data_set/time_20230804_180000.nc: Operation not supported\n",
      "getfattr: /home/jupyter/data/model_data/mini_data_set/time_20230805_090000.nc: Operation not supported\n",
      "getfattr: /home/jupyter/data/model_data/mini_data_set/time_20230811_100000.nc: Operation not supported\n",
      "getfattr: /home/jupyter/data/model_data/mini_data_set/time_20230811_130000.nc: Operation not supported\n",
      "getfattr: /home/jupyter/data/model_data/mini_data_set/time_20230805_120000.nc: Operation not supported\n",
      "getfattr: /home/jupyter/data/model_data/mini_data_set/time_20230809_110000.nc: Operation not supported\n",
      "getfattr: /home/jupyter/data/model_data/mini_data_set/time_20230805_180000.nc: Operation not supported\n",
      "getfattr: /home/jupyter/data/model_data/mini_data_set/time_20230809_150000.nc: Operation not supported\n",
      "getfattr: /home/jupyter/data/model_data/mini_data_set/time_20230816_140000.nc: Operation not supported\n",
      "getfattr: /home/jupyter/data/model_data/mini_data_set/time_20230802_120000.nc: Operation not supported\n",
      "getfattr: /home/jupyter/data/model_data/mini_data_set/time_20230806_160000.nc: Operation not supported\n",
      "getfattr: /home/jupyter/data/model_data/mini_data_set/time_20230805_170000.nc: Operation not supported\n",
      "getfattr: /home/jupyter/data/model_data/mini_data_set/time_20230804_150000.nc: Operation not supported\n",
      "getfattr: /home/jupyter/data/model_data/mini_data_set/time_20230804_120000.nc: Operation not supported\n",
      "getfattr: /home/jupyter/data/model_data/mini_data_set/time_20230816_110000.nc: Operation not supported\n",
      "getfattr: /home/jupyter/data/model_data/mini_data_set/time_20230806_180000.nc: Operation not supported\n",
      "getfattr: /home/jupyter/data/model_data/mini_data_set/time_20230805_140000.nc: Operation not supported\n",
      "getfattr: /home/jupyter/data/model_data/mini_data_set/time_20230811_160000.nc: Operation not supported\n",
      "getfattr: /home/jupyter/data/model_data/mini_data_set/time_20230807_100000.nc: Operation not supported\n",
      "getfattr: /home/jupyter/data/model_data/mini_data_set/time_20230804_140000.nc: Operation not supported\n",
      "getfattr: /home/jupyter/data/model_data/mini_data_set/time_20230809_170000.nc: Operation not supported\n",
      "getfattr: /home/jupyter/data/model_data/mini_data_set/time_20230816_080000.nc: Operation not supported\n",
      "getfattr: /home/jupyter/data/model_data/mini_data_set/time_20230816_040000.nc: Operation not supported\n",
      "getfattr: /home/jupyter/data/model_data/mini_data_set/time_20230815_150000.nc: Operation not supported\n",
      "getfattr: /home/jupyter/data/model_data/mini_data_set/time_20230805_110000.nc: Operation not supported\n",
      "getfattr: /home/jupyter/data/model_data/mini_data_set/time_20230807_080000.nc: Operation not supported\n",
      "getfattr: /home/jupyter/data/model_data/mini_data_set/time_20230812_170000.nc: Operation not supported\n",
      "getfattr: /home/jupyter/data/model_data/mini_data_set/time_20230816_070000.nc: Operation not supported\n",
      "getfattr: /home/jupyter/data/model_data/mini_data_set/time_20230815_160000.nc: Operation not supported\n",
      "getfattr: /home/jupyter/data/model_data/mini_data_set/time_20230806_090000.nc: Operation not supported\n",
      "getfattr: /home/jupyter/data/model_data/mini_data_set/time_20230805_150000.nc: Operation not supported\n"
     ]
    },
    {
     "name": "stdout",
     "output_type": "stream",
     "text": [
      "25/25 [==============================] - 41s 2s/step - loss: 5.1972 - val_loss: 13.7458\n",
      "Epoch 4/4\n"
     ]
    },
    {
     "name": "stderr",
     "output_type": "stream",
     "text": [
      "getfattr: /home/jupyter/data/model_data/mini_data_set/time_20230806_140000.nc: Operation not supported\n",
      "getfattr: /home/jupyter/data/model_data/mini_data_set/time_20230811_080000.nc: Operation not supported\n",
      "getfattr: /home/jupyter/data/model_data/mini_data_set/time_20230816_090000.nc: Operation not supported\n",
      "getfattr: /home/jupyter/data/model_data/mini_data_set/time_20230808_160000.nc: Operation not supported\n",
      "getfattr: /home/jupyter/data/model_data/mini_data_set/time_20230807_160000.nc: Operation not supported\n",
      "getfattr: /home/jupyter/data/model_data/mini_data_set/time_20230804_130000.nc: Operation not supported\n",
      "getfattr: /home/jupyter/data/model_data/mini_data_set/time_20230809_070000.nc: Operation not supported\n",
      "getfattr: /home/jupyter/data/model_data/mini_data_set/time_20230805_160000.nc: Operation not supported\n"
     ]
    },
    {
     "name": "stdout",
     "output_type": "stream",
     "text": [
      " 1/25 [>.............................] - ETA: 32s - loss: 3.8256"
     ]
    },
    {
     "name": "stderr",
     "output_type": "stream",
     "text": [
      "getfattr: /home/jupyter/data/model_data/mini_data_set/time_20230807_070000.nc: Operation not supported\n",
      "getfattr: /home/jupyter/data/model_data/mini_data_set/time_20230804_090000.nc: Operation not supported\n",
      "getfattr: /home/jupyter/data/model_data/mini_data_set/time_20230811_140000.nc: Operation not supported\n"
     ]
    },
    {
     "name": "stdout",
     "output_type": "stream",
     "text": [
      " 2/25 [=>............................] - ETA: 19s - loss: 3.5944"
     ]
    },
    {
     "name": "stderr",
     "output_type": "stream",
     "text": [
      "getfattr: /home/jupyter/data/model_data/mini_data_set/time_20230807_180000.nc: Operation not supported\n",
      "getfattr: /home/jupyter/data/model_data/mini_data_set/time_20230809_140000.nc: Operation not supported\n",
      "getfattr: /home/jupyter/data/model_data/mini_data_set/time_20230809_080000.nc: Operation not supported\n",
      "getfattr: /home/jupyter/data/model_data/mini_data_set/time_20230811_180000.nc: Operation not supported\n",
      "getfattr: /home/jupyter/data/model_data/mini_data_set/time_20230812_070000.nc: Operation not supported\n"
     ]
    },
    {
     "name": "stdout",
     "output_type": "stream",
     "text": [
      " 3/25 [==>...........................] - ETA: 18s - loss: 3.2594"
     ]
    },
    {
     "name": "stderr",
     "output_type": "stream",
     "text": [
      "getfattr: /home/jupyter/data/model_data/mini_data_set/time_20230804_170000.nc: Operation not supported\n",
      "getfattr: /home/jupyter/data/model_data/mini_data_set/time_20230811_070000.nc: Operation not supported\n",
      "getfattr: /home/jupyter/data/model_data/mini_data_set/time_20230805_080000.nc: Operation not supported\n",
      "getfattr: /home/jupyter/data/model_data/mini_data_set/time_20230807_110000.nc: Operation not supported\n"
     ]
    },
    {
     "name": "stdout",
     "output_type": "stream",
     "text": [
      " 4/25 [===>..........................] - ETA: 17s - loss: 3.1323"
     ]
    },
    {
     "name": "stderr",
     "output_type": "stream",
     "text": [
      "getfattr: /home/jupyter/data/model_data/mini_data_set/time_20230804_140000.nc: Operation not supported\n",
      "getfattr: /home/jupyter/data/model_data/mini_data_set/time_20230809_170000.nc: Operation not supported\n",
      "getfattr: /home/jupyter/data/model_data/mini_data_set/time_20230816_080000.nc: Operation not supported\n",
      "getfattr: /home/jupyter/data/model_data/mini_data_set/time_20230816_040000.nc: Operation not supported\n"
     ]
    },
    {
     "name": "stdout",
     "output_type": "stream",
     "text": [
      " 5/25 [=====>........................] - ETA: 16s - loss: 2.9670"
     ]
    },
    {
     "name": "stderr",
     "output_type": "stream",
     "text": [
      "getfattr: /home/jupyter/data/model_data/mini_data_set/time_20230811_090000.nc: Operation not supported\n",
      "getfattr: /home/jupyter/data/model_data/mini_data_set/time_20230806_150000.nc: Operation not supported\n",
      "getfattr: /home/jupyter/data/model_data/mini_data_set/time_20230802_100000.nc: Operation not supported\n",
      "getfattr: /home/jupyter/data/model_data/mini_data_set/time_20230812_120000.nc: Operation not supported\n"
     ]
    },
    {
     "name": "stdout",
     "output_type": "stream",
     "text": [
      " 6/25 [======>.......................] - ETA: 15s - loss: 4.6179"
     ]
    },
    {
     "name": "stderr",
     "output_type": "stream",
     "text": [
      "getfattr: /home/jupyter/data/model_data/mini_data_set/time_20230802_140000.nc: Operation not supported\n",
      "getfattr: /home/jupyter/data/model_data/mini_data_set/time_20230808_150000.nc: Operation not supported\n",
      "getfattr: /home/jupyter/data/model_data/mini_data_set/time_20230811_150000.nc: Operation not supported\n",
      "getfattr: /home/jupyter/data/model_data/mini_data_set/time_20230809_180000.nc: Operation not supported\n"
     ]
    },
    {
     "name": "stdout",
     "output_type": "stream",
     "text": [
      " 7/25 [=======>......................] - ETA: 14s - loss: 4.5911"
     ]
    },
    {
     "name": "stderr",
     "output_type": "stream",
     "text": [
      "getfattr: /home/jupyter/data/model_data/mini_data_set/time_20230815_180000.nc: Operation not supported\n",
      "getfattr: /home/jupyter/data/model_data/mini_data_set/time_20230807_150000.nc: Operation not supported\n",
      "getfattr: /home/jupyter/data/model_data/mini_data_set/time_20230804_100000.nc: Operation not supported\n",
      "getfattr: /home/jupyter/data/model_data/mini_data_set/time_20230807_170000.nc: Operation not supported\n"
     ]
    },
    {
     "name": "stdout",
     "output_type": "stream",
     "text": [
      " 8/25 [========>.....................] - ETA: 13s - loss: 4.7150"
     ]
    },
    {
     "name": "stderr",
     "output_type": "stream",
     "text": [
      "getfattr: /home/jupyter/data/model_data/mini_data_set/time_20230812_180000.nc: Operation not supported\n",
      "getfattr: /home/jupyter/data/model_data/mini_data_set/time_20230812_130000.nc: Operation not supported\n",
      "getfattr: /home/jupyter/data/model_data/mini_data_set/time_20230802_110000.nc: Operation not supported\n",
      "getfattr: /home/jupyter/data/model_data/mini_data_set/time_20230809_100000.nc: Operation not supported\n"
     ]
    },
    {
     "name": "stdout",
     "output_type": "stream",
     "text": [
      " 9/25 [=========>....................] - ETA: 13s - loss: 5.0709"
     ]
    },
    {
     "name": "stderr",
     "output_type": "stream",
     "text": [
      "getfattr: /home/jupyter/data/model_data/mini_data_set/time_20230808_170000.nc: Operation not supported\n",
      "getfattr: /home/jupyter/data/model_data/mini_data_set/time_20230811_170000.nc: Operation not supported\n",
      "getfattr: /home/jupyter/data/model_data/mini_data_set/time_20230806_080000.nc: Operation not supported\n",
      "getfattr: /home/jupyter/data/model_data/mini_data_set/time_20230806_170000.nc: Operation not supported\n"
     ]
    },
    {
     "name": "stdout",
     "output_type": "stream",
     "text": [
      "10/25 [===========>..................] - ETA: 12s - loss: 5.2590"
     ]
    },
    {
     "name": "stderr",
     "output_type": "stream",
     "text": [
      "getfattr: /home/jupyter/data/model_data/mini_data_set/time_20230815_150000.nc: Operation not supported\n",
      "getfattr: /home/jupyter/data/model_data/mini_data_set/time_20230805_110000.nc: Operation not supported\n",
      "getfattr: /home/jupyter/data/model_data/mini_data_set/time_20230807_080000.nc: Operation not supported\n",
      "getfattr: /home/jupyter/data/model_data/mini_data_set/time_20230812_170000.nc: Operation not supported\n"
     ]
    },
    {
     "name": "stdout",
     "output_type": "stream",
     "text": [
      "11/25 [============>.................] - ETA: 11s - loss: 5.0127"
     ]
    },
    {
     "name": "stderr",
     "output_type": "stream",
     "text": [
      "getfattr: /home/jupyter/data/model_data/mini_data_set/time_20230816_150000.nc: Operation not supported\n",
      "getfattr: /home/jupyter/data/model_data/mini_data_set/time_20230807_130000.nc: Operation not supported\n",
      "getfattr: /home/jupyter/data/model_data/mini_data_set/time_20230815_170000.nc: Operation not supported\n",
      "getfattr: /home/jupyter/data/model_data/mini_data_set/time_20230811_110000.nc: Operation not supported\n"
     ]
    },
    {
     "name": "stdout",
     "output_type": "stream",
     "text": [
      "12/25 [=============>................] - ETA: 10s - loss: 5.0182"
     ]
    },
    {
     "name": "stderr",
     "output_type": "stream",
     "text": [
      "getfattr: /home/jupyter/data/model_data/mini_data_set/time_20230805_070000.nc: Operation not supported\n",
      "getfattr: /home/jupyter/data/model_data/mini_data_set/time_20230804_180000.nc: Operation not supported\n",
      "getfattr: /home/jupyter/data/model_data/mini_data_set/time_20230805_090000.nc: Operation not supported\n",
      "getfattr: /home/jupyter/data/model_data/mini_data_set/time_20230811_100000.nc: Operation not supported\n"
     ]
    },
    {
     "name": "stdout",
     "output_type": "stream",
     "text": [
      "13/25 [==============>...............] - ETA: 9s - loss: 5.0203 "
     ]
    },
    {
     "name": "stderr",
     "output_type": "stream",
     "text": [
      "getfattr: /home/jupyter/data/model_data/mini_data_set/time_20230806_120000.nc: Operation not supported\n",
      "getfattr: /home/jupyter/data/model_data/mini_data_set/time_20230804_080000.nc: Operation not supported\n",
      "getfattr: /home/jupyter/data/model_data/mini_data_set/time_20230807_140000.nc: Operation not supported\n",
      "getfattr: /home/jupyter/data/model_data/mini_data_set/time_20230804_160000.nc: Operation not supported\n"
     ]
    },
    {
     "name": "stdout",
     "output_type": "stream",
     "text": [
      "14/25 [===============>..............] - ETA: 8s - loss: 4.8075"
     ]
    },
    {
     "name": "stderr",
     "output_type": "stream",
     "text": [
      "getfattr: /home/jupyter/data/model_data/mini_data_set/time_20230807_090000.nc: Operation not supported\n",
      "getfattr: /home/jupyter/data/model_data/mini_data_set/time_20230805_100000.nc: Operation not supported\n",
      "getfattr: /home/jupyter/data/model_data/mini_data_set/time_20230816_100000.nc: Operation not supported\n",
      "getfattr: /home/jupyter/data/model_data/mini_data_set/time_20230812_080000.nc: Operation not supported\n"
     ]
    },
    {
     "name": "stdout",
     "output_type": "stream",
     "text": [
      "15/25 [=================>............] - ETA: 8s - loss: 4.7099"
     ]
    },
    {
     "name": "stderr",
     "output_type": "stream",
     "text": [
      "getfattr: /home/jupyter/data/model_data/mini_data_set/time_20230806_180000.nc: Operation not supported\n",
      "getfattr: /home/jupyter/data/model_data/mini_data_set/time_20230805_140000.nc: Operation not supported\n",
      "getfattr: /home/jupyter/data/model_data/mini_data_set/time_20230811_160000.nc: Operation not supported\n",
      "getfattr: /home/jupyter/data/model_data/mini_data_set/time_20230807_100000.nc: Operation not supported\n"
     ]
    },
    {
     "name": "stdout",
     "output_type": "stream",
     "text": [
      "16/25 [==================>...........] - ETA: 7s - loss: 4.6183"
     ]
    },
    {
     "name": "stderr",
     "output_type": "stream",
     "text": [
      "getfattr: /home/jupyter/data/model_data/mini_data_set/time_20230811_130000.nc: Operation not supported\n",
      "getfattr: /home/jupyter/data/model_data/mini_data_set/time_20230805_120000.nc: Operation not supported\n",
      "getfattr: /home/jupyter/data/model_data/mini_data_set/time_20230809_110000.nc: Operation not supported\n",
      "getfattr: /home/jupyter/data/model_data/mini_data_set/time_20230805_180000.nc: Operation not supported\n"
     ]
    },
    {
     "name": "stdout",
     "output_type": "stream",
     "text": [
      "17/25 [===================>..........] - ETA: 6s - loss: 4.4635"
     ]
    },
    {
     "name": "stderr",
     "output_type": "stream",
     "text": [
      "getfattr: /home/jupyter/data/model_data/mini_data_set/time_20230802_130000.nc: Operation not supported\n",
      "getfattr: /home/jupyter/data/model_data/mini_data_set/time_20230808_140000.nc: Operation not supported\n",
      "getfattr: /home/jupyter/data/model_data/mini_data_set/time_20230809_090000.nc: Operation not supported\n",
      "getfattr: /home/jupyter/data/model_data/mini_data_set/time_20230806_110000.nc: Operation not supported\n"
     ]
    },
    {
     "name": "stdout",
     "output_type": "stream",
     "text": [
      "18/25 [====================>.........] - ETA: 5s - loss: 4.3282"
     ]
    },
    {
     "name": "stderr",
     "output_type": "stream",
     "text": [
      "getfattr: /home/jupyter/data/model_data/mini_data_set/time_20230805_170000.nc: Operation not supported\n",
      "getfattr: /home/jupyter/data/model_data/mini_data_set/time_20230804_150000.nc: Operation not supported\n",
      "getfattr: /home/jupyter/data/model_data/mini_data_set/time_20230804_120000.nc: Operation not supported\n",
      "getfattr: /home/jupyter/data/model_data/mini_data_set/time_20230816_110000.nc: Operation not supported\n"
     ]
    },
    {
     "name": "stdout",
     "output_type": "stream",
     "text": [
      "19/25 [=====================>........] - ETA: 4s - loss: 4.6196"
     ]
    },
    {
     "name": "stderr",
     "output_type": "stream",
     "text": [
      "getfattr: /home/jupyter/data/model_data/mini_data_set/time_20230809_150000.nc: Operation not supported\n",
      "getfattr: /home/jupyter/data/model_data/mini_data_set/time_20230816_140000.nc: Operation not supported\n",
      "getfattr: /home/jupyter/data/model_data/mini_data_set/time_20230802_120000.nc: Operation not supported\n",
      "getfattr: /home/jupyter/data/model_data/mini_data_set/time_20230806_160000.nc: Operation not supported\n"
     ]
    },
    {
     "name": "stdout",
     "output_type": "stream",
     "text": [
      "20/25 [=======================>......] - ETA: 3s - loss: 4.5539"
     ]
    },
    {
     "name": "stderr",
     "output_type": "stream",
     "text": [
      "getfattr: /home/jupyter/data/model_data/mini_data_set/time_20230809_130000.nc: Operation not supported\n",
      "getfattr: /home/jupyter/data/model_data/mini_data_set/time_20230806_100000.nc: Operation not supported\n",
      "getfattr: /home/jupyter/data/model_data/mini_data_set/time_20230815_120000.nc: Operation not supported\n",
      "getfattr: /home/jupyter/data/model_data/mini_data_set/time_20230804_070000.nc: Operation not supported\n"
     ]
    },
    {
     "name": "stdout",
     "output_type": "stream",
     "text": [
      "21/25 [========================>.....] - ETA: 3s - loss: 4.7716"
     ]
    },
    {
     "name": "stderr",
     "output_type": "stream",
     "text": [
      "getfattr: /home/jupyter/data/model_data/mini_data_set/time_20230808_180000.nc: Operation not supported\n",
      "getfattr: /home/jupyter/data/model_data/mini_data_set/time_20230816_160000.nc: Operation not supported\n",
      "getfattr: /home/jupyter/data/model_data/mini_data_set/time_20230812_160000.nc: Operation not supported\n",
      "getfattr: /home/jupyter/data/model_data/mini_data_set/time_20230806_070000.nc: Operation not supported\n"
     ]
    },
    {
     "name": "stdout",
     "output_type": "stream",
     "text": [
      "22/25 [=========================>....] - ETA: 2s - loss: 4.7653"
     ]
    },
    {
     "name": "stderr",
     "output_type": "stream",
     "text": [
      "getfattr: /home/jupyter/data/model_data/mini_data_set/time_20230812_150000.nc: Operation not supported\n",
      "getfattr: /home/jupyter/data/model_data/mini_data_set/time_20230802_150000.nc: Operation not supported\n",
      "getfattr: /home/jupyter/data/model_data/mini_data_set/time_20230812_140000.nc: Operation not supported\n",
      "getfattr: /home/jupyter/data/model_data/mini_data_set/time_20230809_160000.nc: Operation not supported\n"
     ]
    },
    {
     "name": "stdout",
     "output_type": "stream",
     "text": [
      "23/25 [==========================>...] - ETA: 1s - loss: 4.6965"
     ]
    },
    {
     "name": "stderr",
     "output_type": "stream",
     "text": [
      "getfattr: /home/jupyter/data/model_data/mini_data_set/time_20230816_070000.nc: Operation not supported\n",
      "getfattr: /home/jupyter/data/model_data/mini_data_set/time_20230815_160000.nc: Operation not supported\n",
      "getfattr: /home/jupyter/data/model_data/mini_data_set/time_20230806_090000.nc: Operation not supported\n",
      "getfattr: /home/jupyter/data/model_data/mini_data_set/time_20230805_150000.nc: Operation not supported\n"
     ]
    },
    {
     "name": "stdout",
     "output_type": "stream",
     "text": [
      "25/25 [==============================] - ETA: 0s - loss: 5.0459"
     ]
    },
    {
     "name": "stderr",
     "output_type": "stream",
     "text": [
      "getfattr: /home/jupyter/data/model_data/mini_data_set/time_20230807_160000.nc: Operation not supported\n",
      "getfattr: /home/jupyter/data/model_data/mini_data_set/time_20230804_130000.nc: Operation not supported\n",
      "getfattr: /home/jupyter/data/model_data/mini_data_set/time_20230809_070000.nc: Operation not supported\n",
      "getfattr: /home/jupyter/data/model_data/mini_data_set/time_20230805_160000.nc: Operation not supported\n",
      "getfattr: /home/jupyter/data/model_data/mini_data_set/time_20230811_090000.nc: Operation not supported\n",
      "getfattr: /home/jupyter/data/model_data/mini_data_set/time_20230806_150000.nc: Operation not supported\n",
      "getfattr: /home/jupyter/data/model_data/mini_data_set/time_20230802_100000.nc: Operation not supported\n",
      "getfattr: /home/jupyter/data/model_data/mini_data_set/time_20230812_120000.nc: Operation not supported\n",
      "getfattr: /home/jupyter/data/model_data/mini_data_set/time_20230808_170000.nc: Operation not supported\n",
      "getfattr: /home/jupyter/data/model_data/mini_data_set/time_20230811_170000.nc: Operation not supported\n",
      "getfattr: /home/jupyter/data/model_data/mini_data_set/time_20230806_080000.nc: Operation not supported\n",
      "getfattr: /home/jupyter/data/model_data/mini_data_set/time_20230806_170000.nc: Operation not supported\n",
      "getfattr: /home/jupyter/data/model_data/mini_data_set/time_20230809_130000.nc: Operation not supported\n",
      "getfattr: /home/jupyter/data/model_data/mini_data_set/time_20230806_100000.nc: Operation not supported\n",
      "getfattr: /home/jupyter/data/model_data/mini_data_set/time_20230815_120000.nc: Operation not supported\n",
      "getfattr: /home/jupyter/data/model_data/mini_data_set/time_20230804_070000.nc: Operation not supported\n",
      "getfattr: /home/jupyter/data/model_data/mini_data_set/time_20230808_180000.nc: Operation not supported\n",
      "getfattr: /home/jupyter/data/model_data/mini_data_set/time_20230816_160000.nc: Operation not supported\n",
      "getfattr: /home/jupyter/data/model_data/mini_data_set/time_20230812_160000.nc: Operation not supported\n",
      "getfattr: /home/jupyter/data/model_data/mini_data_set/time_20230806_070000.nc: Operation not supported\n",
      "getfattr: /home/jupyter/data/model_data/mini_data_set/time_20230804_170000.nc: Operation not supported\n",
      "getfattr: /home/jupyter/data/model_data/mini_data_set/time_20230811_070000.nc: Operation not supported\n",
      "getfattr: /home/jupyter/data/model_data/mini_data_set/time_20230805_080000.nc: Operation not supported\n",
      "getfattr: /home/jupyter/data/model_data/mini_data_set/time_20230807_110000.nc: Operation not supported\n",
      "getfattr: /home/jupyter/data/model_data/mini_data_set/time_20230806_140000.nc: Operation not supported\n",
      "getfattr: /home/jupyter/data/model_data/mini_data_set/time_20230811_080000.nc: Operation not supported\n",
      "getfattr: /home/jupyter/data/model_data/mini_data_set/time_20230816_090000.nc: Operation not supported\n",
      "getfattr: /home/jupyter/data/model_data/mini_data_set/time_20230808_160000.nc: Operation not supported\n",
      "getfattr: /home/jupyter/data/model_data/mini_data_set/time_20230816_150000.nc: Operation not supported\n",
      "getfattr: /home/jupyter/data/model_data/mini_data_set/time_20230807_130000.nc: Operation not supported\n",
      "getfattr: /home/jupyter/data/model_data/mini_data_set/time_20230815_170000.nc: Operation not supported\n",
      "getfattr: /home/jupyter/data/model_data/mini_data_set/time_20230811_110000.nc: Operation not supported\n",
      "getfattr: /home/jupyter/data/model_data/mini_data_set/time_20230809_140000.nc: Operation not supported\n",
      "getfattr: /home/jupyter/data/model_data/mini_data_set/time_20230809_080000.nc: Operation not supported\n",
      "getfattr: /home/jupyter/data/model_data/mini_data_set/time_20230811_180000.nc: Operation not supported\n",
      "getfattr: /home/jupyter/data/model_data/mini_data_set/time_20230812_070000.nc: Operation not supported\n",
      "getfattr: /home/jupyter/data/model_data/mini_data_set/time_20230815_180000.nc: Operation not supported\n",
      "getfattr: /home/jupyter/data/model_data/mini_data_set/time_20230807_150000.nc: Operation not supported\n",
      "getfattr: /home/jupyter/data/model_data/mini_data_set/time_20230804_100000.nc: Operation not supported\n",
      "getfattr: /home/jupyter/data/model_data/mini_data_set/time_20230807_170000.nc: Operation not supported\n",
      "getfattr: /home/jupyter/data/model_data/mini_data_set/time_20230812_150000.nc: Operation not supported\n",
      "getfattr: /home/jupyter/data/model_data/mini_data_set/time_20230802_150000.nc: Operation not supported\n",
      "getfattr: /home/jupyter/data/model_data/mini_data_set/time_20230812_140000.nc: Operation not supported\n",
      "getfattr: /home/jupyter/data/model_data/mini_data_set/time_20230809_160000.nc: Operation not supported\n",
      "getfattr: /home/jupyter/data/model_data/mini_data_set/time_20230802_130000.nc: Operation not supported\n",
      "getfattr: /home/jupyter/data/model_data/mini_data_set/time_20230808_140000.nc: Operation not supported\n",
      "getfattr: /home/jupyter/data/model_data/mini_data_set/time_20230809_090000.nc: Operation not supported\n",
      "getfattr: /home/jupyter/data/model_data/mini_data_set/time_20230806_110000.nc: Operation not supported\n",
      "getfattr: /home/jupyter/data/model_data/mini_data_set/time_20230807_090000.nc: Operation not supported\n",
      "getfattr: /home/jupyter/data/model_data/mini_data_set/time_20230805_100000.nc: Operation not supported\n",
      "getfattr: /home/jupyter/data/model_data/mini_data_set/time_20230816_100000.nc: Operation not supported\n",
      "getfattr: /home/jupyter/data/model_data/mini_data_set/time_20230812_080000.nc: Operation not supported\n",
      "getfattr: /home/jupyter/data/model_data/mini_data_set/time_20230812_180000.nc: Operation not supported\n",
      "getfattr: /home/jupyter/data/model_data/mini_data_set/time_20230812_130000.nc: Operation not supported\n",
      "getfattr: /home/jupyter/data/model_data/mini_data_set/time_20230802_110000.nc: Operation not supported\n",
      "getfattr: /home/jupyter/data/model_data/mini_data_set/time_20230809_100000.nc: Operation not supported\n",
      "getfattr: /home/jupyter/data/model_data/mini_data_set/time_20230802_140000.nc: Operation not supported\n",
      "getfattr: /home/jupyter/data/model_data/mini_data_set/time_20230808_150000.nc: Operation not supported\n",
      "getfattr: /home/jupyter/data/model_data/mini_data_set/time_20230811_150000.nc: Operation not supported\n",
      "getfattr: /home/jupyter/data/model_data/mini_data_set/time_20230809_180000.nc: Operation not supported\n",
      "getfattr: /home/jupyter/data/model_data/mini_data_set/time_20230806_120000.nc: Operation not supported\n",
      "getfattr: /home/jupyter/data/model_data/mini_data_set/time_20230804_080000.nc: Operation not supported\n",
      "getfattr: /home/jupyter/data/model_data/mini_data_set/time_20230807_140000.nc: Operation not supported\n",
      "getfattr: /home/jupyter/data/model_data/mini_data_set/time_20230804_160000.nc: Operation not supported\n",
      "getfattr: /home/jupyter/data/model_data/mini_data_set/time_20230807_070000.nc: Operation not supported\n",
      "getfattr: /home/jupyter/data/model_data/mini_data_set/time_20230804_090000.nc: Operation not supported\n",
      "getfattr: /home/jupyter/data/model_data/mini_data_set/time_20230811_140000.nc: Operation not supported\n",
      "getfattr: /home/jupyter/data/model_data/mini_data_set/time_20230807_180000.nc: Operation not supported\n",
      "getfattr: /home/jupyter/data/model_data/mini_data_set/time_20230805_070000.nc: Operation not supported\n",
      "getfattr: /home/jupyter/data/model_data/mini_data_set/time_20230804_180000.nc: Operation not supported\n",
      "getfattr: /home/jupyter/data/model_data/mini_data_set/time_20230805_090000.nc: Operation not supported\n",
      "getfattr: /home/jupyter/data/model_data/mini_data_set/time_20230811_100000.nc: Operation not supported\n",
      "getfattr: /home/jupyter/data/model_data/mini_data_set/time_20230811_130000.nc: Operation not supported\n",
      "getfattr: /home/jupyter/data/model_data/mini_data_set/time_20230805_120000.nc: Operation not supported\n",
      "getfattr: /home/jupyter/data/model_data/mini_data_set/time_20230809_110000.nc: Operation not supported\n",
      "getfattr: /home/jupyter/data/model_data/mini_data_set/time_20230805_180000.nc: Operation not supported\n",
      "getfattr: /home/jupyter/data/model_data/mini_data_set/time_20230809_150000.nc: Operation not supported\n",
      "getfattr: /home/jupyter/data/model_data/mini_data_set/time_20230816_140000.nc: Operation not supported\n",
      "getfattr: /home/jupyter/data/model_data/mini_data_set/time_20230802_120000.nc: Operation not supported\n",
      "getfattr: /home/jupyter/data/model_data/mini_data_set/time_20230806_160000.nc: Operation not supported\n",
      "getfattr: /home/jupyter/data/model_data/mini_data_set/time_20230805_170000.nc: Operation not supported\n",
      "getfattr: /home/jupyter/data/model_data/mini_data_set/time_20230804_150000.nc: Operation not supported\n",
      "getfattr: /home/jupyter/data/model_data/mini_data_set/time_20230804_120000.nc: Operation not supported\n",
      "getfattr: /home/jupyter/data/model_data/mini_data_set/time_20230816_110000.nc: Operation not supported\n",
      "getfattr: /home/jupyter/data/model_data/mini_data_set/time_20230806_180000.nc: Operation not supported\n",
      "getfattr: /home/jupyter/data/model_data/mini_data_set/time_20230805_140000.nc: Operation not supported\n",
      "getfattr: /home/jupyter/data/model_data/mini_data_set/time_20230811_160000.nc: Operation not supported\n",
      "getfattr: /home/jupyter/data/model_data/mini_data_set/time_20230807_100000.nc: Operation not supported\n",
      "getfattr: /home/jupyter/data/model_data/mini_data_set/time_20230804_140000.nc: Operation not supported\n",
      "getfattr: /home/jupyter/data/model_data/mini_data_set/time_20230809_170000.nc: Operation not supported\n",
      "getfattr: /home/jupyter/data/model_data/mini_data_set/time_20230816_080000.nc: Operation not supported\n",
      "getfattr: /home/jupyter/data/model_data/mini_data_set/time_20230816_040000.nc: Operation not supported\n",
      "getfattr: /home/jupyter/data/model_data/mini_data_set/time_20230815_150000.nc: Operation not supported\n",
      "getfattr: /home/jupyter/data/model_data/mini_data_set/time_20230805_110000.nc: Operation not supported\n",
      "getfattr: /home/jupyter/data/model_data/mini_data_set/time_20230807_080000.nc: Operation not supported\n",
      "getfattr: /home/jupyter/data/model_data/mini_data_set/time_20230812_170000.nc: Operation not supported\n",
      "getfattr: /home/jupyter/data/model_data/mini_data_set/time_20230816_070000.nc: Operation not supported\n",
      "getfattr: /home/jupyter/data/model_data/mini_data_set/time_20230815_160000.nc: Operation not supported\n",
      "getfattr: /home/jupyter/data/model_data/mini_data_set/time_20230806_090000.nc: Operation not supported\n",
      "getfattr: /home/jupyter/data/model_data/mini_data_set/time_20230805_150000.nc: Operation not supported\n"
     ]
    },
    {
     "name": "stdout",
     "output_type": "stream",
     "text": [
      "25/25 [==============================] - 41s 2s/step - loss: 5.0459 - val_loss: 17.2309\n"
     ]
    },
    {
     "name": "stderr",
     "output_type": "stream",
     "text": [
      "getfattr: /home/jupyter/data/model_data/mini_data_set/time_20230807_160000.nc: Operation not supported\n",
      "getfattr: /home/jupyter/data/model_data/mini_data_set/time_20230804_130000.nc: Operation not supported\n",
      "getfattr: /home/jupyter/data/model_data/mini_data_set/time_20230809_070000.nc: Operation not supported\n",
      "getfattr: /home/jupyter/data/model_data/mini_data_set/time_20230805_160000.nc: Operation not supported\n"
     ]
    },
    {
     "name": "stdout",
     "output_type": "stream",
     "text": [
      "1/1 [==============================] - 0s 194ms/step\n"
     ]
    },
    {
     "name": "stderr",
     "output_type": "stream",
     "text": [
      "getfattr: /home/jupyter/data/model_data/mini_data_set/time_20230811_090000.nc: Operation not supported\n",
      "getfattr: /home/jupyter/data/model_data/mini_data_set/time_20230806_150000.nc: Operation not supported\n",
      "getfattr: /home/jupyter/data/model_data/mini_data_set/time_20230802_100000.nc: Operation not supported\n",
      "getfattr: /home/jupyter/data/model_data/mini_data_set/time_20230812_120000.nc: Operation not supported\n"
     ]
    },
    {
     "name": "stdout",
     "output_type": "stream",
     "text": [
      "1/1 [==============================] - 0s 149ms/step\n"
     ]
    },
    {
     "name": "stderr",
     "output_type": "stream",
     "text": [
      "getfattr: /home/jupyter/data/model_data/mini_data_set/time_20230808_170000.nc: Operation not supported\n",
      "getfattr: /home/jupyter/data/model_data/mini_data_set/time_20230811_170000.nc: Operation not supported\n",
      "getfattr: /home/jupyter/data/model_data/mini_data_set/time_20230806_080000.nc: Operation not supported\n",
      "getfattr: /home/jupyter/data/model_data/mini_data_set/time_20230806_170000.nc: Operation not supported\n"
     ]
    },
    {
     "name": "stdout",
     "output_type": "stream",
     "text": [
      "1/1 [==============================] - 0s 152ms/step\n"
     ]
    },
    {
     "name": "stderr",
     "output_type": "stream",
     "text": [
      "getfattr: /home/jupyter/data/model_data/mini_data_set/time_20230809_130000.nc: Operation not supported\n",
      "getfattr: /home/jupyter/data/model_data/mini_data_set/time_20230806_100000.nc: Operation not supported\n",
      "getfattr: /home/jupyter/data/model_data/mini_data_set/time_20230815_120000.nc: Operation not supported\n",
      "getfattr: /home/jupyter/data/model_data/mini_data_set/time_20230804_070000.nc: Operation not supported\n"
     ]
    },
    {
     "name": "stdout",
     "output_type": "stream",
     "text": [
      "1/1 [==============================] - 0s 150ms/step\n"
     ]
    },
    {
     "name": "stderr",
     "output_type": "stream",
     "text": [
      "getfattr: /home/jupyter/data/model_data/mini_data_set/time_20230808_180000.nc: Operation not supported\n",
      "getfattr: /home/jupyter/data/model_data/mini_data_set/time_20230816_160000.nc: Operation not supported\n",
      "getfattr: /home/jupyter/data/model_data/mini_data_set/time_20230812_160000.nc: Operation not supported\n",
      "getfattr: /home/jupyter/data/model_data/mini_data_set/time_20230806_070000.nc: Operation not supported\n"
     ]
    },
    {
     "name": "stdout",
     "output_type": "stream",
     "text": [
      "1/1 [==============================] - 0s 149ms/step\n"
     ]
    },
    {
     "name": "stderr",
     "output_type": "stream",
     "text": [
      "getfattr: /home/jupyter/data/model_data/mini_data_set/time_20230804_170000.nc: Operation not supported\n",
      "getfattr: /home/jupyter/data/model_data/mini_data_set/time_20230811_070000.nc: Operation not supported\n",
      "getfattr: /home/jupyter/data/model_data/mini_data_set/time_20230805_080000.nc: Operation not supported\n",
      "getfattr: /home/jupyter/data/model_data/mini_data_set/time_20230807_110000.nc: Operation not supported\n"
     ]
    },
    {
     "name": "stdout",
     "output_type": "stream",
     "text": [
      "1/1 [==============================] - 0s 149ms/step\n"
     ]
    },
    {
     "name": "stderr",
     "output_type": "stream",
     "text": [
      "getfattr: /home/jupyter/data/model_data/mini_data_set/time_20230806_140000.nc: Operation not supported\n",
      "getfattr: /home/jupyter/data/model_data/mini_data_set/time_20230811_080000.nc: Operation not supported\n",
      "getfattr: /home/jupyter/data/model_data/mini_data_set/time_20230816_090000.nc: Operation not supported\n",
      "getfattr: /home/jupyter/data/model_data/mini_data_set/time_20230808_160000.nc: Operation not supported\n"
     ]
    },
    {
     "name": "stdout",
     "output_type": "stream",
     "text": [
      "1/1 [==============================] - 0s 151ms/step\n"
     ]
    },
    {
     "name": "stderr",
     "output_type": "stream",
     "text": [
      "getfattr: /home/jupyter/data/model_data/mini_data_set/time_20230816_150000.nc: Operation not supported\n",
      "getfattr: /home/jupyter/data/model_data/mini_data_set/time_20230807_130000.nc: Operation not supported\n",
      "getfattr: /home/jupyter/data/model_data/mini_data_set/time_20230815_170000.nc: Operation not supported\n",
      "getfattr: /home/jupyter/data/model_data/mini_data_set/time_20230811_110000.nc: Operation not supported\n"
     ]
    },
    {
     "name": "stdout",
     "output_type": "stream",
     "text": [
      "1/1 [==============================] - 0s 150ms/step\n"
     ]
    },
    {
     "name": "stderr",
     "output_type": "stream",
     "text": [
      "getfattr: /home/jupyter/data/model_data/mini_data_set/time_20230809_140000.nc: Operation not supported\n",
      "getfattr: /home/jupyter/data/model_data/mini_data_set/time_20230809_080000.nc: Operation not supported\n",
      "getfattr: /home/jupyter/data/model_data/mini_data_set/time_20230811_180000.nc: Operation not supported\n",
      "getfattr: /home/jupyter/data/model_data/mini_data_set/time_20230812_070000.nc: Operation not supported\n"
     ]
    },
    {
     "name": "stdout",
     "output_type": "stream",
     "text": [
      "1/1 [==============================] - 0s 152ms/step\n"
     ]
    },
    {
     "name": "stderr",
     "output_type": "stream",
     "text": [
      "getfattr: /home/jupyter/data/model_data/mini_data_set/time_20230815_180000.nc: Operation not supported\n",
      "getfattr: /home/jupyter/data/model_data/mini_data_set/time_20230807_150000.nc: Operation not supported\n",
      "getfattr: /home/jupyter/data/model_data/mini_data_set/time_20230804_100000.nc: Operation not supported\n",
      "getfattr: /home/jupyter/data/model_data/mini_data_set/time_20230807_170000.nc: Operation not supported\n"
     ]
    },
    {
     "name": "stdout",
     "output_type": "stream",
     "text": [
      "1/1 [==============================] - 0s 149ms/step\n"
     ]
    },
    {
     "name": "stderr",
     "output_type": "stream",
     "text": [
      "getfattr: /home/jupyter/data/model_data/mini_data_set/time_20230812_150000.nc: Operation not supported\n",
      "getfattr: /home/jupyter/data/model_data/mini_data_set/time_20230802_150000.nc: Operation not supported\n",
      "getfattr: /home/jupyter/data/model_data/mini_data_set/time_20230812_140000.nc: Operation not supported\n",
      "getfattr: /home/jupyter/data/model_data/mini_data_set/time_20230809_160000.nc: Operation not supported\n"
     ]
    },
    {
     "name": "stdout",
     "output_type": "stream",
     "text": [
      "1/1 [==============================] - 0s 149ms/step\n"
     ]
    },
    {
     "name": "stderr",
     "output_type": "stream",
     "text": [
      "getfattr: /home/jupyter/data/model_data/mini_data_set/time_20230802_130000.nc: Operation not supported\n",
      "getfattr: /home/jupyter/data/model_data/mini_data_set/time_20230808_140000.nc: Operation not supported\n",
      "getfattr: /home/jupyter/data/model_data/mini_data_set/time_20230809_090000.nc: Operation not supported\n",
      "getfattr: /home/jupyter/data/model_data/mini_data_set/time_20230806_110000.nc: Operation not supported\n"
     ]
    },
    {
     "name": "stdout",
     "output_type": "stream",
     "text": [
      "1/1 [==============================] - 0s 151ms/step\n"
     ]
    },
    {
     "name": "stderr",
     "output_type": "stream",
     "text": [
      "getfattr: /home/jupyter/data/model_data/mini_data_set/time_20230807_090000.nc: Operation not supported\n",
      "getfattr: /home/jupyter/data/model_data/mini_data_set/time_20230805_100000.nc: Operation not supported\n",
      "getfattr: /home/jupyter/data/model_data/mini_data_set/time_20230816_100000.nc: Operation not supported\n",
      "getfattr: /home/jupyter/data/model_data/mini_data_set/time_20230812_080000.nc: Operation not supported\n"
     ]
    },
    {
     "name": "stdout",
     "output_type": "stream",
     "text": [
      "1/1 [==============================] - 0s 152ms/step\n"
     ]
    },
    {
     "name": "stderr",
     "output_type": "stream",
     "text": [
      "getfattr: /home/jupyter/data/model_data/mini_data_set/time_20230812_180000.nc: Operation not supported\n",
      "getfattr: /home/jupyter/data/model_data/mini_data_set/time_20230812_130000.nc: Operation not supported\n",
      "getfattr: /home/jupyter/data/model_data/mini_data_set/time_20230802_110000.nc: Operation not supported\n",
      "getfattr: /home/jupyter/data/model_data/mini_data_set/time_20230809_100000.nc: Operation not supported\n"
     ]
    },
    {
     "name": "stdout",
     "output_type": "stream",
     "text": [
      "1/1 [==============================] - 0s 151ms/step\n"
     ]
    },
    {
     "name": "stderr",
     "output_type": "stream",
     "text": [
      "getfattr: /home/jupyter/data/model_data/mini_data_set/time_20230802_140000.nc: Operation not supported\n",
      "getfattr: /home/jupyter/data/model_data/mini_data_set/time_20230808_150000.nc: Operation not supported\n",
      "getfattr: /home/jupyter/data/model_data/mini_data_set/time_20230811_150000.nc: Operation not supported\n",
      "getfattr: /home/jupyter/data/model_data/mini_data_set/time_20230809_180000.nc: Operation not supported\n"
     ]
    },
    {
     "name": "stdout",
     "output_type": "stream",
     "text": [
      "1/1 [==============================] - 0s 150ms/step\n"
     ]
    },
    {
     "name": "stderr",
     "output_type": "stream",
     "text": [
      "getfattr: /home/jupyter/data/model_data/mini_data_set/time_20230806_120000.nc: Operation not supported\n",
      "getfattr: /home/jupyter/data/model_data/mini_data_set/time_20230804_080000.nc: Operation not supported\n",
      "getfattr: /home/jupyter/data/model_data/mini_data_set/time_20230807_140000.nc: Operation not supported\n",
      "getfattr: /home/jupyter/data/model_data/mini_data_set/time_20230804_160000.nc: Operation not supported\n"
     ]
    },
    {
     "name": "stdout",
     "output_type": "stream",
     "text": [
      "1/1 [==============================] - 0s 150ms/step\n"
     ]
    },
    {
     "name": "stderr",
     "output_type": "stream",
     "text": [
      "getfattr: /home/jupyter/data/model_data/mini_data_set/time_20230807_070000.nc: Operation not supported\n",
      "getfattr: /home/jupyter/data/model_data/mini_data_set/time_20230804_090000.nc: Operation not supported\n",
      "getfattr: /home/jupyter/data/model_data/mini_data_set/time_20230811_140000.nc: Operation not supported\n",
      "getfattr: /home/jupyter/data/model_data/mini_data_set/time_20230807_180000.nc: Operation not supported\n"
     ]
    },
    {
     "name": "stdout",
     "output_type": "stream",
     "text": [
      "1/1 [==============================] - 0s 150ms/step\n"
     ]
    },
    {
     "name": "stderr",
     "output_type": "stream",
     "text": [
      "getfattr: /home/jupyter/data/model_data/mini_data_set/time_20230805_070000.nc: Operation not supported\n",
      "getfattr: /home/jupyter/data/model_data/mini_data_set/time_20230804_180000.nc: Operation not supported\n",
      "getfattr: /home/jupyter/data/model_data/mini_data_set/time_20230805_090000.nc: Operation not supported\n",
      "getfattr: /home/jupyter/data/model_data/mini_data_set/time_20230811_100000.nc: Operation not supported\n"
     ]
    },
    {
     "name": "stdout",
     "output_type": "stream",
     "text": [
      "1/1 [==============================] - 0s 151ms/step\n"
     ]
    },
    {
     "name": "stderr",
     "output_type": "stream",
     "text": [
      "getfattr: /home/jupyter/data/model_data/mini_data_set/time_20230811_130000.nc: Operation not supported\n",
      "getfattr: /home/jupyter/data/model_data/mini_data_set/time_20230805_120000.nc: Operation not supported\n",
      "getfattr: /home/jupyter/data/model_data/mini_data_set/time_20230809_110000.nc: Operation not supported\n",
      "getfattr: /home/jupyter/data/model_data/mini_data_set/time_20230805_180000.nc: Operation not supported\n"
     ]
    },
    {
     "name": "stdout",
     "output_type": "stream",
     "text": [
      "1/1 [==============================] - 0s 151ms/step\n"
     ]
    },
    {
     "name": "stderr",
     "output_type": "stream",
     "text": [
      "getfattr: /home/jupyter/data/model_data/mini_data_set/time_20230809_150000.nc: Operation not supported\n",
      "getfattr: /home/jupyter/data/model_data/mini_data_set/time_20230816_140000.nc: Operation not supported\n",
      "getfattr: /home/jupyter/data/model_data/mini_data_set/time_20230802_120000.nc: Operation not supported\n",
      "getfattr: /home/jupyter/data/model_data/mini_data_set/time_20230806_160000.nc: Operation not supported\n"
     ]
    },
    {
     "name": "stdout",
     "output_type": "stream",
     "text": [
      "1/1 [==============================] - 0s 151ms/step\n"
     ]
    },
    {
     "name": "stderr",
     "output_type": "stream",
     "text": [
      "getfattr: /home/jupyter/data/model_data/mini_data_set/time_20230805_170000.nc: Operation not supported\n",
      "getfattr: /home/jupyter/data/model_data/mini_data_set/time_20230804_150000.nc: Operation not supported\n",
      "getfattr: /home/jupyter/data/model_data/mini_data_set/time_20230804_120000.nc: Operation not supported\n",
      "getfattr: /home/jupyter/data/model_data/mini_data_set/time_20230816_110000.nc: Operation not supported\n"
     ]
    },
    {
     "name": "stdout",
     "output_type": "stream",
     "text": [
      "1/1 [==============================] - 0s 151ms/step\n"
     ]
    },
    {
     "name": "stderr",
     "output_type": "stream",
     "text": [
      "getfattr: /home/jupyter/data/model_data/mini_data_set/time_20230806_180000.nc: Operation not supported\n",
      "getfattr: /home/jupyter/data/model_data/mini_data_set/time_20230805_140000.nc: Operation not supported\n",
      "getfattr: /home/jupyter/data/model_data/mini_data_set/time_20230811_160000.nc: Operation not supported\n",
      "getfattr: /home/jupyter/data/model_data/mini_data_set/time_20230807_100000.nc: Operation not supported\n"
     ]
    },
    {
     "name": "stdout",
     "output_type": "stream",
     "text": [
      "1/1 [==============================] - 0s 152ms/step\n"
     ]
    },
    {
     "name": "stderr",
     "output_type": "stream",
     "text": [
      "getfattr: /home/jupyter/data/model_data/mini_data_set/time_20230804_140000.nc: Operation not supported\n",
      "getfattr: /home/jupyter/data/model_data/mini_data_set/time_20230809_170000.nc: Operation not supported\n",
      "getfattr: /home/jupyter/data/model_data/mini_data_set/time_20230816_080000.nc: Operation not supported\n",
      "getfattr: /home/jupyter/data/model_data/mini_data_set/time_20230816_040000.nc: Operation not supported\n"
     ]
    },
    {
     "name": "stdout",
     "output_type": "stream",
     "text": [
      "1/1 [==============================] - 0s 151ms/step\n"
     ]
    },
    {
     "name": "stderr",
     "output_type": "stream",
     "text": [
      "getfattr: /home/jupyter/data/model_data/mini_data_set/time_20230815_150000.nc: Operation not supported\n",
      "getfattr: /home/jupyter/data/model_data/mini_data_set/time_20230805_110000.nc: Operation not supported\n",
      "getfattr: /home/jupyter/data/model_data/mini_data_set/time_20230807_080000.nc: Operation not supported\n",
      "getfattr: /home/jupyter/data/model_data/mini_data_set/time_20230812_170000.nc: Operation not supported\n"
     ]
    },
    {
     "name": "stdout",
     "output_type": "stream",
     "text": [
      "1/1 [==============================] - 0s 148ms/step\n"
     ]
    },
    {
     "name": "stderr",
     "output_type": "stream",
     "text": [
      "getfattr: /home/jupyter/data/model_data/mini_data_set/time_20230816_070000.nc: Operation not supported\n",
      "getfattr: /home/jupyter/data/model_data/mini_data_set/time_20230815_160000.nc: Operation not supported\n",
      "getfattr: /home/jupyter/data/model_data/mini_data_set/time_20230806_090000.nc: Operation not supported\n",
      "getfattr: /home/jupyter/data/model_data/mini_data_set/time_20230805_150000.nc: Operation not supported\n"
     ]
    },
    {
     "name": "stdout",
     "output_type": "stream",
     "text": [
      "1/1 [==============================] - 0s 150ms/step\n",
      "Running CV group 3/5\n"
     ]
    },
    {
     "name": "stderr",
     "output_type": "stream",
     "text": [
      "getfattr: /home/jupyter/data/model_data/mini_data_set/time_20230807_160000.nc: Operation not supported\n",
      "getfattr: /home/jupyter/data/model_data/mini_data_set/time_20230804_130000.nc: Operation not supported\n",
      "getfattr: /home/jupyter/data/model_data/mini_data_set/time_20230809_070000.nc: Operation not supported\n",
      "getfattr: /home/jupyter/data/model_data/mini_data_set/time_20230805_160000.nc: Operation not supported\n"
     ]
    },
    {
     "name": "stdout",
     "output_type": "stream",
     "text": [
      "Epoch 1/4\n"
     ]
    },
    {
     "name": "stderr",
     "output_type": "stream",
     "text": [
      "getfattr: /home/jupyter/data/model_data/mini_data_set/time_20230807_090000.nc: Operation not supported\n",
      "getfattr: /home/jupyter/data/model_data/mini_data_set/time_20230805_100000.nc: Operation not supported\n",
      "getfattr: /home/jupyter/data/model_data/mini_data_set/time_20230816_100000.nc: Operation not supported\n",
      "getfattr: /home/jupyter/data/model_data/mini_data_set/time_20230812_080000.nc: Operation not supported\n",
      "getfattr: /home/jupyter/data/model_data/mini_data_set/time_20230809_150000.nc: Operation not supported\n",
      "getfattr: /home/jupyter/data/model_data/mini_data_set/time_20230816_140000.nc: Operation not supported\n",
      "getfattr: /home/jupyter/data/model_data/mini_data_set/time_20230802_120000.nc: Operation not supported\n",
      "getfattr: /home/jupyter/data/model_data/mini_data_set/time_20230806_160000.nc: Operation not supported\n"
     ]
    },
    {
     "name": "stdout",
     "output_type": "stream",
     "text": [
      " 1/25 [>.............................] - ETA: 1:00 - loss: 20.2571"
     ]
    },
    {
     "name": "stderr",
     "output_type": "stream",
     "text": [
      "getfattr: /home/jupyter/data/model_data/mini_data_set/time_20230806_180000.nc: Operation not supported\n",
      "getfattr: /home/jupyter/data/model_data/mini_data_set/time_20230805_140000.nc: Operation not supported\n"
     ]
    },
    {
     "name": "stdout",
     "output_type": "stream",
     "text": [
      " 2/25 [=>............................] - ETA: 14s - loss: 25.9304 "
     ]
    },
    {
     "name": "stderr",
     "output_type": "stream",
     "text": [
      "getfattr: /home/jupyter/data/model_data/mini_data_set/time_20230811_160000.nc: Operation not supported\n",
      "getfattr: /home/jupyter/data/model_data/mini_data_set/time_20230807_100000.nc: Operation not supported\n",
      "getfattr: /home/jupyter/data/model_data/mini_data_set/time_20230804_140000.nc: Operation not supported\n",
      "getfattr: /home/jupyter/data/model_data/mini_data_set/time_20230809_170000.nc: Operation not supported\n",
      "getfattr: /home/jupyter/data/model_data/mini_data_set/time_20230816_080000.nc: Operation not supported\n",
      "getfattr: /home/jupyter/data/model_data/mini_data_set/time_20230816_040000.nc: Operation not supported\n"
     ]
    },
    {
     "name": "stdout",
     "output_type": "stream",
     "text": [
      " 3/25 [==>...........................] - ETA: 18s - loss: 20.0824"
     ]
    },
    {
     "name": "stderr",
     "output_type": "stream",
     "text": [
      "getfattr: /home/jupyter/data/model_data/mini_data_set/time_20230811_090000.nc: Operation not supported\n",
      "getfattr: /home/jupyter/data/model_data/mini_data_set/time_20230806_150000.nc: Operation not supported\n",
      "getfattr: /home/jupyter/data/model_data/mini_data_set/time_20230802_100000.nc: Operation not supported\n",
      "getfattr: /home/jupyter/data/model_data/mini_data_set/time_20230812_120000.nc: Operation not supported\n"
     ]
    },
    {
     "name": "stdout",
     "output_type": "stream",
     "text": [
      " 4/25 [===>..........................] - ETA: 17s - loss: 24.2195"
     ]
    },
    {
     "name": "stderr",
     "output_type": "stream",
     "text": [
      "getfattr: /home/jupyter/data/model_data/mini_data_set/time_20230807_160000.nc: Operation not supported\n",
      "getfattr: /home/jupyter/data/model_data/mini_data_set/time_20230804_130000.nc: Operation not supported\n",
      "getfattr: /home/jupyter/data/model_data/mini_data_set/time_20230809_070000.nc: Operation not supported\n",
      "getfattr: /home/jupyter/data/model_data/mini_data_set/time_20230805_160000.nc: Operation not supported\n"
     ]
    },
    {
     "name": "stdout",
     "output_type": "stream",
     "text": [
      " 5/25 [=====>........................] - ETA: 16s - loss: 22.1552"
     ]
    },
    {
     "name": "stderr",
     "output_type": "stream",
     "text": [
      "getfattr: /home/jupyter/data/model_data/mini_data_set/time_20230815_180000.nc: Operation not supported\n",
      "getfattr: /home/jupyter/data/model_data/mini_data_set/time_20230807_150000.nc: Operation not supported\n",
      "getfattr: /home/jupyter/data/model_data/mini_data_set/time_20230804_100000.nc: Operation not supported\n",
      "getfattr: /home/jupyter/data/model_data/mini_data_set/time_20230807_170000.nc: Operation not supported\n"
     ]
    },
    {
     "name": "stdout",
     "output_type": "stream",
     "text": [
      " 6/25 [======>.......................] - ETA: 15s - loss: 20.2473"
     ]
    },
    {
     "name": "stderr",
     "output_type": "stream",
     "text": [
      "getfattr: /home/jupyter/data/model_data/mini_data_set/time_20230809_140000.nc: Operation not supported\n",
      "getfattr: /home/jupyter/data/model_data/mini_data_set/time_20230809_080000.nc: Operation not supported\n",
      "getfattr: /home/jupyter/data/model_data/mini_data_set/time_20230811_180000.nc: Operation not supported\n",
      "getfattr: /home/jupyter/data/model_data/mini_data_set/time_20230812_070000.nc: Operation not supported\n"
     ]
    },
    {
     "name": "stdout",
     "output_type": "stream",
     "text": [
      " 7/25 [=======>......................] - ETA: 14s - loss: 20.2845"
     ]
    },
    {
     "name": "stderr",
     "output_type": "stream",
     "text": [
      "getfattr: /home/jupyter/data/model_data/mini_data_set/time_20230808_170000.nc: Operation not supported\n",
      "getfattr: /home/jupyter/data/model_data/mini_data_set/time_20230811_170000.nc: Operation not supported\n",
      "getfattr: /home/jupyter/data/model_data/mini_data_set/time_20230806_080000.nc: Operation not supported\n",
      "getfattr: /home/jupyter/data/model_data/mini_data_set/time_20230806_170000.nc: Operation not supported\n"
     ]
    },
    {
     "name": "stdout",
     "output_type": "stream",
     "text": [
      " 8/25 [========>.....................] - ETA: 13s - loss: 18.9409"
     ]
    },
    {
     "name": "stderr",
     "output_type": "stream",
     "text": [
      "getfattr: /home/jupyter/data/model_data/mini_data_set/time_20230815_150000.nc: Operation not supported\n",
      "getfattr: /home/jupyter/data/model_data/mini_data_set/time_20230805_110000.nc: Operation not supported\n",
      "getfattr: /home/jupyter/data/model_data/mini_data_set/time_20230807_080000.nc: Operation not supported\n",
      "getfattr: /home/jupyter/data/model_data/mini_data_set/time_20230812_170000.nc: Operation not supported\n"
     ]
    },
    {
     "name": "stdout",
     "output_type": "stream",
     "text": [
      " 9/25 [=========>....................] - ETA: 12s - loss: 17.8446"
     ]
    },
    {
     "name": "stderr",
     "output_type": "stream",
     "text": [
      "getfattr: /home/jupyter/data/model_data/mini_data_set/time_20230812_180000.nc: Operation not supported\n",
      "getfattr: /home/jupyter/data/model_data/mini_data_set/time_20230812_130000.nc: Operation not supported\n",
      "getfattr: /home/jupyter/data/model_data/mini_data_set/time_20230802_110000.nc: Operation not supported\n",
      "getfattr: /home/jupyter/data/model_data/mini_data_set/time_20230809_100000.nc: Operation not supported\n"
     ]
    },
    {
     "name": "stdout",
     "output_type": "stream",
     "text": [
      "10/25 [===========>..................] - ETA: 11s - loss: 17.0029"
     ]
    },
    {
     "name": "stderr",
     "output_type": "stream",
     "text": [
      "getfattr: /home/jupyter/data/model_data/mini_data_set/time_20230805_070000.nc: Operation not supported\n",
      "getfattr: /home/jupyter/data/model_data/mini_data_set/time_20230804_180000.nc: Operation not supported\n",
      "getfattr: /home/jupyter/data/model_data/mini_data_set/time_20230805_090000.nc: Operation not supported\n",
      "getfattr: /home/jupyter/data/model_data/mini_data_set/time_20230811_100000.nc: Operation not supported\n"
     ]
    },
    {
     "name": "stdout",
     "output_type": "stream",
     "text": [
      "11/25 [============>.................] - ETA: 10s - loss: 16.9752"
     ]
    },
    {
     "name": "stderr",
     "output_type": "stream",
     "text": [
      "getfattr: /home/jupyter/data/model_data/mini_data_set/time_20230816_150000.nc: Operation not supported\n",
      "getfattr: /home/jupyter/data/model_data/mini_data_set/time_20230807_130000.nc: Operation not supported\n",
      "getfattr: /home/jupyter/data/model_data/mini_data_set/time_20230815_170000.nc: Operation not supported\n",
      "getfattr: /home/jupyter/data/model_data/mini_data_set/time_20230811_110000.nc: Operation not supported\n"
     ]
    },
    {
     "name": "stdout",
     "output_type": "stream",
     "text": [
      "12/25 [=============>................] - ETA: 10s - loss: 16.0297"
     ]
    },
    {
     "name": "stderr",
     "output_type": "stream",
     "text": [
      "getfattr: /home/jupyter/data/model_data/mini_data_set/time_20230804_170000.nc: Operation not supported\n",
      "getfattr: /home/jupyter/data/model_data/mini_data_set/time_20230811_070000.nc: Operation not supported\n",
      "getfattr: /home/jupyter/data/model_data/mini_data_set/time_20230805_080000.nc: Operation not supported\n",
      "getfattr: /home/jupyter/data/model_data/mini_data_set/time_20230807_110000.nc: Operation not supported\n"
     ]
    },
    {
     "name": "stdout",
     "output_type": "stream",
     "text": [
      "13/25 [==============>...............] - ETA: 9s - loss: 16.0849 "
     ]
    },
    {
     "name": "stderr",
     "output_type": "stream",
     "text": [
      "getfattr: /home/jupyter/data/model_data/mini_data_set/time_20230809_130000.nc: Operation not supported\n",
      "getfattr: /home/jupyter/data/model_data/mini_data_set/time_20230806_100000.nc: Operation not supported\n",
      "getfattr: /home/jupyter/data/model_data/mini_data_set/time_20230815_120000.nc: Operation not supported\n",
      "getfattr: /home/jupyter/data/model_data/mini_data_set/time_20230804_070000.nc: Operation not supported\n"
     ]
    },
    {
     "name": "stdout",
     "output_type": "stream",
     "text": [
      "14/25 [===============>..............] - ETA: 8s - loss: 15.3393"
     ]
    },
    {
     "name": "stderr",
     "output_type": "stream",
     "text": [
      "getfattr: /home/jupyter/data/model_data/mini_data_set/time_20230802_140000.nc: Operation not supported\n",
      "getfattr: /home/jupyter/data/model_data/mini_data_set/time_20230808_150000.nc: Operation not supported\n",
      "getfattr: /home/jupyter/data/model_data/mini_data_set/time_20230811_150000.nc: Operation not supported\n",
      "getfattr: /home/jupyter/data/model_data/mini_data_set/time_20230809_180000.nc: Operation not supported\n"
     ]
    },
    {
     "name": "stdout",
     "output_type": "stream",
     "text": [
      "15/25 [=================>............] - ETA: 7s - loss: 14.8363"
     ]
    },
    {
     "name": "stderr",
     "output_type": "stream",
     "text": [
      "getfattr: /home/jupyter/data/model_data/mini_data_set/time_20230806_120000.nc: Operation not supported\n",
      "getfattr: /home/jupyter/data/model_data/mini_data_set/time_20230804_080000.nc: Operation not supported\n",
      "getfattr: /home/jupyter/data/model_data/mini_data_set/time_20230807_140000.nc: Operation not supported\n",
      "getfattr: /home/jupyter/data/model_data/mini_data_set/time_20230804_160000.nc: Operation not supported\n"
     ]
    },
    {
     "name": "stdout",
     "output_type": "stream",
     "text": [
      "16/25 [==================>...........] - ETA: 6s - loss: 14.6642"
     ]
    },
    {
     "name": "stderr",
     "output_type": "stream",
     "text": [
      "getfattr: /home/jupyter/data/model_data/mini_data_set/time_20230812_150000.nc: Operation not supported\n",
      "getfattr: /home/jupyter/data/model_data/mini_data_set/time_20230802_150000.nc: Operation not supported\n",
      "getfattr: /home/jupyter/data/model_data/mini_data_set/time_20230812_140000.nc: Operation not supported\n",
      "getfattr: /home/jupyter/data/model_data/mini_data_set/time_20230809_160000.nc: Operation not supported\n"
     ]
    },
    {
     "name": "stdout",
     "output_type": "stream",
     "text": [
      "17/25 [===================>..........] - ETA: 6s - loss: 14.3805"
     ]
    },
    {
     "name": "stderr",
     "output_type": "stream",
     "text": [
      "getfattr: /home/jupyter/data/model_data/mini_data_set/time_20230806_140000.nc: Operation not supported\n",
      "getfattr: /home/jupyter/data/model_data/mini_data_set/time_20230811_080000.nc: Operation not supported\n",
      "getfattr: /home/jupyter/data/model_data/mini_data_set/time_20230816_090000.nc: Operation not supported\n",
      "getfattr: /home/jupyter/data/model_data/mini_data_set/time_20230808_160000.nc: Operation not supported\n"
     ]
    },
    {
     "name": "stdout",
     "output_type": "stream",
     "text": [
      "18/25 [====================>.........] - ETA: 5s - loss: 14.1433"
     ]
    },
    {
     "name": "stderr",
     "output_type": "stream",
     "text": [
      "getfattr: /home/jupyter/data/model_data/mini_data_set/time_20230805_170000.nc: Operation not supported\n",
      "getfattr: /home/jupyter/data/model_data/mini_data_set/time_20230804_150000.nc: Operation not supported\n",
      "getfattr: /home/jupyter/data/model_data/mini_data_set/time_20230804_120000.nc: Operation not supported\n",
      "getfattr: /home/jupyter/data/model_data/mini_data_set/time_20230816_110000.nc: Operation not supported\n"
     ]
    },
    {
     "name": "stdout",
     "output_type": "stream",
     "text": [
      "19/25 [=====================>........] - ETA: 4s - loss: 13.8292"
     ]
    },
    {
     "name": "stderr",
     "output_type": "stream",
     "text": [
      "getfattr: /home/jupyter/data/model_data/mini_data_set/time_20230816_070000.nc: Operation not supported\n",
      "getfattr: /home/jupyter/data/model_data/mini_data_set/time_20230815_160000.nc: Operation not supported\n",
      "getfattr: /home/jupyter/data/model_data/mini_data_set/time_20230806_090000.nc: Operation not supported\n",
      "getfattr: /home/jupyter/data/model_data/mini_data_set/time_20230805_150000.nc: Operation not supported\n"
     ]
    },
    {
     "name": "stdout",
     "output_type": "stream",
     "text": [
      "20/25 [=======================>......] - ETA: 3s - loss: 13.6379"
     ]
    },
    {
     "name": "stderr",
     "output_type": "stream",
     "text": [
      "getfattr: /home/jupyter/data/model_data/mini_data_set/time_20230808_180000.nc: Operation not supported\n",
      "getfattr: /home/jupyter/data/model_data/mini_data_set/time_20230816_160000.nc: Operation not supported\n",
      "getfattr: /home/jupyter/data/model_data/mini_data_set/time_20230812_160000.nc: Operation not supported\n",
      "getfattr: /home/jupyter/data/model_data/mini_data_set/time_20230806_070000.nc: Operation not supported\n"
     ]
    },
    {
     "name": "stdout",
     "output_type": "stream",
     "text": [
      "21/25 [========================>.....] - ETA: 3s - loss: 13.5842"
     ]
    },
    {
     "name": "stderr",
     "output_type": "stream",
     "text": [
      "getfattr: /home/jupyter/data/model_data/mini_data_set/time_20230807_070000.nc: Operation not supported\n",
      "getfattr: /home/jupyter/data/model_data/mini_data_set/time_20230804_090000.nc: Operation not supported\n",
      "getfattr: /home/jupyter/data/model_data/mini_data_set/time_20230811_140000.nc: Operation not supported\n",
      "getfattr: /home/jupyter/data/model_data/mini_data_set/time_20230807_180000.nc: Operation not supported\n"
     ]
    },
    {
     "name": "stdout",
     "output_type": "stream",
     "text": [
      "22/25 [=========================>....] - ETA: 2s - loss: 13.2384"
     ]
    },
    {
     "name": "stderr",
     "output_type": "stream",
     "text": [
      "getfattr: /home/jupyter/data/model_data/mini_data_set/time_20230802_130000.nc: Operation not supported\n",
      "getfattr: /home/jupyter/data/model_data/mini_data_set/time_20230808_140000.nc: Operation not supported\n",
      "getfattr: /home/jupyter/data/model_data/mini_data_set/time_20230809_090000.nc: Operation not supported\n",
      "getfattr: /home/jupyter/data/model_data/mini_data_set/time_20230806_110000.nc: Operation not supported\n"
     ]
    },
    {
     "name": "stdout",
     "output_type": "stream",
     "text": [
      "23/25 [==========================>...] - ETA: 1s - loss: 12.8766"
     ]
    },
    {
     "name": "stderr",
     "output_type": "stream",
     "text": [
      "getfattr: /home/jupyter/data/model_data/mini_data_set/time_20230811_130000.nc: Operation not supported\n",
      "getfattr: /home/jupyter/data/model_data/mini_data_set/time_20230805_120000.nc: Operation not supported\n",
      "getfattr: /home/jupyter/data/model_data/mini_data_set/time_20230809_110000.nc: Operation not supported\n",
      "getfattr: /home/jupyter/data/model_data/mini_data_set/time_20230805_180000.nc: Operation not supported\n"
     ]
    },
    {
     "name": "stdout",
     "output_type": "stream",
     "text": [
      "25/25 [==============================] - ETA: 0s - loss: 12.6953"
     ]
    },
    {
     "name": "stderr",
     "output_type": "stream",
     "text": [
      "getfattr: /home/jupyter/data/model_data/mini_data_set/time_20230807_160000.nc: Operation not supported\n",
      "getfattr: /home/jupyter/data/model_data/mini_data_set/time_20230804_130000.nc: Operation not supported\n",
      "getfattr: /home/jupyter/data/model_data/mini_data_set/time_20230809_070000.nc: Operation not supported\n",
      "getfattr: /home/jupyter/data/model_data/mini_data_set/time_20230805_160000.nc: Operation not supported\n",
      "getfattr: /home/jupyter/data/model_data/mini_data_set/time_20230807_160000.nc: Operation not supported\n",
      "getfattr: /home/jupyter/data/model_data/mini_data_set/time_20230804_130000.nc: Operation not supported\n",
      "getfattr: /home/jupyter/data/model_data/mini_data_set/time_20230809_070000.nc: Operation not supported\n",
      "getfattr: /home/jupyter/data/model_data/mini_data_set/time_20230805_160000.nc: Operation not supported\n",
      "getfattr: /home/jupyter/data/model_data/mini_data_set/time_20230811_090000.nc: Operation not supported\n",
      "getfattr: /home/jupyter/data/model_data/mini_data_set/time_20230806_150000.nc: Operation not supported\n",
      "getfattr: /home/jupyter/data/model_data/mini_data_set/time_20230802_100000.nc: Operation not supported\n",
      "getfattr: /home/jupyter/data/model_data/mini_data_set/time_20230812_120000.nc: Operation not supported\n",
      "getfattr: /home/jupyter/data/model_data/mini_data_set/time_20230808_170000.nc: Operation not supported\n",
      "getfattr: /home/jupyter/data/model_data/mini_data_set/time_20230811_170000.nc: Operation not supported\n",
      "getfattr: /home/jupyter/data/model_data/mini_data_set/time_20230806_080000.nc: Operation not supported\n",
      "getfattr: /home/jupyter/data/model_data/mini_data_set/time_20230806_170000.nc: Operation not supported\n",
      "getfattr: /home/jupyter/data/model_data/mini_data_set/time_20230809_130000.nc: Operation not supported\n",
      "getfattr: /home/jupyter/data/model_data/mini_data_set/time_20230806_100000.nc: Operation not supported\n",
      "getfattr: /home/jupyter/data/model_data/mini_data_set/time_20230815_120000.nc: Operation not supported\n",
      "getfattr: /home/jupyter/data/model_data/mini_data_set/time_20230804_070000.nc: Operation not supported\n",
      "getfattr: /home/jupyter/data/model_data/mini_data_set/time_20230808_180000.nc: Operation not supported\n",
      "getfattr: /home/jupyter/data/model_data/mini_data_set/time_20230816_160000.nc: Operation not supported\n",
      "getfattr: /home/jupyter/data/model_data/mini_data_set/time_20230812_160000.nc: Operation not supported\n",
      "getfattr: /home/jupyter/data/model_data/mini_data_set/time_20230806_070000.nc: Operation not supported\n",
      "getfattr: /home/jupyter/data/model_data/mini_data_set/time_20230804_170000.nc: Operation not supported\n",
      "getfattr: /home/jupyter/data/model_data/mini_data_set/time_20230811_070000.nc: Operation not supported\n",
      "getfattr: /home/jupyter/data/model_data/mini_data_set/time_20230805_080000.nc: Operation not supported\n",
      "getfattr: /home/jupyter/data/model_data/mini_data_set/time_20230807_110000.nc: Operation not supported\n",
      "getfattr: /home/jupyter/data/model_data/mini_data_set/time_20230806_140000.nc: Operation not supported\n",
      "getfattr: /home/jupyter/data/model_data/mini_data_set/time_20230811_080000.nc: Operation not supported\n",
      "getfattr: /home/jupyter/data/model_data/mini_data_set/time_20230816_090000.nc: Operation not supported\n",
      "getfattr: /home/jupyter/data/model_data/mini_data_set/time_20230808_160000.nc: Operation not supported\n",
      "getfattr: /home/jupyter/data/model_data/mini_data_set/time_20230816_150000.nc: Operation not supported\n",
      "getfattr: /home/jupyter/data/model_data/mini_data_set/time_20230807_130000.nc: Operation not supported\n",
      "getfattr: /home/jupyter/data/model_data/mini_data_set/time_20230815_170000.nc: Operation not supported\n",
      "getfattr: /home/jupyter/data/model_data/mini_data_set/time_20230811_110000.nc: Operation not supported\n",
      "getfattr: /home/jupyter/data/model_data/mini_data_set/time_20230809_140000.nc: Operation not supported\n",
      "getfattr: /home/jupyter/data/model_data/mini_data_set/time_20230809_080000.nc: Operation not supported\n",
      "getfattr: /home/jupyter/data/model_data/mini_data_set/time_20230811_180000.nc: Operation not supported\n",
      "getfattr: /home/jupyter/data/model_data/mini_data_set/time_20230812_070000.nc: Operation not supported\n",
      "getfattr: /home/jupyter/data/model_data/mini_data_set/time_20230815_180000.nc: Operation not supported\n",
      "getfattr: /home/jupyter/data/model_data/mini_data_set/time_20230807_150000.nc: Operation not supported\n",
      "getfattr: /home/jupyter/data/model_data/mini_data_set/time_20230804_100000.nc: Operation not supported\n",
      "getfattr: /home/jupyter/data/model_data/mini_data_set/time_20230807_170000.nc: Operation not supported\n",
      "getfattr: /home/jupyter/data/model_data/mini_data_set/time_20230812_150000.nc: Operation not supported\n",
      "getfattr: /home/jupyter/data/model_data/mini_data_set/time_20230802_150000.nc: Operation not supported\n",
      "getfattr: /home/jupyter/data/model_data/mini_data_set/time_20230812_140000.nc: Operation not supported\n",
      "getfattr: /home/jupyter/data/model_data/mini_data_set/time_20230809_160000.nc: Operation not supported\n",
      "getfattr: /home/jupyter/data/model_data/mini_data_set/time_20230802_130000.nc: Operation not supported\n",
      "getfattr: /home/jupyter/data/model_data/mini_data_set/time_20230808_140000.nc: Operation not supported\n",
      "getfattr: /home/jupyter/data/model_data/mini_data_set/time_20230809_090000.nc: Operation not supported\n",
      "getfattr: /home/jupyter/data/model_data/mini_data_set/time_20230806_110000.nc: Operation not supported\n",
      "getfattr: /home/jupyter/data/model_data/mini_data_set/time_20230807_090000.nc: Operation not supported\n",
      "getfattr: /home/jupyter/data/model_data/mini_data_set/time_20230805_100000.nc: Operation not supported\n",
      "getfattr: /home/jupyter/data/model_data/mini_data_set/time_20230816_100000.nc: Operation not supported\n",
      "getfattr: /home/jupyter/data/model_data/mini_data_set/time_20230812_080000.nc: Operation not supported\n",
      "getfattr: /home/jupyter/data/model_data/mini_data_set/time_20230812_180000.nc: Operation not supported\n",
      "getfattr: /home/jupyter/data/model_data/mini_data_set/time_20230812_130000.nc: Operation not supported\n",
      "getfattr: /home/jupyter/data/model_data/mini_data_set/time_20230802_110000.nc: Operation not supported\n",
      "getfattr: /home/jupyter/data/model_data/mini_data_set/time_20230809_100000.nc: Operation not supported\n",
      "getfattr: /home/jupyter/data/model_data/mini_data_set/time_20230802_140000.nc: Operation not supported\n",
      "getfattr: /home/jupyter/data/model_data/mini_data_set/time_20230808_150000.nc: Operation not supported\n",
      "getfattr: /home/jupyter/data/model_data/mini_data_set/time_20230811_150000.nc: Operation not supported\n",
      "getfattr: /home/jupyter/data/model_data/mini_data_set/time_20230809_180000.nc: Operation not supported\n",
      "getfattr: /home/jupyter/data/model_data/mini_data_set/time_20230806_120000.nc: Operation not supported\n",
      "getfattr: /home/jupyter/data/model_data/mini_data_set/time_20230804_080000.nc: Operation not supported\n",
      "getfattr: /home/jupyter/data/model_data/mini_data_set/time_20230807_140000.nc: Operation not supported\n",
      "getfattr: /home/jupyter/data/model_data/mini_data_set/time_20230804_160000.nc: Operation not supported\n",
      "getfattr: /home/jupyter/data/model_data/mini_data_set/time_20230807_070000.nc: Operation not supported\n",
      "getfattr: /home/jupyter/data/model_data/mini_data_set/time_20230804_090000.nc: Operation not supported\n",
      "getfattr: /home/jupyter/data/model_data/mini_data_set/time_20230811_140000.nc: Operation not supported\n",
      "getfattr: /home/jupyter/data/model_data/mini_data_set/time_20230807_180000.nc: Operation not supported\n",
      "getfattr: /home/jupyter/data/model_data/mini_data_set/time_20230805_070000.nc: Operation not supported\n",
      "getfattr: /home/jupyter/data/model_data/mini_data_set/time_20230804_180000.nc: Operation not supported\n",
      "getfattr: /home/jupyter/data/model_data/mini_data_set/time_20230805_090000.nc: Operation not supported\n",
      "getfattr: /home/jupyter/data/model_data/mini_data_set/time_20230811_100000.nc: Operation not supported\n",
      "getfattr: /home/jupyter/data/model_data/mini_data_set/time_20230811_130000.nc: Operation not supported\n",
      "getfattr: /home/jupyter/data/model_data/mini_data_set/time_20230805_120000.nc: Operation not supported\n",
      "getfattr: /home/jupyter/data/model_data/mini_data_set/time_20230809_110000.nc: Operation not supported\n",
      "getfattr: /home/jupyter/data/model_data/mini_data_set/time_20230805_180000.nc: Operation not supported\n",
      "getfattr: /home/jupyter/data/model_data/mini_data_set/time_20230809_150000.nc: Operation not supported\n",
      "getfattr: /home/jupyter/data/model_data/mini_data_set/time_20230816_140000.nc: Operation not supported\n",
      "getfattr: /home/jupyter/data/model_data/mini_data_set/time_20230802_120000.nc: Operation not supported\n",
      "getfattr: /home/jupyter/data/model_data/mini_data_set/time_20230806_160000.nc: Operation not supported\n",
      "getfattr: /home/jupyter/data/model_data/mini_data_set/time_20230805_170000.nc: Operation not supported\n",
      "getfattr: /home/jupyter/data/model_data/mini_data_set/time_20230804_150000.nc: Operation not supported\n",
      "getfattr: /home/jupyter/data/model_data/mini_data_set/time_20230804_120000.nc: Operation not supported\n",
      "getfattr: /home/jupyter/data/model_data/mini_data_set/time_20230816_110000.nc: Operation not supported\n",
      "getfattr: /home/jupyter/data/model_data/mini_data_set/time_20230806_180000.nc: Operation not supported\n",
      "getfattr: /home/jupyter/data/model_data/mini_data_set/time_20230805_140000.nc: Operation not supported\n",
      "getfattr: /home/jupyter/data/model_data/mini_data_set/time_20230811_160000.nc: Operation not supported\n",
      "getfattr: /home/jupyter/data/model_data/mini_data_set/time_20230807_100000.nc: Operation not supported\n",
      "getfattr: /home/jupyter/data/model_data/mini_data_set/time_20230804_140000.nc: Operation not supported\n",
      "getfattr: /home/jupyter/data/model_data/mini_data_set/time_20230809_170000.nc: Operation not supported\n",
      "getfattr: /home/jupyter/data/model_data/mini_data_set/time_20230816_080000.nc: Operation not supported\n",
      "getfattr: /home/jupyter/data/model_data/mini_data_set/time_20230816_040000.nc: Operation not supported\n",
      "getfattr: /home/jupyter/data/model_data/mini_data_set/time_20230815_150000.nc: Operation not supported\n",
      "getfattr: /home/jupyter/data/model_data/mini_data_set/time_20230805_110000.nc: Operation not supported\n",
      "getfattr: /home/jupyter/data/model_data/mini_data_set/time_20230807_080000.nc: Operation not supported\n",
      "getfattr: /home/jupyter/data/model_data/mini_data_set/time_20230812_170000.nc: Operation not supported\n",
      "getfattr: /home/jupyter/data/model_data/mini_data_set/time_20230816_070000.nc: Operation not supported\n",
      "getfattr: /home/jupyter/data/model_data/mini_data_set/time_20230815_160000.nc: Operation not supported\n",
      "getfattr: /home/jupyter/data/model_data/mini_data_set/time_20230806_090000.nc: Operation not supported\n",
      "getfattr: /home/jupyter/data/model_data/mini_data_set/time_20230805_150000.nc: Operation not supported\n"
     ]
    },
    {
     "name": "stdout",
     "output_type": "stream",
     "text": [
      "25/25 [==============================] - 42s 2s/step - loss: 12.6953 - val_loss: 3.8749\n",
      "Epoch 2/4\n"
     ]
    },
    {
     "name": "stderr",
     "output_type": "stream",
     "text": [
      "getfattr: /home/jupyter/data/model_data/mini_data_set/time_20230806_140000.nc: Operation not supported\n",
      "getfattr: /home/jupyter/data/model_data/mini_data_set/time_20230811_080000.nc: Operation not supported\n",
      "getfattr: /home/jupyter/data/model_data/mini_data_set/time_20230816_090000.nc: Operation not supported\n",
      "getfattr: /home/jupyter/data/model_data/mini_data_set/time_20230808_160000.nc: Operation not supported\n",
      "getfattr: /home/jupyter/data/model_data/mini_data_set/time_20230806_180000.nc: Operation not supported\n",
      "getfattr: /home/jupyter/data/model_data/mini_data_set/time_20230805_140000.nc: Operation not supported\n",
      "getfattr: /home/jupyter/data/model_data/mini_data_set/time_20230811_160000.nc: Operation not supported\n",
      "getfattr: /home/jupyter/data/model_data/mini_data_set/time_20230807_100000.nc: Operation not supported\n"
     ]
    },
    {
     "name": "stdout",
     "output_type": "stream",
     "text": [
      " 1/25 [>.............................] - ETA: 33s - loss: 6.1036"
     ]
    },
    {
     "name": "stderr",
     "output_type": "stream",
     "text": [
      "getfattr: /home/jupyter/data/model_data/mini_data_set/time_20230804_170000.nc: Operation not supported\n",
      "getfattr: /home/jupyter/data/model_data/mini_data_set/time_20230811_070000.nc: Operation not supported\n",
      "getfattr: /home/jupyter/data/model_data/mini_data_set/time_20230805_080000.nc: Operation not supported\n",
      "getfattr: /home/jupyter/data/model_data/mini_data_set/time_20230807_110000.nc: Operation not supported\n"
     ]
    },
    {
     "name": "stdout",
     "output_type": "stream",
     "text": [
      " 2/25 [=>............................] - ETA: 17s - loss: 4.5676"
     ]
    },
    {
     "name": "stderr",
     "output_type": "stream",
     "text": [
      "getfattr: /home/jupyter/data/model_data/mini_data_set/time_20230809_140000.nc: Operation not supported\n",
      "getfattr: /home/jupyter/data/model_data/mini_data_set/time_20230809_080000.nc: Operation not supported\n",
      "getfattr: /home/jupyter/data/model_data/mini_data_set/time_20230811_180000.nc: Operation not supported\n",
      "getfattr: /home/jupyter/data/model_data/mini_data_set/time_20230812_070000.nc: Operation not supported\n"
     ]
    },
    {
     "name": "stdout",
     "output_type": "stream",
     "text": [
      " 3/25 [==>...........................] - ETA: 16s - loss: 4.3707"
     ]
    },
    {
     "name": "stderr",
     "output_type": "stream",
     "text": [
      "getfattr: /home/jupyter/data/model_data/mini_data_set/time_20230815_180000.nc: Operation not supported\n",
      "getfattr: /home/jupyter/data/model_data/mini_data_set/time_20230807_150000.nc: Operation not supported\n",
      "getfattr: /home/jupyter/data/model_data/mini_data_set/time_20230804_100000.nc: Operation not supported\n",
      "getfattr: /home/jupyter/data/model_data/mini_data_set/time_20230807_170000.nc: Operation not supported\n"
     ]
    },
    {
     "name": "stdout",
     "output_type": "stream",
     "text": [
      " 4/25 [===>..........................] - ETA: 16s - loss: 4.3273"
     ]
    },
    {
     "name": "stderr",
     "output_type": "stream",
     "text": [
      "getfattr: /home/jupyter/data/model_data/mini_data_set/time_20230816_150000.nc: Operation not supported\n",
      "getfattr: /home/jupyter/data/model_data/mini_data_set/time_20230807_130000.nc: Operation not supported\n",
      "getfattr: /home/jupyter/data/model_data/mini_data_set/time_20230815_170000.nc: Operation not supported\n",
      "getfattr: /home/jupyter/data/model_data/mini_data_set/time_20230811_110000.nc: Operation not supported\n"
     ]
    },
    {
     "name": "stdout",
     "output_type": "stream",
     "text": [
      " 5/25 [=====>........................] - ETA: 15s - loss: 6.8431"
     ]
    },
    {
     "name": "stderr",
     "output_type": "stream",
     "text": [
      "getfattr: /home/jupyter/data/model_data/mini_data_set/time_20230807_160000.nc: Operation not supported\n",
      "getfattr: /home/jupyter/data/model_data/mini_data_set/time_20230804_130000.nc: Operation not supported\n",
      "getfattr: /home/jupyter/data/model_data/mini_data_set/time_20230809_070000.nc: Operation not supported\n",
      "getfattr: /home/jupyter/data/model_data/mini_data_set/time_20230805_160000.nc: Operation not supported\n"
     ]
    },
    {
     "name": "stdout",
     "output_type": "stream",
     "text": [
      " 6/25 [======>.......................] - ETA: 14s - loss: 7.7537"
     ]
    },
    {
     "name": "stderr",
     "output_type": "stream",
     "text": [
      "getfattr: /home/jupyter/data/model_data/mini_data_set/time_20230808_170000.nc: Operation not supported\n",
      "getfattr: /home/jupyter/data/model_data/mini_data_set/time_20230811_170000.nc: Operation not supported\n",
      "getfattr: /home/jupyter/data/model_data/mini_data_set/time_20230806_080000.nc: Operation not supported\n",
      "getfattr: /home/jupyter/data/model_data/mini_data_set/time_20230806_170000.nc: Operation not supported\n"
     ]
    },
    {
     "name": "stdout",
     "output_type": "stream",
     "text": [
      " 7/25 [=======>......................] - ETA: 13s - loss: 7.3729"
     ]
    },
    {
     "name": "stderr",
     "output_type": "stream",
     "text": [
      "getfattr: /home/jupyter/data/model_data/mini_data_set/time_20230805_070000.nc: Operation not supported\n",
      "getfattr: /home/jupyter/data/model_data/mini_data_set/time_20230804_180000.nc: Operation not supported\n",
      "getfattr: /home/jupyter/data/model_data/mini_data_set/time_20230805_090000.nc: Operation not supported\n",
      "getfattr: /home/jupyter/data/model_data/mini_data_set/time_20230811_100000.nc: Operation not supported\n"
     ]
    },
    {
     "name": "stdout",
     "output_type": "stream",
     "text": [
      " 8/25 [========>.....................] - ETA: 13s - loss: 7.1028"
     ]
    },
    {
     "name": "stderr",
     "output_type": "stream",
     "text": [
      "getfattr: /home/jupyter/data/model_data/mini_data_set/time_20230816_070000.nc: Operation not supported\n",
      "getfattr: /home/jupyter/data/model_data/mini_data_set/time_20230815_160000.nc: Operation not supported\n",
      "getfattr: /home/jupyter/data/model_data/mini_data_set/time_20230806_090000.nc: Operation not supported\n"
     ]
    },
    {
     "name": "stdout",
     "output_type": "stream",
     "text": [
      " 9/25 [=========>....................] - ETA: 12s - loss: 6.6225"
     ]
    },
    {
     "name": "stderr",
     "output_type": "stream",
     "text": [
      "getfattr: /home/jupyter/data/model_data/mini_data_set/time_20230805_150000.nc: Operation not supported\n",
      "getfattr: /home/jupyter/data/model_data/mini_data_set/time_20230804_140000.nc: Operation not supported\n",
      "getfattr: /home/jupyter/data/model_data/mini_data_set/time_20230809_170000.nc: Operation not supported\n",
      "getfattr: /home/jupyter/data/model_data/mini_data_set/time_20230816_080000.nc: Operation not supported\n",
      "getfattr: /home/jupyter/data/model_data/mini_data_set/time_20230816_040000.nc: Operation not supported\n"
     ]
    },
    {
     "name": "stdout",
     "output_type": "stream",
     "text": [
      "10/25 [===========>..................] - ETA: 11s - loss: 6.9215"
     ]
    },
    {
     "name": "stderr",
     "output_type": "stream",
     "text": [
      "getfattr: /home/jupyter/data/model_data/mini_data_set/time_20230807_090000.nc: Operation not supported\n",
      "getfattr: /home/jupyter/data/model_data/mini_data_set/time_20230805_100000.nc: Operation not supported\n",
      "getfattr: /home/jupyter/data/model_data/mini_data_set/time_20230816_100000.nc: Operation not supported\n"
     ]
    },
    {
     "name": "stdout",
     "output_type": "stream",
     "text": [
      "11/25 [============>.................] - ETA: 11s - loss: 7.3207"
     ]
    },
    {
     "name": "stderr",
     "output_type": "stream",
     "text": [
      "getfattr: /home/jupyter/data/model_data/mini_data_set/time_20230812_080000.nc: Operation not supported\n",
      "getfattr: /home/jupyter/data/model_data/mini_data_set/time_20230808_180000.nc: Operation not supported\n",
      "getfattr: /home/jupyter/data/model_data/mini_data_set/time_20230816_160000.nc: Operation not supported\n",
      "getfattr: /home/jupyter/data/model_data/mini_data_set/time_20230812_160000.nc: Operation not supported\n",
      "getfattr: /home/jupyter/data/model_data/mini_data_set/time_20230806_070000.nc: Operation not supported\n"
     ]
    },
    {
     "name": "stdout",
     "output_type": "stream",
     "text": [
      "12/25 [=============>................] - ETA: 10s - loss: 7.0359"
     ]
    },
    {
     "name": "stderr",
     "output_type": "stream",
     "text": [
      "getfattr: /home/jupyter/data/model_data/mini_data_set/time_20230805_170000.nc: Operation not supported\n",
      "getfattr: /home/jupyter/data/model_data/mini_data_set/time_20230804_150000.nc: Operation not supported\n",
      "getfattr: /home/jupyter/data/model_data/mini_data_set/time_20230804_120000.nc: Operation not supported\n"
     ]
    },
    {
     "name": "stdout",
     "output_type": "stream",
     "text": [
      "13/25 [==============>...............] - ETA: 9s - loss: 6.8261 "
     ]
    },
    {
     "name": "stderr",
     "output_type": "stream",
     "text": [
      "getfattr: /home/jupyter/data/model_data/mini_data_set/time_20230816_110000.nc: Operation not supported\n",
      "getfattr: /home/jupyter/data/model_data/mini_data_set/time_20230811_130000.nc: Operation not supported\n",
      "getfattr: /home/jupyter/data/model_data/mini_data_set/time_20230805_120000.nc: Operation not supported\n",
      "getfattr: /home/jupyter/data/model_data/mini_data_set/time_20230809_110000.nc: Operation not supported\n",
      "getfattr: /home/jupyter/data/model_data/mini_data_set/time_20230805_180000.nc: Operation not supported\n"
     ]
    },
    {
     "name": "stdout",
     "output_type": "stream",
     "text": [
      "14/25 [===============>..............] - ETA: 8s - loss: 6.8421"
     ]
    },
    {
     "name": "stderr",
     "output_type": "stream",
     "text": [
      "getfattr: /home/jupyter/data/model_data/mini_data_set/time_20230809_130000.nc: Operation not supported\n",
      "getfattr: /home/jupyter/data/model_data/mini_data_set/time_20230806_100000.nc: Operation not supported\n",
      "getfattr: /home/jupyter/data/model_data/mini_data_set/time_20230815_120000.nc: Operation not supported\n",
      "getfattr: /home/jupyter/data/model_data/mini_data_set/time_20230804_070000.nc: Operation not supported\n"
     ]
    },
    {
     "name": "stdout",
     "output_type": "stream",
     "text": [
      "15/25 [=================>............] - ETA: 8s - loss: 6.5907"
     ]
    },
    {
     "name": "stderr",
     "output_type": "stream",
     "text": [
      "getfattr: /home/jupyter/data/model_data/mini_data_set/time_20230802_130000.nc: Operation not supported\n",
      "getfattr: /home/jupyter/data/model_data/mini_data_set/time_20230808_140000.nc: Operation not supported\n",
      "getfattr: /home/jupyter/data/model_data/mini_data_set/time_20230809_090000.nc: Operation not supported\n",
      "getfattr: /home/jupyter/data/model_data/mini_data_set/time_20230806_110000.nc: Operation not supported\n"
     ]
    },
    {
     "name": "stdout",
     "output_type": "stream",
     "text": [
      "16/25 [==================>...........] - ETA: 7s - loss: 6.6311"
     ]
    },
    {
     "name": "stderr",
     "output_type": "stream",
     "text": [
      "getfattr: /home/jupyter/data/model_data/mini_data_set/time_20230802_140000.nc: Operation not supported\n",
      "getfattr: /home/jupyter/data/model_data/mini_data_set/time_20230808_150000.nc: Operation not supported\n",
      "getfattr: /home/jupyter/data/model_data/mini_data_set/time_20230811_150000.nc: Operation not supported\n",
      "getfattr: /home/jupyter/data/model_data/mini_data_set/time_20230809_180000.nc: Operation not supported\n"
     ]
    },
    {
     "name": "stdout",
     "output_type": "stream",
     "text": [
      "17/25 [===================>..........] - ETA: 6s - loss: 7.0050"
     ]
    },
    {
     "name": "stderr",
     "output_type": "stream",
     "text": [
      "getfattr: /home/jupyter/data/model_data/mini_data_set/time_20230807_070000.nc: Operation not supported\n",
      "getfattr: /home/jupyter/data/model_data/mini_data_set/time_20230804_090000.nc: Operation not supported\n",
      "getfattr: /home/jupyter/data/model_data/mini_data_set/time_20230811_140000.nc: Operation not supported\n",
      "getfattr: /home/jupyter/data/model_data/mini_data_set/time_20230807_180000.nc: Operation not supported\n"
     ]
    },
    {
     "name": "stdout",
     "output_type": "stream",
     "text": [
      "18/25 [====================>.........] - ETA: 5s - loss: 6.9691"
     ]
    },
    {
     "name": "stderr",
     "output_type": "stream",
     "text": [
      "getfattr: /home/jupyter/data/model_data/mini_data_set/time_20230806_120000.nc: Operation not supported\n",
      "getfattr: /home/jupyter/data/model_data/mini_data_set/time_20230804_080000.nc: Operation not supported\n",
      "getfattr: /home/jupyter/data/model_data/mini_data_set/time_20230807_140000.nc: Operation not supported\n",
      "getfattr: /home/jupyter/data/model_data/mini_data_set/time_20230804_160000.nc: Operation not supported\n"
     ]
    },
    {
     "name": "stdout",
     "output_type": "stream",
     "text": [
      "19/25 [=====================>........] - ETA: 4s - loss: 6.7713"
     ]
    },
    {
     "name": "stderr",
     "output_type": "stream",
     "text": [
      "getfattr: /home/jupyter/data/model_data/mini_data_set/time_20230812_180000.nc: Operation not supported\n",
      "getfattr: /home/jupyter/data/model_data/mini_data_set/time_20230812_130000.nc: Operation not supported\n",
      "getfattr: /home/jupyter/data/model_data/mini_data_set/time_20230802_110000.nc: Operation not supported\n",
      "getfattr: /home/jupyter/data/model_data/mini_data_set/time_20230809_100000.nc: Operation not supported\n"
     ]
    },
    {
     "name": "stdout",
     "output_type": "stream",
     "text": [
      "20/25 [=======================>......] - ETA: 4s - loss: 6.6386"
     ]
    },
    {
     "name": "stderr",
     "output_type": "stream",
     "text": [
      "getfattr: /home/jupyter/data/model_data/mini_data_set/time_20230809_150000.nc: Operation not supported\n",
      "getfattr: /home/jupyter/data/model_data/mini_data_set/time_20230816_140000.nc: Operation not supported\n",
      "getfattr: /home/jupyter/data/model_data/mini_data_set/time_20230802_120000.nc: Operation not supported\n",
      "getfattr: /home/jupyter/data/model_data/mini_data_set/time_20230806_160000.nc: Operation not supported\n"
     ]
    },
    {
     "name": "stdout",
     "output_type": "stream",
     "text": [
      "21/25 [========================>.....] - ETA: 3s - loss: 6.7005"
     ]
    },
    {
     "name": "stderr",
     "output_type": "stream",
     "text": [
      "getfattr: /home/jupyter/data/model_data/mini_data_set/time_20230815_150000.nc: Operation not supported\n",
      "getfattr: /home/jupyter/data/model_data/mini_data_set/time_20230805_110000.nc: Operation not supported\n",
      "getfattr: /home/jupyter/data/model_data/mini_data_set/time_20230807_080000.nc: Operation not supported\n",
      "getfattr: /home/jupyter/data/model_data/mini_data_set/time_20230812_170000.nc: Operation not supported\n"
     ]
    },
    {
     "name": "stdout",
     "output_type": "stream",
     "text": [
      "22/25 [=========================>....] - ETA: 2s - loss: 6.9316"
     ]
    },
    {
     "name": "stderr",
     "output_type": "stream",
     "text": [
      "getfattr: /home/jupyter/data/model_data/mini_data_set/time_20230812_150000.nc: Operation not supported\n",
      "getfattr: /home/jupyter/data/model_data/mini_data_set/time_20230802_150000.nc: Operation not supported\n",
      "getfattr: /home/jupyter/data/model_data/mini_data_set/time_20230812_140000.nc: Operation not supported\n",
      "getfattr: /home/jupyter/data/model_data/mini_data_set/time_20230809_160000.nc: Operation not supported\n"
     ]
    },
    {
     "name": "stdout",
     "output_type": "stream",
     "text": [
      "23/25 [==========================>...] - ETA: 1s - loss: 7.0206"
     ]
    },
    {
     "name": "stderr",
     "output_type": "stream",
     "text": [
      "getfattr: /home/jupyter/data/model_data/mini_data_set/time_20230811_090000.nc: Operation not supported\n",
      "getfattr: /home/jupyter/data/model_data/mini_data_set/time_20230806_150000.nc: Operation not supported\n",
      "getfattr: /home/jupyter/data/model_data/mini_data_set/time_20230802_100000.nc: Operation not supported\n",
      "getfattr: /home/jupyter/data/model_data/mini_data_set/time_20230812_120000.nc: Operation not supported\n"
     ]
    },
    {
     "name": "stdout",
     "output_type": "stream",
     "text": [
      "25/25 [==============================] - ETA: 0s - loss: 6.8107"
     ]
    },
    {
     "name": "stderr",
     "output_type": "stream",
     "text": [
      "getfattr: /home/jupyter/data/model_data/mini_data_set/time_20230807_160000.nc: Operation not supported\n",
      "getfattr: /home/jupyter/data/model_data/mini_data_set/time_20230804_130000.nc: Operation not supported\n",
      "getfattr: /home/jupyter/data/model_data/mini_data_set/time_20230809_070000.nc: Operation not supported\n",
      "getfattr: /home/jupyter/data/model_data/mini_data_set/time_20230805_160000.nc: Operation not supported\n",
      "getfattr: /home/jupyter/data/model_data/mini_data_set/time_20230811_090000.nc: Operation not supported\n",
      "getfattr: /home/jupyter/data/model_data/mini_data_set/time_20230806_150000.nc: Operation not supported\n",
      "getfattr: /home/jupyter/data/model_data/mini_data_set/time_20230802_100000.nc: Operation not supported\n",
      "getfattr: /home/jupyter/data/model_data/mini_data_set/time_20230812_120000.nc: Operation not supported\n",
      "getfattr: /home/jupyter/data/model_data/mini_data_set/time_20230808_170000.nc: Operation not supported\n",
      "getfattr: /home/jupyter/data/model_data/mini_data_set/time_20230811_170000.nc: Operation not supported\n",
      "getfattr: /home/jupyter/data/model_data/mini_data_set/time_20230806_080000.nc: Operation not supported\n",
      "getfattr: /home/jupyter/data/model_data/mini_data_set/time_20230806_170000.nc: Operation not supported\n",
      "getfattr: /home/jupyter/data/model_data/mini_data_set/time_20230809_130000.nc: Operation not supported\n",
      "getfattr: /home/jupyter/data/model_data/mini_data_set/time_20230806_100000.nc: Operation not supported\n",
      "getfattr: /home/jupyter/data/model_data/mini_data_set/time_20230815_120000.nc: Operation not supported\n",
      "getfattr: /home/jupyter/data/model_data/mini_data_set/time_20230804_070000.nc: Operation not supported\n",
      "getfattr: /home/jupyter/data/model_data/mini_data_set/time_20230808_180000.nc: Operation not supported\n",
      "getfattr: /home/jupyter/data/model_data/mini_data_set/time_20230816_160000.nc: Operation not supported\n",
      "getfattr: /home/jupyter/data/model_data/mini_data_set/time_20230812_160000.nc: Operation not supported\n",
      "getfattr: /home/jupyter/data/model_data/mini_data_set/time_20230806_070000.nc: Operation not supported\n",
      "getfattr: /home/jupyter/data/model_data/mini_data_set/time_20230804_170000.nc: Operation not supported\n",
      "getfattr: /home/jupyter/data/model_data/mini_data_set/time_20230811_070000.nc: Operation not supported\n",
      "getfattr: /home/jupyter/data/model_data/mini_data_set/time_20230805_080000.nc: Operation not supported\n",
      "getfattr: /home/jupyter/data/model_data/mini_data_set/time_20230807_110000.nc: Operation not supported\n",
      "getfattr: /home/jupyter/data/model_data/mini_data_set/time_20230806_140000.nc: Operation not supported\n",
      "getfattr: /home/jupyter/data/model_data/mini_data_set/time_20230811_080000.nc: Operation not supported\n",
      "getfattr: /home/jupyter/data/model_data/mini_data_set/time_20230816_090000.nc: Operation not supported\n",
      "getfattr: /home/jupyter/data/model_data/mini_data_set/time_20230808_160000.nc: Operation not supported\n",
      "getfattr: /home/jupyter/data/model_data/mini_data_set/time_20230816_150000.nc: Operation not supported\n",
      "getfattr: /home/jupyter/data/model_data/mini_data_set/time_20230807_130000.nc: Operation not supported\n",
      "getfattr: /home/jupyter/data/model_data/mini_data_set/time_20230815_170000.nc: Operation not supported\n",
      "getfattr: /home/jupyter/data/model_data/mini_data_set/time_20230811_110000.nc: Operation not supported\n",
      "getfattr: /home/jupyter/data/model_data/mini_data_set/time_20230809_140000.nc: Operation not supported\n",
      "getfattr: /home/jupyter/data/model_data/mini_data_set/time_20230809_080000.nc: Operation not supported\n",
      "getfattr: /home/jupyter/data/model_data/mini_data_set/time_20230811_180000.nc: Operation not supported\n",
      "getfattr: /home/jupyter/data/model_data/mini_data_set/time_20230812_070000.nc: Operation not supported\n",
      "getfattr: /home/jupyter/data/model_data/mini_data_set/time_20230815_180000.nc: Operation not supported\n",
      "getfattr: /home/jupyter/data/model_data/mini_data_set/time_20230807_150000.nc: Operation not supported\n",
      "getfattr: /home/jupyter/data/model_data/mini_data_set/time_20230804_100000.nc: Operation not supported\n",
      "getfattr: /home/jupyter/data/model_data/mini_data_set/time_20230807_170000.nc: Operation not supported\n",
      "getfattr: /home/jupyter/data/model_data/mini_data_set/time_20230812_150000.nc: Operation not supported\n",
      "getfattr: /home/jupyter/data/model_data/mini_data_set/time_20230802_150000.nc: Operation not supported\n",
      "getfattr: /home/jupyter/data/model_data/mini_data_set/time_20230812_140000.nc: Operation not supported\n",
      "getfattr: /home/jupyter/data/model_data/mini_data_set/time_20230809_160000.nc: Operation not supported\n",
      "getfattr: /home/jupyter/data/model_data/mini_data_set/time_20230802_130000.nc: Operation not supported\n",
      "getfattr: /home/jupyter/data/model_data/mini_data_set/time_20230808_140000.nc: Operation not supported\n",
      "getfattr: /home/jupyter/data/model_data/mini_data_set/time_20230809_090000.nc: Operation not supported\n",
      "getfattr: /home/jupyter/data/model_data/mini_data_set/time_20230806_110000.nc: Operation not supported\n",
      "getfattr: /home/jupyter/data/model_data/mini_data_set/time_20230807_090000.nc: Operation not supported\n",
      "getfattr: /home/jupyter/data/model_data/mini_data_set/time_20230805_100000.nc: Operation not supported\n",
      "getfattr: /home/jupyter/data/model_data/mini_data_set/time_20230816_100000.nc: Operation not supported\n",
      "getfattr: /home/jupyter/data/model_data/mini_data_set/time_20230812_080000.nc: Operation not supported\n",
      "getfattr: /home/jupyter/data/model_data/mini_data_set/time_20230812_180000.nc: Operation not supported\n",
      "getfattr: /home/jupyter/data/model_data/mini_data_set/time_20230812_130000.nc: Operation not supported\n",
      "getfattr: /home/jupyter/data/model_data/mini_data_set/time_20230802_110000.nc: Operation not supported\n",
      "getfattr: /home/jupyter/data/model_data/mini_data_set/time_20230809_100000.nc: Operation not supported\n",
      "getfattr: /home/jupyter/data/model_data/mini_data_set/time_20230802_140000.nc: Operation not supported\n",
      "getfattr: /home/jupyter/data/model_data/mini_data_set/time_20230808_150000.nc: Operation not supported\n",
      "getfattr: /home/jupyter/data/model_data/mini_data_set/time_20230811_150000.nc: Operation not supported\n",
      "getfattr: /home/jupyter/data/model_data/mini_data_set/time_20230809_180000.nc: Operation not supported\n",
      "getfattr: /home/jupyter/data/model_data/mini_data_set/time_20230806_120000.nc: Operation not supported\n",
      "getfattr: /home/jupyter/data/model_data/mini_data_set/time_20230804_080000.nc: Operation not supported\n",
      "getfattr: /home/jupyter/data/model_data/mini_data_set/time_20230807_140000.nc: Operation not supported\n",
      "getfattr: /home/jupyter/data/model_data/mini_data_set/time_20230804_160000.nc: Operation not supported\n",
      "getfattr: /home/jupyter/data/model_data/mini_data_set/time_20230807_070000.nc: Operation not supported\n",
      "getfattr: /home/jupyter/data/model_data/mini_data_set/time_20230804_090000.nc: Operation not supported\n",
      "getfattr: /home/jupyter/data/model_data/mini_data_set/time_20230811_140000.nc: Operation not supported\n",
      "getfattr: /home/jupyter/data/model_data/mini_data_set/time_20230807_180000.nc: Operation not supported\n",
      "getfattr: /home/jupyter/data/model_data/mini_data_set/time_20230805_070000.nc: Operation not supported\n",
      "getfattr: /home/jupyter/data/model_data/mini_data_set/time_20230804_180000.nc: Operation not supported\n",
      "getfattr: /home/jupyter/data/model_data/mini_data_set/time_20230805_090000.nc: Operation not supported\n",
      "getfattr: /home/jupyter/data/model_data/mini_data_set/time_20230811_100000.nc: Operation not supported\n",
      "getfattr: /home/jupyter/data/model_data/mini_data_set/time_20230811_130000.nc: Operation not supported\n",
      "getfattr: /home/jupyter/data/model_data/mini_data_set/time_20230805_120000.nc: Operation not supported\n",
      "getfattr: /home/jupyter/data/model_data/mini_data_set/time_20230809_110000.nc: Operation not supported\n",
      "getfattr: /home/jupyter/data/model_data/mini_data_set/time_20230805_180000.nc: Operation not supported\n",
      "getfattr: /home/jupyter/data/model_data/mini_data_set/time_20230809_150000.nc: Operation not supported\n",
      "getfattr: /home/jupyter/data/model_data/mini_data_set/time_20230816_140000.nc: Operation not supported\n",
      "getfattr: /home/jupyter/data/model_data/mini_data_set/time_20230802_120000.nc: Operation not supported\n",
      "getfattr: /home/jupyter/data/model_data/mini_data_set/time_20230806_160000.nc: Operation not supported\n",
      "getfattr: /home/jupyter/data/model_data/mini_data_set/time_20230805_170000.nc: Operation not supported\n",
      "getfattr: /home/jupyter/data/model_data/mini_data_set/time_20230804_150000.nc: Operation not supported\n",
      "getfattr: /home/jupyter/data/model_data/mini_data_set/time_20230804_120000.nc: Operation not supported\n",
      "getfattr: /home/jupyter/data/model_data/mini_data_set/time_20230816_110000.nc: Operation not supported\n",
      "getfattr: /home/jupyter/data/model_data/mini_data_set/time_20230806_180000.nc: Operation not supported\n",
      "getfattr: /home/jupyter/data/model_data/mini_data_set/time_20230805_140000.nc: Operation not supported\n",
      "getfattr: /home/jupyter/data/model_data/mini_data_set/time_20230811_160000.nc: Operation not supported\n",
      "getfattr: /home/jupyter/data/model_data/mini_data_set/time_20230807_100000.nc: Operation not supported\n",
      "getfattr: /home/jupyter/data/model_data/mini_data_set/time_20230804_140000.nc: Operation not supported\n",
      "getfattr: /home/jupyter/data/model_data/mini_data_set/time_20230809_170000.nc: Operation not supported\n",
      "getfattr: /home/jupyter/data/model_data/mini_data_set/time_20230816_080000.nc: Operation not supported\n",
      "getfattr: /home/jupyter/data/model_data/mini_data_set/time_20230816_040000.nc: Operation not supported\n",
      "getfattr: /home/jupyter/data/model_data/mini_data_set/time_20230815_150000.nc: Operation not supported\n",
      "getfattr: /home/jupyter/data/model_data/mini_data_set/time_20230805_110000.nc: Operation not supported\n",
      "getfattr: /home/jupyter/data/model_data/mini_data_set/time_20230807_080000.nc: Operation not supported\n",
      "getfattr: /home/jupyter/data/model_data/mini_data_set/time_20230812_170000.nc: Operation not supported\n",
      "getfattr: /home/jupyter/data/model_data/mini_data_set/time_20230816_070000.nc: Operation not supported\n",
      "getfattr: /home/jupyter/data/model_data/mini_data_set/time_20230815_160000.nc: Operation not supported\n",
      "getfattr: /home/jupyter/data/model_data/mini_data_set/time_20230806_090000.nc: Operation not supported\n",
      "getfattr: /home/jupyter/data/model_data/mini_data_set/time_20230805_150000.nc: Operation not supported\n"
     ]
    },
    {
     "name": "stdout",
     "output_type": "stream",
     "text": [
      "25/25 [==============================] - 42s 2s/step - loss: 6.8107 - val_loss: 3.7976\n",
      "Epoch 3/4\n"
     ]
    },
    {
     "name": "stderr",
     "output_type": "stream",
     "text": [
      "getfattr: /home/jupyter/data/model_data/mini_data_set/time_20230809_130000.nc: Operation not supported\n",
      "getfattr: /home/jupyter/data/model_data/mini_data_set/time_20230806_100000.nc: Operation not supported\n",
      "getfattr: /home/jupyter/data/model_data/mini_data_set/time_20230815_120000.nc: Operation not supported\n",
      "getfattr: /home/jupyter/data/model_data/mini_data_set/time_20230804_070000.nc: Operation not supported\n",
      "getfattr: /home/jupyter/data/model_data/mini_data_set/time_20230812_180000.nc: Operation not supported\n",
      "getfattr: /home/jupyter/data/model_data/mini_data_set/time_20230812_130000.nc: Operation not supported\n",
      "getfattr: /home/jupyter/data/model_data/mini_data_set/time_20230802_110000.nc: Operation not supported\n",
      "getfattr: /home/jupyter/data/model_data/mini_data_set/time_20230809_100000.nc: Operation not supported\n"
     ]
    },
    {
     "name": "stdout",
     "output_type": "stream",
     "text": [
      " 1/25 [>.............................] - ETA: 33s - loss: 7.6046"
     ]
    },
    {
     "name": "stderr",
     "output_type": "stream",
     "text": [
      "getfattr: /home/jupyter/data/model_data/mini_data_set/time_20230816_070000.nc: Operation not supported\n",
      "getfattr: /home/jupyter/data/model_data/mini_data_set/time_20230815_160000.nc: Operation not supported\n",
      "getfattr: /home/jupyter/data/model_data/mini_data_set/time_20230806_090000.nc: Operation not supported\n",
      "getfattr: /home/jupyter/data/model_data/mini_data_set/time_20230805_150000.nc: Operation not supported\n"
     ]
    },
    {
     "name": "stdout",
     "output_type": "stream",
     "text": [
      " 2/25 [=>............................] - ETA: 17s - loss: 7.0976"
     ]
    },
    {
     "name": "stderr",
     "output_type": "stream",
     "text": [
      "getfattr: /home/jupyter/data/model_data/mini_data_set/time_20230812_150000.nc: Operation not supported\n",
      "getfattr: /home/jupyter/data/model_data/mini_data_set/time_20230802_150000.nc: Operation not supported\n",
      "getfattr: /home/jupyter/data/model_data/mini_data_set/time_20230812_140000.nc: Operation not supported\n",
      "getfattr: /home/jupyter/data/model_data/mini_data_set/time_20230809_160000.nc: Operation not supported\n"
     ]
    },
    {
     "name": "stdout",
     "output_type": "stream",
     "text": [
      " 3/25 [==>...........................] - ETA: 16s - loss: 7.8161"
     ]
    },
    {
     "name": "stderr",
     "output_type": "stream",
     "text": [
      "getfattr: /home/jupyter/data/model_data/mini_data_set/time_20230809_150000.nc: Operation not supported\n",
      "getfattr: /home/jupyter/data/model_data/mini_data_set/time_20230816_140000.nc: Operation not supported\n",
      "getfattr: /home/jupyter/data/model_data/mini_data_set/time_20230802_120000.nc: Operation not supported\n",
      "getfattr: /home/jupyter/data/model_data/mini_data_set/time_20230806_160000.nc: Operation not supported\n"
     ]
    },
    {
     "name": "stdout",
     "output_type": "stream",
     "text": [
      " 4/25 [===>..........................] - ETA: 15s - loss: 6.8717"
     ]
    },
    {
     "name": "stderr",
     "output_type": "stream",
     "text": [
      "getfattr: /home/jupyter/data/model_data/mini_data_set/time_20230808_170000.nc: Operation not supported\n",
      "getfattr: /home/jupyter/data/model_data/mini_data_set/time_20230811_170000.nc: Operation not supported\n",
      "getfattr: /home/jupyter/data/model_data/mini_data_set/time_20230806_080000.nc: Operation not supported\n",
      "getfattr: /home/jupyter/data/model_data/mini_data_set/time_20230806_170000.nc: Operation not supported\n"
     ]
    },
    {
     "name": "stdout",
     "output_type": "stream",
     "text": [
      " 5/25 [=====>........................] - ETA: 15s - loss: 7.5526"
     ]
    },
    {
     "name": "stderr",
     "output_type": "stream",
     "text": [
      "getfattr: /home/jupyter/data/model_data/mini_data_set/time_20230802_130000.nc: Operation not supported\n",
      "getfattr: /home/jupyter/data/model_data/mini_data_set/time_20230808_140000.nc: Operation not supported\n",
      "getfattr: /home/jupyter/data/model_data/mini_data_set/time_20230809_090000.nc: Operation not supported\n",
      "getfattr: /home/jupyter/data/model_data/mini_data_set/time_20230806_110000.nc: Operation not supported\n"
     ]
    },
    {
     "name": "stdout",
     "output_type": "stream",
     "text": [
      " 6/25 [======>.......................] - ETA: 14s - loss: 7.1328"
     ]
    },
    {
     "name": "stderr",
     "output_type": "stream",
     "text": [
      "getfattr: /home/jupyter/data/model_data/mini_data_set/time_20230816_150000.nc: Operation not supported\n",
      "getfattr: /home/jupyter/data/model_data/mini_data_set/time_20230807_130000.nc: Operation not supported\n",
      "getfattr: /home/jupyter/data/model_data/mini_data_set/time_20230815_170000.nc: Operation not supported\n",
      "getfattr: /home/jupyter/data/model_data/mini_data_set/time_20230811_110000.nc: Operation not supported\n"
     ]
    },
    {
     "name": "stdout",
     "output_type": "stream",
     "text": [
      " 7/25 [=======>......................] - ETA: 13s - loss: 7.4790"
     ]
    },
    {
     "name": "stderr",
     "output_type": "stream",
     "text": [
      "getfattr: /home/jupyter/data/model_data/mini_data_set/time_20230811_090000.nc: Operation not supported\n",
      "getfattr: /home/jupyter/data/model_data/mini_data_set/time_20230806_150000.nc: Operation not supported\n",
      "getfattr: /home/jupyter/data/model_data/mini_data_set/time_20230802_100000.nc: Operation not supported\n",
      "getfattr: /home/jupyter/data/model_data/mini_data_set/time_20230812_120000.nc: Operation not supported\n"
     ]
    },
    {
     "name": "stdout",
     "output_type": "stream",
     "text": [
      " 8/25 [========>.....................] - ETA: 12s - loss: 8.0618"
     ]
    },
    {
     "name": "stderr",
     "output_type": "stream",
     "text": [
      "getfattr: /home/jupyter/data/model_data/mini_data_set/time_20230811_130000.nc: Operation not supported\n",
      "getfattr: /home/jupyter/data/model_data/mini_data_set/time_20230805_120000.nc: Operation not supported\n",
      "getfattr: /home/jupyter/data/model_data/mini_data_set/time_20230809_110000.nc: Operation not supported\n",
      "getfattr: /home/jupyter/data/model_data/mini_data_set/time_20230805_180000.nc: Operation not supported\n"
     ]
    },
    {
     "name": "stdout",
     "output_type": "stream",
     "text": [
      " 9/25 [=========>....................] - ETA: 12s - loss: 7.6094"
     ]
    },
    {
     "name": "stderr",
     "output_type": "stream",
     "text": [
      "getfattr: /home/jupyter/data/model_data/mini_data_set/time_20230805_070000.nc: Operation not supported\n",
      "getfattr: /home/jupyter/data/model_data/mini_data_set/time_20230804_180000.nc: Operation not supported\n",
      "getfattr: /home/jupyter/data/model_data/mini_data_set/time_20230805_090000.nc: Operation not supported\n",
      "getfattr: /home/jupyter/data/model_data/mini_data_set/time_20230811_100000.nc: Operation not supported\n"
     ]
    },
    {
     "name": "stdout",
     "output_type": "stream",
     "text": [
      "10/25 [===========>..................] - ETA: 11s - loss: 7.0741"
     ]
    },
    {
     "name": "stderr",
     "output_type": "stream",
     "text": [
      "getfattr: /home/jupyter/data/model_data/mini_data_set/time_20230804_140000.nc: Operation not supported\n",
      "getfattr: /home/jupyter/data/model_data/mini_data_set/time_20230809_170000.nc: Operation not supported\n",
      "getfattr: /home/jupyter/data/model_data/mini_data_set/time_20230816_080000.nc: Operation not supported\n",
      "getfattr: /home/jupyter/data/model_data/mini_data_set/time_20230816_040000.nc: Operation not supported\n"
     ]
    },
    {
     "name": "stdout",
     "output_type": "stream",
     "text": [
      "11/25 [============>.................] - ETA: 10s - loss: 6.6574"
     ]
    },
    {
     "name": "stderr",
     "output_type": "stream",
     "text": [
      "getfattr: /home/jupyter/data/model_data/mini_data_set/time_20230802_140000.nc: Operation not supported\n",
      "getfattr: /home/jupyter/data/model_data/mini_data_set/time_20230808_150000.nc: Operation not supported\n",
      "getfattr: /home/jupyter/data/model_data/mini_data_set/time_20230811_150000.nc: Operation not supported\n",
      "getfattr: /home/jupyter/data/model_data/mini_data_set/time_20230809_180000.nc: Operation not supported\n"
     ]
    },
    {
     "name": "stdout",
     "output_type": "stream",
     "text": [
      "12/25 [=============>................] - ETA: 9s - loss: 7.0289 "
     ]
    },
    {
     "name": "stderr",
     "output_type": "stream",
     "text": [
      "getfattr: /home/jupyter/data/model_data/mini_data_set/time_20230808_180000.nc: Operation not supported\n",
      "getfattr: /home/jupyter/data/model_data/mini_data_set/time_20230816_160000.nc: Operation not supported\n",
      "getfattr: /home/jupyter/data/model_data/mini_data_set/time_20230812_160000.nc: Operation not supported\n",
      "getfattr: /home/jupyter/data/model_data/mini_data_set/time_20230806_070000.nc: Operation not supported\n"
     ]
    },
    {
     "name": "stdout",
     "output_type": "stream",
     "text": [
      "13/25 [==============>...............] - ETA: 9s - loss: 6.7957"
     ]
    },
    {
     "name": "stderr",
     "output_type": "stream",
     "text": [
      "getfattr: /home/jupyter/data/model_data/mini_data_set/time_20230805_170000.nc: Operation not supported\n",
      "getfattr: /home/jupyter/data/model_data/mini_data_set/time_20230804_150000.nc: Operation not supported\n",
      "getfattr: /home/jupyter/data/model_data/mini_data_set/time_20230804_120000.nc: Operation not supported\n",
      "getfattr: /home/jupyter/data/model_data/mini_data_set/time_20230816_110000.nc: Operation not supported\n"
     ]
    },
    {
     "name": "stdout",
     "output_type": "stream",
     "text": [
      "14/25 [===============>..............] - ETA: 8s - loss: 6.5857"
     ]
    },
    {
     "name": "stderr",
     "output_type": "stream",
     "text": [
      "getfattr: /home/jupyter/data/model_data/mini_data_set/time_20230806_140000.nc: Operation not supported\n",
      "getfattr: /home/jupyter/data/model_data/mini_data_set/time_20230811_080000.nc: Operation not supported\n",
      "getfattr: /home/jupyter/data/model_data/mini_data_set/time_20230816_090000.nc: Operation not supported\n",
      "getfattr: /home/jupyter/data/model_data/mini_data_set/time_20230808_160000.nc: Operation not supported\n"
     ]
    },
    {
     "name": "stdout",
     "output_type": "stream",
     "text": [
      "15/25 [=================>............] - ETA: 7s - loss: 6.6034"
     ]
    },
    {
     "name": "stderr",
     "output_type": "stream",
     "text": [
      "getfattr: /home/jupyter/data/model_data/mini_data_set/time_20230807_160000.nc: Operation not supported\n",
      "getfattr: /home/jupyter/data/model_data/mini_data_set/time_20230804_130000.nc: Operation not supported\n",
      "getfattr: /home/jupyter/data/model_data/mini_data_set/time_20230809_070000.nc: Operation not supported\n",
      "getfattr: /home/jupyter/data/model_data/mini_data_set/time_20230805_160000.nc: Operation not supported\n"
     ]
    },
    {
     "name": "stdout",
     "output_type": "stream",
     "text": [
      "16/25 [==================>...........] - ETA: 6s - loss: 6.4974"
     ]
    },
    {
     "name": "stderr",
     "output_type": "stream",
     "text": [
      "getfattr: /home/jupyter/data/model_data/mini_data_set/time_20230806_180000.nc: Operation not supported\n",
      "getfattr: /home/jupyter/data/model_data/mini_data_set/time_20230805_140000.nc: Operation not supported\n",
      "getfattr: /home/jupyter/data/model_data/mini_data_set/time_20230811_160000.nc: Operation not supported\n",
      "getfattr: /home/jupyter/data/model_data/mini_data_set/time_20230807_100000.nc: Operation not supported\n"
     ]
    },
    {
     "name": "stdout",
     "output_type": "stream",
     "text": [
      "17/25 [===================>..........] - ETA: 6s - loss: 6.2728"
     ]
    },
    {
     "name": "stderr",
     "output_type": "stream",
     "text": [
      "getfattr: /home/jupyter/data/model_data/mini_data_set/time_20230809_140000.nc: Operation not supported\n",
      "getfattr: /home/jupyter/data/model_data/mini_data_set/time_20230809_080000.nc: Operation not supported\n",
      "getfattr: /home/jupyter/data/model_data/mini_data_set/time_20230811_180000.nc: Operation not supported\n",
      "getfattr: /home/jupyter/data/model_data/mini_data_set/time_20230812_070000.nc: Operation not supported\n"
     ]
    },
    {
     "name": "stdout",
     "output_type": "stream",
     "text": [
      "18/25 [====================>.........] - ETA: 5s - loss: 6.0311"
     ]
    },
    {
     "name": "stderr",
     "output_type": "stream",
     "text": [
      "getfattr: /home/jupyter/data/model_data/mini_data_set/time_20230807_090000.nc: Operation not supported\n",
      "getfattr: /home/jupyter/data/model_data/mini_data_set/time_20230805_100000.nc: Operation not supported\n",
      "getfattr: /home/jupyter/data/model_data/mini_data_set/time_20230816_100000.nc: Operation not supported\n",
      "getfattr: /home/jupyter/data/model_data/mini_data_set/time_20230812_080000.nc: Operation not supported\n"
     ]
    },
    {
     "name": "stdout",
     "output_type": "stream",
     "text": [
      "19/25 [=====================>........] - ETA: 4s - loss: 5.8078"
     ]
    },
    {
     "name": "stderr",
     "output_type": "stream",
     "text": [
      "getfattr: /home/jupyter/data/model_data/mini_data_set/time_20230806_120000.nc: Operation not supported\n",
      "getfattr: /home/jupyter/data/model_data/mini_data_set/time_20230804_080000.nc: Operation not supported\n",
      "getfattr: /home/jupyter/data/model_data/mini_data_set/time_20230807_140000.nc: Operation not supported\n",
      "getfattr: /home/jupyter/data/model_data/mini_data_set/time_20230804_160000.nc: Operation not supported\n"
     ]
    },
    {
     "name": "stdout",
     "output_type": "stream",
     "text": [
      "20/25 [=======================>......] - ETA: 3s - loss: 5.6734"
     ]
    },
    {
     "name": "stderr",
     "output_type": "stream",
     "text": [
      "getfattr: /home/jupyter/data/model_data/mini_data_set/time_20230807_070000.nc: Operation not supported\n",
      "getfattr: /home/jupyter/data/model_data/mini_data_set/time_20230804_090000.nc: Operation not supported\n",
      "getfattr: /home/jupyter/data/model_data/mini_data_set/time_20230811_140000.nc: Operation not supported\n",
      "getfattr: /home/jupyter/data/model_data/mini_data_set/time_20230807_180000.nc: Operation not supported\n"
     ]
    },
    {
     "name": "stdout",
     "output_type": "stream",
     "text": [
      "21/25 [========================>.....] - ETA: 3s - loss: 5.5625"
     ]
    },
    {
     "name": "stderr",
     "output_type": "stream",
     "text": [
      "getfattr: /home/jupyter/data/model_data/mini_data_set/time_20230815_150000.nc: Operation not supported\n",
      "getfattr: /home/jupyter/data/model_data/mini_data_set/time_20230805_110000.nc: Operation not supported\n",
      "getfattr: /home/jupyter/data/model_data/mini_data_set/time_20230807_080000.nc: Operation not supported\n",
      "getfattr: /home/jupyter/data/model_data/mini_data_set/time_20230812_170000.nc: Operation not supported\n"
     ]
    },
    {
     "name": "stdout",
     "output_type": "stream",
     "text": [
      "22/25 [=========================>....] - ETA: 2s - loss: 5.4212"
     ]
    },
    {
     "name": "stderr",
     "output_type": "stream",
     "text": [
      "getfattr: /home/jupyter/data/model_data/mini_data_set/time_20230804_170000.nc: Operation not supported\n",
      "getfattr: /home/jupyter/data/model_data/mini_data_set/time_20230811_070000.nc: Operation not supported\n",
      "getfattr: /home/jupyter/data/model_data/mini_data_set/time_20230805_080000.nc: Operation not supported\n",
      "getfattr: /home/jupyter/data/model_data/mini_data_set/time_20230807_110000.nc: Operation not supported\n"
     ]
    },
    {
     "name": "stdout",
     "output_type": "stream",
     "text": [
      "23/25 [==========================>...] - ETA: 1s - loss: 5.5690"
     ]
    },
    {
     "name": "stderr",
     "output_type": "stream",
     "text": [
      "getfattr: /home/jupyter/data/model_data/mini_data_set/time_20230815_180000.nc: Operation not supported\n",
      "getfattr: /home/jupyter/data/model_data/mini_data_set/time_20230807_150000.nc: Operation not supported\n",
      "getfattr: /home/jupyter/data/model_data/mini_data_set/time_20230804_100000.nc: Operation not supported\n",
      "getfattr: /home/jupyter/data/model_data/mini_data_set/time_20230807_170000.nc: Operation not supported\n"
     ]
    },
    {
     "name": "stdout",
     "output_type": "stream",
     "text": [
      "25/25 [==============================] - ETA: 0s - loss: 5.7948"
     ]
    },
    {
     "name": "stderr",
     "output_type": "stream",
     "text": [
      "getfattr: /home/jupyter/data/model_data/mini_data_set/time_20230807_160000.nc: Operation not supported\n",
      "getfattr: /home/jupyter/data/model_data/mini_data_set/time_20230804_130000.nc: Operation not supported\n",
      "getfattr: /home/jupyter/data/model_data/mini_data_set/time_20230809_070000.nc: Operation not supported\n",
      "getfattr: /home/jupyter/data/model_data/mini_data_set/time_20230805_160000.nc: Operation not supported\n",
      "getfattr: /home/jupyter/data/model_data/mini_data_set/time_20230811_090000.nc: Operation not supported\n",
      "getfattr: /home/jupyter/data/model_data/mini_data_set/time_20230806_150000.nc: Operation not supported\n",
      "getfattr: /home/jupyter/data/model_data/mini_data_set/time_20230802_100000.nc: Operation not supported\n",
      "getfattr: /home/jupyter/data/model_data/mini_data_set/time_20230812_120000.nc: Operation not supported\n",
      "getfattr: /home/jupyter/data/model_data/mini_data_set/time_20230808_170000.nc: Operation not supported\n",
      "getfattr: /home/jupyter/data/model_data/mini_data_set/time_20230811_170000.nc: Operation not supported\n",
      "getfattr: /home/jupyter/data/model_data/mini_data_set/time_20230806_080000.nc: Operation not supported\n",
      "getfattr: /home/jupyter/data/model_data/mini_data_set/time_20230806_170000.nc: Operation not supported\n",
      "getfattr: /home/jupyter/data/model_data/mini_data_set/time_20230809_130000.nc: Operation not supported\n",
      "getfattr: /home/jupyter/data/model_data/mini_data_set/time_20230806_100000.nc: Operation not supported\n",
      "getfattr: /home/jupyter/data/model_data/mini_data_set/time_20230815_120000.nc: Operation not supported\n",
      "getfattr: /home/jupyter/data/model_data/mini_data_set/time_20230804_070000.nc: Operation not supported\n",
      "getfattr: /home/jupyter/data/model_data/mini_data_set/time_20230808_180000.nc: Operation not supported\n",
      "getfattr: /home/jupyter/data/model_data/mini_data_set/time_20230816_160000.nc: Operation not supported\n",
      "getfattr: /home/jupyter/data/model_data/mini_data_set/time_20230812_160000.nc: Operation not supported\n",
      "getfattr: /home/jupyter/data/model_data/mini_data_set/time_20230806_070000.nc: Operation not supported\n",
      "getfattr: /home/jupyter/data/model_data/mini_data_set/time_20230804_170000.nc: Operation not supported\n",
      "getfattr: /home/jupyter/data/model_data/mini_data_set/time_20230811_070000.nc: Operation not supported\n",
      "getfattr: /home/jupyter/data/model_data/mini_data_set/time_20230805_080000.nc: Operation not supported\n",
      "getfattr: /home/jupyter/data/model_data/mini_data_set/time_20230807_110000.nc: Operation not supported\n",
      "getfattr: /home/jupyter/data/model_data/mini_data_set/time_20230806_140000.nc: Operation not supported\n",
      "getfattr: /home/jupyter/data/model_data/mini_data_set/time_20230811_080000.nc: Operation not supported\n",
      "getfattr: /home/jupyter/data/model_data/mini_data_set/time_20230816_090000.nc: Operation not supported\n",
      "getfattr: /home/jupyter/data/model_data/mini_data_set/time_20230808_160000.nc: Operation not supported\n",
      "getfattr: /home/jupyter/data/model_data/mini_data_set/time_20230816_150000.nc: Operation not supported\n",
      "getfattr: /home/jupyter/data/model_data/mini_data_set/time_20230807_130000.nc: Operation not supported\n",
      "getfattr: /home/jupyter/data/model_data/mini_data_set/time_20230815_170000.nc: Operation not supported\n",
      "getfattr: /home/jupyter/data/model_data/mini_data_set/time_20230811_110000.nc: Operation not supported\n",
      "getfattr: /home/jupyter/data/model_data/mini_data_set/time_20230809_140000.nc: Operation not supported\n",
      "getfattr: /home/jupyter/data/model_data/mini_data_set/time_20230809_080000.nc: Operation not supported\n",
      "getfattr: /home/jupyter/data/model_data/mini_data_set/time_20230811_180000.nc: Operation not supported\n",
      "getfattr: /home/jupyter/data/model_data/mini_data_set/time_20230812_070000.nc: Operation not supported\n",
      "getfattr: /home/jupyter/data/model_data/mini_data_set/time_20230815_180000.nc: Operation not supported\n",
      "getfattr: /home/jupyter/data/model_data/mini_data_set/time_20230807_150000.nc: Operation not supported\n",
      "getfattr: /home/jupyter/data/model_data/mini_data_set/time_20230804_100000.nc: Operation not supported\n",
      "getfattr: /home/jupyter/data/model_data/mini_data_set/time_20230807_170000.nc: Operation not supported\n",
      "getfattr: /home/jupyter/data/model_data/mini_data_set/time_20230812_150000.nc: Operation not supported\n",
      "getfattr: /home/jupyter/data/model_data/mini_data_set/time_20230802_150000.nc: Operation not supported\n",
      "getfattr: /home/jupyter/data/model_data/mini_data_set/time_20230812_140000.nc: Operation not supported\n",
      "getfattr: /home/jupyter/data/model_data/mini_data_set/time_20230809_160000.nc: Operation not supported\n",
      "getfattr: /home/jupyter/data/model_data/mini_data_set/time_20230802_130000.nc: Operation not supported\n",
      "getfattr: /home/jupyter/data/model_data/mini_data_set/time_20230808_140000.nc: Operation not supported\n",
      "getfattr: /home/jupyter/data/model_data/mini_data_set/time_20230809_090000.nc: Operation not supported\n",
      "getfattr: /home/jupyter/data/model_data/mini_data_set/time_20230806_110000.nc: Operation not supported\n",
      "getfattr: /home/jupyter/data/model_data/mini_data_set/time_20230807_090000.nc: Operation not supported\n",
      "getfattr: /home/jupyter/data/model_data/mini_data_set/time_20230805_100000.nc: Operation not supported\n",
      "getfattr: /home/jupyter/data/model_data/mini_data_set/time_20230816_100000.nc: Operation not supported\n",
      "getfattr: /home/jupyter/data/model_data/mini_data_set/time_20230812_080000.nc: Operation not supported\n",
      "getfattr: /home/jupyter/data/model_data/mini_data_set/time_20230812_180000.nc: Operation not supported\n",
      "getfattr: /home/jupyter/data/model_data/mini_data_set/time_20230812_130000.nc: Operation not supported\n",
      "getfattr: /home/jupyter/data/model_data/mini_data_set/time_20230802_110000.nc: Operation not supported\n",
      "getfattr: /home/jupyter/data/model_data/mini_data_set/time_20230809_100000.nc: Operation not supported\n",
      "getfattr: /home/jupyter/data/model_data/mini_data_set/time_20230802_140000.nc: Operation not supported\n",
      "getfattr: /home/jupyter/data/model_data/mini_data_set/time_20230808_150000.nc: Operation not supported\n",
      "getfattr: /home/jupyter/data/model_data/mini_data_set/time_20230811_150000.nc: Operation not supported\n",
      "getfattr: /home/jupyter/data/model_data/mini_data_set/time_20230809_180000.nc: Operation not supported\n",
      "getfattr: /home/jupyter/data/model_data/mini_data_set/time_20230806_120000.nc: Operation not supported\n",
      "getfattr: /home/jupyter/data/model_data/mini_data_set/time_20230804_080000.nc: Operation not supported\n",
      "getfattr: /home/jupyter/data/model_data/mini_data_set/time_20230807_140000.nc: Operation not supported\n",
      "getfattr: /home/jupyter/data/model_data/mini_data_set/time_20230804_160000.nc: Operation not supported\n",
      "getfattr: /home/jupyter/data/model_data/mini_data_set/time_20230807_070000.nc: Operation not supported\n",
      "getfattr: /home/jupyter/data/model_data/mini_data_set/time_20230804_090000.nc: Operation not supported\n",
      "getfattr: /home/jupyter/data/model_data/mini_data_set/time_20230811_140000.nc: Operation not supported\n",
      "getfattr: /home/jupyter/data/model_data/mini_data_set/time_20230807_180000.nc: Operation not supported\n",
      "getfattr: /home/jupyter/data/model_data/mini_data_set/time_20230805_070000.nc: Operation not supported\n",
      "getfattr: /home/jupyter/data/model_data/mini_data_set/time_20230804_180000.nc: Operation not supported\n",
      "getfattr: /home/jupyter/data/model_data/mini_data_set/time_20230805_090000.nc: Operation not supported\n",
      "getfattr: /home/jupyter/data/model_data/mini_data_set/time_20230811_100000.nc: Operation not supported\n",
      "getfattr: /home/jupyter/data/model_data/mini_data_set/time_20230811_130000.nc: Operation not supported\n",
      "getfattr: /home/jupyter/data/model_data/mini_data_set/time_20230805_120000.nc: Operation not supported\n",
      "getfattr: /home/jupyter/data/model_data/mini_data_set/time_20230809_110000.nc: Operation not supported\n",
      "getfattr: /home/jupyter/data/model_data/mini_data_set/time_20230805_180000.nc: Operation not supported\n",
      "getfattr: /home/jupyter/data/model_data/mini_data_set/time_20230809_150000.nc: Operation not supported\n",
      "getfattr: /home/jupyter/data/model_data/mini_data_set/time_20230816_140000.nc: Operation not supported\n",
      "getfattr: /home/jupyter/data/model_data/mini_data_set/time_20230802_120000.nc: Operation not supported\n",
      "getfattr: /home/jupyter/data/model_data/mini_data_set/time_20230806_160000.nc: Operation not supported\n",
      "getfattr: /home/jupyter/data/model_data/mini_data_set/time_20230805_170000.nc: Operation not supported\n",
      "getfattr: /home/jupyter/data/model_data/mini_data_set/time_20230804_150000.nc: Operation not supported\n",
      "getfattr: /home/jupyter/data/model_data/mini_data_set/time_20230804_120000.nc: Operation not supported\n",
      "getfattr: /home/jupyter/data/model_data/mini_data_set/time_20230816_110000.nc: Operation not supported\n",
      "getfattr: /home/jupyter/data/model_data/mini_data_set/time_20230806_180000.nc: Operation not supported\n",
      "getfattr: /home/jupyter/data/model_data/mini_data_set/time_20230805_140000.nc: Operation not supported\n",
      "getfattr: /home/jupyter/data/model_data/mini_data_set/time_20230811_160000.nc: Operation not supported\n",
      "getfattr: /home/jupyter/data/model_data/mini_data_set/time_20230807_100000.nc: Operation not supported\n",
      "getfattr: /home/jupyter/data/model_data/mini_data_set/time_20230804_140000.nc: Operation not supported\n",
      "getfattr: /home/jupyter/data/model_data/mini_data_set/time_20230809_170000.nc: Operation not supported\n",
      "getfattr: /home/jupyter/data/model_data/mini_data_set/time_20230816_080000.nc: Operation not supported\n",
      "getfattr: /home/jupyter/data/model_data/mini_data_set/time_20230816_040000.nc: Operation not supported\n",
      "getfattr: /home/jupyter/data/model_data/mini_data_set/time_20230815_150000.nc: Operation not supported\n",
      "getfattr: /home/jupyter/data/model_data/mini_data_set/time_20230805_110000.nc: Operation not supported\n",
      "getfattr: /home/jupyter/data/model_data/mini_data_set/time_20230807_080000.nc: Operation not supported\n",
      "getfattr: /home/jupyter/data/model_data/mini_data_set/time_20230812_170000.nc: Operation not supported\n",
      "getfattr: /home/jupyter/data/model_data/mini_data_set/time_20230816_070000.nc: Operation not supported\n",
      "getfattr: /home/jupyter/data/model_data/mini_data_set/time_20230815_160000.nc: Operation not supported\n",
      "getfattr: /home/jupyter/data/model_data/mini_data_set/time_20230806_090000.nc: Operation not supported\n",
      "getfattr: /home/jupyter/data/model_data/mini_data_set/time_20230805_150000.nc: Operation not supported\n"
     ]
    },
    {
     "name": "stdout",
     "output_type": "stream",
     "text": [
      "25/25 [==============================] - 41s 2s/step - loss: 5.7948 - val_loss: 4.0635\n",
      "Epoch 4/4\n"
     ]
    },
    {
     "name": "stderr",
     "output_type": "stream",
     "text": [
      "getfattr: /home/jupyter/data/model_data/mini_data_set/time_20230809_140000.nc: Operation not supported\n",
      "getfattr: /home/jupyter/data/model_data/mini_data_set/time_20230809_080000.nc: Operation not supported\n",
      "getfattr: /home/jupyter/data/model_data/mini_data_set/time_20230811_180000.nc: Operation not supported\n",
      "getfattr: /home/jupyter/data/model_data/mini_data_set/time_20230812_070000.nc: Operation not supported\n",
      "getfattr: /home/jupyter/data/model_data/mini_data_set/time_20230802_140000.nc: Operation not supported\n",
      "getfattr: /home/jupyter/data/model_data/mini_data_set/time_20230808_150000.nc: Operation not supported\n",
      "getfattr: /home/jupyter/data/model_data/mini_data_set/time_20230811_150000.nc: Operation not supported\n"
     ]
    },
    {
     "name": "stdout",
     "output_type": "stream",
     "text": [
      " 1/25 [>.............................] - ETA: 33s - loss: 1.6305"
     ]
    },
    {
     "name": "stderr",
     "output_type": "stream",
     "text": [
      "getfattr: /home/jupyter/data/model_data/mini_data_set/time_20230809_180000.nc: Operation not supported\n",
      "getfattr: /home/jupyter/data/model_data/mini_data_set/time_20230805_070000.nc: Operation not supported\n",
      "getfattr: /home/jupyter/data/model_data/mini_data_set/time_20230804_180000.nc: Operation not supported\n",
      "getfattr: /home/jupyter/data/model_data/mini_data_set/time_20230805_090000.nc: Operation not supported\n",
      "getfattr: /home/jupyter/data/model_data/mini_data_set/time_20230811_100000.nc: Operation not supported\n"
     ]
    },
    {
     "name": "stdout",
     "output_type": "stream",
     "text": [
      " 2/25 [=>............................] - ETA: 20s - loss: 2.9774"
     ]
    },
    {
     "name": "stderr",
     "output_type": "stream",
     "text": [
      "getfattr: /home/jupyter/data/model_data/mini_data_set/time_20230804_140000.nc: Operation not supported\n",
      "getfattr: /home/jupyter/data/model_data/mini_data_set/time_20230809_170000.nc: Operation not supported\n",
      "getfattr: /home/jupyter/data/model_data/mini_data_set/time_20230816_080000.nc: Operation not supported\n",
      "getfattr: /home/jupyter/data/model_data/mini_data_set/time_20230816_040000.nc: Operation not supported\n"
     ]
    },
    {
     "name": "stdout",
     "output_type": "stream",
     "text": [
      " 3/25 [==>...........................] - ETA: 17s - loss: 2.6611"
     ]
    },
    {
     "name": "stderr",
     "output_type": "stream",
     "text": [
      "getfattr: /home/jupyter/data/model_data/mini_data_set/time_20230806_120000.nc: Operation not supported\n",
      "getfattr: /home/jupyter/data/model_data/mini_data_set/time_20230804_080000.nc: Operation not supported\n",
      "getfattr: /home/jupyter/data/model_data/mini_data_set/time_20230807_140000.nc: Operation not supported\n"
     ]
    },
    {
     "name": "stdout",
     "output_type": "stream",
     "text": [
      " 4/25 [===>..........................] - ETA: 16s - loss: 4.6688"
     ]
    },
    {
     "name": "stderr",
     "output_type": "stream",
     "text": [
      "getfattr: /home/jupyter/data/model_data/mini_data_set/time_20230804_160000.nc: Operation not supported\n",
      "getfattr: /home/jupyter/data/model_data/mini_data_set/time_20230808_180000.nc: Operation not supported\n",
      "getfattr: /home/jupyter/data/model_data/mini_data_set/time_20230816_160000.nc: Operation not supported\n",
      "getfattr: /home/jupyter/data/model_data/mini_data_set/time_20230812_160000.nc: Operation not supported\n"
     ]
    },
    {
     "name": "stdout",
     "output_type": "stream",
     "text": [
      " 5/25 [=====>........................] - ETA: 16s - loss: 4.4877"
     ]
    },
    {
     "name": "stderr",
     "output_type": "stream",
     "text": [
      "getfattr: /home/jupyter/data/model_data/mini_data_set/time_20230806_070000.nc: Operation not supported\n",
      "getfattr: /home/jupyter/data/model_data/mini_data_set/time_20230815_180000.nc: Operation not supported\n",
      "getfattr: /home/jupyter/data/model_data/mini_data_set/time_20230807_150000.nc: Operation not supported\n",
      "getfattr: /home/jupyter/data/model_data/mini_data_set/time_20230804_100000.nc: Operation not supported\n",
      "getfattr: /home/jupyter/data/model_data/mini_data_set/time_20230807_170000.nc: Operation not supported\n"
     ]
    },
    {
     "name": "stdout",
     "output_type": "stream",
     "text": [
      " 6/25 [======>.......................] - ETA: 15s - loss: 4.5011"
     ]
    },
    {
     "name": "stderr",
     "output_type": "stream",
     "text": [
      "getfattr: /home/jupyter/data/model_data/mini_data_set/time_20230807_070000.nc: Operation not supported\n",
      "getfattr: /home/jupyter/data/model_data/mini_data_set/time_20230804_090000.nc: Operation not supported\n",
      "getfattr: /home/jupyter/data/model_data/mini_data_set/time_20230811_140000.nc: Operation not supported\n",
      "getfattr: /home/jupyter/data/model_data/mini_data_set/time_20230807_180000.nc: Operation not supported\n"
     ]
    },
    {
     "name": "stdout",
     "output_type": "stream",
     "text": [
      " 7/25 [=======>......................] - ETA: 15s - loss: 5.7339"
     ]
    },
    {
     "name": "stderr",
     "output_type": "stream",
     "text": [
      "getfattr: /home/jupyter/data/model_data/mini_data_set/time_20230806_180000.nc: Operation not supported\n",
      "getfattr: /home/jupyter/data/model_data/mini_data_set/time_20230805_140000.nc: Operation not supported\n",
      "getfattr: /home/jupyter/data/model_data/mini_data_set/time_20230811_160000.nc: Operation not supported\n",
      "getfattr: /home/jupyter/data/model_data/mini_data_set/time_20230807_100000.nc: Operation not supported\n"
     ]
    },
    {
     "name": "stdout",
     "output_type": "stream",
     "text": [
      " 8/25 [========>.....................] - ETA: 14s - loss: 5.2757"
     ]
    },
    {
     "name": "stderr",
     "output_type": "stream",
     "text": [
      "getfattr: /home/jupyter/data/model_data/mini_data_set/time_20230816_070000.nc: Operation not supported\n",
      "getfattr: /home/jupyter/data/model_data/mini_data_set/time_20230815_160000.nc: Operation not supported\n",
      "getfattr: /home/jupyter/data/model_data/mini_data_set/time_20230806_090000.nc: Operation not supported\n",
      "getfattr: /home/jupyter/data/model_data/mini_data_set/time_20230805_150000.nc: Operation not supported\n"
     ]
    },
    {
     "name": "stdout",
     "output_type": "stream",
     "text": [
      " 9/25 [=========>....................] - ETA: 13s - loss: 4.8614"
     ]
    },
    {
     "name": "stderr",
     "output_type": "stream",
     "text": [
      "getfattr: /home/jupyter/data/model_data/mini_data_set/time_20230805_170000.nc: Operation not supported\n",
      "getfattr: /home/jupyter/data/model_data/mini_data_set/time_20230804_150000.nc: Operation not supported\n",
      "getfattr: /home/jupyter/data/model_data/mini_data_set/time_20230804_120000.nc: Operation not supported\n",
      "getfattr: /home/jupyter/data/model_data/mini_data_set/time_20230816_110000.nc: Operation not supported\n"
     ]
    },
    {
     "name": "stdout",
     "output_type": "stream",
     "text": [
      "10/25 [===========>..................] - ETA: 12s - loss: 5.4310"
     ]
    },
    {
     "name": "stderr",
     "output_type": "stream",
     "text": [
      "getfattr: /home/jupyter/data/model_data/mini_data_set/time_20230816_150000.nc: Operation not supported\n",
      "getfattr: /home/jupyter/data/model_data/mini_data_set/time_20230807_130000.nc: Operation not supported\n",
      "getfattr: /home/jupyter/data/model_data/mini_data_set/time_20230815_170000.nc: Operation not supported\n",
      "getfattr: /home/jupyter/data/model_data/mini_data_set/time_20230811_110000.nc: Operation not supported\n"
     ]
    },
    {
     "name": "stdout",
     "output_type": "stream",
     "text": [
      "11/25 [============>.................] - ETA: 11s - loss: 5.4810"
     ]
    },
    {
     "name": "stderr",
     "output_type": "stream",
     "text": [
      "getfattr: /home/jupyter/data/model_data/mini_data_set/time_20230808_170000.nc: Operation not supported\n",
      "getfattr: /home/jupyter/data/model_data/mini_data_set/time_20230811_170000.nc: Operation not supported\n",
      "getfattr: /home/jupyter/data/model_data/mini_data_set/time_20230806_080000.nc: Operation not supported\n",
      "getfattr: /home/jupyter/data/model_data/mini_data_set/time_20230806_170000.nc: Operation not supported\n"
     ]
    },
    {
     "name": "stdout",
     "output_type": "stream",
     "text": [
      "12/25 [=============>................] - ETA: 10s - loss: 5.7626"
     ]
    },
    {
     "name": "stderr",
     "output_type": "stream",
     "text": [
      "getfattr: /home/jupyter/data/model_data/mini_data_set/time_20230807_160000.nc: Operation not supported\n",
      "getfattr: /home/jupyter/data/model_data/mini_data_set/time_20230804_130000.nc: Operation not supported\n",
      "getfattr: /home/jupyter/data/model_data/mini_data_set/time_20230809_070000.nc: Operation not supported\n",
      "getfattr: /home/jupyter/data/model_data/mini_data_set/time_20230805_160000.nc: Operation not supported\n"
     ]
    },
    {
     "name": "stdout",
     "output_type": "stream",
     "text": [
      "13/25 [==============>...............] - ETA: 9s - loss: 5.6196 "
     ]
    },
    {
     "name": "stderr",
     "output_type": "stream",
     "text": [
      "getfattr: /home/jupyter/data/model_data/mini_data_set/time_20230804_170000.nc: Operation not supported\n",
      "getfattr: /home/jupyter/data/model_data/mini_data_set/time_20230811_070000.nc: Operation not supported\n",
      "getfattr: /home/jupyter/data/model_data/mini_data_set/time_20230805_080000.nc: Operation not supported\n",
      "getfattr: /home/jupyter/data/model_data/mini_data_set/time_20230807_110000.nc: Operation not supported\n"
     ]
    },
    {
     "name": "stdout",
     "output_type": "stream",
     "text": [
      "14/25 [===============>..............] - ETA: 8s - loss: 5.4441"
     ]
    },
    {
     "name": "stderr",
     "output_type": "stream",
     "text": [
      "getfattr: /home/jupyter/data/model_data/mini_data_set/time_20230811_090000.nc: Operation not supported\n",
      "getfattr: /home/jupyter/data/model_data/mini_data_set/time_20230806_150000.nc: Operation not supported\n",
      "getfattr: /home/jupyter/data/model_data/mini_data_set/time_20230802_100000.nc: Operation not supported\n",
      "getfattr: /home/jupyter/data/model_data/mini_data_set/time_20230812_120000.nc: Operation not supported\n"
     ]
    },
    {
     "name": "stdout",
     "output_type": "stream",
     "text": [
      "15/25 [=================>............] - ETA: 8s - loss: 5.2522"
     ]
    },
    {
     "name": "stderr",
     "output_type": "stream",
     "text": [
      "getfattr: /home/jupyter/data/model_data/mini_data_set/time_20230809_130000.nc: Operation not supported\n",
      "getfattr: /home/jupyter/data/model_data/mini_data_set/time_20230806_100000.nc: Operation not supported\n",
      "getfattr: /home/jupyter/data/model_data/mini_data_set/time_20230815_120000.nc: Operation not supported\n",
      "getfattr: /home/jupyter/data/model_data/mini_data_set/time_20230804_070000.nc: Operation not supported\n"
     ]
    },
    {
     "name": "stdout",
     "output_type": "stream",
     "text": [
      "16/25 [==================>...........] - ETA: 7s - loss: 5.1684"
     ]
    },
    {
     "name": "stderr",
     "output_type": "stream",
     "text": [
      "getfattr: /home/jupyter/data/model_data/mini_data_set/time_20230807_090000.nc: Operation not supported\n",
      "getfattr: /home/jupyter/data/model_data/mini_data_set/time_20230805_100000.nc: Operation not supported\n",
      "getfattr: /home/jupyter/data/model_data/mini_data_set/time_20230816_100000.nc: Operation not supported\n",
      "getfattr: /home/jupyter/data/model_data/mini_data_set/time_20230812_080000.nc: Operation not supported\n"
     ]
    },
    {
     "name": "stdout",
     "output_type": "stream",
     "text": [
      "17/25 [===================>..........] - ETA: 6s - loss: 5.2652"
     ]
    },
    {
     "name": "stderr",
     "output_type": "stream",
     "text": [
      "getfattr: /home/jupyter/data/model_data/mini_data_set/time_20230809_150000.nc: Operation not supported\n",
      "getfattr: /home/jupyter/data/model_data/mini_data_set/time_20230816_140000.nc: Operation not supported\n",
      "getfattr: /home/jupyter/data/model_data/mini_data_set/time_20230802_120000.nc: Operation not supported\n",
      "getfattr: /home/jupyter/data/model_data/mini_data_set/time_20230806_160000.nc: Operation not supported\n"
     ]
    },
    {
     "name": "stdout",
     "output_type": "stream",
     "text": [
      "18/25 [====================>.........] - ETA: 5s - loss: 5.1357"
     ]
    },
    {
     "name": "stderr",
     "output_type": "stream",
     "text": [
      "getfattr: /home/jupyter/data/model_data/mini_data_set/time_20230811_130000.nc: Operation not supported\n",
      "getfattr: /home/jupyter/data/model_data/mini_data_set/time_20230805_120000.nc: Operation not supported\n",
      "getfattr: /home/jupyter/data/model_data/mini_data_set/time_20230809_110000.nc: Operation not supported\n",
      "getfattr: /home/jupyter/data/model_data/mini_data_set/time_20230805_180000.nc: Operation not supported\n"
     ]
    },
    {
     "name": "stdout",
     "output_type": "stream",
     "text": [
      "19/25 [=====================>........] - ETA: 4s - loss: 5.4039"
     ]
    },
    {
     "name": "stderr",
     "output_type": "stream",
     "text": [
      "getfattr: /home/jupyter/data/model_data/mini_data_set/time_20230806_140000.nc: Operation not supported\n",
      "getfattr: /home/jupyter/data/model_data/mini_data_set/time_20230811_080000.nc: Operation not supported\n",
      "getfattr: /home/jupyter/data/model_data/mini_data_set/time_20230816_090000.nc: Operation not supported\n",
      "getfattr: /home/jupyter/data/model_data/mini_data_set/time_20230808_160000.nc: Operation not supported\n"
     ]
    },
    {
     "name": "stdout",
     "output_type": "stream",
     "text": [
      "20/25 [=======================>......] - ETA: 4s - loss: 5.2320"
     ]
    },
    {
     "name": "stderr",
     "output_type": "stream",
     "text": [
      "getfattr: /home/jupyter/data/model_data/mini_data_set/time_20230812_150000.nc: Operation not supported\n",
      "getfattr: /home/jupyter/data/model_data/mini_data_set/time_20230802_150000.nc: Operation not supported\n",
      "getfattr: /home/jupyter/data/model_data/mini_data_set/time_20230812_140000.nc: Operation not supported\n",
      "getfattr: /home/jupyter/data/model_data/mini_data_set/time_20230809_160000.nc: Operation not supported\n"
     ]
    },
    {
     "name": "stdout",
     "output_type": "stream",
     "text": [
      "21/25 [========================>.....] - ETA: 3s - loss: 5.1171"
     ]
    },
    {
     "name": "stderr",
     "output_type": "stream",
     "text": [
      "getfattr: /home/jupyter/data/model_data/mini_data_set/time_20230802_130000.nc: Operation not supported\n",
      "getfattr: /home/jupyter/data/model_data/mini_data_set/time_20230808_140000.nc: Operation not supported\n",
      "getfattr: /home/jupyter/data/model_data/mini_data_set/time_20230809_090000.nc: Operation not supported\n"
     ]
    },
    {
     "name": "stdout",
     "output_type": "stream",
     "text": [
      "22/25 [=========================>....] - ETA: 2s - loss: 5.0599"
     ]
    },
    {
     "name": "stderr",
     "output_type": "stream",
     "text": [
      "getfattr: /home/jupyter/data/model_data/mini_data_set/time_20230806_110000.nc: Operation not supported\n",
      "getfattr: /home/jupyter/data/model_data/mini_data_set/time_20230812_180000.nc: Operation not supported\n",
      "getfattr: /home/jupyter/data/model_data/mini_data_set/time_20230812_130000.nc: Operation not supported\n",
      "getfattr: /home/jupyter/data/model_data/mini_data_set/time_20230802_110000.nc: Operation not supported\n",
      "getfattr: /home/jupyter/data/model_data/mini_data_set/time_20230809_100000.nc: Operation not supported\n"
     ]
    },
    {
     "name": "stdout",
     "output_type": "stream",
     "text": [
      "23/25 [==========================>...] - ETA: 1s - loss: 5.2114"
     ]
    },
    {
     "name": "stderr",
     "output_type": "stream",
     "text": [
      "getfattr: /home/jupyter/data/model_data/mini_data_set/time_20230815_150000.nc: Operation not supported\n",
      "getfattr: /home/jupyter/data/model_data/mini_data_set/time_20230805_110000.nc: Operation not supported\n",
      "getfattr: /home/jupyter/data/model_data/mini_data_set/time_20230807_080000.nc: Operation not supported\n",
      "getfattr: /home/jupyter/data/model_data/mini_data_set/time_20230812_170000.nc: Operation not supported\n"
     ]
    },
    {
     "name": "stdout",
     "output_type": "stream",
     "text": [
      "25/25 [==============================] - ETA: 0s - loss: 5.3153"
     ]
    },
    {
     "name": "stderr",
     "output_type": "stream",
     "text": [
      "getfattr: /home/jupyter/data/model_data/mini_data_set/time_20230807_160000.nc: Operation not supported\n",
      "getfattr: /home/jupyter/data/model_data/mini_data_set/time_20230804_130000.nc: Operation not supported\n",
      "getfattr: /home/jupyter/data/model_data/mini_data_set/time_20230809_070000.nc: Operation not supported\n",
      "getfattr: /home/jupyter/data/model_data/mini_data_set/time_20230805_160000.nc: Operation not supported\n",
      "getfattr: /home/jupyter/data/model_data/mini_data_set/time_20230811_090000.nc: Operation not supported\n",
      "getfattr: /home/jupyter/data/model_data/mini_data_set/time_20230806_150000.nc: Operation not supported\n",
      "getfattr: /home/jupyter/data/model_data/mini_data_set/time_20230802_100000.nc: Operation not supported\n",
      "getfattr: /home/jupyter/data/model_data/mini_data_set/time_20230812_120000.nc: Operation not supported\n",
      "getfattr: /home/jupyter/data/model_data/mini_data_set/time_20230808_170000.nc: Operation not supported\n",
      "getfattr: /home/jupyter/data/model_data/mini_data_set/time_20230811_170000.nc: Operation not supported\n",
      "getfattr: /home/jupyter/data/model_data/mini_data_set/time_20230806_080000.nc: Operation not supported\n",
      "getfattr: /home/jupyter/data/model_data/mini_data_set/time_20230806_170000.nc: Operation not supported\n",
      "getfattr: /home/jupyter/data/model_data/mini_data_set/time_20230809_130000.nc: Operation not supported\n",
      "getfattr: /home/jupyter/data/model_data/mini_data_set/time_20230806_100000.nc: Operation not supported\n",
      "getfattr: /home/jupyter/data/model_data/mini_data_set/time_20230815_120000.nc: Operation not supported\n",
      "getfattr: /home/jupyter/data/model_data/mini_data_set/time_20230804_070000.nc: Operation not supported\n",
      "getfattr: /home/jupyter/data/model_data/mini_data_set/time_20230808_180000.nc: Operation not supported\n",
      "getfattr: /home/jupyter/data/model_data/mini_data_set/time_20230816_160000.nc: Operation not supported\n",
      "getfattr: /home/jupyter/data/model_data/mini_data_set/time_20230812_160000.nc: Operation not supported\n",
      "getfattr: /home/jupyter/data/model_data/mini_data_set/time_20230806_070000.nc: Operation not supported\n",
      "getfattr: /home/jupyter/data/model_data/mini_data_set/time_20230804_170000.nc: Operation not supported\n",
      "getfattr: /home/jupyter/data/model_data/mini_data_set/time_20230811_070000.nc: Operation not supported\n",
      "getfattr: /home/jupyter/data/model_data/mini_data_set/time_20230805_080000.nc: Operation not supported\n",
      "getfattr: /home/jupyter/data/model_data/mini_data_set/time_20230807_110000.nc: Operation not supported\n",
      "getfattr: /home/jupyter/data/model_data/mini_data_set/time_20230806_140000.nc: Operation not supported\n",
      "getfattr: /home/jupyter/data/model_data/mini_data_set/time_20230811_080000.nc: Operation not supported\n",
      "getfattr: /home/jupyter/data/model_data/mini_data_set/time_20230816_090000.nc: Operation not supported\n",
      "getfattr: /home/jupyter/data/model_data/mini_data_set/time_20230808_160000.nc: Operation not supported\n",
      "getfattr: /home/jupyter/data/model_data/mini_data_set/time_20230816_150000.nc: Operation not supported\n",
      "getfattr: /home/jupyter/data/model_data/mini_data_set/time_20230807_130000.nc: Operation not supported\n",
      "getfattr: /home/jupyter/data/model_data/mini_data_set/time_20230815_170000.nc: Operation not supported\n",
      "getfattr: /home/jupyter/data/model_data/mini_data_set/time_20230811_110000.nc: Operation not supported\n",
      "getfattr: /home/jupyter/data/model_data/mini_data_set/time_20230809_140000.nc: Operation not supported\n",
      "getfattr: /home/jupyter/data/model_data/mini_data_set/time_20230809_080000.nc: Operation not supported\n",
      "getfattr: /home/jupyter/data/model_data/mini_data_set/time_20230811_180000.nc: Operation not supported\n",
      "getfattr: /home/jupyter/data/model_data/mini_data_set/time_20230812_070000.nc: Operation not supported\n",
      "getfattr: /home/jupyter/data/model_data/mini_data_set/time_20230815_180000.nc: Operation not supported\n",
      "getfattr: /home/jupyter/data/model_data/mini_data_set/time_20230807_150000.nc: Operation not supported\n",
      "getfattr: /home/jupyter/data/model_data/mini_data_set/time_20230804_100000.nc: Operation not supported\n",
      "getfattr: /home/jupyter/data/model_data/mini_data_set/time_20230807_170000.nc: Operation not supported\n",
      "getfattr: /home/jupyter/data/model_data/mini_data_set/time_20230812_150000.nc: Operation not supported\n",
      "getfattr: /home/jupyter/data/model_data/mini_data_set/time_20230802_150000.nc: Operation not supported\n",
      "getfattr: /home/jupyter/data/model_data/mini_data_set/time_20230812_140000.nc: Operation not supported\n",
      "getfattr: /home/jupyter/data/model_data/mini_data_set/time_20230809_160000.nc: Operation not supported\n",
      "getfattr: /home/jupyter/data/model_data/mini_data_set/time_20230802_130000.nc: Operation not supported\n",
      "getfattr: /home/jupyter/data/model_data/mini_data_set/time_20230808_140000.nc: Operation not supported\n",
      "getfattr: /home/jupyter/data/model_data/mini_data_set/time_20230809_090000.nc: Operation not supported\n",
      "getfattr: /home/jupyter/data/model_data/mini_data_set/time_20230806_110000.nc: Operation not supported\n",
      "getfattr: /home/jupyter/data/model_data/mini_data_set/time_20230807_090000.nc: Operation not supported\n",
      "getfattr: /home/jupyter/data/model_data/mini_data_set/time_20230805_100000.nc: Operation not supported\n",
      "getfattr: /home/jupyter/data/model_data/mini_data_set/time_20230816_100000.nc: Operation not supported\n",
      "getfattr: /home/jupyter/data/model_data/mini_data_set/time_20230812_080000.nc: Operation not supported\n",
      "getfattr: /home/jupyter/data/model_data/mini_data_set/time_20230812_180000.nc: Operation not supported\n",
      "getfattr: /home/jupyter/data/model_data/mini_data_set/time_20230812_130000.nc: Operation not supported\n",
      "getfattr: /home/jupyter/data/model_data/mini_data_set/time_20230802_110000.nc: Operation not supported\n",
      "getfattr: /home/jupyter/data/model_data/mini_data_set/time_20230809_100000.nc: Operation not supported\n",
      "getfattr: /home/jupyter/data/model_data/mini_data_set/time_20230802_140000.nc: Operation not supported\n",
      "getfattr: /home/jupyter/data/model_data/mini_data_set/time_20230808_150000.nc: Operation not supported\n",
      "getfattr: /home/jupyter/data/model_data/mini_data_set/time_20230811_150000.nc: Operation not supported\n",
      "getfattr: /home/jupyter/data/model_data/mini_data_set/time_20230809_180000.nc: Operation not supported\n",
      "getfattr: /home/jupyter/data/model_data/mini_data_set/time_20230806_120000.nc: Operation not supported\n",
      "getfattr: /home/jupyter/data/model_data/mini_data_set/time_20230804_080000.nc: Operation not supported\n",
      "getfattr: /home/jupyter/data/model_data/mini_data_set/time_20230807_140000.nc: Operation not supported\n",
      "getfattr: /home/jupyter/data/model_data/mini_data_set/time_20230804_160000.nc: Operation not supported\n",
      "getfattr: /home/jupyter/data/model_data/mini_data_set/time_20230807_070000.nc: Operation not supported\n",
      "getfattr: /home/jupyter/data/model_data/mini_data_set/time_20230804_090000.nc: Operation not supported\n",
      "getfattr: /home/jupyter/data/model_data/mini_data_set/time_20230811_140000.nc: Operation not supported\n",
      "getfattr: /home/jupyter/data/model_data/mini_data_set/time_20230807_180000.nc: Operation not supported\n",
      "getfattr: /home/jupyter/data/model_data/mini_data_set/time_20230805_070000.nc: Operation not supported\n",
      "getfattr: /home/jupyter/data/model_data/mini_data_set/time_20230804_180000.nc: Operation not supported\n",
      "getfattr: /home/jupyter/data/model_data/mini_data_set/time_20230805_090000.nc: Operation not supported\n",
      "getfattr: /home/jupyter/data/model_data/mini_data_set/time_20230811_100000.nc: Operation not supported\n",
      "getfattr: /home/jupyter/data/model_data/mini_data_set/time_20230811_130000.nc: Operation not supported\n",
      "getfattr: /home/jupyter/data/model_data/mini_data_set/time_20230805_120000.nc: Operation not supported\n",
      "getfattr: /home/jupyter/data/model_data/mini_data_set/time_20230809_110000.nc: Operation not supported\n",
      "getfattr: /home/jupyter/data/model_data/mini_data_set/time_20230805_180000.nc: Operation not supported\n",
      "getfattr: /home/jupyter/data/model_data/mini_data_set/time_20230809_150000.nc: Operation not supported\n",
      "getfattr: /home/jupyter/data/model_data/mini_data_set/time_20230816_140000.nc: Operation not supported\n",
      "getfattr: /home/jupyter/data/model_data/mini_data_set/time_20230802_120000.nc: Operation not supported\n",
      "getfattr: /home/jupyter/data/model_data/mini_data_set/time_20230806_160000.nc: Operation not supported\n",
      "getfattr: /home/jupyter/data/model_data/mini_data_set/time_20230805_170000.nc: Operation not supported\n",
      "getfattr: /home/jupyter/data/model_data/mini_data_set/time_20230804_150000.nc: Operation not supported\n",
      "getfattr: /home/jupyter/data/model_data/mini_data_set/time_20230804_120000.nc: Operation not supported\n",
      "getfattr: /home/jupyter/data/model_data/mini_data_set/time_20230816_110000.nc: Operation not supported\n",
      "getfattr: /home/jupyter/data/model_data/mini_data_set/time_20230806_180000.nc: Operation not supported\n",
      "getfattr: /home/jupyter/data/model_data/mini_data_set/time_20230805_140000.nc: Operation not supported\n",
      "getfattr: /home/jupyter/data/model_data/mini_data_set/time_20230811_160000.nc: Operation not supported\n",
      "getfattr: /home/jupyter/data/model_data/mini_data_set/time_20230807_100000.nc: Operation not supported\n",
      "getfattr: /home/jupyter/data/model_data/mini_data_set/time_20230804_140000.nc: Operation not supported\n",
      "getfattr: /home/jupyter/data/model_data/mini_data_set/time_20230809_170000.nc: Operation not supported\n",
      "getfattr: /home/jupyter/data/model_data/mini_data_set/time_20230816_080000.nc: Operation not supported\n",
      "getfattr: /home/jupyter/data/model_data/mini_data_set/time_20230816_040000.nc: Operation not supported\n",
      "getfattr: /home/jupyter/data/model_data/mini_data_set/time_20230815_150000.nc: Operation not supported\n",
      "getfattr: /home/jupyter/data/model_data/mini_data_set/time_20230805_110000.nc: Operation not supported\n",
      "getfattr: /home/jupyter/data/model_data/mini_data_set/time_20230807_080000.nc: Operation not supported\n",
      "getfattr: /home/jupyter/data/model_data/mini_data_set/time_20230812_170000.nc: Operation not supported\n",
      "getfattr: /home/jupyter/data/model_data/mini_data_set/time_20230816_070000.nc: Operation not supported\n",
      "getfattr: /home/jupyter/data/model_data/mini_data_set/time_20230815_160000.nc: Operation not supported\n",
      "getfattr: /home/jupyter/data/model_data/mini_data_set/time_20230806_090000.nc: Operation not supported\n",
      "getfattr: /home/jupyter/data/model_data/mini_data_set/time_20230805_150000.nc: Operation not supported\n"
     ]
    },
    {
     "name": "stdout",
     "output_type": "stream",
     "text": [
      "25/25 [==============================] - 41s 2s/step - loss: 5.3153 - val_loss: 4.0190\n"
     ]
    },
    {
     "name": "stderr",
     "output_type": "stream",
     "text": [
      "getfattr: /home/jupyter/data/model_data/mini_data_set/time_20230807_160000.nc: Operation not supported\n",
      "getfattr: /home/jupyter/data/model_data/mini_data_set/time_20230804_130000.nc: Operation not supported\n",
      "getfattr: /home/jupyter/data/model_data/mini_data_set/time_20230809_070000.nc: Operation not supported\n",
      "getfattr: /home/jupyter/data/model_data/mini_data_set/time_20230805_160000.nc: Operation not supported\n"
     ]
    },
    {
     "name": "stdout",
     "output_type": "stream",
     "text": [
      "1/1 [==============================] - 0s 195ms/step\n"
     ]
    },
    {
     "name": "stderr",
     "output_type": "stream",
     "text": [
      "getfattr: /home/jupyter/data/model_data/mini_data_set/time_20230811_090000.nc: Operation not supported\n",
      "getfattr: /home/jupyter/data/model_data/mini_data_set/time_20230806_150000.nc: Operation not supported\n",
      "getfattr: /home/jupyter/data/model_data/mini_data_set/time_20230802_100000.nc: Operation not supported\n",
      "getfattr: /home/jupyter/data/model_data/mini_data_set/time_20230812_120000.nc: Operation not supported\n"
     ]
    },
    {
     "name": "stdout",
     "output_type": "stream",
     "text": [
      "1/1 [==============================] - 0s 151ms/step\n"
     ]
    },
    {
     "name": "stderr",
     "output_type": "stream",
     "text": [
      "getfattr: /home/jupyter/data/model_data/mini_data_set/time_20230808_170000.nc: Operation not supported\n",
      "getfattr: /home/jupyter/data/model_data/mini_data_set/time_20230811_170000.nc: Operation not supported\n",
      "getfattr: /home/jupyter/data/model_data/mini_data_set/time_20230806_080000.nc: Operation not supported\n",
      "getfattr: /home/jupyter/data/model_data/mini_data_set/time_20230806_170000.nc: Operation not supported\n"
     ]
    },
    {
     "name": "stdout",
     "output_type": "stream",
     "text": [
      "1/1 [==============================] - 0s 152ms/step\n"
     ]
    },
    {
     "name": "stderr",
     "output_type": "stream",
     "text": [
      "getfattr: /home/jupyter/data/model_data/mini_data_set/time_20230809_130000.nc: Operation not supported\n",
      "getfattr: /home/jupyter/data/model_data/mini_data_set/time_20230806_100000.nc: Operation not supported\n",
      "getfattr: /home/jupyter/data/model_data/mini_data_set/time_20230815_120000.nc: Operation not supported\n",
      "getfattr: /home/jupyter/data/model_data/mini_data_set/time_20230804_070000.nc: Operation not supported\n"
     ]
    },
    {
     "name": "stdout",
     "output_type": "stream",
     "text": [
      "1/1 [==============================] - 0s 153ms/step\n"
     ]
    },
    {
     "name": "stderr",
     "output_type": "stream",
     "text": [
      "getfattr: /home/jupyter/data/model_data/mini_data_set/time_20230808_180000.nc: Operation not supported\n",
      "getfattr: /home/jupyter/data/model_data/mini_data_set/time_20230816_160000.nc: Operation not supported\n",
      "getfattr: /home/jupyter/data/model_data/mini_data_set/time_20230812_160000.nc: Operation not supported\n",
      "getfattr: /home/jupyter/data/model_data/mini_data_set/time_20230806_070000.nc: Operation not supported\n"
     ]
    },
    {
     "name": "stdout",
     "output_type": "stream",
     "text": [
      "1/1 [==============================] - 0s 151ms/step\n"
     ]
    },
    {
     "name": "stderr",
     "output_type": "stream",
     "text": [
      "getfattr: /home/jupyter/data/model_data/mini_data_set/time_20230804_170000.nc: Operation not supported\n",
      "getfattr: /home/jupyter/data/model_data/mini_data_set/time_20230811_070000.nc: Operation not supported\n",
      "getfattr: /home/jupyter/data/model_data/mini_data_set/time_20230805_080000.nc: Operation not supported\n",
      "getfattr: /home/jupyter/data/model_data/mini_data_set/time_20230807_110000.nc: Operation not supported\n"
     ]
    },
    {
     "name": "stdout",
     "output_type": "stream",
     "text": [
      "1/1 [==============================] - 0s 151ms/step\n"
     ]
    },
    {
     "name": "stderr",
     "output_type": "stream",
     "text": [
      "getfattr: /home/jupyter/data/model_data/mini_data_set/time_20230806_140000.nc: Operation not supported\n",
      "getfattr: /home/jupyter/data/model_data/mini_data_set/time_20230811_080000.nc: Operation not supported\n",
      "getfattr: /home/jupyter/data/model_data/mini_data_set/time_20230816_090000.nc: Operation not supported\n",
      "getfattr: /home/jupyter/data/model_data/mini_data_set/time_20230808_160000.nc: Operation not supported\n"
     ]
    },
    {
     "name": "stdout",
     "output_type": "stream",
     "text": [
      "1/1 [==============================] - 0s 153ms/step\n"
     ]
    },
    {
     "name": "stderr",
     "output_type": "stream",
     "text": [
      "getfattr: /home/jupyter/data/model_data/mini_data_set/time_20230816_150000.nc: Operation not supported\n",
      "getfattr: /home/jupyter/data/model_data/mini_data_set/time_20230807_130000.nc: Operation not supported\n",
      "getfattr: /home/jupyter/data/model_data/mini_data_set/time_20230815_170000.nc: Operation not supported\n",
      "getfattr: /home/jupyter/data/model_data/mini_data_set/time_20230811_110000.nc: Operation not supported\n"
     ]
    },
    {
     "name": "stdout",
     "output_type": "stream",
     "text": [
      "1/1 [==============================] - 0s 150ms/step\n"
     ]
    },
    {
     "name": "stderr",
     "output_type": "stream",
     "text": [
      "getfattr: /home/jupyter/data/model_data/mini_data_set/time_20230809_140000.nc: Operation not supported\n",
      "getfattr: /home/jupyter/data/model_data/mini_data_set/time_20230809_080000.nc: Operation not supported\n",
      "getfattr: /home/jupyter/data/model_data/mini_data_set/time_20230811_180000.nc: Operation not supported\n",
      "getfattr: /home/jupyter/data/model_data/mini_data_set/time_20230812_070000.nc: Operation not supported\n"
     ]
    },
    {
     "name": "stdout",
     "output_type": "stream",
     "text": [
      "1/1 [==============================] - 0s 152ms/step\n"
     ]
    },
    {
     "name": "stderr",
     "output_type": "stream",
     "text": [
      "getfattr: /home/jupyter/data/model_data/mini_data_set/time_20230815_180000.nc: Operation not supported\n",
      "getfattr: /home/jupyter/data/model_data/mini_data_set/time_20230807_150000.nc: Operation not supported\n",
      "getfattr: /home/jupyter/data/model_data/mini_data_set/time_20230804_100000.nc: Operation not supported\n",
      "getfattr: /home/jupyter/data/model_data/mini_data_set/time_20230807_170000.nc: Operation not supported\n"
     ]
    },
    {
     "name": "stdout",
     "output_type": "stream",
     "text": [
      "1/1 [==============================] - 0s 152ms/step\n"
     ]
    },
    {
     "name": "stderr",
     "output_type": "stream",
     "text": [
      "getfattr: /home/jupyter/data/model_data/mini_data_set/time_20230812_150000.nc: Operation not supported\n",
      "getfattr: /home/jupyter/data/model_data/mini_data_set/time_20230802_150000.nc: Operation not supported\n",
      "getfattr: /home/jupyter/data/model_data/mini_data_set/time_20230812_140000.nc: Operation not supported\n",
      "getfattr: /home/jupyter/data/model_data/mini_data_set/time_20230809_160000.nc: Operation not supported\n"
     ]
    },
    {
     "name": "stdout",
     "output_type": "stream",
     "text": [
      "1/1 [==============================] - 0s 153ms/step\n"
     ]
    },
    {
     "name": "stderr",
     "output_type": "stream",
     "text": [
      "getfattr: /home/jupyter/data/model_data/mini_data_set/time_20230802_130000.nc: Operation not supported\n",
      "getfattr: /home/jupyter/data/model_data/mini_data_set/time_20230808_140000.nc: Operation not supported\n",
      "getfattr: /home/jupyter/data/model_data/mini_data_set/time_20230809_090000.nc: Operation not supported\n",
      "getfattr: /home/jupyter/data/model_data/mini_data_set/time_20230806_110000.nc: Operation not supported\n"
     ]
    },
    {
     "name": "stdout",
     "output_type": "stream",
     "text": [
      "1/1 [==============================] - 0s 150ms/step\n"
     ]
    },
    {
     "name": "stderr",
     "output_type": "stream",
     "text": [
      "getfattr: /home/jupyter/data/model_data/mini_data_set/time_20230807_090000.nc: Operation not supported\n",
      "getfattr: /home/jupyter/data/model_data/mini_data_set/time_20230805_100000.nc: Operation not supported\n",
      "getfattr: /home/jupyter/data/model_data/mini_data_set/time_20230816_100000.nc: Operation not supported\n",
      "getfattr: /home/jupyter/data/model_data/mini_data_set/time_20230812_080000.nc: Operation not supported\n"
     ]
    },
    {
     "name": "stdout",
     "output_type": "stream",
     "text": [
      "1/1 [==============================] - 0s 151ms/step\n"
     ]
    },
    {
     "name": "stderr",
     "output_type": "stream",
     "text": [
      "getfattr: /home/jupyter/data/model_data/mini_data_set/time_20230812_180000.nc: Operation not supported\n",
      "getfattr: /home/jupyter/data/model_data/mini_data_set/time_20230812_130000.nc: Operation not supported\n",
      "getfattr: /home/jupyter/data/model_data/mini_data_set/time_20230802_110000.nc: Operation not supported\n",
      "getfattr: /home/jupyter/data/model_data/mini_data_set/time_20230809_100000.nc: Operation not supported\n"
     ]
    },
    {
     "name": "stdout",
     "output_type": "stream",
     "text": [
      "1/1 [==============================] - 0s 150ms/step\n"
     ]
    },
    {
     "name": "stderr",
     "output_type": "stream",
     "text": [
      "getfattr: /home/jupyter/data/model_data/mini_data_set/time_20230802_140000.nc: Operation not supported\n",
      "getfattr: /home/jupyter/data/model_data/mini_data_set/time_20230808_150000.nc: Operation not supported\n",
      "getfattr: /home/jupyter/data/model_data/mini_data_set/time_20230811_150000.nc: Operation not supported\n",
      "getfattr: /home/jupyter/data/model_data/mini_data_set/time_20230809_180000.nc: Operation not supported\n"
     ]
    },
    {
     "name": "stdout",
     "output_type": "stream",
     "text": [
      "1/1 [==============================] - 0s 153ms/step\n"
     ]
    },
    {
     "name": "stderr",
     "output_type": "stream",
     "text": [
      "getfattr: /home/jupyter/data/model_data/mini_data_set/time_20230806_120000.nc: Operation not supported\n",
      "getfattr: /home/jupyter/data/model_data/mini_data_set/time_20230804_080000.nc: Operation not supported\n",
      "getfattr: /home/jupyter/data/model_data/mini_data_set/time_20230807_140000.nc: Operation not supported\n",
      "getfattr: /home/jupyter/data/model_data/mini_data_set/time_20230804_160000.nc: Operation not supported\n"
     ]
    },
    {
     "name": "stdout",
     "output_type": "stream",
     "text": [
      "1/1 [==============================] - 0s 149ms/step\n"
     ]
    },
    {
     "name": "stderr",
     "output_type": "stream",
     "text": [
      "getfattr: /home/jupyter/data/model_data/mini_data_set/time_20230807_070000.nc: Operation not supported\n",
      "getfattr: /home/jupyter/data/model_data/mini_data_set/time_20230804_090000.nc: Operation not supported\n",
      "getfattr: /home/jupyter/data/model_data/mini_data_set/time_20230811_140000.nc: Operation not supported\n",
      "getfattr: /home/jupyter/data/model_data/mini_data_set/time_20230807_180000.nc: Operation not supported\n"
     ]
    },
    {
     "name": "stdout",
     "output_type": "stream",
     "text": [
      "1/1 [==============================] - 0s 153ms/step\n"
     ]
    },
    {
     "name": "stderr",
     "output_type": "stream",
     "text": [
      "getfattr: /home/jupyter/data/model_data/mini_data_set/time_20230805_070000.nc: Operation not supported\n",
      "getfattr: /home/jupyter/data/model_data/mini_data_set/time_20230804_180000.nc: Operation not supported\n",
      "getfattr: /home/jupyter/data/model_data/mini_data_set/time_20230805_090000.nc: Operation not supported\n",
      "getfattr: /home/jupyter/data/model_data/mini_data_set/time_20230811_100000.nc: Operation not supported\n"
     ]
    },
    {
     "name": "stdout",
     "output_type": "stream",
     "text": [
      "1/1 [==============================] - 0s 153ms/step\n"
     ]
    },
    {
     "name": "stderr",
     "output_type": "stream",
     "text": [
      "getfattr: /home/jupyter/data/model_data/mini_data_set/time_20230811_130000.nc: Operation not supported\n",
      "getfattr: /home/jupyter/data/model_data/mini_data_set/time_20230805_120000.nc: Operation not supported\n",
      "getfattr: /home/jupyter/data/model_data/mini_data_set/time_20230809_110000.nc: Operation not supported\n",
      "getfattr: /home/jupyter/data/model_data/mini_data_set/time_20230805_180000.nc: Operation not supported\n"
     ]
    },
    {
     "name": "stdout",
     "output_type": "stream",
     "text": [
      "1/1 [==============================] - 0s 153ms/step\n"
     ]
    },
    {
     "name": "stderr",
     "output_type": "stream",
     "text": [
      "getfattr: /home/jupyter/data/model_data/mini_data_set/time_20230809_150000.nc: Operation not supported\n",
      "getfattr: /home/jupyter/data/model_data/mini_data_set/time_20230816_140000.nc: Operation not supported\n",
      "getfattr: /home/jupyter/data/model_data/mini_data_set/time_20230802_120000.nc: Operation not supported\n",
      "getfattr: /home/jupyter/data/model_data/mini_data_set/time_20230806_160000.nc: Operation not supported\n"
     ]
    },
    {
     "name": "stdout",
     "output_type": "stream",
     "text": [
      "1/1 [==============================] - 0s 151ms/step\n"
     ]
    },
    {
     "name": "stderr",
     "output_type": "stream",
     "text": [
      "getfattr: /home/jupyter/data/model_data/mini_data_set/time_20230805_170000.nc: Operation not supported\n",
      "getfattr: /home/jupyter/data/model_data/mini_data_set/time_20230804_150000.nc: Operation not supported\n",
      "getfattr: /home/jupyter/data/model_data/mini_data_set/time_20230804_120000.nc: Operation not supported\n",
      "getfattr: /home/jupyter/data/model_data/mini_data_set/time_20230816_110000.nc: Operation not supported\n"
     ]
    },
    {
     "name": "stdout",
     "output_type": "stream",
     "text": [
      "1/1 [==============================] - 0s 150ms/step\n"
     ]
    },
    {
     "name": "stderr",
     "output_type": "stream",
     "text": [
      "getfattr: /home/jupyter/data/model_data/mini_data_set/time_20230806_180000.nc: Operation not supported\n",
      "getfattr: /home/jupyter/data/model_data/mini_data_set/time_20230805_140000.nc: Operation not supported\n",
      "getfattr: /home/jupyter/data/model_data/mini_data_set/time_20230811_160000.nc: Operation not supported\n",
      "getfattr: /home/jupyter/data/model_data/mini_data_set/time_20230807_100000.nc: Operation not supported\n"
     ]
    },
    {
     "name": "stdout",
     "output_type": "stream",
     "text": [
      "1/1 [==============================] - 0s 149ms/step\n"
     ]
    },
    {
     "name": "stderr",
     "output_type": "stream",
     "text": [
      "getfattr: /home/jupyter/data/model_data/mini_data_set/time_20230804_140000.nc: Operation not supported\n",
      "getfattr: /home/jupyter/data/model_data/mini_data_set/time_20230809_170000.nc: Operation not supported\n",
      "getfattr: /home/jupyter/data/model_data/mini_data_set/time_20230816_080000.nc: Operation not supported\n",
      "getfattr: /home/jupyter/data/model_data/mini_data_set/time_20230816_040000.nc: Operation not supported\n"
     ]
    },
    {
     "name": "stdout",
     "output_type": "stream",
     "text": [
      "1/1 [==============================] - 0s 152ms/step\n"
     ]
    },
    {
     "name": "stderr",
     "output_type": "stream",
     "text": [
      "getfattr: /home/jupyter/data/model_data/mini_data_set/time_20230815_150000.nc: Operation not supported\n",
      "getfattr: /home/jupyter/data/model_data/mini_data_set/time_20230805_110000.nc: Operation not supported\n",
      "getfattr: /home/jupyter/data/model_data/mini_data_set/time_20230807_080000.nc: Operation not supported\n",
      "getfattr: /home/jupyter/data/model_data/mini_data_set/time_20230812_170000.nc: Operation not supported\n"
     ]
    },
    {
     "name": "stdout",
     "output_type": "stream",
     "text": [
      "1/1 [==============================] - 0s 152ms/step\n"
     ]
    },
    {
     "name": "stderr",
     "output_type": "stream",
     "text": [
      "getfattr: /home/jupyter/data/model_data/mini_data_set/time_20230816_070000.nc: Operation not supported\n",
      "getfattr: /home/jupyter/data/model_data/mini_data_set/time_20230815_160000.nc: Operation not supported\n",
      "getfattr: /home/jupyter/data/model_data/mini_data_set/time_20230806_090000.nc: Operation not supported\n",
      "getfattr: /home/jupyter/data/model_data/mini_data_set/time_20230805_150000.nc: Operation not supported\n"
     ]
    },
    {
     "name": "stdout",
     "output_type": "stream",
     "text": [
      "1/1 [==============================] - 0s 151ms/step\n",
      "Running CV group 4/5\n"
     ]
    },
    {
     "name": "stderr",
     "output_type": "stream",
     "text": [
      "getfattr: /home/jupyter/data/model_data/mini_data_set/time_20230807_160000.nc: Operation not supported\n",
      "getfattr: /home/jupyter/data/model_data/mini_data_set/time_20230804_130000.nc: Operation not supported\n",
      "getfattr: /home/jupyter/data/model_data/mini_data_set/time_20230809_070000.nc: Operation not supported\n",
      "getfattr: /home/jupyter/data/model_data/mini_data_set/time_20230805_160000.nc: Operation not supported\n"
     ]
    },
    {
     "name": "stdout",
     "output_type": "stream",
     "text": [
      "Epoch 1/4\n"
     ]
    },
    {
     "name": "stderr",
     "output_type": "stream",
     "text": [
      "getfattr: /home/jupyter/data/model_data/mini_data_set/time_20230816_070000.nc: Operation not supported\n",
      "getfattr: /home/jupyter/data/model_data/mini_data_set/time_20230815_160000.nc: Operation not supported\n",
      "getfattr: /home/jupyter/data/model_data/mini_data_set/time_20230806_090000.nc: Operation not supported\n",
      "getfattr: /home/jupyter/data/model_data/mini_data_set/time_20230805_150000.nc: Operation not supported\n",
      "getfattr: /home/jupyter/data/model_data/mini_data_set/time_20230805_170000.nc: Operation not supported\n",
      "getfattr: /home/jupyter/data/model_data/mini_data_set/time_20230804_150000.nc: Operation not supported\n",
      "getfattr: /home/jupyter/data/model_data/mini_data_set/time_20230804_120000.nc: Operation not supported\n",
      "getfattr: /home/jupyter/data/model_data/mini_data_set/time_20230816_110000.nc: Operation not supported\n"
     ]
    },
    {
     "name": "stdout",
     "output_type": "stream",
     "text": [
      " 1/25 [>.............................] - ETA: 1:02 - loss: 50.6559"
     ]
    },
    {
     "name": "stderr",
     "output_type": "stream",
     "text": [
      "getfattr: /home/jupyter/data/model_data/mini_data_set/time_20230806_180000.nc: Operation not supported\n",
      "getfattr: /home/jupyter/data/model_data/mini_data_set/time_20230805_140000.nc: Operation not supported\n",
      "getfattr: /home/jupyter/data/model_data/mini_data_set/time_20230811_160000.nc: Operation not supported\n",
      "getfattr: /home/jupyter/data/model_data/mini_data_set/time_20230807_100000.nc: Operation not supported\n"
     ]
    },
    {
     "name": "stdout",
     "output_type": "stream",
     "text": [
      " 2/25 [=>............................] - ETA: 14s - loss: 33.1029 "
     ]
    },
    {
     "name": "stderr",
     "output_type": "stream",
     "text": [
      "getfattr: /home/jupyter/data/model_data/mini_data_set/time_20230809_130000.nc: Operation not supported\n",
      "getfattr: /home/jupyter/data/model_data/mini_data_set/time_20230806_100000.nc: Operation not supported\n",
      "getfattr: /home/jupyter/data/model_data/mini_data_set/time_20230815_120000.nc: Operation not supported\n",
      "getfattr: /home/jupyter/data/model_data/mini_data_set/time_20230804_070000.nc: Operation not supported\n"
     ]
    },
    {
     "name": "stdout",
     "output_type": "stream",
     "text": [
      " 3/25 [==>...........................] - ETA: 15s - loss: 27.5750"
     ]
    },
    {
     "name": "stderr",
     "output_type": "stream",
     "text": [
      "getfattr: /home/jupyter/data/model_data/mini_data_set/time_20230812_180000.nc: Operation not supported\n",
      "getfattr: /home/jupyter/data/model_data/mini_data_set/time_20230812_130000.nc: Operation not supported\n",
      "getfattr: /home/jupyter/data/model_data/mini_data_set/time_20230802_110000.nc: Operation not supported\n",
      "getfattr: /home/jupyter/data/model_data/mini_data_set/time_20230809_100000.nc: Operation not supported\n"
     ]
    },
    {
     "name": "stdout",
     "output_type": "stream",
     "text": [
      " 4/25 [===>..........................] - ETA: 15s - loss: 23.0860"
     ]
    },
    {
     "name": "stderr",
     "output_type": "stream",
     "text": [
      "getfattr: /home/jupyter/data/model_data/mini_data_set/time_20230808_170000.nc: Operation not supported\n",
      "getfattr: /home/jupyter/data/model_data/mini_data_set/time_20230811_170000.nc: Operation not supported\n",
      "getfattr: /home/jupyter/data/model_data/mini_data_set/time_20230806_080000.nc: Operation not supported\n",
      "getfattr: /home/jupyter/data/model_data/mini_data_set/time_20230806_170000.nc: Operation not supported\n"
     ]
    },
    {
     "name": "stdout",
     "output_type": "stream",
     "text": [
      " 5/25 [=====>........................] - ETA: 15s - loss: 22.3341"
     ]
    },
    {
     "name": "stderr",
     "output_type": "stream",
     "text": [
      "getfattr: /home/jupyter/data/model_data/mini_data_set/time_20230802_130000.nc: Operation not supported\n",
      "getfattr: /home/jupyter/data/model_data/mini_data_set/time_20230808_140000.nc: Operation not supported\n",
      "getfattr: /home/jupyter/data/model_data/mini_data_set/time_20230809_090000.nc: Operation not supported\n",
      "getfattr: /home/jupyter/data/model_data/mini_data_set/time_20230806_110000.nc: Operation not supported\n"
     ]
    },
    {
     "name": "stdout",
     "output_type": "stream",
     "text": [
      " 6/25 [======>.......................] - ETA: 14s - loss: 19.7532"
     ]
    },
    {
     "name": "stderr",
     "output_type": "stream",
     "text": [
      "getfattr: /home/jupyter/data/model_data/mini_data_set/time_20230806_140000.nc: Operation not supported\n",
      "getfattr: /home/jupyter/data/model_data/mini_data_set/time_20230811_080000.nc: Operation not supported\n",
      "getfattr: /home/jupyter/data/model_data/mini_data_set/time_20230816_090000.nc: Operation not supported\n",
      "getfattr: /home/jupyter/data/model_data/mini_data_set/time_20230808_160000.nc: Operation not supported\n"
     ]
    },
    {
     "name": "stdout",
     "output_type": "stream",
     "text": [
      " 7/25 [=======>......................] - ETA: 14s - loss: 20.5611"
     ]
    },
    {
     "name": "stderr",
     "output_type": "stream",
     "text": [
      "getfattr: /home/jupyter/data/model_data/mini_data_set/time_20230806_120000.nc: Operation not supported\n",
      "getfattr: /home/jupyter/data/model_data/mini_data_set/time_20230804_080000.nc: Operation not supported\n",
      "getfattr: /home/jupyter/data/model_data/mini_data_set/time_20230807_140000.nc: Operation not supported\n",
      "getfattr: /home/jupyter/data/model_data/mini_data_set/time_20230804_160000.nc: Operation not supported\n"
     ]
    },
    {
     "name": "stdout",
     "output_type": "stream",
     "text": [
      " 8/25 [========>.....................] - ETA: 13s - loss: 20.0939"
     ]
    },
    {
     "name": "stderr",
     "output_type": "stream",
     "text": [
      "getfattr: /home/jupyter/data/model_data/mini_data_set/time_20230815_150000.nc: Operation not supported\n",
      "getfattr: /home/jupyter/data/model_data/mini_data_set/time_20230805_110000.nc: Operation not supported\n",
      "getfattr: /home/jupyter/data/model_data/mini_data_set/time_20230807_080000.nc: Operation not supported\n",
      "getfattr: /home/jupyter/data/model_data/mini_data_set/time_20230812_170000.nc: Operation not supported\n"
     ]
    },
    {
     "name": "stdout",
     "output_type": "stream",
     "text": [
      " 9/25 [=========>....................] - ETA: 13s - loss: 19.3065"
     ]
    },
    {
     "name": "stderr",
     "output_type": "stream",
     "text": [
      "getfattr: /home/jupyter/data/model_data/mini_data_set/time_20230807_090000.nc: Operation not supported\n",
      "getfattr: /home/jupyter/data/model_data/mini_data_set/time_20230805_100000.nc: Operation not supported\n",
      "getfattr: /home/jupyter/data/model_data/mini_data_set/time_20230816_100000.nc: Operation not supported\n",
      "getfattr: /home/jupyter/data/model_data/mini_data_set/time_20230812_080000.nc: Operation not supported\n"
     ]
    },
    {
     "name": "stdout",
     "output_type": "stream",
     "text": [
      "10/25 [===========>..................] - ETA: 12s - loss: 18.4033"
     ]
    },
    {
     "name": "stderr",
     "output_type": "stream",
     "text": [
      "getfattr: /home/jupyter/data/model_data/mini_data_set/time_20230804_140000.nc: Operation not supported\n",
      "getfattr: /home/jupyter/data/model_data/mini_data_set/time_20230809_170000.nc: Operation not supported\n",
      "getfattr: /home/jupyter/data/model_data/mini_data_set/time_20230816_080000.nc: Operation not supported\n",
      "getfattr: /home/jupyter/data/model_data/mini_data_set/time_20230816_040000.nc: Operation not supported\n"
     ]
    },
    {
     "name": "stdout",
     "output_type": "stream",
     "text": [
      "11/25 [============>.................] - ETA: 11s - loss: 17.4461"
     ]
    },
    {
     "name": "stderr",
     "output_type": "stream",
     "text": [
      "getfattr: /home/jupyter/data/model_data/mini_data_set/time_20230809_140000.nc: Operation not supported\n",
      "getfattr: /home/jupyter/data/model_data/mini_data_set/time_20230809_080000.nc: Operation not supported\n",
      "getfattr: /home/jupyter/data/model_data/mini_data_set/time_20230811_180000.nc: Operation not supported\n",
      "getfattr: /home/jupyter/data/model_data/mini_data_set/time_20230812_070000.nc: Operation not supported\n"
     ]
    },
    {
     "name": "stdout",
     "output_type": "stream",
     "text": [
      "12/25 [=============>................] - ETA: 10s - loss: 17.6381"
     ]
    },
    {
     "name": "stderr",
     "output_type": "stream",
     "text": [
      "getfattr: /home/jupyter/data/model_data/mini_data_set/time_20230802_140000.nc: Operation not supported\n",
      "getfattr: /home/jupyter/data/model_data/mini_data_set/time_20230808_150000.nc: Operation not supported\n",
      "getfattr: /home/jupyter/data/model_data/mini_data_set/time_20230811_150000.nc: Operation not supported\n",
      "getfattr: /home/jupyter/data/model_data/mini_data_set/time_20230809_180000.nc: Operation not supported\n"
     ]
    },
    {
     "name": "stdout",
     "output_type": "stream",
     "text": [
      "13/25 [==============>...............] - ETA: 9s - loss: 17.0381 "
     ]
    },
    {
     "name": "stderr",
     "output_type": "stream",
     "text": [
      "getfattr: /home/jupyter/data/model_data/mini_data_set/time_20230812_150000.nc: Operation not supported\n",
      "getfattr: /home/jupyter/data/model_data/mini_data_set/time_20230802_150000.nc: Operation not supported\n",
      "getfattr: /home/jupyter/data/model_data/mini_data_set/time_20230812_140000.nc: Operation not supported\n"
     ]
    },
    {
     "name": "stdout",
     "output_type": "stream",
     "text": [
      "14/25 [===============>..............] - ETA: 8s - loss: 16.8316"
     ]
    },
    {
     "name": "stderr",
     "output_type": "stream",
     "text": [
      "getfattr: /home/jupyter/data/model_data/mini_data_set/time_20230809_160000.nc: Operation not supported\n",
      "getfattr: /home/jupyter/data/model_data/mini_data_set/time_20230811_130000.nc: Operation not supported\n",
      "getfattr: /home/jupyter/data/model_data/mini_data_set/time_20230805_120000.nc: Operation not supported\n",
      "getfattr: /home/jupyter/data/model_data/mini_data_set/time_20230809_110000.nc: Operation not supported\n",
      "getfattr: /home/jupyter/data/model_data/mini_data_set/time_20230805_180000.nc: Operation not supported\n"
     ]
    },
    {
     "name": "stdout",
     "output_type": "stream",
     "text": [
      "15/25 [=================>............] - ETA: 8s - loss: 16.5029"
     ]
    },
    {
     "name": "stderr",
     "output_type": "stream",
     "text": [
      "getfattr: /home/jupyter/data/model_data/mini_data_set/time_20230804_170000.nc: Operation not supported\n",
      "getfattr: /home/jupyter/data/model_data/mini_data_set/time_20230811_070000.nc: Operation not supported\n",
      "getfattr: /home/jupyter/data/model_data/mini_data_set/time_20230805_080000.nc: Operation not supported\n",
      "getfattr: /home/jupyter/data/model_data/mini_data_set/time_20230807_110000.nc: Operation not supported\n"
     ]
    },
    {
     "name": "stdout",
     "output_type": "stream",
     "text": [
      "16/25 [==================>...........] - ETA: 7s - loss: 15.9167"
     ]
    },
    {
     "name": "stderr",
     "output_type": "stream",
     "text": [
      "getfattr: /home/jupyter/data/model_data/mini_data_set/time_20230808_180000.nc: Operation not supported\n",
      "getfattr: /home/jupyter/data/model_data/mini_data_set/time_20230816_160000.nc: Operation not supported\n",
      "getfattr: /home/jupyter/data/model_data/mini_data_set/time_20230812_160000.nc: Operation not supported\n",
      "getfattr: /home/jupyter/data/model_data/mini_data_set/time_20230806_070000.nc: Operation not supported\n"
     ]
    },
    {
     "name": "stdout",
     "output_type": "stream",
     "text": [
      "17/25 [===================>..........] - ETA: 6s - loss: 15.2972"
     ]
    },
    {
     "name": "stderr",
     "output_type": "stream",
     "text": [
      "getfattr: /home/jupyter/data/model_data/mini_data_set/time_20230811_090000.nc: Operation not supported\n",
      "getfattr: /home/jupyter/data/model_data/mini_data_set/time_20230806_150000.nc: Operation not supported\n",
      "getfattr: /home/jupyter/data/model_data/mini_data_set/time_20230802_100000.nc: Operation not supported\n",
      "getfattr: /home/jupyter/data/model_data/mini_data_set/time_20230812_120000.nc: Operation not supported\n"
     ]
    },
    {
     "name": "stdout",
     "output_type": "stream",
     "text": [
      "18/25 [====================>.........] - ETA: 5s - loss: 14.7939"
     ]
    },
    {
     "name": "stderr",
     "output_type": "stream",
     "text": [
      "getfattr: /home/jupyter/data/model_data/mini_data_set/time_20230805_070000.nc: Operation not supported\n",
      "getfattr: /home/jupyter/data/model_data/mini_data_set/time_20230804_180000.nc: Operation not supported\n",
      "getfattr: /home/jupyter/data/model_data/mini_data_set/time_20230805_090000.nc: Operation not supported\n",
      "getfattr: /home/jupyter/data/model_data/mini_data_set/time_20230811_100000.nc: Operation not supported\n"
     ]
    },
    {
     "name": "stdout",
     "output_type": "stream",
     "text": [
      "19/25 [=====================>........] - ETA: 4s - loss: 14.5522"
     ]
    },
    {
     "name": "stderr",
     "output_type": "stream",
     "text": [
      "getfattr: /home/jupyter/data/model_data/mini_data_set/time_20230807_070000.nc: Operation not supported\n",
      "getfattr: /home/jupyter/data/model_data/mini_data_set/time_20230804_090000.nc: Operation not supported\n",
      "getfattr: /home/jupyter/data/model_data/mini_data_set/time_20230811_140000.nc: Operation not supported\n",
      "getfattr: /home/jupyter/data/model_data/mini_data_set/time_20230807_180000.nc: Operation not supported\n"
     ]
    },
    {
     "name": "stdout",
     "output_type": "stream",
     "text": [
      "20/25 [=======================>......] - ETA: 4s - loss: 14.0998"
     ]
    },
    {
     "name": "stderr",
     "output_type": "stream",
     "text": [
      "getfattr: /home/jupyter/data/model_data/mini_data_set/time_20230815_180000.nc: Operation not supported\n",
      "getfattr: /home/jupyter/data/model_data/mini_data_set/time_20230807_150000.nc: Operation not supported\n",
      "getfattr: /home/jupyter/data/model_data/mini_data_set/time_20230804_100000.nc: Operation not supported\n",
      "getfattr: /home/jupyter/data/model_data/mini_data_set/time_20230807_170000.nc: Operation not supported\n"
     ]
    },
    {
     "name": "stdout",
     "output_type": "stream",
     "text": [
      "21/25 [========================>.....] - ETA: 3s - loss: 13.7752"
     ]
    },
    {
     "name": "stderr",
     "output_type": "stream",
     "text": [
      "getfattr: /home/jupyter/data/model_data/mini_data_set/time_20230816_150000.nc: Operation not supported\n",
      "getfattr: /home/jupyter/data/model_data/mini_data_set/time_20230807_130000.nc: Operation not supported\n",
      "getfattr: /home/jupyter/data/model_data/mini_data_set/time_20230815_170000.nc: Operation not supported\n",
      "getfattr: /home/jupyter/data/model_data/mini_data_set/time_20230811_110000.nc: Operation not supported\n"
     ]
    },
    {
     "name": "stdout",
     "output_type": "stream",
     "text": [
      "22/25 [=========================>....] - ETA: 2s - loss: 14.2417"
     ]
    },
    {
     "name": "stderr",
     "output_type": "stream",
     "text": [
      "getfattr: /home/jupyter/data/model_data/mini_data_set/time_20230807_160000.nc: Operation not supported\n",
      "getfattr: /home/jupyter/data/model_data/mini_data_set/time_20230804_130000.nc: Operation not supported\n",
      "getfattr: /home/jupyter/data/model_data/mini_data_set/time_20230809_070000.nc: Operation not supported\n",
      "getfattr: /home/jupyter/data/model_data/mini_data_set/time_20230805_160000.nc: Operation not supported\n"
     ]
    },
    {
     "name": "stdout",
     "output_type": "stream",
     "text": [
      "23/25 [==========================>...] - ETA: 1s - loss: 14.3077"
     ]
    },
    {
     "name": "stderr",
     "output_type": "stream",
     "text": [
      "getfattr: /home/jupyter/data/model_data/mini_data_set/time_20230809_150000.nc: Operation not supported\n",
      "getfattr: /home/jupyter/data/model_data/mini_data_set/time_20230816_140000.nc: Operation not supported\n",
      "getfattr: /home/jupyter/data/model_data/mini_data_set/time_20230802_120000.nc: Operation not supported\n",
      "getfattr: /home/jupyter/data/model_data/mini_data_set/time_20230806_160000.nc: Operation not supported\n"
     ]
    },
    {
     "name": "stdout",
     "output_type": "stream",
     "text": [
      "25/25 [==============================] - ETA: 0s - loss: 14.1102"
     ]
    },
    {
     "name": "stderr",
     "output_type": "stream",
     "text": [
      "getfattr: /home/jupyter/data/model_data/mini_data_set/time_20230807_160000.nc: Operation not supported\n",
      "getfattr: /home/jupyter/data/model_data/mini_data_set/time_20230804_130000.nc: Operation not supported\n",
      "getfattr: /home/jupyter/data/model_data/mini_data_set/time_20230809_070000.nc: Operation not supported\n",
      "getfattr: /home/jupyter/data/model_data/mini_data_set/time_20230805_160000.nc: Operation not supported\n",
      "getfattr: /home/jupyter/data/model_data/mini_data_set/time_20230807_160000.nc: Operation not supported\n",
      "getfattr: /home/jupyter/data/model_data/mini_data_set/time_20230804_130000.nc: Operation not supported\n",
      "getfattr: /home/jupyter/data/model_data/mini_data_set/time_20230809_070000.nc: Operation not supported\n",
      "getfattr: /home/jupyter/data/model_data/mini_data_set/time_20230805_160000.nc: Operation not supported\n",
      "getfattr: /home/jupyter/data/model_data/mini_data_set/time_20230811_090000.nc: Operation not supported\n",
      "getfattr: /home/jupyter/data/model_data/mini_data_set/time_20230806_150000.nc: Operation not supported\n",
      "getfattr: /home/jupyter/data/model_data/mini_data_set/time_20230802_100000.nc: Operation not supported\n",
      "getfattr: /home/jupyter/data/model_data/mini_data_set/time_20230812_120000.nc: Operation not supported\n",
      "getfattr: /home/jupyter/data/model_data/mini_data_set/time_20230808_170000.nc: Operation not supported\n",
      "getfattr: /home/jupyter/data/model_data/mini_data_set/time_20230811_170000.nc: Operation not supported\n",
      "getfattr: /home/jupyter/data/model_data/mini_data_set/time_20230806_080000.nc: Operation not supported\n",
      "getfattr: /home/jupyter/data/model_data/mini_data_set/time_20230806_170000.nc: Operation not supported\n",
      "getfattr: /home/jupyter/data/model_data/mini_data_set/time_20230809_130000.nc: Operation not supported\n",
      "getfattr: /home/jupyter/data/model_data/mini_data_set/time_20230806_100000.nc: Operation not supported\n",
      "getfattr: /home/jupyter/data/model_data/mini_data_set/time_20230815_120000.nc: Operation not supported\n",
      "getfattr: /home/jupyter/data/model_data/mini_data_set/time_20230804_070000.nc: Operation not supported\n",
      "getfattr: /home/jupyter/data/model_data/mini_data_set/time_20230808_180000.nc: Operation not supported\n",
      "getfattr: /home/jupyter/data/model_data/mini_data_set/time_20230816_160000.nc: Operation not supported\n",
      "getfattr: /home/jupyter/data/model_data/mini_data_set/time_20230812_160000.nc: Operation not supported\n",
      "getfattr: /home/jupyter/data/model_data/mini_data_set/time_20230806_070000.nc: Operation not supported\n",
      "getfattr: /home/jupyter/data/model_data/mini_data_set/time_20230804_170000.nc: Operation not supported\n",
      "getfattr: /home/jupyter/data/model_data/mini_data_set/time_20230811_070000.nc: Operation not supported\n",
      "getfattr: /home/jupyter/data/model_data/mini_data_set/time_20230805_080000.nc: Operation not supported\n",
      "getfattr: /home/jupyter/data/model_data/mini_data_set/time_20230807_110000.nc: Operation not supported\n",
      "getfattr: /home/jupyter/data/model_data/mini_data_set/time_20230806_140000.nc: Operation not supported\n",
      "getfattr: /home/jupyter/data/model_data/mini_data_set/time_20230811_080000.nc: Operation not supported\n",
      "getfattr: /home/jupyter/data/model_data/mini_data_set/time_20230816_090000.nc: Operation not supported\n",
      "getfattr: /home/jupyter/data/model_data/mini_data_set/time_20230808_160000.nc: Operation not supported\n",
      "getfattr: /home/jupyter/data/model_data/mini_data_set/time_20230816_150000.nc: Operation not supported\n",
      "getfattr: /home/jupyter/data/model_data/mini_data_set/time_20230807_130000.nc: Operation not supported\n",
      "getfattr: /home/jupyter/data/model_data/mini_data_set/time_20230815_170000.nc: Operation not supported\n",
      "getfattr: /home/jupyter/data/model_data/mini_data_set/time_20230811_110000.nc: Operation not supported\n",
      "getfattr: /home/jupyter/data/model_data/mini_data_set/time_20230809_140000.nc: Operation not supported\n",
      "getfattr: /home/jupyter/data/model_data/mini_data_set/time_20230809_080000.nc: Operation not supported\n",
      "getfattr: /home/jupyter/data/model_data/mini_data_set/time_20230811_180000.nc: Operation not supported\n",
      "getfattr: /home/jupyter/data/model_data/mini_data_set/time_20230812_070000.nc: Operation not supported\n",
      "getfattr: /home/jupyter/data/model_data/mini_data_set/time_20230815_180000.nc: Operation not supported\n",
      "getfattr: /home/jupyter/data/model_data/mini_data_set/time_20230807_150000.nc: Operation not supported\n",
      "getfattr: /home/jupyter/data/model_data/mini_data_set/time_20230804_100000.nc: Operation not supported\n",
      "getfattr: /home/jupyter/data/model_data/mini_data_set/time_20230807_170000.nc: Operation not supported\n",
      "getfattr: /home/jupyter/data/model_data/mini_data_set/time_20230812_150000.nc: Operation not supported\n",
      "getfattr: /home/jupyter/data/model_data/mini_data_set/time_20230802_150000.nc: Operation not supported\n",
      "getfattr: /home/jupyter/data/model_data/mini_data_set/time_20230812_140000.nc: Operation not supported\n",
      "getfattr: /home/jupyter/data/model_data/mini_data_set/time_20230809_160000.nc: Operation not supported\n",
      "getfattr: /home/jupyter/data/model_data/mini_data_set/time_20230802_130000.nc: Operation not supported\n",
      "getfattr: /home/jupyter/data/model_data/mini_data_set/time_20230808_140000.nc: Operation not supported\n",
      "getfattr: /home/jupyter/data/model_data/mini_data_set/time_20230809_090000.nc: Operation not supported\n",
      "getfattr: /home/jupyter/data/model_data/mini_data_set/time_20230806_110000.nc: Operation not supported\n",
      "getfattr: /home/jupyter/data/model_data/mini_data_set/time_20230807_090000.nc: Operation not supported\n",
      "getfattr: /home/jupyter/data/model_data/mini_data_set/time_20230805_100000.nc: Operation not supported\n",
      "getfattr: /home/jupyter/data/model_data/mini_data_set/time_20230816_100000.nc: Operation not supported\n",
      "getfattr: /home/jupyter/data/model_data/mini_data_set/time_20230812_080000.nc: Operation not supported\n",
      "getfattr: /home/jupyter/data/model_data/mini_data_set/time_20230812_180000.nc: Operation not supported\n",
      "getfattr: /home/jupyter/data/model_data/mini_data_set/time_20230812_130000.nc: Operation not supported\n",
      "getfattr: /home/jupyter/data/model_data/mini_data_set/time_20230802_110000.nc: Operation not supported\n",
      "getfattr: /home/jupyter/data/model_data/mini_data_set/time_20230809_100000.nc: Operation not supported\n",
      "getfattr: /home/jupyter/data/model_data/mini_data_set/time_20230802_140000.nc: Operation not supported\n",
      "getfattr: /home/jupyter/data/model_data/mini_data_set/time_20230808_150000.nc: Operation not supported\n",
      "getfattr: /home/jupyter/data/model_data/mini_data_set/time_20230811_150000.nc: Operation not supported\n",
      "getfattr: /home/jupyter/data/model_data/mini_data_set/time_20230809_180000.nc: Operation not supported\n",
      "getfattr: /home/jupyter/data/model_data/mini_data_set/time_20230806_120000.nc: Operation not supported\n",
      "getfattr: /home/jupyter/data/model_data/mini_data_set/time_20230804_080000.nc: Operation not supported\n",
      "getfattr: /home/jupyter/data/model_data/mini_data_set/time_20230807_140000.nc: Operation not supported\n",
      "getfattr: /home/jupyter/data/model_data/mini_data_set/time_20230804_160000.nc: Operation not supported\n",
      "getfattr: /home/jupyter/data/model_data/mini_data_set/time_20230807_070000.nc: Operation not supported\n",
      "getfattr: /home/jupyter/data/model_data/mini_data_set/time_20230804_090000.nc: Operation not supported\n",
      "getfattr: /home/jupyter/data/model_data/mini_data_set/time_20230811_140000.nc: Operation not supported\n",
      "getfattr: /home/jupyter/data/model_data/mini_data_set/time_20230807_180000.nc: Operation not supported\n",
      "getfattr: /home/jupyter/data/model_data/mini_data_set/time_20230805_070000.nc: Operation not supported\n",
      "getfattr: /home/jupyter/data/model_data/mini_data_set/time_20230804_180000.nc: Operation not supported\n",
      "getfattr: /home/jupyter/data/model_data/mini_data_set/time_20230805_090000.nc: Operation not supported\n",
      "getfattr: /home/jupyter/data/model_data/mini_data_set/time_20230811_100000.nc: Operation not supported\n",
      "getfattr: /home/jupyter/data/model_data/mini_data_set/time_20230811_130000.nc: Operation not supported\n",
      "getfattr: /home/jupyter/data/model_data/mini_data_set/time_20230805_120000.nc: Operation not supported\n",
      "getfattr: /home/jupyter/data/model_data/mini_data_set/time_20230809_110000.nc: Operation not supported\n",
      "getfattr: /home/jupyter/data/model_data/mini_data_set/time_20230805_180000.nc: Operation not supported\n",
      "getfattr: /home/jupyter/data/model_data/mini_data_set/time_20230809_150000.nc: Operation not supported\n",
      "getfattr: /home/jupyter/data/model_data/mini_data_set/time_20230816_140000.nc: Operation not supported\n",
      "getfattr: /home/jupyter/data/model_data/mini_data_set/time_20230802_120000.nc: Operation not supported\n",
      "getfattr: /home/jupyter/data/model_data/mini_data_set/time_20230806_160000.nc: Operation not supported\n",
      "getfattr: /home/jupyter/data/model_data/mini_data_set/time_20230805_170000.nc: Operation not supported\n",
      "getfattr: /home/jupyter/data/model_data/mini_data_set/time_20230804_150000.nc: Operation not supported\n",
      "getfattr: /home/jupyter/data/model_data/mini_data_set/time_20230804_120000.nc: Operation not supported\n",
      "getfattr: /home/jupyter/data/model_data/mini_data_set/time_20230816_110000.nc: Operation not supported\n",
      "getfattr: /home/jupyter/data/model_data/mini_data_set/time_20230806_180000.nc: Operation not supported\n",
      "getfattr: /home/jupyter/data/model_data/mini_data_set/time_20230805_140000.nc: Operation not supported\n",
      "getfattr: /home/jupyter/data/model_data/mini_data_set/time_20230811_160000.nc: Operation not supported\n",
      "getfattr: /home/jupyter/data/model_data/mini_data_set/time_20230807_100000.nc: Operation not supported\n",
      "getfattr: /home/jupyter/data/model_data/mini_data_set/time_20230804_140000.nc: Operation not supported\n",
      "getfattr: /home/jupyter/data/model_data/mini_data_set/time_20230809_170000.nc: Operation not supported\n",
      "getfattr: /home/jupyter/data/model_data/mini_data_set/time_20230816_080000.nc: Operation not supported\n",
      "getfattr: /home/jupyter/data/model_data/mini_data_set/time_20230816_040000.nc: Operation not supported\n",
      "getfattr: /home/jupyter/data/model_data/mini_data_set/time_20230815_150000.nc: Operation not supported\n",
      "getfattr: /home/jupyter/data/model_data/mini_data_set/time_20230805_110000.nc: Operation not supported\n",
      "getfattr: /home/jupyter/data/model_data/mini_data_set/time_20230807_080000.nc: Operation not supported\n",
      "getfattr: /home/jupyter/data/model_data/mini_data_set/time_20230812_170000.nc: Operation not supported\n",
      "getfattr: /home/jupyter/data/model_data/mini_data_set/time_20230816_070000.nc: Operation not supported\n",
      "getfattr: /home/jupyter/data/model_data/mini_data_set/time_20230815_160000.nc: Operation not supported\n",
      "getfattr: /home/jupyter/data/model_data/mini_data_set/time_20230806_090000.nc: Operation not supported\n",
      "getfattr: /home/jupyter/data/model_data/mini_data_set/time_20230805_150000.nc: Operation not supported\n"
     ]
    },
    {
     "name": "stdout",
     "output_type": "stream",
     "text": [
      "25/25 [==============================] - 44s 2s/step - loss: 14.1102 - val_loss: 6.6127\n",
      "Epoch 2/4\n"
     ]
    },
    {
     "name": "stderr",
     "output_type": "stream",
     "text": [
      "getfattr: /home/jupyter/data/model_data/mini_data_set/time_20230809_150000.nc: Operation not supported\n",
      "getfattr: /home/jupyter/data/model_data/mini_data_set/time_20230816_140000.nc: Operation not supported\n",
      "getfattr: /home/jupyter/data/model_data/mini_data_set/time_20230802_120000.nc: Operation not supported\n",
      "getfattr: /home/jupyter/data/model_data/mini_data_set/time_20230806_160000.nc: Operation not supported\n",
      "getfattr: /home/jupyter/data/model_data/mini_data_set/time_20230804_170000.nc: Operation not supported\n",
      "getfattr: /home/jupyter/data/model_data/mini_data_set/time_20230811_070000.nc: Operation not supported\n",
      "getfattr: /home/jupyter/data/model_data/mini_data_set/time_20230805_080000.nc: Operation not supported\n",
      "getfattr: /home/jupyter/data/model_data/mini_data_set/time_20230807_110000.nc: Operation not supported\n"
     ]
    },
    {
     "name": "stdout",
     "output_type": "stream",
     "text": [
      " 1/25 [>.............................] - ETA: 33s - loss: 17.1175"
     ]
    },
    {
     "name": "stderr",
     "output_type": "stream",
     "text": [
      "getfattr: /home/jupyter/data/model_data/mini_data_set/time_20230808_170000.nc: Operation not supported\n",
      "getfattr: /home/jupyter/data/model_data/mini_data_set/time_20230811_170000.nc: Operation not supported\n",
      "getfattr: /home/jupyter/data/model_data/mini_data_set/time_20230806_080000.nc: Operation not supported\n",
      "getfattr: /home/jupyter/data/model_data/mini_data_set/time_20230806_170000.nc: Operation not supported\n"
     ]
    },
    {
     "name": "stdout",
     "output_type": "stream",
     "text": [
      " 2/25 [=>............................] - ETA: 17s - loss: 12.5153"
     ]
    },
    {
     "name": "stderr",
     "output_type": "stream",
     "text": [
      "getfattr: /home/jupyter/data/model_data/mini_data_set/time_20230804_140000.nc: Operation not supported\n",
      "getfattr: /home/jupyter/data/model_data/mini_data_set/time_20230809_170000.nc: Operation not supported\n",
      "getfattr: /home/jupyter/data/model_data/mini_data_set/time_20230816_080000.nc: Operation not supported\n",
      "getfattr: /home/jupyter/data/model_data/mini_data_set/time_20230816_040000.nc: Operation not supported\n"
     ]
    },
    {
     "name": "stdout",
     "output_type": "stream",
     "text": [
      " 3/25 [==>...........................] - ETA: 16s - loss: 10.7777"
     ]
    },
    {
     "name": "stderr",
     "output_type": "stream",
     "text": [
      "getfattr: /home/jupyter/data/model_data/mini_data_set/time_20230802_140000.nc: Operation not supported\n",
      "getfattr: /home/jupyter/data/model_data/mini_data_set/time_20230808_150000.nc: Operation not supported\n",
      "getfattr: /home/jupyter/data/model_data/mini_data_set/time_20230811_150000.nc: Operation not supported\n",
      "getfattr: /home/jupyter/data/model_data/mini_data_set/time_20230809_180000.nc: Operation not supported\n"
     ]
    },
    {
     "name": "stdout",
     "output_type": "stream",
     "text": [
      " 4/25 [===>..........................] - ETA: 15s - loss: 11.6700"
     ]
    },
    {
     "name": "stderr",
     "output_type": "stream",
     "text": [
      "getfattr: /home/jupyter/data/model_data/mini_data_set/time_20230806_180000.nc: Operation not supported\n",
      "getfattr: /home/jupyter/data/model_data/mini_data_set/time_20230805_140000.nc: Operation not supported\n",
      "getfattr: /home/jupyter/data/model_data/mini_data_set/time_20230811_160000.nc: Operation not supported\n",
      "getfattr: /home/jupyter/data/model_data/mini_data_set/time_20230807_100000.nc: Operation not supported\n"
     ]
    },
    {
     "name": "stdout",
     "output_type": "stream",
     "text": [
      " 5/25 [=====>........................] - ETA: 14s - loss: 11.1940"
     ]
    },
    {
     "name": "stderr",
     "output_type": "stream",
     "text": [
      "getfattr: /home/jupyter/data/model_data/mini_data_set/time_20230809_130000.nc: Operation not supported\n",
      "getfattr: /home/jupyter/data/model_data/mini_data_set/time_20230806_100000.nc: Operation not supported\n",
      "getfattr: /home/jupyter/data/model_data/mini_data_set/time_20230815_120000.nc: Operation not supported\n",
      "getfattr: /home/jupyter/data/model_data/mini_data_set/time_20230804_070000.nc: Operation not supported\n"
     ]
    },
    {
     "name": "stdout",
     "output_type": "stream",
     "text": [
      " 6/25 [======>.......................] - ETA: 14s - loss: 9.8732 "
     ]
    },
    {
     "name": "stderr",
     "output_type": "stream",
     "text": [
      "getfattr: /home/jupyter/data/model_data/mini_data_set/time_20230816_070000.nc: Operation not supported\n",
      "getfattr: /home/jupyter/data/model_data/mini_data_set/time_20230815_160000.nc: Operation not supported\n",
      "getfattr: /home/jupyter/data/model_data/mini_data_set/time_20230806_090000.nc: Operation not supported\n",
      "getfattr: /home/jupyter/data/model_data/mini_data_set/time_20230805_150000.nc: Operation not supported\n"
     ]
    },
    {
     "name": "stdout",
     "output_type": "stream",
     "text": [
      " 7/25 [=======>......................] - ETA: 13s - loss: 9.6681"
     ]
    },
    {
     "name": "stderr",
     "output_type": "stream",
     "text": [
      "getfattr: /home/jupyter/data/model_data/mini_data_set/time_20230807_070000.nc: Operation not supported\n",
      "getfattr: /home/jupyter/data/model_data/mini_data_set/time_20230804_090000.nc: Operation not supported\n",
      "getfattr: /home/jupyter/data/model_data/mini_data_set/time_20230811_140000.nc: Operation not supported\n",
      "getfattr: /home/jupyter/data/model_data/mini_data_set/time_20230807_180000.nc: Operation not supported\n"
     ]
    },
    {
     "name": "stdout",
     "output_type": "stream",
     "text": [
      " 8/25 [========>.....................] - ETA: 12s - loss: 10.5168"
     ]
    },
    {
     "name": "stderr",
     "output_type": "stream",
     "text": [
      "getfattr: /home/jupyter/data/model_data/mini_data_set/time_20230812_180000.nc: Operation not supported\n",
      "getfattr: /home/jupyter/data/model_data/mini_data_set/time_20230812_130000.nc: Operation not supported\n",
      "getfattr: /home/jupyter/data/model_data/mini_data_set/time_20230802_110000.nc: Operation not supported\n",
      "getfattr: /home/jupyter/data/model_data/mini_data_set/time_20230809_100000.nc: Operation not supported\n"
     ]
    },
    {
     "name": "stdout",
     "output_type": "stream",
     "text": [
      " 9/25 [=========>....................] - ETA: 12s - loss: 9.8247 "
     ]
    },
    {
     "name": "stderr",
     "output_type": "stream",
     "text": [
      "getfattr: /home/jupyter/data/model_data/mini_data_set/time_20230811_090000.nc: Operation not supported\n",
      "getfattr: /home/jupyter/data/model_data/mini_data_set/time_20230806_150000.nc: Operation not supported\n",
      "getfattr: /home/jupyter/data/model_data/mini_data_set/time_20230802_100000.nc: Operation not supported\n",
      "getfattr: /home/jupyter/data/model_data/mini_data_set/time_20230812_120000.nc: Operation not supported\n"
     ]
    },
    {
     "name": "stdout",
     "output_type": "stream",
     "text": [
      "10/25 [===========>..................] - ETA: 11s - loss: 9.9094"
     ]
    },
    {
     "name": "stderr",
     "output_type": "stream",
     "text": [
      "getfattr: /home/jupyter/data/model_data/mini_data_set/time_20230805_170000.nc: Operation not supported\n",
      "getfattr: /home/jupyter/data/model_data/mini_data_set/time_20230804_150000.nc: Operation not supported\n",
      "getfattr: /home/jupyter/data/model_data/mini_data_set/time_20230804_120000.nc: Operation not supported\n",
      "getfattr: /home/jupyter/data/model_data/mini_data_set/time_20230816_110000.nc: Operation not supported\n"
     ]
    },
    {
     "name": "stdout",
     "output_type": "stream",
     "text": [
      "11/25 [============>.................] - ETA: 10s - loss: 9.6100"
     ]
    },
    {
     "name": "stderr",
     "output_type": "stream",
     "text": [
      "getfattr: /home/jupyter/data/model_data/mini_data_set/time_20230815_180000.nc: Operation not supported\n",
      "getfattr: /home/jupyter/data/model_data/mini_data_set/time_20230807_150000.nc: Operation not supported\n",
      "getfattr: /home/jupyter/data/model_data/mini_data_set/time_20230804_100000.nc: Operation not supported\n",
      "getfattr: /home/jupyter/data/model_data/mini_data_set/time_20230807_170000.nc: Operation not supported\n"
     ]
    },
    {
     "name": "stdout",
     "output_type": "stream",
     "text": [
      "12/25 [=============>................] - ETA: 9s - loss: 9.5097 "
     ]
    },
    {
     "name": "stderr",
     "output_type": "stream",
     "text": [
      "getfattr: /home/jupyter/data/model_data/mini_data_set/time_20230811_130000.nc: Operation not supported\n",
      "getfattr: /home/jupyter/data/model_data/mini_data_set/time_20230805_120000.nc: Operation not supported\n",
      "getfattr: /home/jupyter/data/model_data/mini_data_set/time_20230809_110000.nc: Operation not supported\n",
      "getfattr: /home/jupyter/data/model_data/mini_data_set/time_20230805_180000.nc: Operation not supported\n"
     ]
    },
    {
     "name": "stdout",
     "output_type": "stream",
     "text": [
      "13/25 [==============>...............] - ETA: 9s - loss: 9.8855"
     ]
    },
    {
     "name": "stderr",
     "output_type": "stream",
     "text": [
      "getfattr: /home/jupyter/data/model_data/mini_data_set/time_20230806_140000.nc: Operation not supported\n",
      "getfattr: /home/jupyter/data/model_data/mini_data_set/time_20230811_080000.nc: Operation not supported\n",
      "getfattr: /home/jupyter/data/model_data/mini_data_set/time_20230816_090000.nc: Operation not supported\n",
      "getfattr: /home/jupyter/data/model_data/mini_data_set/time_20230808_160000.nc: Operation not supported\n"
     ]
    },
    {
     "name": "stdout",
     "output_type": "stream",
     "text": [
      "14/25 [===============>..............] - ETA: 8s - loss: 9.4961"
     ]
    },
    {
     "name": "stderr",
     "output_type": "stream",
     "text": [
      "getfattr: /home/jupyter/data/model_data/mini_data_set/time_20230807_090000.nc: Operation not supported\n",
      "getfattr: /home/jupyter/data/model_data/mini_data_set/time_20230805_100000.nc: Operation not supported\n",
      "getfattr: /home/jupyter/data/model_data/mini_data_set/time_20230816_100000.nc: Operation not supported\n",
      "getfattr: /home/jupyter/data/model_data/mini_data_set/time_20230812_080000.nc: Operation not supported\n"
     ]
    },
    {
     "name": "stdout",
     "output_type": "stream",
     "text": [
      "15/25 [=================>............] - ETA: 7s - loss: 9.2878"
     ]
    },
    {
     "name": "stderr",
     "output_type": "stream",
     "text": [
      "getfattr: /home/jupyter/data/model_data/mini_data_set/time_20230806_120000.nc: Operation not supported\n",
      "getfattr: /home/jupyter/data/model_data/mini_data_set/time_20230804_080000.nc: Operation not supported\n",
      "getfattr: /home/jupyter/data/model_data/mini_data_set/time_20230807_140000.nc: Operation not supported\n",
      "getfattr: /home/jupyter/data/model_data/mini_data_set/time_20230804_160000.nc: Operation not supported\n"
     ]
    },
    {
     "name": "stdout",
     "output_type": "stream",
     "text": [
      "16/25 [==================>...........] - ETA: 6s - loss: 9.0667"
     ]
    },
    {
     "name": "stderr",
     "output_type": "stream",
     "text": [
      "getfattr: /home/jupyter/data/model_data/mini_data_set/time_20230808_180000.nc: Operation not supported\n",
      "getfattr: /home/jupyter/data/model_data/mini_data_set/time_20230816_160000.nc: Operation not supported\n",
      "getfattr: /home/jupyter/data/model_data/mini_data_set/time_20230812_160000.nc: Operation not supported\n",
      "getfattr: /home/jupyter/data/model_data/mini_data_set/time_20230806_070000.nc: Operation not supported\n"
     ]
    },
    {
     "name": "stdout",
     "output_type": "stream",
     "text": [
      "17/25 [===================>..........] - ETA: 6s - loss: 8.8661"
     ]
    },
    {
     "name": "stderr",
     "output_type": "stream",
     "text": [
      "getfattr: /home/jupyter/data/model_data/mini_data_set/time_20230815_150000.nc: Operation not supported\n",
      "getfattr: /home/jupyter/data/model_data/mini_data_set/time_20230805_110000.nc: Operation not supported\n",
      "getfattr: /home/jupyter/data/model_data/mini_data_set/time_20230807_080000.nc: Operation not supported\n",
      "getfattr: /home/jupyter/data/model_data/mini_data_set/time_20230812_170000.nc: Operation not supported\n"
     ]
    },
    {
     "name": "stdout",
     "output_type": "stream",
     "text": [
      "18/25 [====================>.........] - ETA: 5s - loss: 8.6543"
     ]
    },
    {
     "name": "stderr",
     "output_type": "stream",
     "text": [
      "getfattr: /home/jupyter/data/model_data/mini_data_set/time_20230807_160000.nc: Operation not supported\n",
      "getfattr: /home/jupyter/data/model_data/mini_data_set/time_20230804_130000.nc: Operation not supported\n",
      "getfattr: /home/jupyter/data/model_data/mini_data_set/time_20230809_070000.nc: Operation not supported\n",
      "getfattr: /home/jupyter/data/model_data/mini_data_set/time_20230805_160000.nc: Operation not supported\n"
     ]
    },
    {
     "name": "stdout",
     "output_type": "stream",
     "text": [
      "19/25 [=====================>........] - ETA: 4s - loss: 8.6804"
     ]
    },
    {
     "name": "stderr",
     "output_type": "stream",
     "text": [
      "getfattr: /home/jupyter/data/model_data/mini_data_set/time_20230805_070000.nc: Operation not supported\n",
      "getfattr: /home/jupyter/data/model_data/mini_data_set/time_20230804_180000.nc: Operation not supported\n",
      "getfattr: /home/jupyter/data/model_data/mini_data_set/time_20230805_090000.nc: Operation not supported\n",
      "getfattr: /home/jupyter/data/model_data/mini_data_set/time_20230811_100000.nc: Operation not supported\n"
     ]
    },
    {
     "name": "stdout",
     "output_type": "stream",
     "text": [
      "20/25 [=======================>......] - ETA: 3s - loss: 8.5292"
     ]
    },
    {
     "name": "stderr",
     "output_type": "stream",
     "text": [
      "getfattr: /home/jupyter/data/model_data/mini_data_set/time_20230816_150000.nc: Operation not supported\n",
      "getfattr: /home/jupyter/data/model_data/mini_data_set/time_20230807_130000.nc: Operation not supported\n",
      "getfattr: /home/jupyter/data/model_data/mini_data_set/time_20230815_170000.nc: Operation not supported\n",
      "getfattr: /home/jupyter/data/model_data/mini_data_set/time_20230811_110000.nc: Operation not supported\n"
     ]
    },
    {
     "name": "stdout",
     "output_type": "stream",
     "text": [
      "21/25 [========================>.....] - ETA: 3s - loss: 8.2754"
     ]
    },
    {
     "name": "stderr",
     "output_type": "stream",
     "text": [
      "getfattr: /home/jupyter/data/model_data/mini_data_set/time_20230802_130000.nc: Operation not supported\n",
      "getfattr: /home/jupyter/data/model_data/mini_data_set/time_20230808_140000.nc: Operation not supported\n",
      "getfattr: /home/jupyter/data/model_data/mini_data_set/time_20230809_090000.nc: Operation not supported\n",
      "getfattr: /home/jupyter/data/model_data/mini_data_set/time_20230806_110000.nc: Operation not supported\n"
     ]
    },
    {
     "name": "stdout",
     "output_type": "stream",
     "text": [
      "22/25 [=========================>....] - ETA: 2s - loss: 8.5172"
     ]
    },
    {
     "name": "stderr",
     "output_type": "stream",
     "text": [
      "getfattr: /home/jupyter/data/model_data/mini_data_set/time_20230812_150000.nc: Operation not supported\n",
      "getfattr: /home/jupyter/data/model_data/mini_data_set/time_20230802_150000.nc: Operation not supported\n",
      "getfattr: /home/jupyter/data/model_data/mini_data_set/time_20230812_140000.nc: Operation not supported\n",
      "getfattr: /home/jupyter/data/model_data/mini_data_set/time_20230809_160000.nc: Operation not supported\n"
     ]
    },
    {
     "name": "stdout",
     "output_type": "stream",
     "text": [
      "23/25 [==========================>...] - ETA: 1s - loss: 8.7211"
     ]
    },
    {
     "name": "stderr",
     "output_type": "stream",
     "text": [
      "getfattr: /home/jupyter/data/model_data/mini_data_set/time_20230809_140000.nc: Operation not supported\n",
      "getfattr: /home/jupyter/data/model_data/mini_data_set/time_20230809_080000.nc: Operation not supported\n",
      "getfattr: /home/jupyter/data/model_data/mini_data_set/time_20230811_180000.nc: Operation not supported\n",
      "getfattr: /home/jupyter/data/model_data/mini_data_set/time_20230812_070000.nc: Operation not supported\n"
     ]
    },
    {
     "name": "stdout",
     "output_type": "stream",
     "text": [
      "25/25 [==============================] - ETA: 0s - loss: 8.3834"
     ]
    },
    {
     "name": "stderr",
     "output_type": "stream",
     "text": [
      "getfattr: /home/jupyter/data/model_data/mini_data_set/time_20230807_160000.nc: Operation not supported\n",
      "getfattr: /home/jupyter/data/model_data/mini_data_set/time_20230804_130000.nc: Operation not supported\n",
      "getfattr: /home/jupyter/data/model_data/mini_data_set/time_20230809_070000.nc: Operation not supported\n",
      "getfattr: /home/jupyter/data/model_data/mini_data_set/time_20230805_160000.nc: Operation not supported\n",
      "getfattr: /home/jupyter/data/model_data/mini_data_set/time_20230811_090000.nc: Operation not supported\n",
      "getfattr: /home/jupyter/data/model_data/mini_data_set/time_20230806_150000.nc: Operation not supported\n",
      "getfattr: /home/jupyter/data/model_data/mini_data_set/time_20230802_100000.nc: Operation not supported\n",
      "getfattr: /home/jupyter/data/model_data/mini_data_set/time_20230812_120000.nc: Operation not supported\n",
      "getfattr: /home/jupyter/data/model_data/mini_data_set/time_20230808_170000.nc: Operation not supported\n",
      "getfattr: /home/jupyter/data/model_data/mini_data_set/time_20230811_170000.nc: Operation not supported\n",
      "getfattr: /home/jupyter/data/model_data/mini_data_set/time_20230806_080000.nc: Operation not supported\n",
      "getfattr: /home/jupyter/data/model_data/mini_data_set/time_20230806_170000.nc: Operation not supported\n",
      "getfattr: /home/jupyter/data/model_data/mini_data_set/time_20230809_130000.nc: Operation not supported\n",
      "getfattr: /home/jupyter/data/model_data/mini_data_set/time_20230806_100000.nc: Operation not supported\n",
      "getfattr: /home/jupyter/data/model_data/mini_data_set/time_20230815_120000.nc: Operation not supported\n",
      "getfattr: /home/jupyter/data/model_data/mini_data_set/time_20230804_070000.nc: Operation not supported\n",
      "getfattr: /home/jupyter/data/model_data/mini_data_set/time_20230808_180000.nc: Operation not supported\n",
      "getfattr: /home/jupyter/data/model_data/mini_data_set/time_20230816_160000.nc: Operation not supported\n",
      "getfattr: /home/jupyter/data/model_data/mini_data_set/time_20230812_160000.nc: Operation not supported\n",
      "getfattr: /home/jupyter/data/model_data/mini_data_set/time_20230806_070000.nc: Operation not supported\n",
      "getfattr: /home/jupyter/data/model_data/mini_data_set/time_20230804_170000.nc: Operation not supported\n",
      "getfattr: /home/jupyter/data/model_data/mini_data_set/time_20230811_070000.nc: Operation not supported\n",
      "getfattr: /home/jupyter/data/model_data/mini_data_set/time_20230805_080000.nc: Operation not supported\n",
      "getfattr: /home/jupyter/data/model_data/mini_data_set/time_20230807_110000.nc: Operation not supported\n",
      "getfattr: /home/jupyter/data/model_data/mini_data_set/time_20230806_140000.nc: Operation not supported\n",
      "getfattr: /home/jupyter/data/model_data/mini_data_set/time_20230811_080000.nc: Operation not supported\n",
      "getfattr: /home/jupyter/data/model_data/mini_data_set/time_20230816_090000.nc: Operation not supported\n",
      "getfattr: /home/jupyter/data/model_data/mini_data_set/time_20230808_160000.nc: Operation not supported\n",
      "getfattr: /home/jupyter/data/model_data/mini_data_set/time_20230816_150000.nc: Operation not supported\n",
      "getfattr: /home/jupyter/data/model_data/mini_data_set/time_20230807_130000.nc: Operation not supported\n",
      "getfattr: /home/jupyter/data/model_data/mini_data_set/time_20230815_170000.nc: Operation not supported\n",
      "getfattr: /home/jupyter/data/model_data/mini_data_set/time_20230811_110000.nc: Operation not supported\n",
      "getfattr: /home/jupyter/data/model_data/mini_data_set/time_20230809_140000.nc: Operation not supported\n",
      "getfattr: /home/jupyter/data/model_data/mini_data_set/time_20230809_080000.nc: Operation not supported\n",
      "getfattr: /home/jupyter/data/model_data/mini_data_set/time_20230811_180000.nc: Operation not supported\n",
      "getfattr: /home/jupyter/data/model_data/mini_data_set/time_20230812_070000.nc: Operation not supported\n",
      "getfattr: /home/jupyter/data/model_data/mini_data_set/time_20230815_180000.nc: Operation not supported\n",
      "getfattr: /home/jupyter/data/model_data/mini_data_set/time_20230807_150000.nc: Operation not supported\n",
      "getfattr: /home/jupyter/data/model_data/mini_data_set/time_20230804_100000.nc: Operation not supported\n",
      "getfattr: /home/jupyter/data/model_data/mini_data_set/time_20230807_170000.nc: Operation not supported\n",
      "getfattr: /home/jupyter/data/model_data/mini_data_set/time_20230812_150000.nc: Operation not supported\n",
      "getfattr: /home/jupyter/data/model_data/mini_data_set/time_20230802_150000.nc: Operation not supported\n",
      "getfattr: /home/jupyter/data/model_data/mini_data_set/time_20230812_140000.nc: Operation not supported\n",
      "getfattr: /home/jupyter/data/model_data/mini_data_set/time_20230809_160000.nc: Operation not supported\n",
      "getfattr: /home/jupyter/data/model_data/mini_data_set/time_20230802_130000.nc: Operation not supported\n",
      "getfattr: /home/jupyter/data/model_data/mini_data_set/time_20230808_140000.nc: Operation not supported\n",
      "getfattr: /home/jupyter/data/model_data/mini_data_set/time_20230809_090000.nc: Operation not supported\n",
      "getfattr: /home/jupyter/data/model_data/mini_data_set/time_20230806_110000.nc: Operation not supported\n",
      "getfattr: /home/jupyter/data/model_data/mini_data_set/time_20230807_090000.nc: Operation not supported\n",
      "getfattr: /home/jupyter/data/model_data/mini_data_set/time_20230805_100000.nc: Operation not supported\n",
      "getfattr: /home/jupyter/data/model_data/mini_data_set/time_20230816_100000.nc: Operation not supported\n",
      "getfattr: /home/jupyter/data/model_data/mini_data_set/time_20230812_080000.nc: Operation not supported\n",
      "getfattr: /home/jupyter/data/model_data/mini_data_set/time_20230812_180000.nc: Operation not supported\n",
      "getfattr: /home/jupyter/data/model_data/mini_data_set/time_20230812_130000.nc: Operation not supported\n",
      "getfattr: /home/jupyter/data/model_data/mini_data_set/time_20230802_110000.nc: Operation not supported\n",
      "getfattr: /home/jupyter/data/model_data/mini_data_set/time_20230809_100000.nc: Operation not supported\n",
      "getfattr: /home/jupyter/data/model_data/mini_data_set/time_20230802_140000.nc: Operation not supported\n",
      "getfattr: /home/jupyter/data/model_data/mini_data_set/time_20230808_150000.nc: Operation not supported\n",
      "getfattr: /home/jupyter/data/model_data/mini_data_set/time_20230811_150000.nc: Operation not supported\n",
      "getfattr: /home/jupyter/data/model_data/mini_data_set/time_20230809_180000.nc: Operation not supported\n",
      "getfattr: /home/jupyter/data/model_data/mini_data_set/time_20230806_120000.nc: Operation not supported\n",
      "getfattr: /home/jupyter/data/model_data/mini_data_set/time_20230804_080000.nc: Operation not supported\n",
      "getfattr: /home/jupyter/data/model_data/mini_data_set/time_20230807_140000.nc: Operation not supported\n",
      "getfattr: /home/jupyter/data/model_data/mini_data_set/time_20230804_160000.nc: Operation not supported\n",
      "getfattr: /home/jupyter/data/model_data/mini_data_set/time_20230807_070000.nc: Operation not supported\n",
      "getfattr: /home/jupyter/data/model_data/mini_data_set/time_20230804_090000.nc: Operation not supported\n",
      "getfattr: /home/jupyter/data/model_data/mini_data_set/time_20230811_140000.nc: Operation not supported\n",
      "getfattr: /home/jupyter/data/model_data/mini_data_set/time_20230807_180000.nc: Operation not supported\n",
      "getfattr: /home/jupyter/data/model_data/mini_data_set/time_20230805_070000.nc: Operation not supported\n",
      "getfattr: /home/jupyter/data/model_data/mini_data_set/time_20230804_180000.nc: Operation not supported\n",
      "getfattr: /home/jupyter/data/model_data/mini_data_set/time_20230805_090000.nc: Operation not supported\n",
      "getfattr: /home/jupyter/data/model_data/mini_data_set/time_20230811_100000.nc: Operation not supported\n",
      "getfattr: /home/jupyter/data/model_data/mini_data_set/time_20230811_130000.nc: Operation not supported\n",
      "getfattr: /home/jupyter/data/model_data/mini_data_set/time_20230805_120000.nc: Operation not supported\n",
      "getfattr: /home/jupyter/data/model_data/mini_data_set/time_20230809_110000.nc: Operation not supported\n",
      "getfattr: /home/jupyter/data/model_data/mini_data_set/time_20230805_180000.nc: Operation not supported\n",
      "getfattr: /home/jupyter/data/model_data/mini_data_set/time_20230809_150000.nc: Operation not supported\n",
      "getfattr: /home/jupyter/data/model_data/mini_data_set/time_20230816_140000.nc: Operation not supported\n",
      "getfattr: /home/jupyter/data/model_data/mini_data_set/time_20230802_120000.nc: Operation not supported\n",
      "getfattr: /home/jupyter/data/model_data/mini_data_set/time_20230806_160000.nc: Operation not supported\n",
      "getfattr: /home/jupyter/data/model_data/mini_data_set/time_20230805_170000.nc: Operation not supported\n",
      "getfattr: /home/jupyter/data/model_data/mini_data_set/time_20230804_150000.nc: Operation not supported\n",
      "getfattr: /home/jupyter/data/model_data/mini_data_set/time_20230804_120000.nc: Operation not supported\n",
      "getfattr: /home/jupyter/data/model_data/mini_data_set/time_20230816_110000.nc: Operation not supported\n",
      "getfattr: /home/jupyter/data/model_data/mini_data_set/time_20230806_180000.nc: Operation not supported\n",
      "getfattr: /home/jupyter/data/model_data/mini_data_set/time_20230805_140000.nc: Operation not supported\n",
      "getfattr: /home/jupyter/data/model_data/mini_data_set/time_20230811_160000.nc: Operation not supported\n",
      "getfattr: /home/jupyter/data/model_data/mini_data_set/time_20230807_100000.nc: Operation not supported\n",
      "getfattr: /home/jupyter/data/model_data/mini_data_set/time_20230804_140000.nc: Operation not supported\n",
      "getfattr: /home/jupyter/data/model_data/mini_data_set/time_20230809_170000.nc: Operation not supported\n",
      "getfattr: /home/jupyter/data/model_data/mini_data_set/time_20230816_080000.nc: Operation not supported\n",
      "getfattr: /home/jupyter/data/model_data/mini_data_set/time_20230816_040000.nc: Operation not supported\n",
      "getfattr: /home/jupyter/data/model_data/mini_data_set/time_20230815_150000.nc: Operation not supported\n",
      "getfattr: /home/jupyter/data/model_data/mini_data_set/time_20230805_110000.nc: Operation not supported\n",
      "getfattr: /home/jupyter/data/model_data/mini_data_set/time_20230807_080000.nc: Operation not supported\n",
      "getfattr: /home/jupyter/data/model_data/mini_data_set/time_20230812_170000.nc: Operation not supported\n",
      "getfattr: /home/jupyter/data/model_data/mini_data_set/time_20230816_070000.nc: Operation not supported\n",
      "getfattr: /home/jupyter/data/model_data/mini_data_set/time_20230815_160000.nc: Operation not supported\n",
      "getfattr: /home/jupyter/data/model_data/mini_data_set/time_20230806_090000.nc: Operation not supported\n",
      "getfattr: /home/jupyter/data/model_data/mini_data_set/time_20230805_150000.nc: Operation not supported\n"
     ]
    },
    {
     "name": "stdout",
     "output_type": "stream",
     "text": [
      "25/25 [==============================] - 41s 2s/step - loss: 8.3834 - val_loss: 5.0973\n",
      "Epoch 3/4\n"
     ]
    },
    {
     "name": "stderr",
     "output_type": "stream",
     "text": [
      "getfattr: /home/jupyter/data/model_data/mini_data_set/time_20230811_130000.nc: Operation not supported\n",
      "getfattr: /home/jupyter/data/model_data/mini_data_set/time_20230805_120000.nc: Operation not supported\n",
      "getfattr: /home/jupyter/data/model_data/mini_data_set/time_20230809_110000.nc: Operation not supported\n",
      "getfattr: /home/jupyter/data/model_data/mini_data_set/time_20230805_180000.nc: Operation not supported\n",
      "getfattr: /home/jupyter/data/model_data/mini_data_set/time_20230806_120000.nc: Operation not supported\n",
      "getfattr: /home/jupyter/data/model_data/mini_data_set/time_20230804_080000.nc: Operation not supported\n",
      "getfattr: /home/jupyter/data/model_data/mini_data_set/time_20230807_140000.nc: Operation not supported\n",
      "getfattr: /home/jupyter/data/model_data/mini_data_set/time_20230804_160000.nc: Operation not supported\n"
     ]
    },
    {
     "name": "stdout",
     "output_type": "stream",
     "text": [
      " 1/25 [>.............................] - ETA: 33s - loss: 3.7503"
     ]
    },
    {
     "name": "stderr",
     "output_type": "stream",
     "text": [
      "getfattr: /home/jupyter/data/model_data/mini_data_set/time_20230815_180000.nc: Operation not supported\n",
      "getfattr: /home/jupyter/data/model_data/mini_data_set/time_20230807_150000.nc: Operation not supported\n",
      "getfattr: /home/jupyter/data/model_data/mini_data_set/time_20230804_100000.nc: Operation not supported\n",
      "getfattr: /home/jupyter/data/model_data/mini_data_set/time_20230807_170000.nc: Operation not supported\n"
     ]
    },
    {
     "name": "stdout",
     "output_type": "stream",
     "text": [
      " 2/25 [=>............................] - ETA: 17s - loss: 4.4106"
     ]
    },
    {
     "name": "stderr",
     "output_type": "stream",
     "text": [
      "getfattr: /home/jupyter/data/model_data/mini_data_set/time_20230806_180000.nc: Operation not supported\n",
      "getfattr: /home/jupyter/data/model_data/mini_data_set/time_20230805_140000.nc: Operation not supported\n",
      "getfattr: /home/jupyter/data/model_data/mini_data_set/time_20230811_160000.nc: Operation not supported\n",
      "getfattr: /home/jupyter/data/model_data/mini_data_set/time_20230807_100000.nc: Operation not supported\n"
     ]
    },
    {
     "name": "stdout",
     "output_type": "stream",
     "text": [
      " 3/25 [==>...........................] - ETA: 17s - loss: 7.5265"
     ]
    },
    {
     "name": "stderr",
     "output_type": "stream",
     "text": [
      "getfattr: /home/jupyter/data/model_data/mini_data_set/time_20230809_140000.nc: Operation not supported\n",
      "getfattr: /home/jupyter/data/model_data/mini_data_set/time_20230809_080000.nc: Operation not supported\n",
      "getfattr: /home/jupyter/data/model_data/mini_data_set/time_20230811_180000.nc: Operation not supported\n",
      "getfattr: /home/jupyter/data/model_data/mini_data_set/time_20230812_070000.nc: Operation not supported\n"
     ]
    },
    {
     "name": "stdout",
     "output_type": "stream",
     "text": [
      " 4/25 [===>..........................] - ETA: 16s - loss: 6.2313"
     ]
    },
    {
     "name": "stderr",
     "output_type": "stream",
     "text": [
      "getfattr: /home/jupyter/data/model_data/mini_data_set/time_20230809_150000.nc: Operation not supported\n",
      "getfattr: /home/jupyter/data/model_data/mini_data_set/time_20230816_140000.nc: Operation not supported\n",
      "getfattr: /home/jupyter/data/model_data/mini_data_set/time_20230802_120000.nc: Operation not supported\n",
      "getfattr: /home/jupyter/data/model_data/mini_data_set/time_20230806_160000.nc: Operation not supported\n"
     ]
    },
    {
     "name": "stdout",
     "output_type": "stream",
     "text": [
      " 5/25 [=====>........................] - ETA: 15s - loss: 5.3711"
     ]
    },
    {
     "name": "stderr",
     "output_type": "stream",
     "text": [
      "getfattr: /home/jupyter/data/model_data/mini_data_set/time_20230815_150000.nc: Operation not supported\n",
      "getfattr: /home/jupyter/data/model_data/mini_data_set/time_20230805_110000.nc: Operation not supported\n",
      "getfattr: /home/jupyter/data/model_data/mini_data_set/time_20230807_080000.nc: Operation not supported\n",
      "getfattr: /home/jupyter/data/model_data/mini_data_set/time_20230812_170000.nc: Operation not supported\n"
     ]
    },
    {
     "name": "stdout",
     "output_type": "stream",
     "text": [
      " 6/25 [======>.......................] - ETA: 14s - loss: 6.4109"
     ]
    },
    {
     "name": "stderr",
     "output_type": "stream",
     "text": [
      "getfattr: /home/jupyter/data/model_data/mini_data_set/time_20230808_180000.nc: Operation not supported\n",
      "getfattr: /home/jupyter/data/model_data/mini_data_set/time_20230816_160000.nc: Operation not supported\n",
      "getfattr: /home/jupyter/data/model_data/mini_data_set/time_20230812_160000.nc: Operation not supported\n",
      "getfattr: /home/jupyter/data/model_data/mini_data_set/time_20230806_070000.nc: Operation not supported\n"
     ]
    },
    {
     "name": "stdout",
     "output_type": "stream",
     "text": [
      " 7/25 [=======>......................] - ETA: 14s - loss: 6.7596"
     ]
    },
    {
     "name": "stderr",
     "output_type": "stream",
     "text": [
      "getfattr: /home/jupyter/data/model_data/mini_data_set/time_20230809_130000.nc: Operation not supported\n",
      "getfattr: /home/jupyter/data/model_data/mini_data_set/time_20230806_100000.nc: Operation not supported\n",
      "getfattr: /home/jupyter/data/model_data/mini_data_set/time_20230815_120000.nc: Operation not supported\n",
      "getfattr: /home/jupyter/data/model_data/mini_data_set/time_20230804_070000.nc: Operation not supported\n"
     ]
    },
    {
     "name": "stdout",
     "output_type": "stream",
     "text": [
      " 8/25 [========>.....................] - ETA: 13s - loss: 6.4496"
     ]
    },
    {
     "name": "stderr",
     "output_type": "stream",
     "text": [
      "getfattr: /home/jupyter/data/model_data/mini_data_set/time_20230802_140000.nc: Operation not supported\n",
      "getfattr: /home/jupyter/data/model_data/mini_data_set/time_20230808_150000.nc: Operation not supported\n",
      "getfattr: /home/jupyter/data/model_data/mini_data_set/time_20230811_150000.nc: Operation not supported\n",
      "getfattr: /home/jupyter/data/model_data/mini_data_set/time_20230809_180000.nc: Operation not supported\n"
     ]
    },
    {
     "name": "stdout",
     "output_type": "stream",
     "text": [
      " 9/25 [=========>....................] - ETA: 12s - loss: 6.5286"
     ]
    },
    {
     "name": "stderr",
     "output_type": "stream",
     "text": [
      "getfattr: /home/jupyter/data/model_data/mini_data_set/time_20230811_090000.nc: Operation not supported\n",
      "getfattr: /home/jupyter/data/model_data/mini_data_set/time_20230806_150000.nc: Operation not supported\n",
      "getfattr: /home/jupyter/data/model_data/mini_data_set/time_20230802_100000.nc: Operation not supported\n",
      "getfattr: /home/jupyter/data/model_data/mini_data_set/time_20230812_120000.nc: Operation not supported\n"
     ]
    },
    {
     "name": "stdout",
     "output_type": "stream",
     "text": [
      "10/25 [===========>..................] - ETA: 11s - loss: 6.4123"
     ]
    },
    {
     "name": "stderr",
     "output_type": "stream",
     "text": [
      "getfattr: /home/jupyter/data/model_data/mini_data_set/time_20230807_160000.nc: Operation not supported\n",
      "getfattr: /home/jupyter/data/model_data/mini_data_set/time_20230804_130000.nc: Operation not supported\n",
      "getfattr: /home/jupyter/data/model_data/mini_data_set/time_20230809_070000.nc: Operation not supported\n",
      "getfattr: /home/jupyter/data/model_data/mini_data_set/time_20230805_160000.nc: Operation not supported\n"
     ]
    },
    {
     "name": "stdout",
     "output_type": "stream",
     "text": [
      "11/25 [============>.................] - ETA: 11s - loss: 6.2846"
     ]
    },
    {
     "name": "stderr",
     "output_type": "stream",
     "text": [
      "getfattr: /home/jupyter/data/model_data/mini_data_set/time_20230807_070000.nc: Operation not supported\n",
      "getfattr: /home/jupyter/data/model_data/mini_data_set/time_20230804_090000.nc: Operation not supported\n",
      "getfattr: /home/jupyter/data/model_data/mini_data_set/time_20230811_140000.nc: Operation not supported\n",
      "getfattr: /home/jupyter/data/model_data/mini_data_set/time_20230807_180000.nc: Operation not supported\n"
     ]
    },
    {
     "name": "stdout",
     "output_type": "stream",
     "text": [
      "12/25 [=============>................] - ETA: 10s - loss: 6.0227"
     ]
    },
    {
     "name": "stderr",
     "output_type": "stream",
     "text": [
      "getfattr: /home/jupyter/data/model_data/mini_data_set/time_20230816_070000.nc: Operation not supported\n",
      "getfattr: /home/jupyter/data/model_data/mini_data_set/time_20230815_160000.nc: Operation not supported\n",
      "getfattr: /home/jupyter/data/model_data/mini_data_set/time_20230806_090000.nc: Operation not supported\n",
      "getfattr: /home/jupyter/data/model_data/mini_data_set/time_20230805_150000.nc: Operation not supported\n"
     ]
    },
    {
     "name": "stdout",
     "output_type": "stream",
     "text": [
      "13/25 [==============>...............] - ETA: 9s - loss: 5.7789 "
     ]
    },
    {
     "name": "stderr",
     "output_type": "stream",
     "text": [
      "getfattr: /home/jupyter/data/model_data/mini_data_set/time_20230808_170000.nc: Operation not supported\n",
      "getfattr: /home/jupyter/data/model_data/mini_data_set/time_20230811_170000.nc: Operation not supported\n",
      "getfattr: /home/jupyter/data/model_data/mini_data_set/time_20230806_080000.nc: Operation not supported\n",
      "getfattr: /home/jupyter/data/model_data/mini_data_set/time_20230806_170000.nc: Operation not supported\n"
     ]
    },
    {
     "name": "stdout",
     "output_type": "stream",
     "text": [
      "14/25 [===============>..............] - ETA: 8s - loss: 6.2068"
     ]
    },
    {
     "name": "stderr",
     "output_type": "stream",
     "text": [
      "getfattr: /home/jupyter/data/model_data/mini_data_set/time_20230812_180000.nc: Operation not supported\n",
      "getfattr: /home/jupyter/data/model_data/mini_data_set/time_20230812_130000.nc: Operation not supported\n",
      "getfattr: /home/jupyter/data/model_data/mini_data_set/time_20230802_110000.nc: Operation not supported\n",
      "getfattr: /home/jupyter/data/model_data/mini_data_set/time_20230809_100000.nc: Operation not supported\n"
     ]
    },
    {
     "name": "stdout",
     "output_type": "stream",
     "text": [
      "15/25 [=================>............] - ETA: 7s - loss: 6.1133"
     ]
    },
    {
     "name": "stderr",
     "output_type": "stream",
     "text": [
      "getfattr: /home/jupyter/data/model_data/mini_data_set/time_20230812_150000.nc: Operation not supported\n",
      "getfattr: /home/jupyter/data/model_data/mini_data_set/time_20230802_150000.nc: Operation not supported\n",
      "getfattr: /home/jupyter/data/model_data/mini_data_set/time_20230812_140000.nc: Operation not supported\n",
      "getfattr: /home/jupyter/data/model_data/mini_data_set/time_20230809_160000.nc: Operation not supported\n"
     ]
    },
    {
     "name": "stdout",
     "output_type": "stream",
     "text": [
      "16/25 [==================>...........] - ETA: 7s - loss: 6.1253"
     ]
    },
    {
     "name": "stderr",
     "output_type": "stream",
     "text": [
      "getfattr: /home/jupyter/data/model_data/mini_data_set/time_20230807_090000.nc: Operation not supported\n",
      "getfattr: /home/jupyter/data/model_data/mini_data_set/time_20230805_100000.nc: Operation not supported\n",
      "getfattr: /home/jupyter/data/model_data/mini_data_set/time_20230816_100000.nc: Operation not supported\n",
      "getfattr: /home/jupyter/data/model_data/mini_data_set/time_20230812_080000.nc: Operation not supported\n"
     ]
    },
    {
     "name": "stdout",
     "output_type": "stream",
     "text": [
      "17/25 [===================>..........] - ETA: 6s - loss: 5.9950"
     ]
    },
    {
     "name": "stderr",
     "output_type": "stream",
     "text": [
      "getfattr: /home/jupyter/data/model_data/mini_data_set/time_20230802_130000.nc: Operation not supported\n",
      "getfattr: /home/jupyter/data/model_data/mini_data_set/time_20230808_140000.nc: Operation not supported\n",
      "getfattr: /home/jupyter/data/model_data/mini_data_set/time_20230809_090000.nc: Operation not supported\n",
      "getfattr: /home/jupyter/data/model_data/mini_data_set/time_20230806_110000.nc: Operation not supported\n"
     ]
    },
    {
     "name": "stdout",
     "output_type": "stream",
     "text": [
      "18/25 [====================>.........] - ETA: 5s - loss: 5.8832"
     ]
    },
    {
     "name": "stderr",
     "output_type": "stream",
     "text": [
      "getfattr: /home/jupyter/data/model_data/mini_data_set/time_20230816_150000.nc: Operation not supported\n",
      "getfattr: /home/jupyter/data/model_data/mini_data_set/time_20230807_130000.nc: Operation not supported\n",
      "getfattr: /home/jupyter/data/model_data/mini_data_set/time_20230815_170000.nc: Operation not supported\n",
      "getfattr: /home/jupyter/data/model_data/mini_data_set/time_20230811_110000.nc: Operation not supported\n"
     ]
    },
    {
     "name": "stdout",
     "output_type": "stream",
     "text": [
      "19/25 [=====================>........] - ETA: 4s - loss: 6.0683"
     ]
    },
    {
     "name": "stderr",
     "output_type": "stream",
     "text": [
      "getfattr: /home/jupyter/data/model_data/mini_data_set/time_20230804_170000.nc: Operation not supported\n",
      "getfattr: /home/jupyter/data/model_data/mini_data_set/time_20230811_070000.nc: Operation not supported\n",
      "getfattr: /home/jupyter/data/model_data/mini_data_set/time_20230805_080000.nc: Operation not supported\n",
      "getfattr: /home/jupyter/data/model_data/mini_data_set/time_20230807_110000.nc: Operation not supported\n"
     ]
    },
    {
     "name": "stdout",
     "output_type": "stream",
     "text": [
      "20/25 [=======================>......] - ETA: 3s - loss: 6.3571"
     ]
    },
    {
     "name": "stderr",
     "output_type": "stream",
     "text": [
      "getfattr: /home/jupyter/data/model_data/mini_data_set/time_20230805_170000.nc: Operation not supported\n",
      "getfattr: /home/jupyter/data/model_data/mini_data_set/time_20230804_150000.nc: Operation not supported\n",
      "getfattr: /home/jupyter/data/model_data/mini_data_set/time_20230804_120000.nc: Operation not supported\n",
      "getfattr: /home/jupyter/data/model_data/mini_data_set/time_20230816_110000.nc: Operation not supported\n"
     ]
    },
    {
     "name": "stdout",
     "output_type": "stream",
     "text": [
      "21/25 [========================>.....] - ETA: 3s - loss: 6.1874"
     ]
    },
    {
     "name": "stderr",
     "output_type": "stream",
     "text": [
      "getfattr: /home/jupyter/data/model_data/mini_data_set/time_20230805_070000.nc: Operation not supported\n",
      "getfattr: /home/jupyter/data/model_data/mini_data_set/time_20230804_180000.nc: Operation not supported\n",
      "getfattr: /home/jupyter/data/model_data/mini_data_set/time_20230805_090000.nc: Operation not supported\n"
     ]
    },
    {
     "name": "stdout",
     "output_type": "stream",
     "text": [
      "22/25 [=========================>....] - ETA: 2s - loss: 6.2174"
     ]
    },
    {
     "name": "stderr",
     "output_type": "stream",
     "text": [
      "getfattr: /home/jupyter/data/model_data/mini_data_set/time_20230811_100000.nc: Operation not supported\n",
      "getfattr: /home/jupyter/data/model_data/mini_data_set/time_20230806_140000.nc: Operation not supported\n",
      "getfattr: /home/jupyter/data/model_data/mini_data_set/time_20230811_080000.nc: Operation not supported\n",
      "getfattr: /home/jupyter/data/model_data/mini_data_set/time_20230816_090000.nc: Operation not supported\n",
      "getfattr: /home/jupyter/data/model_data/mini_data_set/time_20230808_160000.nc: Operation not supported\n"
     ]
    },
    {
     "name": "stdout",
     "output_type": "stream",
     "text": [
      "23/25 [==========================>...] - ETA: 1s - loss: 6.0298"
     ]
    },
    {
     "name": "stderr",
     "output_type": "stream",
     "text": [
      "getfattr: /home/jupyter/data/model_data/mini_data_set/time_20230804_140000.nc: Operation not supported\n",
      "getfattr: /home/jupyter/data/model_data/mini_data_set/time_20230809_170000.nc: Operation not supported\n",
      "getfattr: /home/jupyter/data/model_data/mini_data_set/time_20230816_080000.nc: Operation not supported\n",
      "getfattr: /home/jupyter/data/model_data/mini_data_set/time_20230816_040000.nc: Operation not supported\n"
     ]
    },
    {
     "name": "stdout",
     "output_type": "stream",
     "text": [
      "25/25 [==============================] - ETA: 0s - loss: 6.1520"
     ]
    },
    {
     "name": "stderr",
     "output_type": "stream",
     "text": [
      "getfattr: /home/jupyter/data/model_data/mini_data_set/time_20230807_160000.nc: Operation not supported\n",
      "getfattr: /home/jupyter/data/model_data/mini_data_set/time_20230804_130000.nc: Operation not supported\n",
      "getfattr: /home/jupyter/data/model_data/mini_data_set/time_20230809_070000.nc: Operation not supported\n",
      "getfattr: /home/jupyter/data/model_data/mini_data_set/time_20230805_160000.nc: Operation not supported\n",
      "getfattr: /home/jupyter/data/model_data/mini_data_set/time_20230811_090000.nc: Operation not supported\n",
      "getfattr: /home/jupyter/data/model_data/mini_data_set/time_20230806_150000.nc: Operation not supported\n",
      "getfattr: /home/jupyter/data/model_data/mini_data_set/time_20230802_100000.nc: Operation not supported\n",
      "getfattr: /home/jupyter/data/model_data/mini_data_set/time_20230812_120000.nc: Operation not supported\n",
      "getfattr: /home/jupyter/data/model_data/mini_data_set/time_20230808_170000.nc: Operation not supported\n",
      "getfattr: /home/jupyter/data/model_data/mini_data_set/time_20230811_170000.nc: Operation not supported\n",
      "getfattr: /home/jupyter/data/model_data/mini_data_set/time_20230806_080000.nc: Operation not supported\n",
      "getfattr: /home/jupyter/data/model_data/mini_data_set/time_20230806_170000.nc: Operation not supported\n",
      "getfattr: /home/jupyter/data/model_data/mini_data_set/time_20230809_130000.nc: Operation not supported\n",
      "getfattr: /home/jupyter/data/model_data/mini_data_set/time_20230806_100000.nc: Operation not supported\n",
      "getfattr: /home/jupyter/data/model_data/mini_data_set/time_20230815_120000.nc: Operation not supported\n",
      "getfattr: /home/jupyter/data/model_data/mini_data_set/time_20230804_070000.nc: Operation not supported\n",
      "getfattr: /home/jupyter/data/model_data/mini_data_set/time_20230808_180000.nc: Operation not supported\n",
      "getfattr: /home/jupyter/data/model_data/mini_data_set/time_20230816_160000.nc: Operation not supported\n",
      "getfattr: /home/jupyter/data/model_data/mini_data_set/time_20230812_160000.nc: Operation not supported\n",
      "getfattr: /home/jupyter/data/model_data/mini_data_set/time_20230806_070000.nc: Operation not supported\n",
      "getfattr: /home/jupyter/data/model_data/mini_data_set/time_20230804_170000.nc: Operation not supported\n",
      "getfattr: /home/jupyter/data/model_data/mini_data_set/time_20230811_070000.nc: Operation not supported\n",
      "getfattr: /home/jupyter/data/model_data/mini_data_set/time_20230805_080000.nc: Operation not supported\n",
      "getfattr: /home/jupyter/data/model_data/mini_data_set/time_20230807_110000.nc: Operation not supported\n",
      "getfattr: /home/jupyter/data/model_data/mini_data_set/time_20230806_140000.nc: Operation not supported\n",
      "getfattr: /home/jupyter/data/model_data/mini_data_set/time_20230811_080000.nc: Operation not supported\n",
      "getfattr: /home/jupyter/data/model_data/mini_data_set/time_20230816_090000.nc: Operation not supported\n",
      "getfattr: /home/jupyter/data/model_data/mini_data_set/time_20230808_160000.nc: Operation not supported\n",
      "getfattr: /home/jupyter/data/model_data/mini_data_set/time_20230816_150000.nc: Operation not supported\n",
      "getfattr: /home/jupyter/data/model_data/mini_data_set/time_20230807_130000.nc: Operation not supported\n",
      "getfattr: /home/jupyter/data/model_data/mini_data_set/time_20230815_170000.nc: Operation not supported\n",
      "getfattr: /home/jupyter/data/model_data/mini_data_set/time_20230811_110000.nc: Operation not supported\n",
      "getfattr: /home/jupyter/data/model_data/mini_data_set/time_20230809_140000.nc: Operation not supported\n",
      "getfattr: /home/jupyter/data/model_data/mini_data_set/time_20230809_080000.nc: Operation not supported\n",
      "getfattr: /home/jupyter/data/model_data/mini_data_set/time_20230811_180000.nc: Operation not supported\n",
      "getfattr: /home/jupyter/data/model_data/mini_data_set/time_20230812_070000.nc: Operation not supported\n",
      "getfattr: /home/jupyter/data/model_data/mini_data_set/time_20230815_180000.nc: Operation not supported\n",
      "getfattr: /home/jupyter/data/model_data/mini_data_set/time_20230807_150000.nc: Operation not supported\n",
      "getfattr: /home/jupyter/data/model_data/mini_data_set/time_20230804_100000.nc: Operation not supported\n",
      "getfattr: /home/jupyter/data/model_data/mini_data_set/time_20230807_170000.nc: Operation not supported\n",
      "getfattr: /home/jupyter/data/model_data/mini_data_set/time_20230812_150000.nc: Operation not supported\n",
      "getfattr: /home/jupyter/data/model_data/mini_data_set/time_20230802_150000.nc: Operation not supported\n",
      "getfattr: /home/jupyter/data/model_data/mini_data_set/time_20230812_140000.nc: Operation not supported\n",
      "getfattr: /home/jupyter/data/model_data/mini_data_set/time_20230809_160000.nc: Operation not supported\n",
      "getfattr: /home/jupyter/data/model_data/mini_data_set/time_20230802_130000.nc: Operation not supported\n",
      "getfattr: /home/jupyter/data/model_data/mini_data_set/time_20230808_140000.nc: Operation not supported\n",
      "getfattr: /home/jupyter/data/model_data/mini_data_set/time_20230809_090000.nc: Operation not supported\n",
      "getfattr: /home/jupyter/data/model_data/mini_data_set/time_20230806_110000.nc: Operation not supported\n",
      "getfattr: /home/jupyter/data/model_data/mini_data_set/time_20230807_090000.nc: Operation not supported\n",
      "getfattr: /home/jupyter/data/model_data/mini_data_set/time_20230805_100000.nc: Operation not supported\n",
      "getfattr: /home/jupyter/data/model_data/mini_data_set/time_20230816_100000.nc: Operation not supported\n",
      "getfattr: /home/jupyter/data/model_data/mini_data_set/time_20230812_080000.nc: Operation not supported\n",
      "getfattr: /home/jupyter/data/model_data/mini_data_set/time_20230812_180000.nc: Operation not supported\n",
      "getfattr: /home/jupyter/data/model_data/mini_data_set/time_20230812_130000.nc: Operation not supported\n",
      "getfattr: /home/jupyter/data/model_data/mini_data_set/time_20230802_110000.nc: Operation not supported\n",
      "getfattr: /home/jupyter/data/model_data/mini_data_set/time_20230809_100000.nc: Operation not supported\n",
      "getfattr: /home/jupyter/data/model_data/mini_data_set/time_20230802_140000.nc: Operation not supported\n",
      "getfattr: /home/jupyter/data/model_data/mini_data_set/time_20230808_150000.nc: Operation not supported\n",
      "getfattr: /home/jupyter/data/model_data/mini_data_set/time_20230811_150000.nc: Operation not supported\n",
      "getfattr: /home/jupyter/data/model_data/mini_data_set/time_20230809_180000.nc: Operation not supported\n",
      "getfattr: /home/jupyter/data/model_data/mini_data_set/time_20230806_120000.nc: Operation not supported\n",
      "getfattr: /home/jupyter/data/model_data/mini_data_set/time_20230804_080000.nc: Operation not supported\n",
      "getfattr: /home/jupyter/data/model_data/mini_data_set/time_20230807_140000.nc: Operation not supported\n",
      "getfattr: /home/jupyter/data/model_data/mini_data_set/time_20230804_160000.nc: Operation not supported\n",
      "getfattr: /home/jupyter/data/model_data/mini_data_set/time_20230807_070000.nc: Operation not supported\n",
      "getfattr: /home/jupyter/data/model_data/mini_data_set/time_20230804_090000.nc: Operation not supported\n",
      "getfattr: /home/jupyter/data/model_data/mini_data_set/time_20230811_140000.nc: Operation not supported\n",
      "getfattr: /home/jupyter/data/model_data/mini_data_set/time_20230807_180000.nc: Operation not supported\n",
      "getfattr: /home/jupyter/data/model_data/mini_data_set/time_20230805_070000.nc: Operation not supported\n",
      "getfattr: /home/jupyter/data/model_data/mini_data_set/time_20230804_180000.nc: Operation not supported\n",
      "getfattr: /home/jupyter/data/model_data/mini_data_set/time_20230805_090000.nc: Operation not supported\n",
      "getfattr: /home/jupyter/data/model_data/mini_data_set/time_20230811_100000.nc: Operation not supported\n",
      "getfattr: /home/jupyter/data/model_data/mini_data_set/time_20230811_130000.nc: Operation not supported\n",
      "getfattr: /home/jupyter/data/model_data/mini_data_set/time_20230805_120000.nc: Operation not supported\n",
      "getfattr: /home/jupyter/data/model_data/mini_data_set/time_20230809_110000.nc: Operation not supported\n",
      "getfattr: /home/jupyter/data/model_data/mini_data_set/time_20230805_180000.nc: Operation not supported\n",
      "getfattr: /home/jupyter/data/model_data/mini_data_set/time_20230809_150000.nc: Operation not supported\n",
      "getfattr: /home/jupyter/data/model_data/mini_data_set/time_20230816_140000.nc: Operation not supported\n",
      "getfattr: /home/jupyter/data/model_data/mini_data_set/time_20230802_120000.nc: Operation not supported\n",
      "getfattr: /home/jupyter/data/model_data/mini_data_set/time_20230806_160000.nc: Operation not supported\n",
      "getfattr: /home/jupyter/data/model_data/mini_data_set/time_20230805_170000.nc: Operation not supported\n",
      "getfattr: /home/jupyter/data/model_data/mini_data_set/time_20230804_150000.nc: Operation not supported\n",
      "getfattr: /home/jupyter/data/model_data/mini_data_set/time_20230804_120000.nc: Operation not supported\n",
      "getfattr: /home/jupyter/data/model_data/mini_data_set/time_20230816_110000.nc: Operation not supported\n",
      "getfattr: /home/jupyter/data/model_data/mini_data_set/time_20230806_180000.nc: Operation not supported\n",
      "getfattr: /home/jupyter/data/model_data/mini_data_set/time_20230805_140000.nc: Operation not supported\n",
      "getfattr: /home/jupyter/data/model_data/mini_data_set/time_20230811_160000.nc: Operation not supported\n",
      "getfattr: /home/jupyter/data/model_data/mini_data_set/time_20230807_100000.nc: Operation not supported\n",
      "getfattr: /home/jupyter/data/model_data/mini_data_set/time_20230804_140000.nc: Operation not supported\n",
      "getfattr: /home/jupyter/data/model_data/mini_data_set/time_20230809_170000.nc: Operation not supported\n",
      "getfattr: /home/jupyter/data/model_data/mini_data_set/time_20230816_080000.nc: Operation not supported\n",
      "getfattr: /home/jupyter/data/model_data/mini_data_set/time_20230816_040000.nc: Operation not supported\n",
      "getfattr: /home/jupyter/data/model_data/mini_data_set/time_20230815_150000.nc: Operation not supported\n",
      "getfattr: /home/jupyter/data/model_data/mini_data_set/time_20230805_110000.nc: Operation not supported\n",
      "getfattr: /home/jupyter/data/model_data/mini_data_set/time_20230807_080000.nc: Operation not supported\n",
      "getfattr: /home/jupyter/data/model_data/mini_data_set/time_20230812_170000.nc: Operation not supported\n",
      "getfattr: /home/jupyter/data/model_data/mini_data_set/time_20230816_070000.nc: Operation not supported\n",
      "getfattr: /home/jupyter/data/model_data/mini_data_set/time_20230815_160000.nc: Operation not supported\n",
      "getfattr: /home/jupyter/data/model_data/mini_data_set/time_20230806_090000.nc: Operation not supported\n",
      "getfattr: /home/jupyter/data/model_data/mini_data_set/time_20230805_150000.nc: Operation not supported\n"
     ]
    },
    {
     "name": "stdout",
     "output_type": "stream",
     "text": [
      "25/25 [==============================] - 41s 2s/step - loss: 6.1520 - val_loss: 3.9171\n",
      "Epoch 4/4\n"
     ]
    },
    {
     "name": "stderr",
     "output_type": "stream",
     "text": [
      "getfattr: /home/jupyter/data/model_data/mini_data_set/time_20230806_180000.nc: Operation not supported\n",
      "getfattr: /home/jupyter/data/model_data/mini_data_set/time_20230805_140000.nc: Operation not supported\n",
      "getfattr: /home/jupyter/data/model_data/mini_data_set/time_20230811_160000.nc: Operation not supported\n",
      "getfattr: /home/jupyter/data/model_data/mini_data_set/time_20230807_100000.nc: Operation not supported\n",
      "getfattr: /home/jupyter/data/model_data/mini_data_set/time_20230809_140000.nc: Operation not supported\n",
      "getfattr: /home/jupyter/data/model_data/mini_data_set/time_20230809_080000.nc: Operation not supported\n",
      "getfattr: /home/jupyter/data/model_data/mini_data_set/time_20230811_180000.nc: Operation not supported\n",
      "getfattr: /home/jupyter/data/model_data/mini_data_set/time_20230812_070000.nc: Operation not supported\n"
     ]
    },
    {
     "name": "stdout",
     "output_type": "stream",
     "text": [
      " 1/25 [>.............................] - ETA: 34s - loss: 2.0058"
     ]
    },
    {
     "name": "stderr",
     "output_type": "stream",
     "text": [
      "getfattr: /home/jupyter/data/model_data/mini_data_set/time_20230815_180000.nc: Operation not supported\n",
      "getfattr: /home/jupyter/data/model_data/mini_data_set/time_20230807_150000.nc: Operation not supported\n",
      "getfattr: /home/jupyter/data/model_data/mini_data_set/time_20230804_100000.nc: Operation not supported\n",
      "getfattr: /home/jupyter/data/model_data/mini_data_set/time_20230807_170000.nc: Operation not supported\n"
     ]
    },
    {
     "name": "stdout",
     "output_type": "stream",
     "text": [
      " 2/25 [=>............................] - ETA: 17s - loss: 1.9052"
     ]
    },
    {
     "name": "stderr",
     "output_type": "stream",
     "text": [
      "getfattr: /home/jupyter/data/model_data/mini_data_set/time_20230808_180000.nc: Operation not supported\n",
      "getfattr: /home/jupyter/data/model_data/mini_data_set/time_20230816_160000.nc: Operation not supported\n",
      "getfattr: /home/jupyter/data/model_data/mini_data_set/time_20230812_160000.nc: Operation not supported\n",
      "getfattr: /home/jupyter/data/model_data/mini_data_set/time_20230806_070000.nc: Operation not supported\n"
     ]
    },
    {
     "name": "stdout",
     "output_type": "stream",
     "text": [
      " 3/25 [==>...........................] - ETA: 17s - loss: 5.5997"
     ]
    },
    {
     "name": "stderr",
     "output_type": "stream",
     "text": [
      "getfattr: /home/jupyter/data/model_data/mini_data_set/time_20230815_150000.nc: Operation not supported\n",
      "getfattr: /home/jupyter/data/model_data/mini_data_set/time_20230805_110000.nc: Operation not supported\n",
      "getfattr: /home/jupyter/data/model_data/mini_data_set/time_20230807_080000.nc: Operation not supported\n",
      "getfattr: /home/jupyter/data/model_data/mini_data_set/time_20230812_170000.nc: Operation not supported\n"
     ]
    },
    {
     "name": "stdout",
     "output_type": "stream",
     "text": [
      " 4/25 [===>..........................] - ETA: 16s - loss: 5.4400"
     ]
    },
    {
     "name": "stderr",
     "output_type": "stream",
     "text": [
      "getfattr: /home/jupyter/data/model_data/mini_data_set/time_20230805_070000.nc: Operation not supported\n",
      "getfattr: /home/jupyter/data/model_data/mini_data_set/time_20230804_180000.nc: Operation not supported\n",
      "getfattr: /home/jupyter/data/model_data/mini_data_set/time_20230805_090000.nc: Operation not supported\n",
      "getfattr: /home/jupyter/data/model_data/mini_data_set/time_20230811_100000.nc: Operation not supported\n"
     ]
    },
    {
     "name": "stdout",
     "output_type": "stream",
     "text": [
      " 5/25 [=====>........................] - ETA: 15s - loss: 5.9066"
     ]
    },
    {
     "name": "stderr",
     "output_type": "stream",
     "text": [
      "getfattr: /home/jupyter/data/model_data/mini_data_set/time_20230816_150000.nc: Operation not supported\n",
      "getfattr: /home/jupyter/data/model_data/mini_data_set/time_20230807_130000.nc: Operation not supported\n",
      "getfattr: /home/jupyter/data/model_data/mini_data_set/time_20230815_170000.nc: Operation not supported\n",
      "getfattr: /home/jupyter/data/model_data/mini_data_set/time_20230811_110000.nc: Operation not supported\n"
     ]
    },
    {
     "name": "stdout",
     "output_type": "stream",
     "text": [
      " 6/25 [======>.......................] - ETA: 15s - loss: 5.2377"
     ]
    },
    {
     "name": "stderr",
     "output_type": "stream",
     "text": [
      "getfattr: /home/jupyter/data/model_data/mini_data_set/time_20230807_090000.nc: Operation not supported\n",
      "getfattr: /home/jupyter/data/model_data/mini_data_set/time_20230805_100000.nc: Operation not supported\n",
      "getfattr: /home/jupyter/data/model_data/mini_data_set/time_20230816_100000.nc: Operation not supported\n",
      "getfattr: /home/jupyter/data/model_data/mini_data_set/time_20230812_080000.nc: Operation not supported\n"
     ]
    },
    {
     "name": "stdout",
     "output_type": "stream",
     "text": [
      " 7/25 [=======>......................] - ETA: 14s - loss: 5.7682"
     ]
    },
    {
     "name": "stderr",
     "output_type": "stream",
     "text": [
      "getfattr: /home/jupyter/data/model_data/mini_data_set/time_20230812_150000.nc: Operation not supported\n",
      "getfattr: /home/jupyter/data/model_data/mini_data_set/time_20230802_150000.nc: Operation not supported\n",
      "getfattr: /home/jupyter/data/model_data/mini_data_set/time_20230812_140000.nc: Operation not supported\n",
      "getfattr: /home/jupyter/data/model_data/mini_data_set/time_20230809_160000.nc: Operation not supported\n"
     ]
    },
    {
     "name": "stdout",
     "output_type": "stream",
     "text": [
      " 8/25 [========>.....................] - ETA: 13s - loss: 5.4112"
     ]
    },
    {
     "name": "stderr",
     "output_type": "stream",
     "text": [
      "getfattr: /home/jupyter/data/model_data/mini_data_set/time_20230811_090000.nc: Operation not supported\n",
      "getfattr: /home/jupyter/data/model_data/mini_data_set/time_20230806_150000.nc: Operation not supported\n",
      "getfattr: /home/jupyter/data/model_data/mini_data_set/time_20230802_100000.nc: Operation not supported\n",
      "getfattr: /home/jupyter/data/model_data/mini_data_set/time_20230812_120000.nc: Operation not supported\n"
     ]
    },
    {
     "name": "stdout",
     "output_type": "stream",
     "text": [
      " 9/25 [=========>....................] - ETA: 12s - loss: 5.3222"
     ]
    },
    {
     "name": "stderr",
     "output_type": "stream",
     "text": [
      "getfattr: /home/jupyter/data/model_data/mini_data_set/time_20230802_130000.nc: Operation not supported\n",
      "getfattr: /home/jupyter/data/model_data/mini_data_set/time_20230808_140000.nc: Operation not supported\n",
      "getfattr: /home/jupyter/data/model_data/mini_data_set/time_20230809_090000.nc: Operation not supported\n",
      "getfattr: /home/jupyter/data/model_data/mini_data_set/time_20230806_110000.nc: Operation not supported\n"
     ]
    },
    {
     "name": "stdout",
     "output_type": "stream",
     "text": [
      "10/25 [===========>..................] - ETA: 11s - loss: 5.2970"
     ]
    },
    {
     "name": "stderr",
     "output_type": "stream",
     "text": [
      "getfattr: /home/jupyter/data/model_data/mini_data_set/time_20230812_180000.nc: Operation not supported\n",
      "getfattr: /home/jupyter/data/model_data/mini_data_set/time_20230812_130000.nc: Operation not supported\n",
      "getfattr: /home/jupyter/data/model_data/mini_data_set/time_20230802_110000.nc: Operation not supported\n",
      "getfattr: /home/jupyter/data/model_data/mini_data_set/time_20230809_100000.nc: Operation not supported\n"
     ]
    },
    {
     "name": "stdout",
     "output_type": "stream",
     "text": [
      "11/25 [============>.................] - ETA: 11s - loss: 5.7526"
     ]
    },
    {
     "name": "stderr",
     "output_type": "stream",
     "text": [
      "getfattr: /home/jupyter/data/model_data/mini_data_set/time_20230811_130000.nc: Operation not supported\n",
      "getfattr: /home/jupyter/data/model_data/mini_data_set/time_20230805_120000.nc: Operation not supported\n",
      "getfattr: /home/jupyter/data/model_data/mini_data_set/time_20230809_110000.nc: Operation not supported\n",
      "getfattr: /home/jupyter/data/model_data/mini_data_set/time_20230805_180000.nc: Operation not supported\n"
     ]
    },
    {
     "name": "stdout",
     "output_type": "stream",
     "text": [
      "12/25 [=============>................] - ETA: 10s - loss: 5.8129"
     ]
    },
    {
     "name": "stderr",
     "output_type": "stream",
     "text": [
      "getfattr: /home/jupyter/data/model_data/mini_data_set/time_20230816_070000.nc: Operation not supported\n",
      "getfattr: /home/jupyter/data/model_data/mini_data_set/time_20230815_160000.nc: Operation not supported\n",
      "getfattr: /home/jupyter/data/model_data/mini_data_set/time_20230806_090000.nc: Operation not supported\n",
      "getfattr: /home/jupyter/data/model_data/mini_data_set/time_20230805_150000.nc: Operation not supported\n"
     ]
    },
    {
     "name": "stdout",
     "output_type": "stream",
     "text": [
      "13/25 [==============>...............] - ETA: 9s - loss: 5.5242 "
     ]
    },
    {
     "name": "stderr",
     "output_type": "stream",
     "text": [
      "getfattr: /home/jupyter/data/model_data/mini_data_set/time_20230807_160000.nc: Operation not supported\n",
      "getfattr: /home/jupyter/data/model_data/mini_data_set/time_20230804_130000.nc: Operation not supported\n",
      "getfattr: /home/jupyter/data/model_data/mini_data_set/time_20230809_070000.nc: Operation not supported\n",
      "getfattr: /home/jupyter/data/model_data/mini_data_set/time_20230805_160000.nc: Operation not supported\n"
     ]
    },
    {
     "name": "stdout",
     "output_type": "stream",
     "text": [
      "14/25 [===============>..............] - ETA: 8s - loss: 5.8291"
     ]
    },
    {
     "name": "stderr",
     "output_type": "stream",
     "text": [
      "getfattr: /home/jupyter/data/model_data/mini_data_set/time_20230804_170000.nc: Operation not supported\n",
      "getfattr: /home/jupyter/data/model_data/mini_data_set/time_20230811_070000.nc: Operation not supported\n",
      "getfattr: /home/jupyter/data/model_data/mini_data_set/time_20230805_080000.nc: Operation not supported\n",
      "getfattr: /home/jupyter/data/model_data/mini_data_set/time_20230807_110000.nc: Operation not supported\n"
     ]
    },
    {
     "name": "stdout",
     "output_type": "stream",
     "text": [
      "15/25 [=================>............] - ETA: 7s - loss: 5.6002"
     ]
    },
    {
     "name": "stderr",
     "output_type": "stream",
     "text": [
      "getfattr: /home/jupyter/data/model_data/mini_data_set/time_20230805_170000.nc: Operation not supported\n",
      "getfattr: /home/jupyter/data/model_data/mini_data_set/time_20230804_150000.nc: Operation not supported\n",
      "getfattr: /home/jupyter/data/model_data/mini_data_set/time_20230804_120000.nc: Operation not supported\n",
      "getfattr: /home/jupyter/data/model_data/mini_data_set/time_20230816_110000.nc: Operation not supported\n"
     ]
    },
    {
     "name": "stdout",
     "output_type": "stream",
     "text": [
      "16/25 [==================>...........] - ETA: 7s - loss: 5.4187"
     ]
    },
    {
     "name": "stderr",
     "output_type": "stream",
     "text": [
      "getfattr: /home/jupyter/data/model_data/mini_data_set/time_20230808_170000.nc: Operation not supported\n",
      "getfattr: /home/jupyter/data/model_data/mini_data_set/time_20230811_170000.nc: Operation not supported\n",
      "getfattr: /home/jupyter/data/model_data/mini_data_set/time_20230806_080000.nc: Operation not supported\n",
      "getfattr: /home/jupyter/data/model_data/mini_data_set/time_20230806_170000.nc: Operation not supported\n"
     ]
    },
    {
     "name": "stdout",
     "output_type": "stream",
     "text": [
      "17/25 [===================>..........] - ETA: 6s - loss: 5.5134"
     ]
    },
    {
     "name": "stderr",
     "output_type": "stream",
     "text": [
      "getfattr: /home/jupyter/data/model_data/mini_data_set/time_20230807_070000.nc: Operation not supported\n",
      "getfattr: /home/jupyter/data/model_data/mini_data_set/time_20230804_090000.nc: Operation not supported\n",
      "getfattr: /home/jupyter/data/model_data/mini_data_set/time_20230811_140000.nc: Operation not supported\n",
      "getfattr: /home/jupyter/data/model_data/mini_data_set/time_20230807_180000.nc: Operation not supported\n"
     ]
    },
    {
     "name": "stdout",
     "output_type": "stream",
     "text": [
      "18/25 [====================>.........] - ETA: 5s - loss: 5.3815"
     ]
    },
    {
     "name": "stderr",
     "output_type": "stream",
     "text": [
      "getfattr: /home/jupyter/data/model_data/mini_data_set/time_20230809_130000.nc: Operation not supported\n",
      "getfattr: /home/jupyter/data/model_data/mini_data_set/time_20230806_100000.nc: Operation not supported\n",
      "getfattr: /home/jupyter/data/model_data/mini_data_set/time_20230815_120000.nc: Operation not supported\n",
      "getfattr: /home/jupyter/data/model_data/mini_data_set/time_20230804_070000.nc: Operation not supported\n"
     ]
    },
    {
     "name": "stdout",
     "output_type": "stream",
     "text": [
      "19/25 [=====================>........] - ETA: 4s - loss: 5.2350"
     ]
    },
    {
     "name": "stderr",
     "output_type": "stream",
     "text": [
      "getfattr: /home/jupyter/data/model_data/mini_data_set/time_20230806_140000.nc: Operation not supported\n",
      "getfattr: /home/jupyter/data/model_data/mini_data_set/time_20230811_080000.nc: Operation not supported\n",
      "getfattr: /home/jupyter/data/model_data/mini_data_set/time_20230816_090000.nc: Operation not supported\n",
      "getfattr: /home/jupyter/data/model_data/mini_data_set/time_20230808_160000.nc: Operation not supported\n"
     ]
    },
    {
     "name": "stdout",
     "output_type": "stream",
     "text": [
      "20/25 [=======================>......] - ETA: 3s - loss: 5.3663"
     ]
    },
    {
     "name": "stderr",
     "output_type": "stream",
     "text": [
      "getfattr: /home/jupyter/data/model_data/mini_data_set/time_20230802_140000.nc: Operation not supported\n",
      "getfattr: /home/jupyter/data/model_data/mini_data_set/time_20230808_150000.nc: Operation not supported\n",
      "getfattr: /home/jupyter/data/model_data/mini_data_set/time_20230811_150000.nc: Operation not supported\n",
      "getfattr: /home/jupyter/data/model_data/mini_data_set/time_20230809_180000.nc: Operation not supported\n"
     ]
    },
    {
     "name": "stdout",
     "output_type": "stream",
     "text": [
      "21/25 [========================>.....] - ETA: 3s - loss: 5.3333"
     ]
    },
    {
     "name": "stderr",
     "output_type": "stream",
     "text": [
      "getfattr: /home/jupyter/data/model_data/mini_data_set/time_20230809_150000.nc: Operation not supported\n",
      "getfattr: /home/jupyter/data/model_data/mini_data_set/time_20230816_140000.nc: Operation not supported\n",
      "getfattr: /home/jupyter/data/model_data/mini_data_set/time_20230802_120000.nc: Operation not supported\n",
      "getfattr: /home/jupyter/data/model_data/mini_data_set/time_20230806_160000.nc: Operation not supported\n"
     ]
    },
    {
     "name": "stdout",
     "output_type": "stream",
     "text": [
      "22/25 [=========================>....] - ETA: 2s - loss: 5.3012"
     ]
    },
    {
     "name": "stderr",
     "output_type": "stream",
     "text": [
      "getfattr: /home/jupyter/data/model_data/mini_data_set/time_20230804_140000.nc: Operation not supported\n",
      "getfattr: /home/jupyter/data/model_data/mini_data_set/time_20230809_170000.nc: Operation not supported\n",
      "getfattr: /home/jupyter/data/model_data/mini_data_set/time_20230816_080000.nc: Operation not supported\n",
      "getfattr: /home/jupyter/data/model_data/mini_data_set/time_20230816_040000.nc: Operation not supported\n"
     ]
    },
    {
     "name": "stdout",
     "output_type": "stream",
     "text": [
      "23/25 [==========================>...] - ETA: 1s - loss: 5.5052"
     ]
    },
    {
     "name": "stderr",
     "output_type": "stream",
     "text": [
      "getfattr: /home/jupyter/data/model_data/mini_data_set/time_20230806_120000.nc: Operation not supported\n",
      "getfattr: /home/jupyter/data/model_data/mini_data_set/time_20230804_080000.nc: Operation not supported\n",
      "getfattr: /home/jupyter/data/model_data/mini_data_set/time_20230807_140000.nc: Operation not supported\n",
      "getfattr: /home/jupyter/data/model_data/mini_data_set/time_20230804_160000.nc: Operation not supported\n"
     ]
    },
    {
     "name": "stdout",
     "output_type": "stream",
     "text": [
      "25/25 [==============================] - ETA: 0s - loss: 5.6107"
     ]
    },
    {
     "name": "stderr",
     "output_type": "stream",
     "text": [
      "getfattr: /home/jupyter/data/model_data/mini_data_set/time_20230807_160000.nc: Operation not supported\n",
      "getfattr: /home/jupyter/data/model_data/mini_data_set/time_20230804_130000.nc: Operation not supported\n",
      "getfattr: /home/jupyter/data/model_data/mini_data_set/time_20230809_070000.nc: Operation not supported\n",
      "getfattr: /home/jupyter/data/model_data/mini_data_set/time_20230805_160000.nc: Operation not supported\n",
      "getfattr: /home/jupyter/data/model_data/mini_data_set/time_20230811_090000.nc: Operation not supported\n",
      "getfattr: /home/jupyter/data/model_data/mini_data_set/time_20230806_150000.nc: Operation not supported\n",
      "getfattr: /home/jupyter/data/model_data/mini_data_set/time_20230802_100000.nc: Operation not supported\n",
      "getfattr: /home/jupyter/data/model_data/mini_data_set/time_20230812_120000.nc: Operation not supported\n",
      "getfattr: /home/jupyter/data/model_data/mini_data_set/time_20230808_170000.nc: Operation not supported\n",
      "getfattr: /home/jupyter/data/model_data/mini_data_set/time_20230811_170000.nc: Operation not supported\n",
      "getfattr: /home/jupyter/data/model_data/mini_data_set/time_20230806_080000.nc: Operation not supported\n",
      "getfattr: /home/jupyter/data/model_data/mini_data_set/time_20230806_170000.nc: Operation not supported\n",
      "getfattr: /home/jupyter/data/model_data/mini_data_set/time_20230809_130000.nc: Operation not supported\n",
      "getfattr: /home/jupyter/data/model_data/mini_data_set/time_20230806_100000.nc: Operation not supported\n",
      "getfattr: /home/jupyter/data/model_data/mini_data_set/time_20230815_120000.nc: Operation not supported\n",
      "getfattr: /home/jupyter/data/model_data/mini_data_set/time_20230804_070000.nc: Operation not supported\n",
      "getfattr: /home/jupyter/data/model_data/mini_data_set/time_20230808_180000.nc: Operation not supported\n",
      "getfattr: /home/jupyter/data/model_data/mini_data_set/time_20230816_160000.nc: Operation not supported\n",
      "getfattr: /home/jupyter/data/model_data/mini_data_set/time_20230812_160000.nc: Operation not supported\n",
      "getfattr: /home/jupyter/data/model_data/mini_data_set/time_20230806_070000.nc: Operation not supported\n",
      "getfattr: /home/jupyter/data/model_data/mini_data_set/time_20230804_170000.nc: Operation not supported\n",
      "getfattr: /home/jupyter/data/model_data/mini_data_set/time_20230811_070000.nc: Operation not supported\n",
      "getfattr: /home/jupyter/data/model_data/mini_data_set/time_20230805_080000.nc: Operation not supported\n",
      "getfattr: /home/jupyter/data/model_data/mini_data_set/time_20230807_110000.nc: Operation not supported\n",
      "getfattr: /home/jupyter/data/model_data/mini_data_set/time_20230806_140000.nc: Operation not supported\n",
      "getfattr: /home/jupyter/data/model_data/mini_data_set/time_20230811_080000.nc: Operation not supported\n",
      "getfattr: /home/jupyter/data/model_data/mini_data_set/time_20230816_090000.nc: Operation not supported\n",
      "getfattr: /home/jupyter/data/model_data/mini_data_set/time_20230808_160000.nc: Operation not supported\n",
      "getfattr: /home/jupyter/data/model_data/mini_data_set/time_20230816_150000.nc: Operation not supported\n",
      "getfattr: /home/jupyter/data/model_data/mini_data_set/time_20230807_130000.nc: Operation not supported\n",
      "getfattr: /home/jupyter/data/model_data/mini_data_set/time_20230815_170000.nc: Operation not supported\n",
      "getfattr: /home/jupyter/data/model_data/mini_data_set/time_20230811_110000.nc: Operation not supported\n",
      "getfattr: /home/jupyter/data/model_data/mini_data_set/time_20230809_140000.nc: Operation not supported\n",
      "getfattr: /home/jupyter/data/model_data/mini_data_set/time_20230809_080000.nc: Operation not supported\n",
      "getfattr: /home/jupyter/data/model_data/mini_data_set/time_20230811_180000.nc: Operation not supported\n",
      "getfattr: /home/jupyter/data/model_data/mini_data_set/time_20230812_070000.nc: Operation not supported\n",
      "getfattr: /home/jupyter/data/model_data/mini_data_set/time_20230815_180000.nc: Operation not supported\n",
      "getfattr: /home/jupyter/data/model_data/mini_data_set/time_20230807_150000.nc: Operation not supported\n",
      "getfattr: /home/jupyter/data/model_data/mini_data_set/time_20230804_100000.nc: Operation not supported\n",
      "getfattr: /home/jupyter/data/model_data/mini_data_set/time_20230807_170000.nc: Operation not supported\n",
      "getfattr: /home/jupyter/data/model_data/mini_data_set/time_20230812_150000.nc: Operation not supported\n",
      "getfattr: /home/jupyter/data/model_data/mini_data_set/time_20230802_150000.nc: Operation not supported\n",
      "getfattr: /home/jupyter/data/model_data/mini_data_set/time_20230812_140000.nc: Operation not supported\n",
      "getfattr: /home/jupyter/data/model_data/mini_data_set/time_20230809_160000.nc: Operation not supported\n",
      "getfattr: /home/jupyter/data/model_data/mini_data_set/time_20230802_130000.nc: Operation not supported\n",
      "getfattr: /home/jupyter/data/model_data/mini_data_set/time_20230808_140000.nc: Operation not supported\n",
      "getfattr: /home/jupyter/data/model_data/mini_data_set/time_20230809_090000.nc: Operation not supported\n",
      "getfattr: /home/jupyter/data/model_data/mini_data_set/time_20230806_110000.nc: Operation not supported\n",
      "getfattr: /home/jupyter/data/model_data/mini_data_set/time_20230807_090000.nc: Operation not supported\n",
      "getfattr: /home/jupyter/data/model_data/mini_data_set/time_20230805_100000.nc: Operation not supported\n",
      "getfattr: /home/jupyter/data/model_data/mini_data_set/time_20230816_100000.nc: Operation not supported\n",
      "getfattr: /home/jupyter/data/model_data/mini_data_set/time_20230812_080000.nc: Operation not supported\n",
      "getfattr: /home/jupyter/data/model_data/mini_data_set/time_20230812_180000.nc: Operation not supported\n",
      "getfattr: /home/jupyter/data/model_data/mini_data_set/time_20230812_130000.nc: Operation not supported\n",
      "getfattr: /home/jupyter/data/model_data/mini_data_set/time_20230802_110000.nc: Operation not supported\n",
      "getfattr: /home/jupyter/data/model_data/mini_data_set/time_20230809_100000.nc: Operation not supported\n",
      "getfattr: /home/jupyter/data/model_data/mini_data_set/time_20230802_140000.nc: Operation not supported\n",
      "getfattr: /home/jupyter/data/model_data/mini_data_set/time_20230808_150000.nc: Operation not supported\n",
      "getfattr: /home/jupyter/data/model_data/mini_data_set/time_20230811_150000.nc: Operation not supported\n",
      "getfattr: /home/jupyter/data/model_data/mini_data_set/time_20230809_180000.nc: Operation not supported\n",
      "getfattr: /home/jupyter/data/model_data/mini_data_set/time_20230806_120000.nc: Operation not supported\n",
      "getfattr: /home/jupyter/data/model_data/mini_data_set/time_20230804_080000.nc: Operation not supported\n",
      "getfattr: /home/jupyter/data/model_data/mini_data_set/time_20230807_140000.nc: Operation not supported\n",
      "getfattr: /home/jupyter/data/model_data/mini_data_set/time_20230804_160000.nc: Operation not supported\n",
      "getfattr: /home/jupyter/data/model_data/mini_data_set/time_20230807_070000.nc: Operation not supported\n",
      "getfattr: /home/jupyter/data/model_data/mini_data_set/time_20230804_090000.nc: Operation not supported\n",
      "getfattr: /home/jupyter/data/model_data/mini_data_set/time_20230811_140000.nc: Operation not supported\n",
      "getfattr: /home/jupyter/data/model_data/mini_data_set/time_20230807_180000.nc: Operation not supported\n",
      "getfattr: /home/jupyter/data/model_data/mini_data_set/time_20230805_070000.nc: Operation not supported\n",
      "getfattr: /home/jupyter/data/model_data/mini_data_set/time_20230804_180000.nc: Operation not supported\n",
      "getfattr: /home/jupyter/data/model_data/mini_data_set/time_20230805_090000.nc: Operation not supported\n",
      "getfattr: /home/jupyter/data/model_data/mini_data_set/time_20230811_100000.nc: Operation not supported\n",
      "getfattr: /home/jupyter/data/model_data/mini_data_set/time_20230811_130000.nc: Operation not supported\n",
      "getfattr: /home/jupyter/data/model_data/mini_data_set/time_20230805_120000.nc: Operation not supported\n",
      "getfattr: /home/jupyter/data/model_data/mini_data_set/time_20230809_110000.nc: Operation not supported\n",
      "getfattr: /home/jupyter/data/model_data/mini_data_set/time_20230805_180000.nc: Operation not supported\n",
      "getfattr: /home/jupyter/data/model_data/mini_data_set/time_20230809_150000.nc: Operation not supported\n",
      "getfattr: /home/jupyter/data/model_data/mini_data_set/time_20230816_140000.nc: Operation not supported\n",
      "getfattr: /home/jupyter/data/model_data/mini_data_set/time_20230802_120000.nc: Operation not supported\n",
      "getfattr: /home/jupyter/data/model_data/mini_data_set/time_20230806_160000.nc: Operation not supported\n",
      "getfattr: /home/jupyter/data/model_data/mini_data_set/time_20230805_170000.nc: Operation not supported\n",
      "getfattr: /home/jupyter/data/model_data/mini_data_set/time_20230804_150000.nc: Operation not supported\n",
      "getfattr: /home/jupyter/data/model_data/mini_data_set/time_20230804_120000.nc: Operation not supported\n",
      "getfattr: /home/jupyter/data/model_data/mini_data_set/time_20230816_110000.nc: Operation not supported\n",
      "getfattr: /home/jupyter/data/model_data/mini_data_set/time_20230806_180000.nc: Operation not supported\n",
      "getfattr: /home/jupyter/data/model_data/mini_data_set/time_20230805_140000.nc: Operation not supported\n",
      "getfattr: /home/jupyter/data/model_data/mini_data_set/time_20230811_160000.nc: Operation not supported\n",
      "getfattr: /home/jupyter/data/model_data/mini_data_set/time_20230807_100000.nc: Operation not supported\n",
      "getfattr: /home/jupyter/data/model_data/mini_data_set/time_20230804_140000.nc: Operation not supported\n",
      "getfattr: /home/jupyter/data/model_data/mini_data_set/time_20230809_170000.nc: Operation not supported\n",
      "getfattr: /home/jupyter/data/model_data/mini_data_set/time_20230816_080000.nc: Operation not supported\n",
      "getfattr: /home/jupyter/data/model_data/mini_data_set/time_20230816_040000.nc: Operation not supported\n",
      "getfattr: /home/jupyter/data/model_data/mini_data_set/time_20230815_150000.nc: Operation not supported\n",
      "getfattr: /home/jupyter/data/model_data/mini_data_set/time_20230805_110000.nc: Operation not supported\n",
      "getfattr: /home/jupyter/data/model_data/mini_data_set/time_20230807_080000.nc: Operation not supported\n",
      "getfattr: /home/jupyter/data/model_data/mini_data_set/time_20230812_170000.nc: Operation not supported\n",
      "getfattr: /home/jupyter/data/model_data/mini_data_set/time_20230816_070000.nc: Operation not supported\n",
      "getfattr: /home/jupyter/data/model_data/mini_data_set/time_20230815_160000.nc: Operation not supported\n",
      "getfattr: /home/jupyter/data/model_data/mini_data_set/time_20230806_090000.nc: Operation not supported\n",
      "getfattr: /home/jupyter/data/model_data/mini_data_set/time_20230805_150000.nc: Operation not supported\n"
     ]
    },
    {
     "name": "stdout",
     "output_type": "stream",
     "text": [
      "25/25 [==============================] - 42s 2s/step - loss: 5.6107 - val_loss: 4.0336\n"
     ]
    },
    {
     "name": "stderr",
     "output_type": "stream",
     "text": [
      "getfattr: /home/jupyter/data/model_data/mini_data_set/time_20230807_160000.nc: Operation not supported\n",
      "getfattr: /home/jupyter/data/model_data/mini_data_set/time_20230804_130000.nc: Operation not supported\n",
      "getfattr: /home/jupyter/data/model_data/mini_data_set/time_20230809_070000.nc: Operation not supported\n",
      "getfattr: /home/jupyter/data/model_data/mini_data_set/time_20230805_160000.nc: Operation not supported\n"
     ]
    },
    {
     "name": "stdout",
     "output_type": "stream",
     "text": [
      "1/1 [==============================] - 0s 192ms/step\n"
     ]
    },
    {
     "name": "stderr",
     "output_type": "stream",
     "text": [
      "getfattr: /home/jupyter/data/model_data/mini_data_set/time_20230811_090000.nc: Operation not supported\n",
      "getfattr: /home/jupyter/data/model_data/mini_data_set/time_20230806_150000.nc: Operation not supported\n",
      "getfattr: /home/jupyter/data/model_data/mini_data_set/time_20230802_100000.nc: Operation not supported\n",
      "getfattr: /home/jupyter/data/model_data/mini_data_set/time_20230812_120000.nc: Operation not supported\n"
     ]
    },
    {
     "name": "stdout",
     "output_type": "stream",
     "text": [
      "1/1 [==============================] - 0s 150ms/step\n"
     ]
    },
    {
     "name": "stderr",
     "output_type": "stream",
     "text": [
      "getfattr: /home/jupyter/data/model_data/mini_data_set/time_20230808_170000.nc: Operation not supported\n",
      "getfattr: /home/jupyter/data/model_data/mini_data_set/time_20230811_170000.nc: Operation not supported\n",
      "getfattr: /home/jupyter/data/model_data/mini_data_set/time_20230806_080000.nc: Operation not supported\n",
      "getfattr: /home/jupyter/data/model_data/mini_data_set/time_20230806_170000.nc: Operation not supported\n"
     ]
    },
    {
     "name": "stdout",
     "output_type": "stream",
     "text": [
      "1/1 [==============================] - 0s 149ms/step\n"
     ]
    },
    {
     "name": "stderr",
     "output_type": "stream",
     "text": [
      "getfattr: /home/jupyter/data/model_data/mini_data_set/time_20230809_130000.nc: Operation not supported\n",
      "getfattr: /home/jupyter/data/model_data/mini_data_set/time_20230806_100000.nc: Operation not supported\n",
      "getfattr: /home/jupyter/data/model_data/mini_data_set/time_20230815_120000.nc: Operation not supported\n",
      "getfattr: /home/jupyter/data/model_data/mini_data_set/time_20230804_070000.nc: Operation not supported\n"
     ]
    },
    {
     "name": "stdout",
     "output_type": "stream",
     "text": [
      "1/1 [==============================] - 0s 150ms/step\n"
     ]
    },
    {
     "name": "stderr",
     "output_type": "stream",
     "text": [
      "getfattr: /home/jupyter/data/model_data/mini_data_set/time_20230808_180000.nc: Operation not supported\n",
      "getfattr: /home/jupyter/data/model_data/mini_data_set/time_20230816_160000.nc: Operation not supported\n",
      "getfattr: /home/jupyter/data/model_data/mini_data_set/time_20230812_160000.nc: Operation not supported\n",
      "getfattr: /home/jupyter/data/model_data/mini_data_set/time_20230806_070000.nc: Operation not supported\n"
     ]
    },
    {
     "name": "stdout",
     "output_type": "stream",
     "text": [
      "1/1 [==============================] - 0s 151ms/step\n"
     ]
    },
    {
     "name": "stderr",
     "output_type": "stream",
     "text": [
      "getfattr: /home/jupyter/data/model_data/mini_data_set/time_20230804_170000.nc: Operation not supported\n",
      "getfattr: /home/jupyter/data/model_data/mini_data_set/time_20230811_070000.nc: Operation not supported\n",
      "getfattr: /home/jupyter/data/model_data/mini_data_set/time_20230805_080000.nc: Operation not supported\n",
      "getfattr: /home/jupyter/data/model_data/mini_data_set/time_20230807_110000.nc: Operation not supported\n"
     ]
    },
    {
     "name": "stdout",
     "output_type": "stream",
     "text": [
      "1/1 [==============================] - 0s 152ms/step\n"
     ]
    },
    {
     "name": "stderr",
     "output_type": "stream",
     "text": [
      "getfattr: /home/jupyter/data/model_data/mini_data_set/time_20230806_140000.nc: Operation not supported\n",
      "getfattr: /home/jupyter/data/model_data/mini_data_set/time_20230811_080000.nc: Operation not supported\n",
      "getfattr: /home/jupyter/data/model_data/mini_data_set/time_20230816_090000.nc: Operation not supported\n",
      "getfattr: /home/jupyter/data/model_data/mini_data_set/time_20230808_160000.nc: Operation not supported\n"
     ]
    },
    {
     "name": "stdout",
     "output_type": "stream",
     "text": [
      "1/1 [==============================] - 0s 151ms/step\n"
     ]
    },
    {
     "name": "stderr",
     "output_type": "stream",
     "text": [
      "getfattr: /home/jupyter/data/model_data/mini_data_set/time_20230816_150000.nc: Operation not supported\n",
      "getfattr: /home/jupyter/data/model_data/mini_data_set/time_20230807_130000.nc: Operation not supported\n",
      "getfattr: /home/jupyter/data/model_data/mini_data_set/time_20230815_170000.nc: Operation not supported\n",
      "getfattr: /home/jupyter/data/model_data/mini_data_set/time_20230811_110000.nc: Operation not supported\n"
     ]
    },
    {
     "name": "stdout",
     "output_type": "stream",
     "text": [
      "1/1 [==============================] - 0s 149ms/step\n"
     ]
    },
    {
     "name": "stderr",
     "output_type": "stream",
     "text": [
      "getfattr: /home/jupyter/data/model_data/mini_data_set/time_20230809_140000.nc: Operation not supported\n",
      "getfattr: /home/jupyter/data/model_data/mini_data_set/time_20230809_080000.nc: Operation not supported\n",
      "getfattr: /home/jupyter/data/model_data/mini_data_set/time_20230811_180000.nc: Operation not supported\n",
      "getfattr: /home/jupyter/data/model_data/mini_data_set/time_20230812_070000.nc: Operation not supported\n"
     ]
    },
    {
     "name": "stdout",
     "output_type": "stream",
     "text": [
      "1/1 [==============================] - 0s 151ms/step\n"
     ]
    },
    {
     "name": "stderr",
     "output_type": "stream",
     "text": [
      "getfattr: /home/jupyter/data/model_data/mini_data_set/time_20230815_180000.nc: Operation not supported\n",
      "getfattr: /home/jupyter/data/model_data/mini_data_set/time_20230807_150000.nc: Operation not supported\n",
      "getfattr: /home/jupyter/data/model_data/mini_data_set/time_20230804_100000.nc: Operation not supported\n",
      "getfattr: /home/jupyter/data/model_data/mini_data_set/time_20230807_170000.nc: Operation not supported\n"
     ]
    },
    {
     "name": "stdout",
     "output_type": "stream",
     "text": [
      "1/1 [==============================] - 0s 150ms/step\n"
     ]
    },
    {
     "name": "stderr",
     "output_type": "stream",
     "text": [
      "getfattr: /home/jupyter/data/model_data/mini_data_set/time_20230812_150000.nc: Operation not supported\n",
      "getfattr: /home/jupyter/data/model_data/mini_data_set/time_20230802_150000.nc: Operation not supported\n",
      "getfattr: /home/jupyter/data/model_data/mini_data_set/time_20230812_140000.nc: Operation not supported\n",
      "getfattr: /home/jupyter/data/model_data/mini_data_set/time_20230809_160000.nc: Operation not supported\n"
     ]
    },
    {
     "name": "stdout",
     "output_type": "stream",
     "text": [
      "1/1 [==============================] - 0s 151ms/step\n"
     ]
    },
    {
     "name": "stderr",
     "output_type": "stream",
     "text": [
      "getfattr: /home/jupyter/data/model_data/mini_data_set/time_20230802_130000.nc: Operation not supported\n",
      "getfattr: /home/jupyter/data/model_data/mini_data_set/time_20230808_140000.nc: Operation not supported\n",
      "getfattr: /home/jupyter/data/model_data/mini_data_set/time_20230809_090000.nc: Operation not supported\n",
      "getfattr: /home/jupyter/data/model_data/mini_data_set/time_20230806_110000.nc: Operation not supported\n"
     ]
    },
    {
     "name": "stdout",
     "output_type": "stream",
     "text": [
      "1/1 [==============================] - 0s 157ms/step\n"
     ]
    },
    {
     "name": "stderr",
     "output_type": "stream",
     "text": [
      "getfattr: /home/jupyter/data/model_data/mini_data_set/time_20230807_090000.nc: Operation not supported\n",
      "getfattr: /home/jupyter/data/model_data/mini_data_set/time_20230805_100000.nc: Operation not supported\n",
      "getfattr: /home/jupyter/data/model_data/mini_data_set/time_20230816_100000.nc: Operation not supported\n",
      "getfattr: /home/jupyter/data/model_data/mini_data_set/time_20230812_080000.nc: Operation not supported\n"
     ]
    },
    {
     "name": "stdout",
     "output_type": "stream",
     "text": [
      "1/1 [==============================] - 0s 150ms/step\n"
     ]
    },
    {
     "name": "stderr",
     "output_type": "stream",
     "text": [
      "getfattr: /home/jupyter/data/model_data/mini_data_set/time_20230812_180000.nc: Operation not supported\n",
      "getfattr: /home/jupyter/data/model_data/mini_data_set/time_20230812_130000.nc: Operation not supported\n",
      "getfattr: /home/jupyter/data/model_data/mini_data_set/time_20230802_110000.nc: Operation not supported\n",
      "getfattr: /home/jupyter/data/model_data/mini_data_set/time_20230809_100000.nc: Operation not supported\n"
     ]
    },
    {
     "name": "stdout",
     "output_type": "stream",
     "text": [
      "1/1 [==============================] - 0s 148ms/step\n"
     ]
    },
    {
     "name": "stderr",
     "output_type": "stream",
     "text": [
      "getfattr: /home/jupyter/data/model_data/mini_data_set/time_20230802_140000.nc: Operation not supported\n",
      "getfattr: /home/jupyter/data/model_data/mini_data_set/time_20230808_150000.nc: Operation not supported\n",
      "getfattr: /home/jupyter/data/model_data/mini_data_set/time_20230811_150000.nc: Operation not supported\n",
      "getfattr: /home/jupyter/data/model_data/mini_data_set/time_20230809_180000.nc: Operation not supported\n"
     ]
    },
    {
     "name": "stdout",
     "output_type": "stream",
     "text": [
      "1/1 [==============================] - 0s 150ms/step\n"
     ]
    },
    {
     "name": "stderr",
     "output_type": "stream",
     "text": [
      "getfattr: /home/jupyter/data/model_data/mini_data_set/time_20230806_120000.nc: Operation not supported\n",
      "getfattr: /home/jupyter/data/model_data/mini_data_set/time_20230804_080000.nc: Operation not supported\n",
      "getfattr: /home/jupyter/data/model_data/mini_data_set/time_20230807_140000.nc: Operation not supported\n",
      "getfattr: /home/jupyter/data/model_data/mini_data_set/time_20230804_160000.nc: Operation not supported\n"
     ]
    },
    {
     "name": "stdout",
     "output_type": "stream",
     "text": [
      "1/1 [==============================] - 0s 150ms/step\n"
     ]
    },
    {
     "name": "stderr",
     "output_type": "stream",
     "text": [
      "getfattr: /home/jupyter/data/model_data/mini_data_set/time_20230807_070000.nc: Operation not supported\n",
      "getfattr: /home/jupyter/data/model_data/mini_data_set/time_20230804_090000.nc: Operation not supported\n",
      "getfattr: /home/jupyter/data/model_data/mini_data_set/time_20230811_140000.nc: Operation not supported\n",
      "getfattr: /home/jupyter/data/model_data/mini_data_set/time_20230807_180000.nc: Operation not supported\n"
     ]
    },
    {
     "name": "stdout",
     "output_type": "stream",
     "text": [
      "1/1 [==============================] - 0s 154ms/step\n"
     ]
    },
    {
     "name": "stderr",
     "output_type": "stream",
     "text": [
      "getfattr: /home/jupyter/data/model_data/mini_data_set/time_20230805_070000.nc: Operation not supported\n",
      "getfattr: /home/jupyter/data/model_data/mini_data_set/time_20230804_180000.nc: Operation not supported\n",
      "getfattr: /home/jupyter/data/model_data/mini_data_set/time_20230805_090000.nc: Operation not supported\n",
      "getfattr: /home/jupyter/data/model_data/mini_data_set/time_20230811_100000.nc: Operation not supported\n"
     ]
    },
    {
     "name": "stdout",
     "output_type": "stream",
     "text": [
      "1/1 [==============================] - 0s 149ms/step\n"
     ]
    },
    {
     "name": "stderr",
     "output_type": "stream",
     "text": [
      "getfattr: /home/jupyter/data/model_data/mini_data_set/time_20230811_130000.nc: Operation not supported\n",
      "getfattr: /home/jupyter/data/model_data/mini_data_set/time_20230805_120000.nc: Operation not supported\n",
      "getfattr: /home/jupyter/data/model_data/mini_data_set/time_20230809_110000.nc: Operation not supported\n",
      "getfattr: /home/jupyter/data/model_data/mini_data_set/time_20230805_180000.nc: Operation not supported\n"
     ]
    },
    {
     "name": "stdout",
     "output_type": "stream",
     "text": [
      "1/1 [==============================] - 0s 152ms/step\n"
     ]
    },
    {
     "name": "stderr",
     "output_type": "stream",
     "text": [
      "getfattr: /home/jupyter/data/model_data/mini_data_set/time_20230809_150000.nc: Operation not supported\n",
      "getfattr: /home/jupyter/data/model_data/mini_data_set/time_20230816_140000.nc: Operation not supported\n",
      "getfattr: /home/jupyter/data/model_data/mini_data_set/time_20230802_120000.nc: Operation not supported\n",
      "getfattr: /home/jupyter/data/model_data/mini_data_set/time_20230806_160000.nc: Operation not supported\n"
     ]
    },
    {
     "name": "stdout",
     "output_type": "stream",
     "text": [
      "1/1 [==============================] - 0s 151ms/step\n"
     ]
    },
    {
     "name": "stderr",
     "output_type": "stream",
     "text": [
      "getfattr: /home/jupyter/data/model_data/mini_data_set/time_20230805_170000.nc: Operation not supported\n",
      "getfattr: /home/jupyter/data/model_data/mini_data_set/time_20230804_150000.nc: Operation not supported\n",
      "getfattr: /home/jupyter/data/model_data/mini_data_set/time_20230804_120000.nc: Operation not supported\n",
      "getfattr: /home/jupyter/data/model_data/mini_data_set/time_20230816_110000.nc: Operation not supported\n"
     ]
    },
    {
     "name": "stdout",
     "output_type": "stream",
     "text": [
      "1/1 [==============================] - 0s 150ms/step\n"
     ]
    },
    {
     "name": "stderr",
     "output_type": "stream",
     "text": [
      "getfattr: /home/jupyter/data/model_data/mini_data_set/time_20230806_180000.nc: Operation not supported\n",
      "getfattr: /home/jupyter/data/model_data/mini_data_set/time_20230805_140000.nc: Operation not supported\n",
      "getfattr: /home/jupyter/data/model_data/mini_data_set/time_20230811_160000.nc: Operation not supported\n",
      "getfattr: /home/jupyter/data/model_data/mini_data_set/time_20230807_100000.nc: Operation not supported\n"
     ]
    },
    {
     "name": "stdout",
     "output_type": "stream",
     "text": [
      "1/1 [==============================] - 0s 151ms/step\n"
     ]
    },
    {
     "name": "stderr",
     "output_type": "stream",
     "text": [
      "getfattr: /home/jupyter/data/model_data/mini_data_set/time_20230804_140000.nc: Operation not supported\n",
      "getfattr: /home/jupyter/data/model_data/mini_data_set/time_20230809_170000.nc: Operation not supported\n",
      "getfattr: /home/jupyter/data/model_data/mini_data_set/time_20230816_080000.nc: Operation not supported\n",
      "getfattr: /home/jupyter/data/model_data/mini_data_set/time_20230816_040000.nc: Operation not supported\n"
     ]
    },
    {
     "name": "stdout",
     "output_type": "stream",
     "text": [
      "1/1 [==============================] - 0s 150ms/step\n"
     ]
    },
    {
     "name": "stderr",
     "output_type": "stream",
     "text": [
      "getfattr: /home/jupyter/data/model_data/mini_data_set/time_20230815_150000.nc: Operation not supported\n",
      "getfattr: /home/jupyter/data/model_data/mini_data_set/time_20230805_110000.nc: Operation not supported\n",
      "getfattr: /home/jupyter/data/model_data/mini_data_set/time_20230807_080000.nc: Operation not supported\n",
      "getfattr: /home/jupyter/data/model_data/mini_data_set/time_20230812_170000.nc: Operation not supported\n"
     ]
    },
    {
     "name": "stdout",
     "output_type": "stream",
     "text": [
      "1/1 [==============================] - 0s 151ms/step\n"
     ]
    },
    {
     "name": "stderr",
     "output_type": "stream",
     "text": [
      "getfattr: /home/jupyter/data/model_data/mini_data_set/time_20230816_070000.nc: Operation not supported\n",
      "getfattr: /home/jupyter/data/model_data/mini_data_set/time_20230815_160000.nc: Operation not supported\n",
      "getfattr: /home/jupyter/data/model_data/mini_data_set/time_20230806_090000.nc: Operation not supported\n",
      "getfattr: /home/jupyter/data/model_data/mini_data_set/time_20230805_150000.nc: Operation not supported\n"
     ]
    },
    {
     "name": "stdout",
     "output_type": "stream",
     "text": [
      "1/1 [==============================] - 0s 150ms/step\n",
      "Running CV group 5/5\n"
     ]
    },
    {
     "name": "stderr",
     "output_type": "stream",
     "text": [
      "getfattr: /home/jupyter/data/model_data/mini_data_set/time_20230807_160000.nc: Operation not supported\n",
      "getfattr: /home/jupyter/data/model_data/mini_data_set/time_20230804_130000.nc: Operation not supported\n",
      "getfattr: /home/jupyter/data/model_data/mini_data_set/time_20230809_070000.nc: Operation not supported\n",
      "getfattr: /home/jupyter/data/model_data/mini_data_set/time_20230805_160000.nc: Operation not supported\n"
     ]
    },
    {
     "name": "stdout",
     "output_type": "stream",
     "text": [
      "Epoch 1/4\n"
     ]
    },
    {
     "name": "stderr",
     "output_type": "stream",
     "text": [
      "getfattr: /home/jupyter/data/model_data/mini_data_set/time_20230807_160000.nc: Operation not supported\n",
      "getfattr: /home/jupyter/data/model_data/mini_data_set/time_20230804_130000.nc: Operation not supported\n",
      "getfattr: /home/jupyter/data/model_data/mini_data_set/time_20230809_070000.nc: Operation not supported\n",
      "getfattr: /home/jupyter/data/model_data/mini_data_set/time_20230805_160000.nc: Operation not supported\n",
      "getfattr: /home/jupyter/data/model_data/mini_data_set/time_20230816_070000.nc: Operation not supported\n",
      "getfattr: /home/jupyter/data/model_data/mini_data_set/time_20230815_160000.nc: Operation not supported\n",
      "getfattr: /home/jupyter/data/model_data/mini_data_set/time_20230806_090000.nc: Operation not supported\n",
      "getfattr: /home/jupyter/data/model_data/mini_data_set/time_20230805_150000.nc: Operation not supported\n"
     ]
    },
    {
     "name": "stdout",
     "output_type": "stream",
     "text": [
      " 1/25 [>.............................] - ETA: 1:01 - loss: 8.5820"
     ]
    },
    {
     "name": "stderr",
     "output_type": "stream",
     "text": [
      "getfattr: /home/jupyter/data/model_data/mini_data_set/time_20230812_150000.nc: Operation not supported\n",
      "getfattr: /home/jupyter/data/model_data/mini_data_set/time_20230802_150000.nc: Operation not supported\n",
      "getfattr: /home/jupyter/data/model_data/mini_data_set/time_20230812_140000.nc: Operation not supported\n",
      "getfattr: /home/jupyter/data/model_data/mini_data_set/time_20230809_160000.nc: Operation not supported\n"
     ]
    },
    {
     "name": "stdout",
     "output_type": "stream",
     "text": [
      " 2/25 [=>............................] - ETA: 14s - loss: 16.3813"
     ]
    },
    {
     "name": "stderr",
     "output_type": "stream",
     "text": [
      "getfattr: /home/jupyter/data/model_data/mini_data_set/time_20230815_150000.nc: Operation not supported\n",
      "getfattr: /home/jupyter/data/model_data/mini_data_set/time_20230805_110000.nc: Operation not supported\n",
      "getfattr: /home/jupyter/data/model_data/mini_data_set/time_20230807_080000.nc: Operation not supported\n",
      "getfattr: /home/jupyter/data/model_data/mini_data_set/time_20230812_170000.nc: Operation not supported\n"
     ]
    },
    {
     "name": "stdout",
     "output_type": "stream",
     "text": [
      " 3/25 [==>...........................] - ETA: 15s - loss: 17.3755"
     ]
    },
    {
     "name": "stderr",
     "output_type": "stream",
     "text": [
      "getfattr: /home/jupyter/data/model_data/mini_data_set/time_20230802_140000.nc: Operation not supported\n",
      "getfattr: /home/jupyter/data/model_data/mini_data_set/time_20230808_150000.nc: Operation not supported\n",
      "getfattr: /home/jupyter/data/model_data/mini_data_set/time_20230811_150000.nc: Operation not supported\n",
      "getfattr: /home/jupyter/data/model_data/mini_data_set/time_20230809_180000.nc: Operation not supported\n"
     ]
    },
    {
     "name": "stdout",
     "output_type": "stream",
     "text": [
      " 4/25 [===>..........................] - ETA: 15s - loss: 15.3042"
     ]
    },
    {
     "name": "stderr",
     "output_type": "stream",
     "text": [
      "getfattr: /home/jupyter/data/model_data/mini_data_set/time_20230805_070000.nc: Operation not supported\n",
      "getfattr: /home/jupyter/data/model_data/mini_data_set/time_20230804_180000.nc: Operation not supported\n",
      "getfattr: /home/jupyter/data/model_data/mini_data_set/time_20230805_090000.nc: Operation not supported\n",
      "getfattr: /home/jupyter/data/model_data/mini_data_set/time_20230811_100000.nc: Operation not supported\n"
     ]
    },
    {
     "name": "stdout",
     "output_type": "stream",
     "text": [
      " 5/25 [=====>........................] - ETA: 15s - loss: 13.3603"
     ]
    },
    {
     "name": "stderr",
     "output_type": "stream",
     "text": [
      "getfattr: /home/jupyter/data/model_data/mini_data_set/time_20230809_130000.nc: Operation not supported\n",
      "getfattr: /home/jupyter/data/model_data/mini_data_set/time_20230806_100000.nc: Operation not supported\n",
      "getfattr: /home/jupyter/data/model_data/mini_data_set/time_20230815_120000.nc: Operation not supported\n",
      "getfattr: /home/jupyter/data/model_data/mini_data_set/time_20230804_070000.nc: Operation not supported\n"
     ]
    },
    {
     "name": "stdout",
     "output_type": "stream",
     "text": [
      " 6/25 [======>.......................] - ETA: 14s - loss: 11.9948"
     ]
    },
    {
     "name": "stderr",
     "output_type": "stream",
     "text": [
      "getfattr: /home/jupyter/data/model_data/mini_data_set/time_20230811_130000.nc: Operation not supported\n",
      "getfattr: /home/jupyter/data/model_data/mini_data_set/time_20230805_120000.nc: Operation not supported\n",
      "getfattr: /home/jupyter/data/model_data/mini_data_set/time_20230809_110000.nc: Operation not supported\n",
      "getfattr: /home/jupyter/data/model_data/mini_data_set/time_20230805_180000.nc: Operation not supported\n"
     ]
    },
    {
     "name": "stdout",
     "output_type": "stream",
     "text": [
      " 7/25 [=======>......................] - ETA: 14s - loss: 12.0591"
     ]
    },
    {
     "name": "stderr",
     "output_type": "stream",
     "text": [
      "getfattr: /home/jupyter/data/model_data/mini_data_set/time_20230809_150000.nc: Operation not supported\n",
      "getfattr: /home/jupyter/data/model_data/mini_data_set/time_20230816_140000.nc: Operation not supported\n",
      "getfattr: /home/jupyter/data/model_data/mini_data_set/time_20230802_120000.nc: Operation not supported\n",
      "getfattr: /home/jupyter/data/model_data/mini_data_set/time_20230806_160000.nc: Operation not supported\n"
     ]
    },
    {
     "name": "stdout",
     "output_type": "stream",
     "text": [
      " 8/25 [========>.....................] - ETA: 13s - loss: 10.9900"
     ]
    },
    {
     "name": "stderr",
     "output_type": "stream",
     "text": [
      "getfattr: /home/jupyter/data/model_data/mini_data_set/time_20230806_120000.nc: Operation not supported\n",
      "getfattr: /home/jupyter/data/model_data/mini_data_set/time_20230804_080000.nc: Operation not supported\n",
      "getfattr: /home/jupyter/data/model_data/mini_data_set/time_20230807_140000.nc: Operation not supported\n",
      "getfattr: /home/jupyter/data/model_data/mini_data_set/time_20230804_160000.nc: Operation not supported\n"
     ]
    },
    {
     "name": "stdout",
     "output_type": "stream",
     "text": [
      " 9/25 [=========>....................] - ETA: 12s - loss: 10.8451"
     ]
    },
    {
     "name": "stderr",
     "output_type": "stream",
     "text": [
      "getfattr: /home/jupyter/data/model_data/mini_data_set/time_20230809_140000.nc: Operation not supported\n",
      "getfattr: /home/jupyter/data/model_data/mini_data_set/time_20230809_080000.nc: Operation not supported\n",
      "getfattr: /home/jupyter/data/model_data/mini_data_set/time_20230811_180000.nc: Operation not supported\n",
      "getfattr: /home/jupyter/data/model_data/mini_data_set/time_20230812_070000.nc: Operation not supported\n"
     ]
    },
    {
     "name": "stdout",
     "output_type": "stream",
     "text": [
      "10/25 [===========>..................] - ETA: 11s - loss: 10.2787"
     ]
    },
    {
     "name": "stderr",
     "output_type": "stream",
     "text": [
      "getfattr: /home/jupyter/data/model_data/mini_data_set/time_20230802_130000.nc: Operation not supported\n",
      "getfattr: /home/jupyter/data/model_data/mini_data_set/time_20230808_140000.nc: Operation not supported\n",
      "getfattr: /home/jupyter/data/model_data/mini_data_set/time_20230809_090000.nc: Operation not supported\n",
      "getfattr: /home/jupyter/data/model_data/mini_data_set/time_20230806_110000.nc: Operation not supported\n"
     ]
    },
    {
     "name": "stdout",
     "output_type": "stream",
     "text": [
      "11/25 [============>.................] - ETA: 11s - loss: 9.6811 "
     ]
    },
    {
     "name": "stderr",
     "output_type": "stream",
     "text": [
      "getfattr: /home/jupyter/data/model_data/mini_data_set/time_20230815_180000.nc: Operation not supported\n",
      "getfattr: /home/jupyter/data/model_data/mini_data_set/time_20230807_150000.nc: Operation not supported\n",
      "getfattr: /home/jupyter/data/model_data/mini_data_set/time_20230804_100000.nc: Operation not supported\n",
      "getfattr: /home/jupyter/data/model_data/mini_data_set/time_20230807_170000.nc: Operation not supported\n"
     ]
    },
    {
     "name": "stdout",
     "output_type": "stream",
     "text": [
      "12/25 [=============>................] - ETA: 10s - loss: 9.2853"
     ]
    },
    {
     "name": "stderr",
     "output_type": "stream",
     "text": [
      "getfattr: /home/jupyter/data/model_data/mini_data_set/time_20230804_140000.nc: Operation not supported\n",
      "getfattr: /home/jupyter/data/model_data/mini_data_set/time_20230809_170000.nc: Operation not supported\n"
     ]
    },
    {
     "name": "stdout",
     "output_type": "stream",
     "text": [
      "13/25 [==============>...............] - ETA: 9s - loss: 9.5955 "
     ]
    },
    {
     "name": "stderr",
     "output_type": "stream",
     "text": [
      "getfattr: /home/jupyter/data/model_data/mini_data_set/time_20230816_080000.nc: Operation not supported\n",
      "getfattr: /home/jupyter/data/model_data/mini_data_set/time_20230816_040000.nc: Operation not supported\n",
      "getfattr: /home/jupyter/data/model_data/mini_data_set/time_20230807_070000.nc: Operation not supported\n",
      "getfattr: /home/jupyter/data/model_data/mini_data_set/time_20230804_090000.nc: Operation not supported\n",
      "getfattr: /home/jupyter/data/model_data/mini_data_set/time_20230811_140000.nc: Operation not supported\n",
      "getfattr: /home/jupyter/data/model_data/mini_data_set/time_20230807_180000.nc: Operation not supported\n"
     ]
    },
    {
     "name": "stdout",
     "output_type": "stream",
     "text": [
      "14/25 [===============>..............] - ETA: 8s - loss: 9.6798"
     ]
    },
    {
     "name": "stderr",
     "output_type": "stream",
     "text": [
      "getfattr: /home/jupyter/data/model_data/mini_data_set/time_20230811_090000.nc: Operation not supported\n",
      "getfattr: /home/jupyter/data/model_data/mini_data_set/time_20230806_150000.nc: Operation not supported\n",
      "getfattr: /home/jupyter/data/model_data/mini_data_set/time_20230802_100000.nc: Operation not supported\n",
      "getfattr: /home/jupyter/data/model_data/mini_data_set/time_20230812_120000.nc: Operation not supported\n"
     ]
    },
    {
     "name": "stdout",
     "output_type": "stream",
     "text": [
      "15/25 [=================>............] - ETA: 8s - loss: 9.4267"
     ]
    },
    {
     "name": "stderr",
     "output_type": "stream",
     "text": [
      "getfattr: /home/jupyter/data/model_data/mini_data_set/time_20230806_140000.nc: Operation not supported\n",
      "getfattr: /home/jupyter/data/model_data/mini_data_set/time_20230811_080000.nc: Operation not supported\n",
      "getfattr: /home/jupyter/data/model_data/mini_data_set/time_20230816_090000.nc: Operation not supported\n",
      "getfattr: /home/jupyter/data/model_data/mini_data_set/time_20230808_160000.nc: Operation not supported\n"
     ]
    },
    {
     "name": "stdout",
     "output_type": "stream",
     "text": [
      "16/25 [==================>...........] - ETA: 7s - loss: 9.2635"
     ]
    },
    {
     "name": "stderr",
     "output_type": "stream",
     "text": [
      "getfattr: /home/jupyter/data/model_data/mini_data_set/time_20230812_180000.nc: Operation not supported\n",
      "getfattr: /home/jupyter/data/model_data/mini_data_set/time_20230812_130000.nc: Operation not supported\n",
      "getfattr: /home/jupyter/data/model_data/mini_data_set/time_20230802_110000.nc: Operation not supported\n",
      "getfattr: /home/jupyter/data/model_data/mini_data_set/time_20230809_100000.nc: Operation not supported\n"
     ]
    },
    {
     "name": "stdout",
     "output_type": "stream",
     "text": [
      "17/25 [===================>..........] - ETA: 6s - loss: 9.0856"
     ]
    },
    {
     "name": "stderr",
     "output_type": "stream",
     "text": [
      "getfattr: /home/jupyter/data/model_data/mini_data_set/time_20230808_170000.nc: Operation not supported\n",
      "getfattr: /home/jupyter/data/model_data/mini_data_set/time_20230811_170000.nc: Operation not supported\n",
      "getfattr: /home/jupyter/data/model_data/mini_data_set/time_20230806_080000.nc: Operation not supported\n",
      "getfattr: /home/jupyter/data/model_data/mini_data_set/time_20230806_170000.nc: Operation not supported\n"
     ]
    },
    {
     "name": "stdout",
     "output_type": "stream",
     "text": [
      "18/25 [====================>.........] - ETA: 5s - loss: 8.9544"
     ]
    },
    {
     "name": "stderr",
     "output_type": "stream",
     "text": [
      "getfattr: /home/jupyter/data/model_data/mini_data_set/time_20230808_180000.nc: Operation not supported\n",
      "getfattr: /home/jupyter/data/model_data/mini_data_set/time_20230816_160000.nc: Operation not supported\n",
      "getfattr: /home/jupyter/data/model_data/mini_data_set/time_20230812_160000.nc: Operation not supported\n",
      "getfattr: /home/jupyter/data/model_data/mini_data_set/time_20230806_070000.nc: Operation not supported\n"
     ]
    },
    {
     "name": "stdout",
     "output_type": "stream",
     "text": [
      "19/25 [=====================>........] - ETA: 4s - loss: 8.6686"
     ]
    },
    {
     "name": "stderr",
     "output_type": "stream",
     "text": [
      "getfattr: /home/jupyter/data/model_data/mini_data_set/time_20230804_170000.nc: Operation not supported\n",
      "getfattr: /home/jupyter/data/model_data/mini_data_set/time_20230811_070000.nc: Operation not supported\n",
      "getfattr: /home/jupyter/data/model_data/mini_data_set/time_20230805_080000.nc: Operation not supported\n",
      "getfattr: /home/jupyter/data/model_data/mini_data_set/time_20230807_110000.nc: Operation not supported\n"
     ]
    },
    {
     "name": "stdout",
     "output_type": "stream",
     "text": [
      "20/25 [=======================>......] - ETA: 4s - loss: 8.4490"
     ]
    },
    {
     "name": "stderr",
     "output_type": "stream",
     "text": [
      "getfattr: /home/jupyter/data/model_data/mini_data_set/time_20230805_170000.nc: Operation not supported\n",
      "getfattr: /home/jupyter/data/model_data/mini_data_set/time_20230804_150000.nc: Operation not supported\n",
      "getfattr: /home/jupyter/data/model_data/mini_data_set/time_20230804_120000.nc: Operation not supported\n",
      "getfattr: /home/jupyter/data/model_data/mini_data_set/time_20230816_110000.nc: Operation not supported\n"
     ]
    },
    {
     "name": "stdout",
     "output_type": "stream",
     "text": [
      "21/25 [========================>.....] - ETA: 3s - loss: 8.2490"
     ]
    },
    {
     "name": "stderr",
     "output_type": "stream",
     "text": [
      "getfattr: /home/jupyter/data/model_data/mini_data_set/time_20230816_150000.nc: Operation not supported\n",
      "getfattr: /home/jupyter/data/model_data/mini_data_set/time_20230807_130000.nc: Operation not supported\n",
      "getfattr: /home/jupyter/data/model_data/mini_data_set/time_20230815_170000.nc: Operation not supported\n",
      "getfattr: /home/jupyter/data/model_data/mini_data_set/time_20230811_110000.nc: Operation not supported\n"
     ]
    },
    {
     "name": "stdout",
     "output_type": "stream",
     "text": [
      "22/25 [=========================>....] - ETA: 2s - loss: 8.2313"
     ]
    },
    {
     "name": "stderr",
     "output_type": "stream",
     "text": [
      "getfattr: /home/jupyter/data/model_data/mini_data_set/time_20230807_090000.nc: Operation not supported\n",
      "getfattr: /home/jupyter/data/model_data/mini_data_set/time_20230805_100000.nc: Operation not supported\n",
      "getfattr: /home/jupyter/data/model_data/mini_data_set/time_20230816_100000.nc: Operation not supported\n"
     ]
    },
    {
     "name": "stdout",
     "output_type": "stream",
     "text": [
      "23/25 [==========================>...] - ETA: 1s - loss: 8.4171"
     ]
    },
    {
     "name": "stderr",
     "output_type": "stream",
     "text": [
      "getfattr: /home/jupyter/data/model_data/mini_data_set/time_20230812_080000.nc: Operation not supported\n",
      "getfattr: /home/jupyter/data/model_data/mini_data_set/time_20230806_180000.nc: Operation not supported\n",
      "getfattr: /home/jupyter/data/model_data/mini_data_set/time_20230805_140000.nc: Operation not supported\n",
      "getfattr: /home/jupyter/data/model_data/mini_data_set/time_20230811_160000.nc: Operation not supported\n",
      "getfattr: /home/jupyter/data/model_data/mini_data_set/time_20230807_100000.nc: Operation not supported\n"
     ]
    },
    {
     "name": "stdout",
     "output_type": "stream",
     "text": [
      "25/25 [==============================] - ETA: 0s - loss: 8.0301"
     ]
    },
    {
     "name": "stderr",
     "output_type": "stream",
     "text": [
      "getfattr: /home/jupyter/data/model_data/mini_data_set/time_20230807_160000.nc: Operation not supported\n",
      "getfattr: /home/jupyter/data/model_data/mini_data_set/time_20230804_130000.nc: Operation not supported\n",
      "getfattr: /home/jupyter/data/model_data/mini_data_set/time_20230809_070000.nc: Operation not supported\n",
      "getfattr: /home/jupyter/data/model_data/mini_data_set/time_20230805_160000.nc: Operation not supported\n",
      "getfattr: /home/jupyter/data/model_data/mini_data_set/time_20230807_160000.nc: Operation not supported\n",
      "getfattr: /home/jupyter/data/model_data/mini_data_set/time_20230804_130000.nc: Operation not supported\n",
      "getfattr: /home/jupyter/data/model_data/mini_data_set/time_20230809_070000.nc: Operation not supported\n",
      "getfattr: /home/jupyter/data/model_data/mini_data_set/time_20230805_160000.nc: Operation not supported\n",
      "getfattr: /home/jupyter/data/model_data/mini_data_set/time_20230811_090000.nc: Operation not supported\n",
      "getfattr: /home/jupyter/data/model_data/mini_data_set/time_20230806_150000.nc: Operation not supported\n",
      "getfattr: /home/jupyter/data/model_data/mini_data_set/time_20230802_100000.nc: Operation not supported\n",
      "getfattr: /home/jupyter/data/model_data/mini_data_set/time_20230812_120000.nc: Operation not supported\n",
      "getfattr: /home/jupyter/data/model_data/mini_data_set/time_20230808_170000.nc: Operation not supported\n",
      "getfattr: /home/jupyter/data/model_data/mini_data_set/time_20230811_170000.nc: Operation not supported\n",
      "getfattr: /home/jupyter/data/model_data/mini_data_set/time_20230806_080000.nc: Operation not supported\n",
      "getfattr: /home/jupyter/data/model_data/mini_data_set/time_20230806_170000.nc: Operation not supported\n",
      "getfattr: /home/jupyter/data/model_data/mini_data_set/time_20230809_130000.nc: Operation not supported\n",
      "getfattr: /home/jupyter/data/model_data/mini_data_set/time_20230806_100000.nc: Operation not supported\n",
      "getfattr: /home/jupyter/data/model_data/mini_data_set/time_20230815_120000.nc: Operation not supported\n",
      "getfattr: /home/jupyter/data/model_data/mini_data_set/time_20230804_070000.nc: Operation not supported\n",
      "getfattr: /home/jupyter/data/model_data/mini_data_set/time_20230808_180000.nc: Operation not supported\n",
      "getfattr: /home/jupyter/data/model_data/mini_data_set/time_20230816_160000.nc: Operation not supported\n",
      "getfattr: /home/jupyter/data/model_data/mini_data_set/time_20230812_160000.nc: Operation not supported\n",
      "getfattr: /home/jupyter/data/model_data/mini_data_set/time_20230806_070000.nc: Operation not supported\n",
      "getfattr: /home/jupyter/data/model_data/mini_data_set/time_20230804_170000.nc: Operation not supported\n",
      "getfattr: /home/jupyter/data/model_data/mini_data_set/time_20230811_070000.nc: Operation not supported\n",
      "getfattr: /home/jupyter/data/model_data/mini_data_set/time_20230805_080000.nc: Operation not supported\n",
      "getfattr: /home/jupyter/data/model_data/mini_data_set/time_20230807_110000.nc: Operation not supported\n",
      "getfattr: /home/jupyter/data/model_data/mini_data_set/time_20230806_140000.nc: Operation not supported\n",
      "getfattr: /home/jupyter/data/model_data/mini_data_set/time_20230811_080000.nc: Operation not supported\n",
      "getfattr: /home/jupyter/data/model_data/mini_data_set/time_20230816_090000.nc: Operation not supported\n",
      "getfattr: /home/jupyter/data/model_data/mini_data_set/time_20230808_160000.nc: Operation not supported\n",
      "getfattr: /home/jupyter/data/model_data/mini_data_set/time_20230816_150000.nc: Operation not supported\n",
      "getfattr: /home/jupyter/data/model_data/mini_data_set/time_20230807_130000.nc: Operation not supported\n",
      "getfattr: /home/jupyter/data/model_data/mini_data_set/time_20230815_170000.nc: Operation not supported\n",
      "getfattr: /home/jupyter/data/model_data/mini_data_set/time_20230811_110000.nc: Operation not supported\n",
      "getfattr: /home/jupyter/data/model_data/mini_data_set/time_20230809_140000.nc: Operation not supported\n",
      "getfattr: /home/jupyter/data/model_data/mini_data_set/time_20230809_080000.nc: Operation not supported\n",
      "getfattr: /home/jupyter/data/model_data/mini_data_set/time_20230811_180000.nc: Operation not supported\n",
      "getfattr: /home/jupyter/data/model_data/mini_data_set/time_20230812_070000.nc: Operation not supported\n",
      "getfattr: /home/jupyter/data/model_data/mini_data_set/time_20230815_180000.nc: Operation not supported\n",
      "getfattr: /home/jupyter/data/model_data/mini_data_set/time_20230807_150000.nc: Operation not supported\n",
      "getfattr: /home/jupyter/data/model_data/mini_data_set/time_20230804_100000.nc: Operation not supported\n",
      "getfattr: /home/jupyter/data/model_data/mini_data_set/time_20230807_170000.nc: Operation not supported\n",
      "getfattr: /home/jupyter/data/model_data/mini_data_set/time_20230812_150000.nc: Operation not supported\n",
      "getfattr: /home/jupyter/data/model_data/mini_data_set/time_20230802_150000.nc: Operation not supported\n",
      "getfattr: /home/jupyter/data/model_data/mini_data_set/time_20230812_140000.nc: Operation not supported\n",
      "getfattr: /home/jupyter/data/model_data/mini_data_set/time_20230809_160000.nc: Operation not supported\n",
      "getfattr: /home/jupyter/data/model_data/mini_data_set/time_20230802_130000.nc: Operation not supported\n",
      "getfattr: /home/jupyter/data/model_data/mini_data_set/time_20230808_140000.nc: Operation not supported\n",
      "getfattr: /home/jupyter/data/model_data/mini_data_set/time_20230809_090000.nc: Operation not supported\n",
      "getfattr: /home/jupyter/data/model_data/mini_data_set/time_20230806_110000.nc: Operation not supported\n",
      "getfattr: /home/jupyter/data/model_data/mini_data_set/time_20230807_090000.nc: Operation not supported\n",
      "getfattr: /home/jupyter/data/model_data/mini_data_set/time_20230805_100000.nc: Operation not supported\n",
      "getfattr: /home/jupyter/data/model_data/mini_data_set/time_20230816_100000.nc: Operation not supported\n",
      "getfattr: /home/jupyter/data/model_data/mini_data_set/time_20230812_080000.nc: Operation not supported\n",
      "getfattr: /home/jupyter/data/model_data/mini_data_set/time_20230812_180000.nc: Operation not supported\n",
      "getfattr: /home/jupyter/data/model_data/mini_data_set/time_20230812_130000.nc: Operation not supported\n",
      "getfattr: /home/jupyter/data/model_data/mini_data_set/time_20230802_110000.nc: Operation not supported\n",
      "getfattr: /home/jupyter/data/model_data/mini_data_set/time_20230809_100000.nc: Operation not supported\n",
      "getfattr: /home/jupyter/data/model_data/mini_data_set/time_20230802_140000.nc: Operation not supported\n",
      "getfattr: /home/jupyter/data/model_data/mini_data_set/time_20230808_150000.nc: Operation not supported\n",
      "getfattr: /home/jupyter/data/model_data/mini_data_set/time_20230811_150000.nc: Operation not supported\n",
      "getfattr: /home/jupyter/data/model_data/mini_data_set/time_20230809_180000.nc: Operation not supported\n",
      "getfattr: /home/jupyter/data/model_data/mini_data_set/time_20230806_120000.nc: Operation not supported\n",
      "getfattr: /home/jupyter/data/model_data/mini_data_set/time_20230804_080000.nc: Operation not supported\n",
      "getfattr: /home/jupyter/data/model_data/mini_data_set/time_20230807_140000.nc: Operation not supported\n",
      "getfattr: /home/jupyter/data/model_data/mini_data_set/time_20230804_160000.nc: Operation not supported\n",
      "getfattr: /home/jupyter/data/model_data/mini_data_set/time_20230807_070000.nc: Operation not supported\n",
      "getfattr: /home/jupyter/data/model_data/mini_data_set/time_20230804_090000.nc: Operation not supported\n",
      "getfattr: /home/jupyter/data/model_data/mini_data_set/time_20230811_140000.nc: Operation not supported\n",
      "getfattr: /home/jupyter/data/model_data/mini_data_set/time_20230807_180000.nc: Operation not supported\n",
      "getfattr: /home/jupyter/data/model_data/mini_data_set/time_20230805_070000.nc: Operation not supported\n",
      "getfattr: /home/jupyter/data/model_data/mini_data_set/time_20230804_180000.nc: Operation not supported\n",
      "getfattr: /home/jupyter/data/model_data/mini_data_set/time_20230805_090000.nc: Operation not supported\n",
      "getfattr: /home/jupyter/data/model_data/mini_data_set/time_20230811_100000.nc: Operation not supported\n",
      "getfattr: /home/jupyter/data/model_data/mini_data_set/time_20230811_130000.nc: Operation not supported\n",
      "getfattr: /home/jupyter/data/model_data/mini_data_set/time_20230805_120000.nc: Operation not supported\n",
      "getfattr: /home/jupyter/data/model_data/mini_data_set/time_20230809_110000.nc: Operation not supported\n",
      "getfattr: /home/jupyter/data/model_data/mini_data_set/time_20230805_180000.nc: Operation not supported\n",
      "getfattr: /home/jupyter/data/model_data/mini_data_set/time_20230809_150000.nc: Operation not supported\n",
      "getfattr: /home/jupyter/data/model_data/mini_data_set/time_20230816_140000.nc: Operation not supported\n",
      "getfattr: /home/jupyter/data/model_data/mini_data_set/time_20230802_120000.nc: Operation not supported\n",
      "getfattr: /home/jupyter/data/model_data/mini_data_set/time_20230806_160000.nc: Operation not supported\n",
      "getfattr: /home/jupyter/data/model_data/mini_data_set/time_20230805_170000.nc: Operation not supported\n",
      "getfattr: /home/jupyter/data/model_data/mini_data_set/time_20230804_150000.nc: Operation not supported\n",
      "getfattr: /home/jupyter/data/model_data/mini_data_set/time_20230804_120000.nc: Operation not supported\n",
      "getfattr: /home/jupyter/data/model_data/mini_data_set/time_20230816_110000.nc: Operation not supported\n",
      "getfattr: /home/jupyter/data/model_data/mini_data_set/time_20230806_180000.nc: Operation not supported\n",
      "getfattr: /home/jupyter/data/model_data/mini_data_set/time_20230805_140000.nc: Operation not supported\n",
      "getfattr: /home/jupyter/data/model_data/mini_data_set/time_20230811_160000.nc: Operation not supported\n",
      "getfattr: /home/jupyter/data/model_data/mini_data_set/time_20230807_100000.nc: Operation not supported\n",
      "getfattr: /home/jupyter/data/model_data/mini_data_set/time_20230804_140000.nc: Operation not supported\n",
      "getfattr: /home/jupyter/data/model_data/mini_data_set/time_20230809_170000.nc: Operation not supported\n",
      "getfattr: /home/jupyter/data/model_data/mini_data_set/time_20230816_080000.nc: Operation not supported\n",
      "getfattr: /home/jupyter/data/model_data/mini_data_set/time_20230816_040000.nc: Operation not supported\n",
      "getfattr: /home/jupyter/data/model_data/mini_data_set/time_20230815_150000.nc: Operation not supported\n",
      "getfattr: /home/jupyter/data/model_data/mini_data_set/time_20230805_110000.nc: Operation not supported\n",
      "getfattr: /home/jupyter/data/model_data/mini_data_set/time_20230807_080000.nc: Operation not supported\n",
      "getfattr: /home/jupyter/data/model_data/mini_data_set/time_20230812_170000.nc: Operation not supported\n",
      "getfattr: /home/jupyter/data/model_data/mini_data_set/time_20230816_070000.nc: Operation not supported\n",
      "getfattr: /home/jupyter/data/model_data/mini_data_set/time_20230815_160000.nc: Operation not supported\n",
      "getfattr: /home/jupyter/data/model_data/mini_data_set/time_20230806_090000.nc: Operation not supported\n",
      "getfattr: /home/jupyter/data/model_data/mini_data_set/time_20230805_150000.nc: Operation not supported\n"
     ]
    },
    {
     "name": "stdout",
     "output_type": "stream",
     "text": [
      "25/25 [==============================] - 44s 2s/step - loss: 8.0301 - val_loss: 26.7058\n",
      "Epoch 2/4\n"
     ]
    },
    {
     "name": "stderr",
     "output_type": "stream",
     "text": [
      "getfattr: /home/jupyter/data/model_data/mini_data_set/time_20230802_130000.nc: Operation not supported\n",
      "getfattr: /home/jupyter/data/model_data/mini_data_set/time_20230808_140000.nc: Operation not supported\n",
      "getfattr: /home/jupyter/data/model_data/mini_data_set/time_20230809_090000.nc: Operation not supported\n",
      "getfattr: /home/jupyter/data/model_data/mini_data_set/time_20230806_110000.nc: Operation not supported\n",
      "getfattr: /home/jupyter/data/model_data/mini_data_set/time_20230808_170000.nc: Operation not supported\n",
      "getfattr: /home/jupyter/data/model_data/mini_data_set/time_20230811_170000.nc: Operation not supported\n",
      "getfattr: /home/jupyter/data/model_data/mini_data_set/time_20230806_080000.nc: Operation not supported\n",
      "getfattr: /home/jupyter/data/model_data/mini_data_set/time_20230806_170000.nc: Operation not supported\n"
     ]
    },
    {
     "name": "stdout",
     "output_type": "stream",
     "text": [
      " 1/25 [>.............................] - ETA: 33s - loss: 3.6285"
     ]
    },
    {
     "name": "stderr",
     "output_type": "stream",
     "text": [
      "getfattr: /home/jupyter/data/model_data/mini_data_set/time_20230804_170000.nc: Operation not supported\n",
      "getfattr: /home/jupyter/data/model_data/mini_data_set/time_20230811_070000.nc: Operation not supported\n",
      "getfattr: /home/jupyter/data/model_data/mini_data_set/time_20230805_080000.nc: Operation not supported\n",
      "getfattr: /home/jupyter/data/model_data/mini_data_set/time_20230807_110000.nc: Operation not supported\n"
     ]
    },
    {
     "name": "stdout",
     "output_type": "stream",
     "text": [
      " 2/25 [=>............................] - ETA: 17s - loss: 3.7748"
     ]
    },
    {
     "name": "stderr",
     "output_type": "stream",
     "text": [
      "getfattr: /home/jupyter/data/model_data/mini_data_set/time_20230811_130000.nc: Operation not supported\n",
      "getfattr: /home/jupyter/data/model_data/mini_data_set/time_20230805_120000.nc: Operation not supported\n",
      "getfattr: /home/jupyter/data/model_data/mini_data_set/time_20230809_110000.nc: Operation not supported\n",
      "getfattr: /home/jupyter/data/model_data/mini_data_set/time_20230805_180000.nc: Operation not supported\n"
     ]
    },
    {
     "name": "stdout",
     "output_type": "stream",
     "text": [
      " 3/25 [==>...........................] - ETA: 18s - loss: 3.7078"
     ]
    },
    {
     "name": "stderr",
     "output_type": "stream",
     "text": [
      "getfattr: /home/jupyter/data/model_data/mini_data_set/time_20230811_090000.nc: Operation not supported\n",
      "getfattr: /home/jupyter/data/model_data/mini_data_set/time_20230806_150000.nc: Operation not supported\n",
      "getfattr: /home/jupyter/data/model_data/mini_data_set/time_20230802_100000.nc: Operation not supported\n",
      "getfattr: /home/jupyter/data/model_data/mini_data_set/time_20230812_120000.nc: Operation not supported\n"
     ]
    },
    {
     "name": "stdout",
     "output_type": "stream",
     "text": [
      " 4/25 [===>..........................] - ETA: 17s - loss: 3.3999"
     ]
    },
    {
     "name": "stderr",
     "output_type": "stream",
     "text": [
      "getfattr: /home/jupyter/data/model_data/mini_data_set/time_20230812_150000.nc: Operation not supported\n",
      "getfattr: /home/jupyter/data/model_data/mini_data_set/time_20230802_150000.nc: Operation not supported\n",
      "getfattr: /home/jupyter/data/model_data/mini_data_set/time_20230812_140000.nc: Operation not supported\n",
      "getfattr: /home/jupyter/data/model_data/mini_data_set/time_20230809_160000.nc: Operation not supported\n"
     ]
    },
    {
     "name": "stdout",
     "output_type": "stream",
     "text": [
      " 5/25 [=====>........................] - ETA: 16s - loss: 3.5971"
     ]
    },
    {
     "name": "stderr",
     "output_type": "stream",
     "text": [
      "getfattr: /home/jupyter/data/model_data/mini_data_set/time_20230807_160000.nc: Operation not supported\n",
      "getfattr: /home/jupyter/data/model_data/mini_data_set/time_20230804_130000.nc: Operation not supported\n",
      "getfattr: /home/jupyter/data/model_data/mini_data_set/time_20230809_070000.nc: Operation not supported\n",
      "getfattr: /home/jupyter/data/model_data/mini_data_set/time_20230805_160000.nc: Operation not supported\n"
     ]
    },
    {
     "name": "stdout",
     "output_type": "stream",
     "text": [
      " 6/25 [======>.......................] - ETA: 16s - loss: 3.7384"
     ]
    },
    {
     "name": "stderr",
     "output_type": "stream",
     "text": [
      "getfattr: /home/jupyter/data/model_data/mini_data_set/time_20230812_180000.nc: Operation not supported\n",
      "getfattr: /home/jupyter/data/model_data/mini_data_set/time_20230812_130000.nc: Operation not supported\n",
      "getfattr: /home/jupyter/data/model_data/mini_data_set/time_20230802_110000.nc: Operation not supported\n",
      "getfattr: /home/jupyter/data/model_data/mini_data_set/time_20230809_100000.nc: Operation not supported\n"
     ]
    },
    {
     "name": "stdout",
     "output_type": "stream",
     "text": [
      " 7/25 [=======>......................] - ETA: 15s - loss: 3.6898"
     ]
    },
    {
     "name": "stderr",
     "output_type": "stream",
     "text": [
      "getfattr: /home/jupyter/data/model_data/mini_data_set/time_20230806_180000.nc: Operation not supported\n",
      "getfattr: /home/jupyter/data/model_data/mini_data_set/time_20230805_140000.nc: Operation not supported\n",
      "getfattr: /home/jupyter/data/model_data/mini_data_set/time_20230811_160000.nc: Operation not supported\n",
      "getfattr: /home/jupyter/data/model_data/mini_data_set/time_20230807_100000.nc: Operation not supported\n"
     ]
    },
    {
     "name": "stdout",
     "output_type": "stream",
     "text": [
      " 8/25 [========>.....................] - ETA: 14s - loss: 3.8150"
     ]
    },
    {
     "name": "stderr",
     "output_type": "stream",
     "text": [
      "getfattr: /home/jupyter/data/model_data/mini_data_set/time_20230806_120000.nc: Operation not supported\n",
      "getfattr: /home/jupyter/data/model_data/mini_data_set/time_20230804_080000.nc: Operation not supported\n",
      "getfattr: /home/jupyter/data/model_data/mini_data_set/time_20230807_140000.nc: Operation not supported\n",
      "getfattr: /home/jupyter/data/model_data/mini_data_set/time_20230804_160000.nc: Operation not supported\n"
     ]
    },
    {
     "name": "stdout",
     "output_type": "stream",
     "text": [
      " 9/25 [=========>....................] - ETA: 13s - loss: 3.6567"
     ]
    },
    {
     "name": "stderr",
     "output_type": "stream",
     "text": [
      "getfattr: /home/jupyter/data/model_data/mini_data_set/time_20230809_130000.nc: Operation not supported\n",
      "getfattr: /home/jupyter/data/model_data/mini_data_set/time_20230806_100000.nc: Operation not supported\n",
      "getfattr: /home/jupyter/data/model_data/mini_data_set/time_20230815_120000.nc: Operation not supported\n",
      "getfattr: /home/jupyter/data/model_data/mini_data_set/time_20230804_070000.nc: Operation not supported\n"
     ]
    },
    {
     "name": "stdout",
     "output_type": "stream",
     "text": [
      "10/25 [===========>..................] - ETA: 12s - loss: 3.6967"
     ]
    },
    {
     "name": "stderr",
     "output_type": "stream",
     "text": [
      "getfattr: /home/jupyter/data/model_data/mini_data_set/time_20230816_070000.nc: Operation not supported\n",
      "getfattr: /home/jupyter/data/model_data/mini_data_set/time_20230815_160000.nc: Operation not supported\n",
      "getfattr: /home/jupyter/data/model_data/mini_data_set/time_20230806_090000.nc: Operation not supported\n",
      "getfattr: /home/jupyter/data/model_data/mini_data_set/time_20230805_150000.nc: Operation not supported\n"
     ]
    },
    {
     "name": "stdout",
     "output_type": "stream",
     "text": [
      "11/25 [============>.................] - ETA: 11s - loss: 4.1279"
     ]
    },
    {
     "name": "stderr",
     "output_type": "stream",
     "text": [
      "getfattr: /home/jupyter/data/model_data/mini_data_set/time_20230809_140000.nc: Operation not supported\n",
      "getfattr: /home/jupyter/data/model_data/mini_data_set/time_20230809_080000.nc: Operation not supported\n",
      "getfattr: /home/jupyter/data/model_data/mini_data_set/time_20230811_180000.nc: Operation not supported\n",
      "getfattr: /home/jupyter/data/model_data/mini_data_set/time_20230812_070000.nc: Operation not supported\n"
     ]
    },
    {
     "name": "stdout",
     "output_type": "stream",
     "text": [
      "12/25 [=============>................] - ETA: 10s - loss: 4.9005"
     ]
    },
    {
     "name": "stderr",
     "output_type": "stream",
     "text": [
      "getfattr: /home/jupyter/data/model_data/mini_data_set/time_20230815_150000.nc: Operation not supported\n",
      "getfattr: /home/jupyter/data/model_data/mini_data_set/time_20230805_110000.nc: Operation not supported\n",
      "getfattr: /home/jupyter/data/model_data/mini_data_set/time_20230807_080000.nc: Operation not supported\n",
      "getfattr: /home/jupyter/data/model_data/mini_data_set/time_20230812_170000.nc: Operation not supported\n"
     ]
    },
    {
     "name": "stdout",
     "output_type": "stream",
     "text": [
      "13/25 [==============>...............] - ETA: 9s - loss: 4.7103 "
     ]
    },
    {
     "name": "stderr",
     "output_type": "stream",
     "text": [
      "getfattr: /home/jupyter/data/model_data/mini_data_set/time_20230808_180000.nc: Operation not supported\n",
      "getfattr: /home/jupyter/data/model_data/mini_data_set/time_20230816_160000.nc: Operation not supported\n",
      "getfattr: /home/jupyter/data/model_data/mini_data_set/time_20230812_160000.nc: Operation not supported\n"
     ]
    },
    {
     "name": "stdout",
     "output_type": "stream",
     "text": [
      "14/25 [===============>..............] - ETA: 8s - loss: 4.9259"
     ]
    },
    {
     "name": "stderr",
     "output_type": "stream",
     "text": [
      "getfattr: /home/jupyter/data/model_data/mini_data_set/time_20230806_070000.nc: Operation not supported\n",
      "getfattr: /home/jupyter/data/model_data/mini_data_set/time_20230809_150000.nc: Operation not supported\n",
      "getfattr: /home/jupyter/data/model_data/mini_data_set/time_20230816_140000.nc: Operation not supported\n",
      "getfattr: /home/jupyter/data/model_data/mini_data_set/time_20230802_120000.nc: Operation not supported\n",
      "getfattr: /home/jupyter/data/model_data/mini_data_set/time_20230806_160000.nc: Operation not supported\n"
     ]
    },
    {
     "name": "stdout",
     "output_type": "stream",
     "text": [
      "15/25 [=================>............] - ETA: 8s - loss: 4.8874"
     ]
    },
    {
     "name": "stderr",
     "output_type": "stream",
     "text": [
      "getfattr: /home/jupyter/data/model_data/mini_data_set/time_20230805_170000.nc: Operation not supported\n",
      "getfattr: /home/jupyter/data/model_data/mini_data_set/time_20230804_150000.nc: Operation not supported\n",
      "getfattr: /home/jupyter/data/model_data/mini_data_set/time_20230804_120000.nc: Operation not supported\n",
      "getfattr: /home/jupyter/data/model_data/mini_data_set/time_20230816_110000.nc: Operation not supported\n"
     ]
    },
    {
     "name": "stdout",
     "output_type": "stream",
     "text": [
      "16/25 [==================>...........] - ETA: 7s - loss: 4.8939"
     ]
    },
    {
     "name": "stderr",
     "output_type": "stream",
     "text": [
      "getfattr: /home/jupyter/data/model_data/mini_data_set/time_20230807_090000.nc: Operation not supported\n",
      "getfattr: /home/jupyter/data/model_data/mini_data_set/time_20230805_100000.nc: Operation not supported\n",
      "getfattr: /home/jupyter/data/model_data/mini_data_set/time_20230816_100000.nc: Operation not supported\n",
      "getfattr: /home/jupyter/data/model_data/mini_data_set/time_20230812_080000.nc: Operation not supported\n"
     ]
    },
    {
     "name": "stdout",
     "output_type": "stream",
     "text": [
      "17/25 [===================>..........] - ETA: 6s - loss: 4.9663"
     ]
    },
    {
     "name": "stderr",
     "output_type": "stream",
     "text": [
      "getfattr: /home/jupyter/data/model_data/mini_data_set/time_20230807_070000.nc: Operation not supported\n",
      "getfattr: /home/jupyter/data/model_data/mini_data_set/time_20230804_090000.nc: Operation not supported\n",
      "getfattr: /home/jupyter/data/model_data/mini_data_set/time_20230811_140000.nc: Operation not supported\n",
      "getfattr: /home/jupyter/data/model_data/mini_data_set/time_20230807_180000.nc: Operation not supported\n"
     ]
    },
    {
     "name": "stdout",
     "output_type": "stream",
     "text": [
      "18/25 [====================>.........] - ETA: 5s - loss: 4.8796"
     ]
    },
    {
     "name": "stderr",
     "output_type": "stream",
     "text": [
      "getfattr: /home/jupyter/data/model_data/mini_data_set/time_20230802_140000.nc: Operation not supported\n",
      "getfattr: /home/jupyter/data/model_data/mini_data_set/time_20230808_150000.nc: Operation not supported\n",
      "getfattr: /home/jupyter/data/model_data/mini_data_set/time_20230811_150000.nc: Operation not supported\n",
      "getfattr: /home/jupyter/data/model_data/mini_data_set/time_20230809_180000.nc: Operation not supported\n"
     ]
    },
    {
     "name": "stdout",
     "output_type": "stream",
     "text": [
      "19/25 [=====================>........] - ETA: 4s - loss: 4.7935"
     ]
    },
    {
     "name": "stderr",
     "output_type": "stream",
     "text": [
      "getfattr: /home/jupyter/data/model_data/mini_data_set/time_20230816_150000.nc: Operation not supported\n",
      "getfattr: /home/jupyter/data/model_data/mini_data_set/time_20230807_130000.nc: Operation not supported\n",
      "getfattr: /home/jupyter/data/model_data/mini_data_set/time_20230815_170000.nc: Operation not supported\n",
      "getfattr: /home/jupyter/data/model_data/mini_data_set/time_20230811_110000.nc: Operation not supported\n"
     ]
    },
    {
     "name": "stdout",
     "output_type": "stream",
     "text": [
      "20/25 [=======================>......] - ETA: 4s - loss: 4.7237"
     ]
    },
    {
     "name": "stderr",
     "output_type": "stream",
     "text": [
      "getfattr: /home/jupyter/data/model_data/mini_data_set/time_20230804_140000.nc: Operation not supported\n",
      "getfattr: /home/jupyter/data/model_data/mini_data_set/time_20230809_170000.nc: Operation not supported\n",
      "getfattr: /home/jupyter/data/model_data/mini_data_set/time_20230816_080000.nc: Operation not supported\n",
      "getfattr: /home/jupyter/data/model_data/mini_data_set/time_20230816_040000.nc: Operation not supported\n"
     ]
    },
    {
     "name": "stdout",
     "output_type": "stream",
     "text": [
      "21/25 [========================>.....] - ETA: 3s - loss: 4.9304"
     ]
    },
    {
     "name": "stderr",
     "output_type": "stream",
     "text": [
      "getfattr: /home/jupyter/data/model_data/mini_data_set/time_20230806_140000.nc: Operation not supported\n",
      "getfattr: /home/jupyter/data/model_data/mini_data_set/time_20230811_080000.nc: Operation not supported\n",
      "getfattr: /home/jupyter/data/model_data/mini_data_set/time_20230816_090000.nc: Operation not supported\n",
      "getfattr: /home/jupyter/data/model_data/mini_data_set/time_20230808_160000.nc: Operation not supported\n"
     ]
    },
    {
     "name": "stdout",
     "output_type": "stream",
     "text": [
      "22/25 [=========================>....] - ETA: 2s - loss: 5.1374"
     ]
    },
    {
     "name": "stderr",
     "output_type": "stream",
     "text": [
      "getfattr: /home/jupyter/data/model_data/mini_data_set/time_20230805_070000.nc: Operation not supported\n",
      "getfattr: /home/jupyter/data/model_data/mini_data_set/time_20230804_180000.nc: Operation not supported\n",
      "getfattr: /home/jupyter/data/model_data/mini_data_set/time_20230805_090000.nc: Operation not supported\n",
      "getfattr: /home/jupyter/data/model_data/mini_data_set/time_20230811_100000.nc: Operation not supported\n"
     ]
    },
    {
     "name": "stdout",
     "output_type": "stream",
     "text": [
      "23/25 [==========================>...] - ETA: 1s - loss: 5.1171"
     ]
    },
    {
     "name": "stderr",
     "output_type": "stream",
     "text": [
      "getfattr: /home/jupyter/data/model_data/mini_data_set/time_20230815_180000.nc: Operation not supported\n",
      "getfattr: /home/jupyter/data/model_data/mini_data_set/time_20230807_150000.nc: Operation not supported\n",
      "getfattr: /home/jupyter/data/model_data/mini_data_set/time_20230804_100000.nc: Operation not supported\n",
      "getfattr: /home/jupyter/data/model_data/mini_data_set/time_20230807_170000.nc: Operation not supported\n"
     ]
    },
    {
     "name": "stdout",
     "output_type": "stream",
     "text": [
      "25/25 [==============================] - ETA: 0s - loss: 5.2607"
     ]
    },
    {
     "name": "stderr",
     "output_type": "stream",
     "text": [
      "getfattr: /home/jupyter/data/model_data/mini_data_set/time_20230807_160000.nc: Operation not supported\n",
      "getfattr: /home/jupyter/data/model_data/mini_data_set/time_20230804_130000.nc: Operation not supported\n",
      "getfattr: /home/jupyter/data/model_data/mini_data_set/time_20230809_070000.nc: Operation not supported\n",
      "getfattr: /home/jupyter/data/model_data/mini_data_set/time_20230805_160000.nc: Operation not supported\n",
      "getfattr: /home/jupyter/data/model_data/mini_data_set/time_20230811_090000.nc: Operation not supported\n",
      "getfattr: /home/jupyter/data/model_data/mini_data_set/time_20230806_150000.nc: Operation not supported\n",
      "getfattr: /home/jupyter/data/model_data/mini_data_set/time_20230802_100000.nc: Operation not supported\n",
      "getfattr: /home/jupyter/data/model_data/mini_data_set/time_20230812_120000.nc: Operation not supported\n",
      "getfattr: /home/jupyter/data/model_data/mini_data_set/time_20230808_170000.nc: Operation not supported\n",
      "getfattr: /home/jupyter/data/model_data/mini_data_set/time_20230811_170000.nc: Operation not supported\n",
      "getfattr: /home/jupyter/data/model_data/mini_data_set/time_20230806_080000.nc: Operation not supported\n",
      "getfattr: /home/jupyter/data/model_data/mini_data_set/time_20230806_170000.nc: Operation not supported\n",
      "getfattr: /home/jupyter/data/model_data/mini_data_set/time_20230809_130000.nc: Operation not supported\n",
      "getfattr: /home/jupyter/data/model_data/mini_data_set/time_20230806_100000.nc: Operation not supported\n",
      "getfattr: /home/jupyter/data/model_data/mini_data_set/time_20230815_120000.nc: Operation not supported\n",
      "getfattr: /home/jupyter/data/model_data/mini_data_set/time_20230804_070000.nc: Operation not supported\n",
      "getfattr: /home/jupyter/data/model_data/mini_data_set/time_20230808_180000.nc: Operation not supported\n",
      "getfattr: /home/jupyter/data/model_data/mini_data_set/time_20230816_160000.nc: Operation not supported\n",
      "getfattr: /home/jupyter/data/model_data/mini_data_set/time_20230812_160000.nc: Operation not supported\n",
      "getfattr: /home/jupyter/data/model_data/mini_data_set/time_20230806_070000.nc: Operation not supported\n",
      "getfattr: /home/jupyter/data/model_data/mini_data_set/time_20230804_170000.nc: Operation not supported\n",
      "getfattr: /home/jupyter/data/model_data/mini_data_set/time_20230811_070000.nc: Operation not supported\n",
      "getfattr: /home/jupyter/data/model_data/mini_data_set/time_20230805_080000.nc: Operation not supported\n",
      "getfattr: /home/jupyter/data/model_data/mini_data_set/time_20230807_110000.nc: Operation not supported\n",
      "getfattr: /home/jupyter/data/model_data/mini_data_set/time_20230806_140000.nc: Operation not supported\n",
      "getfattr: /home/jupyter/data/model_data/mini_data_set/time_20230811_080000.nc: Operation not supported\n",
      "getfattr: /home/jupyter/data/model_data/mini_data_set/time_20230816_090000.nc: Operation not supported\n",
      "getfattr: /home/jupyter/data/model_data/mini_data_set/time_20230808_160000.nc: Operation not supported\n",
      "getfattr: /home/jupyter/data/model_data/mini_data_set/time_20230816_150000.nc: Operation not supported\n",
      "getfattr: /home/jupyter/data/model_data/mini_data_set/time_20230807_130000.nc: Operation not supported\n",
      "getfattr: /home/jupyter/data/model_data/mini_data_set/time_20230815_170000.nc: Operation not supported\n",
      "getfattr: /home/jupyter/data/model_data/mini_data_set/time_20230811_110000.nc: Operation not supported\n",
      "getfattr: /home/jupyter/data/model_data/mini_data_set/time_20230809_140000.nc: Operation not supported\n",
      "getfattr: /home/jupyter/data/model_data/mini_data_set/time_20230809_080000.nc: Operation not supported\n",
      "getfattr: /home/jupyter/data/model_data/mini_data_set/time_20230811_180000.nc: Operation not supported\n",
      "getfattr: /home/jupyter/data/model_data/mini_data_set/time_20230812_070000.nc: Operation not supported\n",
      "getfattr: /home/jupyter/data/model_data/mini_data_set/time_20230815_180000.nc: Operation not supported\n",
      "getfattr: /home/jupyter/data/model_data/mini_data_set/time_20230807_150000.nc: Operation not supported\n",
      "getfattr: /home/jupyter/data/model_data/mini_data_set/time_20230804_100000.nc: Operation not supported\n",
      "getfattr: /home/jupyter/data/model_data/mini_data_set/time_20230807_170000.nc: Operation not supported\n",
      "getfattr: /home/jupyter/data/model_data/mini_data_set/time_20230812_150000.nc: Operation not supported\n",
      "getfattr: /home/jupyter/data/model_data/mini_data_set/time_20230802_150000.nc: Operation not supported\n",
      "getfattr: /home/jupyter/data/model_data/mini_data_set/time_20230812_140000.nc: Operation not supported\n",
      "getfattr: /home/jupyter/data/model_data/mini_data_set/time_20230809_160000.nc: Operation not supported\n",
      "getfattr: /home/jupyter/data/model_data/mini_data_set/time_20230802_130000.nc: Operation not supported\n",
      "getfattr: /home/jupyter/data/model_data/mini_data_set/time_20230808_140000.nc: Operation not supported\n",
      "getfattr: /home/jupyter/data/model_data/mini_data_set/time_20230809_090000.nc: Operation not supported\n",
      "getfattr: /home/jupyter/data/model_data/mini_data_set/time_20230806_110000.nc: Operation not supported\n",
      "getfattr: /home/jupyter/data/model_data/mini_data_set/time_20230807_090000.nc: Operation not supported\n",
      "getfattr: /home/jupyter/data/model_data/mini_data_set/time_20230805_100000.nc: Operation not supported\n",
      "getfattr: /home/jupyter/data/model_data/mini_data_set/time_20230816_100000.nc: Operation not supported\n",
      "getfattr: /home/jupyter/data/model_data/mini_data_set/time_20230812_080000.nc: Operation not supported\n",
      "getfattr: /home/jupyter/data/model_data/mini_data_set/time_20230812_180000.nc: Operation not supported\n",
      "getfattr: /home/jupyter/data/model_data/mini_data_set/time_20230812_130000.nc: Operation not supported\n",
      "getfattr: /home/jupyter/data/model_data/mini_data_set/time_20230802_110000.nc: Operation not supported\n",
      "getfattr: /home/jupyter/data/model_data/mini_data_set/time_20230809_100000.nc: Operation not supported\n",
      "getfattr: /home/jupyter/data/model_data/mini_data_set/time_20230802_140000.nc: Operation not supported\n",
      "getfattr: /home/jupyter/data/model_data/mini_data_set/time_20230808_150000.nc: Operation not supported\n",
      "getfattr: /home/jupyter/data/model_data/mini_data_set/time_20230811_150000.nc: Operation not supported\n",
      "getfattr: /home/jupyter/data/model_data/mini_data_set/time_20230809_180000.nc: Operation not supported\n",
      "getfattr: /home/jupyter/data/model_data/mini_data_set/time_20230806_120000.nc: Operation not supported\n",
      "getfattr: /home/jupyter/data/model_data/mini_data_set/time_20230804_080000.nc: Operation not supported\n",
      "getfattr: /home/jupyter/data/model_data/mini_data_set/time_20230807_140000.nc: Operation not supported\n",
      "getfattr: /home/jupyter/data/model_data/mini_data_set/time_20230804_160000.nc: Operation not supported\n",
      "getfattr: /home/jupyter/data/model_data/mini_data_set/time_20230807_070000.nc: Operation not supported\n",
      "getfattr: /home/jupyter/data/model_data/mini_data_set/time_20230804_090000.nc: Operation not supported\n",
      "getfattr: /home/jupyter/data/model_data/mini_data_set/time_20230811_140000.nc: Operation not supported\n",
      "getfattr: /home/jupyter/data/model_data/mini_data_set/time_20230807_180000.nc: Operation not supported\n",
      "getfattr: /home/jupyter/data/model_data/mini_data_set/time_20230805_070000.nc: Operation not supported\n",
      "getfattr: /home/jupyter/data/model_data/mini_data_set/time_20230804_180000.nc: Operation not supported\n",
      "getfattr: /home/jupyter/data/model_data/mini_data_set/time_20230805_090000.nc: Operation not supported\n",
      "getfattr: /home/jupyter/data/model_data/mini_data_set/time_20230811_100000.nc: Operation not supported\n",
      "getfattr: /home/jupyter/data/model_data/mini_data_set/time_20230811_130000.nc: Operation not supported\n",
      "getfattr: /home/jupyter/data/model_data/mini_data_set/time_20230805_120000.nc: Operation not supported\n",
      "getfattr: /home/jupyter/data/model_data/mini_data_set/time_20230809_110000.nc: Operation not supported\n",
      "getfattr: /home/jupyter/data/model_data/mini_data_set/time_20230805_180000.nc: Operation not supported\n",
      "getfattr: /home/jupyter/data/model_data/mini_data_set/time_20230809_150000.nc: Operation not supported\n",
      "getfattr: /home/jupyter/data/model_data/mini_data_set/time_20230816_140000.nc: Operation not supported\n",
      "getfattr: /home/jupyter/data/model_data/mini_data_set/time_20230802_120000.nc: Operation not supported\n",
      "getfattr: /home/jupyter/data/model_data/mini_data_set/time_20230806_160000.nc: Operation not supported\n",
      "getfattr: /home/jupyter/data/model_data/mini_data_set/time_20230805_170000.nc: Operation not supported\n",
      "getfattr: /home/jupyter/data/model_data/mini_data_set/time_20230804_150000.nc: Operation not supported\n",
      "getfattr: /home/jupyter/data/model_data/mini_data_set/time_20230804_120000.nc: Operation not supported\n",
      "getfattr: /home/jupyter/data/model_data/mini_data_set/time_20230816_110000.nc: Operation not supported\n",
      "getfattr: /home/jupyter/data/model_data/mini_data_set/time_20230806_180000.nc: Operation not supported\n",
      "getfattr: /home/jupyter/data/model_data/mini_data_set/time_20230805_140000.nc: Operation not supported\n",
      "getfattr: /home/jupyter/data/model_data/mini_data_set/time_20230811_160000.nc: Operation not supported\n",
      "getfattr: /home/jupyter/data/model_data/mini_data_set/time_20230807_100000.nc: Operation not supported\n",
      "getfattr: /home/jupyter/data/model_data/mini_data_set/time_20230804_140000.nc: Operation not supported\n",
      "getfattr: /home/jupyter/data/model_data/mini_data_set/time_20230809_170000.nc: Operation not supported\n",
      "getfattr: /home/jupyter/data/model_data/mini_data_set/time_20230816_080000.nc: Operation not supported\n",
      "getfattr: /home/jupyter/data/model_data/mini_data_set/time_20230816_040000.nc: Operation not supported\n",
      "getfattr: /home/jupyter/data/model_data/mini_data_set/time_20230815_150000.nc: Operation not supported\n",
      "getfattr: /home/jupyter/data/model_data/mini_data_set/time_20230805_110000.nc: Operation not supported\n",
      "getfattr: /home/jupyter/data/model_data/mini_data_set/time_20230807_080000.nc: Operation not supported\n",
      "getfattr: /home/jupyter/data/model_data/mini_data_set/time_20230812_170000.nc: Operation not supported\n",
      "getfattr: /home/jupyter/data/model_data/mini_data_set/time_20230816_070000.nc: Operation not supported\n",
      "getfattr: /home/jupyter/data/model_data/mini_data_set/time_20230815_160000.nc: Operation not supported\n",
      "getfattr: /home/jupyter/data/model_data/mini_data_set/time_20230806_090000.nc: Operation not supported\n",
      "getfattr: /home/jupyter/data/model_data/mini_data_set/time_20230805_150000.nc: Operation not supported\n"
     ]
    },
    {
     "name": "stdout",
     "output_type": "stream",
     "text": [
      "25/25 [==============================] - 42s 2s/step - loss: 5.2607 - val_loss: 19.8377\n",
      "Epoch 3/4\n"
     ]
    },
    {
     "name": "stderr",
     "output_type": "stream",
     "text": [
      "getfattr: /home/jupyter/data/model_data/mini_data_set/time_20230815_150000.nc: Operation not supported\n",
      "getfattr: /home/jupyter/data/model_data/mini_data_set/time_20230805_110000.nc: Operation not supported\n",
      "getfattr: /home/jupyter/data/model_data/mini_data_set/time_20230807_080000.nc: Operation not supported\n",
      "getfattr: /home/jupyter/data/model_data/mini_data_set/time_20230812_170000.nc: Operation not supported\n",
      "getfattr: /home/jupyter/data/model_data/mini_data_set/time_20230815_180000.nc: Operation not supported\n",
      "getfattr: /home/jupyter/data/model_data/mini_data_set/time_20230807_150000.nc: Operation not supported\n",
      "getfattr: /home/jupyter/data/model_data/mini_data_set/time_20230804_100000.nc: Operation not supported\n",
      "getfattr: /home/jupyter/data/model_data/mini_data_set/time_20230807_170000.nc: Operation not supported\n"
     ]
    },
    {
     "name": "stdout",
     "output_type": "stream",
     "text": [
      " 1/25 [>.............................] - ETA: 33s - loss: 6.4364"
     ]
    },
    {
     "name": "stderr",
     "output_type": "stream",
     "text": [
      "getfattr: /home/jupyter/data/model_data/mini_data_set/time_20230816_150000.nc: Operation not supported\n",
      "getfattr: /home/jupyter/data/model_data/mini_data_set/time_20230807_130000.nc: Operation not supported\n",
      "getfattr: /home/jupyter/data/model_data/mini_data_set/time_20230815_170000.nc: Operation not supported\n",
      "getfattr: /home/jupyter/data/model_data/mini_data_set/time_20230811_110000.nc: Operation not supported\n"
     ]
    },
    {
     "name": "stdout",
     "output_type": "stream",
     "text": [
      " 2/25 [=>............................] - ETA: 17s - loss: 8.5424"
     ]
    },
    {
     "name": "stderr",
     "output_type": "stream",
     "text": [
      "getfattr: /home/jupyter/data/model_data/mini_data_set/time_20230804_170000.nc: Operation not supported\n",
      "getfattr: /home/jupyter/data/model_data/mini_data_set/time_20230811_070000.nc: Operation not supported\n",
      "getfattr: /home/jupyter/data/model_data/mini_data_set/time_20230805_080000.nc: Operation not supported\n",
      "getfattr: /home/jupyter/data/model_data/mini_data_set/time_20230807_110000.nc: Operation not supported\n"
     ]
    },
    {
     "name": "stdout",
     "output_type": "stream",
     "text": [
      " 3/25 [==>...........................] - ETA: 16s - loss: 7.7595"
     ]
    },
    {
     "name": "stderr",
     "output_type": "stream",
     "text": [
      "getfattr: /home/jupyter/data/model_data/mini_data_set/time_20230807_160000.nc: Operation not supported\n",
      "getfattr: /home/jupyter/data/model_data/mini_data_set/time_20230804_130000.nc: Operation not supported\n",
      "getfattr: /home/jupyter/data/model_data/mini_data_set/time_20230809_070000.nc: Operation not supported\n",
      "getfattr: /home/jupyter/data/model_data/mini_data_set/time_20230805_160000.nc: Operation not supported\n"
     ]
    },
    {
     "name": "stdout",
     "output_type": "stream",
     "text": [
      " 4/25 [===>..........................] - ETA: 15s - loss: 6.8979"
     ]
    },
    {
     "name": "stderr",
     "output_type": "stream",
     "text": [
      "getfattr: /home/jupyter/data/model_data/mini_data_set/time_20230811_090000.nc: Operation not supported\n",
      "getfattr: /home/jupyter/data/model_data/mini_data_set/time_20230806_150000.nc: Operation not supported\n",
      "getfattr: /home/jupyter/data/model_data/mini_data_set/time_20230802_100000.nc: Operation not supported\n",
      "getfattr: /home/jupyter/data/model_data/mini_data_set/time_20230812_120000.nc: Operation not supported\n"
     ]
    },
    {
     "name": "stdout",
     "output_type": "stream",
     "text": [
      " 5/25 [=====>........................] - ETA: 15s - loss: 6.2884"
     ]
    },
    {
     "name": "stderr",
     "output_type": "stream",
     "text": [
      "getfattr: /home/jupyter/data/model_data/mini_data_set/time_20230809_130000.nc: Operation not supported\n",
      "getfattr: /home/jupyter/data/model_data/mini_data_set/time_20230806_100000.nc: Operation not supported\n",
      "getfattr: /home/jupyter/data/model_data/mini_data_set/time_20230815_120000.nc: Operation not supported\n",
      "getfattr: /home/jupyter/data/model_data/mini_data_set/time_20230804_070000.nc: Operation not supported\n"
     ]
    },
    {
     "name": "stdout",
     "output_type": "stream",
     "text": [
      " 6/25 [======>.......................] - ETA: 14s - loss: 6.0009"
     ]
    },
    {
     "name": "stderr",
     "output_type": "stream",
     "text": [
      "getfattr: /home/jupyter/data/model_data/mini_data_set/time_20230806_140000.nc: Operation not supported\n",
      "getfattr: /home/jupyter/data/model_data/mini_data_set/time_20230811_080000.nc: Operation not supported\n",
      "getfattr: /home/jupyter/data/model_data/mini_data_set/time_20230816_090000.nc: Operation not supported\n",
      "getfattr: /home/jupyter/data/model_data/mini_data_set/time_20230808_160000.nc: Operation not supported\n"
     ]
    },
    {
     "name": "stdout",
     "output_type": "stream",
     "text": [
      " 7/25 [=======>......................] - ETA: 13s - loss: 5.9834"
     ]
    },
    {
     "name": "stderr",
     "output_type": "stream",
     "text": [
      "getfattr: /home/jupyter/data/model_data/mini_data_set/time_20230808_180000.nc: Operation not supported\n",
      "getfattr: /home/jupyter/data/model_data/mini_data_set/time_20230816_160000.nc: Operation not supported\n",
      "getfattr: /home/jupyter/data/model_data/mini_data_set/time_20230812_160000.nc: Operation not supported\n",
      "getfattr: /home/jupyter/data/model_data/mini_data_set/time_20230806_070000.nc: Operation not supported\n"
     ]
    },
    {
     "name": "stdout",
     "output_type": "stream",
     "text": [
      " 8/25 [========>.....................] - ETA: 13s - loss: 5.8900"
     ]
    },
    {
     "name": "stderr",
     "output_type": "stream",
     "text": [
      "getfattr: /home/jupyter/data/model_data/mini_data_set/time_20230816_070000.nc: Operation not supported\n",
      "getfattr: /home/jupyter/data/model_data/mini_data_set/time_20230815_160000.nc: Operation not supported\n",
      "getfattr: /home/jupyter/data/model_data/mini_data_set/time_20230806_090000.nc: Operation not supported\n",
      "getfattr: /home/jupyter/data/model_data/mini_data_set/time_20230805_150000.nc: Operation not supported\n"
     ]
    },
    {
     "name": "stdout",
     "output_type": "stream",
     "text": [
      " 9/25 [=========>....................] - ETA: 12s - loss: 5.5673"
     ]
    },
    {
     "name": "stderr",
     "output_type": "stream",
     "text": [
      "getfattr: /home/jupyter/data/model_data/mini_data_set/time_20230807_090000.nc: Operation not supported\n",
      "getfattr: /home/jupyter/data/model_data/mini_data_set/time_20230805_100000.nc: Operation not supported\n",
      "getfattr: /home/jupyter/data/model_data/mini_data_set/time_20230816_100000.nc: Operation not supported\n",
      "getfattr: /home/jupyter/data/model_data/mini_data_set/time_20230812_080000.nc: Operation not supported\n"
     ]
    },
    {
     "name": "stdout",
     "output_type": "stream",
     "text": [
      "10/25 [===========>..................] - ETA: 11s - loss: 5.9017"
     ]
    },
    {
     "name": "stderr",
     "output_type": "stream",
     "text": [
      "getfattr: /home/jupyter/data/model_data/mini_data_set/time_20230802_140000.nc: Operation not supported\n",
      "getfattr: /home/jupyter/data/model_data/mini_data_set/time_20230808_150000.nc: Operation not supported\n",
      "getfattr: /home/jupyter/data/model_data/mini_data_set/time_20230811_150000.nc: Operation not supported\n",
      "getfattr: /home/jupyter/data/model_data/mini_data_set/time_20230809_180000.nc: Operation not supported\n"
     ]
    },
    {
     "name": "stdout",
     "output_type": "stream",
     "text": [
      "11/25 [============>.................] - ETA: 10s - loss: 5.6357"
     ]
    },
    {
     "name": "stderr",
     "output_type": "stream",
     "text": [
      "getfattr: /home/jupyter/data/model_data/mini_data_set/time_20230806_120000.nc: Operation not supported\n",
      "getfattr: /home/jupyter/data/model_data/mini_data_set/time_20230804_080000.nc: Operation not supported\n",
      "getfattr: /home/jupyter/data/model_data/mini_data_set/time_20230807_140000.nc: Operation not supported\n",
      "getfattr: /home/jupyter/data/model_data/mini_data_set/time_20230804_160000.nc: Operation not supported\n"
     ]
    },
    {
     "name": "stdout",
     "output_type": "stream",
     "text": [
      "12/25 [=============>................] - ETA: 9s - loss: 5.3855 "
     ]
    },
    {
     "name": "stderr",
     "output_type": "stream",
     "text": [
      "getfattr: /home/jupyter/data/model_data/mini_data_set/time_20230812_180000.nc: Operation not supported\n",
      "getfattr: /home/jupyter/data/model_data/mini_data_set/time_20230812_130000.nc: Operation not supported\n",
      "getfattr: /home/jupyter/data/model_data/mini_data_set/time_20230802_110000.nc: Operation not supported\n",
      "getfattr: /home/jupyter/data/model_data/mini_data_set/time_20230809_100000.nc: Operation not supported\n"
     ]
    },
    {
     "name": "stdout",
     "output_type": "stream",
     "text": [
      "13/25 [==============>...............] - ETA: 9s - loss: 5.2406"
     ]
    },
    {
     "name": "stderr",
     "output_type": "stream",
     "text": [
      "getfattr: /home/jupyter/data/model_data/mini_data_set/time_20230809_150000.nc: Operation not supported\n",
      "getfattr: /home/jupyter/data/model_data/mini_data_set/time_20230816_140000.nc: Operation not supported\n",
      "getfattr: /home/jupyter/data/model_data/mini_data_set/time_20230802_120000.nc: Operation not supported\n",
      "getfattr: /home/jupyter/data/model_data/mini_data_set/time_20230806_160000.nc: Operation not supported\n"
     ]
    },
    {
     "name": "stdout",
     "output_type": "stream",
     "text": [
      "14/25 [===============>..............] - ETA: 8s - loss: 5.1069"
     ]
    },
    {
     "name": "stderr",
     "output_type": "stream",
     "text": [
      "getfattr: /home/jupyter/data/model_data/mini_data_set/time_20230808_170000.nc: Operation not supported\n",
      "getfattr: /home/jupyter/data/model_data/mini_data_set/time_20230811_170000.nc: Operation not supported\n",
      "getfattr: /home/jupyter/data/model_data/mini_data_set/time_20230806_080000.nc: Operation not supported\n",
      "getfattr: /home/jupyter/data/model_data/mini_data_set/time_20230806_170000.nc: Operation not supported\n"
     ]
    },
    {
     "name": "stdout",
     "output_type": "stream",
     "text": [
      "15/25 [=================>............] - ETA: 7s - loss: 5.0092"
     ]
    },
    {
     "name": "stderr",
     "output_type": "stream",
     "text": [
      "getfattr: /home/jupyter/data/model_data/mini_data_set/time_20230809_140000.nc: Operation not supported\n",
      "getfattr: /home/jupyter/data/model_data/mini_data_set/time_20230809_080000.nc: Operation not supported\n",
      "getfattr: /home/jupyter/data/model_data/mini_data_set/time_20230811_180000.nc: Operation not supported\n",
      "getfattr: /home/jupyter/data/model_data/mini_data_set/time_20230812_070000.nc: Operation not supported\n"
     ]
    },
    {
     "name": "stdout",
     "output_type": "stream",
     "text": [
      "16/25 [==================>...........] - ETA: 6s - loss: 4.8581"
     ]
    },
    {
     "name": "stderr",
     "output_type": "stream",
     "text": [
      "getfattr: /home/jupyter/data/model_data/mini_data_set/time_20230811_130000.nc: Operation not supported\n",
      "getfattr: /home/jupyter/data/model_data/mini_data_set/time_20230805_120000.nc: Operation not supported\n",
      "getfattr: /home/jupyter/data/model_data/mini_data_set/time_20230809_110000.nc: Operation not supported\n",
      "getfattr: /home/jupyter/data/model_data/mini_data_set/time_20230805_180000.nc: Operation not supported\n"
     ]
    },
    {
     "name": "stdout",
     "output_type": "stream",
     "text": [
      "17/25 [===================>..........] - ETA: 6s - loss: 4.6908"
     ]
    },
    {
     "name": "stderr",
     "output_type": "stream",
     "text": [
      "getfattr: /home/jupyter/data/model_data/mini_data_set/time_20230804_140000.nc: Operation not supported\n",
      "getfattr: /home/jupyter/data/model_data/mini_data_set/time_20230809_170000.nc: Operation not supported\n",
      "getfattr: /home/jupyter/data/model_data/mini_data_set/time_20230816_080000.nc: Operation not supported\n",
      "getfattr: /home/jupyter/data/model_data/mini_data_set/time_20230816_040000.nc: Operation not supported\n"
     ]
    },
    {
     "name": "stdout",
     "output_type": "stream",
     "text": [
      "18/25 [====================>.........] - ETA: 5s - loss: 4.5021"
     ]
    },
    {
     "name": "stderr",
     "output_type": "stream",
     "text": [
      "getfattr: /home/jupyter/data/model_data/mini_data_set/time_20230805_170000.nc: Operation not supported\n",
      "getfattr: /home/jupyter/data/model_data/mini_data_set/time_20230804_150000.nc: Operation not supported\n",
      "getfattr: /home/jupyter/data/model_data/mini_data_set/time_20230804_120000.nc: Operation not supported\n",
      "getfattr: /home/jupyter/data/model_data/mini_data_set/time_20230816_110000.nc: Operation not supported\n"
     ]
    },
    {
     "name": "stdout",
     "output_type": "stream",
     "text": [
      "19/25 [=====================>........] - ETA: 4s - loss: 4.8624"
     ]
    },
    {
     "name": "stderr",
     "output_type": "stream",
     "text": [
      "getfattr: /home/jupyter/data/model_data/mini_data_set/time_20230802_130000.nc: Operation not supported\n",
      "getfattr: /home/jupyter/data/model_data/mini_data_set/time_20230808_140000.nc: Operation not supported\n",
      "getfattr: /home/jupyter/data/model_data/mini_data_set/time_20230809_090000.nc: Operation not supported\n",
      "getfattr: /home/jupyter/data/model_data/mini_data_set/time_20230806_110000.nc: Operation not supported\n"
     ]
    },
    {
     "name": "stdout",
     "output_type": "stream",
     "text": [
      "20/25 [=======================>......] - ETA: 3s - loss: 4.8860"
     ]
    },
    {
     "name": "stderr",
     "output_type": "stream",
     "text": [
      "getfattr: /home/jupyter/data/model_data/mini_data_set/time_20230806_180000.nc: Operation not supported\n",
      "getfattr: /home/jupyter/data/model_data/mini_data_set/time_20230805_140000.nc: Operation not supported\n",
      "getfattr: /home/jupyter/data/model_data/mini_data_set/time_20230811_160000.nc: Operation not supported\n",
      "getfattr: /home/jupyter/data/model_data/mini_data_set/time_20230807_100000.nc: Operation not supported\n"
     ]
    },
    {
     "name": "stdout",
     "output_type": "stream",
     "text": [
      "21/25 [========================>.....] - ETA: 3s - loss: 4.7904"
     ]
    },
    {
     "name": "stderr",
     "output_type": "stream",
     "text": [
      "getfattr: /home/jupyter/data/model_data/mini_data_set/time_20230805_070000.nc: Operation not supported\n",
      "getfattr: /home/jupyter/data/model_data/mini_data_set/time_20230804_180000.nc: Operation not supported\n",
      "getfattr: /home/jupyter/data/model_data/mini_data_set/time_20230805_090000.nc: Operation not supported\n",
      "getfattr: /home/jupyter/data/model_data/mini_data_set/time_20230811_100000.nc: Operation not supported\n"
     ]
    },
    {
     "name": "stdout",
     "output_type": "stream",
     "text": [
      "22/25 [=========================>....] - ETA: 2s - loss: 4.6661"
     ]
    },
    {
     "name": "stderr",
     "output_type": "stream",
     "text": [
      "getfattr: /home/jupyter/data/model_data/mini_data_set/time_20230812_150000.nc: Operation not supported\n",
      "getfattr: /home/jupyter/data/model_data/mini_data_set/time_20230802_150000.nc: Operation not supported\n",
      "getfattr: /home/jupyter/data/model_data/mini_data_set/time_20230812_140000.nc: Operation not supported\n",
      "getfattr: /home/jupyter/data/model_data/mini_data_set/time_20230809_160000.nc: Operation not supported\n"
     ]
    },
    {
     "name": "stdout",
     "output_type": "stream",
     "text": [
      "23/25 [==========================>...] - ETA: 1s - loss: 4.5788"
     ]
    },
    {
     "name": "stderr",
     "output_type": "stream",
     "text": [
      "getfattr: /home/jupyter/data/model_data/mini_data_set/time_20230807_070000.nc: Operation not supported\n",
      "getfattr: /home/jupyter/data/model_data/mini_data_set/time_20230804_090000.nc: Operation not supported\n",
      "getfattr: /home/jupyter/data/model_data/mini_data_set/time_20230811_140000.nc: Operation not supported\n",
      "getfattr: /home/jupyter/data/model_data/mini_data_set/time_20230807_180000.nc: Operation not supported\n"
     ]
    },
    {
     "name": "stdout",
     "output_type": "stream",
     "text": [
      "25/25 [==============================] - ETA: 0s - loss: 4.4719"
     ]
    },
    {
     "name": "stderr",
     "output_type": "stream",
     "text": [
      "getfattr: /home/jupyter/data/model_data/mini_data_set/time_20230807_160000.nc: Operation not supported\n",
      "getfattr: /home/jupyter/data/model_data/mini_data_set/time_20230804_130000.nc: Operation not supported\n",
      "getfattr: /home/jupyter/data/model_data/mini_data_set/time_20230809_070000.nc: Operation not supported\n",
      "getfattr: /home/jupyter/data/model_data/mini_data_set/time_20230805_160000.nc: Operation not supported\n",
      "getfattr: /home/jupyter/data/model_data/mini_data_set/time_20230811_090000.nc: Operation not supported\n",
      "getfattr: /home/jupyter/data/model_data/mini_data_set/time_20230806_150000.nc: Operation not supported\n",
      "getfattr: /home/jupyter/data/model_data/mini_data_set/time_20230802_100000.nc: Operation not supported\n",
      "getfattr: /home/jupyter/data/model_data/mini_data_set/time_20230812_120000.nc: Operation not supported\n",
      "getfattr: /home/jupyter/data/model_data/mini_data_set/time_20230808_170000.nc: Operation not supported\n",
      "getfattr: /home/jupyter/data/model_data/mini_data_set/time_20230811_170000.nc: Operation not supported\n",
      "getfattr: /home/jupyter/data/model_data/mini_data_set/time_20230806_080000.nc: Operation not supported\n",
      "getfattr: /home/jupyter/data/model_data/mini_data_set/time_20230806_170000.nc: Operation not supported\n",
      "getfattr: /home/jupyter/data/model_data/mini_data_set/time_20230809_130000.nc: Operation not supported\n",
      "getfattr: /home/jupyter/data/model_data/mini_data_set/time_20230806_100000.nc: Operation not supported\n",
      "getfattr: /home/jupyter/data/model_data/mini_data_set/time_20230815_120000.nc: Operation not supported\n",
      "getfattr: /home/jupyter/data/model_data/mini_data_set/time_20230804_070000.nc: Operation not supported\n",
      "getfattr: /home/jupyter/data/model_data/mini_data_set/time_20230808_180000.nc: Operation not supported\n",
      "getfattr: /home/jupyter/data/model_data/mini_data_set/time_20230816_160000.nc: Operation not supported\n",
      "getfattr: /home/jupyter/data/model_data/mini_data_set/time_20230812_160000.nc: Operation not supported\n",
      "getfattr: /home/jupyter/data/model_data/mini_data_set/time_20230806_070000.nc: Operation not supported\n",
      "getfattr: /home/jupyter/data/model_data/mini_data_set/time_20230804_170000.nc: Operation not supported\n",
      "getfattr: /home/jupyter/data/model_data/mini_data_set/time_20230811_070000.nc: Operation not supported\n",
      "getfattr: /home/jupyter/data/model_data/mini_data_set/time_20230805_080000.nc: Operation not supported\n",
      "getfattr: /home/jupyter/data/model_data/mini_data_set/time_20230807_110000.nc: Operation not supported\n",
      "getfattr: /home/jupyter/data/model_data/mini_data_set/time_20230806_140000.nc: Operation not supported\n",
      "getfattr: /home/jupyter/data/model_data/mini_data_set/time_20230811_080000.nc: Operation not supported\n",
      "getfattr: /home/jupyter/data/model_data/mini_data_set/time_20230816_090000.nc: Operation not supported\n",
      "getfattr: /home/jupyter/data/model_data/mini_data_set/time_20230808_160000.nc: Operation not supported\n",
      "getfattr: /home/jupyter/data/model_data/mini_data_set/time_20230816_150000.nc: Operation not supported\n",
      "getfattr: /home/jupyter/data/model_data/mini_data_set/time_20230807_130000.nc: Operation not supported\n",
      "getfattr: /home/jupyter/data/model_data/mini_data_set/time_20230815_170000.nc: Operation not supported\n",
      "getfattr: /home/jupyter/data/model_data/mini_data_set/time_20230811_110000.nc: Operation not supported\n",
      "getfattr: /home/jupyter/data/model_data/mini_data_set/time_20230809_140000.nc: Operation not supported\n",
      "getfattr: /home/jupyter/data/model_data/mini_data_set/time_20230809_080000.nc: Operation not supported\n",
      "getfattr: /home/jupyter/data/model_data/mini_data_set/time_20230811_180000.nc: Operation not supported\n",
      "getfattr: /home/jupyter/data/model_data/mini_data_set/time_20230812_070000.nc: Operation not supported\n",
      "getfattr: /home/jupyter/data/model_data/mini_data_set/time_20230815_180000.nc: Operation not supported\n",
      "getfattr: /home/jupyter/data/model_data/mini_data_set/time_20230807_150000.nc: Operation not supported\n",
      "getfattr: /home/jupyter/data/model_data/mini_data_set/time_20230804_100000.nc: Operation not supported\n",
      "getfattr: /home/jupyter/data/model_data/mini_data_set/time_20230807_170000.nc: Operation not supported\n",
      "getfattr: /home/jupyter/data/model_data/mini_data_set/time_20230812_150000.nc: Operation not supported\n",
      "getfattr: /home/jupyter/data/model_data/mini_data_set/time_20230802_150000.nc: Operation not supported\n",
      "getfattr: /home/jupyter/data/model_data/mini_data_set/time_20230812_140000.nc: Operation not supported\n",
      "getfattr: /home/jupyter/data/model_data/mini_data_set/time_20230809_160000.nc: Operation not supported\n",
      "getfattr: /home/jupyter/data/model_data/mini_data_set/time_20230802_130000.nc: Operation not supported\n",
      "getfattr: /home/jupyter/data/model_data/mini_data_set/time_20230808_140000.nc: Operation not supported\n",
      "getfattr: /home/jupyter/data/model_data/mini_data_set/time_20230809_090000.nc: Operation not supported\n",
      "getfattr: /home/jupyter/data/model_data/mini_data_set/time_20230806_110000.nc: Operation not supported\n",
      "getfattr: /home/jupyter/data/model_data/mini_data_set/time_20230807_090000.nc: Operation not supported\n",
      "getfattr: /home/jupyter/data/model_data/mini_data_set/time_20230805_100000.nc: Operation not supported\n",
      "getfattr: /home/jupyter/data/model_data/mini_data_set/time_20230816_100000.nc: Operation not supported\n",
      "getfattr: /home/jupyter/data/model_data/mini_data_set/time_20230812_080000.nc: Operation not supported\n",
      "getfattr: /home/jupyter/data/model_data/mini_data_set/time_20230812_180000.nc: Operation not supported\n",
      "getfattr: /home/jupyter/data/model_data/mini_data_set/time_20230812_130000.nc: Operation not supported\n",
      "getfattr: /home/jupyter/data/model_data/mini_data_set/time_20230802_110000.nc: Operation not supported\n",
      "getfattr: /home/jupyter/data/model_data/mini_data_set/time_20230809_100000.nc: Operation not supported\n",
      "getfattr: /home/jupyter/data/model_data/mini_data_set/time_20230802_140000.nc: Operation not supported\n",
      "getfattr: /home/jupyter/data/model_data/mini_data_set/time_20230808_150000.nc: Operation not supported\n",
      "getfattr: /home/jupyter/data/model_data/mini_data_set/time_20230811_150000.nc: Operation not supported\n",
      "getfattr: /home/jupyter/data/model_data/mini_data_set/time_20230809_180000.nc: Operation not supported\n",
      "getfattr: /home/jupyter/data/model_data/mini_data_set/time_20230806_120000.nc: Operation not supported\n",
      "getfattr: /home/jupyter/data/model_data/mini_data_set/time_20230804_080000.nc: Operation not supported\n",
      "getfattr: /home/jupyter/data/model_data/mini_data_set/time_20230807_140000.nc: Operation not supported\n",
      "getfattr: /home/jupyter/data/model_data/mini_data_set/time_20230804_160000.nc: Operation not supported\n",
      "getfattr: /home/jupyter/data/model_data/mini_data_set/time_20230807_070000.nc: Operation not supported\n",
      "getfattr: /home/jupyter/data/model_data/mini_data_set/time_20230804_090000.nc: Operation not supported\n",
      "getfattr: /home/jupyter/data/model_data/mini_data_set/time_20230811_140000.nc: Operation not supported\n",
      "getfattr: /home/jupyter/data/model_data/mini_data_set/time_20230807_180000.nc: Operation not supported\n",
      "getfattr: /home/jupyter/data/model_data/mini_data_set/time_20230805_070000.nc: Operation not supported\n",
      "getfattr: /home/jupyter/data/model_data/mini_data_set/time_20230804_180000.nc: Operation not supported\n",
      "getfattr: /home/jupyter/data/model_data/mini_data_set/time_20230805_090000.nc: Operation not supported\n",
      "getfattr: /home/jupyter/data/model_data/mini_data_set/time_20230811_100000.nc: Operation not supported\n",
      "getfattr: /home/jupyter/data/model_data/mini_data_set/time_20230811_130000.nc: Operation not supported\n",
      "getfattr: /home/jupyter/data/model_data/mini_data_set/time_20230805_120000.nc: Operation not supported\n",
      "getfattr: /home/jupyter/data/model_data/mini_data_set/time_20230809_110000.nc: Operation not supported\n",
      "getfattr: /home/jupyter/data/model_data/mini_data_set/time_20230805_180000.nc: Operation not supported\n",
      "getfattr: /home/jupyter/data/model_data/mini_data_set/time_20230809_150000.nc: Operation not supported\n",
      "getfattr: /home/jupyter/data/model_data/mini_data_set/time_20230816_140000.nc: Operation not supported\n",
      "getfattr: /home/jupyter/data/model_data/mini_data_set/time_20230802_120000.nc: Operation not supported\n",
      "getfattr: /home/jupyter/data/model_data/mini_data_set/time_20230806_160000.nc: Operation not supported\n",
      "getfattr: /home/jupyter/data/model_data/mini_data_set/time_20230805_170000.nc: Operation not supported\n",
      "getfattr: /home/jupyter/data/model_data/mini_data_set/time_20230804_150000.nc: Operation not supported\n",
      "getfattr: /home/jupyter/data/model_data/mini_data_set/time_20230804_120000.nc: Operation not supported\n",
      "getfattr: /home/jupyter/data/model_data/mini_data_set/time_20230816_110000.nc: Operation not supported\n",
      "getfattr: /home/jupyter/data/model_data/mini_data_set/time_20230806_180000.nc: Operation not supported\n",
      "getfattr: /home/jupyter/data/model_data/mini_data_set/time_20230805_140000.nc: Operation not supported\n",
      "getfattr: /home/jupyter/data/model_data/mini_data_set/time_20230811_160000.nc: Operation not supported\n",
      "getfattr: /home/jupyter/data/model_data/mini_data_set/time_20230807_100000.nc: Operation not supported\n",
      "getfattr: /home/jupyter/data/model_data/mini_data_set/time_20230804_140000.nc: Operation not supported\n",
      "getfattr: /home/jupyter/data/model_data/mini_data_set/time_20230809_170000.nc: Operation not supported\n",
      "getfattr: /home/jupyter/data/model_data/mini_data_set/time_20230816_080000.nc: Operation not supported\n",
      "getfattr: /home/jupyter/data/model_data/mini_data_set/time_20230816_040000.nc: Operation not supported\n",
      "getfattr: /home/jupyter/data/model_data/mini_data_set/time_20230815_150000.nc: Operation not supported\n",
      "getfattr: /home/jupyter/data/model_data/mini_data_set/time_20230805_110000.nc: Operation not supported\n",
      "getfattr: /home/jupyter/data/model_data/mini_data_set/time_20230807_080000.nc: Operation not supported\n",
      "getfattr: /home/jupyter/data/model_data/mini_data_set/time_20230812_170000.nc: Operation not supported\n",
      "getfattr: /home/jupyter/data/model_data/mini_data_set/time_20230816_070000.nc: Operation not supported\n",
      "getfattr: /home/jupyter/data/model_data/mini_data_set/time_20230815_160000.nc: Operation not supported\n",
      "getfattr: /home/jupyter/data/model_data/mini_data_set/time_20230806_090000.nc: Operation not supported\n",
      "getfattr: /home/jupyter/data/model_data/mini_data_set/time_20230805_150000.nc: Operation not supported\n"
     ]
    },
    {
     "name": "stdout",
     "output_type": "stream",
     "text": [
      "25/25 [==============================] - 41s 2s/step - loss: 4.4719 - val_loss: 22.8350\n",
      "Epoch 4/4\n"
     ]
    },
    {
     "name": "stderr",
     "output_type": "stream",
     "text": [
      "getfattr: /home/jupyter/data/model_data/mini_data_set/time_20230802_140000.nc: Operation not supported\n",
      "getfattr: /home/jupyter/data/model_data/mini_data_set/time_20230808_150000.nc: Operation not supported\n",
      "getfattr: /home/jupyter/data/model_data/mini_data_set/time_20230811_150000.nc: Operation not supported\n",
      "getfattr: /home/jupyter/data/model_data/mini_data_set/time_20230809_180000.nc: Operation not supported\n",
      "getfattr: /home/jupyter/data/model_data/mini_data_set/time_20230804_140000.nc: Operation not supported\n",
      "getfattr: /home/jupyter/data/model_data/mini_data_set/time_20230809_170000.nc: Operation not supported\n",
      "getfattr: /home/jupyter/data/model_data/mini_data_set/time_20230816_080000.nc: Operation not supported\n",
      "getfattr: /home/jupyter/data/model_data/mini_data_set/time_20230816_040000.nc: Operation not supported\n"
     ]
    },
    {
     "name": "stdout",
     "output_type": "stream",
     "text": [
      " 1/25 [>.............................] - ETA: 33s - loss: 2.1232"
     ]
    },
    {
     "name": "stderr",
     "output_type": "stream",
     "text": [
      "getfattr: /home/jupyter/data/model_data/mini_data_set/time_20230809_130000.nc: Operation not supported\n",
      "getfattr: /home/jupyter/data/model_data/mini_data_set/time_20230806_100000.nc: Operation not supported\n",
      "getfattr: /home/jupyter/data/model_data/mini_data_set/time_20230815_120000.nc: Operation not supported\n",
      "getfattr: /home/jupyter/data/model_data/mini_data_set/time_20230804_070000.nc: Operation not supported\n"
     ]
    },
    {
     "name": "stdout",
     "output_type": "stream",
     "text": [
      " 2/25 [=>............................] - ETA: 17s - loss: 5.0101"
     ]
    },
    {
     "name": "stderr",
     "output_type": "stream",
     "text": [
      "getfattr: /home/jupyter/data/model_data/mini_data_set/time_20230806_140000.nc: Operation not supported\n",
      "getfattr: /home/jupyter/data/model_data/mini_data_set/time_20230811_080000.nc: Operation not supported\n",
      "getfattr: /home/jupyter/data/model_data/mini_data_set/time_20230816_090000.nc: Operation not supported\n",
      "getfattr: /home/jupyter/data/model_data/mini_data_set/time_20230808_160000.nc: Operation not supported\n"
     ]
    },
    {
     "name": "stdout",
     "output_type": "stream",
     "text": [
      " 3/25 [==>...........................] - ETA: 17s - loss: 5.3190"
     ]
    },
    {
     "name": "stderr",
     "output_type": "stream",
     "text": [
      "getfattr: /home/jupyter/data/model_data/mini_data_set/time_20230808_180000.nc: Operation not supported\n",
      "getfattr: /home/jupyter/data/model_data/mini_data_set/time_20230816_160000.nc: Operation not supported\n",
      "getfattr: /home/jupyter/data/model_data/mini_data_set/time_20230812_160000.nc: Operation not supported\n",
      "getfattr: /home/jupyter/data/model_data/mini_data_set/time_20230806_070000.nc: Operation not supported\n"
     ]
    },
    {
     "name": "stdout",
     "output_type": "stream",
     "text": [
      " 4/25 [===>..........................] - ETA: 16s - loss: 5.0085"
     ]
    },
    {
     "name": "stderr",
     "output_type": "stream",
     "text": [
      "getfattr: /home/jupyter/data/model_data/mini_data_set/time_20230806_180000.nc: Operation not supported\n",
      "getfattr: /home/jupyter/data/model_data/mini_data_set/time_20230805_140000.nc: Operation not supported\n",
      "getfattr: /home/jupyter/data/model_data/mini_data_set/time_20230811_160000.nc: Operation not supported\n",
      "getfattr: /home/jupyter/data/model_data/mini_data_set/time_20230807_100000.nc: Operation not supported\n"
     ]
    },
    {
     "name": "stdout",
     "output_type": "stream",
     "text": [
      " 5/25 [=====>........................] - ETA: 16s - loss: 4.9308"
     ]
    },
    {
     "name": "stderr",
     "output_type": "stream",
     "text": [
      "getfattr: /home/jupyter/data/model_data/mini_data_set/time_20230802_130000.nc: Operation not supported\n",
      "getfattr: /home/jupyter/data/model_data/mini_data_set/time_20230808_140000.nc: Operation not supported\n",
      "getfattr: /home/jupyter/data/model_data/mini_data_set/time_20230809_090000.nc: Operation not supported\n"
     ]
    },
    {
     "name": "stdout",
     "output_type": "stream",
     "text": [
      " 6/25 [======>.......................] - ETA: 15s - loss: 4.5915"
     ]
    },
    {
     "name": "stderr",
     "output_type": "stream",
     "text": [
      "getfattr: /home/jupyter/data/model_data/mini_data_set/time_20230806_110000.nc: Operation not supported\n",
      "getfattr: /home/jupyter/data/model_data/mini_data_set/time_20230806_120000.nc: Operation not supported\n",
      "getfattr: /home/jupyter/data/model_data/mini_data_set/time_20230804_080000.nc: Operation not supported\n",
      "getfattr: /home/jupyter/data/model_data/mini_data_set/time_20230807_140000.nc: Operation not supported\n",
      "getfattr: /home/jupyter/data/model_data/mini_data_set/time_20230804_160000.nc: Operation not supported\n"
     ]
    },
    {
     "name": "stdout",
     "output_type": "stream",
     "text": [
      " 7/25 [=======>......................] - ETA: 14s - loss: 4.2043"
     ]
    },
    {
     "name": "stderr",
     "output_type": "stream",
     "text": [
      "getfattr: /home/jupyter/data/model_data/mini_data_set/time_20230807_160000.nc: Operation not supported\n",
      "getfattr: /home/jupyter/data/model_data/mini_data_set/time_20230804_130000.nc: Operation not supported\n",
      "getfattr: /home/jupyter/data/model_data/mini_data_set/time_20230809_070000.nc: Operation not supported\n",
      "getfattr: /home/jupyter/data/model_data/mini_data_set/time_20230805_160000.nc: Operation not supported\n"
     ]
    },
    {
     "name": "stdout",
     "output_type": "stream",
     "text": [
      " 8/25 [========>.....................] - ETA: 13s - loss: 3.9030"
     ]
    },
    {
     "name": "stderr",
     "output_type": "stream",
     "text": [
      "getfattr: /home/jupyter/data/model_data/mini_data_set/time_20230808_170000.nc: Operation not supported\n",
      "getfattr: /home/jupyter/data/model_data/mini_data_set/time_20230811_170000.nc: Operation not supported\n",
      "getfattr: /home/jupyter/data/model_data/mini_data_set/time_20230806_080000.nc: Operation not supported\n",
      "getfattr: /home/jupyter/data/model_data/mini_data_set/time_20230806_170000.nc: Operation not supported\n"
     ]
    },
    {
     "name": "stdout",
     "output_type": "stream",
     "text": [
      " 9/25 [=========>....................] - ETA: 12s - loss: 3.7247"
     ]
    },
    {
     "name": "stderr",
     "output_type": "stream",
     "text": [
      "getfattr: /home/jupyter/data/model_data/mini_data_set/time_20230804_170000.nc: Operation not supported\n",
      "getfattr: /home/jupyter/data/model_data/mini_data_set/time_20230811_070000.nc: Operation not supported\n",
      "getfattr: /home/jupyter/data/model_data/mini_data_set/time_20230805_080000.nc: Operation not supported\n",
      "getfattr: /home/jupyter/data/model_data/mini_data_set/time_20230807_110000.nc: Operation not supported\n"
     ]
    },
    {
     "name": "stdout",
     "output_type": "stream",
     "text": [
      "10/25 [===========>..................] - ETA: 11s - loss: 3.5019"
     ]
    },
    {
     "name": "stderr",
     "output_type": "stream",
     "text": [
      "getfattr: /home/jupyter/data/model_data/mini_data_set/time_20230815_150000.nc: Operation not supported\n",
      "getfattr: /home/jupyter/data/model_data/mini_data_set/time_20230805_110000.nc: Operation not supported\n",
      "getfattr: /home/jupyter/data/model_data/mini_data_set/time_20230807_080000.nc: Operation not supported\n",
      "getfattr: /home/jupyter/data/model_data/mini_data_set/time_20230812_170000.nc: Operation not supported\n"
     ]
    },
    {
     "name": "stdout",
     "output_type": "stream",
     "text": [
      "11/25 [============>.................] - ETA: 11s - loss: 3.5494"
     ]
    },
    {
     "name": "stderr",
     "output_type": "stream",
     "text": [
      "getfattr: /home/jupyter/data/model_data/mini_data_set/time_20230805_070000.nc: Operation not supported\n",
      "getfattr: /home/jupyter/data/model_data/mini_data_set/time_20230804_180000.nc: Operation not supported\n",
      "getfattr: /home/jupyter/data/model_data/mini_data_set/time_20230805_090000.nc: Operation not supported\n",
      "getfattr: /home/jupyter/data/model_data/mini_data_set/time_20230811_100000.nc: Operation not supported\n"
     ]
    },
    {
     "name": "stdout",
     "output_type": "stream",
     "text": [
      "12/25 [=============>................] - ETA: 10s - loss: 4.0795"
     ]
    },
    {
     "name": "stderr",
     "output_type": "stream",
     "text": [
      "getfattr: /home/jupyter/data/model_data/mini_data_set/time_20230812_180000.nc: Operation not supported\n",
      "getfattr: /home/jupyter/data/model_data/mini_data_set/time_20230812_130000.nc: Operation not supported\n",
      "getfattr: /home/jupyter/data/model_data/mini_data_set/time_20230802_110000.nc: Operation not supported\n",
      "getfattr: /home/jupyter/data/model_data/mini_data_set/time_20230809_100000.nc: Operation not supported\n"
     ]
    },
    {
     "name": "stdout",
     "output_type": "stream",
     "text": [
      "13/25 [==============>...............] - ETA: 9s - loss: 3.9184 "
     ]
    },
    {
     "name": "stderr",
     "output_type": "stream",
     "text": [
      "getfattr: /home/jupyter/data/model_data/mini_data_set/time_20230811_090000.nc: Operation not supported\n",
      "getfattr: /home/jupyter/data/model_data/mini_data_set/time_20230806_150000.nc: Operation not supported\n",
      "getfattr: /home/jupyter/data/model_data/mini_data_set/time_20230802_100000.nc: Operation not supported\n",
      "getfattr: /home/jupyter/data/model_data/mini_data_set/time_20230812_120000.nc: Operation not supported\n"
     ]
    },
    {
     "name": "stdout",
     "output_type": "stream",
     "text": [
      "14/25 [===============>..............] - ETA: 8s - loss: 3.8890"
     ]
    },
    {
     "name": "stderr",
     "output_type": "stream",
     "text": [
      "getfattr: /home/jupyter/data/model_data/mini_data_set/time_20230815_180000.nc: Operation not supported\n",
      "getfattr: /home/jupyter/data/model_data/mini_data_set/time_20230807_150000.nc: Operation not supported\n",
      "getfattr: /home/jupyter/data/model_data/mini_data_set/time_20230804_100000.nc: Operation not supported\n",
      "getfattr: /home/jupyter/data/model_data/mini_data_set/time_20230807_170000.nc: Operation not supported\n"
     ]
    },
    {
     "name": "stdout",
     "output_type": "stream",
     "text": [
      "15/25 [=================>............] - ETA: 7s - loss: 3.8333"
     ]
    },
    {
     "name": "stderr",
     "output_type": "stream",
     "text": [
      "getfattr: /home/jupyter/data/model_data/mini_data_set/time_20230816_070000.nc: Operation not supported\n",
      "getfattr: /home/jupyter/data/model_data/mini_data_set/time_20230815_160000.nc: Operation not supported\n",
      "getfattr: /home/jupyter/data/model_data/mini_data_set/time_20230806_090000.nc: Operation not supported\n",
      "getfattr: /home/jupyter/data/model_data/mini_data_set/time_20230805_150000.nc: Operation not supported\n"
     ]
    },
    {
     "name": "stdout",
     "output_type": "stream",
     "text": [
      "16/25 [==================>...........] - ETA: 7s - loss: 4.2935"
     ]
    },
    {
     "name": "stderr",
     "output_type": "stream",
     "text": [
      "getfattr: /home/jupyter/data/model_data/mini_data_set/time_20230811_130000.nc: Operation not supported\n",
      "getfattr: /home/jupyter/data/model_data/mini_data_set/time_20230805_120000.nc: Operation not supported\n",
      "getfattr: /home/jupyter/data/model_data/mini_data_set/time_20230809_110000.nc: Operation not supported\n",
      "getfattr: /home/jupyter/data/model_data/mini_data_set/time_20230805_180000.nc: Operation not supported\n"
     ]
    },
    {
     "name": "stdout",
     "output_type": "stream",
     "text": [
      "17/25 [===================>..........] - ETA: 6s - loss: 4.5073"
     ]
    },
    {
     "name": "stderr",
     "output_type": "stream",
     "text": [
      "getfattr: /home/jupyter/data/model_data/mini_data_set/time_20230809_140000.nc: Operation not supported\n",
      "getfattr: /home/jupyter/data/model_data/mini_data_set/time_20230809_080000.nc: Operation not supported\n",
      "getfattr: /home/jupyter/data/model_data/mini_data_set/time_20230811_180000.nc: Operation not supported\n",
      "getfattr: /home/jupyter/data/model_data/mini_data_set/time_20230812_070000.nc: Operation not supported\n"
     ]
    },
    {
     "name": "stdout",
     "output_type": "stream",
     "text": [
      "18/25 [====================>.........] - ETA: 5s - loss: 4.4511"
     ]
    },
    {
     "name": "stderr",
     "output_type": "stream",
     "text": [
      "getfattr: /home/jupyter/data/model_data/mini_data_set/time_20230807_090000.nc: Operation not supported\n",
      "getfattr: /home/jupyter/data/model_data/mini_data_set/time_20230805_100000.nc: Operation not supported\n",
      "getfattr: /home/jupyter/data/model_data/mini_data_set/time_20230816_100000.nc: Operation not supported\n",
      "getfattr: /home/jupyter/data/model_data/mini_data_set/time_20230812_080000.nc: Operation not supported\n"
     ]
    },
    {
     "name": "stdout",
     "output_type": "stream",
     "text": [
      "19/25 [=====================>........] - ETA: 4s - loss: 4.4072"
     ]
    },
    {
     "name": "stderr",
     "output_type": "stream",
     "text": [
      "getfattr: /home/jupyter/data/model_data/mini_data_set/time_20230816_150000.nc: Operation not supported\n",
      "getfattr: /home/jupyter/data/model_data/mini_data_set/time_20230807_130000.nc: Operation not supported\n",
      "getfattr: /home/jupyter/data/model_data/mini_data_set/time_20230815_170000.nc: Operation not supported\n",
      "getfattr: /home/jupyter/data/model_data/mini_data_set/time_20230811_110000.nc: Operation not supported\n"
     ]
    },
    {
     "name": "stdout",
     "output_type": "stream",
     "text": [
      "20/25 [=======================>......] - ETA: 3s - loss: 4.3311"
     ]
    },
    {
     "name": "stderr",
     "output_type": "stream",
     "text": [
      "getfattr: /home/jupyter/data/model_data/mini_data_set/time_20230809_150000.nc: Operation not supported\n",
      "getfattr: /home/jupyter/data/model_data/mini_data_set/time_20230816_140000.nc: Operation not supported\n",
      "getfattr: /home/jupyter/data/model_data/mini_data_set/time_20230802_120000.nc: Operation not supported\n",
      "getfattr: /home/jupyter/data/model_data/mini_data_set/time_20230806_160000.nc: Operation not supported\n"
     ]
    },
    {
     "name": "stdout",
     "output_type": "stream",
     "text": [
      "21/25 [========================>.....] - ETA: 3s - loss: 4.4661"
     ]
    },
    {
     "name": "stderr",
     "output_type": "stream",
     "text": [
      "getfattr: /home/jupyter/data/model_data/mini_data_set/time_20230807_070000.nc: Operation not supported\n",
      "getfattr: /home/jupyter/data/model_data/mini_data_set/time_20230804_090000.nc: Operation not supported\n",
      "getfattr: /home/jupyter/data/model_data/mini_data_set/time_20230811_140000.nc: Operation not supported\n",
      "getfattr: /home/jupyter/data/model_data/mini_data_set/time_20230807_180000.nc: Operation not supported\n"
     ]
    },
    {
     "name": "stdout",
     "output_type": "stream",
     "text": [
      "22/25 [=========================>....] - ETA: 2s - loss: 4.4130"
     ]
    },
    {
     "name": "stderr",
     "output_type": "stream",
     "text": [
      "getfattr: /home/jupyter/data/model_data/mini_data_set/time_20230805_170000.nc: Operation not supported\n",
      "getfattr: /home/jupyter/data/model_data/mini_data_set/time_20230804_150000.nc: Operation not supported\n",
      "getfattr: /home/jupyter/data/model_data/mini_data_set/time_20230804_120000.nc: Operation not supported\n",
      "getfattr: /home/jupyter/data/model_data/mini_data_set/time_20230816_110000.nc: Operation not supported\n"
     ]
    },
    {
     "name": "stdout",
     "output_type": "stream",
     "text": [
      "23/25 [==========================>...] - ETA: 1s - loss: 4.3376"
     ]
    },
    {
     "name": "stderr",
     "output_type": "stream",
     "text": [
      "getfattr: /home/jupyter/data/model_data/mini_data_set/time_20230812_150000.nc: Operation not supported\n",
      "getfattr: /home/jupyter/data/model_data/mini_data_set/time_20230802_150000.nc: Operation not supported\n",
      "getfattr: /home/jupyter/data/model_data/mini_data_set/time_20230812_140000.nc: Operation not supported\n",
      "getfattr: /home/jupyter/data/model_data/mini_data_set/time_20230809_160000.nc: Operation not supported\n"
     ]
    },
    {
     "name": "stdout",
     "output_type": "stream",
     "text": [
      "25/25 [==============================] - ETA: 0s - loss: 4.2578"
     ]
    },
    {
     "name": "stderr",
     "output_type": "stream",
     "text": [
      "getfattr: /home/jupyter/data/model_data/mini_data_set/time_20230807_160000.nc: Operation not supported\n",
      "getfattr: /home/jupyter/data/model_data/mini_data_set/time_20230804_130000.nc: Operation not supported\n",
      "getfattr: /home/jupyter/data/model_data/mini_data_set/time_20230809_070000.nc: Operation not supported\n",
      "getfattr: /home/jupyter/data/model_data/mini_data_set/time_20230805_160000.nc: Operation not supported\n",
      "getfattr: /home/jupyter/data/model_data/mini_data_set/time_20230811_090000.nc: Operation not supported\n",
      "getfattr: /home/jupyter/data/model_data/mini_data_set/time_20230806_150000.nc: Operation not supported\n",
      "getfattr: /home/jupyter/data/model_data/mini_data_set/time_20230802_100000.nc: Operation not supported\n",
      "getfattr: /home/jupyter/data/model_data/mini_data_set/time_20230812_120000.nc: Operation not supported\n",
      "getfattr: /home/jupyter/data/model_data/mini_data_set/time_20230808_170000.nc: Operation not supported\n",
      "getfattr: /home/jupyter/data/model_data/mini_data_set/time_20230811_170000.nc: Operation not supported\n",
      "getfattr: /home/jupyter/data/model_data/mini_data_set/time_20230806_080000.nc: Operation not supported\n",
      "getfattr: /home/jupyter/data/model_data/mini_data_set/time_20230806_170000.nc: Operation not supported\n",
      "getfattr: /home/jupyter/data/model_data/mini_data_set/time_20230809_130000.nc: Operation not supported\n",
      "getfattr: /home/jupyter/data/model_data/mini_data_set/time_20230806_100000.nc: Operation not supported\n",
      "getfattr: /home/jupyter/data/model_data/mini_data_set/time_20230815_120000.nc: Operation not supported\n",
      "getfattr: /home/jupyter/data/model_data/mini_data_set/time_20230804_070000.nc: Operation not supported\n",
      "getfattr: /home/jupyter/data/model_data/mini_data_set/time_20230808_180000.nc: Operation not supported\n",
      "getfattr: /home/jupyter/data/model_data/mini_data_set/time_20230816_160000.nc: Operation not supported\n",
      "getfattr: /home/jupyter/data/model_data/mini_data_set/time_20230812_160000.nc: Operation not supported\n",
      "getfattr: /home/jupyter/data/model_data/mini_data_set/time_20230806_070000.nc: Operation not supported\n",
      "getfattr: /home/jupyter/data/model_data/mini_data_set/time_20230804_170000.nc: Operation not supported\n",
      "getfattr: /home/jupyter/data/model_data/mini_data_set/time_20230811_070000.nc: Operation not supported\n",
      "getfattr: /home/jupyter/data/model_data/mini_data_set/time_20230805_080000.nc: Operation not supported\n",
      "getfattr: /home/jupyter/data/model_data/mini_data_set/time_20230807_110000.nc: Operation not supported\n",
      "getfattr: /home/jupyter/data/model_data/mini_data_set/time_20230806_140000.nc: Operation not supported\n",
      "getfattr: /home/jupyter/data/model_data/mini_data_set/time_20230811_080000.nc: Operation not supported\n",
      "getfattr: /home/jupyter/data/model_data/mini_data_set/time_20230816_090000.nc: Operation not supported\n",
      "getfattr: /home/jupyter/data/model_data/mini_data_set/time_20230808_160000.nc: Operation not supported\n",
      "getfattr: /home/jupyter/data/model_data/mini_data_set/time_20230816_150000.nc: Operation not supported\n",
      "getfattr: /home/jupyter/data/model_data/mini_data_set/time_20230807_130000.nc: Operation not supported\n",
      "getfattr: /home/jupyter/data/model_data/mini_data_set/time_20230815_170000.nc: Operation not supported\n",
      "getfattr: /home/jupyter/data/model_data/mini_data_set/time_20230811_110000.nc: Operation not supported\n",
      "getfattr: /home/jupyter/data/model_data/mini_data_set/time_20230809_140000.nc: Operation not supported\n",
      "getfattr: /home/jupyter/data/model_data/mini_data_set/time_20230809_080000.nc: Operation not supported\n",
      "getfattr: /home/jupyter/data/model_data/mini_data_set/time_20230811_180000.nc: Operation not supported\n",
      "getfattr: /home/jupyter/data/model_data/mini_data_set/time_20230812_070000.nc: Operation not supported\n",
      "getfattr: /home/jupyter/data/model_data/mini_data_set/time_20230815_180000.nc: Operation not supported\n",
      "getfattr: /home/jupyter/data/model_data/mini_data_set/time_20230807_150000.nc: Operation not supported\n",
      "getfattr: /home/jupyter/data/model_data/mini_data_set/time_20230804_100000.nc: Operation not supported\n",
      "getfattr: /home/jupyter/data/model_data/mini_data_set/time_20230807_170000.nc: Operation not supported\n",
      "getfattr: /home/jupyter/data/model_data/mini_data_set/time_20230812_150000.nc: Operation not supported\n",
      "getfattr: /home/jupyter/data/model_data/mini_data_set/time_20230802_150000.nc: Operation not supported\n",
      "getfattr: /home/jupyter/data/model_data/mini_data_set/time_20230812_140000.nc: Operation not supported\n",
      "getfattr: /home/jupyter/data/model_data/mini_data_set/time_20230809_160000.nc: Operation not supported\n",
      "getfattr: /home/jupyter/data/model_data/mini_data_set/time_20230802_130000.nc: Operation not supported\n",
      "getfattr: /home/jupyter/data/model_data/mini_data_set/time_20230808_140000.nc: Operation not supported\n",
      "getfattr: /home/jupyter/data/model_data/mini_data_set/time_20230809_090000.nc: Operation not supported\n",
      "getfattr: /home/jupyter/data/model_data/mini_data_set/time_20230806_110000.nc: Operation not supported\n",
      "getfattr: /home/jupyter/data/model_data/mini_data_set/time_20230807_090000.nc: Operation not supported\n",
      "getfattr: /home/jupyter/data/model_data/mini_data_set/time_20230805_100000.nc: Operation not supported\n",
      "getfattr: /home/jupyter/data/model_data/mini_data_set/time_20230816_100000.nc: Operation not supported\n",
      "getfattr: /home/jupyter/data/model_data/mini_data_set/time_20230812_080000.nc: Operation not supported\n",
      "getfattr: /home/jupyter/data/model_data/mini_data_set/time_20230812_180000.nc: Operation not supported\n",
      "getfattr: /home/jupyter/data/model_data/mini_data_set/time_20230812_130000.nc: Operation not supported\n",
      "getfattr: /home/jupyter/data/model_data/mini_data_set/time_20230802_110000.nc: Operation not supported\n",
      "getfattr: /home/jupyter/data/model_data/mini_data_set/time_20230809_100000.nc: Operation not supported\n",
      "getfattr: /home/jupyter/data/model_data/mini_data_set/time_20230802_140000.nc: Operation not supported\n",
      "getfattr: /home/jupyter/data/model_data/mini_data_set/time_20230808_150000.nc: Operation not supported\n",
      "getfattr: /home/jupyter/data/model_data/mini_data_set/time_20230811_150000.nc: Operation not supported\n",
      "getfattr: /home/jupyter/data/model_data/mini_data_set/time_20230809_180000.nc: Operation not supported\n",
      "getfattr: /home/jupyter/data/model_data/mini_data_set/time_20230806_120000.nc: Operation not supported\n",
      "getfattr: /home/jupyter/data/model_data/mini_data_set/time_20230804_080000.nc: Operation not supported\n",
      "getfattr: /home/jupyter/data/model_data/mini_data_set/time_20230807_140000.nc: Operation not supported\n",
      "getfattr: /home/jupyter/data/model_data/mini_data_set/time_20230804_160000.nc: Operation not supported\n",
      "getfattr: /home/jupyter/data/model_data/mini_data_set/time_20230807_070000.nc: Operation not supported\n",
      "getfattr: /home/jupyter/data/model_data/mini_data_set/time_20230804_090000.nc: Operation not supported\n",
      "getfattr: /home/jupyter/data/model_data/mini_data_set/time_20230811_140000.nc: Operation not supported\n",
      "getfattr: /home/jupyter/data/model_data/mini_data_set/time_20230807_180000.nc: Operation not supported\n",
      "getfattr: /home/jupyter/data/model_data/mini_data_set/time_20230805_070000.nc: Operation not supported\n",
      "getfattr: /home/jupyter/data/model_data/mini_data_set/time_20230804_180000.nc: Operation not supported\n",
      "getfattr: /home/jupyter/data/model_data/mini_data_set/time_20230805_090000.nc: Operation not supported\n",
      "getfattr: /home/jupyter/data/model_data/mini_data_set/time_20230811_100000.nc: Operation not supported\n",
      "getfattr: /home/jupyter/data/model_data/mini_data_set/time_20230811_130000.nc: Operation not supported\n",
      "getfattr: /home/jupyter/data/model_data/mini_data_set/time_20230805_120000.nc: Operation not supported\n",
      "getfattr: /home/jupyter/data/model_data/mini_data_set/time_20230809_110000.nc: Operation not supported\n",
      "getfattr: /home/jupyter/data/model_data/mini_data_set/time_20230805_180000.nc: Operation not supported\n",
      "getfattr: /home/jupyter/data/model_data/mini_data_set/time_20230809_150000.nc: Operation not supported\n",
      "getfattr: /home/jupyter/data/model_data/mini_data_set/time_20230816_140000.nc: Operation not supported\n",
      "getfattr: /home/jupyter/data/model_data/mini_data_set/time_20230802_120000.nc: Operation not supported\n",
      "getfattr: /home/jupyter/data/model_data/mini_data_set/time_20230806_160000.nc: Operation not supported\n",
      "getfattr: /home/jupyter/data/model_data/mini_data_set/time_20230805_170000.nc: Operation not supported\n",
      "getfattr: /home/jupyter/data/model_data/mini_data_set/time_20230804_150000.nc: Operation not supported\n",
      "getfattr: /home/jupyter/data/model_data/mini_data_set/time_20230804_120000.nc: Operation not supported\n",
      "getfattr: /home/jupyter/data/model_data/mini_data_set/time_20230816_110000.nc: Operation not supported\n",
      "getfattr: /home/jupyter/data/model_data/mini_data_set/time_20230806_180000.nc: Operation not supported\n",
      "getfattr: /home/jupyter/data/model_data/mini_data_set/time_20230805_140000.nc: Operation not supported\n",
      "getfattr: /home/jupyter/data/model_data/mini_data_set/time_20230811_160000.nc: Operation not supported\n",
      "getfattr: /home/jupyter/data/model_data/mini_data_set/time_20230807_100000.nc: Operation not supported\n",
      "getfattr: /home/jupyter/data/model_data/mini_data_set/time_20230804_140000.nc: Operation not supported\n",
      "getfattr: /home/jupyter/data/model_data/mini_data_set/time_20230809_170000.nc: Operation not supported\n",
      "getfattr: /home/jupyter/data/model_data/mini_data_set/time_20230816_080000.nc: Operation not supported\n",
      "getfattr: /home/jupyter/data/model_data/mini_data_set/time_20230816_040000.nc: Operation not supported\n",
      "getfattr: /home/jupyter/data/model_data/mini_data_set/time_20230815_150000.nc: Operation not supported\n",
      "getfattr: /home/jupyter/data/model_data/mini_data_set/time_20230805_110000.nc: Operation not supported\n",
      "getfattr: /home/jupyter/data/model_data/mini_data_set/time_20230807_080000.nc: Operation not supported\n",
      "getfattr: /home/jupyter/data/model_data/mini_data_set/time_20230812_170000.nc: Operation not supported\n",
      "getfattr: /home/jupyter/data/model_data/mini_data_set/time_20230816_070000.nc: Operation not supported\n",
      "getfattr: /home/jupyter/data/model_data/mini_data_set/time_20230815_160000.nc: Operation not supported\n",
      "getfattr: /home/jupyter/data/model_data/mini_data_set/time_20230806_090000.nc: Operation not supported\n",
      "getfattr: /home/jupyter/data/model_data/mini_data_set/time_20230805_150000.nc: Operation not supported\n"
     ]
    },
    {
     "name": "stdout",
     "output_type": "stream",
     "text": [
      "25/25 [==============================] - 42s 2s/step - loss: 4.2578 - val_loss: 23.5901\n"
     ]
    },
    {
     "name": "stderr",
     "output_type": "stream",
     "text": [
      "getfattr: /home/jupyter/data/model_data/mini_data_set/time_20230807_160000.nc: Operation not supported\n",
      "getfattr: /home/jupyter/data/model_data/mini_data_set/time_20230804_130000.nc: Operation not supported\n",
      "getfattr: /home/jupyter/data/model_data/mini_data_set/time_20230809_070000.nc: Operation not supported\n",
      "getfattr: /home/jupyter/data/model_data/mini_data_set/time_20230805_160000.nc: Operation not supported\n"
     ]
    },
    {
     "name": "stdout",
     "output_type": "stream",
     "text": [
      "1/1 [==============================] - 0s 189ms/step\n"
     ]
    },
    {
     "name": "stderr",
     "output_type": "stream",
     "text": [
      "getfattr: /home/jupyter/data/model_data/mini_data_set/time_20230811_090000.nc: Operation not supported\n",
      "getfattr: /home/jupyter/data/model_data/mini_data_set/time_20230806_150000.nc: Operation not supported\n",
      "getfattr: /home/jupyter/data/model_data/mini_data_set/time_20230802_100000.nc: Operation not supported\n",
      "getfattr: /home/jupyter/data/model_data/mini_data_set/time_20230812_120000.nc: Operation not supported\n"
     ]
    },
    {
     "name": "stdout",
     "output_type": "stream",
     "text": [
      "1/1 [==============================] - 0s 148ms/step\n"
     ]
    },
    {
     "name": "stderr",
     "output_type": "stream",
     "text": [
      "getfattr: /home/jupyter/data/model_data/mini_data_set/time_20230808_170000.nc: Operation not supported\n",
      "getfattr: /home/jupyter/data/model_data/mini_data_set/time_20230811_170000.nc: Operation not supported\n",
      "getfattr: /home/jupyter/data/model_data/mini_data_set/time_20230806_080000.nc: Operation not supported\n",
      "getfattr: /home/jupyter/data/model_data/mini_data_set/time_20230806_170000.nc: Operation not supported\n"
     ]
    },
    {
     "name": "stdout",
     "output_type": "stream",
     "text": [
      "1/1 [==============================] - 0s 150ms/step\n"
     ]
    },
    {
     "name": "stderr",
     "output_type": "stream",
     "text": [
      "getfattr: /home/jupyter/data/model_data/mini_data_set/time_20230809_130000.nc: Operation not supported\n",
      "getfattr: /home/jupyter/data/model_data/mini_data_set/time_20230806_100000.nc: Operation not supported\n",
      "getfattr: /home/jupyter/data/model_data/mini_data_set/time_20230815_120000.nc: Operation not supported\n",
      "getfattr: /home/jupyter/data/model_data/mini_data_set/time_20230804_070000.nc: Operation not supported\n"
     ]
    },
    {
     "name": "stdout",
     "output_type": "stream",
     "text": [
      "1/1 [==============================] - 0s 147ms/step\n"
     ]
    },
    {
     "name": "stderr",
     "output_type": "stream",
     "text": [
      "getfattr: /home/jupyter/data/model_data/mini_data_set/time_20230808_180000.nc: Operation not supported\n",
      "getfattr: /home/jupyter/data/model_data/mini_data_set/time_20230816_160000.nc: Operation not supported\n",
      "getfattr: /home/jupyter/data/model_data/mini_data_set/time_20230812_160000.nc: Operation not supported\n",
      "getfattr: /home/jupyter/data/model_data/mini_data_set/time_20230806_070000.nc: Operation not supported\n"
     ]
    },
    {
     "name": "stdout",
     "output_type": "stream",
     "text": [
      "1/1 [==============================] - 0s 149ms/step\n"
     ]
    },
    {
     "name": "stderr",
     "output_type": "stream",
     "text": [
      "getfattr: /home/jupyter/data/model_data/mini_data_set/time_20230804_170000.nc: Operation not supported\n",
      "getfattr: /home/jupyter/data/model_data/mini_data_set/time_20230811_070000.nc: Operation not supported\n",
      "getfattr: /home/jupyter/data/model_data/mini_data_set/time_20230805_080000.nc: Operation not supported\n",
      "getfattr: /home/jupyter/data/model_data/mini_data_set/time_20230807_110000.nc: Operation not supported\n"
     ]
    },
    {
     "name": "stdout",
     "output_type": "stream",
     "text": [
      "1/1 [==============================] - 0s 150ms/step\n"
     ]
    },
    {
     "name": "stderr",
     "output_type": "stream",
     "text": [
      "getfattr: /home/jupyter/data/model_data/mini_data_set/time_20230806_140000.nc: Operation not supported\n",
      "getfattr: /home/jupyter/data/model_data/mini_data_set/time_20230811_080000.nc: Operation not supported\n",
      "getfattr: /home/jupyter/data/model_data/mini_data_set/time_20230816_090000.nc: Operation not supported\n",
      "getfattr: /home/jupyter/data/model_data/mini_data_set/time_20230808_160000.nc: Operation not supported\n"
     ]
    },
    {
     "name": "stdout",
     "output_type": "stream",
     "text": [
      "1/1 [==============================] - 0s 149ms/step\n"
     ]
    },
    {
     "name": "stderr",
     "output_type": "stream",
     "text": [
      "getfattr: /home/jupyter/data/model_data/mini_data_set/time_20230816_150000.nc: Operation not supported\n",
      "getfattr: /home/jupyter/data/model_data/mini_data_set/time_20230807_130000.nc: Operation not supported\n",
      "getfattr: /home/jupyter/data/model_data/mini_data_set/time_20230815_170000.nc: Operation not supported\n",
      "getfattr: /home/jupyter/data/model_data/mini_data_set/time_20230811_110000.nc: Operation not supported\n"
     ]
    },
    {
     "name": "stdout",
     "output_type": "stream",
     "text": [
      "1/1 [==============================] - 0s 150ms/step\n"
     ]
    },
    {
     "name": "stderr",
     "output_type": "stream",
     "text": [
      "getfattr: /home/jupyter/data/model_data/mini_data_set/time_20230809_140000.nc: Operation not supported\n",
      "getfattr: /home/jupyter/data/model_data/mini_data_set/time_20230809_080000.nc: Operation not supported\n",
      "getfattr: /home/jupyter/data/model_data/mini_data_set/time_20230811_180000.nc: Operation not supported\n",
      "getfattr: /home/jupyter/data/model_data/mini_data_set/time_20230812_070000.nc: Operation not supported\n"
     ]
    },
    {
     "name": "stdout",
     "output_type": "stream",
     "text": [
      "1/1 [==============================] - 0s 150ms/step\n"
     ]
    },
    {
     "name": "stderr",
     "output_type": "stream",
     "text": [
      "getfattr: /home/jupyter/data/model_data/mini_data_set/time_20230815_180000.nc: Operation not supported\n",
      "getfattr: /home/jupyter/data/model_data/mini_data_set/time_20230807_150000.nc: Operation not supported\n",
      "getfattr: /home/jupyter/data/model_data/mini_data_set/time_20230804_100000.nc: Operation not supported\n",
      "getfattr: /home/jupyter/data/model_data/mini_data_set/time_20230807_170000.nc: Operation not supported\n"
     ]
    },
    {
     "name": "stdout",
     "output_type": "stream",
     "text": [
      "1/1 [==============================] - 0s 150ms/step\n"
     ]
    },
    {
     "name": "stderr",
     "output_type": "stream",
     "text": [
      "getfattr: /home/jupyter/data/model_data/mini_data_set/time_20230812_150000.nc: Operation not supported\n",
      "getfattr: /home/jupyter/data/model_data/mini_data_set/time_20230802_150000.nc: Operation not supported\n",
      "getfattr: /home/jupyter/data/model_data/mini_data_set/time_20230812_140000.nc: Operation not supported\n",
      "getfattr: /home/jupyter/data/model_data/mini_data_set/time_20230809_160000.nc: Operation not supported\n"
     ]
    },
    {
     "name": "stdout",
     "output_type": "stream",
     "text": [
      "1/1 [==============================] - 0s 149ms/step\n"
     ]
    },
    {
     "name": "stderr",
     "output_type": "stream",
     "text": [
      "getfattr: /home/jupyter/data/model_data/mini_data_set/time_20230802_130000.nc: Operation not supported\n",
      "getfattr: /home/jupyter/data/model_data/mini_data_set/time_20230808_140000.nc: Operation not supported\n",
      "getfattr: /home/jupyter/data/model_data/mini_data_set/time_20230809_090000.nc: Operation not supported\n",
      "getfattr: /home/jupyter/data/model_data/mini_data_set/time_20230806_110000.nc: Operation not supported\n"
     ]
    },
    {
     "name": "stdout",
     "output_type": "stream",
     "text": [
      "1/1 [==============================] - 0s 149ms/step\n"
     ]
    },
    {
     "name": "stderr",
     "output_type": "stream",
     "text": [
      "getfattr: /home/jupyter/data/model_data/mini_data_set/time_20230807_090000.nc: Operation not supported\n",
      "getfattr: /home/jupyter/data/model_data/mini_data_set/time_20230805_100000.nc: Operation not supported\n",
      "getfattr: /home/jupyter/data/model_data/mini_data_set/time_20230816_100000.nc: Operation not supported\n",
      "getfattr: /home/jupyter/data/model_data/mini_data_set/time_20230812_080000.nc: Operation not supported\n"
     ]
    },
    {
     "name": "stdout",
     "output_type": "stream",
     "text": [
      "1/1 [==============================] - 0s 149ms/step\n"
     ]
    },
    {
     "name": "stderr",
     "output_type": "stream",
     "text": [
      "getfattr: /home/jupyter/data/model_data/mini_data_set/time_20230812_180000.nc: Operation not supported\n",
      "getfattr: /home/jupyter/data/model_data/mini_data_set/time_20230812_130000.nc: Operation not supported\n",
      "getfattr: /home/jupyter/data/model_data/mini_data_set/time_20230802_110000.nc: Operation not supported\n",
      "getfattr: /home/jupyter/data/model_data/mini_data_set/time_20230809_100000.nc: Operation not supported\n"
     ]
    },
    {
     "name": "stdout",
     "output_type": "stream",
     "text": [
      "1/1 [==============================] - 0s 148ms/step\n"
     ]
    },
    {
     "name": "stderr",
     "output_type": "stream",
     "text": [
      "getfattr: /home/jupyter/data/model_data/mini_data_set/time_20230802_140000.nc: Operation not supported\n",
      "getfattr: /home/jupyter/data/model_data/mini_data_set/time_20230808_150000.nc: Operation not supported\n",
      "getfattr: /home/jupyter/data/model_data/mini_data_set/time_20230811_150000.nc: Operation not supported\n",
      "getfattr: /home/jupyter/data/model_data/mini_data_set/time_20230809_180000.nc: Operation not supported\n"
     ]
    },
    {
     "name": "stdout",
     "output_type": "stream",
     "text": [
      "1/1 [==============================] - 0s 148ms/step\n"
     ]
    },
    {
     "name": "stderr",
     "output_type": "stream",
     "text": [
      "getfattr: /home/jupyter/data/model_data/mini_data_set/time_20230806_120000.nc: Operation not supported\n",
      "getfattr: /home/jupyter/data/model_data/mini_data_set/time_20230804_080000.nc: Operation not supported\n",
      "getfattr: /home/jupyter/data/model_data/mini_data_set/time_20230807_140000.nc: Operation not supported\n",
      "getfattr: /home/jupyter/data/model_data/mini_data_set/time_20230804_160000.nc: Operation not supported\n"
     ]
    },
    {
     "name": "stdout",
     "output_type": "stream",
     "text": [
      "1/1 [==============================] - 0s 149ms/step\n"
     ]
    },
    {
     "name": "stderr",
     "output_type": "stream",
     "text": [
      "getfattr: /home/jupyter/data/model_data/mini_data_set/time_20230807_070000.nc: Operation not supported\n",
      "getfattr: /home/jupyter/data/model_data/mini_data_set/time_20230804_090000.nc: Operation not supported\n",
      "getfattr: /home/jupyter/data/model_data/mini_data_set/time_20230811_140000.nc: Operation not supported\n",
      "getfattr: /home/jupyter/data/model_data/mini_data_set/time_20230807_180000.nc: Operation not supported\n"
     ]
    },
    {
     "name": "stdout",
     "output_type": "stream",
     "text": [
      "1/1 [==============================] - 0s 149ms/step\n"
     ]
    },
    {
     "name": "stderr",
     "output_type": "stream",
     "text": [
      "getfattr: /home/jupyter/data/model_data/mini_data_set/time_20230805_070000.nc: Operation not supported\n",
      "getfattr: /home/jupyter/data/model_data/mini_data_set/time_20230804_180000.nc: Operation not supported\n",
      "getfattr: /home/jupyter/data/model_data/mini_data_set/time_20230805_090000.nc: Operation not supported\n",
      "getfattr: /home/jupyter/data/model_data/mini_data_set/time_20230811_100000.nc: Operation not supported\n"
     ]
    },
    {
     "name": "stdout",
     "output_type": "stream",
     "text": [
      "1/1 [==============================] - 0s 151ms/step\n"
     ]
    },
    {
     "name": "stderr",
     "output_type": "stream",
     "text": [
      "getfattr: /home/jupyter/data/model_data/mini_data_set/time_20230811_130000.nc: Operation not supported\n",
      "getfattr: /home/jupyter/data/model_data/mini_data_set/time_20230805_120000.nc: Operation not supported\n",
      "getfattr: /home/jupyter/data/model_data/mini_data_set/time_20230809_110000.nc: Operation not supported\n",
      "getfattr: /home/jupyter/data/model_data/mini_data_set/time_20230805_180000.nc: Operation not supported\n"
     ]
    },
    {
     "name": "stdout",
     "output_type": "stream",
     "text": [
      "1/1 [==============================] - 0s 151ms/step\n"
     ]
    },
    {
     "name": "stderr",
     "output_type": "stream",
     "text": [
      "getfattr: /home/jupyter/data/model_data/mini_data_set/time_20230809_150000.nc: Operation not supported\n",
      "getfattr: /home/jupyter/data/model_data/mini_data_set/time_20230816_140000.nc: Operation not supported\n",
      "getfattr: /home/jupyter/data/model_data/mini_data_set/time_20230802_120000.nc: Operation not supported\n",
      "getfattr: /home/jupyter/data/model_data/mini_data_set/time_20230806_160000.nc: Operation not supported\n"
     ]
    },
    {
     "name": "stdout",
     "output_type": "stream",
     "text": [
      "1/1 [==============================] - 0s 150ms/step\n"
     ]
    },
    {
     "name": "stderr",
     "output_type": "stream",
     "text": [
      "getfattr: /home/jupyter/data/model_data/mini_data_set/time_20230805_170000.nc: Operation not supported\n",
      "getfattr: /home/jupyter/data/model_data/mini_data_set/time_20230804_150000.nc: Operation not supported\n",
      "getfattr: /home/jupyter/data/model_data/mini_data_set/time_20230804_120000.nc: Operation not supported\n",
      "getfattr: /home/jupyter/data/model_data/mini_data_set/time_20230816_110000.nc: Operation not supported\n"
     ]
    },
    {
     "name": "stdout",
     "output_type": "stream",
     "text": [
      "1/1 [==============================] - 0s 150ms/step\n"
     ]
    },
    {
     "name": "stderr",
     "output_type": "stream",
     "text": [
      "getfattr: /home/jupyter/data/model_data/mini_data_set/time_20230806_180000.nc: Operation not supported\n",
      "getfattr: /home/jupyter/data/model_data/mini_data_set/time_20230805_140000.nc: Operation not supported\n",
      "getfattr: /home/jupyter/data/model_data/mini_data_set/time_20230811_160000.nc: Operation not supported\n",
      "getfattr: /home/jupyter/data/model_data/mini_data_set/time_20230807_100000.nc: Operation not supported\n"
     ]
    },
    {
     "name": "stdout",
     "output_type": "stream",
     "text": [
      "1/1 [==============================] - 0s 149ms/step\n"
     ]
    },
    {
     "name": "stderr",
     "output_type": "stream",
     "text": [
      "getfattr: /home/jupyter/data/model_data/mini_data_set/time_20230804_140000.nc: Operation not supported\n",
      "getfattr: /home/jupyter/data/model_data/mini_data_set/time_20230809_170000.nc: Operation not supported\n",
      "getfattr: /home/jupyter/data/model_data/mini_data_set/time_20230816_080000.nc: Operation not supported\n",
      "getfattr: /home/jupyter/data/model_data/mini_data_set/time_20230816_040000.nc: Operation not supported\n"
     ]
    },
    {
     "name": "stdout",
     "output_type": "stream",
     "text": [
      "1/1 [==============================] - 0s 149ms/step\n"
     ]
    },
    {
     "name": "stderr",
     "output_type": "stream",
     "text": [
      "getfattr: /home/jupyter/data/model_data/mini_data_set/time_20230815_150000.nc: Operation not supported\n",
      "getfattr: /home/jupyter/data/model_data/mini_data_set/time_20230805_110000.nc: Operation not supported\n",
      "getfattr: /home/jupyter/data/model_data/mini_data_set/time_20230807_080000.nc: Operation not supported\n",
      "getfattr: /home/jupyter/data/model_data/mini_data_set/time_20230812_170000.nc: Operation not supported\n"
     ]
    },
    {
     "name": "stdout",
     "output_type": "stream",
     "text": [
      "1/1 [==============================] - 0s 148ms/step\n"
     ]
    },
    {
     "name": "stderr",
     "output_type": "stream",
     "text": [
      "getfattr: /home/jupyter/data/model_data/mini_data_set/time_20230816_070000.nc: Operation not supported\n",
      "getfattr: /home/jupyter/data/model_data/mini_data_set/time_20230815_160000.nc: Operation not supported\n",
      "getfattr: /home/jupyter/data/model_data/mini_data_set/time_20230806_090000.nc: Operation not supported\n",
      "getfattr: /home/jupyter/data/model_data/mini_data_set/time_20230805_150000.nc: Operation not supported\n"
     ]
    },
    {
     "name": "stdout",
     "output_type": "stream",
     "text": [
      "1/1 [==============================] - 0s 150ms/step\n"
     ]
    }
   ],
   "source": [
    "class ncDataLoader(keras.utils.Sequence):\n",
    "    \"\"\"Helper to iterate over the data (as Numpy arrays).\"\"\"\n",
    "\n",
    "    def __init__(self, batch_size, img_size, img_paths, drop_sensor_locs_df):\n",
    "        self.batch_size = batch_size\n",
    "        self.img_size = img_size\n",
    "        self.img_paths = img_paths\n",
    "        self.drop_sensor_locs_df = drop_sensor_locs_df\n",
    "\n",
    "    def __len__(self):\n",
    "        return len(self.img_paths) // self.batch_size\n",
    "\n",
    "    def __getitem__(self, idx):\n",
    "        \"\"\"Returns tuple (input, target) correspond to batch #idx.\"\"\"\n",
    "        i = idx * self.batch_size\n",
    "        batch_input_img_paths = self.img_paths[i : i + self.batch_size]\n",
    "\n",
    "        x = np.zeros((self.batch_size,) + self.img_size + (22,), dtype=\"float32\")\n",
    "        y = np.zeros((self.batch_size,) + self.img_size + (1,), dtype=\"float32\")\n",
    "\n",
    "        for j, path in enumerate(batch_input_img_paths):\n",
    "            # print(path)\n",
    "            ds = xr.open_dataset(path, engine='netcdf4')\n",
    "            input_ds = ds.copy()\n",
    "            input_ds = input_ds.drop_vars(\"y_sensor_no2\")\n",
    "            input_array = input_ds.to_array().values\n",
    "            x[j] = np.transpose(input_array, (1, 2, 0))\n",
    "            \n",
    "            target_ds = ds['y_sensor_no2']\n",
    "            \n",
    "            # Loop over rows to mask each (lat, lon) pair\n",
    "            for _, row in self.drop_sensor_locs_df.iterrows():\n",
    "                target_ds.loc[dict(lat=row['lat'], lon=row['lon'])] = np.nan\n",
    "            \n",
    "            target_ds = target_ds.values\n",
    "            # target_ds = np.where(np.isnan(target_ds), -999, target_ds)\n",
    "            y[j, :, :, 0] = target_ds\n",
    " \n",
    "        return x, y\n",
    "\n",
    "\n",
    "\n",
    "def build_model(\n",
    "    input_shape=(479, 1059, 22),\n",
    "    kernel_sizes=[3, 3],\n",
    "    filters=32,\n",
    "    activation='relu',\n",
    "    use_maxpool=False,\n",
    "    pool_size=(2, 2),\n",
    "    upsample_method=\"nearest\"  # can be \"nearest\" or \"bilinear\"\n",
    "    ):\n",
    "    \"\"\"\n",
    "    Build a model with variable kernel sizes and activation,\n",
    "    optionally adding MaxPooling + Upsampling pairs to preserve resolution.\n",
    "\n",
    "    Args:\n",
    "        input_shape (tuple): Input shape (H, W, C).\n",
    "        kernel_sizes (list of int): List of kernel sizes per conv layer.\n",
    "        filters (int): Number of filters per conv layer.\n",
    "        activation (str): Activation function to use in conv layers.\n",
    "        use_maxpool (bool): Whether to add MaxPooling2D + UpSampling2D.\n",
    "        pool_size (tuple): Pool size for MaxPooling2D.\n",
    "        upsample_method (str): Method for UpSampling2D (\"nearest\", \"bilinear\").\n",
    "\n",
    "    Returns:\n",
    "        Keras Model\n",
    "    \"\"\"\n",
    "    inputs = Input(shape=input_shape)\n",
    "    x = inputs  # no BatchNormalization\n",
    "\n",
    "    for k in kernel_sizes:\n",
    "        x = layers.Conv2D(filters, (k, k), padding='same')(x)\n",
    "        x = layers.Activation(activation)(x)\n",
    "\n",
    "        if use_maxpool:\n",
    "            # Downsample\n",
    "            x = layers.MaxPooling2D(pool_size=pool_size)(x)\n",
    "            # Immediately upsample back\n",
    "            x = layers.UpSampling2D(size=pool_size, interpolation=upsample_method)(x)\n",
    "\n",
    "    outputs = layers.Conv2D(\n",
    "        1,\n",
    "        (kernel_sizes[-1], kernel_sizes[-1]),\n",
    "        activation='linear',\n",
    "        padding='same'\n",
    "    )(x)\n",
    "\n",
    "    model = models.Model(inputs=inputs, outputs=outputs)\n",
    "    return model\n",
    "\n",
    "def masked_mse(y_true, y_pred):\n",
    "    # Create mask: True where y_true is not NaN\n",
    "    mask = tf.math.logical_not(tf.math.is_nan(y_true))\n",
    "    # tf.print(\"Valid pixels:\", tf.reduce_sum(tf.cast(mask, tf.int32)))\n",
    "\n",
    "    # Apply mask to both y_true and y_pred\n",
    "    y_true_masked = tf.boolean_mask(y_true, mask)\n",
    "    y_pred_masked = tf.boolean_mask(y_pred, mask)\n",
    "    \n",
    "    # Compute MSE only on valid values\n",
    "    diff_squared = tf.square(y_true_masked - y_pred_masked)\n",
    "    \n",
    "    # Avoid division by zero\n",
    "    denom = tf.cast(tf.size(diff_squared), tf.float32)\n",
    "    denom = tf.maximum(denom, 1e-6)\n",
    "\n",
    "    return tf.reduce_sum(diff_squared) / denom\n",
    "\n",
    "################################################\n",
    "##      Cross Validation and Save Results     ##\n",
    "################################################\n",
    "\n",
    "# Parameters\n",
    "batch_size = 4\n",
    "img_size = (479, 1059)\n",
    "img_paths = full_paths\n",
    "kernel_sizes_param = [3, 5, 3]\n",
    "CNN_filters_param = 64\n",
    "activation_param = 'relu'\n",
    "epochs_param = 4\n",
    "\n",
    "cv_results = []\n",
    "\n",
    "for cv_group in range(1, 6):  # cv_group 1 to 5\n",
    "    print(f\"Running CV group {cv_group}/5\")\n",
    "    \n",
    "    drop_locs_train_set = sensor_df[sensor_df['cv_group'] == f'{cv_group}'][['lat', 'lon']]\n",
    "    drop_locs_val_set = sensor_df[\n",
    "        ~sensor_df['cv_group'].isin([f'{cv_group}','test'])\n",
    "    ][['lat', 'lon']]\n",
    "\n",
    "    train_loader = ncDataLoader(\n",
    "        batch_size=batch_size,\n",
    "        img_size=img_size,\n",
    "        img_paths=full_paths,\n",
    "        drop_sensor_locs_df=drop_locs_train_set\n",
    "    )\n",
    "\n",
    "    val_loader = ncDataLoader(\n",
    "        batch_size=batch_size,\n",
    "        img_size=img_size,\n",
    "        img_paths=full_paths,\n",
    "        drop_sensor_locs_df=drop_locs_val_set\n",
    "    )\n",
    "\n",
    "    with tf.device('/GPU:0'):\n",
    "        # Reset model for each fold\n",
    "        model = build_model(input_shape=(479, 1059, 22), kernel_sizes=kernel_sizes_param, filters=CNN_filters_param, activation=activation_param)\n",
    "        model.compile(optimizer='adam', loss=masked_mse)\n",
    "\n",
    "        model.fit(\n",
    "            train_loader,\n",
    "            validation_data=val_loader,\n",
    "            epochs=epochs_param,\n",
    "            verbose=1\n",
    "        )\n",
    "\n",
    "    # Predict and collect results\n",
    "    for i, (batch_x, batch_y_true) in enumerate(val_loader):\n",
    "        batch_y_pred = model.predict(batch_x)\n",
    "\n",
    "        for j in range(len(batch_y_true)):\n",
    "            y_true = batch_y_true[j]\n",
    "            y_pred = batch_y_pred[j]\n",
    "\n",
    "            mask = ~np.isnan(y_true)\n",
    "            rows, cols, _ = np.where(mask)\n",
    "\n",
    "            true_vals = y_true[rows, cols]\n",
    "            pred_vals = y_pred[rows, cols]\n",
    "\n",
    "            # Optional: use corresponding file name for traceability\n",
    "            file_idx = i * batch_size + j\n",
    "            file_name = os.path.basename(full_paths[file_idx]) if file_idx < len(full_paths) else None\n",
    "\n",
    "            for r, c, t, p in zip(rows, cols, true_vals, pred_vals):\n",
    "                cv_results.append({\n",
    "                    'cv_group': cv_group,\n",
    "                    'file': file_name,\n",
    "                    'row': r,\n",
    "                    'col': c,\n",
    "                    'true': t[0],\n",
    "                    'predicted': p[0],\n",
    "                    'lat': round(r * 0.01 + 28.605, 3),\n",
    "                    'lon': round(c * 0.01 - 98.895, 3)\n",
    "                })\n",
    "\n",
    "df_cv = pd.DataFrame(cv_results)"
   ]
  },
  {
   "cell_type": "code",
   "execution_count": 4,
   "id": "9b5279be-aefc-4de4-91a1-1267a06e89cd",
   "metadata": {
    "tags": []
   },
   "outputs": [],
   "source": [
    "df_cv.to_csv('test_model_results_new.csv')"
   ]
  },
  {
   "cell_type": "code",
   "execution_count": 5,
   "id": "172ceb32-2fa2-478e-b96b-d93bc4cae421",
   "metadata": {
    "tags": []
   },
   "outputs": [
    {
     "name": "stdout",
     "output_type": "stream",
     "text": [
      "Elapsed time: 1341.08 seconds\n"
     ]
    }
   ],
   "source": [
    "end = time.time()\n",
    "print(f\"Elapsed time: {end - start:.2f} seconds\")"
   ]
  }
 ],
 "metadata": {
  "environment": {
   "kernel": "ds_env",
   "name": "workbench-notebooks.m125",
   "type": "gcloud",
   "uri": "us-docker.pkg.dev/deeplearning-platform-release/gcr.io/workbench-notebooks:m125"
  },
  "kernelspec": {
   "display_name": "Python (ds_env) (Local)",
   "language": "python",
   "name": "ds_env"
  },
  "language_info": {
   "codemirror_mode": {
    "name": "ipython",
    "version": 3
   },
   "file_extension": ".py",
   "mimetype": "text/x-python",
   "name": "python",
   "nbconvert_exporter": "python",
   "pygments_lexer": "ipython3",
   "version": "3.11.10"
  }
 },
 "nbformat": 4,
 "nbformat_minor": 5
}
