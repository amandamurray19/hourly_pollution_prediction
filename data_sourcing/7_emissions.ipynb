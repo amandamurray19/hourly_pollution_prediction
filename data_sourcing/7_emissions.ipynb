{
 "cells": [
  {
   "cell_type": "code",
   "execution_count": 3,
   "id": "ea5c0f4a-a231-4a76-8478-edb43095f49e",
   "metadata": {
    "tags": []
   },
   "outputs": [],
   "source": [
    "import pandas as pd\n",
    "import geopandas as gpd\n",
    "from shapely.geometry import Point\n",
    "# !pip install bbox\n",
    "from bbox import *\n",
    "from pytz import timezone\n",
    "import xarray as xr\n",
    "# import gcsfs\n",
    "import os\n",
    "from shapely.wkt import loads\n",
    "import numpy as np\n",
    "import xarray as xr\n",
    "import gc\n",
    "import re\n",
    "import requests\n",
    "import json\n",
    "import sys\n",
    "from google.cloud import storage\n",
    "from io import StringIO\n",
    "from IPython.display import clear_output\n",
    "import random\n",
    "import matplotlib.pyplot as plt\n",
    "import seaborn as sns"
   ]
  },
  {
   "cell_type": "code",
   "execution_count": 4,
   "id": "509bc68d-de80-450d-bc6b-93ce16c8de21",
   "metadata": {
    "tags": []
   },
   "outputs": [],
   "source": [
    "no2_hours = pd.read_csv(\"../../data/tempo_data/no2_file_hours.csv\")\n",
    "no2_hours=list(no2_hours['time_hr_ct'])\n",
    "time_list = pd.to_datetime(no2_hours)"
   ]
  },
  {
   "cell_type": "code",
   "execution_count": 5,
   "id": "a0f8a9c7-0c15-47d7-a454-4daeb6e55422",
   "metadata": {
    "tags": []
   },
   "outputs": [],
   "source": [
    "# Extract month, day, and hour\n",
    "month_day_hour = time_list.strftime(\"%m-%d-%H\")\n",
    "month_day_hour_list = month_day_hour.tolist()"
   ]
  },
  {
   "cell_type": "code",
   "execution_count": 6,
   "id": "debf5955-7030-4af6-94db-7007a8644f5d",
   "metadata": {
    "tags": []
   },
   "outputs": [],
   "source": [
    "def clean_column_names(df):\n",
    "    # Convert column names to lowercase\n",
    "    df.columns = [col.strip().lower() for col in df.columns]\n",
    "\n",
    "    # Replace spaces with underscores\n",
    "    df.columns = [col.replace(\" \", \"_\") for col in df.columns]\n",
    "\n",
    "    # Remove any non-alphanumeric characters (except underscores)\n",
    "    df.columns = [re.sub(r'[^a-z0-9_]', '', col) for col in df.columns]\n",
    "\n",
    "    return df"
   ]
  },
  {
   "cell_type": "code",
   "execution_count": 7,
   "id": "b7d45fd6-fbda-4d60-8aa2-ffbd6de176f5",
   "metadata": {
    "tags": []
   },
   "outputs": [
    {
     "name": "stderr",
     "output_type": "stream",
     "text": [
      "/var/tmp/ipykernel_26745/478929260.py:2: DtypeWarning: Columns (3,25,27,28,29,30) have mixed types. Specify dtype option on import or set low_memory=False.\n",
      "  la = pd.read_csv(\"../../data/facility_data/raw/emissions-hourly-2023-la.csv\")\n",
      "/var/tmp/ipykernel_26745/478929260.py:3: DtypeWarning: Columns (3,4,11,13,15,17,19,25,27,28,29,30) have mixed types. Specify dtype option on import or set low_memory=False.\n",
      "  tx = pd.read_csv(\"../../data/facility_data/raw/emissions-hourly-2023-tx.csv\")\n",
      "/var/tmp/ipykernel_26745/478929260.py:4: DtypeWarning: Columns (7,18) have mixed types. Specify dtype option on import or set low_memory=False.\n",
      "  gridded_csv = pd.read_csv(\"../../data/facility_data/gridded_combined.csv\")\n"
     ]
    }
   ],
   "source": [
    "facility = pd.read_csv(\"../../data/facility_data/facility_map.csv\")\n",
    "la = pd.read_csv(\"../../data/facility_data/raw/emissions-hourly-2023-la.csv\")\n",
    "tx = pd.read_csv(\"../../data/facility_data/raw/emissions-hourly-2023-tx.csv\")\n",
    "gridded_csv = pd.read_csv(\"../../data/facility_data/gridded_combined.csv\")\n",
    "\n",
    "facility = clean_column_names(facility)\n",
    "la = clean_column_names(la)\n",
    "tx = clean_column_names(tx)\n",
    "\n",
    "columns_to_remove = [\n",
    "    # 'so2_mass_lbs',\n",
    "    'so2_mass_measure_indicator',\n",
    "    'so2_rate_lbsmmbtu',\n",
    "    'so2_rate_measure_indicator',\n",
    "    # 'co2_mass_short_tons',\n",
    "    'co2_mass_measure_indicator',\n",
    "    'co2_rate_short_tonsmmbtu',\n",
    "    'co2_rate_measure_indicator'\n",
    "    ,'so2_controls'\n",
    "    ,'pm_controls'\n",
    "    ,'hg_controls'\n",
    "]\n",
    "la = la.drop(columns=columns_to_remove,errors='ignore')\n",
    "tx = tx.drop(columns=columns_to_remove,errors='ignore')\n"
   ]
  },
  {
   "cell_type": "code",
   "execution_count": 8,
   "id": "4f305593-6da6-42e2-a8f9-1b5502f02a03",
   "metadata": {
    "tags": []
   },
   "outputs": [
    {
     "name": "stderr",
     "output_type": "stream",
     "text": [
      "/var/tmp/ipykernel_26745/2811570733.py:31: UserWarning: Geometry is in a geographic CRS. Results from 'centroid' are likely incorrect. Use 'GeoSeries.to_crs()' to re-project geometries to a projected CRS before this operation.\n",
      "\n",
      "  grid_gdf[\"lat\"] = grid_gdf.geometry.centroid.y\n",
      "/var/tmp/ipykernel_26745/2811570733.py:32: UserWarning: Geometry is in a geographic CRS. Results from 'centroid' are likely incorrect. Use 'GeoSeries.to_crs()' to re-project geometries to a projected CRS before this operation.\n",
      "\n",
      "  grid_gdf[\"lon\"] = grid_gdf.geometry.centroid.x\n",
      "/var/tmp/ipykernel_26745/2811570733.py:89: SettingWithCopyWarning: \n",
      "A value is trying to be set on a copy of a slice from a DataFrame.\n",
      "Try using .loc[row_indexer,col_indexer] = value instead\n",
      "\n",
      "See the caveats in the documentation: https://pandas.pydata.org/pandas-docs/stable/user_guide/indexing.html#returning-a-view-versus-a-copy\n",
      "  leap_year['month_day_hour'] = '02-29' + emissions['month_day_hour'].str[5:]\n"
     ]
    }
   ],
   "source": [
    "emissions = pd.concat([la, tx], ignore_index=True)\n",
    "\n",
    "emissions['date'] = pd.to_datetime(emissions['date'])\n",
    "emissions['timestamp'] = emissions['date'] + pd.to_timedelta(emissions['hour'], unit='h')\n",
    "# Make sure 'timestamp' is in datetime format\n",
    "emissions['timestamp'] = pd.to_datetime(emissions['timestamp'])\n",
    "\n",
    "gdf = gpd.GeoDataFrame(\n",
    "    facility,\n",
    "    geometry=[Point(xy) for xy in zip(facility[\"longitude\"], facility[\"latitude\"])],\n",
    "    crs=\"EPSG:4326\"  # WGS84 coordinate reference system\n",
    ")\n",
    "gdf=gdf[['latitude','longitude','geometry']].drop_duplicates()\n",
    "\n",
    "# Create gridded GDF\n",
    "res = 0.01\n",
    "lon_bins = np.arange(lon_min+0.005, lon_max, res)\n",
    "lat_bins = np.arange(lat_min+0.005, lat_max, res)\n",
    "\n",
    "grid_cells = []\n",
    "for x in lon_bins[:-1]:\n",
    "    for y in lat_bins[:-1]:\n",
    "        grid_cells.append(\n",
    "            Point(x, y).buffer(res / 2).envelope\n",
    "        )\n",
    "\n",
    "grid_gdf = gpd.GeoDataFrame(\n",
    "    {\"geometry\": grid_cells},\n",
    "    crs=\"EPSG:4326\"\n",
    ")\n",
    "grid_gdf[\"lat\"] = grid_gdf.geometry.centroid.y\n",
    "grid_gdf[\"lon\"] = grid_gdf.geometry.centroid.x\n",
    "\n",
    "key = gpd.sjoin(grid_gdf, gdf, how=\"left\", predicate=\"intersects\")\n",
    "key=key[['geometry','lat','lon','latitude','longitude']]\n",
    "\n",
    "facility = facility[['facility_id','unit_id','latitude','longitude']]\n",
    "emissions = pd.merge(emissions, facility, on=['facility_id','unit_id'], how='inner')\n",
    "\n",
    "# #check to see if there are any duplicates\n",
    "# print(\"The length before dupe check\", len(emissions_joined))\n",
    "# emissions_joined = emissions_joined.drop_duplicates(subset=['facility_id', 'unit_id', 'latitude', 'longitude', 'timestamp'])\n",
    "# print(\"The length after dupe check\", len(emissions_joined))\n",
    "\n",
    "columns_to_convert = [\n",
    "    'associated_stacks', 'nox_mass_measure_indicator',\n",
    "    'nox_rate_measure_indicator', 'heat_input_measure_indicator', 'secondary_fuel_type',\n",
    "    'nox_controls'\n",
    "]\n",
    "\n",
    "# Convert specified columns to strings\n",
    "for col in columns_to_convert:\n",
    "    emissions[col] = emissions[col].astype(str)\n",
    "\n",
    "emissions = emissions[['timestamp', 'latitude','longitude',\n",
    "                                     'operating_time','gross_load_mw','steam_load_1000_lbhr',\n",
    "                                     'nox_mass_lbs','so2_mass_lbs','co2_mass_short_tons',\n",
    "                                     'nox_rate_lbsmmbtu','heat_input_mmbtu']]\n",
    "\n",
    "emissions['timestamp'] = pd.to_datetime(emissions['timestamp'])\n",
    "\n",
    "emissions['date'] = emissions['timestamp'].dt.date\n",
    "emissions['hour'] = emissions['timestamp'].dt.hour\n",
    "emissions['month_day_hour'] = emissions['timestamp'].dt.strftime(\"%m-%d-%H\")\n",
    "\n",
    "del la\n",
    "del tx\n",
    "del facility\n",
    "\n",
    "emissions = pd.merge(emissions, key, how='left', on=['latitude','longitude'])\n",
    "emissions = emissions.drop(columns='geometry')\n",
    "\n",
    "emissions['lat']=round(emissions['lat'],3)\n",
    "emissions['lon']=round(emissions['lon'],3)\n",
    "\n",
    "emissions = emissions.groupby(['timestamp', 'month_day_hour', 'lat', 'lon']).agg({\n",
    "    'operating_time': 'sum',\n",
    "    'gross_load_mw': 'sum',\n",
    "    'steam_load_1000_lbhr': 'sum',\n",
    "    'nox_mass_lbs': 'sum',\n",
    "    'so2_mass_lbs': 'sum',\n",
    "    'co2_mass_short_tons': 'sum',\n",
    "    # 'nox_rate_lbsmmbtu': 'mean',\n",
    "    'heat_input_mmbtu': 'sum'\n",
    "}).reset_index()\n",
    "\n",
    "# set leap year dates as the dates from 2/28\n",
    "leap_year = emissions[emissions['month_day_hour'].str[:5]=='02-28']\n",
    "leap_year['month_day_hour'] = '02-29' + emissions['month_day_hour'].str[5:]\n",
    "emissions = pd.concat([emissions, leap_year])\n",
    "emissions = emissions[emissions['month_day_hour'].isin(month_day_hour_list)]\n",
    "\n",
    "# # Convert emissions['month_day_hour'] to a set\n",
    "# emissions_set = set(emissions['month_day_hour'].unique())\n",
    "\n",
    "# # Find the times in month_day_hour_list that are not in emissions\n",
    "# missing_times = set(month_day_hour_list) - emissions_set\n",
    "\n",
    "# print(\"Missing times:\", missing_times)\n",
    "# print(f\"Number of missing times: {len(missing_times)}\")"
   ]
  },
  {
   "cell_type": "code",
   "execution_count": 11,
   "id": "0c044676-0030-4810-a23c-90fc7457e484",
   "metadata": {
    "tags": []
   },
   "outputs": [
    {
     "data": {
      "text/plain": [
       "Period('2025-01', 'M')"
      ]
     },
     "execution_count": 11,
     "metadata": {},
     "output_type": "execute_result"
    }
   ],
   "source": [
    "unique_months = time_list.to_period('M').unique()\n",
    "unique_months[17]"
   ]
  },
  {
   "cell_type": "code",
   "execution_count": 12,
   "id": "762ecfb4-201d-489f-bedc-12fd200fb462",
   "metadata": {
    "tags": []
   },
   "outputs": [
    {
     "ename": "PermissionError",
     "evalue": "[Errno 13] Permission denied: '/home/jupyter/data/emissions/emissions_2025-01.nc'",
     "output_type": "error",
     "traceback": [
      "\u001b[0;31m---------------------------------------------------------------------------\u001b[0m",
      "\u001b[0;31mKeyError\u001b[0m                                  Traceback (most recent call last)",
      "File \u001b[0;32m/opt/conda/envs/ds_env/lib/python3.11/site-packages/xarray/backends/file_manager.py:211\u001b[0m, in \u001b[0;36mCachingFileManager._acquire_with_cache_info\u001b[0;34m(self, needs_lock)\u001b[0m\n\u001b[1;32m    210\u001b[0m \u001b[38;5;28;01mtry\u001b[39;00m:\n\u001b[0;32m--> 211\u001b[0m     file \u001b[38;5;241m=\u001b[39m \u001b[38;5;28;43mself\u001b[39;49m\u001b[38;5;241;43m.\u001b[39;49m\u001b[43m_cache\u001b[49m\u001b[43m[\u001b[49m\u001b[38;5;28;43mself\u001b[39;49m\u001b[38;5;241;43m.\u001b[39;49m\u001b[43m_key\u001b[49m\u001b[43m]\u001b[49m\n\u001b[1;32m    212\u001b[0m \u001b[38;5;28;01mexcept\u001b[39;00m \u001b[38;5;167;01mKeyError\u001b[39;00m:\n",
      "File \u001b[0;32m/opt/conda/envs/ds_env/lib/python3.11/site-packages/xarray/backends/lru_cache.py:56\u001b[0m, in \u001b[0;36mLRUCache.__getitem__\u001b[0;34m(self, key)\u001b[0m\n\u001b[1;32m     55\u001b[0m \u001b[38;5;28;01mwith\u001b[39;00m \u001b[38;5;28mself\u001b[39m\u001b[38;5;241m.\u001b[39m_lock:\n\u001b[0;32m---> 56\u001b[0m     value \u001b[38;5;241m=\u001b[39m \u001b[38;5;28;43mself\u001b[39;49m\u001b[38;5;241;43m.\u001b[39;49m\u001b[43m_cache\u001b[49m\u001b[43m[\u001b[49m\u001b[43mkey\u001b[49m\u001b[43m]\u001b[49m\n\u001b[1;32m     57\u001b[0m     \u001b[38;5;28mself\u001b[39m\u001b[38;5;241m.\u001b[39m_cache\u001b[38;5;241m.\u001b[39mmove_to_end(key)\n",
      "\u001b[0;31mKeyError\u001b[0m: [<class 'netCDF4._netCDF4.Dataset'>, ('/home/jupyter/data/emissions/emissions_2025-01.nc',), 'a', (('clobber', True), ('diskless', False), ('format', 'NETCDF4'), ('persist', False)), 'ccd99fc0-5a23-4461-8ed2-2bacc3cbccb1']",
      "\nDuring handling of the above exception, another exception occurred:\n",
      "\u001b[0;31mPermissionError\u001b[0m                           Traceback (most recent call last)",
      "Cell \u001b[0;32mIn[12], line 61\u001b[0m\n\u001b[1;32m     57\u001b[0m     monthly_xr_list\u001b[38;5;241m.\u001b[39mappend(dataset)\n\u001b[1;32m     59\u001b[0m combined_data \u001b[38;5;241m=\u001b[39m xr\u001b[38;5;241m.\u001b[39mconcat(monthly_xr_list, dim\u001b[38;5;241m=\u001b[39m\u001b[38;5;124m'\u001b[39m\u001b[38;5;124mtime\u001b[39m\u001b[38;5;124m'\u001b[39m)\n\u001b[0;32m---> 61\u001b[0m \u001b[43mcombined_data\u001b[49m\u001b[38;5;241;43m.\u001b[39;49m\u001b[43mto_netcdf\u001b[49m\u001b[43m(\u001b[49m\u001b[38;5;124;43mf\u001b[39;49m\u001b[38;5;124;43m'\u001b[39;49m\u001b[38;5;124;43m../../data/emissions/emissions_\u001b[39;49m\u001b[38;5;132;43;01m{\u001b[39;49;00m\u001b[43mmonth_str\u001b[49m\u001b[38;5;132;43;01m}\u001b[39;49;00m\u001b[38;5;124;43m.nc\u001b[39;49m\u001b[38;5;124;43m'\u001b[39;49m\u001b[43m)\u001b[49m\n",
      "File \u001b[0;32m/opt/conda/envs/ds_env/lib/python3.11/site-packages/xarray/core/dataset.py:2346\u001b[0m, in \u001b[0;36mDataset.to_netcdf\u001b[0;34m(self, path, mode, format, group, engine, encoding, unlimited_dims, compute, invalid_netcdf, auto_complex)\u001b[0m\n\u001b[1;32m   2343\u001b[0m     encoding \u001b[38;5;241m=\u001b[39m {}\n\u001b[1;32m   2344\u001b[0m \u001b[38;5;28;01mfrom\u001b[39;00m \u001b[38;5;21;01mxarray\u001b[39;00m\u001b[38;5;21;01m.\u001b[39;00m\u001b[38;5;21;01mbackends\u001b[39;00m\u001b[38;5;21;01m.\u001b[39;00m\u001b[38;5;21;01mapi\u001b[39;00m \u001b[38;5;28;01mimport\u001b[39;00m to_netcdf\n\u001b[0;32m-> 2346\u001b[0m \u001b[38;5;28;01mreturn\u001b[39;00m \u001b[43mto_netcdf\u001b[49m\u001b[43m(\u001b[49m\u001b[43m  \u001b[49m\u001b[38;5;66;43;03m# type: ignore[return-value]  # mypy cannot resolve the overloads:(\u001b[39;49;00m\n\u001b[1;32m   2347\u001b[0m \u001b[43m    \u001b[49m\u001b[38;5;28;43mself\u001b[39;49m\u001b[43m,\u001b[49m\n\u001b[1;32m   2348\u001b[0m \u001b[43m    \u001b[49m\u001b[43mpath\u001b[49m\u001b[43m,\u001b[49m\n\u001b[1;32m   2349\u001b[0m \u001b[43m    \u001b[49m\u001b[43mmode\u001b[49m\u001b[38;5;241;43m=\u001b[39;49m\u001b[43mmode\u001b[49m\u001b[43m,\u001b[49m\n\u001b[1;32m   2350\u001b[0m \u001b[43m    \u001b[49m\u001b[38;5;28;43mformat\u001b[39;49m\u001b[38;5;241;43m=\u001b[39;49m\u001b[38;5;28;43mformat\u001b[39;49m\u001b[43m,\u001b[49m\n\u001b[1;32m   2351\u001b[0m \u001b[43m    \u001b[49m\u001b[43mgroup\u001b[49m\u001b[38;5;241;43m=\u001b[39;49m\u001b[43mgroup\u001b[49m\u001b[43m,\u001b[49m\n\u001b[1;32m   2352\u001b[0m \u001b[43m    \u001b[49m\u001b[43mengine\u001b[49m\u001b[38;5;241;43m=\u001b[39;49m\u001b[43mengine\u001b[49m\u001b[43m,\u001b[49m\n\u001b[1;32m   2353\u001b[0m \u001b[43m    \u001b[49m\u001b[43mencoding\u001b[49m\u001b[38;5;241;43m=\u001b[39;49m\u001b[43mencoding\u001b[49m\u001b[43m,\u001b[49m\n\u001b[1;32m   2354\u001b[0m \u001b[43m    \u001b[49m\u001b[43munlimited_dims\u001b[49m\u001b[38;5;241;43m=\u001b[39;49m\u001b[43munlimited_dims\u001b[49m\u001b[43m,\u001b[49m\n\u001b[1;32m   2355\u001b[0m \u001b[43m    \u001b[49m\u001b[43mcompute\u001b[49m\u001b[38;5;241;43m=\u001b[39;49m\u001b[43mcompute\u001b[49m\u001b[43m,\u001b[49m\n\u001b[1;32m   2356\u001b[0m \u001b[43m    \u001b[49m\u001b[43mmultifile\u001b[49m\u001b[38;5;241;43m=\u001b[39;49m\u001b[38;5;28;43;01mFalse\u001b[39;49;00m\u001b[43m,\u001b[49m\n\u001b[1;32m   2357\u001b[0m \u001b[43m    \u001b[49m\u001b[43minvalid_netcdf\u001b[49m\u001b[38;5;241;43m=\u001b[39;49m\u001b[43minvalid_netcdf\u001b[49m\u001b[43m,\u001b[49m\n\u001b[1;32m   2358\u001b[0m \u001b[43m    \u001b[49m\u001b[43mauto_complex\u001b[49m\u001b[38;5;241;43m=\u001b[39;49m\u001b[43mauto_complex\u001b[49m\u001b[43m,\u001b[49m\n\u001b[1;32m   2359\u001b[0m \u001b[43m\u001b[49m\u001b[43m)\u001b[49m\n",
      "File \u001b[0;32m/opt/conda/envs/ds_env/lib/python3.11/site-packages/xarray/backends/api.py:1855\u001b[0m, in \u001b[0;36mto_netcdf\u001b[0;34m(dataset, path_or_file, mode, format, group, engine, encoding, unlimited_dims, compute, multifile, invalid_netcdf, auto_complex)\u001b[0m\n\u001b[1;32m   1852\u001b[0m \u001b[38;5;28;01mif\u001b[39;00m auto_complex \u001b[38;5;129;01mis\u001b[39;00m \u001b[38;5;129;01mnot\u001b[39;00m \u001b[38;5;28;01mNone\u001b[39;00m:\n\u001b[1;32m   1853\u001b[0m     kwargs[\u001b[38;5;124m\"\u001b[39m\u001b[38;5;124mauto_complex\u001b[39m\u001b[38;5;124m\"\u001b[39m] \u001b[38;5;241m=\u001b[39m auto_complex\n\u001b[0;32m-> 1855\u001b[0m store \u001b[38;5;241m=\u001b[39m \u001b[43mstore_open\u001b[49m\u001b[43m(\u001b[49m\u001b[43mtarget\u001b[49m\u001b[43m,\u001b[49m\u001b[43m \u001b[49m\u001b[43mmode\u001b[49m\u001b[43m,\u001b[49m\u001b[43m \u001b[49m\u001b[38;5;28;43mformat\u001b[39;49m\u001b[43m,\u001b[49m\u001b[43m \u001b[49m\u001b[43mgroup\u001b[49m\u001b[43m,\u001b[49m\u001b[43m \u001b[49m\u001b[38;5;241;43m*\u001b[39;49m\u001b[38;5;241;43m*\u001b[39;49m\u001b[43mkwargs\u001b[49m\u001b[43m)\u001b[49m\n\u001b[1;32m   1857\u001b[0m \u001b[38;5;28;01mif\u001b[39;00m unlimited_dims \u001b[38;5;129;01mis\u001b[39;00m \u001b[38;5;28;01mNone\u001b[39;00m:\n\u001b[1;32m   1858\u001b[0m     unlimited_dims \u001b[38;5;241m=\u001b[39m dataset\u001b[38;5;241m.\u001b[39mencoding\u001b[38;5;241m.\u001b[39mget(\u001b[38;5;124m\"\u001b[39m\u001b[38;5;124munlimited_dims\u001b[39m\u001b[38;5;124m\"\u001b[39m, \u001b[38;5;28;01mNone\u001b[39;00m)\n",
      "File \u001b[0;32m/opt/conda/envs/ds_env/lib/python3.11/site-packages/xarray/backends/netCDF4_.py:453\u001b[0m, in \u001b[0;36mNetCDF4DataStore.open\u001b[0;34m(cls, filename, mode, format, group, clobber, diskless, persist, auto_complex, lock, lock_maker, autoclose)\u001b[0m\n\u001b[1;32m    449\u001b[0m     kwargs[\u001b[38;5;124m\"\u001b[39m\u001b[38;5;124mauto_complex\u001b[39m\u001b[38;5;124m\"\u001b[39m] \u001b[38;5;241m=\u001b[39m auto_complex\n\u001b[1;32m    450\u001b[0m manager \u001b[38;5;241m=\u001b[39m CachingFileManager(\n\u001b[1;32m    451\u001b[0m     netCDF4\u001b[38;5;241m.\u001b[39mDataset, filename, mode\u001b[38;5;241m=\u001b[39mmode, kwargs\u001b[38;5;241m=\u001b[39mkwargs\n\u001b[1;32m    452\u001b[0m )\n\u001b[0;32m--> 453\u001b[0m \u001b[38;5;28;01mreturn\u001b[39;00m \u001b[38;5;28;43mcls\u001b[39;49m\u001b[43m(\u001b[49m\u001b[43mmanager\u001b[49m\u001b[43m,\u001b[49m\u001b[43m \u001b[49m\u001b[43mgroup\u001b[49m\u001b[38;5;241;43m=\u001b[39;49m\u001b[43mgroup\u001b[49m\u001b[43m,\u001b[49m\u001b[43m \u001b[49m\u001b[43mmode\u001b[49m\u001b[38;5;241;43m=\u001b[39;49m\u001b[43mmode\u001b[49m\u001b[43m,\u001b[49m\u001b[43m \u001b[49m\u001b[43mlock\u001b[49m\u001b[38;5;241;43m=\u001b[39;49m\u001b[43mlock\u001b[49m\u001b[43m,\u001b[49m\u001b[43m \u001b[49m\u001b[43mautoclose\u001b[49m\u001b[38;5;241;43m=\u001b[39;49m\u001b[43mautoclose\u001b[49m\u001b[43m)\u001b[49m\n",
      "File \u001b[0;32m/opt/conda/envs/ds_env/lib/python3.11/site-packages/xarray/backends/netCDF4_.py:394\u001b[0m, in \u001b[0;36mNetCDF4DataStore.__init__\u001b[0;34m(self, manager, group, mode, lock, autoclose)\u001b[0m\n\u001b[1;32m    392\u001b[0m \u001b[38;5;28mself\u001b[39m\u001b[38;5;241m.\u001b[39m_group \u001b[38;5;241m=\u001b[39m group\n\u001b[1;32m    393\u001b[0m \u001b[38;5;28mself\u001b[39m\u001b[38;5;241m.\u001b[39m_mode \u001b[38;5;241m=\u001b[39m mode\n\u001b[0;32m--> 394\u001b[0m \u001b[38;5;28mself\u001b[39m\u001b[38;5;241m.\u001b[39mformat \u001b[38;5;241m=\u001b[39m \u001b[38;5;28;43mself\u001b[39;49m\u001b[38;5;241;43m.\u001b[39;49m\u001b[43mds\u001b[49m\u001b[38;5;241m.\u001b[39mdata_model\n\u001b[1;32m    395\u001b[0m \u001b[38;5;28mself\u001b[39m\u001b[38;5;241m.\u001b[39m_filename \u001b[38;5;241m=\u001b[39m \u001b[38;5;28mself\u001b[39m\u001b[38;5;241m.\u001b[39mds\u001b[38;5;241m.\u001b[39mfilepath()\n\u001b[1;32m    396\u001b[0m \u001b[38;5;28mself\u001b[39m\u001b[38;5;241m.\u001b[39mis_remote \u001b[38;5;241m=\u001b[39m is_remote_uri(\u001b[38;5;28mself\u001b[39m\u001b[38;5;241m.\u001b[39m_filename)\n",
      "File \u001b[0;32m/opt/conda/envs/ds_env/lib/python3.11/site-packages/xarray/backends/netCDF4_.py:462\u001b[0m, in \u001b[0;36mNetCDF4DataStore.ds\u001b[0;34m(self)\u001b[0m\n\u001b[1;32m    460\u001b[0m \u001b[38;5;129m@property\u001b[39m\n\u001b[1;32m    461\u001b[0m \u001b[38;5;28;01mdef\u001b[39;00m \u001b[38;5;21mds\u001b[39m(\u001b[38;5;28mself\u001b[39m):\n\u001b[0;32m--> 462\u001b[0m     \u001b[38;5;28;01mreturn\u001b[39;00m \u001b[38;5;28;43mself\u001b[39;49m\u001b[38;5;241;43m.\u001b[39;49m\u001b[43m_acquire\u001b[49m\u001b[43m(\u001b[49m\u001b[43m)\u001b[49m\n",
      "File \u001b[0;32m/opt/conda/envs/ds_env/lib/python3.11/site-packages/xarray/backends/netCDF4_.py:456\u001b[0m, in \u001b[0;36mNetCDF4DataStore._acquire\u001b[0;34m(self, needs_lock)\u001b[0m\n\u001b[1;32m    455\u001b[0m \u001b[38;5;28;01mdef\u001b[39;00m \u001b[38;5;21m_acquire\u001b[39m(\u001b[38;5;28mself\u001b[39m, needs_lock\u001b[38;5;241m=\u001b[39m\u001b[38;5;28;01mTrue\u001b[39;00m):\n\u001b[0;32m--> 456\u001b[0m \u001b[43m    \u001b[49m\u001b[38;5;28;43;01mwith\u001b[39;49;00m\u001b[43m \u001b[49m\u001b[38;5;28;43mself\u001b[39;49m\u001b[38;5;241;43m.\u001b[39;49m\u001b[43m_manager\u001b[49m\u001b[38;5;241;43m.\u001b[39;49m\u001b[43macquire_context\u001b[49m\u001b[43m(\u001b[49m\u001b[43mneeds_lock\u001b[49m\u001b[43m)\u001b[49m\u001b[43m \u001b[49m\u001b[38;5;28;43;01mas\u001b[39;49;00m\u001b[43m \u001b[49m\u001b[43mroot\u001b[49m\u001b[43m:\u001b[49m\n\u001b[1;32m    457\u001b[0m \u001b[43m        \u001b[49m\u001b[43mds\u001b[49m\u001b[43m \u001b[49m\u001b[38;5;241;43m=\u001b[39;49m\u001b[43m \u001b[49m\u001b[43m_nc4_require_group\u001b[49m\u001b[43m(\u001b[49m\u001b[43mroot\u001b[49m\u001b[43m,\u001b[49m\u001b[43m \u001b[49m\u001b[38;5;28;43mself\u001b[39;49m\u001b[38;5;241;43m.\u001b[39;49m\u001b[43m_group\u001b[49m\u001b[43m,\u001b[49m\u001b[43m \u001b[49m\u001b[38;5;28;43mself\u001b[39;49m\u001b[38;5;241;43m.\u001b[39;49m\u001b[43m_mode\u001b[49m\u001b[43m)\u001b[49m\n\u001b[1;32m    458\u001b[0m     \u001b[38;5;28;01mreturn\u001b[39;00m ds\n",
      "File \u001b[0;32m/opt/conda/envs/ds_env/lib/python3.11/contextlib.py:137\u001b[0m, in \u001b[0;36m_GeneratorContextManager.__enter__\u001b[0;34m(self)\u001b[0m\n\u001b[1;32m    135\u001b[0m \u001b[38;5;28;01mdel\u001b[39;00m \u001b[38;5;28mself\u001b[39m\u001b[38;5;241m.\u001b[39margs, \u001b[38;5;28mself\u001b[39m\u001b[38;5;241m.\u001b[39mkwds, \u001b[38;5;28mself\u001b[39m\u001b[38;5;241m.\u001b[39mfunc\n\u001b[1;32m    136\u001b[0m \u001b[38;5;28;01mtry\u001b[39;00m:\n\u001b[0;32m--> 137\u001b[0m     \u001b[38;5;28;01mreturn\u001b[39;00m \u001b[38;5;28mnext\u001b[39m(\u001b[38;5;28mself\u001b[39m\u001b[38;5;241m.\u001b[39mgen)\n\u001b[1;32m    138\u001b[0m \u001b[38;5;28;01mexcept\u001b[39;00m \u001b[38;5;167;01mStopIteration\u001b[39;00m:\n\u001b[1;32m    139\u001b[0m     \u001b[38;5;28;01mraise\u001b[39;00m \u001b[38;5;167;01mRuntimeError\u001b[39;00m(\u001b[38;5;124m\"\u001b[39m\u001b[38;5;124mgenerator didn\u001b[39m\u001b[38;5;124m'\u001b[39m\u001b[38;5;124mt yield\u001b[39m\u001b[38;5;124m\"\u001b[39m) \u001b[38;5;28;01mfrom\u001b[39;00m \u001b[38;5;28;01mNone\u001b[39;00m\n",
      "File \u001b[0;32m/opt/conda/envs/ds_env/lib/python3.11/site-packages/xarray/backends/file_manager.py:199\u001b[0m, in \u001b[0;36mCachingFileManager.acquire_context\u001b[0;34m(self, needs_lock)\u001b[0m\n\u001b[1;32m    196\u001b[0m \u001b[38;5;129m@contextlib\u001b[39m\u001b[38;5;241m.\u001b[39mcontextmanager\n\u001b[1;32m    197\u001b[0m \u001b[38;5;28;01mdef\u001b[39;00m \u001b[38;5;21macquire_context\u001b[39m(\u001b[38;5;28mself\u001b[39m, needs_lock\u001b[38;5;241m=\u001b[39m\u001b[38;5;28;01mTrue\u001b[39;00m):\n\u001b[1;32m    198\u001b[0m \u001b[38;5;250m    \u001b[39m\u001b[38;5;124;03m\"\"\"Context manager for acquiring a file.\"\"\"\u001b[39;00m\n\u001b[0;32m--> 199\u001b[0m     file, cached \u001b[38;5;241m=\u001b[39m \u001b[38;5;28;43mself\u001b[39;49m\u001b[38;5;241;43m.\u001b[39;49m\u001b[43m_acquire_with_cache_info\u001b[49m\u001b[43m(\u001b[49m\u001b[43mneeds_lock\u001b[49m\u001b[43m)\u001b[49m\n\u001b[1;32m    200\u001b[0m     \u001b[38;5;28;01mtry\u001b[39;00m:\n\u001b[1;32m    201\u001b[0m         \u001b[38;5;28;01myield\u001b[39;00m file\n",
      "File \u001b[0;32m/opt/conda/envs/ds_env/lib/python3.11/site-packages/xarray/backends/file_manager.py:217\u001b[0m, in \u001b[0;36mCachingFileManager._acquire_with_cache_info\u001b[0;34m(self, needs_lock)\u001b[0m\n\u001b[1;32m    215\u001b[0m     kwargs \u001b[38;5;241m=\u001b[39m kwargs\u001b[38;5;241m.\u001b[39mcopy()\n\u001b[1;32m    216\u001b[0m     kwargs[\u001b[38;5;124m\"\u001b[39m\u001b[38;5;124mmode\u001b[39m\u001b[38;5;124m\"\u001b[39m] \u001b[38;5;241m=\u001b[39m \u001b[38;5;28mself\u001b[39m\u001b[38;5;241m.\u001b[39m_mode\n\u001b[0;32m--> 217\u001b[0m file \u001b[38;5;241m=\u001b[39m \u001b[38;5;28;43mself\u001b[39;49m\u001b[38;5;241;43m.\u001b[39;49m\u001b[43m_opener\u001b[49m\u001b[43m(\u001b[49m\u001b[38;5;241;43m*\u001b[39;49m\u001b[38;5;28;43mself\u001b[39;49m\u001b[38;5;241;43m.\u001b[39;49m\u001b[43m_args\u001b[49m\u001b[43m,\u001b[49m\u001b[43m \u001b[49m\u001b[38;5;241;43m*\u001b[39;49m\u001b[38;5;241;43m*\u001b[39;49m\u001b[43mkwargs\u001b[49m\u001b[43m)\u001b[49m\n\u001b[1;32m    218\u001b[0m \u001b[38;5;28;01mif\u001b[39;00m \u001b[38;5;28mself\u001b[39m\u001b[38;5;241m.\u001b[39m_mode \u001b[38;5;241m==\u001b[39m \u001b[38;5;124m\"\u001b[39m\u001b[38;5;124mw\u001b[39m\u001b[38;5;124m\"\u001b[39m:\n\u001b[1;32m    219\u001b[0m     \u001b[38;5;66;03m# ensure file doesn't get overridden when opened again\u001b[39;00m\n\u001b[1;32m    220\u001b[0m     \u001b[38;5;28mself\u001b[39m\u001b[38;5;241m.\u001b[39m_mode \u001b[38;5;241m=\u001b[39m \u001b[38;5;124m\"\u001b[39m\u001b[38;5;124ma\u001b[39m\u001b[38;5;124m\"\u001b[39m\n",
      "File \u001b[0;32msrc/netCDF4/_netCDF4.pyx:2521\u001b[0m, in \u001b[0;36mnetCDF4._netCDF4.Dataset.__init__\u001b[0;34m()\u001b[0m\n",
      "File \u001b[0;32msrc/netCDF4/_netCDF4.pyx:2158\u001b[0m, in \u001b[0;36mnetCDF4._netCDF4._ensure_nc_success\u001b[0;34m()\u001b[0m\n",
      "\u001b[0;31mPermissionError\u001b[0m: [Errno 13] Permission denied: '/home/jupyter/data/emissions/emissions_2025-01.nc'"
     ]
    }
   ],
   "source": [
    "%%capture\n",
    "unique_months = time_list.to_period('M').unique()\n",
    "\n",
    "for month in unique_months[17:18]:\n",
    "    month_str = str(month)\n",
    "    month_timestamps = time_list[time_list.to_period('M') == month]\n",
    "    monthly_xr_list = []\n",
    "    \n",
    "    for ts in month_timestamps:\n",
    "        ts_mdh = ts.strftime(\"%m-%d-%H\")\n",
    "\n",
    "        emissions_ts = emissions[emissions['month_day_hour']==ts_mdh]\n",
    "\n",
    "        grid_gdf['lat'] = round(grid_gdf['lat'], 3)\n",
    "        grid_gdf['lon'] = round(grid_gdf['lon'], 3)\n",
    "        emissions_ts['lat'] = round(emissions_ts['lat'], 3)\n",
    "        emissions_ts['lon'] = round(emissions_ts['lon'], 3)\n",
    "        emissions_grid_ts= pd.merge(grid_gdf, emissions_ts, how='left', on = ['lat','lon'])\n",
    "\n",
    "        emissions_grid_ts['month_day_hour'] = emissions_grid_ts['month_day_hour'].fillna(ts_mdh)\n",
    "        emissions_grid_ts = emissions_grid_ts.drop(columns='timestamp')\n",
    "        emissions_grid_ts=emissions_grid_ts.fillna(0)\n",
    "        emissions_grid_ts = emissions_grid_ts.drop(columns='geometry')\n",
    "\n",
    "        prep_df = emissions_grid_ts[['lat','lon','nox_mass_lbs']]\n",
    "        # Step 1: Pivot the DataFrame\n",
    "        df_pivot = prep_df.pivot(index=\"lat\", columns=\"lon\", values=\"nox_mass_lbs\")\n",
    "\n",
    "        # Step 2: Convert to xarray DataArray\n",
    "        data_array = xr.DataArray(\n",
    "            df_pivot.values,\n",
    "            dims=[\"lat\", \"lon\"],\n",
    "            coords={\"lat\": df_pivot.index, \"lon\": df_pivot.columns},\n",
    "        )\n",
    "\n",
    "        # Step 3: Convert to xarray Dataset (optional)\n",
    "        dataset = data_array.to_dataset(name=\"nox_mass_lbs\")\n",
    "\n",
    "        other_variables = ['gross_load_mw', 'steam_load_1000_lbhr',\n",
    "               'so2_mass_lbs', 'co2_mass_short_tons',\n",
    "               'heat_input_mmbtu']\n",
    "\n",
    "        for var in other_variables:\n",
    "            prep_df = emissions_grid_ts[['lat','lon',var]]\n",
    "            # Step 1: Pivot the DataFrame\n",
    "            df_pivot = prep_df.pivot(index=\"lat\", columns=\"lon\", values=var)\n",
    "\n",
    "            # Step 2: Convert to xarray DataArray\n",
    "            data_array = xr.DataArray(\n",
    "                df_pivot.values,\n",
    "                dims=[\"lat\", \"lon\"],\n",
    "                coords={\"lat\": df_pivot.index, \"lon\": df_pivot.columns},\n",
    "            )\n",
    "            dataset[var] = data_array\n",
    "\n",
    "        dataset = dataset.expand_dims({'time': [ts]})\n",
    "\n",
    "        monthly_xr_list.append(dataset)\n",
    "\n",
    "    combined_data = xr.concat(monthly_xr_list, dim='time')\n",
    "\n",
    "    combined_data.to_netcdf(f'../../data/emissions/emissions_{month_str}.nc')"
   ]
  },
  {
   "cell_type": "code",
   "execution_count": 8,
   "id": "d991dfa8-ff4b-4ebf-80a6-82f5487ff643",
   "metadata": {
    "tags": []
   },
   "outputs": [
    {
     "data": {
      "image/png": "[encoded data removed]",
      "text/plain": [
       "<Figure size 1000x600 with 2 Axes>"
      ]
     },
     "metadata": {},
     "output_type": "display_data"
    }
   ],
   "source": [
    "import matplotlib.pyplot as plt\n",
    "# # # Define your latitude and longitude bounds\n",
    "# # lat_min, lat_max = 28.6, 33.4  # Example latitude range\n",
    "# # lon_min, lon_max = -98.9, -88.3  # Example longitude range\n",
    "\n",
    "# # Select one hour of temperature data (e.g., the first timestamp)\n",
    "# hour_index = 1  # Change this to select a different hour if desired\n",
    "# # temperature_data = nldas_month['temperature'].isel(time=hour_index)\n",
    "# temperature_data = nldas_month['wind_u']\n",
    "\n",
    "# Plot the data with switched axes\n",
    "plt.figure(figsize=(10, 6))\n",
    "\n",
    "# Plot with latitude on x-axis and longitude on y-axis\n",
    "dataset['nox_mass_lbs'][0].plot(\n",
    "    cbar_kwargs={'label': 'Temperature (K)'}  # Add color bar label\n",
    ")\n",
    "\n",
    "# Update axis labels\n",
    "plt.xlabel(\"Latitude\")\n",
    "plt.ylabel(\"Longitude\")\n",
    "\n",
    "plt.show()"
   ]
  },
  {
   "cell_type": "code",
   "execution_count": 9,
   "id": "0d7d033b-d979-4f88-9768-0fa73c92e41f",
   "metadata": {
    "tags": []
   },
   "outputs": [
    {
     "ename": "NameError",
     "evalue": "name 'test' is not defined",
     "output_type": "error",
     "traceback": [
      "\u001b[0;31m---------------------------------------------------------------------------\u001b[0m",
      "\u001b[0;31mNameError\u001b[0m                                 Traceback (most recent call last)",
      "Cell \u001b[0;32mIn[9], line 1\u001b[0m\n\u001b[0;32m----> 1\u001b[0m \u001b[43mtest\u001b[49m\n",
      "\u001b[0;31mNameError\u001b[0m: name 'test' is not defined"
     ]
    }
   ],
   "source": [
    "test"
   ]
  }
 ],
 "metadata": {
  "environment": {
   "kernel": "ds_env",
   "name": "workbench-notebooks.m125",
   "type": "gcloud",
   "uri": "us-docker.pkg.dev/deeplearning-platform-release/gcr.io/workbench-notebooks:m125"
  },
  "kernelspec": {
   "display_name": "Python (ds_env) (Local)",
   "language": "python",
   "name": "ds_env"
  },
  "language_info": {
   "codemirror_mode": {
    "name": "ipython",
    "version": 3
   },
   "file_extension": ".py",
   "mimetype": "text/x-python",
   "name": "python",
   "nbconvert_exporter": "python",
   "pygments_lexer": "ipython3",
   "version": "3.11.10"
  }
 },
 "nbformat": 4,
 "nbformat_minor": 5
}
