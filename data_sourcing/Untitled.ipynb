{
 "cells": [
  {
   "cell_type": "code",
   "execution_count": 1,
   "id": "21939706-264e-42dc-9a61-d7f2115de91d",
   "metadata": {
    "tags": []
   },
   "outputs": [],
   "source": [
    "import pandas as pd\n",
    "\n",
    "df = pd.read_csv(\"../../data/tempo_data/no2_tempo_files_df.csv\")\n",
    "df['time_hr_ct'] = pd.to_datetime(df['timestamp_ct']).dt.floor('h')\n",
    "\n",
    "result_df = df.groupby(['date_central', 'Hour'], as_index=False).first()\n",
    "result_df['time_hr_ct'] = pd.to_datetime(result_df['timestamp_ct']).dt.floor('h')\n",
    "result_df[['time_hr_ct']].to_csv('../../data/tempo_data/no2_file_hours.csv')"
   ]
  },
  {
   "cell_type": "code",
   "execution_count": 2,
   "id": "182a9da9-0ec6-4368-ab36-0168056dcd03",
   "metadata": {
    "tags": []
   },
   "outputs": [],
   "source": [
    "date_list = list(df['date_central'].unique())\n"
   ]
  },
  {
   "cell_type": "code",
   "execution_count": 57,
   "id": "055bb209-8c9a-413d-b194-78198a91c92d",
   "metadata": {
    "tags": []
   },
   "outputs": [
    {
     "data": {
      "text/plain": [
       "['2024-10-01',\n",
       " '2024-10-02',\n",
       " '2024-10-03',\n",
       " '2024-10-04',\n",
       " '2024-10-05',\n",
       " '2024-10-06',\n",
       " '2024-10-07',\n",
       " '2024-10-08',\n",
       " '2024-10-09',\n",
       " '2024-10-10',\n",
       " '2024-10-11',\n",
       " '2024-10-12',\n",
       " '2024-10-13',\n",
       " '2024-10-14',\n",
       " '2024-10-15',\n",
       " '2024-10-16',\n",
       " '2024-10-17',\n",
       " '2024-10-18',\n",
       " '2024-10-19',\n",
       " '2024-10-20',\n",
       " '2024-10-21',\n",
       " '2024-10-22',\n",
       " '2024-10-23',\n",
       " '2024-10-24',\n",
       " '2024-10-26',\n",
       " '2024-10-27',\n",
       " '2024-10-28',\n",
       " '2024-10-29',\n",
       " '2024-10-30',\n",
       " '2024-10-31']"
      ]
     },
     "execution_count": 57,
     "metadata": {},
     "output_type": "execute_result"
    }
   ],
   "source": [
    "date_list[397:427]"
   ]
  },
  {
   "cell_type": "code",
   "execution_count": null,
   "id": "0fc74dd1-3181-429f-9253-ab6042a7140e",
   "metadata": {},
   "outputs": [],
   "source": []
  }
 ],
 "metadata": {
  "environment": {
   "kernel": "gee_env",
   "name": "workbench-notebooks.m125",
   "type": "gcloud",
   "uri": "us-docker.pkg.dev/deeplearning-platform-release/gcr.io/workbench-notebooks:m125"
  },
  "kernelspec": {
   "display_name": "Python (gee_env) (Local)",
   "language": "python",
   "name": "gee_env"
  },
  "language_info": {
   "codemirror_mode": {
    "name": "ipython",
    "version": 3
   },
   "file_extension": ".py",
   "mimetype": "text/x-python",
   "name": "python",
   "nbconvert_exporter": "python",
   "pygments_lexer": "ipython3",
   "version": "3.13.0"
  }
 },
 "nbformat": 4,
 "nbformat_minor": 5
}
