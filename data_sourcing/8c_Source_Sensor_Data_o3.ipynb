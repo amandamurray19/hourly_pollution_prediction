{
 "cells": [
  {
   "cell_type": "code",
   "execution_count": 2,
   "id": "77d8ddae-7a48-4371-b719-42688abf352b",
   "metadata": {
    "tags": []
   },
   "outputs": [],
   "source": [
    "# Import packages\n",
    "import pandas as pd\n",
    "import requests\n",
    "import os\n",
    "# import plotly.express as px\n",
    "# import plotly.graph_objects as go\n",
    "from datetime import datetime, date\n",
    "from google.cloud import storage\n",
    "from bbox import * \n",
    "from datetime import date, timedelta\n",
    "\n",
    "\n",
    "\n",
    "# Fix issue where request will get stuck unless timeout is\n",
    "# specified (see https://stackoverflow.com/a/76506083)\n",
    "requests.packages.urllib3.util.connection.HAS_IPV6 = False\n",
    "\n",
    "# Prevent column truncation in Pandas output\n",
    "pd.set_option(\"display.max_columns\", None)\n",
    "pd.set_option(\"display.max_rows\", 500)\n",
    "pd.set_option(\"display.width\", None)\n"
   ]
  },
  {
   "cell_type": "code",
   "execution_count": 3,
   "id": "cd3d5f9b-21b3-4b36-9700-bf6da4c410c9",
   "metadata": {
    "tags": []
   },
   "outputs": [],
   "source": [
    "api_email = 'amanda.murray19@gmail.com'\n",
    "api_key = 'bluemouse27'\n",
    "param = \"44201\"  # Ozone\n",
    "range_start = \"20230801\" # Start of sentinel data\n",
    "range_end = \"20250701\" # 07/01/2025\n",
    "min_lon = lon_min\n",
    "max_lon = lon_max\n",
    "min_lat = lat_min\n",
    "max_lat = lat_max  \n",
    "\n",
    "date_format = \"%Y%m%d\"\n",
    "date_format_dashes = \"%Y-%m-%d\"\n",
    "\n",
    "raw_csv_name = f\"aqs_{range_start}_{range_end}_raw.csv.gz\"\n",
    "raw_csv_gcs_path = f\"{raw_csv_name}\"\n",
    "\n",
    "start_date = datetime.strptime(range_start, date_format).date()\n",
    "end_date = datetime.strptime(range_end, date_format).date()\n",
    "ranges_by_month = [\n",
    "    (\n",
    "        max(start_date, date(year, month, 1)).strftime(date_format),\n",
    "        min(end_date, (date(year, month, 1) + timedelta(days=31)).replace(day=1) - timedelta(days=1)).strftime(date_format)\n",
    "    )\n",
    "    for year in range(start_date.year, end_date.year + 1)\n",
    "    for month in range(1, 13)\n",
    "    if date(year, month, 1) <= end_date and date(year, month, 1) + timedelta(days=31) >= start_date\n",
    "]\n"
   ]
  },
  {
   "cell_type": "code",
   "execution_count": 7,
   "id": "36f1a4ff-7e2f-455b-9e99-66151142c0d0",
   "metadata": {
    "tags": []
   },
   "outputs": [],
   "source": [
    "def aqs_request(bdate, edate):\n",
    "    aqs_url = \"https://aqs.epa.gov/data/api/sampleData/byBox\"\n",
    "    aqs_params = {\n",
    "        \"email\": api_email,\n",
    "        \"key\": api_key,\n",
    "        \"param\": param,\n",
    "        \"bdate\": bdate,\n",
    "        \"edate\": edate,\n",
    "        \"minlat\": min_lat,\n",
    "        \"maxlat\": max_lat,\n",
    "        \"minlon\": min_lon,\n",
    "        \"maxlon\": max_lon,\n",
    "        \"duration\":'1'\n",
    "        \n",
    "    }\n",
    "\n",
    "    print(f\"Pulling air quality sensor data for range between {bdate} and {edate}...\", end=\" \")\n",
    "    r = requests.get(aqs_url, params=aqs_params)\n",
    "    aqs_json = r.json()\n",
    "    # print(aqs_json)\n",
    "    aqs_df = pd.json_normalize(aqs_json[\"Data\"])\n",
    "    print(\"Success\")\n",
    "    return aqs_df\n",
    "\n",
    "\n",
    "aqs_df = pd.concat([aqs_request(bdate, edate) for bdate, edate in ranges_by_month], ignore_index=True)"
   ]
  },
  {
   "cell_type": "code",
   "execution_count": 5,
   "id": "c732d7bc-6191-4751-aef5-e8b153e077f9",
   "metadata": {
    "tags": []
   },
   "outputs": [
    {
     "data": {
      "text/plain": [
       "836160"
      ]
     },
     "execution_count": 5,
     "metadata": {},
     "output_type": "execute_result"
    }
   ],
   "source": [
    "len(aqs_df['date_local'].unique())*len(aqs_df['site_number'].unique())*24"
   ]
  },
  {
   "cell_type": "code",
   "execution_count": 12,
   "id": "38c1359e-a2ec-4e18-808b-9c78bb4e8aae",
   "metadata": {
    "tags": []
   },
   "outputs": [],
   "source": [
    "aqs_df.to_csv('../../data/sensor_data/hourly_raw_o3.csv')"
   ]
  },
  {
   "cell_type": "code",
   "execution_count": 13,
   "id": "854324ff-2671-4b38-a47e-a0bf3580e079",
   "metadata": {
    "tags": []
   },
   "outputs": [
    {
     "data": {
      "text/plain": [
       "'2025-06-30'"
      ]
     },
     "execution_count": 13,
     "metadata": {},
     "output_type": "execute_result"
    }
   ],
   "source": [
    "check = pd.read_csv('../../data/sensor_data/hourly_raw_o3.csv')\n",
    "check['date_local'].max()"
   ]
  }
 ],
 "metadata": {
  "environment": {
   "kernel": "gee_env",
   "name": "workbench-notebooks.m125",
   "type": "gcloud",
   "uri": "us-docker.pkg.dev/deeplearning-platform-release/gcr.io/workbench-notebooks:m125"
  },
  "kernelspec": {
   "display_name": "Python (gee_env) (Local)",
   "language": "python",
   "name": "gee_env"
  },
  "language_info": {
   "codemirror_mode": {
    "name": "ipython",
    "version": 3
   },
   "file_extension": ".py",
   "mimetype": "text/x-python",
   "name": "python",
   "nbconvert_exporter": "python",
   "pygments_lexer": "ipython3",
   "version": "3.13.0"
  }
 },
 "nbformat": 4,
 "nbformat_minor": 5
}
