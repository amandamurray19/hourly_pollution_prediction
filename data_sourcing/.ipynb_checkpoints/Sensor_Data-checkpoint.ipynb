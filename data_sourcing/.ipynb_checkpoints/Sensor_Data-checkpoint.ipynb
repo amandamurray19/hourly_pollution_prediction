{
 "cells": [
  {
   "cell_type": "code",
   "execution_count": 2,
   "id": "4293de77-54f1-42dc-9491-dc0a125d5190",
   "metadata": {
    "tags": []
   },
   "outputs": [],
   "source": [
    "import pandas as pd \n",
    "import geopandas as gpd\n",
    "from shapely.geometry import Point\n",
    "from bbox import * \n",
    "from pytz import timezone\n",
    "import os\n",
    "from shapely.wkt import loads\n",
    "import numpy as np\n",
    "import xarray as xr\n",
    "import gc"
   ]
  },
  {
   "cell_type": "code",
   "execution_count": 2,
   "id": "da7fb4b3-00c3-4e8f-936c-3732c7c1fdf5",
   "metadata": {
    "tags": []
   },
   "outputs": [],
   "source": [
    "#################################################\n",
    "##               Full Mobile Air               ##\n",
    "#################################################\n",
    "\n",
    "# files = os.listdir('../../data/mobile_air_data/')\n",
    "\n",
    "# full_df = pd.DataFrame()\n",
    "\n",
    "# for file in files:\n",
    "    \n",
    "#     df = pd.read_csv(f'../../data/mobile_air_data/{file}')\n",
    "#     print(file)\n",
    "#     df=df[['geometry', 'pass_start_time', 'pass_end_time',\n",
    "#            'no2 ppb']]\n",
    "#     df = df[~df['no2 ppb'].isna()]\n",
    "#     # Convert start_time and end_time to datetime\n",
    "#     df[\"pass_start_time\"] = pd.to_datetime(df[\"pass_start_time\"])\n",
    "#     df[\"pass_end_time\"] = pd.to_datetime(df[\"pass_end_time\"])\n",
    "#     # Calculate pass_time (duration in timedelta) Mean pass time of 5 seconds, max of 1 min 12 seconds\n",
    "#     df[\"pass_time\"] = df[\"pass_end_time\"] - df[\"pass_start_time\"]\n",
    "#     # Convert start_time to Central Time and round down to the beginning of the hour\n",
    "#     central = timezone(\"US/Central\")\n",
    "#     df1 = df[['geometry', 'pass_start_time', 'pass_time', 'no2 ppb']]\n",
    "#     df2 = df[['geometry', 'pass_end_time', 'pass_time', 'no2 ppb']]\n",
    "#     df1[\"time\"] = df[\"pass_start_time\"].dt.tz_convert(central).dt.floor(\"h\")\n",
    "#     df1[\"time\"] = df1[\"time\"].dt.tz_localize(None)\n",
    "#     df2[\"time\"] = df2[\"pass_end_time\"].dt.tz_convert(central).dt.floor(\"h\")\n",
    "#     df2[\"time\"] = df2[\"time\"].dt.tz_localize(None)\n",
    "#     df = pd.merge(df1, df2, on=['geometry', 'time', 'no2 ppb'])\n",
    "#     df = df[['geometry', 'time', 'no2 ppb', 'pass_start_time', 'pass_end_time']]\n",
    "#     del df1\n",
    "#     del df2\n",
    "    \n",
    "#     full_df = pd.concat([full_df, df], axis=0)\n",
    "#     full_df.to_csv('../../data/mobile_air_data/combined_data_no2.csv')"
   ]
  },
  {
   "cell_type": "code",
   "execution_count": 3,
   "id": "ac9fec20-f445-4b4c-ab19-34e10e37b334",
   "metadata": {
    "tags": []
   },
   "outputs": [],
   "source": [
    "sensor_df=pd.read_csv('../../data/sensor_data/hourly_raw_am.csv', index_col=0)\n",
    "sensor_df=sensor_df[['latitude', 'longitude', 'date_local',\n",
    "       'time_local', 'sample_measurement']]\n",
    "sensor_df=sensor_df[~sensor_df['sample_measurement'].isna()]\n",
    "sensor_df['time'] = pd.to_datetime(sensor_df['date_local'] + ' ' + sensor_df['time_local'])\n"
   ]
  },
  {
   "cell_type": "code",
   "execution_count": 35,
   "id": "a7d55093-15c0-47ea-b84b-ba8308ba3fc2",
   "metadata": {
    "tags": []
   },
   "outputs": [],
   "source": [
    "no2_hours = pd.read_csv(\"../../data/tempo_data/no2_file_hours.csv\")\n",
    "no2_hours=list(no2_hours['time_hr_ct'])\n",
    "time_list = np.array(no2_hours, dtype=\"datetime64[ns]\")\n",
    "sensor_time_list = np.array(sensor_df['time'].unique(), dtype=\"datetime64[ns]\")\n",
    "seta = set(sensor_time_list)\n",
    "setb = set(time_list)\n",
    "union_set = seta & setb\n",
    "full_time_list = list(union_set)\n",
    "# Convert to pandas datetime objects\n",
    "pd_datetime_list = list(pd.to_datetime(full_time_list))\n",
    "sensor_df['time']=pd.to_datetime(sensor_df['time'])\n",
    "sensor_df=sensor_df[sensor_df['time'].isin(pd_datetime_list)]"
   ]
  },
  {
   "cell_type": "code",
   "execution_count": 63,
   "id": "4e62fe0b-a073-4613-83b3-9f12d49e5ad4",
   "metadata": {
    "tags": []
   },
   "outputs": [
    {
     "name": "stderr",
     "output_type": "stream",
     "text": [
      "/var/tmp/ipykernel_3432/716098614.py:25: UserWarning: Geometry is in a geographic CRS. Results from 'centroid' are likely incorrect. Use 'GeoSeries.to_crs()' to re-project geometries to a projected CRS before this operation.\n",
      "\n",
      "  grid_gdf[\"lat\"] = grid_gdf.geometry.centroid.y\n",
      "/var/tmp/ipykernel_3432/716098614.py:26: UserWarning: Geometry is in a geographic CRS. Results from 'centroid' are likely incorrect. Use 'GeoSeries.to_crs()' to re-project geometries to a projected CRS before this operation.\n",
      "\n",
      "  grid_gdf[\"lon\"] = grid_gdf.geometry.centroid.x\n"
     ]
    },
    {
     "data": {
      "text/plain": [
       "0"
      ]
     },
     "execution_count": 63,
     "metadata": {},
     "output_type": "execute_result"
    }
   ],
   "source": [
    "# Create a GeoDataFrame\n",
    "gdf = gpd.GeoDataFrame(\n",
    "    sensor_df,\n",
    "    geometry=[Point(xy) for xy in zip(sensor_df[\"longitude\"], sensor_df[\"latitude\"])],\n",
    "    crs=\"EPSG:4326\"  # WGS84 coordinate reference system\n",
    ")\n",
    "gdf=gdf[['latitude','longitude','geometry']].drop_duplicates()\n",
    "\n",
    "# Create gridded GDF\n",
    "res = 0.01 \n",
    "lon_bins = np.arange(lon_min+0.005, lon_max, res)\n",
    "lat_bins = np.arange(lat_min+0.005, lat_max, res)\n",
    "\n",
    "grid_cells = []\n",
    "for x in lon_bins[:-1]:\n",
    "    for y in lat_bins[:-1]:\n",
    "        grid_cells.append(\n",
    "            Point(x, y).buffer(res / 2).envelope\n",
    "        )\n",
    "\n",
    "grid_gdf = gpd.GeoDataFrame(\n",
    "    {\"geometry\": grid_cells},\n",
    "    crs=\"EPSG:4326\"\n",
    ")\n",
    "grid_gdf[\"lat\"] = grid_gdf.geometry.centroid.y\n",
    "grid_gdf[\"lon\"] = grid_gdf.geometry.centroid.x\n",
    "\n",
    "key = gpd.sjoin(grid_gdf, gdf, how=\"inner\", predicate=\"intersects\")\n",
    "key=key[['geometry','lat','lon','latitude','longitude']]\n",
    "\n",
    "sensor_df_joined = pd.merge(sensor_df, key, on=['latitude','longitude'], how='left')\n",
    "sensor_df_joined = sensor_df_joined[['lat', 'lon', 'time', 'sample_measurement']]\n",
    "sensor_df_joined=sensor_df_joined.rename(columns={'sample_measurement':'no2'})\n",
    "\n",
    "del gdf\n",
    "del sensor_df\n",
    "del grid_cells\n",
    "del key\n",
    "gc.collect()"
   ]
  },
  {
   "cell_type": "code",
   "execution_count": 68,
   "id": "a9a6e193-aa98-4d7d-bf72-d223f5e03f6c",
   "metadata": {
    "tags": []
   },
   "outputs": [
    {
     "data": {
      "text/html": [
       "<div>\n",
       "<style scoped>\n",
       "    .dataframe tbody tr th:only-of-type {\n",
       "        vertical-align: middle;\n",
       "    }\n",
       "\n",
       "    .dataframe tbody tr th {\n",
       "        vertical-align: top;\n",
       "    }\n",
       "\n",
       "    .dataframe thead th {\n",
       "        text-align: right;\n",
       "    }\n",
       "</style>\n",
       "<table border=\"1\" class=\"dataframe\">\n",
       "  <thead>\n",
       "    <tr style=\"text-align: right;\">\n",
       "      <th></th>\n",
       "      <th>lat</th>\n",
       "      <th>lon</th>\n",
       "      <th>time</th>\n",
       "      <th>no2</th>\n",
       "    </tr>\n",
       "  </thead>\n",
       "  <tbody>\n",
       "    <tr>\n",
       "      <th>0</th>\n",
       "      <td>29.685</td>\n",
       "      <td>-95.295</td>\n",
       "      <td>2023-08-02 10:00:00</td>\n",
       "      <td>4.1</td>\n",
       "    </tr>\n",
       "    <tr>\n",
       "      <th>1</th>\n",
       "      <td>29.685</td>\n",
       "      <td>-95.295</td>\n",
       "      <td>2023-08-02 11:00:00</td>\n",
       "      <td>5.2</td>\n",
       "    </tr>\n",
       "    <tr>\n",
       "      <th>2</th>\n",
       "      <td>29.685</td>\n",
       "      <td>-95.295</td>\n",
       "      <td>2023-08-02 12:00:00</td>\n",
       "      <td>4.9</td>\n",
       "    </tr>\n",
       "    <tr>\n",
       "      <th>3</th>\n",
       "      <td>29.685</td>\n",
       "      <td>-95.295</td>\n",
       "      <td>2023-08-02 13:00:00</td>\n",
       "      <td>3.7</td>\n",
       "    </tr>\n",
       "    <tr>\n",
       "      <th>4</th>\n",
       "      <td>29.685</td>\n",
       "      <td>-95.295</td>\n",
       "      <td>2023-08-02 14:00:00</td>\n",
       "      <td>3.6</td>\n",
       "    </tr>\n",
       "    <tr>\n",
       "      <th>...</th>\n",
       "      <td>...</td>\n",
       "      <td>...</td>\n",
       "      <td>...</td>\n",
       "      <td>...</td>\n",
       "    </tr>\n",
       "    <tr>\n",
       "      <th>221531</th>\n",
       "      <td>30.465</td>\n",
       "      <td>-91.175</td>\n",
       "      <td>2024-11-30 11:00:00</td>\n",
       "      <td>2.3</td>\n",
       "    </tr>\n",
       "    <tr>\n",
       "      <th>221532</th>\n",
       "      <td>30.465</td>\n",
       "      <td>-91.175</td>\n",
       "      <td>2024-11-30 12:00:00</td>\n",
       "      <td>1.6</td>\n",
       "    </tr>\n",
       "    <tr>\n",
       "      <th>221533</th>\n",
       "      <td>30.465</td>\n",
       "      <td>-91.175</td>\n",
       "      <td>2024-11-30 15:00:00</td>\n",
       "      <td>1.1</td>\n",
       "    </tr>\n",
       "    <tr>\n",
       "      <th>221534</th>\n",
       "      <td>30.465</td>\n",
       "      <td>-91.175</td>\n",
       "      <td>2024-11-30 16:00:00</td>\n",
       "      <td>4.2</td>\n",
       "    </tr>\n",
       "    <tr>\n",
       "      <th>221535</th>\n",
       "      <td>30.465</td>\n",
       "      <td>-91.175</td>\n",
       "      <td>2024-11-30 17:00:00</td>\n",
       "      <td>15.1</td>\n",
       "    </tr>\n",
       "  </tbody>\n",
       "</table>\n",
       "<p>221536 rows × 4 columns</p>\n",
       "</div>"
      ],
      "text/plain": [
       "           lat     lon                time   no2\n",
       "0       29.685 -95.295 2023-08-02 10:00:00   4.1\n",
       "1       29.685 -95.295 2023-08-02 11:00:00   5.2\n",
       "2       29.685 -95.295 2023-08-02 12:00:00   4.9\n",
       "3       29.685 -95.295 2023-08-02 13:00:00   3.7\n",
       "4       29.685 -95.295 2023-08-02 14:00:00   3.6\n",
       "...        ...     ...                 ...   ...\n",
       "221531  30.465 -91.175 2024-11-30 11:00:00   2.3\n",
       "221532  30.465 -91.175 2024-11-30 12:00:00   1.6\n",
       "221533  30.465 -91.175 2024-11-30 15:00:00   1.1\n",
       "221534  30.465 -91.175 2024-11-30 16:00:00   4.2\n",
       "221535  30.465 -91.175 2024-11-30 17:00:00  15.1\n",
       "\n",
       "[221536 rows x 4 columns]"
      ]
     },
     "execution_count": 68,
     "metadata": {},
     "output_type": "execute_result"
    }
   ],
   "source": [
    "sensor_df_joined"
   ]
  },
  {
   "cell_type": "code",
   "execution_count": 72,
   "id": "ebe23863-4fc1-4f1d-85a7-cc69b0c22bdd",
   "metadata": {
    "tags": []
   },
   "outputs": [
    {
     "name": "stdout",
     "output_type": "stream",
     "text": [
      "0\n",
      "500\n",
      "1000\n",
      "1500\n",
      "2000\n",
      "2500\n",
      "3000\n",
      "3500\n",
      "4000\n",
      "4500\n",
      "5000\n"
     ]
    }
   ],
   "source": [
    "# Initialize an empty list to hold xarrays\n",
    "xarrays_list = []\n",
    "\n",
    "for i, time in enumerate(pd_datetime_list):\n",
    "    if i % 500 == 0:\n",
    "        print(i)\n",
    "    no2_df = sensor_df_joined[sensor_df_joined['time']==time]\n",
    "    time_df = pd.merge(grid_gdf, no2_df, on=['lat', 'lon'], how='left')\n",
    "    time_df['time'] = time_df['time'].fillna(time)\n",
    "    \n",
    "    # Pivot the data into a 2D array\n",
    "    time_df_pivot = time_df.pivot(index=\"lat\", columns=\"lon\", values=\"no2\")\n",
    "\n",
    "    # Convert to xarray\n",
    "    da = xr.DataArray(\n",
    "        time_df_pivot.values,\n",
    "        coords={\n",
    "            \"lat\": time_df_pivot.index.values,\n",
    "            \"lon\": time_df_pivot.columns.values,\n",
    "        },\n",
    "        dims=[\"lat\", \"lon\"],\n",
    "        name=\"no2\"\n",
    "    )\n",
    "    ds_expanded = da.expand_dims({'time': [time]})\n",
    "    # Append the expanded xarray to the list\n",
    "    xarrays_list.append(ds_expanded)\n",
    "\n",
    "# Concatenate all the xarrays in the list along the 'time' dimension\n",
    "final_ds = xr.concat(xarrays_list, dim='time')"
   ]
  },
  {
   "cell_type": "code",
   "execution_count": 89,
   "id": "0c720a2e-da98-47bc-9592-09180da2dc2d",
   "metadata": {
    "tags": []
   },
   "outputs": [
    {
     "data": {
      "text/html": [
       "<div>\n",
       "<style scoped>\n",
       "    .dataframe tbody tr th:only-of-type {\n",
       "        vertical-align: middle;\n",
       "    }\n",
       "\n",
       "    .dataframe tbody tr th {\n",
       "        vertical-align: top;\n",
       "    }\n",
       "\n",
       "    .dataframe thead th {\n",
       "        text-align: right;\n",
       "    }\n",
       "</style>\n",
       "<table border=\"1\" class=\"dataframe\">\n",
       "  <thead>\n",
       "    <tr style=\"text-align: right;\">\n",
       "      <th></th>\n",
       "      <th>lat</th>\n",
       "      <th>lon</th>\n",
       "      <th>time</th>\n",
       "      <th>no2</th>\n",
       "    </tr>\n",
       "  </thead>\n",
       "  <tbody>\n",
       "    <tr>\n",
       "      <th>0</th>\n",
       "      <td>29.685</td>\n",
       "      <td>-95.295</td>\n",
       "      <td>2023-08-02 10:00:00</td>\n",
       "      <td>4.1</td>\n",
       "    </tr>\n",
       "    <tr>\n",
       "      <th>1</th>\n",
       "      <td>29.685</td>\n",
       "      <td>-95.295</td>\n",
       "      <td>2023-08-02 11:00:00</td>\n",
       "      <td>5.2</td>\n",
       "    </tr>\n",
       "    <tr>\n",
       "      <th>2</th>\n",
       "      <td>29.685</td>\n",
       "      <td>-95.295</td>\n",
       "      <td>2023-08-02 12:00:00</td>\n",
       "      <td>4.9</td>\n",
       "    </tr>\n",
       "    <tr>\n",
       "      <th>3</th>\n",
       "      <td>29.685</td>\n",
       "      <td>-95.295</td>\n",
       "      <td>2023-08-02 13:00:00</td>\n",
       "      <td>3.7</td>\n",
       "    </tr>\n",
       "    <tr>\n",
       "      <th>4</th>\n",
       "      <td>29.685</td>\n",
       "      <td>-95.295</td>\n",
       "      <td>2023-08-02 14:00:00</td>\n",
       "      <td>3.6</td>\n",
       "    </tr>\n",
       "    <tr>\n",
       "      <th>...</th>\n",
       "      <td>...</td>\n",
       "      <td>...</td>\n",
       "      <td>...</td>\n",
       "      <td>...</td>\n",
       "    </tr>\n",
       "    <tr>\n",
       "      <th>221531</th>\n",
       "      <td>30.465</td>\n",
       "      <td>-91.175</td>\n",
       "      <td>2024-11-30 11:00:00</td>\n",
       "      <td>2.3</td>\n",
       "    </tr>\n",
       "    <tr>\n",
       "      <th>221532</th>\n",
       "      <td>30.465</td>\n",
       "      <td>-91.175</td>\n",
       "      <td>2024-11-30 12:00:00</td>\n",
       "      <td>1.6</td>\n",
       "    </tr>\n",
       "    <tr>\n",
       "      <th>221533</th>\n",
       "      <td>30.465</td>\n",
       "      <td>-91.175</td>\n",
       "      <td>2024-11-30 15:00:00</td>\n",
       "      <td>1.1</td>\n",
       "    </tr>\n",
       "    <tr>\n",
       "      <th>221534</th>\n",
       "      <td>30.465</td>\n",
       "      <td>-91.175</td>\n",
       "      <td>2024-11-30 16:00:00</td>\n",
       "      <td>4.2</td>\n",
       "    </tr>\n",
       "    <tr>\n",
       "      <th>221535</th>\n",
       "      <td>30.465</td>\n",
       "      <td>-91.175</td>\n",
       "      <td>2024-11-30 17:00:00</td>\n",
       "      <td>15.1</td>\n",
       "    </tr>\n",
       "  </tbody>\n",
       "</table>\n",
       "<p>221536 rows × 4 columns</p>\n",
       "</div>"
      ],
      "text/plain": [
       "           lat     lon                time   no2\n",
       "0       29.685 -95.295 2023-08-02 10:00:00   4.1\n",
       "1       29.685 -95.295 2023-08-02 11:00:00   5.2\n",
       "2       29.685 -95.295 2023-08-02 12:00:00   4.9\n",
       "3       29.685 -95.295 2023-08-02 13:00:00   3.7\n",
       "4       29.685 -95.295 2023-08-02 14:00:00   3.6\n",
       "...        ...     ...                 ...   ...\n",
       "221531  30.465 -91.175 2024-11-30 11:00:00   2.3\n",
       "221532  30.465 -91.175 2024-11-30 12:00:00   1.6\n",
       "221533  30.465 -91.175 2024-11-30 15:00:00   1.1\n",
       "221534  30.465 -91.175 2024-11-30 16:00:00   4.2\n",
       "221535  30.465 -91.175 2024-11-30 17:00:00  15.1\n",
       "\n",
       "[221536 rows x 4 columns]"
      ]
     },
     "execution_count": 89,
     "metadata": {},
     "output_type": "execute_result"
    }
   ],
   "source": [
    "latsensor_df_joined[['"
   ]
  },
  {
   "cell_type": "code",
   "execution_count": 71,
   "id": "1346fb6f-d44b-424d-81ae-6ef901794c6d",
   "metadata": {
    "tags": []
   },
   "outputs": [
    {
     "data": {
      "text/plain": [
       "5560"
      ]
     },
     "execution_count": 71,
     "metadata": {},
     "output_type": "execute_result"
    }
   ],
   "source": [
    "len(no2_hours)"
   ]
  },
  {
   "cell_type": "code",
   "execution_count": null,
   "id": "5aff9233-b1ce-4f0d-8b1c-e62d44aecfca",
   "metadata": {},
   "outputs": [],
   "source": [
    "orig_df=pd.read_csv('../../data/sensor_data/hourly_raw_am.csv', index_col=0)\n",
    "orig_df"
   ]
  },
  {
   "cell_type": "code",
   "execution_count": null,
   "id": "100a477b-76d8-4184-afe6-51604e63d6f3",
   "metadata": {},
   "outputs": [],
   "source": [
    "pd.merge(sensor_df_joined,orig_df,"
   ]
  },
  {
   "cell_type": "code",
   "execution_count": 11,
   "id": "2b8656fd-e0ea-4120-a38c-610c015d1d68",
   "metadata": {
    "tags": []
   },
   "outputs": [],
   "source": [
    "final_df.to_csv('../../data/mobile_air_data/final_sensor_withgrid.csv')"
   ]
  },
  {
   "cell_type": "code",
   "execution_count": 12,
   "id": "71189f74-6535-42e8-ac2b-538dfaa53149",
   "metadata": {
    "tags": []
   },
   "outputs": [],
   "source": [
    "# # Initialize an empty list to hold xarrays\n",
    "# xarrays_list = []\n",
    "\n",
    "# for i, time in enumerate(pd_datetime_list):\n",
    "#     print(i)\n",
    "#     no2_df = final_df[final_df['time']==time]\n",
    "#     time_df = pd.merge(grid_gdf, no2_df, on=['geometry', 'lat', 'lon'], how='left')\n",
    "#     time_df['time'] = time_df['time'].fillna(time)\n",
    "    \n",
    "#     # Pivot the data into a 2D array\n",
    "#     time_df_pivot = time_df.pivot(index=\"lat\", columns=\"lon\", values=\"weighted_no2\")\n",
    "\n",
    "#     # Convert to xarray\n",
    "#     da = xr.DataArray(\n",
    "#         time_df_pivot.values,\n",
    "#         coords={\n",
    "#             \"lat\": time_df_pivot.index.values,\n",
    "#             \"lon\": time_df_pivot.columns.values,\n",
    "#         },\n",
    "#         dims=[\"lat\", \"lon\"],\n",
    "#         name=\"no2\"\n",
    "#     )\n",
    "#     ds_expanded = da.expand_dims({'time': [time]})\n",
    "#     # Append the expanded xarray to the list\n",
    "#     xarrays_list.append(ds_expanded)\n",
    "\n",
    "# # Concatenate all the xarrays in the list along the 'time' dimension\n",
    "# final_ds = xr.concat(xarrays_list, dim='time')"
   ]
  },
  {
   "cell_type": "code",
   "execution_count": 13,
   "id": "edffa2d2-8323-4a43-8f30-ac4e6ba9a852",
   "metadata": {},
   "outputs": [],
   "source": [
    "# final_ds.to_netcdf(f'../../data/mobile_air_data/full_gridded_mobile.nc', engine='h5netcdf')"
   ]
  },
  {
   "cell_type": "code",
   "execution_count": 85,
   "id": "e4670f9f-a21a-46ab-8fea-aff59715d25f",
   "metadata": {
    "tags": []
   },
   "outputs": [
    {
     "data": {
      "image/png": "[encoded data removed]",
      "text/plain": [
       "<Figure size 1000x600 with 2 Axes>"
      ]
     },
     "metadata": {},
     "output_type": "display_data"
    }
   ],
   "source": [
    "import matplotlib.pyplot as plt\n",
    "# # # Define your latitude and longitude bounds\n",
    "# # lat_min, lat_max = 28.6, 33.4  # Example latitude range\n",
    "# # lon_min, lon_max = -98.9, -88.3  # Example longitude range\n",
    "\n",
    "# # Select one hour of temperature data (e.g., the first timestamp)\n",
    "# hour_index = 1  # Change this to select a different hour if desired\n",
    "# # temperature_data = nldas_month['temperature'].isel(time=hour_index)\n",
    "# temperature_data = nldas_month['wind_u']\n",
    "\n",
    "# Plot the data with switched axes\n",
    "plt.figure(figsize=(10, 6))\n",
    "\n",
    "# Plot with latitude on x-axis and longitude on y-axis\n",
    "final_ds[175].plot(\n",
    "    cmap=\"Reds\",  # Colormap for temperature visualization\n",
    "    cbar_kwargs={'label': 'Temperature (K)'}  # Add color bar label\n",
    ")\n",
    "\n",
    "# Update axis labels\n",
    "plt.xlabel(\"Latitude\")\n",
    "plt.ylabel(\"Longitude\")\n",
    "\n",
    "plt.show()"
   ]
  }
 ],
 "metadata": {
  "environment": {
   "kernel": "ds_env",
   "name": "workbench-notebooks.m125",
   "type": "gcloud",
   "uri": "us-docker.pkg.dev/deeplearning-platform-release/gcr.io/workbench-notebooks:m125"
  },
  "kernelspec": {
   "display_name": "Python (ds_env) (Local)",
   "language": "python",
   "name": "ds_env"
  },
  "language_info": {
   "codemirror_mode": {
    "name": "ipython",
    "version": 3
   },
   "file_extension": ".py",
   "mimetype": "text/x-python",
   "name": "python",
   "nbconvert_exporter": "python",
   "pygments_lexer": "ipython3",
   "version": "3.11.10"
  }
 },
 "nbformat": 4,
 "nbformat_minor": 5
}
