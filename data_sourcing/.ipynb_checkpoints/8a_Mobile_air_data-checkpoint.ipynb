{
 "cells": [
  {
   "cell_type": "code",
   "execution_count": 2,
   "id": "4293de77-54f1-42dc-9491-dc0a125d5190",
   "metadata": {
    "tags": []
   },
   "outputs": [],
   "source": [
    "import pandas as pd \n",
    "import geopandas as gpd\n",
    "from shapely.geometry import Point\n",
    "from bbox import * \n",
    "from pytz import timezone\n",
    "import os\n",
    "from shapely.wkt import loads\n",
    "import numpy as np\n",
    "import xarray as xr"
   ]
  },
  {
   "cell_type": "code",
   "execution_count": 2,
   "id": "da7fb4b3-00c3-4e8f-936c-3732c7c1fdf5",
   "metadata": {
    "tags": []
   },
   "outputs": [],
   "source": [
    "#################################################\n",
    "##               Full Mobile Air               ##\n",
    "#################################################\n",
    "\n",
    "# files = os.listdir('../../data/mobile_air_data/')\n",
    "\n",
    "# full_df = pd.DataFrame()\n",
    "\n",
    "# for file in files:\n",
    "    \n",
    "#     df = pd.read_csv(f'../../data/mobile_air_data/{file}')\n",
    "#     print(file)\n",
    "#     df=df[['geometry', 'pass_start_time', 'pass_end_time',\n",
    "#            'no2 ppb']]\n",
    "#     df = df[~df['no2 ppb'].isna()]\n",
    "#     # Convert start_time and end_time to datetime\n",
    "#     df[\"pass_start_time\"] = pd.to_datetime(df[\"pass_start_time\"])\n",
    "#     df[\"pass_end_time\"] = pd.to_datetime(df[\"pass_end_time\"])\n",
    "#     # Calculate pass_time (duration in timedelta) Mean pass time of 5 seconds, max of 1 min 12 seconds\n",
    "#     df[\"pass_time\"] = df[\"pass_end_time\"] - df[\"pass_start_time\"]\n",
    "#     # Convert start_time to Central Time and round down to the beginning of the hour\n",
    "#     central = timezone(\"US/Central\")\n",
    "#     df1 = df[['geometry', 'pass_start_time', 'pass_time', 'no2 ppb']]\n",
    "#     df2 = df[['geometry', 'pass_end_time', 'pass_time', 'no2 ppb']]\n",
    "#     df1[\"time\"] = df[\"pass_start_time\"].dt.tz_convert(central).dt.floor(\"h\")\n",
    "#     df1[\"time\"] = df1[\"time\"].dt.tz_localize(None)\n",
    "#     df2[\"time\"] = df2[\"pass_end_time\"].dt.tz_convert(central).dt.floor(\"h\")\n",
    "#     df2[\"time\"] = df2[\"time\"].dt.tz_localize(None)\n",
    "#     df = pd.merge(df1, df2, on=['geometry', 'time', 'no2 ppb'])\n",
    "#     df = df[['geometry', 'time', 'no2 ppb', 'pass_start_time', 'pass_end_time']]\n",
    "#     del df1\n",
    "#     del df2\n",
    "    \n",
    "#     full_df = pd.concat([full_df, df], axis=0)\n",
    "#     full_df.to_csv('../../data/mobile_air_data/combined_data_no2.csv')"
   ]
  },
  {
   "cell_type": "code",
   "execution_count": 3,
   "id": "1b8ba877-6a7b-44ce-b6f4-9eb34bcb7247",
   "metadata": {
    "tags": []
   },
   "outputs": [
    {
     "ename": "OSError",
     "evalue": "[Errno 107] Transport endpoint is not connected: '../../data/mobile_air_data/combined_data_no2.csv'",
     "output_type": "error",
     "traceback": [
      "\u001b[0;31m---------------------------------------------------------------------------\u001b[0m",
      "\u001b[0;31mOSError\u001b[0m                                   Traceback (most recent call last)",
      "Cell \u001b[0;32mIn[3], line 1\u001b[0m\n\u001b[0;32m----> 1\u001b[0m full_df\u001b[38;5;241m=\u001b[39m\u001b[43mpd\u001b[49m\u001b[38;5;241;43m.\u001b[39;49m\u001b[43mread_csv\u001b[49m\u001b[43m(\u001b[49m\u001b[38;5;124;43m'\u001b[39;49m\u001b[38;5;124;43m../../data/mobile_air_data/combined_data_no2.csv\u001b[39;49m\u001b[38;5;124;43m'\u001b[39;49m\u001b[43m,\u001b[49m\u001b[43m \u001b[49m\u001b[43mindex_col\u001b[49m\u001b[38;5;241;43m=\u001b[39;49m\u001b[38;5;241;43m0\u001b[39;49m\u001b[43m)\u001b[49m\n\u001b[1;32m      3\u001b[0m \u001b[38;5;66;03m#################################################\u001b[39;00m\n\u001b[1;32m      4\u001b[0m \u001b[38;5;66;03m##              Create Pass-> Grid Key         ##\u001b[39;00m\n\u001b[1;32m      5\u001b[0m \u001b[38;5;66;03m#################################################\u001b[39;00m\n\u001b[1;32m      6\u001b[0m \n\u001b[1;32m      7\u001b[0m \u001b[38;5;66;03m# All passes-- duplicated if cross over multiple hours\u001b[39;00m\n\u001b[1;32m      8\u001b[0m all_passes\u001b[38;5;241m=\u001b[39mfull_df[[\u001b[38;5;124m'\u001b[39m\u001b[38;5;124mgeometry\u001b[39m\u001b[38;5;124m'\u001b[39m]]\n",
      "File \u001b[0;32m/opt/conda/envs/ds_env/lib/python3.11/site-packages/pandas/io/parsers/readers.py:1026\u001b[0m, in \u001b[0;36mread_csv\u001b[0;34m(filepath_or_buffer, sep, delimiter, header, names, index_col, usecols, dtype, engine, converters, true_values, false_values, skipinitialspace, skiprows, skipfooter, nrows, na_values, keep_default_na, na_filter, verbose, skip_blank_lines, parse_dates, infer_datetime_format, keep_date_col, date_parser, date_format, dayfirst, cache_dates, iterator, chunksize, compression, thousands, decimal, lineterminator, quotechar, quoting, doublequote, escapechar, comment, encoding, encoding_errors, dialect, on_bad_lines, delim_whitespace, low_memory, memory_map, float_precision, storage_options, dtype_backend)\u001b[0m\n\u001b[1;32m   1013\u001b[0m kwds_defaults \u001b[38;5;241m=\u001b[39m _refine_defaults_read(\n\u001b[1;32m   1014\u001b[0m     dialect,\n\u001b[1;32m   1015\u001b[0m     delimiter,\n\u001b[0;32m   (...)\u001b[0m\n\u001b[1;32m   1022\u001b[0m     dtype_backend\u001b[38;5;241m=\u001b[39mdtype_backend,\n\u001b[1;32m   1023\u001b[0m )\n\u001b[1;32m   1024\u001b[0m kwds\u001b[38;5;241m.\u001b[39mupdate(kwds_defaults)\n\u001b[0;32m-> 1026\u001b[0m \u001b[38;5;28;01mreturn\u001b[39;00m \u001b[43m_read\u001b[49m\u001b[43m(\u001b[49m\u001b[43mfilepath_or_buffer\u001b[49m\u001b[43m,\u001b[49m\u001b[43m \u001b[49m\u001b[43mkwds\u001b[49m\u001b[43m)\u001b[49m\n",
      "File \u001b[0;32m/opt/conda/envs/ds_env/lib/python3.11/site-packages/pandas/io/parsers/readers.py:620\u001b[0m, in \u001b[0;36m_read\u001b[0;34m(filepath_or_buffer, kwds)\u001b[0m\n\u001b[1;32m    617\u001b[0m _validate_names(kwds\u001b[38;5;241m.\u001b[39mget(\u001b[38;5;124m\"\u001b[39m\u001b[38;5;124mnames\u001b[39m\u001b[38;5;124m\"\u001b[39m, \u001b[38;5;28;01mNone\u001b[39;00m))\n\u001b[1;32m    619\u001b[0m \u001b[38;5;66;03m# Create the parser.\u001b[39;00m\n\u001b[0;32m--> 620\u001b[0m parser \u001b[38;5;241m=\u001b[39m \u001b[43mTextFileReader\u001b[49m\u001b[43m(\u001b[49m\u001b[43mfilepath_or_buffer\u001b[49m\u001b[43m,\u001b[49m\u001b[43m \u001b[49m\u001b[38;5;241;43m*\u001b[39;49m\u001b[38;5;241;43m*\u001b[39;49m\u001b[43mkwds\u001b[49m\u001b[43m)\u001b[49m\n\u001b[1;32m    622\u001b[0m \u001b[38;5;28;01mif\u001b[39;00m chunksize \u001b[38;5;129;01mor\u001b[39;00m iterator:\n\u001b[1;32m    623\u001b[0m     \u001b[38;5;28;01mreturn\u001b[39;00m parser\n",
      "File \u001b[0;32m/opt/conda/envs/ds_env/lib/python3.11/site-packages/pandas/io/parsers/readers.py:1620\u001b[0m, in \u001b[0;36mTextFileReader.__init__\u001b[0;34m(self, f, engine, **kwds)\u001b[0m\n\u001b[1;32m   1617\u001b[0m     \u001b[38;5;28mself\u001b[39m\u001b[38;5;241m.\u001b[39moptions[\u001b[38;5;124m\"\u001b[39m\u001b[38;5;124mhas_index_names\u001b[39m\u001b[38;5;124m\"\u001b[39m] \u001b[38;5;241m=\u001b[39m kwds[\u001b[38;5;124m\"\u001b[39m\u001b[38;5;124mhas_index_names\u001b[39m\u001b[38;5;124m\"\u001b[39m]\n\u001b[1;32m   1619\u001b[0m \u001b[38;5;28mself\u001b[39m\u001b[38;5;241m.\u001b[39mhandles: IOHandles \u001b[38;5;241m|\u001b[39m \u001b[38;5;28;01mNone\u001b[39;00m \u001b[38;5;241m=\u001b[39m \u001b[38;5;28;01mNone\u001b[39;00m\n\u001b[0;32m-> 1620\u001b[0m \u001b[38;5;28mself\u001b[39m\u001b[38;5;241m.\u001b[39m_engine \u001b[38;5;241m=\u001b[39m \u001b[38;5;28;43mself\u001b[39;49m\u001b[38;5;241;43m.\u001b[39;49m\u001b[43m_make_engine\u001b[49m\u001b[43m(\u001b[49m\u001b[43mf\u001b[49m\u001b[43m,\u001b[49m\u001b[43m \u001b[49m\u001b[38;5;28;43mself\u001b[39;49m\u001b[38;5;241;43m.\u001b[39;49m\u001b[43mengine\u001b[49m\u001b[43m)\u001b[49m\n",
      "File \u001b[0;32m/opt/conda/envs/ds_env/lib/python3.11/site-packages/pandas/io/parsers/readers.py:1880\u001b[0m, in \u001b[0;36mTextFileReader._make_engine\u001b[0;34m(self, f, engine)\u001b[0m\n\u001b[1;32m   1878\u001b[0m     \u001b[38;5;28;01mif\u001b[39;00m \u001b[38;5;124m\"\u001b[39m\u001b[38;5;124mb\u001b[39m\u001b[38;5;124m\"\u001b[39m \u001b[38;5;129;01mnot\u001b[39;00m \u001b[38;5;129;01min\u001b[39;00m mode:\n\u001b[1;32m   1879\u001b[0m         mode \u001b[38;5;241m+\u001b[39m\u001b[38;5;241m=\u001b[39m \u001b[38;5;124m\"\u001b[39m\u001b[38;5;124mb\u001b[39m\u001b[38;5;124m\"\u001b[39m\n\u001b[0;32m-> 1880\u001b[0m \u001b[38;5;28mself\u001b[39m\u001b[38;5;241m.\u001b[39mhandles \u001b[38;5;241m=\u001b[39m \u001b[43mget_handle\u001b[49m\u001b[43m(\u001b[49m\n\u001b[1;32m   1881\u001b[0m \u001b[43m    \u001b[49m\u001b[43mf\u001b[49m\u001b[43m,\u001b[49m\n\u001b[1;32m   1882\u001b[0m \u001b[43m    \u001b[49m\u001b[43mmode\u001b[49m\u001b[43m,\u001b[49m\n\u001b[1;32m   1883\u001b[0m \u001b[43m    \u001b[49m\u001b[43mencoding\u001b[49m\u001b[38;5;241;43m=\u001b[39;49m\u001b[38;5;28;43mself\u001b[39;49m\u001b[38;5;241;43m.\u001b[39;49m\u001b[43moptions\u001b[49m\u001b[38;5;241;43m.\u001b[39;49m\u001b[43mget\u001b[49m\u001b[43m(\u001b[49m\u001b[38;5;124;43m\"\u001b[39;49m\u001b[38;5;124;43mencoding\u001b[39;49m\u001b[38;5;124;43m\"\u001b[39;49m\u001b[43m,\u001b[49m\u001b[43m \u001b[49m\u001b[38;5;28;43;01mNone\u001b[39;49;00m\u001b[43m)\u001b[49m\u001b[43m,\u001b[49m\n\u001b[1;32m   1884\u001b[0m \u001b[43m    \u001b[49m\u001b[43mcompression\u001b[49m\u001b[38;5;241;43m=\u001b[39;49m\u001b[38;5;28;43mself\u001b[39;49m\u001b[38;5;241;43m.\u001b[39;49m\u001b[43moptions\u001b[49m\u001b[38;5;241;43m.\u001b[39;49m\u001b[43mget\u001b[49m\u001b[43m(\u001b[49m\u001b[38;5;124;43m\"\u001b[39;49m\u001b[38;5;124;43mcompression\u001b[39;49m\u001b[38;5;124;43m\"\u001b[39;49m\u001b[43m,\u001b[49m\u001b[43m \u001b[49m\u001b[38;5;28;43;01mNone\u001b[39;49;00m\u001b[43m)\u001b[49m\u001b[43m,\u001b[49m\n\u001b[1;32m   1885\u001b[0m \u001b[43m    \u001b[49m\u001b[43mmemory_map\u001b[49m\u001b[38;5;241;43m=\u001b[39;49m\u001b[38;5;28;43mself\u001b[39;49m\u001b[38;5;241;43m.\u001b[39;49m\u001b[43moptions\u001b[49m\u001b[38;5;241;43m.\u001b[39;49m\u001b[43mget\u001b[49m\u001b[43m(\u001b[49m\u001b[38;5;124;43m\"\u001b[39;49m\u001b[38;5;124;43mmemory_map\u001b[39;49m\u001b[38;5;124;43m\"\u001b[39;49m\u001b[43m,\u001b[49m\u001b[43m \u001b[49m\u001b[38;5;28;43;01mFalse\u001b[39;49;00m\u001b[43m)\u001b[49m\u001b[43m,\u001b[49m\n\u001b[1;32m   1886\u001b[0m \u001b[43m    \u001b[49m\u001b[43mis_text\u001b[49m\u001b[38;5;241;43m=\u001b[39;49m\u001b[43mis_text\u001b[49m\u001b[43m,\u001b[49m\n\u001b[1;32m   1887\u001b[0m \u001b[43m    \u001b[49m\u001b[43merrors\u001b[49m\u001b[38;5;241;43m=\u001b[39;49m\u001b[38;5;28;43mself\u001b[39;49m\u001b[38;5;241;43m.\u001b[39;49m\u001b[43moptions\u001b[49m\u001b[38;5;241;43m.\u001b[39;49m\u001b[43mget\u001b[49m\u001b[43m(\u001b[49m\u001b[38;5;124;43m\"\u001b[39;49m\u001b[38;5;124;43mencoding_errors\u001b[39;49m\u001b[38;5;124;43m\"\u001b[39;49m\u001b[43m,\u001b[49m\u001b[43m \u001b[49m\u001b[38;5;124;43m\"\u001b[39;49m\u001b[38;5;124;43mstrict\u001b[39;49m\u001b[38;5;124;43m\"\u001b[39;49m\u001b[43m)\u001b[49m\u001b[43m,\u001b[49m\n\u001b[1;32m   1888\u001b[0m \u001b[43m    \u001b[49m\u001b[43mstorage_options\u001b[49m\u001b[38;5;241;43m=\u001b[39;49m\u001b[38;5;28;43mself\u001b[39;49m\u001b[38;5;241;43m.\u001b[39;49m\u001b[43moptions\u001b[49m\u001b[38;5;241;43m.\u001b[39;49m\u001b[43mget\u001b[49m\u001b[43m(\u001b[49m\u001b[38;5;124;43m\"\u001b[39;49m\u001b[38;5;124;43mstorage_options\u001b[39;49m\u001b[38;5;124;43m\"\u001b[39;49m\u001b[43m,\u001b[49m\u001b[43m \u001b[49m\u001b[38;5;28;43;01mNone\u001b[39;49;00m\u001b[43m)\u001b[49m\u001b[43m,\u001b[49m\n\u001b[1;32m   1889\u001b[0m \u001b[43m\u001b[49m\u001b[43m)\u001b[49m\n\u001b[1;32m   1890\u001b[0m \u001b[38;5;28;01massert\u001b[39;00m \u001b[38;5;28mself\u001b[39m\u001b[38;5;241m.\u001b[39mhandles \u001b[38;5;129;01mis\u001b[39;00m \u001b[38;5;129;01mnot\u001b[39;00m \u001b[38;5;28;01mNone\u001b[39;00m\n\u001b[1;32m   1891\u001b[0m f \u001b[38;5;241m=\u001b[39m \u001b[38;5;28mself\u001b[39m\u001b[38;5;241m.\u001b[39mhandles\u001b[38;5;241m.\u001b[39mhandle\n",
      "File \u001b[0;32m/opt/conda/envs/ds_env/lib/python3.11/site-packages/pandas/io/common.py:873\u001b[0m, in \u001b[0;36mget_handle\u001b[0;34m(path_or_buf, mode, encoding, compression, memory_map, is_text, errors, storage_options)\u001b[0m\n\u001b[1;32m    868\u001b[0m \u001b[38;5;28;01melif\u001b[39;00m \u001b[38;5;28misinstance\u001b[39m(handle, \u001b[38;5;28mstr\u001b[39m):\n\u001b[1;32m    869\u001b[0m     \u001b[38;5;66;03m# Check whether the filename is to be opened in binary mode.\u001b[39;00m\n\u001b[1;32m    870\u001b[0m     \u001b[38;5;66;03m# Binary mode does not support 'encoding' and 'newline'.\u001b[39;00m\n\u001b[1;32m    871\u001b[0m     \u001b[38;5;28;01mif\u001b[39;00m ioargs\u001b[38;5;241m.\u001b[39mencoding \u001b[38;5;129;01mand\u001b[39;00m \u001b[38;5;124m\"\u001b[39m\u001b[38;5;124mb\u001b[39m\u001b[38;5;124m\"\u001b[39m \u001b[38;5;129;01mnot\u001b[39;00m \u001b[38;5;129;01min\u001b[39;00m ioargs\u001b[38;5;241m.\u001b[39mmode:\n\u001b[1;32m    872\u001b[0m         \u001b[38;5;66;03m# Encoding\u001b[39;00m\n\u001b[0;32m--> 873\u001b[0m         handle \u001b[38;5;241m=\u001b[39m \u001b[38;5;28;43mopen\u001b[39;49m\u001b[43m(\u001b[49m\n\u001b[1;32m    874\u001b[0m \u001b[43m            \u001b[49m\u001b[43mhandle\u001b[49m\u001b[43m,\u001b[49m\n\u001b[1;32m    875\u001b[0m \u001b[43m            \u001b[49m\u001b[43mioargs\u001b[49m\u001b[38;5;241;43m.\u001b[39;49m\u001b[43mmode\u001b[49m\u001b[43m,\u001b[49m\n\u001b[1;32m    876\u001b[0m \u001b[43m            \u001b[49m\u001b[43mencoding\u001b[49m\u001b[38;5;241;43m=\u001b[39;49m\u001b[43mioargs\u001b[49m\u001b[38;5;241;43m.\u001b[39;49m\u001b[43mencoding\u001b[49m\u001b[43m,\u001b[49m\n\u001b[1;32m    877\u001b[0m \u001b[43m            \u001b[49m\u001b[43merrors\u001b[49m\u001b[38;5;241;43m=\u001b[39;49m\u001b[43merrors\u001b[49m\u001b[43m,\u001b[49m\n\u001b[1;32m    878\u001b[0m \u001b[43m            \u001b[49m\u001b[43mnewline\u001b[49m\u001b[38;5;241;43m=\u001b[39;49m\u001b[38;5;124;43m\"\u001b[39;49m\u001b[38;5;124;43m\"\u001b[39;49m\u001b[43m,\u001b[49m\n\u001b[1;32m    879\u001b[0m \u001b[43m        \u001b[49m\u001b[43m)\u001b[49m\n\u001b[1;32m    880\u001b[0m     \u001b[38;5;28;01melse\u001b[39;00m:\n\u001b[1;32m    881\u001b[0m         \u001b[38;5;66;03m# Binary mode\u001b[39;00m\n\u001b[1;32m    882\u001b[0m         handle \u001b[38;5;241m=\u001b[39m \u001b[38;5;28mopen\u001b[39m(handle, ioargs\u001b[38;5;241m.\u001b[39mmode)\n",
      "\u001b[0;31mOSError\u001b[0m: [Errno 107] Transport endpoint is not connected: '../../data/mobile_air_data/combined_data_no2.csv'"
     ]
    }
   ],
   "source": [
    "full_df=pd.read_csv('../../data/mobile_air_data/combined_data_no2.csv', index_col=0)\n",
    "\n",
    "#################################################\n",
    "##              Create Pass-> Grid Key         ##\n",
    "#################################################\n",
    "\n",
    "# All passes-- duplicated if cross over multiple hours\n",
    "all_passes=full_df[['geometry']]\n",
    "all_passes.drop_duplicates(inplace=True)\n",
    "all_passes[\"geometry_join\"] = all_passes[\"geometry\"].apply(loads)\n",
    "all_passes = gpd.GeoDataFrame(all_passes, geometry=\"geometry_join\", crs=\"EPSG:4326\")\n",
    "\n",
    "\n",
    "# Create gridded GDF\n",
    "res = 0.01 \n",
    "lon_bins = np.arange(lon_min+0.005, lon_max, res)\n",
    "lat_bins = np.arange(lat_min+0.005, lat_max, res)\n",
    "\n",
    "grid_cells = []\n",
    "for x in lon_bins[:-1]:\n",
    "    for y in lat_bins[:-1]:\n",
    "        grid_cells.append(\n",
    "            Point(x, y).buffer(res / 2).envelope\n",
    "        )\n",
    "\n",
    "grid_gdf = gpd.GeoDataFrame(\n",
    "    {\"geometry\": grid_cells},\n",
    "    crs=\"EPSG:4326\"\n",
    ")\n",
    "grid_gdf[\"lat\"] = grid_gdf.geometry.centroid.y\n",
    "grid_gdf[\"lon\"] = grid_gdf.geometry.centroid.x\n",
    "\n",
    "\n",
    "# Final join-- counts line segments if intersect with multiple \n",
    "key = gpd.sjoin(grid_gdf, all_passes, how=\"inner\", predicate=\"intersects\")\n",
    "key[\"geometry_right\"] = key[\"geometry_right\"].apply(loads)\n",
    "# For each intersected line and grid cell, calculate the length of the intersection\n",
    "key['intersection_length'] = key.apply(lambda row: row.geometry.intersection(row.geometry_right).length, axis=1)\n",
    "key = pd.DataFrame(key)\n",
    "key=key[['geometry', 'geometry_right', 'lat', 'lon', 'intersection_length']]\n",
    "key = key.rename(columns = {'geometry_right':'pass_geo'})\n",
    "\n",
    "# Merge with Full DF\n",
    "full_df = full_df.rename(columns = {'geometry':'pass_geo'})\n",
    "full_df[\"pass_geo\"] = full_df[\"pass_geo\"].apply(loads)\n",
    "# key[\"pass_geo\"] = key[\"pass_geo\"].apply(loads)\n",
    "full_df['pass_geo']=full_df['pass_geo'].astype(str)\n",
    "key['pass_geo']=key['pass_geo'].astype(str)\n",
    "merged_df= pd.merge(full_df, key, on='pass_geo')\n",
    "merged_df=merged_df[['geometry', 'lat', 'lon', 'time','no2 ppb','intersection_length']]\n",
    "merged_df = merged_df.rename(columns = {'no2 ppb':'no2'})\n",
    "\n",
    "# Select times in TEMPO files\n",
    "no2_hours = pd.read_csv(\"../../data/tempo_data/no2_file_hours.csv\")\n",
    "no2_hours=list(no2_hours['time_hr_ct'])\n",
    "time_list = np.array(no2_hours, dtype=\"datetime64[ns]\")\n",
    "mobile_time_list = np.array(merged_df['time'].unique(), dtype=\"datetime64[ns]\")\n",
    "\n",
    "seta = set(mobile_time_list)\n",
    "setb = set(time_list)\n",
    "union_set = seta & setb\n",
    "full_time_list = list(union_set)\n",
    "\n",
    "# Convert to pandas datetime objects\n",
    "pd_datetime_list = list(pd.to_datetime(full_time_list))\n",
    "merged_df['time']=pd.to_datetime(merged_df['time'])\n",
    "merged_df=merged_df[merged_df['time'].isin(pd_datetime_list)]\n",
    "\n",
    "# Group by 'geometry', 'lat', 'lon', and 'time'\n",
    "grouped = merged_df.groupby(['geometry', 'lat', 'lon', 'time'])\n",
    "# Calculate the weighted average of 'no2' using 'intersection_length' as the weight\n",
    "grouped = grouped.apply(lambda x: (x['no2'] * x['intersection_length']).sum() / x['intersection_length'].sum())\n",
    "# Reset the index to get a flat DataFrame\n",
    "final_df = grouped.reset_index(name='weighted_no2')\n",
    "\n",
    "del merged_df\n",
    "del full_df\n",
    "del key\n",
    "del all_passes\n",
    "del grouped\n",
    "del seta\n",
    "del setb\n",
    "del union_set\n",
    "gc.collect()"
   ]
  },
  {
   "cell_type": "code",
   "execution_count": null,
   "id": "f8361065-fec4-40c9-aa91-668738f53ec2",
   "metadata": {},
   "outputs": [],
   "source": [
    "len(pd_datetime_list)"
   ]
  },
  {
   "cell_type": "code",
   "execution_count": null,
   "id": "71189f74-6535-42e8-ac2b-538dfaa53149",
   "metadata": {
    "tags": []
   },
   "outputs": [],
   "source": [
    "# Initialize an empty list to hold xarrays\n",
    "xarrays_list = []\n",
    "\n",
    "for time in pd_datetime_list:\n",
    "    print(time)\n",
    "    no2_df = final_df[final_df['time']==time]\n",
    "    time_df = pd.merge(grid_gdf, no2_df, on=['geometry', 'lat', 'lon'], how='left')\n",
    "    time_df['time'] = time_df['time'].fillna(time)\n",
    "    \n",
    "    # Pivot the data into a 2D array\n",
    "    time_df_pivot = time_df.pivot(index=\"lat\", columns=\"lon\", values=\"weighted_no2\")\n",
    "\n",
    "    # Convert to xarray\n",
    "    da = xr.DataArray(\n",
    "        time_df_pivot.values,\n",
    "        coords={\n",
    "            \"lat\": time_df_pivot.index.values,\n",
    "            \"lon\": time_df_pivot.columns.values,\n",
    "        },\n",
    "        dims=[\"lat\", \"lon\"],\n",
    "        name=\"no2\"\n",
    "    )\n",
    "    ds_expanded = da.expand_dims({'time': [time]})\n",
    "    # Append the expanded xarray to the list\n",
    "    xarrays_list.append(ds_expanded)\n",
    "\n",
    "# Concatenate all the xarrays in the list along the 'time' dimension\n",
    "final_ds = xr.concat(xarrays_list, dim='time')"
   ]
  },
  {
   "cell_type": "code",
   "execution_count": null,
   "id": "31dbcd18-b7f7-44bb-b069-67a96d592de6",
   "metadata": {
    "tags": []
   },
   "outputs": [],
   "source": [
    "final_ds"
   ]
  },
  {
   "cell_type": "code",
   "execution_count": null,
   "id": "edffa2d2-8323-4a43-8f30-ac4e6ba9a852",
   "metadata": {},
   "outputs": [],
   "source": [
    "final_ds.to_netcdf(f'../../data/mobile_air_data/full_gridded_mobile.nc', engine='h5netcdf')"
   ]
  },
  {
   "cell_type": "code",
   "execution_count": 88,
   "id": "e4670f9f-a21a-46ab-8fea-aff59715d25f",
   "metadata": {
    "tags": []
   },
   "outputs": [
    {
     "data": {
      "image/png": "[encoded data removed]",
      "text/plain": [
       "<Figure size 1000x600 with 2 Axes>"
      ]
     },
     "metadata": {},
     "output_type": "display_data"
    }
   ],
   "source": [
    "import matplotlib.pyplot as plt\n",
    "# # # Define your latitude and longitude bounds\n",
    "# # lat_min, lat_max = 28.6, 33.4  # Example latitude range\n",
    "# # lon_min, lon_max = -98.9, -88.3  # Example longitude range\n",
    "\n",
    "# # Select one hour of temperature data (e.g., the first timestamp)\n",
    "# hour_index = 1  # Change this to select a different hour if desired\n",
    "# # temperature_data = nldas_month['temperature'].isel(time=hour_index)\n",
    "# temperature_data = nldas_month['wind_u']\n",
    "\n",
    "# Plot the data with switched axes\n",
    "plt.figure(figsize=(10, 6))\n",
    "\n",
    "# Plot with latitude on x-axis and longitude on y-axis\n",
    "da.plot(\n",
    "    cmap=\"coolwarm\",  # Colormap for temperature visualization\n",
    "    cbar_kwargs={'label': 'Temperature (K)'}  # Add color bar label\n",
    ")\n",
    "\n",
    "# Update axis labels\n",
    "plt.xlabel(\"Latitude\")\n",
    "plt.ylabel(\"Longitude\")\n",
    "\n",
    "plt.show()"
   ]
  }
 ],
 "metadata": {
  "environment": {
   "kernel": "ds_env",
   "name": "workbench-notebooks.m125",
   "type": "gcloud",
   "uri": "us-docker.pkg.dev/deeplearning-platform-release/gcr.io/workbench-notebooks:m125"
  },
  "kernelspec": {
   "display_name": "Python (ds_env) (Local)",
   "language": "python",
   "name": "ds_env"
  },
  "language_info": {
   "codemirror_mode": {
    "name": "ipython",
    "version": 3
   },
   "file_extension": ".py",
   "mimetype": "text/x-python",
   "name": "python",
   "nbconvert_exporter": "python",
   "pygments_lexer": "ipython3",
   "version": "3.11.10"
  }
 },
 "nbformat": 4,
 "nbformat_minor": 5
}
