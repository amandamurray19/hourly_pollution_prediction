{
 "cells": [
  {
   "cell_type": "code",
   "execution_count": 2,
   "id": "e17b8f2e-db15-4919-b3f4-ae60352d3a97",
   "metadata": {
    "tags": []
   },
   "outputs": [],
   "source": [
    "# https://gee-community-catalog.org/projects/annual_nlcd/#earth-engine-snippet\n",
    "import ee\n",
    "import xarray as xr\n",
    "import pandas as pd\n",
    "import numpy as np\n",
    "import dask.array as da\n",
    "import xee\n",
    "from bbox import * \n",
    "from datetime import datetime\n",
    "# Trigger the authentication flow\n",
    "ee.Authenticate()\n",
    "\n",
    "# Initialize the Earth Engine library\n",
    "ee.Initialize(project='satellite-modeling')\n",
    "\n",
    "# Define the rectangle that encompasses Louisiana and Texas\n",
    "bbox = ee.Geometry.Rectangle([lon_min, lat_min, lon_max, lat_max])\n",
    "\n",
    "start_date = '2023-07-01T00:00'\n",
    "# start_date = '2024-09-20T00:00'\n",
    "\n",
    "end_date = datetime.now().strftime('%Y-%m-%dT%H:%M')"
   ]
  },
  {
   "cell_type": "code",
   "execution_count": 3,
   "id": "cee1965a-145c-4600-bc9d-c30f95a30ce8",
   "metadata": {
    "tags": []
   },
   "outputs": [],
   "source": [
    "no2_hours = pd.read_csv(\"../../data/tempo_data/no2_file_hours.csv\")\n",
    "no2_hours=list(no2_hours['time_hr_ct'])\n",
    "time_list = np.array(no2_hours, dtype=\"datetime64[ns]\")"
   ]
  },
  {
   "cell_type": "code",
   "execution_count": 4,
   "id": "7191bf33-c94a-4209-8ebc-37cede5eab28",
   "metadata": {
    "tags": []
   },
   "outputs": [],
   "source": [
    "##################################################\n",
    "# Load RTMA Data\n",
    "##################################################\n",
    "\n",
    "# List of climate variables to download from NOAA RTMA\n",
    "variables = ['PRES', 'TMP', 'UGRD', 'VGRD','DPT','SPFH','WDIR', 'WIND', 'GUST', 'VIS', 'TCDC', 'ACPC01']\n",
    "# Load NOAA hourly data and filter by region and date\n",
    "dataset = ee.ImageCollection(\"NOAA/NWS/RTMA\") \\\n",
    "            .filterDate(start_date, end_date) \\\n",
    "            .filterBounds(bbox)  \\\n",
    "            .select(variables)\n",
    "\n",
    "ds = xr.open_dataset(dataset, engine='ee', crs='EPSG:4326', scale=0.01)\n",
    "# Filter the dataset based on the latitude and longitude bounds\n",
    "ds = ds.sel(lat=slice(lat_min, lat_max), lon=slice(lon_min, lon_max))\n",
    "\n",
    "##################################################\n",
    "# Change Timestamps\n",
    "##################################################\n",
    "# Recreate UTC Time Stamps\n",
    "ds_time_list = ds[\"time\"].values.tolist()\n",
    "timestamps_utc = pd.to_datetime(ds_time_list)\n",
    "timestamps_utc = timestamps_utc.tz_localize('UTC')\n",
    "\n",
    "# Add 1 hour to each timestamp so that it contains weather data from prior hour\n",
    "timestamps_adjusted = timestamps_utc + pd.Timedelta(hours=1)\n",
    "\n",
    "# Convert to Central Time (handles daylight saving time automatically)\n",
    "timestamps_central = timestamps_adjusted.tz_convert('America/Chicago')\n",
    "timestamps_central = timestamps_central.tz_localize(None)\n",
    "timestamps_central=np.array(timestamps_central, dtype=\"datetime64[ns]\")\n",
    "# Replace the time dimension\n",
    "ds = ds.assign_coords(time=timestamps_central)\n",
    "\n",
    "# Remove duplicate hour from time change\n",
    "ds = ds.isel(time=ds.get_index(\"time\").duplicated() == False)"
   ]
  },
  {
   "cell_type": "code",
   "execution_count": 5,
   "id": "a162d9f7-0e4a-4c96-8295-94eb283772fd",
   "metadata": {
    "tags": []
   },
   "outputs": [],
   "source": [
    "# Find dates included in both sat and weather data\n",
    "seta = set(timestamps_central)\n",
    "setb = set(time_list)\n",
    "union_set = seta & setb\n",
    "full_time_list = list(union_set)\n",
    "ds = ds.sel(time=full_time_list)\n",
    "unique_months = sorted(set(date.astype('datetime64[M]') for date in full_time_list))"
   ]
  },
  {
   "cell_type": "code",
   "execution_count": 6,
   "id": "49f623be-7d3d-4f78-bbc8-d6c5dc94b72d",
   "metadata": {
    "tags": []
   },
   "outputs": [
    {
     "data": {
      "text/plain": [
       "[np.datetime64('2024-09'),\n",
       " np.datetime64('2024-10'),\n",
       " np.datetime64('2024-11'),\n",
       " np.datetime64('2024-12'),\n",
       " np.datetime64('2025-01')]"
      ]
     },
     "execution_count": 6,
     "metadata": {},
     "output_type": "execute_result"
    }
   ],
   "source": [
    "unique_months"
   ]
  },
  {
   "cell_type": "code",
   "execution_count": null,
   "id": "1fa03f8e-2daf-4d43-a861-2761894dc3b8",
   "metadata": {
    "tags": []
   },
   "outputs": [
    {
     "name": "stdout",
     "output_type": "stream",
     "text": [
      "1\n"
     ]
    }
   ],
   "source": [
    "for i in range(len(unique_months)):\n",
    "    print(i)\n",
    "    month=unique_months[i]\n",
    "    month_str=str(month)\n",
    "    dates_in_month = [date for date in full_time_list if date.astype('datetime64[M]') == month]\n",
    "    ds_month = ds.sel(time=dates_in_month)\n",
    "    \n",
    "    ds_month = ds_month.chunk({'time': 1}).persist()\n",
    "    print('**')\n",
    "\n",
    "    ds_month.to_netcdf(f'../../data/weather_data2/weather_data_{month_str}.nc', engine='h5netcdf')"
   ]
  },
  {
   "cell_type": "code",
   "execution_count": null,
   "id": "ed47c3fc-777e-4289-96ad-d7206f795404",
   "metadata": {
    "tags": []
   },
   "outputs": [],
   "source": [
    "import matplotlib.pyplot as plt\n",
    "# # Define your latitude and longitude bounds\n",
    "# lat_min, lat_max = 28.6, 33.4  # Example latitude range\n",
    "# lon_min, lon_max = -98.9, -88.3  # Example longitude range\n",
    "\n",
    "# Select one hour of temperature data (e.g., the first timestamp)\n",
    "hour_index = 0  # Change this to select a different hour if desired\n",
    "temperature_data = ds['TMP'].isel(time=hour_index)\n",
    "# temperature_data = ds['Percent_Tree_Cover']\n",
    "\n",
    "# Plot the data with switched axes\n",
    "plt.figure(figsize=(10, 6))\n",
    "\n",
    "# Plot with latitude on x-axis and longitude on y-axis\n",
    "temperature_data.T.plot(\n",
    "    cmap=\"coolwarm\",  # Colormap for temperature visualization\n",
    "    cbar_kwargs={'label': 'Temperature (K)'}  # Add color bar label\n",
    ")\n",
    "\n",
    "# Update axis labels\n",
    "plt.xlabel(\"Latitude\")\n",
    "plt.ylabel(\"Longitude\")\n",
    "\n",
    "plt.show()"
   ]
  }
 ],
 "metadata": {
  "environment": {
   "kernel": "gee_env",
   "name": "workbench-notebooks.m125",
   "type": "gcloud",
   "uri": "us-docker.pkg.dev/deeplearning-platform-release/gcr.io/workbench-notebooks:m125"
  },
  "kernelspec": {
   "display_name": "Python (gee_env) (Local)",
   "language": "python",
   "name": "gee_env"
  },
  "language_info": {
   "codemirror_mode": {
    "name": "ipython",
    "version": 3
   },
   "file_extension": ".py",
   "mimetype": "text/x-python",
   "name": "python",
   "nbconvert_exporter": "python",
   "pygments_lexer": "ipython3",
   "version": "3.13.0"
  }
 },
 "nbformat": 4,
 "nbformat_minor": 5
}
